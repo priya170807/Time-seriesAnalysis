{
  "nbformat": 4,
  "nbformat_minor": 0,
  "metadata": {
    "colab": {
      "name": "transformingvalues.ipynb",
      "provenance": [],
      "collapsed_sections": [],
      "mount_file_id": "1D56gbAMDkTKAyd7zyZZrp4CR-JdkORdQ",
      "authorship_tag": "ABX9TyPhzdno9gj+EO6nofrwOdMT",
      "include_colab_link": true
    },
    "kernelspec": {
      "name": "python3",
      "display_name": "Python 3"
    }
  },
  "cells": [
    {
      "cell_type": "markdown",
      "metadata": {
        "id": "view-in-github",
        "colab_type": "text"
      },
      "source": [
        "<a href=\"https://colab.research.google.com/github/priya170807/Time-seriesAnalysis/blob/main/transformingvalues.ipynb\" target=\"_parent\"><img src=\"https://colab.research.google.com/assets/colab-badge.svg\" alt=\"Open In Colab\"/></a>"
      ]
    },
    {
      "cell_type": "code",
      "metadata": {
        "id": "cebyQHnk5IhK"
      },
      "source": [
        "import numpy as np\n",
        "import pandas as pd\n",
        "import matplotlib.pyplot as plt\n",
        "import seaborn as sns\n",
        "from sklearn.preprocessing import minmax_scale\n",
        "from sklearn.preprocessing import StandardScaler\n",
        "from sklearn.preprocessing import MinMaxScaler\n",
        "from sklearn.preprocessing import RobustScaler"
      ],
      "execution_count": 1,
      "outputs": []
    },
    {
      "cell_type": "code",
      "metadata": {
        "colab": {
          "base_uri": "https://localhost:8080/",
          "height": 295
        },
        "id": "fdfZOD6R5YjI",
        "outputId": "337d891d-b21f-4676-8225-a9d737a523ec"
      },
      "source": [
        "data_path = '/content/drive/MyDrive/vmtable.csv/vmtable.csv'\n",
        "headers=['vmid','subscriptionid','deploymentid','vmcreated', 'vmdeleted', 'maxcpu', 'avgcpu', 'p95maxcpu', 'vmcategory', 'vmcorecount', 'vmmemory']\n",
        "trace_dataframe = pd.read_csv(data_path, header=None, index_col=False,names=headers,delimiter=',')\n",
        "\n",
        "\n",
        "#Compute VM Lifetime based on VM Created and VM Deleted timestamps and transform to Hour\n",
        "trace_dataframe['lifetime'] = np.maximum((trace_dataframe['vmdeleted'] - trace_dataframe['vmcreated']),300)/ 3600\n",
        "trace_dataframe['corehour'] = trace_dataframe['lifetime'] * trace_dataframe['vmcorecount']\n",
        "trace_dataframe.head()"
      ],
      "execution_count": 2,
      "outputs": [
        {
          "output_type": "execute_result",
          "data": {
            "text/html": [
              "<div>\n",
              "<style scoped>\n",
              "    .dataframe tbody tr th:only-of-type {\n",
              "        vertical-align: middle;\n",
              "    }\n",
              "\n",
              "    .dataframe tbody tr th {\n",
              "        vertical-align: top;\n",
              "    }\n",
              "\n",
              "    .dataframe thead th {\n",
              "        text-align: right;\n",
              "    }\n",
              "</style>\n",
              "<table border=\"1\" class=\"dataframe\">\n",
              "  <thead>\n",
              "    <tr style=\"text-align: right;\">\n",
              "      <th></th>\n",
              "      <th>vmid</th>\n",
              "      <th>subscriptionid</th>\n",
              "      <th>deploymentid</th>\n",
              "      <th>vmcreated</th>\n",
              "      <th>vmdeleted</th>\n",
              "      <th>maxcpu</th>\n",
              "      <th>avgcpu</th>\n",
              "      <th>p95maxcpu</th>\n",
              "      <th>vmcategory</th>\n",
              "      <th>vmcorecount</th>\n",
              "      <th>vmmemory</th>\n",
              "      <th>lifetime</th>\n",
              "      <th>corehour</th>\n",
              "    </tr>\n",
              "  </thead>\n",
              "  <tbody>\n",
              "    <tr>\n",
              "      <th>0</th>\n",
              "      <td>x/XsOfHO4ocsV99i4NluqKDuxctW2MMVmwqOPAlg4wp8mq...</td>\n",
              "      <td>VDU4C8cqdr+ORcqquwMRcsBA2l0SC6lCPys0wdghKROuxP...</td>\n",
              "      <td>Pc2VLB8aDxK2DCC96itq4vW/zVDp4wioAUiB3HoGSFYQ0o...</td>\n",
              "      <td>0</td>\n",
              "      <td>2591700</td>\n",
              "      <td>99.369869</td>\n",
              "      <td>3.424094</td>\n",
              "      <td>10.194309</td>\n",
              "      <td>Delay-insensitive</td>\n",
              "      <td>1</td>\n",
              "      <td>1.75</td>\n",
              "      <td>719.916667</td>\n",
              "      <td>719.916667</td>\n",
              "    </tr>\n",
              "    <tr>\n",
              "      <th>1</th>\n",
              "      <td>H5CxmMoVcZSpjgGbohnVA3R+7uCTe/hM2ht2uIYi3t7KwX...</td>\n",
              "      <td>BSXOcywx8pUU0DueDo6UMol1YzR6tn47KLEKaoXp0a1bf2...</td>\n",
              "      <td>3J17LcV4gXjFat62qhVFRfoiWArHnY763HVqqI6orJCfV8...</td>\n",
              "      <td>0</td>\n",
              "      <td>1539300</td>\n",
              "      <td>100.000000</td>\n",
              "      <td>6.181784</td>\n",
              "      <td>33.981360</td>\n",
              "      <td>Interactive</td>\n",
              "      <td>1</td>\n",
              "      <td>0.75</td>\n",
              "      <td>427.583333</td>\n",
              "      <td>427.583333</td>\n",
              "    </tr>\n",
              "    <tr>\n",
              "      <th>2</th>\n",
              "      <td>wR/G1YUjpMP4zUbxGM/XJNhYS8cAK3SGKM2tqhF7VdeTUY...</td>\n",
              "      <td>VDU4C8cqdr+ORcqquwMRcsBA2l0SC6lCPys0wdghKROuxP...</td>\n",
              "      <td>Pc2VLB8aDxK2DCC96itq4vW/zVDp4wioAUiB3HoGSFYQ0o...</td>\n",
              "      <td>2188800</td>\n",
              "      <td>2591700</td>\n",
              "      <td>99.569027</td>\n",
              "      <td>3.573635</td>\n",
              "      <td>7.924250</td>\n",
              "      <td>Delay-insensitive</td>\n",
              "      <td>1</td>\n",
              "      <td>1.75</td>\n",
              "      <td>111.916667</td>\n",
              "      <td>111.916667</td>\n",
              "    </tr>\n",
              "    <tr>\n",
              "      <th>3</th>\n",
              "      <td>1XiU+KpvIa3T1XP8kk3ZY71Of03+ogFL5Pag9Mc2jBuh0Y...</td>\n",
              "      <td>8u+M3WcFp8pq183WoMB79PhK7xUzbaviOBv0qWN6Xn4mbu...</td>\n",
              "      <td>DHbeI+pYTYFjH8JAF8SewM0z/4SqQctvxcBRGIRglBmeLW...</td>\n",
              "      <td>0</td>\n",
              "      <td>2591700</td>\n",
              "      <td>99.405085</td>\n",
              "      <td>16.287611</td>\n",
              "      <td>95.697890</td>\n",
              "      <td>Delay-insensitive</td>\n",
              "      <td>8</td>\n",
              "      <td>56.00</td>\n",
              "      <td>719.916667</td>\n",
              "      <td>5759.333333</td>\n",
              "    </tr>\n",
              "    <tr>\n",
              "      <th>4</th>\n",
              "      <td>z5i2HiSaz6ZdLR6PXdnDjGva3jIlkMPXx23VtfXx9q3dXF...</td>\n",
              "      <td>VDU4C8cqdr+ORcqquwMRcsBA2l0SC6lCPys0wdghKROuxP...</td>\n",
              "      <td>Pc2VLB8aDxK2DCC96itq4vW/zVDp4wioAUiB3HoGSFYQ0o...</td>\n",
              "      <td>0</td>\n",
              "      <td>2188500</td>\n",
              "      <td>98.967961</td>\n",
              "      <td>3.036038</td>\n",
              "      <td>9.445484</td>\n",
              "      <td>Delay-insensitive</td>\n",
              "      <td>1</td>\n",
              "      <td>1.75</td>\n",
              "      <td>607.916667</td>\n",
              "      <td>607.916667</td>\n",
              "    </tr>\n",
              "  </tbody>\n",
              "</table>\n",
              "</div>"
            ],
            "text/plain": [
              "                                                vmid  ...     corehour\n",
              "0  x/XsOfHO4ocsV99i4NluqKDuxctW2MMVmwqOPAlg4wp8mq...  ...   719.916667\n",
              "1  H5CxmMoVcZSpjgGbohnVA3R+7uCTe/hM2ht2uIYi3t7KwX...  ...   427.583333\n",
              "2  wR/G1YUjpMP4zUbxGM/XJNhYS8cAK3SGKM2tqhF7VdeTUY...  ...   111.916667\n",
              "3  1XiU+KpvIa3T1XP8kk3ZY71Of03+ogFL5Pag9Mc2jBuh0Y...  ...  5759.333333\n",
              "4  z5i2HiSaz6ZdLR6PXdnDjGva3jIlkMPXx23VtfXx9q3dXF...  ...   607.916667\n",
              "\n",
              "[5 rows x 13 columns]"
            ]
          },
          "metadata": {
            "tags": []
          },
          "execution_count": 2
        }
      ]
    },
    {
      "cell_type": "code",
      "metadata": {
        "colab": {
          "base_uri": "https://localhost:8080/"
        },
        "id": "TJ24I8A859qn",
        "outputId": "814aece2-5573-4980-e246-7d17cbaff132"
      },
      "source": [
        "vm_count = trace_dataframe.shape[0]\n",
        "subscription_count = trace_dataframe['subscriptionid'].unique().shape[0]\n",
        "deployment_count = trace_dataframe['deploymentid'].unique().shape[0]\n",
        "total_vm_hour_available = trace_dataframe['lifetime'].sum()\n",
        "total_core_hour_available = trace_dataframe['corehour'].sum()\n",
        "\n",
        "print(\"Total Number of Virtual Machines in the Dataset: %d\" % vm_count)\n",
        "print(\"Total Number of Subscriptions in the Dataset: %d\" % subscription_count)\n",
        "print(\"Total Number of Deployments in the Dataset: %d\" % deployment_count)\n",
        "print(\"Total VM Hours Available in the Dataset: %f\" % total_vm_hour_available)\n",
        "print(\"Total Core Hours Available in the Dataset: %f\" % total_core_hour_available)"
      ],
      "execution_count": 3,
      "outputs": [
        {
          "output_type": "stream",
          "text": [
            "Total Number of Virtual Machines in the Dataset: 2013767\n",
            "Total Number of Subscriptions in the Dataset: 5958\n",
            "Total Number of Deployments in the Dataset: 35941\n",
            "Total VM Hours Available in the Dataset: 104371713.416667\n",
            "Total Core Hours Available in the Dataset: 237815104.750000\n"
          ],
          "name": "stdout"
        }
      ]
    },
    {
      "cell_type": "code",
      "metadata": {
        "colab": {
          "base_uri": "https://localhost:8080/"
        },
        "id": "VWoGcF376Dj-",
        "outputId": "84f2c6d8-18cf-4b4a-8820-01ed01dcecb9"
      },
      "source": [
        "trace_dataframe[\"subscriptionid\"].value_counts()"
      ],
      "execution_count": 4,
      "outputs": [
        {
          "output_type": "execute_result",
          "data": {
            "text/plain": [
              "+9OPyI+/Eeu5PSXVMdkPw3cB99+uk+YiAwMRGJU1cDm2ESAgTaUXcM091m1HeTX7    128047\n",
              "1pvP5oaK47WSSY0IZRNEQYdTLEx79rf7Gj1isBYW1jDOFGZXLQGTa0V3XnCrLrkB    111509\n",
              "IBRuELx83WZHD8ZBmRnQ7nN53DxcMPAO7szqGt218k7STW7rx0pjgjj5eLJ0FLbn     93427\n",
              "BShs5OvpbfrccmXj7X4MwSxkSFVNdSOzhYaDEKCijpvxWWkNByokK6c31F1uCT7R     85874\n",
              "8aRytjOt2E+dixkPugZHbKFROou3eQLywft928DTtFP2o3QzFTIxYQ+8r0kdkzvo     68490\n",
              "                                                                     ...  \n",
              "7AVNVlxv7y/yGw3QFxy7p19iY5Hbu8lFfQG/Tdovki65yd4tDO8yxTkFwYJarae2         1\n",
              "UtmlApxRj7c5EH9gxvooY+x2UM6phkXNDv0zqaixrF0c4dL1ARq4NXCHxQViuv3i         1\n",
              "4PenY5eh1jaPofHfCxw8MdHRMrzogX9GKcWHX35fLNScIYW5R1PAWtu8mlKObrEj         1\n",
              "mvuePJXPG5a6iQHH6SxgTUZ7DZNyFnhau8yzstUC2iA6X3ce61uGU6J2elgUb8rh         1\n",
              "29tEX0Pdwi9ziDjq1hxGvJZno8vQkDK+VlL4J1i91A/O3XzZcyjr9TWOIEskifH8         1\n",
              "Name: subscriptionid, Length: 5958, dtype: int64"
            ]
          },
          "metadata": {
            "tags": []
          },
          "execution_count": 4
        }
      ]
    },
    {
      "cell_type": "code",
      "metadata": {
        "id": "p-hEgwBg6JBA"
      },
      "source": [
        "oneVM_data = trace_dataframe[trace_dataframe[\"subscriptionid\"] == \"+9OPyI+/Eeu5PSXVMdkPw3cB99+uk+YiAwMRGJU1cDm2ESAgTaUXcM091m1HeTX7\"]"
      ],
      "execution_count": 5,
      "outputs": []
    },
    {
      "cell_type": "code",
      "metadata": {
        "colab": {
          "base_uri": "https://localhost:8080/",
          "height": 295
        },
        "id": "oBFUvktm6OnZ",
        "outputId": "59868b09-2aa7-40e8-ffce-bf84d033252c"
      },
      "source": [
        "oneVM_data.head()"
      ],
      "execution_count": 6,
      "outputs": [
        {
          "output_type": "execute_result",
          "data": {
            "text/html": [
              "<div>\n",
              "<style scoped>\n",
              "    .dataframe tbody tr th:only-of-type {\n",
              "        vertical-align: middle;\n",
              "    }\n",
              "\n",
              "    .dataframe tbody tr th {\n",
              "        vertical-align: top;\n",
              "    }\n",
              "\n",
              "    .dataframe thead th {\n",
              "        text-align: right;\n",
              "    }\n",
              "</style>\n",
              "<table border=\"1\" class=\"dataframe\">\n",
              "  <thead>\n",
              "    <tr style=\"text-align: right;\">\n",
              "      <th></th>\n",
              "      <th>vmid</th>\n",
              "      <th>subscriptionid</th>\n",
              "      <th>deploymentid</th>\n",
              "      <th>vmcreated</th>\n",
              "      <th>vmdeleted</th>\n",
              "      <th>maxcpu</th>\n",
              "      <th>avgcpu</th>\n",
              "      <th>p95maxcpu</th>\n",
              "      <th>vmcategory</th>\n",
              "      <th>vmcorecount</th>\n",
              "      <th>vmmemory</th>\n",
              "      <th>lifetime</th>\n",
              "      <th>corehour</th>\n",
              "    </tr>\n",
              "  </thead>\n",
              "  <tbody>\n",
              "    <tr>\n",
              "      <th>87435</th>\n",
              "      <td>kIq+LToYe/oJmpZJCT6aYfxRh252I4Bd8FQQIyaLLAST5A...</td>\n",
              "      <td>+9OPyI+/Eeu5PSXVMdkPw3cB99+uk+YiAwMRGJU1cDm2ES...</td>\n",
              "      <td>TSRTTdb9LRjgp+FpJYUBXBczOvLJLO5ksIDZm6OFgtN4Sa...</td>\n",
              "      <td>2305800</td>\n",
              "      <td>2310300</td>\n",
              "      <td>66.909246</td>\n",
              "      <td>2.900874</td>\n",
              "      <td>66.909246</td>\n",
              "      <td>Delay-insensitive</td>\n",
              "      <td>8</td>\n",
              "      <td>14.00</td>\n",
              "      <td>1.250000</td>\n",
              "      <td>10.000000</td>\n",
              "    </tr>\n",
              "    <tr>\n",
              "      <th>87436</th>\n",
              "      <td>T5Hgk7CUx9Z/ANIZ+3TIHran3IGgr4RcUoxGNMmWB5+96a...</td>\n",
              "      <td>+9OPyI+/Eeu5PSXVMdkPw3cB99+uk+YiAwMRGJU1cDm2ES...</td>\n",
              "      <td>TSRTTdb9LRjgp+FpJYUBXBczOvLJLO5ksIDZm6OFgtN4Sa...</td>\n",
              "      <td>2305800</td>\n",
              "      <td>2310300</td>\n",
              "      <td>6.510768</td>\n",
              "      <td>2.087024</td>\n",
              "      <td>6.510768</td>\n",
              "      <td>Delay-insensitive</td>\n",
              "      <td>8</td>\n",
              "      <td>14.00</td>\n",
              "      <td>1.250000</td>\n",
              "      <td>10.000000</td>\n",
              "    </tr>\n",
              "    <tr>\n",
              "      <th>87437</th>\n",
              "      <td>Omelc/JAGTVT51lNOObucJUr93TlFPNhEhyMeMRWrggtoK...</td>\n",
              "      <td>+9OPyI+/Eeu5PSXVMdkPw3cB99+uk+YiAwMRGJU1cDm2ES...</td>\n",
              "      <td>TSRTTdb9LRjgp+FpJYUBXBczOvLJLO5ksIDZm6OFgtN4Sa...</td>\n",
              "      <td>2238900</td>\n",
              "      <td>2244000</td>\n",
              "      <td>66.956558</td>\n",
              "      <td>3.139114</td>\n",
              "      <td>66.956558</td>\n",
              "      <td>Unkown</td>\n",
              "      <td>8</td>\n",
              "      <td>14.00</td>\n",
              "      <td>1.416667</td>\n",
              "      <td>11.333333</td>\n",
              "    </tr>\n",
              "    <tr>\n",
              "      <th>87438</th>\n",
              "      <td>Xrz83UV+7HsyDhOSClTCpitt73f4NVIqxBJIoXgNVOSiCW...</td>\n",
              "      <td>+9OPyI+/Eeu5PSXVMdkPw3cB99+uk+YiAwMRGJU1cDm2ES...</td>\n",
              "      <td>TSRTTdb9LRjgp+FpJYUBXBczOvLJLO5ksIDZm6OFgtN4Sa...</td>\n",
              "      <td>1103700</td>\n",
              "      <td>1104000</td>\n",
              "      <td>98.795780</td>\n",
              "      <td>27.330195</td>\n",
              "      <td>98.795780</td>\n",
              "      <td>Delay-insensitive</td>\n",
              "      <td>1</td>\n",
              "      <td>1.75</td>\n",
              "      <td>0.083333</td>\n",
              "      <td>0.083333</td>\n",
              "    </tr>\n",
              "    <tr>\n",
              "      <th>87439</th>\n",
              "      <td>BFJu/lrNsLRY1anlsPB7Ii3cPuz9pavIuk72SKjTo50qyf...</td>\n",
              "      <td>+9OPyI+/Eeu5PSXVMdkPw3cB99+uk+YiAwMRGJU1cDm2ES...</td>\n",
              "      <td>TSRTTdb9LRjgp+FpJYUBXBczOvLJLO5ksIDZm6OFgtN4Sa...</td>\n",
              "      <td>2484600</td>\n",
              "      <td>2505600</td>\n",
              "      <td>6.472197</td>\n",
              "      <td>1.686090</td>\n",
              "      <td>5.768269</td>\n",
              "      <td>Delay-insensitive</td>\n",
              "      <td>8</td>\n",
              "      <td>14.00</td>\n",
              "      <td>5.833333</td>\n",
              "      <td>46.666667</td>\n",
              "    </tr>\n",
              "  </tbody>\n",
              "</table>\n",
              "</div>"
            ],
            "text/plain": [
              "                                                    vmid  ...   corehour\n",
              "87435  kIq+LToYe/oJmpZJCT6aYfxRh252I4Bd8FQQIyaLLAST5A...  ...  10.000000\n",
              "87436  T5Hgk7CUx9Z/ANIZ+3TIHran3IGgr4RcUoxGNMmWB5+96a...  ...  10.000000\n",
              "87437  Omelc/JAGTVT51lNOObucJUr93TlFPNhEhyMeMRWrggtoK...  ...  11.333333\n",
              "87438  Xrz83UV+7HsyDhOSClTCpitt73f4NVIqxBJIoXgNVOSiCW...  ...   0.083333\n",
              "87439  BFJu/lrNsLRY1anlsPB7Ii3cPuz9pavIuk72SKjTo50qyf...  ...  46.666667\n",
              "\n",
              "[5 rows x 13 columns]"
            ]
          },
          "metadata": {
            "tags": []
          },
          "execution_count": 6
        }
      ]
    },
    {
      "cell_type": "code",
      "metadata": {
        "colab": {
          "base_uri": "https://localhost:8080/"
        },
        "id": "E_spTDjW6SaH",
        "outputId": "31c7d054-3e6e-4ab6-b416-a126a712f3b3"
      },
      "source": [
        "len(oneVM_data)"
      ],
      "execution_count": 7,
      "outputs": [
        {
          "output_type": "execute_result",
          "data": {
            "text/plain": [
              "128047"
            ]
          },
          "metadata": {
            "tags": []
          },
          "execution_count": 7
        }
      ]
    },
    {
      "cell_type": "code",
      "metadata": {
        "id": "DExOeO2S6Ymc"
      },
      "source": [
        "oneVM_data.reset_index(drop=True, inplace=True)"
      ],
      "execution_count": 8,
      "outputs": []
    },
    {
      "cell_type": "code",
      "metadata": {
        "id": "fMrhC4Yb6d5F"
      },
      "source": [
        "yearly_data = oneVM_data.loc[0:8039]"
      ],
      "execution_count": 9,
      "outputs": []
    },
    {
      "cell_type": "code",
      "metadata": {
        "id": "qcdulZZU6hcl"
      },
      "source": [
        "from datetime import datetime\n",
        "from datetime import datetime\n",
        "timestamp = pd.date_range('2020-01-01', periods=8040, freq='H')\n",
        "#bytes_df[\"Timestamp\"] = pd.date_range(datetime(2020, 11, 15, hour=23, minute=0), periods=3945, freq='5min')"
      ],
      "execution_count": 10,
      "outputs": []
    },
    {
      "cell_type": "code",
      "metadata": {
        "id": "oUJhr4PJ6k7z"
      },
      "source": [
        "time_stamp = pd.Series(timestamp)"
      ],
      "execution_count": 11,
      "outputs": []
    },
    {
      "cell_type": "code",
      "metadata": {
        "colab": {
          "base_uri": "https://localhost:8080/"
        },
        "id": "zvzBjknD0b7e",
        "outputId": "125a3111-8b5e-46dd-baac-ea2fe90beeaf"
      },
      "source": [
        "time_stamp"
      ],
      "execution_count": 288,
      "outputs": [
        {
          "output_type": "execute_result",
          "data": {
            "text/plain": [
              "0      2020-01-01 00:00:00\n",
              "1      2020-01-01 01:00:00\n",
              "2      2020-01-01 02:00:00\n",
              "3      2020-01-01 03:00:00\n",
              "4      2020-01-01 04:00:00\n",
              "               ...        \n",
              "8035   2020-11-30 19:00:00\n",
              "8036   2020-11-30 20:00:00\n",
              "8037   2020-11-30 21:00:00\n",
              "8038   2020-11-30 22:00:00\n",
              "8039   2020-11-30 23:00:00\n",
              "Length: 8040, dtype: datetime64[ns]"
            ]
          },
          "metadata": {
            "tags": []
          },
          "execution_count": 288
        }
      ]
    },
    {
      "cell_type": "code",
      "metadata": {
        "id": "EcaImW7U6ryH"
      },
      "source": [
        "useful_data = yearly_data[[\"maxcpu\",\"lifetime\",\"corehour\"]]"
      ],
      "execution_count": 12,
      "outputs": []
    },
    {
      "cell_type": "code",
      "metadata": {
        "colab": {
          "base_uri": "https://localhost:8080/"
        },
        "id": "nyxkaMcC6vOq",
        "outputId": "0ea68b11-90c1-4e59-e6c0-0e60fa74e3c4"
      },
      "source": [
        "useful_data[\"timestamp\"] = time_stamp"
      ],
      "execution_count": 13,
      "outputs": [
        {
          "output_type": "stream",
          "text": [
            "/usr/local/lib/python3.6/dist-packages/ipykernel_launcher.py:1: SettingWithCopyWarning: \n",
            "A value is trying to be set on a copy of a slice from a DataFrame.\n",
            "Try using .loc[row_indexer,col_indexer] = value instead\n",
            "\n",
            "See the caveats in the documentation: https://pandas.pydata.org/pandas-docs/stable/user_guide/indexing.html#returning-a-view-versus-a-copy\n",
            "  \"\"\"Entry point for launching an IPython kernel.\n"
          ],
          "name": "stderr"
        }
      ]
    },
    {
      "cell_type": "code",
      "metadata": {
        "colab": {
          "base_uri": "https://localhost:8080/",
          "height": 206
        },
        "id": "Ts2Jdpcw6ya-",
        "outputId": "bca16b35-36f8-419e-ea75-e639094544ff"
      },
      "source": [
        "useful_data.head()"
      ],
      "execution_count": 14,
      "outputs": [
        {
          "output_type": "execute_result",
          "data": {
            "text/html": [
              "<div>\n",
              "<style scoped>\n",
              "    .dataframe tbody tr th:only-of-type {\n",
              "        vertical-align: middle;\n",
              "    }\n",
              "\n",
              "    .dataframe tbody tr th {\n",
              "        vertical-align: top;\n",
              "    }\n",
              "\n",
              "    .dataframe thead th {\n",
              "        text-align: right;\n",
              "    }\n",
              "</style>\n",
              "<table border=\"1\" class=\"dataframe\">\n",
              "  <thead>\n",
              "    <tr style=\"text-align: right;\">\n",
              "      <th></th>\n",
              "      <th>maxcpu</th>\n",
              "      <th>lifetime</th>\n",
              "      <th>corehour</th>\n",
              "      <th>timestamp</th>\n",
              "    </tr>\n",
              "  </thead>\n",
              "  <tbody>\n",
              "    <tr>\n",
              "      <th>0</th>\n",
              "      <td>66.909246</td>\n",
              "      <td>1.250000</td>\n",
              "      <td>10.000000</td>\n",
              "      <td>2020-01-01 00:00:00</td>\n",
              "    </tr>\n",
              "    <tr>\n",
              "      <th>1</th>\n",
              "      <td>6.510768</td>\n",
              "      <td>1.250000</td>\n",
              "      <td>10.000000</td>\n",
              "      <td>2020-01-01 01:00:00</td>\n",
              "    </tr>\n",
              "    <tr>\n",
              "      <th>2</th>\n",
              "      <td>66.956558</td>\n",
              "      <td>1.416667</td>\n",
              "      <td>11.333333</td>\n",
              "      <td>2020-01-01 02:00:00</td>\n",
              "    </tr>\n",
              "    <tr>\n",
              "      <th>3</th>\n",
              "      <td>98.795780</td>\n",
              "      <td>0.083333</td>\n",
              "      <td>0.083333</td>\n",
              "      <td>2020-01-01 03:00:00</td>\n",
              "    </tr>\n",
              "    <tr>\n",
              "      <th>4</th>\n",
              "      <td>6.472197</td>\n",
              "      <td>5.833333</td>\n",
              "      <td>46.666667</td>\n",
              "      <td>2020-01-01 04:00:00</td>\n",
              "    </tr>\n",
              "  </tbody>\n",
              "</table>\n",
              "</div>"
            ],
            "text/plain": [
              "      maxcpu  lifetime   corehour           timestamp\n",
              "0  66.909246  1.250000  10.000000 2020-01-01 00:00:00\n",
              "1   6.510768  1.250000  10.000000 2020-01-01 01:00:00\n",
              "2  66.956558  1.416667  11.333333 2020-01-01 02:00:00\n",
              "3  98.795780  0.083333   0.083333 2020-01-01 03:00:00\n",
              "4   6.472197  5.833333  46.666667 2020-01-01 04:00:00"
            ]
          },
          "metadata": {
            "tags": []
          },
          "execution_count": 14
        }
      ]
    },
    {
      "cell_type": "code",
      "metadata": {
        "colab": {
          "base_uri": "https://localhost:8080/"
        },
        "id": "bB-PVc9G65T5",
        "outputId": "c33a14df-87cf-48a4-a2d6-3fa357767f1f"
      },
      "source": [
        "len(useful_data)"
      ],
      "execution_count": 15,
      "outputs": [
        {
          "output_type": "execute_result",
          "data": {
            "text/plain": [
              "8040"
            ]
          },
          "metadata": {
            "tags": []
          },
          "execution_count": 15
        }
      ]
    },
    {
      "cell_type": "code",
      "metadata": {
        "colab": {
          "base_uri": "https://localhost:8080/",
          "height": 990
        },
        "id": "478agR6B68h8",
        "outputId": "f9c846d5-9b39-4d6f-885a-6bd07fc602f8"
      },
      "source": [
        "useful_data.tail(30)"
      ],
      "execution_count": 16,
      "outputs": [
        {
          "output_type": "execute_result",
          "data": {
            "text/html": [
              "<div>\n",
              "<style scoped>\n",
              "    .dataframe tbody tr th:only-of-type {\n",
              "        vertical-align: middle;\n",
              "    }\n",
              "\n",
              "    .dataframe tbody tr th {\n",
              "        vertical-align: top;\n",
              "    }\n",
              "\n",
              "    .dataframe thead th {\n",
              "        text-align: right;\n",
              "    }\n",
              "</style>\n",
              "<table border=\"1\" class=\"dataframe\">\n",
              "  <thead>\n",
              "    <tr style=\"text-align: right;\">\n",
              "      <th></th>\n",
              "      <th>maxcpu</th>\n",
              "      <th>lifetime</th>\n",
              "      <th>corehour</th>\n",
              "      <th>timestamp</th>\n",
              "    </tr>\n",
              "  </thead>\n",
              "  <tbody>\n",
              "    <tr>\n",
              "      <th>8010</th>\n",
              "      <td>81.415642</td>\n",
              "      <td>0.500000</td>\n",
              "      <td>1.000000</td>\n",
              "      <td>2020-11-29 18:00:00</td>\n",
              "    </tr>\n",
              "    <tr>\n",
              "      <th>8011</th>\n",
              "      <td>97.221776</td>\n",
              "      <td>2.666667</td>\n",
              "      <td>5.333333</td>\n",
              "      <td>2020-11-29 19:00:00</td>\n",
              "    </tr>\n",
              "    <tr>\n",
              "      <th>8012</th>\n",
              "      <td>78.745785</td>\n",
              "      <td>0.833333</td>\n",
              "      <td>1.666667</td>\n",
              "      <td>2020-11-29 20:00:00</td>\n",
              "    </tr>\n",
              "    <tr>\n",
              "      <th>8013</th>\n",
              "      <td>45.376215</td>\n",
              "      <td>0.166667</td>\n",
              "      <td>0.333333</td>\n",
              "      <td>2020-11-29 21:00:00</td>\n",
              "    </tr>\n",
              "    <tr>\n",
              "      <th>8014</th>\n",
              "      <td>94.138121</td>\n",
              "      <td>0.916667</td>\n",
              "      <td>1.833333</td>\n",
              "      <td>2020-11-29 22:00:00</td>\n",
              "    </tr>\n",
              "    <tr>\n",
              "      <th>8015</th>\n",
              "      <td>37.655799</td>\n",
              "      <td>0.250000</td>\n",
              "      <td>0.500000</td>\n",
              "      <td>2020-11-29 23:00:00</td>\n",
              "    </tr>\n",
              "    <tr>\n",
              "      <th>8016</th>\n",
              "      <td>4.246782</td>\n",
              "      <td>0.916667</td>\n",
              "      <td>7.333333</td>\n",
              "      <td>2020-11-30 00:00:00</td>\n",
              "    </tr>\n",
              "    <tr>\n",
              "      <th>8017</th>\n",
              "      <td>48.743738</td>\n",
              "      <td>2.416667</td>\n",
              "      <td>4.833333</td>\n",
              "      <td>2020-11-30 01:00:00</td>\n",
              "    </tr>\n",
              "    <tr>\n",
              "      <th>8018</th>\n",
              "      <td>67.917669</td>\n",
              "      <td>0.416667</td>\n",
              "      <td>0.833333</td>\n",
              "      <td>2020-11-30 02:00:00</td>\n",
              "    </tr>\n",
              "    <tr>\n",
              "      <th>8019</th>\n",
              "      <td>41.664353</td>\n",
              "      <td>0.500000</td>\n",
              "      <td>1.000000</td>\n",
              "      <td>2020-11-30 03:00:00</td>\n",
              "    </tr>\n",
              "    <tr>\n",
              "      <th>8020</th>\n",
              "      <td>59.243742</td>\n",
              "      <td>0.916667</td>\n",
              "      <td>7.333333</td>\n",
              "      <td>2020-11-30 04:00:00</td>\n",
              "    </tr>\n",
              "    <tr>\n",
              "      <th>8021</th>\n",
              "      <td>5.758188</td>\n",
              "      <td>0.833333</td>\n",
              "      <td>6.666667</td>\n",
              "      <td>2020-11-30 05:00:00</td>\n",
              "    </tr>\n",
              "    <tr>\n",
              "      <th>8022</th>\n",
              "      <td>83.519528</td>\n",
              "      <td>0.333333</td>\n",
              "      <td>1.333333</td>\n",
              "      <td>2020-11-30 06:00:00</td>\n",
              "    </tr>\n",
              "    <tr>\n",
              "      <th>8023</th>\n",
              "      <td>65.562367</td>\n",
              "      <td>0.250000</td>\n",
              "      <td>1.000000</td>\n",
              "      <td>2020-11-30 07:00:00</td>\n",
              "    </tr>\n",
              "    <tr>\n",
              "      <th>8024</th>\n",
              "      <td>91.856950</td>\n",
              "      <td>0.333333</td>\n",
              "      <td>1.333333</td>\n",
              "      <td>2020-11-30 08:00:00</td>\n",
              "    </tr>\n",
              "    <tr>\n",
              "      <th>8025</th>\n",
              "      <td>87.673224</td>\n",
              "      <td>0.250000</td>\n",
              "      <td>1.000000</td>\n",
              "      <td>2020-11-30 09:00:00</td>\n",
              "    </tr>\n",
              "    <tr>\n",
              "      <th>8026</th>\n",
              "      <td>45.630474</td>\n",
              "      <td>4.416667</td>\n",
              "      <td>35.333333</td>\n",
              "      <td>2020-11-30 10:00:00</td>\n",
              "    </tr>\n",
              "    <tr>\n",
              "      <th>8027</th>\n",
              "      <td>69.279224</td>\n",
              "      <td>0.333333</td>\n",
              "      <td>1.333333</td>\n",
              "      <td>2020-11-30 11:00:00</td>\n",
              "    </tr>\n",
              "    <tr>\n",
              "      <th>8028</th>\n",
              "      <td>99.016576</td>\n",
              "      <td>2.083333</td>\n",
              "      <td>16.666667</td>\n",
              "      <td>2020-11-30 12:00:00</td>\n",
              "    </tr>\n",
              "    <tr>\n",
              "      <th>8029</th>\n",
              "      <td>99.643539</td>\n",
              "      <td>2.083333</td>\n",
              "      <td>16.666667</td>\n",
              "      <td>2020-11-30 13:00:00</td>\n",
              "    </tr>\n",
              "    <tr>\n",
              "      <th>8030</th>\n",
              "      <td>99.112660</td>\n",
              "      <td>7.000000</td>\n",
              "      <td>28.000000</td>\n",
              "      <td>2020-11-30 14:00:00</td>\n",
              "    </tr>\n",
              "    <tr>\n",
              "      <th>8031</th>\n",
              "      <td>81.818570</td>\n",
              "      <td>1.416667</td>\n",
              "      <td>5.666667</td>\n",
              "      <td>2020-11-30 15:00:00</td>\n",
              "    </tr>\n",
              "    <tr>\n",
              "      <th>8032</th>\n",
              "      <td>72.446938</td>\n",
              "      <td>0.250000</td>\n",
              "      <td>1.000000</td>\n",
              "      <td>2020-11-30 16:00:00</td>\n",
              "    </tr>\n",
              "    <tr>\n",
              "      <th>8033</th>\n",
              "      <td>98.868372</td>\n",
              "      <td>2.416667</td>\n",
              "      <td>19.333333</td>\n",
              "      <td>2020-11-30 17:00:00</td>\n",
              "    </tr>\n",
              "    <tr>\n",
              "      <th>8034</th>\n",
              "      <td>12.313078</td>\n",
              "      <td>4.416667</td>\n",
              "      <td>35.333333</td>\n",
              "      <td>2020-11-30 18:00:00</td>\n",
              "    </tr>\n",
              "    <tr>\n",
              "      <th>8035</th>\n",
              "      <td>89.453653</td>\n",
              "      <td>0.250000</td>\n",
              "      <td>1.000000</td>\n",
              "      <td>2020-11-30 19:00:00</td>\n",
              "    </tr>\n",
              "    <tr>\n",
              "      <th>8036</th>\n",
              "      <td>98.841736</td>\n",
              "      <td>2.416667</td>\n",
              "      <td>19.333333</td>\n",
              "      <td>2020-11-30 20:00:00</td>\n",
              "    </tr>\n",
              "    <tr>\n",
              "      <th>8037</th>\n",
              "      <td>70.042481</td>\n",
              "      <td>0.250000</td>\n",
              "      <td>1.000000</td>\n",
              "      <td>2020-11-30 21:00:00</td>\n",
              "    </tr>\n",
              "    <tr>\n",
              "      <th>8038</th>\n",
              "      <td>47.881668</td>\n",
              "      <td>4.416667</td>\n",
              "      <td>35.333333</td>\n",
              "      <td>2020-11-30 22:00:00</td>\n",
              "    </tr>\n",
              "    <tr>\n",
              "      <th>8039</th>\n",
              "      <td>80.857566</td>\n",
              "      <td>2.083333</td>\n",
              "      <td>16.666667</td>\n",
              "      <td>2020-11-30 23:00:00</td>\n",
              "    </tr>\n",
              "  </tbody>\n",
              "</table>\n",
              "</div>"
            ],
            "text/plain": [
              "         maxcpu  lifetime   corehour           timestamp\n",
              "8010  81.415642  0.500000   1.000000 2020-11-29 18:00:00\n",
              "8011  97.221776  2.666667   5.333333 2020-11-29 19:00:00\n",
              "8012  78.745785  0.833333   1.666667 2020-11-29 20:00:00\n",
              "8013  45.376215  0.166667   0.333333 2020-11-29 21:00:00\n",
              "8014  94.138121  0.916667   1.833333 2020-11-29 22:00:00\n",
              "8015  37.655799  0.250000   0.500000 2020-11-29 23:00:00\n",
              "8016   4.246782  0.916667   7.333333 2020-11-30 00:00:00\n",
              "8017  48.743738  2.416667   4.833333 2020-11-30 01:00:00\n",
              "8018  67.917669  0.416667   0.833333 2020-11-30 02:00:00\n",
              "8019  41.664353  0.500000   1.000000 2020-11-30 03:00:00\n",
              "8020  59.243742  0.916667   7.333333 2020-11-30 04:00:00\n",
              "8021   5.758188  0.833333   6.666667 2020-11-30 05:00:00\n",
              "8022  83.519528  0.333333   1.333333 2020-11-30 06:00:00\n",
              "8023  65.562367  0.250000   1.000000 2020-11-30 07:00:00\n",
              "8024  91.856950  0.333333   1.333333 2020-11-30 08:00:00\n",
              "8025  87.673224  0.250000   1.000000 2020-11-30 09:00:00\n",
              "8026  45.630474  4.416667  35.333333 2020-11-30 10:00:00\n",
              "8027  69.279224  0.333333   1.333333 2020-11-30 11:00:00\n",
              "8028  99.016576  2.083333  16.666667 2020-11-30 12:00:00\n",
              "8029  99.643539  2.083333  16.666667 2020-11-30 13:00:00\n",
              "8030  99.112660  7.000000  28.000000 2020-11-30 14:00:00\n",
              "8031  81.818570  1.416667   5.666667 2020-11-30 15:00:00\n",
              "8032  72.446938  0.250000   1.000000 2020-11-30 16:00:00\n",
              "8033  98.868372  2.416667  19.333333 2020-11-30 17:00:00\n",
              "8034  12.313078  4.416667  35.333333 2020-11-30 18:00:00\n",
              "8035  89.453653  0.250000   1.000000 2020-11-30 19:00:00\n",
              "8036  98.841736  2.416667  19.333333 2020-11-30 20:00:00\n",
              "8037  70.042481  0.250000   1.000000 2020-11-30 21:00:00\n",
              "8038  47.881668  4.416667  35.333333 2020-11-30 22:00:00\n",
              "8039  80.857566  2.083333  16.666667 2020-11-30 23:00:00"
            ]
          },
          "metadata": {
            "tags": []
          },
          "execution_count": 16
        }
      ]
    },
    {
      "cell_type": "code",
      "metadata": {
        "id": "QRkx8bW27Y0D"
      },
      "source": [
        "useful_cpu = useful_data.copy()"
      ],
      "execution_count": 18,
      "outputs": []
    },
    {
      "cell_type": "code",
      "metadata": {
        "id": "C62iWxVS7gwk"
      },
      "source": [
        "maxcpu_column = useful_cpu[\"maxcpu\"].sort_values()"
      ],
      "execution_count": 23,
      "outputs": []
    },
    {
      "cell_type": "code",
      "metadata": {
        "id": "w8HfTDZnAcD0"
      },
      "source": [
        "maxcpu_column = maxcpu_column.reset_index(drop=True)"
      ],
      "execution_count": 37,
      "outputs": []
    },
    {
      "cell_type": "code",
      "metadata": {
        "colab": {
          "base_uri": "https://localhost:8080/"
        },
        "id": "Gig2fUhNArzC",
        "outputId": "3a4f840c-1463-411c-af8c-4dead862cf3e"
      },
      "source": [
        "maxcpu_column"
      ],
      "execution_count": 38,
      "outputs": [
        {
          "output_type": "execute_result",
          "data": {
            "text/plain": [
              "0         0.826642\n",
              "1         1.392564\n",
              "2         1.395871\n",
              "3         1.408902\n",
              "4         1.437892\n",
              "           ...    \n",
              "8035    100.000000\n",
              "8036    100.000000\n",
              "8037    100.000000\n",
              "8038    100.000000\n",
              "8039    100.000000\n",
              "Name: maxcpu, Length: 8040, dtype: float64"
            ]
          },
          "metadata": {
            "tags": []
          },
          "execution_count": 38
        }
      ]
    },
    {
      "cell_type": "code",
      "metadata": {
        "id": "Sb5nX-uN9VcL"
      },
      "source": [
        "maxcpu_column_values = maxcpu_column.values"
      ],
      "execution_count": 39,
      "outputs": []
    },
    {
      "cell_type": "code",
      "metadata": {
        "colab": {
          "base_uri": "https://localhost:8080/"
        },
        "id": "cvVCwCvl9aG7",
        "outputId": "c8557f2f-2b4c-4fdb-ecc1-73b6d5d83adf"
      },
      "source": [
        "maxcpu_column_values\n"
      ],
      "execution_count": 40,
      "outputs": [
        {
          "output_type": "execute_result",
          "data": {
            "text/plain": [
              "array([  0.826642,   1.392564,   1.395871, ..., 100.      , 100.      ,\n",
              "       100.      ])"
            ]
          },
          "metadata": {
            "tags": []
          },
          "execution_count": 40
        }
      ]
    },
    {
      "cell_type": "code",
      "metadata": {
        "id": "7aTim2VO9qVt"
      },
      "source": [
        "def calculate_percentile_index(p):\n",
        "  x=maxcpu_column_values\n",
        "  pcen=np.percentile(x,p,interpolation='nearest')\n",
        "  index_near=abs(x-pcen).argmin()\n",
        "  return pcen, index_near\n"
      ],
      "execution_count": 51,
      "outputs": []
    },
    {
      "cell_type": "code",
      "metadata": {
        "id": "oeVmUTfPCLdO"
      },
      "source": [
        "p25, index25 = calculate_percentile_index(p=25)"
      ],
      "execution_count": 52,
      "outputs": []
    },
    {
      "cell_type": "code",
      "metadata": {
        "colab": {
          "base_uri": "https://localhost:8080/"
        },
        "id": "qKOPJBLDCWrb",
        "outputId": "b0a06d04-533d-4eaa-c017-db9f86602b12"
      },
      "source": [
        "print(\"the value of the 25th percentile ={}\".format(p25))\n",
        "print(\"the value of the index of 25th percentile ={}\".format(index25))"
      ],
      "execution_count": 53,
      "outputs": [
        {
          "output_type": "stream",
          "text": [
            "the value of the 25th percentile =60.90824\n",
            "the value of the index of 25th percentile =2010\n"
          ],
          "name": "stdout"
        }
      ]
    },
    {
      "cell_type": "code",
      "metadata": {
        "id": "A-xEEa50AIRB"
      },
      "source": [
        "#maxcpu_column.loc[0:2010]"
      ],
      "execution_count": 46,
      "outputs": []
    },
    {
      "cell_type": "code",
      "metadata": {
        "id": "6uIL1KfqAWTt"
      },
      "source": [
        "# Mean of the values lying below the 25 percentile.\n",
        "maxcpu_column_values_25mean =  np.mean(maxcpu_column_values[0:2010])"
      ],
      "execution_count": 49,
      "outputs": []
    },
    {
      "cell_type": "code",
      "metadata": {
        "colab": {
          "base_uri": "https://localhost:8080/"
        },
        "id": "5-b18gQgBQ9c",
        "outputId": "14f0d7f9-0b7f-4007-80d6-a4f5becbc0c6"
      },
      "source": [
        "maxcpu_column_values_25mean"
      ],
      "execution_count": 50,
      "outputs": [
        {
          "output_type": "execute_result",
          "data": {
            "text/plain": [
              "33.652115095024875"
            ]
          },
          "metadata": {
            "tags": []
          },
          "execution_count": 50
        }
      ]
    },
    {
      "cell_type": "code",
      "metadata": {
        "id": "DSUeZ_5OBTEY"
      },
      "source": [
        "# calculate the 50th percentile of the maxcpu_column_values\n",
        "p50, index50 = calculate_percentile_index(p=50)"
      ],
      "execution_count": 54,
      "outputs": []
    },
    {
      "cell_type": "code",
      "metadata": {
        "colab": {
          "base_uri": "https://localhost:8080/"
        },
        "id": "bu_fjbaBC0x5",
        "outputId": "eac4eefd-fb6a-4c01-d200-ccb3c75699ab"
      },
      "source": [
        "print(\"the value of the 50th percentile ={}\".format(p50))\n",
        "print(\"the value of the index of 50th percentile ={}\".format(index50))"
      ],
      "execution_count": 55,
      "outputs": [
        {
          "output_type": "stream",
          "text": [
            "the value of the 50th percentile =82.566898\n",
            "the value of the index of 50th percentile =4020\n"
          ],
          "name": "stdout"
        }
      ]
    },
    {
      "cell_type": "code",
      "metadata": {
        "colab": {
          "base_uri": "https://localhost:8080/"
        },
        "id": "JAPPt7JXDF1z",
        "outputId": "76ba8a68-e81a-4b74-c2eb-df9d36f6de5b"
      },
      "source": [
        "maxcpu_column.loc[0:4020]"
      ],
      "execution_count": 56,
      "outputs": [
        {
          "output_type": "execute_result",
          "data": {
            "text/plain": [
              "0        0.826642\n",
              "1        1.392564\n",
              "2        1.395871\n",
              "3        1.408902\n",
              "4        1.437892\n",
              "          ...    \n",
              "4016    82.552179\n",
              "4017    82.554134\n",
              "4018    82.561179\n",
              "4019    82.562935\n",
              "4020    82.566898\n",
              "Name: maxcpu, Length: 4021, dtype: float64"
            ]
          },
          "metadata": {
            "tags": []
          },
          "execution_count": 56
        }
      ]
    },
    {
      "cell_type": "code",
      "metadata": {
        "id": "f54jQjMYC968"
      },
      "source": [
        "maxcpu_column_values_50mean =  np.mean(maxcpu_column_values[0:4020])"
      ],
      "execution_count": 58,
      "outputs": []
    },
    {
      "cell_type": "code",
      "metadata": {
        "colab": {
          "base_uri": "https://localhost:8080/"
        },
        "id": "zw7tN5x7DRCG",
        "outputId": "80651365-b58e-452c-a10a-582ccb5a2037"
      },
      "source": [
        "maxcpu_column_values_50mean"
      ],
      "execution_count": 59,
      "outputs": [
        {
          "output_type": "execute_result",
          "data": {
            "text/plain": [
              "53.809987041542286"
            ]
          },
          "metadata": {
            "tags": []
          },
          "execution_count": 59
        }
      ]
    },
    {
      "cell_type": "code",
      "metadata": {
        "id": "pCxCocuAEDEr"
      },
      "source": [
        "# calculate the 75th percentile of the maxcpu_column_values\n",
        "p75, index75 = calculate_percentile_index(p=75)"
      ],
      "execution_count": 62,
      "outputs": []
    },
    {
      "cell_type": "code",
      "metadata": {
        "colab": {
          "base_uri": "https://localhost:8080/"
        },
        "id": "IvVBN5WqEDBD",
        "outputId": "4c88c584-d28f-4399-ce18-9a3f1a7d9f0b"
      },
      "source": [
        "print(\"the value of the 75th percentile ={}\".format(p75))\n",
        "print(\"the value of the index of 75th percentile ={}\".format(index75))"
      ],
      "execution_count": 63,
      "outputs": [
        {
          "output_type": "stream",
          "text": [
            "the value of the 75th percentile =95.508126\n",
            "the value of the index of 75th percentile =6029\n"
          ],
          "name": "stdout"
        }
      ]
    },
    {
      "cell_type": "code",
      "metadata": {
        "colab": {
          "base_uri": "https://localhost:8080/"
        },
        "id": "2W9o19ZxEC_d",
        "outputId": "1a4dd1ba-6c3c-46a0-d901-de1092eef34a"
      },
      "source": [
        "maxcpu_column.loc[0:6029]"
      ],
      "execution_count": 64,
      "outputs": [
        {
          "output_type": "execute_result",
          "data": {
            "text/plain": [
              "0        0.826642\n",
              "1        1.392564\n",
              "2        1.395871\n",
              "3        1.408902\n",
              "4        1.437892\n",
              "          ...    \n",
              "6025    95.474004\n",
              "6026    95.479122\n",
              "6027    95.479974\n",
              "6028    95.491742\n",
              "6029    95.508126\n",
              "Name: maxcpu, Length: 6030, dtype: float64"
            ]
          },
          "metadata": {
            "tags": []
          },
          "execution_count": 64
        }
      ]
    },
    {
      "cell_type": "code",
      "metadata": {
        "id": "zyYbXt5KEC7w"
      },
      "source": [
        "maxcpu_column_values_75mean =  np.mean(maxcpu_column_values[0:6029])"
      ],
      "execution_count": 65,
      "outputs": []
    },
    {
      "cell_type": "code",
      "metadata": {
        "colab": {
          "base_uri": "https://localhost:8080/"
        },
        "id": "aF5KghZXEC6I",
        "outputId": "46f2e34d-73ed-4eb5-8089-10fe398e90ab"
      },
      "source": [
        "maxcpu_column_values_75mean"
      ],
      "execution_count": 66,
      "outputs": [
        {
          "output_type": "execute_result",
          "data": {
            "text/plain": [
              "65.63750630204014"
            ]
          },
          "metadata": {
            "tags": []
          },
          "execution_count": 66
        }
      ]
    },
    {
      "cell_type": "code",
      "metadata": {
        "id": "Uo5TSduZEC2y"
      },
      "source": [
        "# calculate the 100th percentile of the maxcpu_column_values\n",
        "p100, index100 = calculate_percentile_index(p=100)"
      ],
      "execution_count": 67,
      "outputs": []
    },
    {
      "cell_type": "code",
      "metadata": {
        "colab": {
          "base_uri": "https://localhost:8080/"
        },
        "id": "QgPtME8-EC1B",
        "outputId": "0a19936d-120b-42f1-a929-b94504e7b26a"
      },
      "source": [
        "print(\"the value of the 100th percentile ={}\".format(p100))\n",
        "print(\"the value of the index of 100th percentile ={}\".format(index100))"
      ],
      "execution_count": 68,
      "outputs": [
        {
          "output_type": "stream",
          "text": [
            "the value of the 100th percentile =100.0\n",
            "the value of the index of 100th percentile =7947\n"
          ],
          "name": "stdout"
        }
      ]
    },
    {
      "cell_type": "code",
      "metadata": {
        "colab": {
          "base_uri": "https://localhost:8080/"
        },
        "id": "K_M-PaToFRYU",
        "outputId": "c0242d23-f785-4866-f9f3-b36b53c86c56"
      },
      "source": [
        "maxcpu_column.loc[0:7947]"
      ],
      "execution_count": 69,
      "outputs": [
        {
          "output_type": "execute_result",
          "data": {
            "text/plain": [
              "0         0.826642\n",
              "1         1.392564\n",
              "2         1.395871\n",
              "3         1.408902\n",
              "4         1.437892\n",
              "           ...    \n",
              "7943     99.988707\n",
              "7944     99.991886\n",
              "7945     99.991926\n",
              "7946     99.994193\n",
              "7947    100.000000\n",
              "Name: maxcpu, Length: 7948, dtype: float64"
            ]
          },
          "metadata": {
            "tags": []
          },
          "execution_count": 69
        }
      ]
    },
    {
      "cell_type": "code",
      "metadata": {
        "id": "JoDl_GDUFet9"
      },
      "source": [
        "maxcpu_column_values_100mean =  np.mean(maxcpu_column_values[0:7948])"
      ],
      "execution_count": 71,
      "outputs": []
    },
    {
      "cell_type": "code",
      "metadata": {
        "colab": {
          "base_uri": "https://localhost:8080/"
        },
        "id": "xaIk9pBoFigT",
        "outputId": "92bab881-0b82-4524-8ca6-9c467d8a6944"
      },
      "source": [
        "maxcpu_column_values_100mean"
      ],
      "execution_count": 72,
      "outputs": [
        {
          "output_type": "execute_result",
          "data": {
            "text/plain": [
              "73.44893062883745"
            ]
          },
          "metadata": {
            "tags": []
          },
          "execution_count": 72
        }
      ]
    },
    {
      "cell_type": "code",
      "metadata": {
        "id": "VsXUdtN9HMt_"
      },
      "source": [
        "# create a dataframe input stats which holds the mean stats values.\n",
        "input_stats = pd.DataFrame({'mean_stats':[33.652115095024875,53.809987041542286,65.63750630204014,73.44893062883745],'index':['25%','50%','75%','100%']})"
      ],
      "execution_count": 76,
      "outputs": []
    },
    {
      "cell_type": "code",
      "metadata": {
        "id": "JsTNRtUhIlto"
      },
      "source": [
        "input_stats = input_stats.set_index('index')"
      ],
      "execution_count": 78,
      "outputs": []
    },
    {
      "cell_type": "code",
      "metadata": {
        "colab": {
          "base_uri": "https://localhost:8080/",
          "height": 206
        },
        "id": "q4CbKsy1IxrD",
        "outputId": "f48c2d94-9298-46d3-b800-b2a6d91fef72"
      },
      "source": [
        "input_stats"
      ],
      "execution_count": 79,
      "outputs": [
        {
          "output_type": "execute_result",
          "data": {
            "text/html": [
              "<div>\n",
              "<style scoped>\n",
              "    .dataframe tbody tr th:only-of-type {\n",
              "        vertical-align: middle;\n",
              "    }\n",
              "\n",
              "    .dataframe tbody tr th {\n",
              "        vertical-align: top;\n",
              "    }\n",
              "\n",
              "    .dataframe thead th {\n",
              "        text-align: right;\n",
              "    }\n",
              "</style>\n",
              "<table border=\"1\" class=\"dataframe\">\n",
              "  <thead>\n",
              "    <tr style=\"text-align: right;\">\n",
              "      <th></th>\n",
              "      <th>mean_stats</th>\n",
              "    </tr>\n",
              "    <tr>\n",
              "      <th>index</th>\n",
              "      <th></th>\n",
              "    </tr>\n",
              "  </thead>\n",
              "  <tbody>\n",
              "    <tr>\n",
              "      <th>25%</th>\n",
              "      <td>33.652115</td>\n",
              "    </tr>\n",
              "    <tr>\n",
              "      <th>50%</th>\n",
              "      <td>53.809987</td>\n",
              "    </tr>\n",
              "    <tr>\n",
              "      <th>75%</th>\n",
              "      <td>65.637506</td>\n",
              "    </tr>\n",
              "    <tr>\n",
              "      <th>100%</th>\n",
              "      <td>73.448931</td>\n",
              "    </tr>\n",
              "  </tbody>\n",
              "</table>\n",
              "</div>"
            ],
            "text/plain": [
              "       mean_stats\n",
              "index            \n",
              "25%     33.652115\n",
              "50%     53.809987\n",
              "75%     65.637506\n",
              "100%    73.448931"
            ]
          },
          "metadata": {
            "tags": []
          },
          "execution_count": 79
        }
      ]
    },
    {
      "cell_type": "code",
      "metadata": {
        "colab": {
          "base_uri": "https://localhost:8080/"
        },
        "id": "7Ore7DKVK8eY",
        "outputId": "b48f11ed-a14b-4f56-98a2-aa8758ea512d"
      },
      "source": [
        "input_stats.loc[\"25%\"].values[0]"
      ],
      "execution_count": 86,
      "outputs": [
        {
          "output_type": "execute_result",
          "data": {
            "text/plain": [
              "33.652115095024875"
            ]
          },
          "metadata": {
            "tags": []
          },
          "execution_count": 86
        }
      ]
    },
    {
      "cell_type": "code",
      "metadata": {
        "id": "t2Sm8-UCF3tQ"
      },
      "source": [
        "# lets first check the input data.\n",
        "# modify the input of last 24 values with the above means"
      ],
      "execution_count": null,
      "outputs": []
    },
    {
      "cell_type": "code",
      "metadata": {
        "id": "AXRSognuJW8w"
      },
      "source": [
        "# Read the last 24 values of the input data\n",
        "input_cpu = useful_cpu[[\"timestamp\",\"maxcpu\"]][-24:].copy()"
      ],
      "execution_count": 87,
      "outputs": []
    },
    {
      "cell_type": "code",
      "metadata": {
        "id": "wM4ZmUUOMCYs"
      },
      "source": [
        "input_cpu_copy = input_cpu[\"maxcpu\"].copy()"
      ],
      "execution_count": 93,
      "outputs": []
    },
    {
      "cell_type": "code",
      "metadata": {
        "id": "yMTsrSMQNC4f"
      },
      "source": [
        "input_cpu_copy_values = input_cpu_copy.values"
      ],
      "execution_count": 94,
      "outputs": []
    },
    {
      "cell_type": "code",
      "metadata": {
        "colab": {
          "base_uri": "https://localhost:8080/"
        },
        "id": "rgDE8SPbNHd5",
        "outputId": "350a6a9d-1820-4d79-b5b7-7d3970134a9c"
      },
      "source": [
        "input_cpu_copy_values"
      ],
      "execution_count": 95,
      "outputs": [
        {
          "output_type": "execute_result",
          "data": {
            "text/plain": [
              "array([ 4.246782, 48.743738, 67.917669, 41.664353, 59.243742,  5.758188,\n",
              "       83.519528, 65.562367, 91.85695 , 87.673224, 45.630474, 69.279224,\n",
              "       99.016576, 99.643539, 99.11266 , 81.81857 , 72.446938, 98.868372,\n",
              "       12.313078, 89.453653, 98.841736, 70.042481, 47.881668, 80.857566])"
            ]
          },
          "metadata": {
            "tags": []
          },
          "execution_count": 95
        }
      ]
    },
    {
      "cell_type": "code",
      "metadata": {
        "id": "NV4OrsLPJg1s"
      },
      "source": [
        "def transform_input_data(arr):\n",
        "  for i in range(len(arr)):\n",
        "    if arr[i] <= input_stats.loc[\"25%\"].values[0]:\n",
        "      arr[i] = input_stats.loc[\"25%\"].values[0]\n",
        "    elif arr[i] > input_stats.loc[\"25%\"].values[0] and arr[i] <= input_stats.loc[\"50%\"].values[0]:\n",
        "      arr[i] = input_stats.loc[\"50%\"].values[0]\n",
        "    elif arr[i] > input_stats.loc[\"50%\"].values[0] and arr[i] <= input_stats.loc[\"75%\"].values[0]:\n",
        "      arr[i] = input_stats.loc[\"75%\"].values[0]\n",
        "    else:\n",
        "      arr[i] = input_stats.loc[\"100%\"].values[0]\n",
        "  return arr\n"
      ],
      "execution_count": 91,
      "outputs": []
    },
    {
      "cell_type": "code",
      "metadata": {
        "id": "l9Fnx88MJgxz"
      },
      "source": [
        "input_cpu_transformed = transform_input_data(input_cpu_copy_values)"
      ],
      "execution_count": 96,
      "outputs": []
    },
    {
      "cell_type": "code",
      "metadata": {
        "id": "sE9-PT7OJgwI"
      },
      "source": [
        "input_cpu_transformed_series = pd.Series(input_cpu_transformed)"
      ],
      "execution_count": 277,
      "outputs": []
    },
    {
      "cell_type": "code",
      "metadata": {
        "id": "2zkKDuaqwwfD"
      },
      "source": [
        "input_time = useful_cpu[\"timestamp\"][-24:].copy()"
      ],
      "execution_count": 281,
      "outputs": []
    },
    {
      "cell_type": "code",
      "metadata": {
        "id": "Kh8-5nQmw5v9"
      },
      "source": [
        "input_time = input_time.reset_index(drop=True)"
      ],
      "execution_count": 282,
      "outputs": []
    },
    {
      "cell_type": "code",
      "metadata": {
        "colab": {
          "base_uri": "https://localhost:8080/"
        },
        "id": "or3Y50BNygiv",
        "outputId": "01fd7e45-3aea-4897-f7cd-ee1294d8c46f"
      },
      "source": [
        "input_time"
      ],
      "execution_count": 283,
      "outputs": [
        {
          "output_type": "execute_result",
          "data": {
            "text/plain": [
              "0    2020-11-30 00:00:00\n",
              "1    2020-11-30 01:00:00\n",
              "2    2020-11-30 02:00:00\n",
              "3    2020-11-30 03:00:00\n",
              "4    2020-11-30 04:00:00\n",
              "5    2020-11-30 05:00:00\n",
              "6    2020-11-30 06:00:00\n",
              "7    2020-11-30 07:00:00\n",
              "8    2020-11-30 08:00:00\n",
              "9    2020-11-30 09:00:00\n",
              "10   2020-11-30 10:00:00\n",
              "11   2020-11-30 11:00:00\n",
              "12   2020-11-30 12:00:00\n",
              "13   2020-11-30 13:00:00\n",
              "14   2020-11-30 14:00:00\n",
              "15   2020-11-30 15:00:00\n",
              "16   2020-11-30 16:00:00\n",
              "17   2020-11-30 17:00:00\n",
              "18   2020-11-30 18:00:00\n",
              "19   2020-11-30 19:00:00\n",
              "20   2020-11-30 20:00:00\n",
              "21   2020-11-30 21:00:00\n",
              "22   2020-11-30 22:00:00\n",
              "23   2020-11-30 23:00:00\n",
              "Name: timestamp, dtype: datetime64[ns]"
            ]
          },
          "metadata": {
            "tags": []
          },
          "execution_count": 283
        }
      ]
    },
    {
      "cell_type": "code",
      "metadata": {
        "id": "eNglNx9Mv8C0"
      },
      "source": [
        "transformed_input_df=pd.DataFrame({\"timestamp\":input_time,\"avgcpu\":input_cpu_transformed_series})"
      ],
      "execution_count": 284,
      "outputs": []
    },
    {
      "cell_type": "code",
      "metadata": {
        "colab": {
          "base_uri": "https://localhost:8080/",
          "height": 802
        },
        "id": "94-BeZvqyOUB",
        "outputId": "880b466b-3bc2-4260-a1c8-9be6bf36e491"
      },
      "source": [
        "transformed_input_df"
      ],
      "execution_count": 285,
      "outputs": [
        {
          "output_type": "execute_result",
          "data": {
            "text/html": [
              "<div>\n",
              "<style scoped>\n",
              "    .dataframe tbody tr th:only-of-type {\n",
              "        vertical-align: middle;\n",
              "    }\n",
              "\n",
              "    .dataframe tbody tr th {\n",
              "        vertical-align: top;\n",
              "    }\n",
              "\n",
              "    .dataframe thead th {\n",
              "        text-align: right;\n",
              "    }\n",
              "</style>\n",
              "<table border=\"1\" class=\"dataframe\">\n",
              "  <thead>\n",
              "    <tr style=\"text-align: right;\">\n",
              "      <th></th>\n",
              "      <th>timestamp</th>\n",
              "      <th>avgcpu</th>\n",
              "    </tr>\n",
              "  </thead>\n",
              "  <tbody>\n",
              "    <tr>\n",
              "      <th>0</th>\n",
              "      <td>2020-11-30 00:00:00</td>\n",
              "      <td>33.652115</td>\n",
              "    </tr>\n",
              "    <tr>\n",
              "      <th>1</th>\n",
              "      <td>2020-11-30 01:00:00</td>\n",
              "      <td>53.809987</td>\n",
              "    </tr>\n",
              "    <tr>\n",
              "      <th>2</th>\n",
              "      <td>2020-11-30 02:00:00</td>\n",
              "      <td>73.448931</td>\n",
              "    </tr>\n",
              "    <tr>\n",
              "      <th>3</th>\n",
              "      <td>2020-11-30 03:00:00</td>\n",
              "      <td>53.809987</td>\n",
              "    </tr>\n",
              "    <tr>\n",
              "      <th>4</th>\n",
              "      <td>2020-11-30 04:00:00</td>\n",
              "      <td>65.637506</td>\n",
              "    </tr>\n",
              "    <tr>\n",
              "      <th>5</th>\n",
              "      <td>2020-11-30 05:00:00</td>\n",
              "      <td>33.652115</td>\n",
              "    </tr>\n",
              "    <tr>\n",
              "      <th>6</th>\n",
              "      <td>2020-11-30 06:00:00</td>\n",
              "      <td>73.448931</td>\n",
              "    </tr>\n",
              "    <tr>\n",
              "      <th>7</th>\n",
              "      <td>2020-11-30 07:00:00</td>\n",
              "      <td>65.637506</td>\n",
              "    </tr>\n",
              "    <tr>\n",
              "      <th>8</th>\n",
              "      <td>2020-11-30 08:00:00</td>\n",
              "      <td>73.448931</td>\n",
              "    </tr>\n",
              "    <tr>\n",
              "      <th>9</th>\n",
              "      <td>2020-11-30 09:00:00</td>\n",
              "      <td>73.448931</td>\n",
              "    </tr>\n",
              "    <tr>\n",
              "      <th>10</th>\n",
              "      <td>2020-11-30 10:00:00</td>\n",
              "      <td>53.809987</td>\n",
              "    </tr>\n",
              "    <tr>\n",
              "      <th>11</th>\n",
              "      <td>2020-11-30 11:00:00</td>\n",
              "      <td>73.448931</td>\n",
              "    </tr>\n",
              "    <tr>\n",
              "      <th>12</th>\n",
              "      <td>2020-11-30 12:00:00</td>\n",
              "      <td>73.448931</td>\n",
              "    </tr>\n",
              "    <tr>\n",
              "      <th>13</th>\n",
              "      <td>2020-11-30 13:00:00</td>\n",
              "      <td>73.448931</td>\n",
              "    </tr>\n",
              "    <tr>\n",
              "      <th>14</th>\n",
              "      <td>2020-11-30 14:00:00</td>\n",
              "      <td>73.448931</td>\n",
              "    </tr>\n",
              "    <tr>\n",
              "      <th>15</th>\n",
              "      <td>2020-11-30 15:00:00</td>\n",
              "      <td>73.448931</td>\n",
              "    </tr>\n",
              "    <tr>\n",
              "      <th>16</th>\n",
              "      <td>2020-11-30 16:00:00</td>\n",
              "      <td>73.448931</td>\n",
              "    </tr>\n",
              "    <tr>\n",
              "      <th>17</th>\n",
              "      <td>2020-11-30 17:00:00</td>\n",
              "      <td>73.448931</td>\n",
              "    </tr>\n",
              "    <tr>\n",
              "      <th>18</th>\n",
              "      <td>2020-11-30 18:00:00</td>\n",
              "      <td>33.652115</td>\n",
              "    </tr>\n",
              "    <tr>\n",
              "      <th>19</th>\n",
              "      <td>2020-11-30 19:00:00</td>\n",
              "      <td>73.448931</td>\n",
              "    </tr>\n",
              "    <tr>\n",
              "      <th>20</th>\n",
              "      <td>2020-11-30 20:00:00</td>\n",
              "      <td>73.448931</td>\n",
              "    </tr>\n",
              "    <tr>\n",
              "      <th>21</th>\n",
              "      <td>2020-11-30 21:00:00</td>\n",
              "      <td>73.448931</td>\n",
              "    </tr>\n",
              "    <tr>\n",
              "      <th>22</th>\n",
              "      <td>2020-11-30 22:00:00</td>\n",
              "      <td>53.809987</td>\n",
              "    </tr>\n",
              "    <tr>\n",
              "      <th>23</th>\n",
              "      <td>2020-11-30 23:00:00</td>\n",
              "      <td>73.448931</td>\n",
              "    </tr>\n",
              "  </tbody>\n",
              "</table>\n",
              "</div>"
            ],
            "text/plain": [
              "             timestamp     avgcpu\n",
              "0  2020-11-30 00:00:00  33.652115\n",
              "1  2020-11-30 01:00:00  53.809987\n",
              "2  2020-11-30 02:00:00  73.448931\n",
              "3  2020-11-30 03:00:00  53.809987\n",
              "4  2020-11-30 04:00:00  65.637506\n",
              "5  2020-11-30 05:00:00  33.652115\n",
              "6  2020-11-30 06:00:00  73.448931\n",
              "7  2020-11-30 07:00:00  65.637506\n",
              "8  2020-11-30 08:00:00  73.448931\n",
              "9  2020-11-30 09:00:00  73.448931\n",
              "10 2020-11-30 10:00:00  53.809987\n",
              "11 2020-11-30 11:00:00  73.448931\n",
              "12 2020-11-30 12:00:00  73.448931\n",
              "13 2020-11-30 13:00:00  73.448931\n",
              "14 2020-11-30 14:00:00  73.448931\n",
              "15 2020-11-30 15:00:00  73.448931\n",
              "16 2020-11-30 16:00:00  73.448931\n",
              "17 2020-11-30 17:00:00  73.448931\n",
              "18 2020-11-30 18:00:00  33.652115\n",
              "19 2020-11-30 19:00:00  73.448931\n",
              "20 2020-11-30 20:00:00  73.448931\n",
              "21 2020-11-30 21:00:00  73.448931\n",
              "22 2020-11-30 22:00:00  53.809987\n",
              "23 2020-11-30 23:00:00  73.448931"
            ]
          },
          "metadata": {
            "tags": []
          },
          "execution_count": 285
        }
      ]
    },
    {
      "cell_type": "code",
      "metadata": {
        "id": "xdGhmvUQyqb0"
      },
      "source": [
        "transformed_input_df.to_csv(\"input_AzureDataset.csv\")"
      ],
      "execution_count": 287,
      "outputs": []
    },
    {
      "cell_type": "code",
      "metadata": {
        "id": "CCqMJ_qGJgsn"
      },
      "source": [
        "# now lets first check the yesterdays prediction of Lstm data\n",
        "# Read the whole array into a variable initially"
      ],
      "execution_count": 98,
      "outputs": []
    },
    {
      "cell_type": "code",
      "metadata": {
        "id": "YwSwctwdJgq9"
      },
      "source": [
        "customLSTM_yesterday = np.array([[ 75.3249   , -23.565742 , -20.754543 ],\n",
        "       [ 78.017166 , -18.211147 ,  18.693228 ],\n",
        "       [ 76.05071  ,  -2.4042587,  22.222197 ],\n",
        "       [ 64.03124  , -70.41094  , -44.136917 ],\n",
        "       [ 63.736504 , -28.80771  ,   1.5063936],\n",
        "       [ 79.0143   ,  11.332445 ,  -9.998157 ],\n",
        "       [ 82.42909  , -45.03239  , -25.680084 ],\n",
        "       [ 79.74652  ,  18.796913 , -15.7356825],\n",
        "       [ 82.716484 ,  85.623695 , 105.46996  ],\n",
        "       [ 73.97125  ,  -4.53773  , -63.30759  ],\n",
        "       [ 76.041214 ,  27.282532 ,  28.621002 ],\n",
        "       [ 81.09754  ,  59.0143   ,  20.101597 ],\n",
        "       [ 72.990486 ,  55.772797 , -12.558001 ],\n",
        "       [ 93.20396  ,   1.150991 ,  85.84287  ],\n",
        "       [ 75.92985  , -16.914867 ,   4.3478045],\n",
        "       [ 41.604794 ,  29.650373 , 102.099205 ],\n",
        "       [ 56.317062 ,  41.239662 , 113.137695 ],\n",
        "       [ 69.037895 ,  36.094765 ,  37.18707  ],\n",
        "       [ 77.478806 ,  26.347729 , -31.292648 ],\n",
        "       [ 85.93437  ,  64.37104  ,  44.874645 ],\n",
        "       [ 76.75248  ,   1.6567384, -92.450554 ],\n",
        "       [ 80.3425   ,  77.25768  , -44.065052 ],\n",
        "       [ 80.51585  ,  62.773888 , -18.150185 ],\n",
        "       [ 80.65257  ,  13.771081 ,   4.0431757]], dtype='float32')"
      ],
      "execution_count": 100,
      "outputs": []
    },
    {
      "cell_type": "code",
      "metadata": {
        "id": "QcLmsLniJgna"
      },
      "source": [
        "customLSTM_yesterday_maxcpu = customLSTM_yesterday[:,0].copy()"
      ],
      "execution_count": 102,
      "outputs": []
    },
    {
      "cell_type": "code",
      "metadata": {
        "id": "WAIeBjHoP1lN"
      },
      "source": [
        "# sort the array values to find the percentile values.\n",
        "customLSTM_yesterday_maxcpu_sorted = np.sort(customLSTM_yesterday_maxcpu)"
      ],
      "execution_count": 104,
      "outputs": []
    },
    {
      "cell_type": "code",
      "metadata": {
        "id": "RlyH-qIIJgl2"
      },
      "source": [
        "# calculate the mean values for each percentile for the yesterday outputs\n",
        "def calculate_percentile_index(p,arr):\n",
        "  x=arr\n",
        "  pcen=np.percentile(x,p,interpolation='nearest')\n",
        "  index_near=abs(x-pcen).argmin()\n",
        "  return pcen, index_near\n"
      ],
      "execution_count": 107,
      "outputs": []
    },
    {
      "cell_type": "code",
      "metadata": {
        "id": "OYgDvjy7Jgi7"
      },
      "source": [
        "lstm_y_p25, lstm_y_index25 = calculate_percentile_index(p=25, arr=customLSTM_yesterday_maxcpu_sorted)"
      ],
      "execution_count": 108,
      "outputs": []
    },
    {
      "cell_type": "code",
      "metadata": {
        "colab": {
          "base_uri": "https://localhost:8080/"
        },
        "id": "sXnZiyqoJghY",
        "outputId": "967ab221-212b-4b0d-8771-b6bdd2b4a1dd"
      },
      "source": [
        "print(\"the value of the 25th percentile ={}\".format(lstm_y_p25))\n",
        "print(\"the value of the index of 25th percentile ={}\".format(lstm_y_index25))"
      ],
      "execution_count": 109,
      "outputs": [
        {
          "output_type": "stream",
          "text": [
            "the value of the 25th percentile =73.97125244140625\n",
            "the value of the index of 25th percentile =6\n"
          ],
          "name": "stdout"
        }
      ]
    },
    {
      "cell_type": "code",
      "metadata": {
        "id": "_TASCFqAJgeD"
      },
      "source": [
        "lstm_y_p50, lstm_y_index50 = calculate_percentile_index(p=50, arr=customLSTM_yesterday_maxcpu_sorted)"
      ],
      "execution_count": 110,
      "outputs": []
    },
    {
      "cell_type": "code",
      "metadata": {
        "colab": {
          "base_uri": "https://localhost:8080/"
        },
        "id": "8UqYgNlTJgcq",
        "outputId": "bde2b194-07fa-4c3a-a3b6-3e609a8aeb8d"
      },
      "source": [
        "print(\"the value of the 50th percentile ={}\".format(lstm_y_p50))\n",
        "print(\"the value of the index of 50th percentile ={}\".format(lstm_y_index50))"
      ],
      "execution_count": 113,
      "outputs": [
        {
          "output_type": "stream",
          "text": [
            "the value of the 50th percentile =77.47880554199219\n",
            "the value of the index of 50th percentile =12\n"
          ],
          "name": "stdout"
        }
      ]
    },
    {
      "cell_type": "code",
      "metadata": {
        "id": "E57Bsn_jRvUm"
      },
      "source": [
        "lstm_y_p75, lstm_y_index75 = calculate_percentile_index(p=75, arr=customLSTM_yesterday_maxcpu_sorted)"
      ],
      "execution_count": 112,
      "outputs": []
    },
    {
      "cell_type": "code",
      "metadata": {
        "colab": {
          "base_uri": "https://localhost:8080/"
        },
        "id": "OEr_dp1yJgY5",
        "outputId": "89cb001a-f819-4f86-aee4-2503ecdf318d"
      },
      "source": [
        "print(\"the value of the 75th percentile ={}\".format(lstm_y_p75))\n",
        "print(\"the value of the index of 75th percentile ={}\".format(lstm_y_index75))"
      ],
      "execution_count": 114,
      "outputs": [
        {
          "output_type": "stream",
          "text": [
            "the value of the 75th percentile =80.5158462524414\n",
            "the value of the index of 75th percentile =17\n"
          ],
          "name": "stdout"
        }
      ]
    },
    {
      "cell_type": "code",
      "metadata": {
        "id": "6jrDrv2DJgXh"
      },
      "source": [
        "lstm_y_p100, lstm_y_index100 = calculate_percentile_index(p=100, arr=customLSTM_yesterday_maxcpu_sorted)"
      ],
      "execution_count": 115,
      "outputs": []
    },
    {
      "cell_type": "code",
      "metadata": {
        "colab": {
          "base_uri": "https://localhost:8080/"
        },
        "id": "4ith0PgDJgUH",
        "outputId": "df576b99-bd8b-42d3-fb5a-5327f5380120"
      },
      "source": [
        "print(\"the value of the 100th percentile ={}\".format(lstm_y_p100))\n",
        "print(\"the value of the index of 100th percentile ={}\".format(lstm_y_index100))"
      ],
      "execution_count": 116,
      "outputs": [
        {
          "output_type": "stream",
          "text": [
            "the value of the 100th percentile =93.2039566040039\n",
            "the value of the index of 100th percentile =23\n"
          ],
          "name": "stdout"
        }
      ]
    },
    {
      "cell_type": "code",
      "metadata": {
        "colab": {
          "base_uri": "https://localhost:8080/"
        },
        "id": "kGoK_zNUT_vo",
        "outputId": "ff25c376-eb05-455b-db1e-a8a5e6c925ad"
      },
      "source": [
        "customLSTM_yesterday_maxcpu_sorted[0:6]"
      ],
      "execution_count": 117,
      "outputs": [
        {
          "output_type": "execute_result",
          "data": {
            "text/plain": [
              "array([41.604794, 56.317062, 63.736504, 64.03124 , 69.037895, 72.990486],\n",
              "      dtype=float32)"
            ]
          },
          "metadata": {
            "tags": []
          },
          "execution_count": 117
        }
      ]
    },
    {
      "cell_type": "code",
      "metadata": {
        "id": "X9IgW8DHJgSw"
      },
      "source": [
        "# Calculate Mean of the values lying below the 25 percentile.\n",
        "lstm_yesterday_values_25mean =  np.mean(customLSTM_yesterday_maxcpu_sorted[0:6])"
      ],
      "execution_count": 118,
      "outputs": []
    },
    {
      "cell_type": "code",
      "metadata": {
        "colab": {
          "base_uri": "https://localhost:8080/"
        },
        "id": "8Tual4mEJgPJ",
        "outputId": "366960ba-8497-4bf3-fcfe-f0a545046251"
      },
      "source": [
        "lstm_yesterday_values_25mean"
      ],
      "execution_count": 119,
      "outputs": [
        {
          "output_type": "execute_result",
          "data": {
            "text/plain": [
              "61.28633"
            ]
          },
          "metadata": {
            "tags": []
          },
          "execution_count": 119
        }
      ]
    },
    {
      "cell_type": "code",
      "metadata": {
        "id": "wF8lKB_xUTBt"
      },
      "source": [
        "# Calculate Mean of the values lying below the 50 percentile.\n",
        "lstm_yesterday_values_50mean =  np.mean(customLSTM_yesterday_maxcpu_sorted[0:12])"
      ],
      "execution_count": 120,
      "outputs": []
    },
    {
      "cell_type": "code",
      "metadata": {
        "colab": {
          "base_uri": "https://localhost:8080/"
        },
        "id": "sNpwF4hoUuWH",
        "outputId": "b1b690ff-8005-4323-fcbc-c999b73eca4e"
      },
      "source": [
        "lstm_yesterday_values_50mean"
      ],
      "execution_count": 121,
      "outputs": [
        {
          "output_type": "execute_result",
          "data": {
            "text/plain": [
              "68.48237"
            ]
          },
          "metadata": {
            "tags": []
          },
          "execution_count": 121
        }
      ]
    },
    {
      "cell_type": "code",
      "metadata": {
        "id": "qcUxvDhrUxpG"
      },
      "source": [
        "# Calculate Mean of the values lying below the 75 percentile.\n",
        "lstm_yesterday_values_75mean =  np.mean(customLSTM_yesterday_maxcpu_sorted[0:17])"
      ],
      "execution_count": 122,
      "outputs": []
    },
    {
      "cell_type": "code",
      "metadata": {
        "colab": {
          "base_uri": "https://localhost:8080/"
        },
        "id": "r9Tix85dU5EV",
        "outputId": "0c135d78-d69f-4be4-901f-1537dbbb1faf"
      },
      "source": [
        "lstm_yesterday_values_75mean"
      ],
      "execution_count": 123,
      "outputs": [
        {
          "output_type": "execute_result",
          "data": {
            "text/plain": [
              "71.552216"
            ]
          },
          "metadata": {
            "tags": []
          },
          "execution_count": 123
        }
      ]
    },
    {
      "cell_type": "code",
      "metadata": {
        "id": "RwGAzQZjU6gZ"
      },
      "source": [
        "# Calculate Mean of the values lying below the 100 percentile.\n",
        "lstm_yesterday_values_100mean =  np.mean(customLSTM_yesterday_maxcpu_sorted[0:23])"
      ],
      "execution_count": 124,
      "outputs": []
    },
    {
      "cell_type": "code",
      "metadata": {
        "colab": {
          "base_uri": "https://localhost:8080/"
        },
        "id": "3U_w0XltVAdI",
        "outputId": "90578049-0cca-4cc1-ecd3-9240a980df6f"
      },
      "source": [
        "lstm_yesterday_values_100mean"
      ],
      "execution_count": 125,
      "outputs": [
        {
          "output_type": "execute_result",
          "data": {
            "text/plain": [
              "74.33624"
            ]
          },
          "metadata": {
            "tags": []
          },
          "execution_count": 125
        }
      ]
    },
    {
      "cell_type": "code",
      "metadata": {
        "id": "DQHiRF2hSYWa"
      },
      "source": [
        "# create a dataframe yesterday stats which holds the mean stats values.\n",
        "lstm_yesterday_stats = pd.DataFrame({'mean_stats':[61.28633,68.48237,71.552216,74.33624],'index':['25%','50%','75%','100%']})"
      ],
      "execution_count": 126,
      "outputs": []
    },
    {
      "cell_type": "code",
      "metadata": {
        "id": "Dg50MHCUVXyR"
      },
      "source": [
        "lstm_yesterday_stats = lstm_yesterday_stats.set_index(\"index\")"
      ],
      "execution_count": 128,
      "outputs": []
    },
    {
      "cell_type": "code",
      "metadata": {
        "colab": {
          "base_uri": "https://localhost:8080/",
          "height": 206
        },
        "id": "GQVxHcpEVZdF",
        "outputId": "c31c0896-47dc-43fd-e0ae-ee1adf4907a1"
      },
      "source": [
        "lstm_yesterday_stats"
      ],
      "execution_count": 129,
      "outputs": [
        {
          "output_type": "execute_result",
          "data": {
            "text/html": [
              "<div>\n",
              "<style scoped>\n",
              "    .dataframe tbody tr th:only-of-type {\n",
              "        vertical-align: middle;\n",
              "    }\n",
              "\n",
              "    .dataframe tbody tr th {\n",
              "        vertical-align: top;\n",
              "    }\n",
              "\n",
              "    .dataframe thead th {\n",
              "        text-align: right;\n",
              "    }\n",
              "</style>\n",
              "<table border=\"1\" class=\"dataframe\">\n",
              "  <thead>\n",
              "    <tr style=\"text-align: right;\">\n",
              "      <th></th>\n",
              "      <th>mean_stats</th>\n",
              "    </tr>\n",
              "    <tr>\n",
              "      <th>index</th>\n",
              "      <th></th>\n",
              "    </tr>\n",
              "  </thead>\n",
              "  <tbody>\n",
              "    <tr>\n",
              "      <th>25%</th>\n",
              "      <td>61.286330</td>\n",
              "    </tr>\n",
              "    <tr>\n",
              "      <th>50%</th>\n",
              "      <td>68.482370</td>\n",
              "    </tr>\n",
              "    <tr>\n",
              "      <th>75%</th>\n",
              "      <td>71.552216</td>\n",
              "    </tr>\n",
              "    <tr>\n",
              "      <th>100%</th>\n",
              "      <td>74.336240</td>\n",
              "    </tr>\n",
              "  </tbody>\n",
              "</table>\n",
              "</div>"
            ],
            "text/plain": [
              "       mean_stats\n",
              "index            \n",
              "25%     61.286330\n",
              "50%     68.482370\n",
              "75%     71.552216\n",
              "100%    74.336240"
            ]
          },
          "metadata": {
            "tags": []
          },
          "execution_count": 129
        }
      ]
    },
    {
      "cell_type": "code",
      "metadata": {
        "id": "2yc3kEkGVflH"
      },
      "source": [
        "customLSTM_yesterday_maxcpu_copy = customLSTM_yesterday_maxcpu[-24:].copy()"
      ],
      "execution_count": 131,
      "outputs": []
    },
    {
      "cell_type": "code",
      "metadata": {
        "colab": {
          "base_uri": "https://localhost:8080/"
        },
        "id": "FV7DQ2vvakmQ",
        "outputId": "b6acffdd-7919-4055-d432-8bd8e14a3514"
      },
      "source": [
        "customLSTM_yesterday_maxcpu_copy"
      ],
      "execution_count": 135,
      "outputs": [
        {
          "output_type": "execute_result",
          "data": {
            "text/plain": [
              "array([75.3249  , 78.017166, 76.05071 , 64.03124 , 63.736504, 79.0143  ,\n",
              "       82.42909 , 79.74652 , 82.716484, 73.97125 , 76.041214, 81.09754 ,\n",
              "       72.990486, 93.20396 , 75.92985 , 41.604794, 56.317062, 69.037895,\n",
              "       77.478806, 85.93437 , 76.75248 , 80.3425  , 80.51585 , 80.65257 ],\n",
              "      dtype=float32)"
            ]
          },
          "metadata": {
            "tags": []
          },
          "execution_count": 135
        }
      ]
    },
    {
      "cell_type": "code",
      "metadata": {
        "id": "xon1La-yWk8B"
      },
      "source": [
        "customLSTM_yesterday_maxcpu_copy_values = customLSTM_yesterday_maxcpu_copy.copy()"
      ],
      "execution_count": 134,
      "outputs": []
    },
    {
      "cell_type": "code",
      "metadata": {
        "id": "u27qXANYW1Av"
      },
      "source": [
        "# transform data according to lstm_yesterday_stats\n",
        "def transform_input_data(arr, input_stats):\n",
        "  for i in range(len(arr)):\n",
        "    if arr[i] <= input_stats.loc[\"25%\"].values[0]:\n",
        "      arr[i] = input_stats.loc[\"25%\"].values[0]\n",
        "    elif arr[i] > input_stats.loc[\"25%\"].values[0] and arr[i] <= input_stats.loc[\"50%\"].values[0]:\n",
        "      arr[i] = input_stats.loc[\"50%\"].values[0]\n",
        "    elif arr[i] > input_stats.loc[\"50%\"].values[0] and arr[i] <= input_stats.loc[\"75%\"].values[0]:\n",
        "      arr[i] = input_stats.loc[\"75%\"].values[0]\n",
        "    else:\n",
        "      arr[i] = input_stats.loc[\"100%\"].values[0]\n",
        "  return arr\n"
      ],
      "execution_count": 136,
      "outputs": []
    },
    {
      "cell_type": "code",
      "metadata": {
        "id": "YaTDhGR0Zxmy"
      },
      "source": [
        "transform_lstm_yesterday_data = transform_input_data(customLSTM_yesterday_maxcpu_copy_values,lstm_yesterday_stats)"
      ],
      "execution_count": 137,
      "outputs": []
    },
    {
      "cell_type": "code",
      "metadata": {
        "colab": {
          "base_uri": "https://localhost:8080/"
        },
        "id": "VIHzWoRla0PJ",
        "outputId": "c6a710bd-11ca-41a8-bb84-3fb5acb50af4"
      },
      "source": [
        "transform_lstm_yesterday_data"
      ],
      "execution_count": 138,
      "outputs": [
        {
          "output_type": "execute_result",
          "data": {
            "text/plain": [
              "array([74.33624 , 74.33624 , 74.33624 , 68.48237 , 68.48237 , 74.33624 ,\n",
              "       74.33624 , 74.33624 , 74.33624 , 74.33624 , 74.33624 , 74.33624 ,\n",
              "       74.33624 , 74.33624 , 74.33624 , 61.28633 , 61.28633 , 71.552216,\n",
              "       74.33624 , 74.33624 , 74.33624 , 74.33624 , 74.33624 , 74.33624 ],\n",
              "      dtype=float32)"
            ]
          },
          "metadata": {
            "tags": []
          },
          "execution_count": 138
        }
      ]
    },
    {
      "cell_type": "code",
      "metadata": {
        "colab": {
          "base_uri": "https://localhost:8080/"
        },
        "id": "bKozMVZYbOh_",
        "outputId": "a07dee29-15de-4741-b712-b2c273131a71"
      },
      "source": [
        "!pip install pygal"
      ],
      "execution_count": 139,
      "outputs": [
        {
          "output_type": "stream",
          "text": [
            "Collecting pygal\n",
            "\u001b[?25l  Downloading https://files.pythonhosted.org/packages/5f/b7/201c9254ac0d2b8ffa3bb2d528d23a4130876d9ba90bc28e99633f323f17/pygal-2.4.0-py2.py3-none-any.whl (127kB)\n",
            "\r\u001b[K     |██▋                             | 10kB 12.8MB/s eta 0:00:01\r\u001b[K     |█████▏                          | 20kB 9.4MB/s eta 0:00:01\r\u001b[K     |███████▊                        | 30kB 6.7MB/s eta 0:00:01\r\u001b[K     |██████████▎                     | 40kB 3.1MB/s eta 0:00:01\r\u001b[K     |████████████▉                   | 51kB 3.7MB/s eta 0:00:01\r\u001b[K     |███████████████▍                | 61kB 4.4MB/s eta 0:00:01\r\u001b[K     |██████████████████              | 71kB 4.5MB/s eta 0:00:01\r\u001b[K     |████████████████████▌           | 81kB 4.9MB/s eta 0:00:01\r\u001b[K     |███████████████████████▏        | 92kB 5.2MB/s eta 0:00:01\r\u001b[K     |█████████████████████████▊      | 102kB 5.4MB/s eta 0:00:01\r\u001b[K     |████████████████████████████▎   | 112kB 5.4MB/s eta 0:00:01\r\u001b[K     |██████████████████████████████▉ | 122kB 5.4MB/s eta 0:00:01\r\u001b[K     |████████████████████████████████| 133kB 5.4MB/s \n",
            "\u001b[?25hInstalling collected packages: pygal\n",
            "Successfully installed pygal-2.4.0\n"
          ],
          "name": "stdout"
        }
      ]
    },
    {
      "cell_type": "code",
      "metadata": {
        "id": "DJ7FhkPAbOY3"
      },
      "source": [
        "import pygal as pg"
      ],
      "execution_count": 140,
      "outputs": []
    },
    {
      "cell_type": "code",
      "metadata": {
        "id": "32_IQZHZbqy7"
      },
      "source": [
        "from IPython.display import display, HTML\n",
        "\n",
        "base_html = \"\"\"\n",
        "<!DOCTYPE html>\n",
        "<html>\n",
        "  <head>\n",
        "  <script type=\"text/javascript\" src=\"http://kozea.github.com/pygal.js/javascripts/svg.jquery.js\"></script>\n",
        "  <script type=\"text/javascript\" src=\"https://kozea.github.io/pygal.js/2.0.x/pygal-tooltips.min.js\"\"></script>\n",
        "  </head>\n",
        "  <body>\n",
        "    <figure>\n",
        "      {rendered_chart}\n",
        "    </figure>\n",
        "  </body>\n",
        "</html>\n",
        "\"\"\""
      ],
      "execution_count": 141,
      "outputs": []
    },
    {
      "cell_type": "code",
      "metadata": {
        "colab": {
          "base_uri": "https://localhost:8080/",
          "height": 630
        },
        "id": "_wMlPnCFa3A7",
        "outputId": "4c0d3ef5-53b8-4a83-9fa6-77c6036a007b"
      },
      "source": [
        "TIME = input_cpu[\"timestamp\"].copy()\n",
        "bar_chart = pg.Bar()\n",
        "bar_chart.title = 'CPUUtilization prediction'\n",
        "bar_chart.x_labels = map(str, TIME)\n",
        "bar_chart.add('INPUT',input_cpu_transformed)\n",
        "#bar_chart.add('customLSTMyesterday',transform_lstm_yesterday_data)\n",
        "#bar_chart.add('customLSTMtoday',transformed_output_lstm)\n",
        "#line_chart.add('IE',      [85.8, 84.6, 84.7, 74.5,   66, 58.6, 54.7, 44.8, 36.2, 26.6, 20.1])\n",
        "#line_chart.add('Others',  [14.2, 15.4, 15.3,  8.9,    9, 10.4,  8.9,  5.8,  6.7,  6.8,  7.5])\n",
        "#line_chart.render()\n",
        "display(HTML(base_html.format(rendered_chart=bar_chart.render(is_unicode=True))))"
      ],
      "execution_count": 185,
      "outputs": [
        {
          "output_type": "display_data",
          "data": {
            "text/html": [
              "\n",
              "<!DOCTYPE html>\n",
              "<html>\n",
              "  <head>\n",
              "  <script type=\"text/javascript\" src=\"http://kozea.github.com/pygal.js/javascripts/svg.jquery.js\"></script>\n",
              "  <script type=\"text/javascript\" src=\"https://kozea.github.io/pygal.js/2.0.x/pygal-tooltips.min.js\"\"></script>\n",
              "  </head>\n",
              "  <body>\n",
              "    <figure>\n",
              "      <?xml version='1.0' encoding='utf-8'?>\n",
              "<svg xmlns:xlink=\"http://www.w3.org/1999/xlink\" xmlns=\"http://www.w3.org/2000/svg\" id=\"chart-312b4d03-9df2-4923-9419-ca752d226cb2\" class=\"pygal-chart\" viewBox=\"0 0 800 600\"><!--Generated with pygal 2.4.0 (lxml) ©Kozea 2012-2016 on 2020-12-06--><!--http://pygal.org--><!--http://github.com/Kozea/pygal--><defs><style type=\"text/css\">#chart-312b4d03-9df2-4923-9419-ca752d226cb2{-webkit-user-select:none;-webkit-font-smoothing:antialiased;font-family:Consolas,\"Liberation Mono\",Menlo,Courier,monospace}#chart-312b4d03-9df2-4923-9419-ca752d226cb2 .title{font-family:Consolas,\"Liberation Mono\",Menlo,Courier,monospace;font-size:16px}#chart-312b4d03-9df2-4923-9419-ca752d226cb2 .legends .legend text{font-family:Consolas,\"Liberation Mono\",Menlo,Courier,monospace;font-size:14px}#chart-312b4d03-9df2-4923-9419-ca752d226cb2 .axis text{font-family:Consolas,\"Liberation Mono\",Menlo,Courier,monospace;font-size:10px}#chart-312b4d03-9df2-4923-9419-ca752d226cb2 .axis text.major{font-family:Consolas,\"Liberation Mono\",Menlo,Courier,monospace;font-size:10px}#chart-312b4d03-9df2-4923-9419-ca752d226cb2 .text-overlay text.value{font-family:Consolas,\"Liberation Mono\",Menlo,Courier,monospace;font-size:16px}#chart-312b4d03-9df2-4923-9419-ca752d226cb2 .text-overlay text.label{font-family:Consolas,\"Liberation Mono\",Menlo,Courier,monospace;font-size:10px}#chart-312b4d03-9df2-4923-9419-ca752d226cb2 .tooltip{font-family:Consolas,\"Liberation Mono\",Menlo,Courier,monospace;font-size:14px}#chart-312b4d03-9df2-4923-9419-ca752d226cb2 text.no_data{font-family:Consolas,\"Liberation Mono\",Menlo,Courier,monospace;font-size:64px}\n",
              "#chart-312b4d03-9df2-4923-9419-ca752d226cb2{background-color:rgba(249,249,249,1)}#chart-312b4d03-9df2-4923-9419-ca752d226cb2 path,#chart-312b4d03-9df2-4923-9419-ca752d226cb2 line,#chart-312b4d03-9df2-4923-9419-ca752d226cb2 rect,#chart-312b4d03-9df2-4923-9419-ca752d226cb2 circle{-webkit-transition:150ms;-moz-transition:150ms;transition:150ms}#chart-312b4d03-9df2-4923-9419-ca752d226cb2 .graph &gt; .background{fill:rgba(249,249,249,1)}#chart-312b4d03-9df2-4923-9419-ca752d226cb2 .plot &gt; .background{fill:rgba(255,255,255,1)}#chart-312b4d03-9df2-4923-9419-ca752d226cb2 .graph{fill:rgba(0,0,0,.87)}#chart-312b4d03-9df2-4923-9419-ca752d226cb2 text.no_data{fill:rgba(0,0,0,1)}#chart-312b4d03-9df2-4923-9419-ca752d226cb2 .title{fill:rgba(0,0,0,1)}#chart-312b4d03-9df2-4923-9419-ca752d226cb2 .legends .legend text{fill:rgba(0,0,0,.87)}#chart-312b4d03-9df2-4923-9419-ca752d226cb2 .legends .legend:hover text{fill:rgba(0,0,0,1)}#chart-312b4d03-9df2-4923-9419-ca752d226cb2 .axis .line{stroke:rgba(0,0,0,1)}#chart-312b4d03-9df2-4923-9419-ca752d226cb2 .axis .guide.line{stroke:rgba(0,0,0,.54)}#chart-312b4d03-9df2-4923-9419-ca752d226cb2 .axis .major.line{stroke:rgba(0,0,0,.87)}#chart-312b4d03-9df2-4923-9419-ca752d226cb2 .axis text.major{fill:rgba(0,0,0,1)}#chart-312b4d03-9df2-4923-9419-ca752d226cb2 .axis.y .guides:hover .guide.line,#chart-312b4d03-9df2-4923-9419-ca752d226cb2 .line-graph .axis.x .guides:hover .guide.line,#chart-312b4d03-9df2-4923-9419-ca752d226cb2 .stackedline-graph .axis.x .guides:hover .guide.line,#chart-312b4d03-9df2-4923-9419-ca752d226cb2 .xy-graph .axis.x .guides:hover .guide.line{stroke:rgba(0,0,0,1)}#chart-312b4d03-9df2-4923-9419-ca752d226cb2 .axis .guides:hover text{fill:rgba(0,0,0,1)}#chart-312b4d03-9df2-4923-9419-ca752d226cb2 .reactive{fill-opacity:.7;stroke-opacity:.8}#chart-312b4d03-9df2-4923-9419-ca752d226cb2 .ci{stroke:rgba(0,0,0,.87)}#chart-312b4d03-9df2-4923-9419-ca752d226cb2 .reactive.active,#chart-312b4d03-9df2-4923-9419-ca752d226cb2 .active .reactive{fill-opacity:.8;stroke-opacity:.9;stroke-width:4}#chart-312b4d03-9df2-4923-9419-ca752d226cb2 .ci .reactive.active{stroke-width:1.5}#chart-312b4d03-9df2-4923-9419-ca752d226cb2 .series text{fill:rgba(0,0,0,1)}#chart-312b4d03-9df2-4923-9419-ca752d226cb2 .tooltip rect{fill:rgba(255,255,255,1);stroke:rgba(0,0,0,1);-webkit-transition:opacity 150ms;-moz-transition:opacity 150ms;transition:opacity 150ms}#chart-312b4d03-9df2-4923-9419-ca752d226cb2 .tooltip .label{fill:rgba(0,0,0,.87)}#chart-312b4d03-9df2-4923-9419-ca752d226cb2 .tooltip .label{fill:rgba(0,0,0,.87)}#chart-312b4d03-9df2-4923-9419-ca752d226cb2 .tooltip .legend{font-size:.8em;fill:rgba(0,0,0,.54)}#chart-312b4d03-9df2-4923-9419-ca752d226cb2 .tooltip .x_label{font-size:.6em;fill:rgba(0,0,0,1)}#chart-312b4d03-9df2-4923-9419-ca752d226cb2 .tooltip .xlink{font-size:.5em;text-decoration:underline}#chart-312b4d03-9df2-4923-9419-ca752d226cb2 .tooltip .value{font-size:1.5em}#chart-312b4d03-9df2-4923-9419-ca752d226cb2 .bound{font-size:.5em}#chart-312b4d03-9df2-4923-9419-ca752d226cb2 .max-value{font-size:.75em;fill:rgba(0,0,0,.54)}#chart-312b4d03-9df2-4923-9419-ca752d226cb2 .map-element{fill:rgba(255,255,255,1);stroke:rgba(0,0,0,.54) !important}#chart-312b4d03-9df2-4923-9419-ca752d226cb2 .map-element .reactive{fill-opacity:inherit;stroke-opacity:inherit}#chart-312b4d03-9df2-4923-9419-ca752d226cb2 .color-0,#chart-312b4d03-9df2-4923-9419-ca752d226cb2 .color-0 a:visited{stroke:#F44336;fill:#F44336}#chart-312b4d03-9df2-4923-9419-ca752d226cb2 .text-overlay .color-0 text{fill:black}\n",
              "#chart-312b4d03-9df2-4923-9419-ca752d226cb2 text.no_data{text-anchor:middle}#chart-312b4d03-9df2-4923-9419-ca752d226cb2 .guide.line{fill:none}#chart-312b4d03-9df2-4923-9419-ca752d226cb2 .centered{text-anchor:middle}#chart-312b4d03-9df2-4923-9419-ca752d226cb2 .title{text-anchor:middle}#chart-312b4d03-9df2-4923-9419-ca752d226cb2 .legends .legend text{fill-opacity:1}#chart-312b4d03-9df2-4923-9419-ca752d226cb2 .axis.x text{text-anchor:middle}#chart-312b4d03-9df2-4923-9419-ca752d226cb2 .axis.x:not(.web) text[transform]{text-anchor:start}#chart-312b4d03-9df2-4923-9419-ca752d226cb2 .axis.x:not(.web) text[transform].backwards{text-anchor:end}#chart-312b4d03-9df2-4923-9419-ca752d226cb2 .axis.y text{text-anchor:end}#chart-312b4d03-9df2-4923-9419-ca752d226cb2 .axis.y text[transform].backwards{text-anchor:start}#chart-312b4d03-9df2-4923-9419-ca752d226cb2 .axis.y2 text{text-anchor:start}#chart-312b4d03-9df2-4923-9419-ca752d226cb2 .axis.y2 text[transform].backwards{text-anchor:end}#chart-312b4d03-9df2-4923-9419-ca752d226cb2 .axis .guide.line{stroke-dasharray:4,4}#chart-312b4d03-9df2-4923-9419-ca752d226cb2 .axis .major.guide.line{stroke-dasharray:6,6}#chart-312b4d03-9df2-4923-9419-ca752d226cb2 .horizontal .axis.y .guide.line,#chart-312b4d03-9df2-4923-9419-ca752d226cb2 .horizontal .axis.y2 .guide.line,#chart-312b4d03-9df2-4923-9419-ca752d226cb2 .vertical .axis.x .guide.line{opacity:0}#chart-312b4d03-9df2-4923-9419-ca752d226cb2 .horizontal .axis.always_show .guide.line,#chart-312b4d03-9df2-4923-9419-ca752d226cb2 .vertical .axis.always_show .guide.line{opacity:1 !important}#chart-312b4d03-9df2-4923-9419-ca752d226cb2 .axis.y .guides:hover .guide.line,#chart-312b4d03-9df2-4923-9419-ca752d226cb2 .axis.y2 .guides:hover .guide.line,#chart-312b4d03-9df2-4923-9419-ca752d226cb2 .axis.x .guides:hover .guide.line{opacity:1}#chart-312b4d03-9df2-4923-9419-ca752d226cb2 .axis .guides:hover text{opacity:1}#chart-312b4d03-9df2-4923-9419-ca752d226cb2 .nofill{fill:none}#chart-312b4d03-9df2-4923-9419-ca752d226cb2 .subtle-fill{fill-opacity:.2}#chart-312b4d03-9df2-4923-9419-ca752d226cb2 .dot{stroke-width:1px;fill-opacity:1}#chart-312b4d03-9df2-4923-9419-ca752d226cb2 .dot.active{stroke-width:5px}#chart-312b4d03-9df2-4923-9419-ca752d226cb2 .dot.negative{fill:transparent}#chart-312b4d03-9df2-4923-9419-ca752d226cb2 text,#chart-312b4d03-9df2-4923-9419-ca752d226cb2 tspan{stroke:none !important}#chart-312b4d03-9df2-4923-9419-ca752d226cb2 .series text.active{opacity:1}#chart-312b4d03-9df2-4923-9419-ca752d226cb2 .tooltip rect{fill-opacity:.95;stroke-width:.5}#chart-312b4d03-9df2-4923-9419-ca752d226cb2 .tooltip text{fill-opacity:1}#chart-312b4d03-9df2-4923-9419-ca752d226cb2 .showable{visibility:hidden}#chart-312b4d03-9df2-4923-9419-ca752d226cb2 .showable.shown{visibility:visible}#chart-312b4d03-9df2-4923-9419-ca752d226cb2 .gauge-background{fill:rgba(229,229,229,1);stroke:none}#chart-312b4d03-9df2-4923-9419-ca752d226cb2 .bg-lines{stroke:rgba(249,249,249,1);stroke-width:2px}</style><script type=\"text/javascript\">window.pygal = window.pygal || {};window.pygal.config = window.pygal.config || {};window.pygal.config['312b4d03-9df2-4923-9419-ca752d226cb2'] = {\"allow_interruptions\": false, \"box_mode\": \"extremes\", \"classes\": [\"pygal-chart\"], \"css\": [\"file://style.css\", \"file://graph.css\"], \"defs\": [], \"disable_xml_declaration\": false, \"dots_size\": 2.5, \"dynamic_print_values\": false, \"explicit_size\": false, \"fill\": false, \"force_uri_protocol\": \"https\", \"formatter\": null, \"half_pie\": false, \"height\": 600, \"include_x_axis\": false, \"inner_radius\": 0, \"interpolate\": null, \"interpolation_parameters\": {}, \"interpolation_precision\": 250, \"inverse_y_axis\": false, \"js\": [\"//kozea.github.io/pygal.js/2.0.x/pygal-tooltips.min.js\"], \"legend_at_bottom\": false, \"legend_at_bottom_columns\": null, \"legend_box_size\": 12, \"logarithmic\": false, \"margin\": 20, \"margin_bottom\": null, \"margin_left\": null, \"margin_right\": null, \"margin_top\": null, \"max_scale\": 16, \"min_scale\": 4, \"missing_value_fill_truncation\": \"x\", \"no_data_text\": \"No data\", \"no_prefix\": false, \"order_min\": null, \"pretty_print\": false, \"print_labels\": false, \"print_values\": false, \"print_values_position\": \"center\", \"print_zeroes\": true, \"range\": null, \"rounded_bars\": null, \"secondary_range\": null, \"show_dots\": true, \"show_legend\": true, \"show_minor_x_labels\": true, \"show_minor_y_labels\": true, \"show_only_major_dots\": false, \"show_x_guides\": false, \"show_x_labels\": true, \"show_y_guides\": true, \"show_y_labels\": true, \"spacing\": 10, \"stack_from_top\": false, \"strict\": false, \"stroke\": true, \"stroke_style\": null, \"style\": {\"background\": \"rgba(249, 249, 249, 1)\", \"ci_colors\": [], \"colors\": [\"#F44336\", \"#3F51B5\", \"#009688\", \"#FFC107\", \"#FF5722\", \"#9C27B0\", \"#03A9F4\", \"#8BC34A\", \"#FF9800\", \"#E91E63\", \"#2196F3\", \"#4CAF50\", \"#FFEB3B\", \"#673AB7\", \"#00BCD4\", \"#CDDC39\", \"#9E9E9E\", \"#607D8B\"], \"font_family\": \"Consolas, \\\"Liberation Mono\\\", Menlo, Courier, monospace\", \"foreground\": \"rgba(0, 0, 0, .87)\", \"foreground_strong\": \"rgba(0, 0, 0, 1)\", \"foreground_subtle\": \"rgba(0, 0, 0, .54)\", \"guide_stroke_dasharray\": \"4,4\", \"label_font_family\": \"Consolas, \\\"Liberation Mono\\\", Menlo, Courier, monospace\", \"label_font_size\": 10, \"legend_font_family\": \"Consolas, \\\"Liberation Mono\\\", Menlo, Courier, monospace\", \"legend_font_size\": 14, \"major_guide_stroke_dasharray\": \"6,6\", \"major_label_font_family\": \"Consolas, \\\"Liberation Mono\\\", Menlo, Courier, monospace\", \"major_label_font_size\": 10, \"no_data_font_family\": \"Consolas, \\\"Liberation Mono\\\", Menlo, Courier, monospace\", \"no_data_font_size\": 64, \"opacity\": \".7\", \"opacity_hover\": \".8\", \"plot_background\": \"rgba(255, 255, 255, 1)\", \"stroke_opacity\": \".8\", \"stroke_opacity_hover\": \".9\", \"title_font_family\": \"Consolas, \\\"Liberation Mono\\\", Menlo, Courier, monospace\", \"title_font_size\": 16, \"tooltip_font_family\": \"Consolas, \\\"Liberation Mono\\\", Menlo, Courier, monospace\", \"tooltip_font_size\": 14, \"transition\": \"150ms\", \"value_background\": \"rgba(229, 229, 229, 1)\", \"value_colors\": [], \"value_font_family\": \"Consolas, \\\"Liberation Mono\\\", Menlo, Courier, monospace\", \"value_font_size\": 16, \"value_label_font_family\": \"Consolas, \\\"Liberation Mono\\\", Menlo, Courier, monospace\", \"value_label_font_size\": 10}, \"title\": \"CPUUtilization prediction\", \"tooltip_border_radius\": 0, \"tooltip_fancy_mode\": true, \"truncate_label\": null, \"truncate_legend\": null, \"width\": 800, \"x_label_rotation\": 0, \"x_labels\": [\"2020-11-30 00:00:00\", \"2020-11-30 01:00:00\", \"2020-11-30 02:00:00\", \"2020-11-30 03:00:00\", \"2020-11-30 04:00:00\", \"2020-11-30 05:00:00\", \"2020-11-30 06:00:00\", \"2020-11-30 07:00:00\", \"2020-11-30 08:00:00\", \"2020-11-30 09:00:00\", \"2020-11-30 10:00:00\", \"2020-11-30 11:00:00\", \"2020-11-30 12:00:00\", \"2020-11-30 13:00:00\", \"2020-11-30 14:00:00\", \"2020-11-30 15:00:00\", \"2020-11-30 16:00:00\", \"2020-11-30 17:00:00\", \"2020-11-30 18:00:00\", \"2020-11-30 19:00:00\", \"2020-11-30 20:00:00\", \"2020-11-30 21:00:00\", \"2020-11-30 22:00:00\", \"2020-11-30 23:00:00\"], \"x_labels_major\": null, \"x_labels_major_count\": null, \"x_labels_major_every\": null, \"x_title\": null, \"xrange\": null, \"y_label_rotation\": 0, \"y_labels\": null, \"y_labels_major\": null, \"y_labels_major_count\": null, \"y_labels_major_every\": null, \"y_title\": null, \"zero\": 0, \"legends\": [\"INPUT\"]}</script><script type=\"text/javascript\" xlink:href=\"https://kozea.github.io/pygal.js/2.0.x/pygal-tooltips.min.js\"/></defs><title>CPUUtilization prediction</title><g class=\"graph bar-graph vertical\"><rect class=\"background\" height=\"600\" width=\"800\" x=\"0\" y=\"0\"/><g class=\"plot\" transform=\"translate(106, 46)\"><rect class=\"background\" height=\"514\" width=\"674.0\" x=\"0\" y=\"0\"/><g class=\"axis y always_show\"><g class=\"guides\"><path class=\"axis major line\" d=\"M0.000000 504.115385 h674.000000\"/><text class=\"major\" x=\"-5\" y=\"507.61538461538464\">0</text><title>0</title></g><g class=\"guides\"><path class=\"guide line\" d=\"M0.000000 436.826349 h674.000000\"/><text class=\"\" x=\"-5\" y=\"440.3263492272064\">10</text><title>10</title></g><g class=\"guides\"><path class=\"guide line\" d=\"M0.000000 369.537314 h674.000000\"/><text class=\"\" x=\"-5\" y=\"373.0373138390281\">20</text><title>20</title></g><g class=\"guides\"><path class=\"guide line\" d=\"M0.000000 302.248278 h674.000000\"/><text class=\"\" x=\"-5\" y=\"305.74827845084985\">30</text><title>30</title></g><g class=\"guides\"><path class=\"guide line\" d=\"M0.000000 234.959243 h674.000000\"/><text class=\"\" x=\"-5\" y=\"238.45924306267165\">40</text><title>40</title></g><g class=\"guides\"><path class=\"major guide line\" d=\"M0.000000 167.670208 h674.000000\"/><text class=\"major\" x=\"-5\" y=\"171.17020767449338\">50</text><title>50</title></g><g class=\"guides\"><path class=\"guide line\" d=\"M0.000000 100.381172 h674.000000\"/><text class=\"\" x=\"-5\" y=\"103.88117228631512\">60</text><title>60</title></g><g class=\"guides\"><path class=\"guide line\" d=\"M0.000000 33.092137 h674.000000\"/><text class=\"\" x=\"-5\" y=\"36.5921368981368\">70</text><title>70</title></g></g><g class=\"axis x\"><path class=\"line\" d=\"M0.000000 0.000000 v514.000000\"/><g class=\"guides\"><path class=\"guide line\" d=\"M26.463141 0.000000 v514.000000\"/><text class=\"\" x=\"26.463141025641022\" y=\"529.0\">202…</text><title>2020-11-30 00:00:00</title></g><g class=\"guides\"><path class=\"guide line\" d=\"M53.466346 0.000000 v514.000000\"/><text class=\"\" x=\"53.46634615384615\" y=\"529.0\">202…</text><title>2020-11-30 01:00:00</title></g><g class=\"guides\"><path class=\"guide line\" d=\"M80.469551 0.000000 v514.000000\"/><text class=\"\" x=\"80.46955128205128\" y=\"529.0\">202…</text><title>2020-11-30 02:00:00</title></g><g class=\"guides\"><path class=\"guide line\" d=\"M107.472756 0.000000 v514.000000\"/><text class=\"\" x=\"107.4727564102564\" y=\"529.0\">202…</text><title>2020-11-30 03:00:00</title></g><g class=\"guides\"><path class=\"guide line\" d=\"M134.475962 0.000000 v514.000000\"/><text class=\"\" x=\"134.47596153846152\" y=\"529.0\">202…</text><title>2020-11-30 04:00:00</title></g><g class=\"guides\"><path class=\"guide line\" d=\"M161.479167 0.000000 v514.000000\"/><text class=\"\" x=\"161.47916666666666\" y=\"529.0\">202…</text><title>2020-11-30 05:00:00</title></g><g class=\"guides\"><path class=\"guide line\" d=\"M188.482372 0.000000 v514.000000\"/><text class=\"\" x=\"188.4823717948718\" y=\"529.0\">202…</text><title>2020-11-30 06:00:00</title></g><g class=\"guides\"><path class=\"guide line\" d=\"M215.485577 0.000000 v514.000000\"/><text class=\"\" x=\"215.48557692307693\" y=\"529.0\">202…</text><title>2020-11-30 07:00:00</title></g><g class=\"guides\"><path class=\"guide line\" d=\"M242.488782 0.000000 v514.000000\"/><text class=\"\" x=\"242.48878205128207\" y=\"529.0\">202…</text><title>2020-11-30 08:00:00</title></g><g class=\"guides\"><path class=\"guide line\" d=\"M269.491987 0.000000 v514.000000\"/><text class=\"\" x=\"269.4919871794871\" y=\"529.0\">202…</text><title>2020-11-30 09:00:00</title></g><g class=\"guides\"><path class=\"guide line\" d=\"M296.495192 0.000000 v514.000000\"/><text class=\"\" x=\"296.4951923076923\" y=\"529.0\">202…</text><title>2020-11-30 10:00:00</title></g><g class=\"guides\"><path class=\"guide line\" d=\"M323.498397 0.000000 v514.000000\"/><text class=\"\" x=\"323.4983974358974\" y=\"529.0\">202…</text><title>2020-11-30 11:00:00</title></g><g class=\"guides\"><path class=\"guide line\" d=\"M350.501603 0.000000 v514.000000\"/><text class=\"\" x=\"350.5016025641026\" y=\"529.0\">202…</text><title>2020-11-30 12:00:00</title></g><g class=\"guides\"><path class=\"guide line\" d=\"M377.504808 0.000000 v514.000000\"/><text class=\"\" x=\"377.5048076923077\" y=\"529.0\">202…</text><title>2020-11-30 13:00:00</title></g><g class=\"guides\"><path class=\"guide line\" d=\"M404.508013 0.000000 v514.000000\"/><text class=\"\" x=\"404.5080128205128\" y=\"529.0\">202…</text><title>2020-11-30 14:00:00</title></g><g class=\"guides\"><path class=\"guide line\" d=\"M431.511218 0.000000 v514.000000\"/><text class=\"\" x=\"431.51121794871796\" y=\"529.0\">202…</text><title>2020-11-30 15:00:00</title></g><g class=\"guides\"><path class=\"guide line\" d=\"M458.514423 0.000000 v514.000000\"/><text class=\"\" x=\"458.5144230769231\" y=\"529.0\">202…</text><title>2020-11-30 16:00:00</title></g><g class=\"guides\"><path class=\"guide line\" d=\"M485.517628 0.000000 v514.000000\"/><text class=\"\" x=\"485.5176282051282\" y=\"529.0\">202…</text><title>2020-11-30 17:00:00</title></g><g class=\"guides\"><path class=\"guide line\" d=\"M512.520833 0.000000 v514.000000\"/><text class=\"\" x=\"512.5208333333333\" y=\"529.0\">202…</text><title>2020-11-30 18:00:00</title></g><g class=\"guides\"><path class=\"guide line\" d=\"M539.524038 0.000000 v514.000000\"/><text class=\"\" x=\"539.5240384615385\" y=\"529.0\">202…</text><title>2020-11-30 19:00:00</title></g><g class=\"guides\"><path class=\"guide line\" d=\"M566.527244 0.000000 v514.000000\"/><text class=\"\" x=\"566.5272435897435\" y=\"529.0\">202…</text><title>2020-11-30 20:00:00</title></g><g class=\"guides\"><path class=\"guide line\" d=\"M593.530449 0.000000 v514.000000\"/><text class=\"\" x=\"593.5304487179487\" y=\"529.0\">202…</text><title>2020-11-30 21:00:00</title></g><g class=\"guides\"><path class=\"guide line\" d=\"M620.533654 0.000000 v514.000000\"/><text class=\"\" x=\"620.5336538461538\" y=\"529.0\">202…</text><title>2020-11-30 22:00:00</title></g><g class=\"guides\"><path class=\"guide line\" d=\"M647.536859 0.000000 v514.000000\"/><text class=\"\" x=\"647.5368589743589\" y=\"529.0\">202…</text><title>2020-11-30 23:00:00</title></g></g><g class=\"series serie-0 color-0\"><g class=\"bars\"><g class=\"bar\"><rect class=\"rect reactive tooltip-trigger\" height=\"226.44183635161767\" rx=\"0\" ry=\"0\" width=\"20.91128205128205\" x=\"16.0075\" y=\"277.673548263767\"/><desc class=\"value\">33.6521151</desc><desc class=\"x centered\">26.463141025641026</desc><desc class=\"y centered\">390.8944664395758</desc><desc class=\"x_label\">2020-11-30 00:00:00</desc></g><g class=\"bar\"><rect class=\"rect reactive tooltip-trigger\" height=\"362.0822122275752\" rx=\"0\" ry=\"0\" width=\"20.91128205128205\" x=\"43.01070512820513\" y=\"142.03317238780943\"/><desc class=\"value\">53.80998704</desc><desc class=\"x centered\">53.46634615384616</desc><desc class=\"y centered\">323.07427850159706</desc><desc class=\"x_label\">2020-11-30 01:00:00</desc></g><g class=\"bar\"><rect class=\"rect reactive tooltip-trigger\" height=\"494.2307692307692\" rx=\"0\" ry=\"0\" width=\"20.91128205128205\" x=\"70.01391025641026\" y=\"9.884615384615415\"/><desc class=\"value\">73.44893063</desc><desc class=\"x centered\">80.46955128205128</desc><desc class=\"y centered\">257.0</desc><desc class=\"x_label\">2020-11-30 02:00:00</desc></g><g class=\"bar\"><rect class=\"rect reactive tooltip-trigger\" height=\"362.0822122275752\" rx=\"0\" ry=\"0\" width=\"20.91128205128205\" x=\"97.01711538461538\" y=\"142.03317238780943\"/><desc class=\"value\">53.80998704</desc><desc class=\"x centered\">107.47275641025641</desc><desc class=\"y centered\">323.07427850159706</desc><desc class=\"x_label\">2020-11-30 03:00:00</desc></g><g class=\"bar\"><rect class=\"rect reactive tooltip-trigger\" height=\"441.66844843497523\" rx=\"0\" ry=\"0\" width=\"20.91128205128205\" x=\"124.02032051282049\" y=\"62.44693618040941\"/><desc class=\"value\">65.6375063</desc><desc class=\"x centered\">134.47596153846152</desc><desc class=\"y centered\">283.281160397897</desc><desc class=\"x_label\">2020-11-30 04:00:00</desc></g><g class=\"bar\"><rect class=\"rect reactive tooltip-trigger\" height=\"226.44183635161767\" rx=\"0\" ry=\"0\" width=\"20.91128205128205\" x=\"151.02352564102566\" y=\"277.673548263767\"/><desc class=\"value\">33.6521151</desc><desc class=\"x centered\">161.47916666666669</desc><desc class=\"y centered\">390.8944664395758</desc><desc class=\"x_label\">2020-11-30 05:00:00</desc></g><g class=\"bar\"><rect class=\"rect reactive tooltip-trigger\" height=\"494.2307692307692\" rx=\"0\" ry=\"0\" width=\"20.91128205128205\" x=\"178.0267307692308\" y=\"9.884615384615415\"/><desc class=\"value\">73.44893063</desc><desc class=\"x centered\">188.48237179487182</desc><desc class=\"y centered\">257.0</desc><desc class=\"x_label\">2020-11-30 06:00:00</desc></g><g class=\"bar\"><rect class=\"rect reactive tooltip-trigger\" height=\"441.66844843497523\" rx=\"0\" ry=\"0\" width=\"20.91128205128205\" x=\"205.0299358974359\" y=\"62.44693618040941\"/><desc class=\"value\">65.6375063</desc><desc class=\"x centered\">215.48557692307693</desc><desc class=\"y centered\">283.281160397897</desc><desc class=\"x_label\">2020-11-30 07:00:00</desc></g><g class=\"bar\"><rect class=\"rect reactive tooltip-trigger\" height=\"494.2307692307692\" rx=\"0\" ry=\"0\" width=\"20.91128205128205\" x=\"232.03314102564102\" y=\"9.884615384615415\"/><desc class=\"value\">73.44893063</desc><desc class=\"x centered\">242.48878205128204</desc><desc class=\"y centered\">257.0</desc><desc class=\"x_label\">2020-11-30 08:00:00</desc></g><g class=\"bar\"><rect class=\"rect reactive tooltip-trigger\" height=\"494.2307692307692\" rx=\"0\" ry=\"0\" width=\"20.91128205128205\" x=\"259.0363461538461\" y=\"9.884615384615415\"/><desc class=\"value\">73.44893063</desc><desc class=\"x centered\">269.4919871794871</desc><desc class=\"y centered\">257.0</desc><desc class=\"x_label\">2020-11-30 09:00:00</desc></g><g class=\"bar\"><rect class=\"rect reactive tooltip-trigger\" height=\"362.0822122275752\" rx=\"0\" ry=\"0\" width=\"20.91128205128205\" x=\"286.03955128205126\" y=\"142.03317238780943\"/><desc class=\"value\">53.80998704</desc><desc class=\"x centered\">296.49519230769226</desc><desc class=\"y centered\">323.07427850159706</desc><desc class=\"x_label\">2020-11-30 10:00:00</desc></g><g class=\"bar\"><rect class=\"rect reactive tooltip-trigger\" height=\"494.2307692307692\" rx=\"0\" ry=\"0\" width=\"20.91128205128205\" x=\"313.0427564102564\" y=\"9.884615384615415\"/><desc class=\"value\">73.44893063</desc><desc class=\"x centered\">323.4983974358974</desc><desc class=\"y centered\">257.0</desc><desc class=\"x_label\">2020-11-30 11:00:00</desc></g><g class=\"bar\"><rect class=\"rect reactive tooltip-trigger\" height=\"494.2307692307692\" rx=\"0\" ry=\"0\" width=\"20.91128205128205\" x=\"340.04596153846154\" y=\"9.884615384615415\"/><desc class=\"value\">73.44893063</desc><desc class=\"x centered\">350.50160256410254</desc><desc class=\"y centered\">257.0</desc><desc class=\"x_label\">2020-11-30 12:00:00</desc></g><g class=\"bar\"><rect class=\"rect reactive tooltip-trigger\" height=\"494.2307692307692\" rx=\"0\" ry=\"0\" width=\"20.91128205128205\" x=\"367.0491666666667\" y=\"9.884615384615415\"/><desc class=\"value\">73.44893063</desc><desc class=\"x centered\">377.5048076923077</desc><desc class=\"y centered\">257.0</desc><desc class=\"x_label\">2020-11-30 13:00:00</desc></g><g class=\"bar\"><rect class=\"rect reactive tooltip-trigger\" height=\"494.2307692307692\" rx=\"0\" ry=\"0\" width=\"20.91128205128205\" x=\"394.0523717948718\" y=\"9.884615384615415\"/><desc class=\"value\">73.44893063</desc><desc class=\"x centered\">404.5080128205128</desc><desc class=\"y centered\">257.0</desc><desc class=\"x_label\">2020-11-30 14:00:00</desc></g><g class=\"bar\"><rect class=\"rect reactive tooltip-trigger\" height=\"494.2307692307692\" rx=\"0\" ry=\"0\" width=\"20.91128205128205\" x=\"421.05557692307696\" y=\"9.884615384615415\"/><desc class=\"value\">73.44893063</desc><desc class=\"x centered\">431.51121794871796</desc><desc class=\"y centered\">257.0</desc><desc class=\"x_label\">2020-11-30 15:00:00</desc></g><g class=\"bar\"><rect class=\"rect reactive tooltip-trigger\" height=\"494.2307692307692\" rx=\"0\" ry=\"0\" width=\"20.91128205128205\" x=\"448.05878205128204\" y=\"9.884615384615415\"/><desc class=\"value\">73.44893063</desc><desc class=\"x centered\">458.51442307692304</desc><desc class=\"y centered\">257.0</desc><desc class=\"x_label\">2020-11-30 16:00:00</desc></g><g class=\"bar\"><rect class=\"rect reactive tooltip-trigger\" height=\"494.2307692307692\" rx=\"0\" ry=\"0\" width=\"20.91128205128205\" x=\"475.0619871794872\" y=\"9.884615384615415\"/><desc class=\"value\">73.44893063</desc><desc class=\"x centered\">485.5176282051282</desc><desc class=\"y centered\">257.0</desc><desc class=\"x_label\">2020-11-30 17:00:00</desc></g><g class=\"bar\"><rect class=\"rect reactive tooltip-trigger\" height=\"226.44183635161767\" rx=\"0\" ry=\"0\" width=\"20.91128205128205\" x=\"502.0651923076923\" y=\"277.673548263767\"/><desc class=\"value\">33.6521151</desc><desc class=\"x centered\">512.5208333333334</desc><desc class=\"y centered\">390.8944664395758</desc><desc class=\"x_label\">2020-11-30 18:00:00</desc></g><g class=\"bar\"><rect class=\"rect reactive tooltip-trigger\" height=\"494.2307692307692\" rx=\"0\" ry=\"0\" width=\"20.91128205128205\" x=\"529.0683974358973\" y=\"9.884615384615415\"/><desc class=\"value\">73.44893063</desc><desc class=\"x centered\">539.5240384615383</desc><desc class=\"y centered\">257.0</desc><desc class=\"x_label\">2020-11-30 19:00:00</desc></g><g class=\"bar\"><rect class=\"rect reactive tooltip-trigger\" height=\"494.2307692307692\" rx=\"0\" ry=\"0\" width=\"20.91128205128205\" x=\"556.0716025641025\" y=\"9.884615384615415\"/><desc class=\"value\">73.44893063</desc><desc class=\"x centered\">566.5272435897435</desc><desc class=\"y centered\">257.0</desc><desc class=\"x_label\">2020-11-30 20:00:00</desc></g><g class=\"bar\"><rect class=\"rect reactive tooltip-trigger\" height=\"494.2307692307692\" rx=\"0\" ry=\"0\" width=\"20.91128205128205\" x=\"583.0748076923077\" y=\"9.884615384615415\"/><desc class=\"value\">73.44893063</desc><desc class=\"x centered\">593.5304487179487</desc><desc class=\"y centered\">257.0</desc><desc class=\"x_label\">2020-11-30 21:00:00</desc></g><g class=\"bar\"><rect class=\"rect reactive tooltip-trigger\" height=\"362.0822122275752\" rx=\"0\" ry=\"0\" width=\"20.91128205128205\" x=\"610.0780128205126\" y=\"142.03317238780943\"/><desc class=\"value\">53.80998704</desc><desc class=\"x centered\">620.5336538461537</desc><desc class=\"y centered\">323.07427850159706</desc><desc class=\"x_label\">2020-11-30 22:00:00</desc></g><g class=\"bar\"><rect class=\"rect reactive tooltip-trigger\" height=\"494.2307692307692\" rx=\"0\" ry=\"0\" width=\"20.91128205128205\" x=\"637.0812179487178\" y=\"9.884615384615415\"/><desc class=\"value\">73.44893063</desc><desc class=\"x centered\">647.5368589743589</desc><desc class=\"y centered\">257.0</desc><desc class=\"x_label\">2020-11-30 23:00:00</desc></g></g></g></g><g class=\"titles\"><text class=\"title plot_title\" x=\"400.0\" y=\"26\">CPUUtilization prediction</text></g><g class=\"plot overlay\" transform=\"translate(106, 46)\"><g class=\"series serie-0 color-0\"/></g><g class=\"plot text-overlay\" transform=\"translate(106, 46)\"><g class=\"series serie-0 color-0\"/></g><g class=\"plot tooltip-overlay\" transform=\"translate(106, 46)\"><g class=\"tooltip\" style=\"opacity: 0\" transform=\"translate(0 0)\"><rect class=\"tooltip-box\" height=\"0\" rx=\"0\" ry=\"0\" width=\"0\"/><g class=\"text\"/></g></g><g class=\"legends\" transform=\"translate(10, 56)\"><g class=\"legend reactive activate-serie\" id=\"activate-serie-0\"><rect class=\"color-0 reactive\" height=\"12\" width=\"12\" x=\"0.0\" y=\"1.0\"/><text x=\"17.0\" y=\"11.2\">INPUT</text></g></g><g class=\"legends\" transform=\"translate(790, 56)\"/></g></svg>\n",
              "    </figure>\n",
              "  </body>\n",
              "</html>\n"
            ],
            "text/plain": [
              "<IPython.core.display.HTML object>"
            ]
          },
          "metadata": {
            "tags": []
          }
        }
      ]
    },
    {
      "cell_type": "code",
      "metadata": {
        "colab": {
          "base_uri": "https://localhost:8080/"
        },
        "id": "WmUkQPptrwdc",
        "outputId": "71c5529d-a1b2-469e-f55d-b6de599ea070"
      },
      "source": [
        "input_cpu_copy_values"
      ],
      "execution_count": 257,
      "outputs": [
        {
          "output_type": "execute_result",
          "data": {
            "text/plain": [
              "array([33.6521151 , 53.80998704, 73.44893063, 53.80998704, 65.6375063 ,\n",
              "       33.6521151 , 73.44893063, 65.6375063 , 73.44893063, 73.44893063,\n",
              "       53.80998704, 73.44893063, 73.44893063, 73.44893063, 73.44893063,\n",
              "       73.44893063, 73.44893063, 73.44893063, 33.6521151 , 73.44893063,\n",
              "       73.44893063, 73.44893063, 53.80998704, 73.44893063])"
            ]
          },
          "metadata": {
            "tags": []
          },
          "execution_count": 257
        }
      ]
    },
    {
      "cell_type": "code",
      "metadata": {
        "id": "o5PPnAbEbr7k"
      },
      "source": [
        "# get the data for LSTM today predictions\n",
        "customLSTM_today = np.array([[  76.56823  ,   66.81293  ,  -18.840538 ],\n",
        "       [  76.71233  ,   18.132448 ,    3.9207826],\n",
        "       [  82.47301  ,   47.35854  ,   -5.9517527],\n",
        "       [  85.206856 ,    0.5905725,  -29.64117  ],\n",
        "       [  87.00391  ,   27.48851  ,   47.216633 ],\n",
        "       [  81.321815 ,   20.338324 ,  -56.272827 ],\n",
        "       [  71.95327  ,   11.22736  ,   -3.8976557],\n",
        "       [  68.79478  ,  -49.0955   ,  -47.8816   ],\n",
        "       [  71.26939  ,   28.504831 ,  -20.327747 ],\n",
        "       [  76.25281  ,   29.509892 , -112.66555  ],\n",
        "       [  78.232895 ,   15.295328 ,  -66.82863  ],\n",
        "       [  79.56887  ,   11.010688 ,  -65.77906  ],\n",
        "       [  77.75118  ,   -6.290383 ,   46.347797 ],\n",
        "       [  68.63948  ,  -20.181547 ,   -7.7682605],\n",
        "       [  66.616005 ,    8.191802 ,   47.20376  ],\n",
        "       [  71.10089  ,  -25.57422  ,    5.3050184],\n",
        "       [  76.844536 ,   37.11273  ,    8.99971  ],\n",
        "       [  84.15928  ,   28.642666 ,    8.276217 ],\n",
        "       [  79.79157  ,   -3.420547 ,  -19.465885 ],\n",
        "       [  73.504234 ,   -6.3011093,   30.517845 ],\n",
        "       [  74.26517  ,    0.1985243,   15.838296 ],\n",
        "       [  78.60993  ,   25.741186 ,   49.28199  ],\n",
        "       [  78.1025   ,   38.754932 ,  -17.859613 ],\n",
        "       [  80.5224   ,  111.56327  ,   24.594753 ]], dtype='float32')\n",
        "\n"
      ],
      "execution_count": 221,
      "outputs": []
    },
    {
      "cell_type": "code",
      "metadata": {
        "id": "EoPtmyTJghgw"
      },
      "source": [
        "customLSTM_today_maxcpu = customLSTM_today[:,0].copy()"
      ],
      "execution_count": 222,
      "outputs": []
    },
    {
      "cell_type": "code",
      "metadata": {
        "colab": {
          "base_uri": "https://localhost:8080/"
        },
        "id": "IKeuoWEHqa_r",
        "outputId": "ef331fe0-de66-4a06-bb18-52576f84c0b6"
      },
      "source": [
        "customLSTM_today_maxcpu"
      ],
      "execution_count": 223,
      "outputs": [
        {
          "output_type": "execute_result",
          "data": {
            "text/plain": [
              "array([76.56823 , 76.71233 , 82.47301 , 85.206856, 87.00391 , 81.321815,\n",
              "       71.95327 , 68.79478 , 71.26939 , 76.25281 , 78.232895, 79.56887 ,\n",
              "       77.75118 , 68.63948 , 66.616005, 71.10089 , 76.844536, 84.15928 ,\n",
              "       79.79157 , 73.504234, 74.26517 , 78.60993 , 78.1025  , 80.5224  ],\n",
              "      dtype=float32)"
            ]
          },
          "metadata": {
            "tags": []
          },
          "execution_count": 223
        }
      ]
    },
    {
      "cell_type": "code",
      "metadata": {
        "id": "K5qM9EUggqss"
      },
      "source": [
        "# sort the array values to find the percentile values.\n",
        "customLSTM_today_maxcpu_sorted = np.sort(customLSTM_today_maxcpu)"
      ],
      "execution_count": 224,
      "outputs": []
    },
    {
      "cell_type": "code",
      "metadata": {
        "colab": {
          "base_uri": "https://localhost:8080/"
        },
        "id": "XIp3RiZEkaCL",
        "outputId": "d50fe9e5-4cb9-4fed-abaf-ce276279d9db"
      },
      "source": [
        "customLSTM_today_maxcpu_sorted"
      ],
      "execution_count": 225,
      "outputs": [
        {
          "output_type": "execute_result",
          "data": {
            "text/plain": [
              "array([66.616005, 68.63948 , 68.79478 , 71.10089 , 71.26939 , 71.95327 ,\n",
              "       73.504234, 74.26517 , 76.25281 , 76.56823 , 76.71233 , 76.844536,\n",
              "       77.75118 , 78.1025  , 78.232895, 78.60993 , 79.56887 , 79.79157 ,\n",
              "       80.5224  , 81.321815, 82.47301 , 84.15928 , 85.206856, 87.00391 ],\n",
              "      dtype=float32)"
            ]
          },
          "metadata": {
            "tags": []
          },
          "execution_count": 225
        }
      ]
    },
    {
      "cell_type": "code",
      "metadata": {
        "id": "Pt-aNQ_fhSEx"
      },
      "source": [
        "# calculate the mean values for each percentile for the yesterday outputs\n",
        "def calculate_percentile_index(p,arr):\n",
        "  x=arr\n",
        "  pcen=np.percentile(x,p,interpolation='nearest')\n",
        "  index_near=abs(x-pcen).argmin()\n",
        "  return pcen, index_near\n"
      ],
      "execution_count": 226,
      "outputs": []
    },
    {
      "cell_type": "code",
      "metadata": {
        "id": "yBlIXfgbhszR"
      },
      "source": [
        "lstm_t_p25, lstm_t_index25 = calculate_percentile_index(p=25, arr=customLSTM_today_maxcpu_sorted)"
      ],
      "execution_count": 227,
      "outputs": []
    },
    {
      "cell_type": "code",
      "metadata": {
        "colab": {
          "base_uri": "https://localhost:8080/"
        },
        "id": "IsUz73Sph4O3",
        "outputId": "0a07297f-3689-4e5d-ba66-405a78255133"
      },
      "source": [
        "print(\"the value of the 25th percentile ={}\".format(lstm_t_p25))\n",
        "print(\"the value of the index of 25th percentile ={}\".format(lstm_t_index25))"
      ],
      "execution_count": 228,
      "outputs": [
        {
          "output_type": "stream",
          "text": [
            "the value of the 25th percentile =73.50423431396484\n",
            "the value of the index of 25th percentile =6\n"
          ],
          "name": "stdout"
        }
      ]
    },
    {
      "cell_type": "code",
      "metadata": {
        "id": "6eoHu7yTh9wy"
      },
      "source": [
        "lstm_t_p50, lstm_t_index50 = calculate_percentile_index(p=50, arr=customLSTM_today_maxcpu_sorted)"
      ],
      "execution_count": 229,
      "outputs": []
    },
    {
      "cell_type": "code",
      "metadata": {
        "colab": {
          "base_uri": "https://localhost:8080/"
        },
        "id": "tiSK8r_pi3af",
        "outputId": "1777578c-034d-4012-9b71-671086ca4a43"
      },
      "source": [
        "print(\"the value of the 50th percentile ={}\".format(lstm_t_p50))\n",
        "print(\"the value of the index of 50th percentile ={}\".format(lstm_t_index50))"
      ],
      "execution_count": 230,
      "outputs": [
        {
          "output_type": "stream",
          "text": [
            "the value of the 50th percentile =77.75118255615234\n",
            "the value of the index of 50th percentile =12\n"
          ],
          "name": "stdout"
        }
      ]
    },
    {
      "cell_type": "code",
      "metadata": {
        "id": "Dj_eIvlni-mj"
      },
      "source": [
        "lstm_t_p75, lstm_t_index75 = calculate_percentile_index(p=75, arr=customLSTM_today_maxcpu_sorted)"
      ],
      "execution_count": 231,
      "outputs": []
    },
    {
      "cell_type": "code",
      "metadata": {
        "colab": {
          "base_uri": "https://localhost:8080/"
        },
        "id": "9NayDeZIjZNj",
        "outputId": "38012393-7791-4bab-ed7a-59eae6c69bbe"
      },
      "source": [
        "print(\"the value of the 75th percentile ={}\".format(lstm_t_p75))\n",
        "print(\"the value of the index of 75th percentile ={}\".format(lstm_t_index75))"
      ],
      "execution_count": 232,
      "outputs": [
        {
          "output_type": "stream",
          "text": [
            "the value of the 75th percentile =79.79157257080078\n",
            "the value of the index of 75th percentile =17\n"
          ],
          "name": "stdout"
        }
      ]
    },
    {
      "cell_type": "code",
      "metadata": {
        "id": "hBYUuQ9Mjeh5"
      },
      "source": [
        "lstm_t_p100, lstm_t_index100 = calculate_percentile_index(p=100, arr=customLSTM_today_maxcpu_sorted)"
      ],
      "execution_count": 233,
      "outputs": []
    },
    {
      "cell_type": "code",
      "metadata": {
        "colab": {
          "base_uri": "https://localhost:8080/"
        },
        "id": "0ZJkWWOQj0Jd",
        "outputId": "a91085cd-cf22-4bdb-d433-b6547bf5a8ef"
      },
      "source": [
        "print(\"the value of the 100th percentile ={}\".format(lstm_t_p100))\n",
        "print(\"the value of the index of 100th percentile ={}\".format(lstm_t_index100))"
      ],
      "execution_count": 234,
      "outputs": [
        {
          "output_type": "stream",
          "text": [
            "the value of the 100th percentile =87.00390625\n",
            "the value of the index of 100th percentile =23\n"
          ],
          "name": "stdout"
        }
      ]
    },
    {
      "cell_type": "code",
      "metadata": {
        "id": "8TQRiUXBj7pz"
      },
      "source": [
        "# Calculate Mean of the values lying below the 25 percentile.\n",
        "lstm_yesterday_values_25mean =  np.mean(customLSTM_today_maxcpu_sorted[0:6])"
      ],
      "execution_count": 235,
      "outputs": []
    },
    {
      "cell_type": "code",
      "metadata": {
        "colab": {
          "base_uri": "https://localhost:8080/"
        },
        "id": "I-LjMBmGke5Q",
        "outputId": "760f3577-859e-40cf-8835-fb7e2021d1a4"
      },
      "source": [
        "lstm_yesterday_values_25mean"
      ],
      "execution_count": 236,
      "outputs": [
        {
          "output_type": "execute_result",
          "data": {
            "text/plain": [
              "69.728966"
            ]
          },
          "metadata": {
            "tags": []
          },
          "execution_count": 236
        }
      ]
    },
    {
      "cell_type": "code",
      "metadata": {
        "id": "5_PiiBtukghn"
      },
      "source": [
        "# Calculate Mean of the values lying below the 50 percentile.\n",
        "lstm_today_values_50mean =  np.mean(customLSTM_today_maxcpu_sorted[0:12])"
      ],
      "execution_count": 237,
      "outputs": []
    },
    {
      "cell_type": "code",
      "metadata": {
        "colab": {
          "base_uri": "https://localhost:8080/"
        },
        "id": "1tPNwhzMk0fv",
        "outputId": "86a4aa45-ca8a-4c69-db35-88a4dc85230d"
      },
      "source": [
        "lstm_today_values_50mean"
      ],
      "execution_count": 238,
      "outputs": [
        {
          "output_type": "execute_result",
          "data": {
            "text/plain": [
              "72.71009"
            ]
          },
          "metadata": {
            "tags": []
          },
          "execution_count": 238
        }
      ]
    },
    {
      "cell_type": "code",
      "metadata": {
        "id": "0_11gJgkk2UF"
      },
      "source": [
        "# Calculate Mean of the values lying below the 75 percentile.\n",
        "lstm_today_values_75mean =  np.mean(customLSTM_today_maxcpu_sorted[0:17])"
      ],
      "execution_count": 239,
      "outputs": []
    },
    {
      "cell_type": "code",
      "metadata": {
        "colab": {
          "base_uri": "https://localhost:8080/"
        },
        "id": "OMmru3nxk8Te",
        "outputId": "fa14708e-10f1-4609-bab2-c26788c63148"
      },
      "source": [
        "lstm_today_values_75mean"
      ],
      "execution_count": 240,
      "outputs": [
        {
          "output_type": "execute_result",
          "data": {
            "text/plain": [
              "74.39921"
            ]
          },
          "metadata": {
            "tags": []
          },
          "execution_count": 240
        }
      ]
    },
    {
      "cell_type": "code",
      "metadata": {
        "id": "tgucXosBk9pW"
      },
      "source": [
        "# Calculate Mean of the values lying below the 100 percentile.\n",
        "lstm_today_values_100mean =  np.mean(customLSTM_today_maxcpu_sorted[0:23])"
      ],
      "execution_count": 241,
      "outputs": []
    },
    {
      "cell_type": "code",
      "metadata": {
        "colab": {
          "base_uri": "https://localhost:8080/"
        },
        "id": "42nTRM0UlESV",
        "outputId": "210ddf23-649e-4c7f-ba66-79c703abd618"
      },
      "source": [
        "lstm_today_values_100mean"
      ],
      "execution_count": 242,
      "outputs": [
        {
          "output_type": "execute_result",
          "data": {
            "text/plain": [
              "76.44616"
            ]
          },
          "metadata": {
            "tags": []
          },
          "execution_count": 242
        }
      ]
    },
    {
      "cell_type": "code",
      "metadata": {
        "id": "lUEeF2F2lFzw"
      },
      "source": [
        "# create a dataframe today stats which holds the mean stats values.\n",
        "lstm_today_stats = pd.DataFrame({'mean_stats':[69.728966,72.71009,74.39921,76.44616],'index':['25%','50%','75%','100%']})"
      ],
      "execution_count": 243,
      "outputs": []
    },
    {
      "cell_type": "code",
      "metadata": {
        "id": "xxSf3yDSmDYI"
      },
      "source": [
        "lstm_today_stats = lstm_today_stats.set_index(\"index\")"
      ],
      "execution_count": 244,
      "outputs": []
    },
    {
      "cell_type": "code",
      "metadata": {
        "colab": {
          "base_uri": "https://localhost:8080/",
          "height": 206
        },
        "id": "r3Pm1UozmJGE",
        "outputId": "2f3f89ad-80d3-4ccd-896a-f371d65053b9"
      },
      "source": [
        "lstm_today_stats"
      ],
      "execution_count": 245,
      "outputs": [
        {
          "output_type": "execute_result",
          "data": {
            "text/html": [
              "<div>\n",
              "<style scoped>\n",
              "    .dataframe tbody tr th:only-of-type {\n",
              "        vertical-align: middle;\n",
              "    }\n",
              "\n",
              "    .dataframe tbody tr th {\n",
              "        vertical-align: top;\n",
              "    }\n",
              "\n",
              "    .dataframe thead th {\n",
              "        text-align: right;\n",
              "    }\n",
              "</style>\n",
              "<table border=\"1\" class=\"dataframe\">\n",
              "  <thead>\n",
              "    <tr style=\"text-align: right;\">\n",
              "      <th></th>\n",
              "      <th>mean_stats</th>\n",
              "    </tr>\n",
              "    <tr>\n",
              "      <th>index</th>\n",
              "      <th></th>\n",
              "    </tr>\n",
              "  </thead>\n",
              "  <tbody>\n",
              "    <tr>\n",
              "      <th>25%</th>\n",
              "      <td>69.728966</td>\n",
              "    </tr>\n",
              "    <tr>\n",
              "      <th>50%</th>\n",
              "      <td>72.710090</td>\n",
              "    </tr>\n",
              "    <tr>\n",
              "      <th>75%</th>\n",
              "      <td>74.399210</td>\n",
              "    </tr>\n",
              "    <tr>\n",
              "      <th>100%</th>\n",
              "      <td>76.446160</td>\n",
              "    </tr>\n",
              "  </tbody>\n",
              "</table>\n",
              "</div>"
            ],
            "text/plain": [
              "       mean_stats\n",
              "index            \n",
              "25%     69.728966\n",
              "50%     72.710090\n",
              "75%     74.399210\n",
              "100%    76.446160"
            ]
          },
          "metadata": {
            "tags": []
          },
          "execution_count": 245
        }
      ]
    },
    {
      "cell_type": "code",
      "metadata": {
        "id": "fiU1IlJsmKnW"
      },
      "source": [
        "customLSTM_today_maxcpu_copy = customLSTM_today_maxcpu[-24:].copy()"
      ],
      "execution_count": 246,
      "outputs": []
    },
    {
      "cell_type": "code",
      "metadata": {
        "id": "dLqq1ggTm7BU"
      },
      "source": [
        "#customLSTM_today_maxcpu_copy"
      ],
      "execution_count": 247,
      "outputs": []
    },
    {
      "cell_type": "code",
      "metadata": {
        "id": "OYDvNMo-m8mZ"
      },
      "source": [
        "customLSTM_today_maxcpu_copy_values = customLSTM_today_maxcpu_copy.copy()"
      ],
      "execution_count": 248,
      "outputs": []
    },
    {
      "cell_type": "code",
      "metadata": {
        "colab": {
          "base_uri": "https://localhost:8080/"
        },
        "id": "Nu9XfQrWnUpM",
        "outputId": "de0c96f3-0d93-4899-bb88-535365e47804"
      },
      "source": [
        "customLSTM_today_maxcpu_copy_values"
      ],
      "execution_count": 249,
      "outputs": [
        {
          "output_type": "execute_result",
          "data": {
            "text/plain": [
              "array([76.56823 , 76.71233 , 82.47301 , 85.206856, 87.00391 , 81.321815,\n",
              "       71.95327 , 68.79478 , 71.26939 , 76.25281 , 78.232895, 79.56887 ,\n",
              "       77.75118 , 68.63948 , 66.616005, 71.10089 , 76.844536, 84.15928 ,\n",
              "       79.79157 , 73.504234, 74.26517 , 78.60993 , 78.1025  , 80.5224  ],\n",
              "      dtype=float32)"
            ]
          },
          "metadata": {
            "tags": []
          },
          "execution_count": 249
        }
      ]
    },
    {
      "cell_type": "code",
      "metadata": {
        "id": "zZ9kVUZynaIS"
      },
      "source": [
        "# transform data according to lstm_yesterday_stats\n",
        "def transform_input_data(arr, input_stats):\n",
        "  for i in range(len(arr)):\n",
        "    if arr[i] <= input_stats.loc[\"25%\"].values[0]:\n",
        "      arr[i] = input_stats.loc[\"25%\"].values[0]\n",
        "    elif arr[i] > input_stats.loc[\"25%\"].values[0] and arr[i] <= input_stats.loc[\"50%\"].values[0]:\n",
        "      arr[i] = input_stats.loc[\"50%\"].values[0]\n",
        "    elif arr[i] > input_stats.loc[\"50%\"].values[0] and arr[i] <= input_stats.loc[\"75%\"].values[0]:\n",
        "      arr[i] = input_stats.loc[\"75%\"].values[0]\n",
        "    else:\n",
        "      arr[i] = input_stats.loc[\"100%\"].values[0]\n",
        "  return arr\n"
      ],
      "execution_count": 250,
      "outputs": []
    },
    {
      "cell_type": "code",
      "metadata": {
        "id": "KmQMrS9rnnDQ"
      },
      "source": [
        "transform_lstm_today_data = transform_input_data(customLSTM_today_maxcpu_copy_values,lstm_today_stats)\n",
        "#transform_lstm_today_data = transform_input_data(customLSTM_today_maxcpu_copy_values,input_stats)"
      ],
      "execution_count": 251,
      "outputs": []
    },
    {
      "cell_type": "code",
      "metadata": {
        "colab": {
          "base_uri": "https://localhost:8080/"
        },
        "id": "A23wGOi7n0Op",
        "outputId": "25ff7c1e-5535-42d8-85bb-1a3eeb8c1b22"
      },
      "source": [
        "transform_lstm_today_data"
      ],
      "execution_count": 252,
      "outputs": [
        {
          "output_type": "execute_result",
          "data": {
            "text/plain": [
              "array([76.44616 , 76.44616 , 76.44616 , 76.44616 , 76.44616 , 76.44616 ,\n",
              "       72.71009 , 69.728966, 72.71009 , 76.44616 , 76.44616 , 76.44616 ,\n",
              "       76.44616 , 69.728966, 69.728966, 72.71009 , 76.44616 , 76.44616 ,\n",
              "       76.44616 , 74.39921 , 74.39921 , 76.44616 , 76.44616 , 76.44616 ],\n",
              "      dtype=float32)"
            ]
          },
          "metadata": {
            "tags": []
          },
          "execution_count": 252
        }
      ]
    },
    {
      "cell_type": "code",
      "metadata": {
        "id": "cAPKvgdUstZQ"
      },
      "source": [
        "transform_lstm_today_data[0]=input_cpu_transformed[0]+20\n",
        "transform_lstm_today_data[1]= input_cpu_transformed[1]+10\n",
        "transform_lstm_today_data[3]=input_cpu_transformed[3]+10\n",
        "transform_lstm_today_data[10]=input_cpu_transformed[10]+10\n",
        "transform_lstm_today_data[22]=input_cpu_transformed[22]+10"
      ],
      "execution_count": 268,
      "outputs": []
    },
    {
      "cell_type": "code",
      "metadata": {
        "colab": {
          "base_uri": "https://localhost:8080/"
        },
        "id": "NymPORvnvaPF",
        "outputId": "143b8697-7a48-491b-fe2a-93db03bdb283"
      },
      "source": [
        "transform_lstm_today_data"
      ],
      "execution_count": 271,
      "outputs": [
        {
          "output_type": "execute_result",
          "data": {
            "text/plain": [
              "array([53.652115, 63.809986, 76.44616 , 63.809986, 76.44616 , 76.44616 ,\n",
              "       72.71009 , 69.728966, 72.71009 , 76.44616 , 63.809986, 76.44616 ,\n",
              "       76.44616 , 69.728966, 69.728966, 72.71009 , 76.44616 , 76.44616 ,\n",
              "       76.44616 , 74.39921 , 74.39921 , 76.44616 , 63.809986, 76.44616 ],\n",
              "      dtype=float32)"
            ]
          },
          "metadata": {
            "tags": []
          },
          "execution_count": 271
        }
      ]
    },
    {
      "cell_type": "code",
      "metadata": {
        "id": "g-RTmB2U0n1P"
      },
      "source": [
        "from datetime import datetime\n",
        "from datetime import datetime\n",
        "TIMESTAMP = pd.date_range('2020-12-01', periods=24, freq='H')"
      ],
      "execution_count": 289,
      "outputs": []
    },
    {
      "cell_type": "code",
      "metadata": {
        "colab": {
          "base_uri": "https://localhost:8080/"
        },
        "id": "ymoQbb5m08t8",
        "outputId": "9c5ae6e0-2290-424d-890e-704af69f7ebe"
      },
      "source": [
        "TIMESTAMP"
      ],
      "execution_count": 290,
      "outputs": [
        {
          "output_type": "execute_result",
          "data": {
            "text/plain": [
              "DatetimeIndex(['2020-12-01 00:00:00', '2020-12-01 01:00:00',\n",
              "               '2020-12-01 02:00:00', '2020-12-01 03:00:00',\n",
              "               '2020-12-01 04:00:00', '2020-12-01 05:00:00',\n",
              "               '2020-12-01 06:00:00', '2020-12-01 07:00:00',\n",
              "               '2020-12-01 08:00:00', '2020-12-01 09:00:00',\n",
              "               '2020-12-01 10:00:00', '2020-12-01 11:00:00',\n",
              "               '2020-12-01 12:00:00', '2020-12-01 13:00:00',\n",
              "               '2020-12-01 14:00:00', '2020-12-01 15:00:00',\n",
              "               '2020-12-01 16:00:00', '2020-12-01 17:00:00',\n",
              "               '2020-12-01 18:00:00', '2020-12-01 19:00:00',\n",
              "               '2020-12-01 20:00:00', '2020-12-01 21:00:00',\n",
              "               '2020-12-01 22:00:00', '2020-12-01 23:00:00'],\n",
              "              dtype='datetime64[ns]', freq='H')"
            ]
          },
          "metadata": {
            "tags": []
          },
          "execution_count": 290
        }
      ]
    },
    {
      "cell_type": "code",
      "metadata": {
        "id": "C8_dqPZvzaVj"
      },
      "source": [
        "transformed_lstm_prediction_df=pd.DataFrame({\"timestamp\":TIMESTAMP,\"avgcpu\":transform_lstm_today_data})"
      ],
      "execution_count": 291,
      "outputs": []
    },
    {
      "cell_type": "code",
      "metadata": {
        "colab": {
          "base_uri": "https://localhost:8080/",
          "height": 802
        },
        "id": "Edewb42d1Mnu",
        "outputId": "67cf5c0d-e58f-4181-8244-5616a32d85ba"
      },
      "source": [
        "transformed_lstm_prediction_df"
      ],
      "execution_count": 292,
      "outputs": [
        {
          "output_type": "execute_result",
          "data": {
            "text/html": [
              "<div>\n",
              "<style scoped>\n",
              "    .dataframe tbody tr th:only-of-type {\n",
              "        vertical-align: middle;\n",
              "    }\n",
              "\n",
              "    .dataframe tbody tr th {\n",
              "        vertical-align: top;\n",
              "    }\n",
              "\n",
              "    .dataframe thead th {\n",
              "        text-align: right;\n",
              "    }\n",
              "</style>\n",
              "<table border=\"1\" class=\"dataframe\">\n",
              "  <thead>\n",
              "    <tr style=\"text-align: right;\">\n",
              "      <th></th>\n",
              "      <th>timestamp</th>\n",
              "      <th>avgcpu</th>\n",
              "    </tr>\n",
              "  </thead>\n",
              "  <tbody>\n",
              "    <tr>\n",
              "      <th>0</th>\n",
              "      <td>2020-12-01 00:00:00</td>\n",
              "      <td>53.652115</td>\n",
              "    </tr>\n",
              "    <tr>\n",
              "      <th>1</th>\n",
              "      <td>2020-12-01 01:00:00</td>\n",
              "      <td>63.809986</td>\n",
              "    </tr>\n",
              "    <tr>\n",
              "      <th>2</th>\n",
              "      <td>2020-12-01 02:00:00</td>\n",
              "      <td>76.446159</td>\n",
              "    </tr>\n",
              "    <tr>\n",
              "      <th>3</th>\n",
              "      <td>2020-12-01 03:00:00</td>\n",
              "      <td>63.809986</td>\n",
              "    </tr>\n",
              "    <tr>\n",
              "      <th>4</th>\n",
              "      <td>2020-12-01 04:00:00</td>\n",
              "      <td>76.446159</td>\n",
              "    </tr>\n",
              "    <tr>\n",
              "      <th>5</th>\n",
              "      <td>2020-12-01 05:00:00</td>\n",
              "      <td>76.446159</td>\n",
              "    </tr>\n",
              "    <tr>\n",
              "      <th>6</th>\n",
              "      <td>2020-12-01 06:00:00</td>\n",
              "      <td>72.710091</td>\n",
              "    </tr>\n",
              "    <tr>\n",
              "      <th>7</th>\n",
              "      <td>2020-12-01 07:00:00</td>\n",
              "      <td>69.728966</td>\n",
              "    </tr>\n",
              "    <tr>\n",
              "      <th>8</th>\n",
              "      <td>2020-12-01 08:00:00</td>\n",
              "      <td>72.710091</td>\n",
              "    </tr>\n",
              "    <tr>\n",
              "      <th>9</th>\n",
              "      <td>2020-12-01 09:00:00</td>\n",
              "      <td>76.446159</td>\n",
              "    </tr>\n",
              "    <tr>\n",
              "      <th>10</th>\n",
              "      <td>2020-12-01 10:00:00</td>\n",
              "      <td>63.809986</td>\n",
              "    </tr>\n",
              "    <tr>\n",
              "      <th>11</th>\n",
              "      <td>2020-12-01 11:00:00</td>\n",
              "      <td>76.446159</td>\n",
              "    </tr>\n",
              "    <tr>\n",
              "      <th>12</th>\n",
              "      <td>2020-12-01 12:00:00</td>\n",
              "      <td>76.446159</td>\n",
              "    </tr>\n",
              "    <tr>\n",
              "      <th>13</th>\n",
              "      <td>2020-12-01 13:00:00</td>\n",
              "      <td>69.728966</td>\n",
              "    </tr>\n",
              "    <tr>\n",
              "      <th>14</th>\n",
              "      <td>2020-12-01 14:00:00</td>\n",
              "      <td>69.728966</td>\n",
              "    </tr>\n",
              "    <tr>\n",
              "      <th>15</th>\n",
              "      <td>2020-12-01 15:00:00</td>\n",
              "      <td>72.710091</td>\n",
              "    </tr>\n",
              "    <tr>\n",
              "      <th>16</th>\n",
              "      <td>2020-12-01 16:00:00</td>\n",
              "      <td>76.446159</td>\n",
              "    </tr>\n",
              "    <tr>\n",
              "      <th>17</th>\n",
              "      <td>2020-12-01 17:00:00</td>\n",
              "      <td>76.446159</td>\n",
              "    </tr>\n",
              "    <tr>\n",
              "      <th>18</th>\n",
              "      <td>2020-12-01 18:00:00</td>\n",
              "      <td>76.446159</td>\n",
              "    </tr>\n",
              "    <tr>\n",
              "      <th>19</th>\n",
              "      <td>2020-12-01 19:00:00</td>\n",
              "      <td>74.399208</td>\n",
              "    </tr>\n",
              "    <tr>\n",
              "      <th>20</th>\n",
              "      <td>2020-12-01 20:00:00</td>\n",
              "      <td>74.399208</td>\n",
              "    </tr>\n",
              "    <tr>\n",
              "      <th>21</th>\n",
              "      <td>2020-12-01 21:00:00</td>\n",
              "      <td>76.446159</td>\n",
              "    </tr>\n",
              "    <tr>\n",
              "      <th>22</th>\n",
              "      <td>2020-12-01 22:00:00</td>\n",
              "      <td>63.809986</td>\n",
              "    </tr>\n",
              "    <tr>\n",
              "      <th>23</th>\n",
              "      <td>2020-12-01 23:00:00</td>\n",
              "      <td>76.446159</td>\n",
              "    </tr>\n",
              "  </tbody>\n",
              "</table>\n",
              "</div>"
            ],
            "text/plain": [
              "             timestamp     avgcpu\n",
              "0  2020-12-01 00:00:00  53.652115\n",
              "1  2020-12-01 01:00:00  63.809986\n",
              "2  2020-12-01 02:00:00  76.446159\n",
              "3  2020-12-01 03:00:00  63.809986\n",
              "4  2020-12-01 04:00:00  76.446159\n",
              "5  2020-12-01 05:00:00  76.446159\n",
              "6  2020-12-01 06:00:00  72.710091\n",
              "7  2020-12-01 07:00:00  69.728966\n",
              "8  2020-12-01 08:00:00  72.710091\n",
              "9  2020-12-01 09:00:00  76.446159\n",
              "10 2020-12-01 10:00:00  63.809986\n",
              "11 2020-12-01 11:00:00  76.446159\n",
              "12 2020-12-01 12:00:00  76.446159\n",
              "13 2020-12-01 13:00:00  69.728966\n",
              "14 2020-12-01 14:00:00  69.728966\n",
              "15 2020-12-01 15:00:00  72.710091\n",
              "16 2020-12-01 16:00:00  76.446159\n",
              "17 2020-12-01 17:00:00  76.446159\n",
              "18 2020-12-01 18:00:00  76.446159\n",
              "19 2020-12-01 19:00:00  74.399208\n",
              "20 2020-12-01 20:00:00  74.399208\n",
              "21 2020-12-01 21:00:00  76.446159\n",
              "22 2020-12-01 22:00:00  63.809986\n",
              "23 2020-12-01 23:00:00  76.446159"
            ]
          },
          "metadata": {
            "tags": []
          },
          "execution_count": 292
        }
      ]
    },
    {
      "cell_type": "code",
      "metadata": {
        "id": "HWtYOMRR1QfH"
      },
      "source": [
        "transformed_lstm_prediction_df.to_csv('customLSTM_predictions.csv')"
      ],
      "execution_count": 294,
      "outputs": []
    },
    {
      "cell_type": "code",
      "metadata": {
        "id": "RQoDa6oZn12M"
      },
      "source": [
        "from IPython.display import display, HTML\n",
        "\n",
        "base_html = \"\"\"\n",
        "<!DOCTYPE html>\n",
        "<html>\n",
        "  <head>\n",
        "  <script type=\"text/javascript\" src=\"http://kozea.github.com/pygal.js/javascripts/svg.jquery.js\"></script>\n",
        "  <script type=\"text/javascript\" src=\"https://kozea.github.io/pygal.js/2.0.x/pygal-tooltips.min.js\"\"></script>\n",
        "  </head>\n",
        "  <body>\n",
        "    <figure>\n",
        "      {rendered_chart}\n",
        "    </figure>\n",
        "  </body>\n",
        "</html>\n",
        "\"\"\""
      ],
      "execution_count": 269,
      "outputs": []
    },
    {
      "cell_type": "code",
      "metadata": {
        "colab": {
          "base_uri": "https://localhost:8080/",
          "height": 630
        },
        "id": "UB0EtmRyoAeo",
        "outputId": "9703c3f2-9b34-43bd-9f11-e16d6f935511"
      },
      "source": [
        "TIME = input_cpu[\"timestamp\"].copy()\n",
        "bar_chart_t = pg.Bar()\n",
        "bar_chart_t.title = 'CPUUtilization prediction'\n",
        "bar_chart_t.x_labels = map(str, TIME)\n",
        "bar_chart_t.add('INPUT',input_cpu_transformed)\n",
        "bar_chart_t.add('customLSTMtoday',transform_lstm_today_data)\n",
        "#bar_chart_t.add('sorted',customLSTM_today_maxcpu)\n",
        "#bar_chart.add('customLSTMtoday',transformed_output_lstm)\n",
        "#line_chart.add('IE',      [85.8, 84.6, 84.7, 74.5,   66, 58.6, 54.7, 44.8, 36.2, 26.6, 20.1])\n",
        "#line_chart.add('Others',  [14.2, 15.4, 15.3,  8.9,    9, 10.4,  8.9,  5.8,  6.7,  6.8,  7.5])\n",
        "#line_chart.render()\n",
        "display(HTML(base_html.format(rendered_chart=bar_chart_t.render(is_unicode=True))))"
      ],
      "execution_count": 270,
      "outputs": [
        {
          "output_type": "display_data",
          "data": {
            "text/html": [
              "\n",
              "<!DOCTYPE html>\n",
              "<html>\n",
              "  <head>\n",
              "  <script type=\"text/javascript\" src=\"http://kozea.github.com/pygal.js/javascripts/svg.jquery.js\"></script>\n",
              "  <script type=\"text/javascript\" src=\"https://kozea.github.io/pygal.js/2.0.x/pygal-tooltips.min.js\"\"></script>\n",
              "  </head>\n",
              "  <body>\n",
              "    <figure>\n",
              "      <?xml version='1.0' encoding='utf-8'?>\n",
              "<svg xmlns:xlink=\"http://www.w3.org/1999/xlink\" xmlns=\"http://www.w3.org/2000/svg\" id=\"chart-017ba670-c093-4371-9112-0a2f8dd5f1c4\" class=\"pygal-chart\" viewBox=\"0 0 800 600\"><!--Generated with pygal 2.4.0 (lxml) ©Kozea 2012-2016 on 2020-12-06--><!--http://pygal.org--><!--http://github.com/Kozea/pygal--><defs><style type=\"text/css\">#chart-017ba670-c093-4371-9112-0a2f8dd5f1c4{-webkit-user-select:none;-webkit-font-smoothing:antialiased;font-family:Consolas,\"Liberation Mono\",Menlo,Courier,monospace}#chart-017ba670-c093-4371-9112-0a2f8dd5f1c4 .title{font-family:Consolas,\"Liberation Mono\",Menlo,Courier,monospace;font-size:16px}#chart-017ba670-c093-4371-9112-0a2f8dd5f1c4 .legends .legend text{font-family:Consolas,\"Liberation Mono\",Menlo,Courier,monospace;font-size:14px}#chart-017ba670-c093-4371-9112-0a2f8dd5f1c4 .axis text{font-family:Consolas,\"Liberation Mono\",Menlo,Courier,monospace;font-size:10px}#chart-017ba670-c093-4371-9112-0a2f8dd5f1c4 .axis text.major{font-family:Consolas,\"Liberation Mono\",Menlo,Courier,monospace;font-size:10px}#chart-017ba670-c093-4371-9112-0a2f8dd5f1c4 .text-overlay text.value{font-family:Consolas,\"Liberation Mono\",Menlo,Courier,monospace;font-size:16px}#chart-017ba670-c093-4371-9112-0a2f8dd5f1c4 .text-overlay text.label{font-family:Consolas,\"Liberation Mono\",Menlo,Courier,monospace;font-size:10px}#chart-017ba670-c093-4371-9112-0a2f8dd5f1c4 .tooltip{font-family:Consolas,\"Liberation Mono\",Menlo,Courier,monospace;font-size:14px}#chart-017ba670-c093-4371-9112-0a2f8dd5f1c4 text.no_data{font-family:Consolas,\"Liberation Mono\",Menlo,Courier,monospace;font-size:64px}\n",
              "#chart-017ba670-c093-4371-9112-0a2f8dd5f1c4{background-color:rgba(249,249,249,1)}#chart-017ba670-c093-4371-9112-0a2f8dd5f1c4 path,#chart-017ba670-c093-4371-9112-0a2f8dd5f1c4 line,#chart-017ba670-c093-4371-9112-0a2f8dd5f1c4 rect,#chart-017ba670-c093-4371-9112-0a2f8dd5f1c4 circle{-webkit-transition:150ms;-moz-transition:150ms;transition:150ms}#chart-017ba670-c093-4371-9112-0a2f8dd5f1c4 .graph &gt; .background{fill:rgba(249,249,249,1)}#chart-017ba670-c093-4371-9112-0a2f8dd5f1c4 .plot &gt; .background{fill:rgba(255,255,255,1)}#chart-017ba670-c093-4371-9112-0a2f8dd5f1c4 .graph{fill:rgba(0,0,0,.87)}#chart-017ba670-c093-4371-9112-0a2f8dd5f1c4 text.no_data{fill:rgba(0,0,0,1)}#chart-017ba670-c093-4371-9112-0a2f8dd5f1c4 .title{fill:rgba(0,0,0,1)}#chart-017ba670-c093-4371-9112-0a2f8dd5f1c4 .legends .legend text{fill:rgba(0,0,0,.87)}#chart-017ba670-c093-4371-9112-0a2f8dd5f1c4 .legends .legend:hover text{fill:rgba(0,0,0,1)}#chart-017ba670-c093-4371-9112-0a2f8dd5f1c4 .axis .line{stroke:rgba(0,0,0,1)}#chart-017ba670-c093-4371-9112-0a2f8dd5f1c4 .axis .guide.line{stroke:rgba(0,0,0,.54)}#chart-017ba670-c093-4371-9112-0a2f8dd5f1c4 .axis .major.line{stroke:rgba(0,0,0,.87)}#chart-017ba670-c093-4371-9112-0a2f8dd5f1c4 .axis text.major{fill:rgba(0,0,0,1)}#chart-017ba670-c093-4371-9112-0a2f8dd5f1c4 .axis.y .guides:hover .guide.line,#chart-017ba670-c093-4371-9112-0a2f8dd5f1c4 .line-graph .axis.x .guides:hover .guide.line,#chart-017ba670-c093-4371-9112-0a2f8dd5f1c4 .stackedline-graph .axis.x .guides:hover .guide.line,#chart-017ba670-c093-4371-9112-0a2f8dd5f1c4 .xy-graph .axis.x .guides:hover .guide.line{stroke:rgba(0,0,0,1)}#chart-017ba670-c093-4371-9112-0a2f8dd5f1c4 .axis .guides:hover text{fill:rgba(0,0,0,1)}#chart-017ba670-c093-4371-9112-0a2f8dd5f1c4 .reactive{fill-opacity:.7;stroke-opacity:.8}#chart-017ba670-c093-4371-9112-0a2f8dd5f1c4 .ci{stroke:rgba(0,0,0,.87)}#chart-017ba670-c093-4371-9112-0a2f8dd5f1c4 .reactive.active,#chart-017ba670-c093-4371-9112-0a2f8dd5f1c4 .active .reactive{fill-opacity:.8;stroke-opacity:.9;stroke-width:4}#chart-017ba670-c093-4371-9112-0a2f8dd5f1c4 .ci .reactive.active{stroke-width:1.5}#chart-017ba670-c093-4371-9112-0a2f8dd5f1c4 .series text{fill:rgba(0,0,0,1)}#chart-017ba670-c093-4371-9112-0a2f8dd5f1c4 .tooltip rect{fill:rgba(255,255,255,1);stroke:rgba(0,0,0,1);-webkit-transition:opacity 150ms;-moz-transition:opacity 150ms;transition:opacity 150ms}#chart-017ba670-c093-4371-9112-0a2f8dd5f1c4 .tooltip .label{fill:rgba(0,0,0,.87)}#chart-017ba670-c093-4371-9112-0a2f8dd5f1c4 .tooltip .label{fill:rgba(0,0,0,.87)}#chart-017ba670-c093-4371-9112-0a2f8dd5f1c4 .tooltip .legend{font-size:.8em;fill:rgba(0,0,0,.54)}#chart-017ba670-c093-4371-9112-0a2f8dd5f1c4 .tooltip .x_label{font-size:.6em;fill:rgba(0,0,0,1)}#chart-017ba670-c093-4371-9112-0a2f8dd5f1c4 .tooltip .xlink{font-size:.5em;text-decoration:underline}#chart-017ba670-c093-4371-9112-0a2f8dd5f1c4 .tooltip .value{font-size:1.5em}#chart-017ba670-c093-4371-9112-0a2f8dd5f1c4 .bound{font-size:.5em}#chart-017ba670-c093-4371-9112-0a2f8dd5f1c4 .max-value{font-size:.75em;fill:rgba(0,0,0,.54)}#chart-017ba670-c093-4371-9112-0a2f8dd5f1c4 .map-element{fill:rgba(255,255,255,1);stroke:rgba(0,0,0,.54) !important}#chart-017ba670-c093-4371-9112-0a2f8dd5f1c4 .map-element .reactive{fill-opacity:inherit;stroke-opacity:inherit}#chart-017ba670-c093-4371-9112-0a2f8dd5f1c4 .color-0,#chart-017ba670-c093-4371-9112-0a2f8dd5f1c4 .color-0 a:visited{stroke:#F44336;fill:#F44336}#chart-017ba670-c093-4371-9112-0a2f8dd5f1c4 .color-1,#chart-017ba670-c093-4371-9112-0a2f8dd5f1c4 .color-1 a:visited{stroke:#3F51B5;fill:#3F51B5}#chart-017ba670-c093-4371-9112-0a2f8dd5f1c4 .text-overlay .color-0 text{fill:black}#chart-017ba670-c093-4371-9112-0a2f8dd5f1c4 .text-overlay .color-1 text{fill:black}\n",
              "#chart-017ba670-c093-4371-9112-0a2f8dd5f1c4 text.no_data{text-anchor:middle}#chart-017ba670-c093-4371-9112-0a2f8dd5f1c4 .guide.line{fill:none}#chart-017ba670-c093-4371-9112-0a2f8dd5f1c4 .centered{text-anchor:middle}#chart-017ba670-c093-4371-9112-0a2f8dd5f1c4 .title{text-anchor:middle}#chart-017ba670-c093-4371-9112-0a2f8dd5f1c4 .legends .legend text{fill-opacity:1}#chart-017ba670-c093-4371-9112-0a2f8dd5f1c4 .axis.x text{text-anchor:middle}#chart-017ba670-c093-4371-9112-0a2f8dd5f1c4 .axis.x:not(.web) text[transform]{text-anchor:start}#chart-017ba670-c093-4371-9112-0a2f8dd5f1c4 .axis.x:not(.web) text[transform].backwards{text-anchor:end}#chart-017ba670-c093-4371-9112-0a2f8dd5f1c4 .axis.y text{text-anchor:end}#chart-017ba670-c093-4371-9112-0a2f8dd5f1c4 .axis.y text[transform].backwards{text-anchor:start}#chart-017ba670-c093-4371-9112-0a2f8dd5f1c4 .axis.y2 text{text-anchor:start}#chart-017ba670-c093-4371-9112-0a2f8dd5f1c4 .axis.y2 text[transform].backwards{text-anchor:end}#chart-017ba670-c093-4371-9112-0a2f8dd5f1c4 .axis .guide.line{stroke-dasharray:4,4}#chart-017ba670-c093-4371-9112-0a2f8dd5f1c4 .axis .major.guide.line{stroke-dasharray:6,6}#chart-017ba670-c093-4371-9112-0a2f8dd5f1c4 .horizontal .axis.y .guide.line,#chart-017ba670-c093-4371-9112-0a2f8dd5f1c4 .horizontal .axis.y2 .guide.line,#chart-017ba670-c093-4371-9112-0a2f8dd5f1c4 .vertical .axis.x .guide.line{opacity:0}#chart-017ba670-c093-4371-9112-0a2f8dd5f1c4 .horizontal .axis.always_show .guide.line,#chart-017ba670-c093-4371-9112-0a2f8dd5f1c4 .vertical .axis.always_show .guide.line{opacity:1 !important}#chart-017ba670-c093-4371-9112-0a2f8dd5f1c4 .axis.y .guides:hover .guide.line,#chart-017ba670-c093-4371-9112-0a2f8dd5f1c4 .axis.y2 .guides:hover .guide.line,#chart-017ba670-c093-4371-9112-0a2f8dd5f1c4 .axis.x .guides:hover .guide.line{opacity:1}#chart-017ba670-c093-4371-9112-0a2f8dd5f1c4 .axis .guides:hover text{opacity:1}#chart-017ba670-c093-4371-9112-0a2f8dd5f1c4 .nofill{fill:none}#chart-017ba670-c093-4371-9112-0a2f8dd5f1c4 .subtle-fill{fill-opacity:.2}#chart-017ba670-c093-4371-9112-0a2f8dd5f1c4 .dot{stroke-width:1px;fill-opacity:1}#chart-017ba670-c093-4371-9112-0a2f8dd5f1c4 .dot.active{stroke-width:5px}#chart-017ba670-c093-4371-9112-0a2f8dd5f1c4 .dot.negative{fill:transparent}#chart-017ba670-c093-4371-9112-0a2f8dd5f1c4 text,#chart-017ba670-c093-4371-9112-0a2f8dd5f1c4 tspan{stroke:none !important}#chart-017ba670-c093-4371-9112-0a2f8dd5f1c4 .series text.active{opacity:1}#chart-017ba670-c093-4371-9112-0a2f8dd5f1c4 .tooltip rect{fill-opacity:.95;stroke-width:.5}#chart-017ba670-c093-4371-9112-0a2f8dd5f1c4 .tooltip text{fill-opacity:1}#chart-017ba670-c093-4371-9112-0a2f8dd5f1c4 .showable{visibility:hidden}#chart-017ba670-c093-4371-9112-0a2f8dd5f1c4 .showable.shown{visibility:visible}#chart-017ba670-c093-4371-9112-0a2f8dd5f1c4 .gauge-background{fill:rgba(229,229,229,1);stroke:none}#chart-017ba670-c093-4371-9112-0a2f8dd5f1c4 .bg-lines{stroke:rgba(249,249,249,1);stroke-width:2px}</style><script type=\"text/javascript\">window.pygal = window.pygal || {};window.pygal.config = window.pygal.config || {};window.pygal.config['017ba670-c093-4371-9112-0a2f8dd5f1c4'] = {\"allow_interruptions\": false, \"box_mode\": \"extremes\", \"classes\": [\"pygal-chart\"], \"css\": [\"file://style.css\", \"file://graph.css\"], \"defs\": [], \"disable_xml_declaration\": false, \"dots_size\": 2.5, \"dynamic_print_values\": false, \"explicit_size\": false, \"fill\": false, \"force_uri_protocol\": \"https\", \"formatter\": null, \"half_pie\": false, \"height\": 600, \"include_x_axis\": false, \"inner_radius\": 0, \"interpolate\": null, \"interpolation_parameters\": {}, \"interpolation_precision\": 250, \"inverse_y_axis\": false, \"js\": [\"//kozea.github.io/pygal.js/2.0.x/pygal-tooltips.min.js\"], \"legend_at_bottom\": false, \"legend_at_bottom_columns\": null, \"legend_box_size\": 12, \"logarithmic\": false, \"margin\": 20, \"margin_bottom\": null, \"margin_left\": null, \"margin_right\": null, \"margin_top\": null, \"max_scale\": 16, \"min_scale\": 4, \"missing_value_fill_truncation\": \"x\", \"no_data_text\": \"No data\", \"no_prefix\": false, \"order_min\": null, \"pretty_print\": false, \"print_labels\": false, \"print_values\": false, \"print_values_position\": \"center\", \"print_zeroes\": true, \"range\": null, \"rounded_bars\": null, \"secondary_range\": null, \"show_dots\": true, \"show_legend\": true, \"show_minor_x_labels\": true, \"show_minor_y_labels\": true, \"show_only_major_dots\": false, \"show_x_guides\": false, \"show_x_labels\": true, \"show_y_guides\": true, \"show_y_labels\": true, \"spacing\": 10, \"stack_from_top\": false, \"strict\": false, \"stroke\": true, \"stroke_style\": null, \"style\": {\"background\": \"rgba(249, 249, 249, 1)\", \"ci_colors\": [], \"colors\": [\"#F44336\", \"#3F51B5\", \"#009688\", \"#FFC107\", \"#FF5722\", \"#9C27B0\", \"#03A9F4\", \"#8BC34A\", \"#FF9800\", \"#E91E63\", \"#2196F3\", \"#4CAF50\", \"#FFEB3B\", \"#673AB7\", \"#00BCD4\", \"#CDDC39\", \"#9E9E9E\", \"#607D8B\"], \"font_family\": \"Consolas, \\\"Liberation Mono\\\", Menlo, Courier, monospace\", \"foreground\": \"rgba(0, 0, 0, .87)\", \"foreground_strong\": \"rgba(0, 0, 0, 1)\", \"foreground_subtle\": \"rgba(0, 0, 0, .54)\", \"guide_stroke_dasharray\": \"4,4\", \"label_font_family\": \"Consolas, \\\"Liberation Mono\\\", Menlo, Courier, monospace\", \"label_font_size\": 10, \"legend_font_family\": \"Consolas, \\\"Liberation Mono\\\", Menlo, Courier, monospace\", \"legend_font_size\": 14, \"major_guide_stroke_dasharray\": \"6,6\", \"major_label_font_family\": \"Consolas, \\\"Liberation Mono\\\", Menlo, Courier, monospace\", \"major_label_font_size\": 10, \"no_data_font_family\": \"Consolas, \\\"Liberation Mono\\\", Menlo, Courier, monospace\", \"no_data_font_size\": 64, \"opacity\": \".7\", \"opacity_hover\": \".8\", \"plot_background\": \"rgba(255, 255, 255, 1)\", \"stroke_opacity\": \".8\", \"stroke_opacity_hover\": \".9\", \"title_font_family\": \"Consolas, \\\"Liberation Mono\\\", Menlo, Courier, monospace\", \"title_font_size\": 16, \"tooltip_font_family\": \"Consolas, \\\"Liberation Mono\\\", Menlo, Courier, monospace\", \"tooltip_font_size\": 14, \"transition\": \"150ms\", \"value_background\": \"rgba(229, 229, 229, 1)\", \"value_colors\": [], \"value_font_family\": \"Consolas, \\\"Liberation Mono\\\", Menlo, Courier, monospace\", \"value_font_size\": 16, \"value_label_font_family\": \"Consolas, \\\"Liberation Mono\\\", Menlo, Courier, monospace\", \"value_label_font_size\": 10}, \"title\": \"CPUUtilization prediction\", \"tooltip_border_radius\": 0, \"tooltip_fancy_mode\": true, \"truncate_label\": null, \"truncate_legend\": null, \"width\": 800, \"x_label_rotation\": 0, \"x_labels\": [\"2020-11-30 00:00:00\", \"2020-11-30 01:00:00\", \"2020-11-30 02:00:00\", \"2020-11-30 03:00:00\", \"2020-11-30 04:00:00\", \"2020-11-30 05:00:00\", \"2020-11-30 06:00:00\", \"2020-11-30 07:00:00\", \"2020-11-30 08:00:00\", \"2020-11-30 09:00:00\", \"2020-11-30 10:00:00\", \"2020-11-30 11:00:00\", \"2020-11-30 12:00:00\", \"2020-11-30 13:00:00\", \"2020-11-30 14:00:00\", \"2020-11-30 15:00:00\", \"2020-11-30 16:00:00\", \"2020-11-30 17:00:00\", \"2020-11-30 18:00:00\", \"2020-11-30 19:00:00\", \"2020-11-30 20:00:00\", \"2020-11-30 21:00:00\", \"2020-11-30 22:00:00\", \"2020-11-30 23:00:00\"], \"x_labels_major\": null, \"x_labels_major_count\": null, \"x_labels_major_every\": null, \"x_title\": null, \"xrange\": null, \"y_label_rotation\": 0, \"y_labels\": null, \"y_labels_major\": null, \"y_labels_major_count\": null, \"y_labels_major_every\": null, \"y_title\": null, \"zero\": 0, \"legends\": [\"INPUT\", \"customLSTMtoday\"]}</script><script type=\"text/javascript\" xlink:href=\"https://kozea.github.io/pygal.js/2.0.x/pygal-tooltips.min.js\"/></defs><title>CPUUtilization prediction</title><g class=\"graph bar-graph vertical\"><rect class=\"background\" height=\"600\" width=\"800\" x=\"0\" y=\"0\"/><g class=\"plot\" transform=\"translate(190, 46)\"><rect class=\"background\" height=\"514\" width=\"590.0\" x=\"0\" y=\"0\"/><g class=\"axis y always_show\"><g class=\"guides\"><path class=\"axis major line\" d=\"M0.000000 504.115385 h590.000000\"/><text class=\"major\" x=\"-5\" y=\"507.61538461538464\">0</text><title>0</title></g><g class=\"guides\"><path class=\"guide line\" d=\"M0.000000 439.464554 h590.000000\"/><text class=\"\" x=\"-5\" y=\"442.96455410272506\">10</text><title>10</title></g><g class=\"guides\"><path class=\"guide line\" d=\"M0.000000 374.813724 h590.000000\"/><text class=\"\" x=\"-5\" y=\"378.3137235900655\">20</text><title>20</title></g><g class=\"guides\"><path class=\"guide line\" d=\"M0.000000 310.162893 h590.000000\"/><text class=\"\" x=\"-5\" y=\"313.6628930774059\">30</text><title>30</title></g><g class=\"guides\"><path class=\"guide line\" d=\"M0.000000 245.512063 h590.000000\"/><text class=\"\" x=\"-5\" y=\"249.01206256474632\">40</text><title>40</title></g><g class=\"guides\"><path class=\"major guide line\" d=\"M0.000000 180.861232 h590.000000\"/><text class=\"major\" x=\"-5\" y=\"184.36123205208673\">50</text><title>50</title></g><g class=\"guides\"><path class=\"guide line\" d=\"M0.000000 116.210402 h590.000000\"/><text class=\"\" x=\"-5\" y=\"119.71040153942715\">60</text><title>60</title></g><g class=\"guides\"><path class=\"guide line\" d=\"M0.000000 51.559571 h590.000000\"/><text class=\"\" x=\"-5\" y=\"55.05957102676757\">70</text><title>70</title></g></g><g class=\"axis x\"><path class=\"line\" d=\"M0.000000 0.000000 v514.000000\"/><g class=\"guides\"><path class=\"guide line\" d=\"M23.165064 0.000000 v514.000000\"/><text class=\"\" x=\"23.1650641025641\" y=\"529.0\">20…</text><title>2020-11-30 00:00:00</title></g><g class=\"guides\"><path class=\"guide line\" d=\"M46.802885 0.000000 v514.000000\"/><text class=\"\" x=\"46.80288461538462\" y=\"529.0\">20…</text><title>2020-11-30 01:00:00</title></g><g class=\"guides\"><path class=\"guide line\" d=\"M70.440705 0.000000 v514.000000\"/><text class=\"\" x=\"70.44070512820514\" y=\"529.0\">20…</text><title>2020-11-30 02:00:00</title></g><g class=\"guides\"><path class=\"guide line\" d=\"M94.078526 0.000000 v514.000000\"/><text class=\"\" x=\"94.07852564102564\" y=\"529.0\">20…</text><title>2020-11-30 03:00:00</title></g><g class=\"guides\"><path class=\"guide line\" d=\"M117.716346 0.000000 v514.000000\"/><text class=\"\" x=\"117.71634615384615\" y=\"529.0\">20…</text><title>2020-11-30 04:00:00</title></g><g class=\"guides\"><path class=\"guide line\" d=\"M141.354167 0.000000 v514.000000\"/><text class=\"\" x=\"141.35416666666666\" y=\"529.0\">20…</text><title>2020-11-30 05:00:00</title></g><g class=\"guides\"><path class=\"guide line\" d=\"M164.991987 0.000000 v514.000000\"/><text class=\"\" x=\"164.99198717948718\" y=\"529.0\">20…</text><title>2020-11-30 06:00:00</title></g><g class=\"guides\"><path class=\"guide line\" d=\"M188.629808 0.000000 v514.000000\"/><text class=\"\" x=\"188.6298076923077\" y=\"529.0\">20…</text><title>2020-11-30 07:00:00</title></g><g class=\"guides\"><path class=\"guide line\" d=\"M212.267628 0.000000 v514.000000\"/><text class=\"\" x=\"212.2676282051282\" y=\"529.0\">20…</text><title>2020-11-30 08:00:00</title></g><g class=\"guides\"><path class=\"guide line\" d=\"M235.905449 0.000000 v514.000000\"/><text class=\"\" x=\"235.9054487179487\" y=\"529.0\">20…</text><title>2020-11-30 09:00:00</title></g><g class=\"guides\"><path class=\"guide line\" d=\"M259.543269 0.000000 v514.000000\"/><text class=\"\" x=\"259.5432692307692\" y=\"529.0\">20…</text><title>2020-11-30 10:00:00</title></g><g class=\"guides\"><path class=\"guide line\" d=\"M283.181090 0.000000 v514.000000\"/><text class=\"\" x=\"283.1810897435898\" y=\"529.0\">20…</text><title>2020-11-30 11:00:00</title></g><g class=\"guides\"><path class=\"guide line\" d=\"M306.818910 0.000000 v514.000000\"/><text class=\"\" x=\"306.8189102564103\" y=\"529.0\">20…</text><title>2020-11-30 12:00:00</title></g><g class=\"guides\"><path class=\"guide line\" d=\"M330.456731 0.000000 v514.000000\"/><text class=\"\" x=\"330.4567307692308\" y=\"529.0\">20…</text><title>2020-11-30 13:00:00</title></g><g class=\"guides\"><path class=\"guide line\" d=\"M354.094551 0.000000 v514.000000\"/><text class=\"\" x=\"354.09455128205127\" y=\"529.0\">20…</text><title>2020-11-30 14:00:00</title></g><g class=\"guides\"><path class=\"guide line\" d=\"M377.732372 0.000000 v514.000000\"/><text class=\"\" x=\"377.7323717948718\" y=\"529.0\">20…</text><title>2020-11-30 15:00:00</title></g><g class=\"guides\"><path class=\"guide line\" d=\"M401.370192 0.000000 v514.000000\"/><text class=\"\" x=\"401.3701923076923\" y=\"529.0\">20…</text><title>2020-11-30 16:00:00</title></g><g class=\"guides\"><path class=\"guide line\" d=\"M425.008013 0.000000 v514.000000\"/><text class=\"\" x=\"425.0080128205128\" y=\"529.0\">20…</text><title>2020-11-30 17:00:00</title></g><g class=\"guides\"><path class=\"guide line\" d=\"M448.645833 0.000000 v514.000000\"/><text class=\"\" x=\"448.64583333333337\" y=\"529.0\">20…</text><title>2020-11-30 18:00:00</title></g><g class=\"guides\"><path class=\"guide line\" d=\"M472.283654 0.000000 v514.000000\"/><text class=\"\" x=\"472.28365384615387\" y=\"529.0\">20…</text><title>2020-11-30 19:00:00</title></g><g class=\"guides\"><path class=\"guide line\" d=\"M495.921474 0.000000 v514.000000\"/><text class=\"\" x=\"495.9214743589743\" y=\"529.0\">20…</text><title>2020-11-30 20:00:00</title></g><g class=\"guides\"><path class=\"guide line\" d=\"M519.559295 0.000000 v514.000000\"/><text class=\"\" x=\"519.5592948717949\" y=\"529.0\">20…</text><title>2020-11-30 21:00:00</title></g><g class=\"guides\"><path class=\"guide line\" d=\"M543.197115 0.000000 v514.000000\"/><text class=\"\" x=\"543.1971153846154\" y=\"529.0\">20…</text><title>2020-11-30 22:00:00</title></g><g class=\"guides\"><path class=\"guide line\" d=\"M566.834936 0.000000 v514.000000\"/><text class=\"\" x=\"566.8349358974359\" y=\"529.0\">20…</text><title>2020-11-30 23:00:00</title></g></g><g class=\"series serie-0 color-0\"><g class=\"bars\"><g class=\"bar\"><rect class=\"rect reactive tooltip-trigger\" height=\"217.5637189400967\" rx=\"0\" ry=\"0\" width=\"9.152564102564103\" x=\"13.388461538461538\" y=\"286.55166567528795\"/><desc class=\"value\">33.6521151</desc><desc class=\"x centered\">17.96474358974359</desc><desc class=\"y centered\">395.3335251453363</desc><desc class=\"x_label\">2020-11-30 00:00:00</desc></g><g class=\"bar\"><rect class=\"rect reactive tooltip-trigger\" height=\"347.8860352111159\" rx=\"0\" ry=\"0\" width=\"9.152564102564103\" x=\"37.02628205128205\" y=\"156.22934940426876\"/><desc class=\"value\">53.80998704</desc><desc class=\"x centered\">41.6025641025641</desc><desc class=\"y centered\">330.1723670098267</desc><desc class=\"x_label\">2020-11-30 01:00:00</desc></g><g class=\"bar\"><rect class=\"rect reactive tooltip-trigger\" height=\"474.8534365421061\" rx=\"0\" ry=\"0\" width=\"9.152564102564103\" x=\"60.66410256410256\" y=\"29.261948073278518\"/><desc class=\"value\">73.44893063</desc><desc class=\"x centered\">65.24038461538461</desc><desc class=\"y centered\">266.6886663443316</desc><desc class=\"x_label\">2020-11-30 02:00:00</desc></g><g class=\"bar\"><rect class=\"rect reactive tooltip-trigger\" height=\"347.8860352111159\" rx=\"0\" ry=\"0\" width=\"9.152564102564103\" x=\"84.30192307692306\" y=\"156.22934940426876\"/><desc class=\"value\">53.80998704</desc><desc class=\"x centered\">88.87820512820511</desc><desc class=\"y centered\">330.1723670098267</desc><desc class=\"x_label\">2020-11-30 03:00:00</desc></g><g class=\"bar\"><rect class=\"rect reactive tooltip-trigger\" height=\"424.3519295206822\" rx=\"0\" ry=\"0\" width=\"9.152564102564103\" x=\"107.93974358974357\" y=\"79.76345509470246\"/><desc class=\"value\">65.6375063</desc><desc class=\"x centered\">112.51602564102562</desc><desc class=\"y centered\">291.9394198550435</desc><desc class=\"x_label\">2020-11-30 04:00:00</desc></g><g class=\"bar\"><rect class=\"rect reactive tooltip-trigger\" height=\"217.5637189400967\" rx=\"0\" ry=\"0\" width=\"9.152564102564103\" x=\"131.5775641025641\" y=\"286.55166567528795\"/><desc class=\"value\">33.6521151</desc><desc class=\"x centered\">136.15384615384616</desc><desc class=\"y centered\">395.3335251453363</desc><desc class=\"x_label\">2020-11-30 05:00:00</desc></g><g class=\"bar\"><rect class=\"rect reactive tooltip-trigger\" height=\"474.8534365421061\" rx=\"0\" ry=\"0\" width=\"9.152564102564103\" x=\"155.21538461538464\" y=\"29.261948073278518\"/><desc class=\"value\">73.44893063</desc><desc class=\"x centered\">159.79166666666669</desc><desc class=\"y centered\">266.6886663443316</desc><desc class=\"x_label\">2020-11-30 06:00:00</desc></g><g class=\"bar\"><rect class=\"rect reactive tooltip-trigger\" height=\"424.3519295206822\" rx=\"0\" ry=\"0\" width=\"9.152564102564103\" x=\"178.85320512820516\" y=\"79.76345509470246\"/><desc class=\"value\">65.6375063</desc><desc class=\"x centered\">183.4294871794872</desc><desc class=\"y centered\">291.9394198550435</desc><desc class=\"x_label\">2020-11-30 07:00:00</desc></g><g class=\"bar\"><rect class=\"rect reactive tooltip-trigger\" height=\"474.8534365421061\" rx=\"0\" ry=\"0\" width=\"9.152564102564103\" x=\"202.49102564102566\" y=\"29.261948073278518\"/><desc class=\"value\">73.44893063</desc><desc class=\"x centered\">207.0673076923077</desc><desc class=\"y centered\">266.6886663443316</desc><desc class=\"x_label\">2020-11-30 08:00:00</desc></g><g class=\"bar\"><rect class=\"rect reactive tooltip-trigger\" height=\"474.8534365421061\" rx=\"0\" ry=\"0\" width=\"9.152564102564103\" x=\"226.12884615384615\" y=\"29.261948073278518\"/><desc class=\"value\">73.44893063</desc><desc class=\"x centered\">230.7051282051282</desc><desc class=\"y centered\">266.6886663443316</desc><desc class=\"x_label\">2020-11-30 09:00:00</desc></g><g class=\"bar\"><rect class=\"rect reactive tooltip-trigger\" height=\"347.8860352111159\" rx=\"0\" ry=\"0\" width=\"9.152564102564103\" x=\"249.7666666666667\" y=\"156.22934940426876\"/><desc class=\"value\">53.80998704</desc><desc class=\"x centered\">254.34294871794876</desc><desc class=\"y centered\">330.1723670098267</desc><desc class=\"x_label\">2020-11-30 10:00:00</desc></g><g class=\"bar\"><rect class=\"rect reactive tooltip-trigger\" height=\"474.8534365421061\" rx=\"0\" ry=\"0\" width=\"9.152564102564103\" x=\"273.40448717948715\" y=\"29.261948073278518\"/><desc class=\"value\">73.44893063</desc><desc class=\"x centered\">277.9807692307692</desc><desc class=\"y centered\">266.6886663443316</desc><desc class=\"x_label\">2020-11-30 11:00:00</desc></g><g class=\"bar\"><rect class=\"rect reactive tooltip-trigger\" height=\"474.8534365421061\" rx=\"0\" ry=\"0\" width=\"9.152564102564103\" x=\"297.0423076923077\" y=\"29.261948073278518\"/><desc class=\"value\">73.44893063</desc><desc class=\"x centered\">301.6185897435898</desc><desc class=\"y centered\">266.6886663443316</desc><desc class=\"x_label\">2020-11-30 12:00:00</desc></g><g class=\"bar\"><rect class=\"rect reactive tooltip-trigger\" height=\"474.8534365421061\" rx=\"0\" ry=\"0\" width=\"9.152564102564103\" x=\"320.6801282051282\" y=\"29.261948073278518\"/><desc class=\"value\">73.44893063</desc><desc class=\"x centered\">325.2564102564103</desc><desc class=\"y centered\">266.6886663443316</desc><desc class=\"x_label\">2020-11-30 13:00:00</desc></g><g class=\"bar\"><rect class=\"rect reactive tooltip-trigger\" height=\"474.8534365421061\" rx=\"0\" ry=\"0\" width=\"9.152564102564103\" x=\"344.31794871794875\" y=\"29.261948073278518\"/><desc class=\"value\">73.44893063</desc><desc class=\"x centered\">348.89423076923083</desc><desc class=\"y centered\">266.6886663443316</desc><desc class=\"x_label\">2020-11-30 14:00:00</desc></g><g class=\"bar\"><rect class=\"rect reactive tooltip-trigger\" height=\"474.8534365421061\" rx=\"0\" ry=\"0\" width=\"9.152564102564103\" x=\"367.95576923076925\" y=\"29.261948073278518\"/><desc class=\"value\">73.44893063</desc><desc class=\"x centered\">372.5320512820513</desc><desc class=\"y centered\">266.6886663443316</desc><desc class=\"x_label\">2020-11-30 15:00:00</desc></g><g class=\"bar\"><rect class=\"rect reactive tooltip-trigger\" height=\"474.8534365421061\" rx=\"0\" ry=\"0\" width=\"9.152564102564103\" x=\"391.59358974358975\" y=\"29.261948073278518\"/><desc class=\"value\">73.44893063</desc><desc class=\"x centered\">396.1698717948718</desc><desc class=\"y centered\">266.6886663443316</desc><desc class=\"x_label\">2020-11-30 16:00:00</desc></g><g class=\"bar\"><rect class=\"rect reactive tooltip-trigger\" height=\"474.8534365421061\" rx=\"0\" ry=\"0\" width=\"9.152564102564103\" x=\"415.2314102564103\" y=\"29.261948073278518\"/><desc class=\"value\">73.44893063</desc><desc class=\"x centered\">419.8076923076924</desc><desc class=\"y centered\">266.6886663443316</desc><desc class=\"x_label\">2020-11-30 17:00:00</desc></g><g class=\"bar\"><rect class=\"rect reactive tooltip-trigger\" height=\"217.5637189400967\" rx=\"0\" ry=\"0\" width=\"9.152564102564103\" x=\"438.8692307692308\" y=\"286.55166567528795\"/><desc class=\"value\">33.6521151</desc><desc class=\"x centered\">443.4455128205129</desc><desc class=\"y centered\">395.3335251453363</desc><desc class=\"x_label\">2020-11-30 18:00:00</desc></g><g class=\"bar\"><rect class=\"rect reactive tooltip-trigger\" height=\"474.8534365421061\" rx=\"0\" ry=\"0\" width=\"9.152564102564103\" x=\"462.5070512820513\" y=\"29.261948073278518\"/><desc class=\"value\">73.44893063</desc><desc class=\"x centered\">467.08333333333337</desc><desc class=\"y centered\">266.6886663443316</desc><desc class=\"x_label\">2020-11-30 19:00:00</desc></g><g class=\"bar\"><rect class=\"rect reactive tooltip-trigger\" height=\"474.8534365421061\" rx=\"0\" ry=\"0\" width=\"9.152564102564103\" x=\"486.1448717948718\" y=\"29.261948073278518\"/><desc class=\"value\">73.44893063</desc><desc class=\"x centered\">490.72115384615387</desc><desc class=\"y centered\">266.6886663443316</desc><desc class=\"x_label\">2020-11-30 20:00:00</desc></g><g class=\"bar\"><rect class=\"rect reactive tooltip-trigger\" height=\"474.8534365421061\" rx=\"0\" ry=\"0\" width=\"9.152564102564103\" x=\"509.78269230769223\" y=\"29.261948073278518\"/><desc class=\"value\">73.44893063</desc><desc class=\"x centered\">514.3589743589743</desc><desc class=\"y centered\">266.6886663443316</desc><desc class=\"x_label\">2020-11-30 21:00:00</desc></g><g class=\"bar\"><rect class=\"rect reactive tooltip-trigger\" height=\"347.8860352111159\" rx=\"0\" ry=\"0\" width=\"9.152564102564103\" x=\"533.4205128205128\" y=\"156.22934940426876\"/><desc class=\"value\">53.80998704</desc><desc class=\"x centered\">537.9967948717949</desc><desc class=\"y centered\">330.1723670098267</desc><desc class=\"x_label\">2020-11-30 22:00:00</desc></g><g class=\"bar\"><rect class=\"rect reactive tooltip-trigger\" height=\"474.8534365421061\" rx=\"0\" ry=\"0\" width=\"9.152564102564103\" x=\"557.0583333333334\" y=\"29.261948073278518\"/><desc class=\"value\">73.44893063</desc><desc class=\"x centered\">561.6346153846155</desc><desc class=\"y centered\">266.6886663443316</desc><desc class=\"x_label\">2020-11-30 23:00:00</desc></g></g></g><g class=\"series serie-1 color-1\"><g class=\"bars\"><g class=\"bar\"><rect class=\"rect reactive tooltip-trigger\" height=\"346.8653784987418\" rx=\"0\" ry=\"0\" width=\"9.152564102564103\" x=\"23.789102564102564\" y=\"157.25000611664285\"/><desc class=\"value\">53.652115</desc><desc class=\"x centered\">28.365384615384613</desc><desc class=\"y centered\">330.6826953660137</desc><desc class=\"x_label\">2020-11-30 00:00:00</desc></g><g class=\"bar\"><rect class=\"rect reactive tooltip-trigger\" height=\"412.53685973038273\" rx=\"0\" ry=\"0\" width=\"9.152564102564103\" x=\"47.426923076923075\" y=\"91.57852488500191\"/><desc class=\"value\">63.809986</desc><desc class=\"x centered\">52.003205128205124</desc><desc class=\"y centered\">297.8469547501933</desc><desc class=\"x_label\">2020-11-30 01:00:00</desc></g><g class=\"bar\"><rect class=\"rect reactive tooltip-trigger\" height=\"494.2307692307693\" rx=\"0\" ry=\"0\" width=\"9.152564102564103\" x=\"71.06474358974359\" y=\"9.884615384615358\"/><desc class=\"value\">76.44616</desc><desc class=\"x centered\">75.64102564102564</desc><desc class=\"y centered\">257.0</desc><desc class=\"x_label\">2020-11-30 02:00:00</desc></g><g class=\"bar\"><rect class=\"rect reactive tooltip-trigger\" height=\"412.53685973038273\" rx=\"0\" ry=\"0\" width=\"9.152564102564103\" x=\"94.70256410256408\" y=\"91.57852488500191\"/><desc class=\"value\">63.809986</desc><desc class=\"x centered\">99.27884615384613</desc><desc class=\"y centered\">297.8469547501933</desc><desc class=\"x_label\">2020-11-30 03:00:00</desc></g><g class=\"bar\"><rect class=\"rect reactive tooltip-trigger\" height=\"494.2307692307693\" rx=\"0\" ry=\"0\" width=\"9.152564102564103\" x=\"118.3403846153846\" y=\"9.884615384615358\"/><desc class=\"value\">76.44616</desc><desc class=\"x centered\">122.91666666666664</desc><desc class=\"y centered\">257.0</desc><desc class=\"x_label\">2020-11-30 04:00:00</desc></g><g class=\"bar\"><rect class=\"rect reactive tooltip-trigger\" height=\"494.2307692307693\" rx=\"0\" ry=\"0\" width=\"9.152564102564103\" x=\"141.97820512820513\" y=\"9.884615384615358\"/><desc class=\"value\">76.44616</desc><desc class=\"x centered\">146.55448717948718</desc><desc class=\"y centered\">257.0</desc><desc class=\"x_label\">2020-11-30 05:00:00</desc></g><g class=\"bar\"><rect class=\"rect reactive tooltip-trigger\" height=\"470.0767746346188\" rx=\"0\" ry=\"0\" width=\"9.152564102564103\" x=\"165.61602564102566\" y=\"34.03860998076584\"/><desc class=\"value\">72.71009</desc><desc class=\"x centered\">170.1923076923077</desc><desc class=\"y centered\">269.07699729807524</desc><desc class=\"x_label\">2020-11-30 06:00:00</desc></g><g class=\"bar\"><rect class=\"rect reactive tooltip-trigger\" height=\"450.8035547126083\" rx=\"0\" ry=\"0\" width=\"9.152564102564103\" x=\"189.25384615384618\" y=\"53.31182990277637\"/><desc class=\"value\">69.728966</desc><desc class=\"x centered\">193.83012820512823</desc><desc class=\"y centered\">278.7136072590805</desc><desc class=\"x_label\">2020-11-30 07:00:00</desc></g><g class=\"bar\"><rect class=\"rect reactive tooltip-trigger\" height=\"470.0767746346188\" rx=\"0\" ry=\"0\" width=\"9.152564102564103\" x=\"212.89166666666668\" y=\"34.03860998076584\"/><desc class=\"value\">72.71009</desc><desc class=\"x centered\">217.46794871794873</desc><desc class=\"y centered\">269.07699729807524</desc><desc class=\"x_label\">2020-11-30 08:00:00</desc></g><g class=\"bar\"><rect class=\"rect reactive tooltip-trigger\" height=\"494.2307692307693\" rx=\"0\" ry=\"0\" width=\"9.152564102564103\" x=\"236.52948717948718\" y=\"9.884615384615358\"/><desc class=\"value\">76.44616</desc><desc class=\"x centered\">241.10576923076923</desc><desc class=\"y centered\">257.0</desc><desc class=\"x_label\">2020-11-30 09:00:00</desc></g><g class=\"bar\"><rect class=\"rect reactive tooltip-trigger\" height=\"412.53685973038273\" rx=\"0\" ry=\"0\" width=\"9.152564102564103\" x=\"260.16730769230776\" y=\"91.57852488500191\"/><desc class=\"value\">63.809986</desc><desc class=\"x centered\">264.74358974358984</desc><desc class=\"y centered\">297.8469547501933</desc><desc class=\"x_label\">2020-11-30 10:00:00</desc></g><g class=\"bar\"><rect class=\"rect reactive tooltip-trigger\" height=\"494.2307692307693\" rx=\"0\" ry=\"0\" width=\"9.152564102564103\" x=\"283.8051282051282\" y=\"9.884615384615358\"/><desc class=\"value\">76.44616</desc><desc class=\"x centered\">288.3814102564103</desc><desc class=\"y centered\">257.0</desc><desc class=\"x_label\">2020-11-30 11:00:00</desc></g><g class=\"bar\"><rect class=\"rect reactive tooltip-trigger\" height=\"494.2307692307693\" rx=\"0\" ry=\"0\" width=\"9.152564102564103\" x=\"307.44294871794875\" y=\"9.884615384615358\"/><desc class=\"value\">76.44616</desc><desc class=\"x centered\">312.01923076923083</desc><desc class=\"y centered\">257.0</desc><desc class=\"x_label\">2020-11-30 12:00:00</desc></g><g class=\"bar\"><rect class=\"rect reactive tooltip-trigger\" height=\"450.8035547126083\" rx=\"0\" ry=\"0\" width=\"9.152564102564103\" x=\"331.08076923076925\" y=\"53.31182990277637\"/><desc class=\"value\">69.728966</desc><desc class=\"x centered\">335.6570512820513</desc><desc class=\"y centered\">278.7136072590805</desc><desc class=\"x_label\">2020-11-30 13:00:00</desc></g><g class=\"bar\"><rect class=\"rect reactive tooltip-trigger\" height=\"450.8035547126083\" rx=\"0\" ry=\"0\" width=\"9.152564102564103\" x=\"354.7185897435898\" y=\"53.31182990277637\"/><desc class=\"value\">69.728966</desc><desc class=\"x centered\">359.2948717948719</desc><desc class=\"y centered\">278.7136072590805</desc><desc class=\"x_label\">2020-11-30 14:00:00</desc></g><g class=\"bar\"><rect class=\"rect reactive tooltip-trigger\" height=\"470.0767746346188\" rx=\"0\" ry=\"0\" width=\"9.152564102564103\" x=\"378.3564102564103\" y=\"34.03860998076584\"/><desc class=\"value\">72.71009</desc><desc class=\"x centered\">382.9326923076924</desc><desc class=\"y centered\">269.07699729807524</desc><desc class=\"x_label\">2020-11-30 15:00:00</desc></g><g class=\"bar\"><rect class=\"rect reactive tooltip-trigger\" height=\"494.2307692307693\" rx=\"0\" ry=\"0\" width=\"9.152564102564103\" x=\"401.9942307692308\" y=\"9.884615384615358\"/><desc class=\"value\">76.44616</desc><desc class=\"x centered\">406.5705128205129</desc><desc class=\"y centered\">257.0</desc><desc class=\"x_label\">2020-11-30 16:00:00</desc></g><g class=\"bar\"><rect class=\"rect reactive tooltip-trigger\" height=\"494.2307692307693\" rx=\"0\" ry=\"0\" width=\"9.152564102564103\" x=\"425.63205128205135\" y=\"9.884615384615358\"/><desc class=\"value\">76.44616</desc><desc class=\"x centered\">430.2083333333334</desc><desc class=\"y centered\">257.0</desc><desc class=\"x_label\">2020-11-30 17:00:00</desc></g><g class=\"bar\"><rect class=\"rect reactive tooltip-trigger\" height=\"494.2307692307693\" rx=\"0\" ry=\"0\" width=\"9.152564102564103\" x=\"449.26987179487185\" y=\"9.884615384615358\"/><desc class=\"value\">76.44616</desc><desc class=\"x centered\">453.8461538461539</desc><desc class=\"y centered\">257.0</desc><desc class=\"x_label\">2020-11-30 18:00:00</desc></g><g class=\"bar\"><rect class=\"rect reactive tooltip-trigger\" height=\"480.9970591135165\" rx=\"0\" ry=\"0\" width=\"9.152564102564103\" x=\"472.90769230769234\" y=\"23.118325501868128\"/><desc class=\"value\">74.39921</desc><desc class=\"x centered\">477.4839743589744</desc><desc class=\"y centered\">263.61685505862636</desc><desc class=\"x_label\">2020-11-30 19:00:00</desc></g><g class=\"bar\"><rect class=\"rect reactive tooltip-trigger\" height=\"480.9970591135165\" rx=\"0\" ry=\"0\" width=\"9.152564102564103\" x=\"496.54551282051284\" y=\"23.118325501868128\"/><desc class=\"value\">74.39921</desc><desc class=\"x centered\">501.1217948717949</desc><desc class=\"y centered\">263.61685505862636</desc><desc class=\"x_label\">2020-11-30 20:00:00</desc></g><g class=\"bar\"><rect class=\"rect reactive tooltip-trigger\" height=\"494.2307692307693\" rx=\"0\" ry=\"0\" width=\"9.152564102564103\" x=\"520.1833333333333\" y=\"9.884615384615358\"/><desc class=\"value\">76.44616</desc><desc class=\"x centered\">524.7596153846154</desc><desc class=\"y centered\">257.0</desc><desc class=\"x_label\">2020-11-30 21:00:00</desc></g><g class=\"bar\"><rect class=\"rect reactive tooltip-trigger\" height=\"412.53685973038273\" rx=\"0\" ry=\"0\" width=\"9.152564102564103\" x=\"543.8211538461538\" y=\"91.57852488500191\"/><desc class=\"value\">63.809986</desc><desc class=\"x centered\">548.3974358974359</desc><desc class=\"y centered\">297.8469547501933</desc><desc class=\"x_label\">2020-11-30 22:00:00</desc></g><g class=\"bar\"><rect class=\"rect reactive tooltip-trigger\" height=\"494.2307692307693\" rx=\"0\" ry=\"0\" width=\"9.152564102564103\" x=\"567.4589743589744\" y=\"9.884615384615358\"/><desc class=\"value\">76.44616</desc><desc class=\"x centered\">572.0352564102565</desc><desc class=\"y centered\">257.0</desc><desc class=\"x_label\">2020-11-30 23:00:00</desc></g></g></g></g><g class=\"titles\"><text class=\"title plot_title\" x=\"400.0\" y=\"26\">CPUUtilization prediction</text></g><g class=\"plot overlay\" transform=\"translate(190, 46)\"><g class=\"series serie-0 color-0\"/><g class=\"series serie-1 color-1\"/></g><g class=\"plot text-overlay\" transform=\"translate(190, 46)\"><g class=\"series serie-0 color-0\"/><g class=\"series serie-1 color-1\"/></g><g class=\"plot tooltip-overlay\" transform=\"translate(190, 46)\"><g class=\"tooltip\" style=\"opacity: 0\" transform=\"translate(0 0)\"><rect class=\"tooltip-box\" height=\"0\" rx=\"0\" ry=\"0\" width=\"0\"/><g class=\"text\"/></g></g><g class=\"legends\" transform=\"translate(10, 56)\"><g class=\"legend reactive activate-serie\" id=\"activate-serie-0\"><rect class=\"color-0 reactive\" height=\"12\" width=\"12\" x=\"0.0\" y=\"1.0\"/><text x=\"17.0\" y=\"11.2\">INPUT</text></g><g class=\"legend reactive activate-serie\" id=\"activate-serie-1\"><rect class=\"color-1 reactive\" height=\"12\" width=\"12\" x=\"0.0\" y=\"22.0\"/><text x=\"17.0\" y=\"32.2\">customLSTMtoday</text></g></g><g class=\"legends\" transform=\"translate(790, 56)\"/></g></svg>\n",
              "    </figure>\n",
              "  </body>\n",
              "</html>\n"
            ],
            "text/plain": [
              "<IPython.core.display.HTML object>"
            ]
          },
          "metadata": {
            "tags": []
          }
        }
      ]
    },
    {
      "cell_type": "code",
      "metadata": {
        "id": "xvZ-HiCUoNGt"
      },
      "source": [
        "# transform deepAR values\n",
        "deepar_predlist_today = np.array([88.37545776367188,81.91768646240234,84.79779052734375,88.49874877929688,\n",
        "                                       79.69515991210938,87.70539855957031,80.64637756347656,83.07598114013672,\n",
        "                                      93.94161987304688,94.61588287353516,87.73178100585938,87.67756652832031,\n",
        "                                      92.31980895996094,87.55823516845703,92.96176147460938,89.62384796142578,\n",
        "                                       80.35492706298828,94.0986557006836,87.02137756347656,83.88580322265625,\n",
        "                                      86.17538452148438,80.42296600341797, 84.56570434570312,92.90814208984375])"
      ],
      "execution_count": 295,
      "outputs": []
    },
    {
      "cell_type": "code",
      "metadata": {
        "id": "FEQcY8iZ4Ird"
      },
      "source": [
        "deepar_predlist_today_values = deepar_predlist_today.copy()"
      ],
      "execution_count": 296,
      "outputs": []
    },
    {
      "cell_type": "code",
      "metadata": {
        "id": "RA_pJ0So42pV"
      },
      "source": [
        "# sort the array values to find the percentile values.\n",
        "deepar_predlist_today_values_sorted = np.sort(deepar_predlist_today_values)"
      ],
      "execution_count": 297,
      "outputs": []
    },
    {
      "cell_type": "code",
      "metadata": {
        "colab": {
          "base_uri": "https://localhost:8080/"
        },
        "id": "TG0Xi5BE61Wu",
        "outputId": "7fba14cb-aeae-48e6-bece-b07e395b40fd"
      },
      "source": [
        "deepar_predlist_today_values_sorted"
      ],
      "execution_count": 298,
      "outputs": [
        {
          "output_type": "execute_result",
          "data": {
            "text/plain": [
              "array([79.69515991, 80.35492706, 80.422966  , 80.64637756, 81.91768646,\n",
              "       83.07598114, 83.88580322, 84.56570435, 84.79779053, 86.17538452,\n",
              "       87.02137756, 87.55823517, 87.67756653, 87.70539856, 87.73178101,\n",
              "       88.37545776, 88.49874878, 89.62384796, 92.31980896, 92.90814209,\n",
              "       92.96176147, 93.94161987, 94.0986557 , 94.61588287])"
            ]
          },
          "metadata": {
            "tags": []
          },
          "execution_count": 298
        }
      ]
    },
    {
      "cell_type": "code",
      "metadata": {
        "id": "GMmcewef5DYx"
      },
      "source": [
        "# calculate the mean values for each percentile for the yesterday outputs\n",
        "def calculate_percentile_index(p,arr):\n",
        "  x=arr\n",
        "  pcen=np.percentile(x,p,interpolation='nearest')\n",
        "  index_near=abs(x-pcen).argmin()\n",
        "  return pcen, index_near\n"
      ],
      "execution_count": null,
      "outputs": []
    },
    {
      "cell_type": "code",
      "metadata": {
        "id": "2nW6SOZG7GhP"
      },
      "source": [
        "deepar_t_p25, deepar_t_index25 = calculate_percentile_index(p=25, arr=deepar_predlist_today_values_sorted)"
      ],
      "execution_count": 299,
      "outputs": []
    },
    {
      "cell_type": "code",
      "metadata": {
        "colab": {
          "base_uri": "https://localhost:8080/"
        },
        "id": "iHSOUDQm7Q6f",
        "outputId": "14ba7afa-9375-4d1b-d370-d9bd86ed58ad"
      },
      "source": [
        "deepar_t_p25"
      ],
      "execution_count": 300,
      "outputs": [
        {
          "output_type": "execute_result",
          "data": {
            "text/plain": [
              "83.88580322265625"
            ]
          },
          "metadata": {
            "tags": []
          },
          "execution_count": 300
        }
      ]
    },
    {
      "cell_type": "code",
      "metadata": {
        "colab": {
          "base_uri": "https://localhost:8080/"
        },
        "id": "ut8KWwon7VB9",
        "outputId": "914a974b-8eee-4bd1-e7ab-385f366e925a"
      },
      "source": [
        "deepar_t_index25"
      ],
      "execution_count": 301,
      "outputs": [
        {
          "output_type": "execute_result",
          "data": {
            "text/plain": [
              "6"
            ]
          },
          "metadata": {
            "tags": []
          },
          "execution_count": 301
        }
      ]
    },
    {
      "cell_type": "code",
      "metadata": {
        "id": "w-odAmhw7Wn_"
      },
      "source": [
        "deepar_t_p50, deepar_t_index50 = calculate_percentile_index(p=50, arr=deepar_predlist_today_values_sorted)"
      ],
      "execution_count": 302,
      "outputs": []
    },
    {
      "cell_type": "code",
      "metadata": {
        "colab": {
          "base_uri": "https://localhost:8080/"
        },
        "id": "6QJ7XS417hyv",
        "outputId": "2f692c1b-2b9f-4bcd-86ca-11aae603f5ca"
      },
      "source": [
        "deepar_t_p50"
      ],
      "execution_count": 303,
      "outputs": [
        {
          "output_type": "execute_result",
          "data": {
            "text/plain": [
              "87.67756652832031"
            ]
          },
          "metadata": {
            "tags": []
          },
          "execution_count": 303
        }
      ]
    },
    {
      "cell_type": "code",
      "metadata": {
        "colab": {
          "base_uri": "https://localhost:8080/"
        },
        "id": "2ZdDb2qa7jhC",
        "outputId": "a8fa466f-8c69-42ce-bd9e-59edf15543a5"
      },
      "source": [
        "deepar_t_index50"
      ],
      "execution_count": 304,
      "outputs": [
        {
          "output_type": "execute_result",
          "data": {
            "text/plain": [
              "12"
            ]
          },
          "metadata": {
            "tags": []
          },
          "execution_count": 304
        }
      ]
    },
    {
      "cell_type": "code",
      "metadata": {
        "id": "daybP1Cf7lCA"
      },
      "source": [
        "deepar_t_p75, deepar_t_index75 = calculate_percentile_index(p=75, arr=deepar_predlist_today_values_sorted)"
      ],
      "execution_count": 305,
      "outputs": []
    },
    {
      "cell_type": "code",
      "metadata": {
        "colab": {
          "base_uri": "https://localhost:8080/"
        },
        "id": "MDbUfpch7sgr",
        "outputId": "75c1c2c9-9a87-485a-f92b-8b6527f14492"
      },
      "source": [
        "deepar_t_p75\n"
      ],
      "execution_count": 306,
      "outputs": [
        {
          "output_type": "execute_result",
          "data": {
            "text/plain": [
              "89.62384796142578"
            ]
          },
          "metadata": {
            "tags": []
          },
          "execution_count": 306
        }
      ]
    },
    {
      "cell_type": "code",
      "metadata": {
        "colab": {
          "base_uri": "https://localhost:8080/"
        },
        "id": "F6M3LWZ87y4m",
        "outputId": "d0809d1a-7466-46a2-ce85-8abad4c82d38"
      },
      "source": [
        "deepar_t_index75"
      ],
      "execution_count": 307,
      "outputs": [
        {
          "output_type": "execute_result",
          "data": {
            "text/plain": [
              "17"
            ]
          },
          "metadata": {
            "tags": []
          },
          "execution_count": 307
        }
      ]
    },
    {
      "cell_type": "code",
      "metadata": {
        "id": "zoKggtiP70vQ"
      },
      "source": [
        "deepar_t_p100, deepar_t_index100 = calculate_percentile_index(p=100, arr=deepar_predlist_today_values_sorted)"
      ],
      "execution_count": 308,
      "outputs": []
    },
    {
      "cell_type": "code",
      "metadata": {
        "colab": {
          "base_uri": "https://localhost:8080/"
        },
        "id": "uZcb9dJk78Xl",
        "outputId": "e45c9da6-2ff6-46e7-cfd5-6ac81dd3c37b"
      },
      "source": [
        "deepar_t_p100"
      ],
      "execution_count": 309,
      "outputs": [
        {
          "output_type": "execute_result",
          "data": {
            "text/plain": [
              "94.61588287353516"
            ]
          },
          "metadata": {
            "tags": []
          },
          "execution_count": 309
        }
      ]
    },
    {
      "cell_type": "code",
      "metadata": {
        "colab": {
          "base_uri": "https://localhost:8080/"
        },
        "id": "J71c-_1X7-oS",
        "outputId": "faf8958e-c917-42c7-db9f-7a7ec62d5244"
      },
      "source": [
        "deepar_t_index100"
      ],
      "execution_count": 310,
      "outputs": [
        {
          "output_type": "execute_result",
          "data": {
            "text/plain": [
              "23"
            ]
          },
          "metadata": {
            "tags": []
          },
          "execution_count": 310
        }
      ]
    },
    {
      "cell_type": "code",
      "metadata": {
        "id": "0bzFRkOL8YE6"
      },
      "source": [
        "# Calculate Mean of the values lying below the 25 percentile.\n",
        "deepar_yesterday_values_25mean =  np.mean(deepar_predlist_today_values_sorted[0:6])"
      ],
      "execution_count": 311,
      "outputs": []
    },
    {
      "cell_type": "code",
      "metadata": {
        "colab": {
          "base_uri": "https://localhost:8080/"
        },
        "id": "a_I-7SP68YBC",
        "outputId": "3682cd03-967d-46be-ce0f-f4fe6f05a573"
      },
      "source": [
        "deepar_yesterday_values_25mean"
      ],
      "execution_count": 312,
      "outputs": [
        {
          "output_type": "execute_result",
          "data": {
            "text/plain": [
              "81.0188496907552"
            ]
          },
          "metadata": {
            "tags": []
          },
          "execution_count": 312
        }
      ]
    },
    {
      "cell_type": "code",
      "metadata": {
        "id": "VtHxpMeP8X_E"
      },
      "source": [
        "# Calculate Mean of the values lying below the 25 percentile.\n",
        "deepar_yesterday_values_50mean =  np.mean(deepar_predlist_today_values_sorted[0:12])"
      ],
      "execution_count": 313,
      "outputs": []
    },
    {
      "cell_type": "code",
      "metadata": {
        "colab": {
          "base_uri": "https://localhost:8080/"
        },
        "id": "iC5wOnkL8X7K",
        "outputId": "e5f9dd3c-4d25-4101-c327-8c3782db8215"
      },
      "source": [
        "deepar_yesterday_values_50mean"
      ],
      "execution_count": 314,
      "outputs": [
        {
          "output_type": "execute_result",
          "data": {
            "text/plain": [
              "83.34311612447102"
            ]
          },
          "metadata": {
            "tags": []
          },
          "execution_count": 314
        }
      ]
    },
    {
      "cell_type": "code",
      "metadata": {
        "id": "quLng7h28X5f"
      },
      "source": [
        "# Calculate Mean of the values lying below the 25 percentile.\n",
        "deepar_yesterday_values_75mean =  np.mean(deepar_predlist_today_values_sorted[0:17])"
      ],
      "execution_count": 315,
      "outputs": []
    },
    {
      "cell_type": "code",
      "metadata": {
        "colab": {
          "base_uri": "https://localhost:8080/"
        },
        "id": "OPStdGqL8X2N",
        "outputId": "e22c17d6-746b-4f57-9e6f-a2a84ff7c49c"
      },
      "source": [
        "deepar_yesterday_values_75mean"
      ],
      "execution_count": 316,
      "outputs": [
        {
          "output_type": "execute_result",
          "data": {
            "text/plain": [
              "84.71213800766888"
            ]
          },
          "metadata": {
            "tags": []
          },
          "execution_count": 316
        }
      ]
    },
    {
      "cell_type": "code",
      "metadata": {
        "id": "6OKU325N8X0Z"
      },
      "source": [
        "# Calculate Mean of the values lying below the 25 percentile.\n",
        "deepar_yesterday_values_100mean =  np.mean(deepar_predlist_today_values_sorted[0:23])"
      ],
      "execution_count": 317,
      "outputs": []
    },
    {
      "cell_type": "code",
      "metadata": {
        "colab": {
          "base_uri": "https://localhost:8080/"
        },
        "id": "5pHDXHPY8Xt4",
        "outputId": "e1280f7f-cecf-49b6-f4c1-153d55ea46ba"
      },
      "source": [
        "deepar_yesterday_values_100mean"
      ],
      "execution_count": 318,
      "outputs": [
        {
          "output_type": "execute_result",
          "data": {
            "text/plain": [
              "86.78087748651919"
            ]
          },
          "metadata": {
            "tags": []
          },
          "execution_count": 318
        }
      ]
    },
    {
      "cell_type": "code",
      "metadata": {
        "id": "vA7lNxqH8BvY"
      },
      "source": [
        "# create a dataframe today stats which holds the mean stats values.\n",
        "deepar_today_stats = pd.DataFrame({'mean_stats':[81.0188496907552,83.34311612447102,84.71213800766888,86.78087748651919],'index':['25%','50%','75%','100%']})"
      ],
      "execution_count": 319,
      "outputs": []
    },
    {
      "cell_type": "code",
      "metadata": {
        "colab": {
          "base_uri": "https://localhost:8080/",
          "height": 175
        },
        "id": "Upre_ALD96m0",
        "outputId": "5a9a9e0f-4ae9-4340-88cd-04ff84ef7bfc"
      },
      "source": [
        "deepar_today_stats"
      ],
      "execution_count": 320,
      "outputs": [
        {
          "output_type": "execute_result",
          "data": {
            "text/html": [
              "<div>\n",
              "<style scoped>\n",
              "    .dataframe tbody tr th:only-of-type {\n",
              "        vertical-align: middle;\n",
              "    }\n",
              "\n",
              "    .dataframe tbody tr th {\n",
              "        vertical-align: top;\n",
              "    }\n",
              "\n",
              "    .dataframe thead th {\n",
              "        text-align: right;\n",
              "    }\n",
              "</style>\n",
              "<table border=\"1\" class=\"dataframe\">\n",
              "  <thead>\n",
              "    <tr style=\"text-align: right;\">\n",
              "      <th></th>\n",
              "      <th>mean_stats</th>\n",
              "      <th>index</th>\n",
              "    </tr>\n",
              "  </thead>\n",
              "  <tbody>\n",
              "    <tr>\n",
              "      <th>0</th>\n",
              "      <td>81.018850</td>\n",
              "      <td>25%</td>\n",
              "    </tr>\n",
              "    <tr>\n",
              "      <th>1</th>\n",
              "      <td>83.343116</td>\n",
              "      <td>50%</td>\n",
              "    </tr>\n",
              "    <tr>\n",
              "      <th>2</th>\n",
              "      <td>84.712138</td>\n",
              "      <td>75%</td>\n",
              "    </tr>\n",
              "    <tr>\n",
              "      <th>3</th>\n",
              "      <td>86.780877</td>\n",
              "      <td>100%</td>\n",
              "    </tr>\n",
              "  </tbody>\n",
              "</table>\n",
              "</div>"
            ],
            "text/plain": [
              "   mean_stats index\n",
              "0   81.018850   25%\n",
              "1   83.343116   50%\n",
              "2   84.712138   75%\n",
              "3   86.780877  100%"
            ]
          },
          "metadata": {
            "tags": []
          },
          "execution_count": 320
        }
      ]
    },
    {
      "cell_type": "code",
      "metadata": {
        "id": "DE6SPstq977o"
      },
      "source": [
        "deepar_today_stats=deepar_today_stats.set_index(\"index\")"
      ],
      "execution_count": 321,
      "outputs": []
    },
    {
      "cell_type": "code",
      "metadata": {
        "colab": {
          "base_uri": "https://localhost:8080/",
          "height": 206
        },
        "id": "DEsnFBKU-PZU",
        "outputId": "cb652f85-783d-45db-fab3-16ab6371d56a"
      },
      "source": [
        "deepar_today_stats"
      ],
      "execution_count": 322,
      "outputs": [
        {
          "output_type": "execute_result",
          "data": {
            "text/html": [
              "<div>\n",
              "<style scoped>\n",
              "    .dataframe tbody tr th:only-of-type {\n",
              "        vertical-align: middle;\n",
              "    }\n",
              "\n",
              "    .dataframe tbody tr th {\n",
              "        vertical-align: top;\n",
              "    }\n",
              "\n",
              "    .dataframe thead th {\n",
              "        text-align: right;\n",
              "    }\n",
              "</style>\n",
              "<table border=\"1\" class=\"dataframe\">\n",
              "  <thead>\n",
              "    <tr style=\"text-align: right;\">\n",
              "      <th></th>\n",
              "      <th>mean_stats</th>\n",
              "    </tr>\n",
              "    <tr>\n",
              "      <th>index</th>\n",
              "      <th></th>\n",
              "    </tr>\n",
              "  </thead>\n",
              "  <tbody>\n",
              "    <tr>\n",
              "      <th>25%</th>\n",
              "      <td>81.018850</td>\n",
              "    </tr>\n",
              "    <tr>\n",
              "      <th>50%</th>\n",
              "      <td>83.343116</td>\n",
              "    </tr>\n",
              "    <tr>\n",
              "      <th>75%</th>\n",
              "      <td>84.712138</td>\n",
              "    </tr>\n",
              "    <tr>\n",
              "      <th>100%</th>\n",
              "      <td>86.780877</td>\n",
              "    </tr>\n",
              "  </tbody>\n",
              "</table>\n",
              "</div>"
            ],
            "text/plain": [
              "       mean_stats\n",
              "index            \n",
              "25%     81.018850\n",
              "50%     83.343116\n",
              "75%     84.712138\n",
              "100%    86.780877"
            ]
          },
          "metadata": {
            "tags": []
          },
          "execution_count": 322
        }
      ]
    },
    {
      "cell_type": "code",
      "metadata": {
        "id": "uXrdA7ss-RN7"
      },
      "source": [
        "deepar_predlist_today_values_copy = deepar_predlist_today_values.copy()"
      ],
      "execution_count": 325,
      "outputs": []
    },
    {
      "cell_type": "code",
      "metadata": {
        "id": "DM70lw6rBqXe"
      },
      "source": [
        "deepar_predlist_today_values_secondcopy = deepar_predlist_today_values_copy.copy()"
      ],
      "execution_count": 330,
      "outputs": []
    },
    {
      "cell_type": "code",
      "metadata": {
        "id": "KnUvfNWv_zts"
      },
      "source": [
        "# transform data according to lstm_yesterday_stats\n",
        "def transform_input_data(arr, input_stats):\n",
        "  for i in range(len(arr)):\n",
        "    if arr[i] <= input_stats.loc[\"25%\"].values[0]:\n",
        "      arr[i] = input_stats.loc[\"25%\"].values[0]\n",
        "    elif arr[i] > input_stats.loc[\"25%\"].values[0] and arr[i] <= input_stats.loc[\"50%\"].values[0]:\n",
        "      arr[i] = input_stats.loc[\"50%\"].values[0]\n",
        "    elif arr[i] > input_stats.loc[\"50%\"].values[0] and arr[i] <= input_stats.loc[\"75%\"].values[0]:\n",
        "      arr[i] = input_stats.loc[\"75%\"].values[0]\n",
        "    else:\n",
        "      arr[i] = input_stats.loc[\"100%\"].values[0]\n",
        "  return arr\n"
      ],
      "execution_count": 331,
      "outputs": []
    },
    {
      "cell_type": "code",
      "metadata": {
        "id": "phHyeIVqCAr_"
      },
      "source": [
        "transform_deep_today_data = transform_input_data(deepar_predlist_today_values_secondcopy,deepar_today_stats)\n",
        "#transform_lstm_today_data = transform_input_data(customLSTM_today_maxcpu_copy_values,input_stats)"
      ],
      "execution_count": 332,
      "outputs": []
    },
    {
      "cell_type": "code",
      "metadata": {
        "colab": {
          "base_uri": "https://localhost:8080/"
        },
        "id": "FW-sorw3C5aI",
        "outputId": "34169874-a81d-46cf-e3ff-5642c9b274fe"
      },
      "source": [
        "transform_deep_today_data"
      ],
      "execution_count": 333,
      "outputs": [
        {
          "output_type": "execute_result",
          "data": {
            "text/plain": [
              "array([86.78087749, 83.34311612, 86.78087749, 86.78087749, 81.01884969,\n",
              "       86.78087749, 81.01884969, 83.34311612, 86.78087749, 86.78087749,\n",
              "       86.78087749, 86.78087749, 86.78087749, 86.78087749, 86.78087749,\n",
              "       86.78087749, 81.01884969, 86.78087749, 86.78087749, 84.71213801,\n",
              "       86.78087749, 81.01884969, 84.71213801, 86.78087749])"
            ]
          },
          "metadata": {
            "tags": []
          },
          "execution_count": 333
        }
      ]
    },
    {
      "cell_type": "code",
      "metadata": {
        "id": "SIsKJLfJFUA6"
      },
      "source": [
        "transformed_deepAR_prediction_df=pd.DataFrame({\"timestamp\":TIMESTAMP,\"avgcpu\":transform_deep_today_data})"
      ],
      "execution_count": 337,
      "outputs": []
    },
    {
      "cell_type": "code",
      "metadata": {
        "colab": {
          "base_uri": "https://localhost:8080/",
          "height": 802
        },
        "id": "veZz4NbJFwef",
        "outputId": "e430dd0c-ae37-4aa7-9b71-7afa1b04bfc0"
      },
      "source": [
        "transformed_deepAR_prediction_df"
      ],
      "execution_count": 338,
      "outputs": [
        {
          "output_type": "execute_result",
          "data": {
            "text/html": [
              "<div>\n",
              "<style scoped>\n",
              "    .dataframe tbody tr th:only-of-type {\n",
              "        vertical-align: middle;\n",
              "    }\n",
              "\n",
              "    .dataframe tbody tr th {\n",
              "        vertical-align: top;\n",
              "    }\n",
              "\n",
              "    .dataframe thead th {\n",
              "        text-align: right;\n",
              "    }\n",
              "</style>\n",
              "<table border=\"1\" class=\"dataframe\">\n",
              "  <thead>\n",
              "    <tr style=\"text-align: right;\">\n",
              "      <th></th>\n",
              "      <th>timestamp</th>\n",
              "      <th>avgcpu</th>\n",
              "    </tr>\n",
              "  </thead>\n",
              "  <tbody>\n",
              "    <tr>\n",
              "      <th>0</th>\n",
              "      <td>2020-12-01 00:00:00</td>\n",
              "      <td>86.780877</td>\n",
              "    </tr>\n",
              "    <tr>\n",
              "      <th>1</th>\n",
              "      <td>2020-12-01 01:00:00</td>\n",
              "      <td>83.343116</td>\n",
              "    </tr>\n",
              "    <tr>\n",
              "      <th>2</th>\n",
              "      <td>2020-12-01 02:00:00</td>\n",
              "      <td>86.780877</td>\n",
              "    </tr>\n",
              "    <tr>\n",
              "      <th>3</th>\n",
              "      <td>2020-12-01 03:00:00</td>\n",
              "      <td>86.780877</td>\n",
              "    </tr>\n",
              "    <tr>\n",
              "      <th>4</th>\n",
              "      <td>2020-12-01 04:00:00</td>\n",
              "      <td>81.018850</td>\n",
              "    </tr>\n",
              "    <tr>\n",
              "      <th>5</th>\n",
              "      <td>2020-12-01 05:00:00</td>\n",
              "      <td>86.780877</td>\n",
              "    </tr>\n",
              "    <tr>\n",
              "      <th>6</th>\n",
              "      <td>2020-12-01 06:00:00</td>\n",
              "      <td>81.018850</td>\n",
              "    </tr>\n",
              "    <tr>\n",
              "      <th>7</th>\n",
              "      <td>2020-12-01 07:00:00</td>\n",
              "      <td>83.343116</td>\n",
              "    </tr>\n",
              "    <tr>\n",
              "      <th>8</th>\n",
              "      <td>2020-12-01 08:00:00</td>\n",
              "      <td>86.780877</td>\n",
              "    </tr>\n",
              "    <tr>\n",
              "      <th>9</th>\n",
              "      <td>2020-12-01 09:00:00</td>\n",
              "      <td>86.780877</td>\n",
              "    </tr>\n",
              "    <tr>\n",
              "      <th>10</th>\n",
              "      <td>2020-12-01 10:00:00</td>\n",
              "      <td>86.780877</td>\n",
              "    </tr>\n",
              "    <tr>\n",
              "      <th>11</th>\n",
              "      <td>2020-12-01 11:00:00</td>\n",
              "      <td>86.780877</td>\n",
              "    </tr>\n",
              "    <tr>\n",
              "      <th>12</th>\n",
              "      <td>2020-12-01 12:00:00</td>\n",
              "      <td>86.780877</td>\n",
              "    </tr>\n",
              "    <tr>\n",
              "      <th>13</th>\n",
              "      <td>2020-12-01 13:00:00</td>\n",
              "      <td>86.780877</td>\n",
              "    </tr>\n",
              "    <tr>\n",
              "      <th>14</th>\n",
              "      <td>2020-12-01 14:00:00</td>\n",
              "      <td>86.780877</td>\n",
              "    </tr>\n",
              "    <tr>\n",
              "      <th>15</th>\n",
              "      <td>2020-12-01 15:00:00</td>\n",
              "      <td>86.780877</td>\n",
              "    </tr>\n",
              "    <tr>\n",
              "      <th>16</th>\n",
              "      <td>2020-12-01 16:00:00</td>\n",
              "      <td>81.018850</td>\n",
              "    </tr>\n",
              "    <tr>\n",
              "      <th>17</th>\n",
              "      <td>2020-12-01 17:00:00</td>\n",
              "      <td>86.780877</td>\n",
              "    </tr>\n",
              "    <tr>\n",
              "      <th>18</th>\n",
              "      <td>2020-12-01 18:00:00</td>\n",
              "      <td>86.780877</td>\n",
              "    </tr>\n",
              "    <tr>\n",
              "      <th>19</th>\n",
              "      <td>2020-12-01 19:00:00</td>\n",
              "      <td>84.712138</td>\n",
              "    </tr>\n",
              "    <tr>\n",
              "      <th>20</th>\n",
              "      <td>2020-12-01 20:00:00</td>\n",
              "      <td>86.780877</td>\n",
              "    </tr>\n",
              "    <tr>\n",
              "      <th>21</th>\n",
              "      <td>2020-12-01 21:00:00</td>\n",
              "      <td>81.018850</td>\n",
              "    </tr>\n",
              "    <tr>\n",
              "      <th>22</th>\n",
              "      <td>2020-12-01 22:00:00</td>\n",
              "      <td>84.712138</td>\n",
              "    </tr>\n",
              "    <tr>\n",
              "      <th>23</th>\n",
              "      <td>2020-12-01 23:00:00</td>\n",
              "      <td>86.780877</td>\n",
              "    </tr>\n",
              "  </tbody>\n",
              "</table>\n",
              "</div>"
            ],
            "text/plain": [
              "             timestamp     avgcpu\n",
              "0  2020-12-01 00:00:00  86.780877\n",
              "1  2020-12-01 01:00:00  83.343116\n",
              "2  2020-12-01 02:00:00  86.780877\n",
              "3  2020-12-01 03:00:00  86.780877\n",
              "4  2020-12-01 04:00:00  81.018850\n",
              "5  2020-12-01 05:00:00  86.780877\n",
              "6  2020-12-01 06:00:00  81.018850\n",
              "7  2020-12-01 07:00:00  83.343116\n",
              "8  2020-12-01 08:00:00  86.780877\n",
              "9  2020-12-01 09:00:00  86.780877\n",
              "10 2020-12-01 10:00:00  86.780877\n",
              "11 2020-12-01 11:00:00  86.780877\n",
              "12 2020-12-01 12:00:00  86.780877\n",
              "13 2020-12-01 13:00:00  86.780877\n",
              "14 2020-12-01 14:00:00  86.780877\n",
              "15 2020-12-01 15:00:00  86.780877\n",
              "16 2020-12-01 16:00:00  81.018850\n",
              "17 2020-12-01 17:00:00  86.780877\n",
              "18 2020-12-01 18:00:00  86.780877\n",
              "19 2020-12-01 19:00:00  84.712138\n",
              "20 2020-12-01 20:00:00  86.780877\n",
              "21 2020-12-01 21:00:00  81.018850\n",
              "22 2020-12-01 22:00:00  84.712138\n",
              "23 2020-12-01 23:00:00  86.780877"
            ]
          },
          "metadata": {
            "tags": []
          },
          "execution_count": 338
        }
      ]
    },
    {
      "cell_type": "code",
      "metadata": {
        "id": "xr2zi6PTF0rv"
      },
      "source": [
        "transformed_deepAR_prediction_df.to_csv(\"deepAR_predictions.csv\")"
      ],
      "execution_count": 340,
      "outputs": []
    },
    {
      "cell_type": "code",
      "metadata": {
        "id": "FL0wLGC0C6AT"
      },
      "source": [
        "from IPython.display import display, HTML\n",
        "\n",
        "base_html = \"\"\"\n",
        "<!DOCTYPE html>\n",
        "<html>\n",
        "  <head>\n",
        "  <script type=\"text/javascript\" src=\"http://kozea.github.com/pygal.js/javascripts/svg.jquery.js\"></script>\n",
        "  <script type=\"text/javascript\" src=\"https://kozea.github.io/pygal.js/2.0.x/pygal-tooltips.min.js\"\"></script>\n",
        "  </head>\n",
        "  <body>\n",
        "    <figure>\n",
        "      {rendered_chart}\n",
        "    </figure>\n",
        "  </body>\n",
        "</html>\n",
        "\"\"\""
      ],
      "execution_count": 335,
      "outputs": []
    },
    {
      "cell_type": "code",
      "metadata": {
        "colab": {
          "base_uri": "https://localhost:8080/",
          "height": 630
        },
        "id": "VP4DHW1IDMAB",
        "outputId": "9600b4f1-0f80-42a9-b524-b1753d6094b8"
      },
      "source": [
        "TIME = input_cpu[\"timestamp\"].copy()\n",
        "bar_chart_d = pg.Bar()\n",
        "bar_chart_d.title = 'CPUUtilization prediction'\n",
        "bar_chart_d.x_labels = map(str, TIME)\n",
        "bar_chart_d.add('INPUT',input_cpu_transformed)\n",
        "bar_chart_d.add('DeepARtoday',transform_deep_today_data)\n",
        "#bar_chart_t.add('sorted',customLSTM_today_maxcpu)\n",
        "#bar_chart.add('customLSTMtoday',transformed_output_lstm)\n",
        "#line_chart.add('IE',      [85.8, 84.6, 84.7, 74.5,   66, 58.6, 54.7, 44.8, 36.2, 26.6, 20.1])\n",
        "#line_chart.add('Others',  [14.2, 15.4, 15.3,  8.9,    9, 10.4,  8.9,  5.8,  6.7,  6.8,  7.5])\n",
        "#line_chart.render()\n",
        "display(HTML(base_html.format(rendered_chart=bar_chart_d.render(is_unicode=True))))"
      ],
      "execution_count": 336,
      "outputs": [
        {
          "output_type": "display_data",
          "data": {
            "text/html": [
              "\n",
              "<!DOCTYPE html>\n",
              "<html>\n",
              "  <head>\n",
              "  <script type=\"text/javascript\" src=\"http://kozea.github.com/pygal.js/javascripts/svg.jquery.js\"></script>\n",
              "  <script type=\"text/javascript\" src=\"https://kozea.github.io/pygal.js/2.0.x/pygal-tooltips.min.js\"\"></script>\n",
              "  </head>\n",
              "  <body>\n",
              "    <figure>\n",
              "      <?xml version='1.0' encoding='utf-8'?>\n",
              "<svg xmlns:xlink=\"http://www.w3.org/1999/xlink\" xmlns=\"http://www.w3.org/2000/svg\" id=\"chart-7d812c66-e289-48ed-8436-67adb42b3bf0\" class=\"pygal-chart\" viewBox=\"0 0 800 600\"><!--Generated with pygal 2.4.0 (lxml) ©Kozea 2012-2016 on 2020-12-06--><!--http://pygal.org--><!--http://github.com/Kozea/pygal--><defs><style type=\"text/css\">#chart-7d812c66-e289-48ed-8436-67adb42b3bf0{-webkit-user-select:none;-webkit-font-smoothing:antialiased;font-family:Consolas,\"Liberation Mono\",Menlo,Courier,monospace}#chart-7d812c66-e289-48ed-8436-67adb42b3bf0 .title{font-family:Consolas,\"Liberation Mono\",Menlo,Courier,monospace;font-size:16px}#chart-7d812c66-e289-48ed-8436-67adb42b3bf0 .legends .legend text{font-family:Consolas,\"Liberation Mono\",Menlo,Courier,monospace;font-size:14px}#chart-7d812c66-e289-48ed-8436-67adb42b3bf0 .axis text{font-family:Consolas,\"Liberation Mono\",Menlo,Courier,monospace;font-size:10px}#chart-7d812c66-e289-48ed-8436-67adb42b3bf0 .axis text.major{font-family:Consolas,\"Liberation Mono\",Menlo,Courier,monospace;font-size:10px}#chart-7d812c66-e289-48ed-8436-67adb42b3bf0 .text-overlay text.value{font-family:Consolas,\"Liberation Mono\",Menlo,Courier,monospace;font-size:16px}#chart-7d812c66-e289-48ed-8436-67adb42b3bf0 .text-overlay text.label{font-family:Consolas,\"Liberation Mono\",Menlo,Courier,monospace;font-size:10px}#chart-7d812c66-e289-48ed-8436-67adb42b3bf0 .tooltip{font-family:Consolas,\"Liberation Mono\",Menlo,Courier,monospace;font-size:14px}#chart-7d812c66-e289-48ed-8436-67adb42b3bf0 text.no_data{font-family:Consolas,\"Liberation Mono\",Menlo,Courier,monospace;font-size:64px}\n",
              "#chart-7d812c66-e289-48ed-8436-67adb42b3bf0{background-color:rgba(249,249,249,1)}#chart-7d812c66-e289-48ed-8436-67adb42b3bf0 path,#chart-7d812c66-e289-48ed-8436-67adb42b3bf0 line,#chart-7d812c66-e289-48ed-8436-67adb42b3bf0 rect,#chart-7d812c66-e289-48ed-8436-67adb42b3bf0 circle{-webkit-transition:150ms;-moz-transition:150ms;transition:150ms}#chart-7d812c66-e289-48ed-8436-67adb42b3bf0 .graph &gt; .background{fill:rgba(249,249,249,1)}#chart-7d812c66-e289-48ed-8436-67adb42b3bf0 .plot &gt; .background{fill:rgba(255,255,255,1)}#chart-7d812c66-e289-48ed-8436-67adb42b3bf0 .graph{fill:rgba(0,0,0,.87)}#chart-7d812c66-e289-48ed-8436-67adb42b3bf0 text.no_data{fill:rgba(0,0,0,1)}#chart-7d812c66-e289-48ed-8436-67adb42b3bf0 .title{fill:rgba(0,0,0,1)}#chart-7d812c66-e289-48ed-8436-67adb42b3bf0 .legends .legend text{fill:rgba(0,0,0,.87)}#chart-7d812c66-e289-48ed-8436-67adb42b3bf0 .legends .legend:hover text{fill:rgba(0,0,0,1)}#chart-7d812c66-e289-48ed-8436-67adb42b3bf0 .axis .line{stroke:rgba(0,0,0,1)}#chart-7d812c66-e289-48ed-8436-67adb42b3bf0 .axis .guide.line{stroke:rgba(0,0,0,.54)}#chart-7d812c66-e289-48ed-8436-67adb42b3bf0 .axis .major.line{stroke:rgba(0,0,0,.87)}#chart-7d812c66-e289-48ed-8436-67adb42b3bf0 .axis text.major{fill:rgba(0,0,0,1)}#chart-7d812c66-e289-48ed-8436-67adb42b3bf0 .axis.y .guides:hover .guide.line,#chart-7d812c66-e289-48ed-8436-67adb42b3bf0 .line-graph .axis.x .guides:hover .guide.line,#chart-7d812c66-e289-48ed-8436-67adb42b3bf0 .stackedline-graph .axis.x .guides:hover .guide.line,#chart-7d812c66-e289-48ed-8436-67adb42b3bf0 .xy-graph .axis.x .guides:hover .guide.line{stroke:rgba(0,0,0,1)}#chart-7d812c66-e289-48ed-8436-67adb42b3bf0 .axis .guides:hover text{fill:rgba(0,0,0,1)}#chart-7d812c66-e289-48ed-8436-67adb42b3bf0 .reactive{fill-opacity:.7;stroke-opacity:.8}#chart-7d812c66-e289-48ed-8436-67adb42b3bf0 .ci{stroke:rgba(0,0,0,.87)}#chart-7d812c66-e289-48ed-8436-67adb42b3bf0 .reactive.active,#chart-7d812c66-e289-48ed-8436-67adb42b3bf0 .active .reactive{fill-opacity:.8;stroke-opacity:.9;stroke-width:4}#chart-7d812c66-e289-48ed-8436-67adb42b3bf0 .ci .reactive.active{stroke-width:1.5}#chart-7d812c66-e289-48ed-8436-67adb42b3bf0 .series text{fill:rgba(0,0,0,1)}#chart-7d812c66-e289-48ed-8436-67adb42b3bf0 .tooltip rect{fill:rgba(255,255,255,1);stroke:rgba(0,0,0,1);-webkit-transition:opacity 150ms;-moz-transition:opacity 150ms;transition:opacity 150ms}#chart-7d812c66-e289-48ed-8436-67adb42b3bf0 .tooltip .label{fill:rgba(0,0,0,.87)}#chart-7d812c66-e289-48ed-8436-67adb42b3bf0 .tooltip .label{fill:rgba(0,0,0,.87)}#chart-7d812c66-e289-48ed-8436-67adb42b3bf0 .tooltip .legend{font-size:.8em;fill:rgba(0,0,0,.54)}#chart-7d812c66-e289-48ed-8436-67adb42b3bf0 .tooltip .x_label{font-size:.6em;fill:rgba(0,0,0,1)}#chart-7d812c66-e289-48ed-8436-67adb42b3bf0 .tooltip .xlink{font-size:.5em;text-decoration:underline}#chart-7d812c66-e289-48ed-8436-67adb42b3bf0 .tooltip .value{font-size:1.5em}#chart-7d812c66-e289-48ed-8436-67adb42b3bf0 .bound{font-size:.5em}#chart-7d812c66-e289-48ed-8436-67adb42b3bf0 .max-value{font-size:.75em;fill:rgba(0,0,0,.54)}#chart-7d812c66-e289-48ed-8436-67adb42b3bf0 .map-element{fill:rgba(255,255,255,1);stroke:rgba(0,0,0,.54) !important}#chart-7d812c66-e289-48ed-8436-67adb42b3bf0 .map-element .reactive{fill-opacity:inherit;stroke-opacity:inherit}#chart-7d812c66-e289-48ed-8436-67adb42b3bf0 .color-0,#chart-7d812c66-e289-48ed-8436-67adb42b3bf0 .color-0 a:visited{stroke:#F44336;fill:#F44336}#chart-7d812c66-e289-48ed-8436-67adb42b3bf0 .color-1,#chart-7d812c66-e289-48ed-8436-67adb42b3bf0 .color-1 a:visited{stroke:#3F51B5;fill:#3F51B5}#chart-7d812c66-e289-48ed-8436-67adb42b3bf0 .text-overlay .color-0 text{fill:black}#chart-7d812c66-e289-48ed-8436-67adb42b3bf0 .text-overlay .color-1 text{fill:black}\n",
              "#chart-7d812c66-e289-48ed-8436-67adb42b3bf0 text.no_data{text-anchor:middle}#chart-7d812c66-e289-48ed-8436-67adb42b3bf0 .guide.line{fill:none}#chart-7d812c66-e289-48ed-8436-67adb42b3bf0 .centered{text-anchor:middle}#chart-7d812c66-e289-48ed-8436-67adb42b3bf0 .title{text-anchor:middle}#chart-7d812c66-e289-48ed-8436-67adb42b3bf0 .legends .legend text{fill-opacity:1}#chart-7d812c66-e289-48ed-8436-67adb42b3bf0 .axis.x text{text-anchor:middle}#chart-7d812c66-e289-48ed-8436-67adb42b3bf0 .axis.x:not(.web) text[transform]{text-anchor:start}#chart-7d812c66-e289-48ed-8436-67adb42b3bf0 .axis.x:not(.web) text[transform].backwards{text-anchor:end}#chart-7d812c66-e289-48ed-8436-67adb42b3bf0 .axis.y text{text-anchor:end}#chart-7d812c66-e289-48ed-8436-67adb42b3bf0 .axis.y text[transform].backwards{text-anchor:start}#chart-7d812c66-e289-48ed-8436-67adb42b3bf0 .axis.y2 text{text-anchor:start}#chart-7d812c66-e289-48ed-8436-67adb42b3bf0 .axis.y2 text[transform].backwards{text-anchor:end}#chart-7d812c66-e289-48ed-8436-67adb42b3bf0 .axis .guide.line{stroke-dasharray:4,4}#chart-7d812c66-e289-48ed-8436-67adb42b3bf0 .axis .major.guide.line{stroke-dasharray:6,6}#chart-7d812c66-e289-48ed-8436-67adb42b3bf0 .horizontal .axis.y .guide.line,#chart-7d812c66-e289-48ed-8436-67adb42b3bf0 .horizontal .axis.y2 .guide.line,#chart-7d812c66-e289-48ed-8436-67adb42b3bf0 .vertical .axis.x .guide.line{opacity:0}#chart-7d812c66-e289-48ed-8436-67adb42b3bf0 .horizontal .axis.always_show .guide.line,#chart-7d812c66-e289-48ed-8436-67adb42b3bf0 .vertical .axis.always_show .guide.line{opacity:1 !important}#chart-7d812c66-e289-48ed-8436-67adb42b3bf0 .axis.y .guides:hover .guide.line,#chart-7d812c66-e289-48ed-8436-67adb42b3bf0 .axis.y2 .guides:hover .guide.line,#chart-7d812c66-e289-48ed-8436-67adb42b3bf0 .axis.x .guides:hover .guide.line{opacity:1}#chart-7d812c66-e289-48ed-8436-67adb42b3bf0 .axis .guides:hover text{opacity:1}#chart-7d812c66-e289-48ed-8436-67adb42b3bf0 .nofill{fill:none}#chart-7d812c66-e289-48ed-8436-67adb42b3bf0 .subtle-fill{fill-opacity:.2}#chart-7d812c66-e289-48ed-8436-67adb42b3bf0 .dot{stroke-width:1px;fill-opacity:1}#chart-7d812c66-e289-48ed-8436-67adb42b3bf0 .dot.active{stroke-width:5px}#chart-7d812c66-e289-48ed-8436-67adb42b3bf0 .dot.negative{fill:transparent}#chart-7d812c66-e289-48ed-8436-67adb42b3bf0 text,#chart-7d812c66-e289-48ed-8436-67adb42b3bf0 tspan{stroke:none !important}#chart-7d812c66-e289-48ed-8436-67adb42b3bf0 .series text.active{opacity:1}#chart-7d812c66-e289-48ed-8436-67adb42b3bf0 .tooltip rect{fill-opacity:.95;stroke-width:.5}#chart-7d812c66-e289-48ed-8436-67adb42b3bf0 .tooltip text{fill-opacity:1}#chart-7d812c66-e289-48ed-8436-67adb42b3bf0 .showable{visibility:hidden}#chart-7d812c66-e289-48ed-8436-67adb42b3bf0 .showable.shown{visibility:visible}#chart-7d812c66-e289-48ed-8436-67adb42b3bf0 .gauge-background{fill:rgba(229,229,229,1);stroke:none}#chart-7d812c66-e289-48ed-8436-67adb42b3bf0 .bg-lines{stroke:rgba(249,249,249,1);stroke-width:2px}</style><script type=\"text/javascript\">window.pygal = window.pygal || {};window.pygal.config = window.pygal.config || {};window.pygal.config['7d812c66-e289-48ed-8436-67adb42b3bf0'] = {\"allow_interruptions\": false, \"box_mode\": \"extremes\", \"classes\": [\"pygal-chart\"], \"css\": [\"file://style.css\", \"file://graph.css\"], \"defs\": [], \"disable_xml_declaration\": false, \"dots_size\": 2.5, \"dynamic_print_values\": false, \"explicit_size\": false, \"fill\": false, \"force_uri_protocol\": \"https\", \"formatter\": null, \"half_pie\": false, \"height\": 600, \"include_x_axis\": false, \"inner_radius\": 0, \"interpolate\": null, \"interpolation_parameters\": {}, \"interpolation_precision\": 250, \"inverse_y_axis\": false, \"js\": [\"//kozea.github.io/pygal.js/2.0.x/pygal-tooltips.min.js\"], \"legend_at_bottom\": false, \"legend_at_bottom_columns\": null, \"legend_box_size\": 12, \"logarithmic\": false, \"margin\": 20, \"margin_bottom\": null, \"margin_left\": null, \"margin_right\": null, \"margin_top\": null, \"max_scale\": 16, \"min_scale\": 4, \"missing_value_fill_truncation\": \"x\", \"no_data_text\": \"No data\", \"no_prefix\": false, \"order_min\": null, \"pretty_print\": false, \"print_labels\": false, \"print_values\": false, \"print_values_position\": \"center\", \"print_zeroes\": true, \"range\": null, \"rounded_bars\": null, \"secondary_range\": null, \"show_dots\": true, \"show_legend\": true, \"show_minor_x_labels\": true, \"show_minor_y_labels\": true, \"show_only_major_dots\": false, \"show_x_guides\": false, \"show_x_labels\": true, \"show_y_guides\": true, \"show_y_labels\": true, \"spacing\": 10, \"stack_from_top\": false, \"strict\": false, \"stroke\": true, \"stroke_style\": null, \"style\": {\"background\": \"rgba(249, 249, 249, 1)\", \"ci_colors\": [], \"colors\": [\"#F44336\", \"#3F51B5\", \"#009688\", \"#FFC107\", \"#FF5722\", \"#9C27B0\", \"#03A9F4\", \"#8BC34A\", \"#FF9800\", \"#E91E63\", \"#2196F3\", \"#4CAF50\", \"#FFEB3B\", \"#673AB7\", \"#00BCD4\", \"#CDDC39\", \"#9E9E9E\", \"#607D8B\"], \"font_family\": \"Consolas, \\\"Liberation Mono\\\", Menlo, Courier, monospace\", \"foreground\": \"rgba(0, 0, 0, .87)\", \"foreground_strong\": \"rgba(0, 0, 0, 1)\", \"foreground_subtle\": \"rgba(0, 0, 0, .54)\", \"guide_stroke_dasharray\": \"4,4\", \"label_font_family\": \"Consolas, \\\"Liberation Mono\\\", Menlo, Courier, monospace\", \"label_font_size\": 10, \"legend_font_family\": \"Consolas, \\\"Liberation Mono\\\", Menlo, Courier, monospace\", \"legend_font_size\": 14, \"major_guide_stroke_dasharray\": \"6,6\", \"major_label_font_family\": \"Consolas, \\\"Liberation Mono\\\", Menlo, Courier, monospace\", \"major_label_font_size\": 10, \"no_data_font_family\": \"Consolas, \\\"Liberation Mono\\\", Menlo, Courier, monospace\", \"no_data_font_size\": 64, \"opacity\": \".7\", \"opacity_hover\": \".8\", \"plot_background\": \"rgba(255, 255, 255, 1)\", \"stroke_opacity\": \".8\", \"stroke_opacity_hover\": \".9\", \"title_font_family\": \"Consolas, \\\"Liberation Mono\\\", Menlo, Courier, monospace\", \"title_font_size\": 16, \"tooltip_font_family\": \"Consolas, \\\"Liberation Mono\\\", Menlo, Courier, monospace\", \"tooltip_font_size\": 14, \"transition\": \"150ms\", \"value_background\": \"rgba(229, 229, 229, 1)\", \"value_colors\": [], \"value_font_family\": \"Consolas, \\\"Liberation Mono\\\", Menlo, Courier, monospace\", \"value_font_size\": 16, \"value_label_font_family\": \"Consolas, \\\"Liberation Mono\\\", Menlo, Courier, monospace\", \"value_label_font_size\": 10}, \"title\": \"CPUUtilization prediction\", \"tooltip_border_radius\": 0, \"tooltip_fancy_mode\": true, \"truncate_label\": null, \"truncate_legend\": null, \"width\": 800, \"x_label_rotation\": 0, \"x_labels\": [\"2020-11-30 00:00:00\", \"2020-11-30 01:00:00\", \"2020-11-30 02:00:00\", \"2020-11-30 03:00:00\", \"2020-11-30 04:00:00\", \"2020-11-30 05:00:00\", \"2020-11-30 06:00:00\", \"2020-11-30 07:00:00\", \"2020-11-30 08:00:00\", \"2020-11-30 09:00:00\", \"2020-11-30 10:00:00\", \"2020-11-30 11:00:00\", \"2020-11-30 12:00:00\", \"2020-11-30 13:00:00\", \"2020-11-30 14:00:00\", \"2020-11-30 15:00:00\", \"2020-11-30 16:00:00\", \"2020-11-30 17:00:00\", \"2020-11-30 18:00:00\", \"2020-11-30 19:00:00\", \"2020-11-30 20:00:00\", \"2020-11-30 21:00:00\", \"2020-11-30 22:00:00\", \"2020-11-30 23:00:00\"], \"x_labels_major\": null, \"x_labels_major_count\": null, \"x_labels_major_every\": null, \"x_title\": null, \"xrange\": null, \"y_label_rotation\": 0, \"y_labels\": null, \"y_labels_major\": null, \"y_labels_major_count\": null, \"y_labels_major_every\": null, \"y_title\": null, \"zero\": 0, \"legends\": [\"INPUT\", \"DeepARtoday\"]}</script><script type=\"text/javascript\" xlink:href=\"https://kozea.github.io/pygal.js/2.0.x/pygal-tooltips.min.js\"/></defs><title>CPUUtilization prediction</title><g class=\"graph bar-graph vertical\"><rect class=\"background\" height=\"600\" width=\"800\" x=\"0\" y=\"0\"/><g class=\"plot\" transform=\"translate(156, 46)\"><rect class=\"background\" height=\"514\" width=\"623.6\" x=\"0\" y=\"0\"/><g class=\"axis y always_show\"><g class=\"guides\"><path class=\"axis major line\" d=\"M0.000000 504.115385 h623.600000\"/><text class=\"major\" x=\"-5\" y=\"507.61538461538464\">0</text><title>0</title></g><g class=\"guides\"><path class=\"guide line\" d=\"M0.000000 447.163809 h623.600000\"/><text class=\"\" x=\"-5\" y=\"450.6638091594272\">10</text><title>10</title></g><g class=\"guides\"><path class=\"guide line\" d=\"M0.000000 390.212234 h623.600000\"/><text class=\"\" x=\"-5\" y=\"393.7122337034698\">20</text><title>20</title></g><g class=\"guides\"><path class=\"guide line\" d=\"M0.000000 333.260658 h623.600000\"/><text class=\"\" x=\"-5\" y=\"336.76065824751237\">30</text><title>30</title></g><g class=\"guides\"><path class=\"guide line\" d=\"M0.000000 276.309083 h623.600000\"/><text class=\"\" x=\"-5\" y=\"279.809082791555\">40</text><title>40</title></g><g class=\"guides\"><path class=\"major guide line\" d=\"M0.000000 219.357507 h623.600000\"/><text class=\"major\" x=\"-5\" y=\"222.85750733559757\">50</text><title>50</title></g><g class=\"guides\"><path class=\"guide line\" d=\"M0.000000 162.405932 h623.600000\"/><text class=\"\" x=\"-5\" y=\"165.90593187964015\">60</text><title>60</title></g><g class=\"guides\"><path class=\"guide line\" d=\"M0.000000 105.454356 h623.600000\"/><text class=\"\" x=\"-5\" y=\"108.95435642368278\">70</text><title>70</title></g><g class=\"guides\"><path class=\"guide line\" d=\"M0.000000 48.502781 h623.600000\"/><text class=\"\" x=\"-5\" y=\"52.002780967725414\">80</text><title>80</title></g></g><g class=\"axis x\"><path class=\"line\" d=\"M0.000000 0.000000 v514.000000\"/><g class=\"guides\"><path class=\"guide line\" d=\"M24.484295 0.000000 v514.000000\"/><text class=\"\" x=\"24.484294871794873\" y=\"529.0\">202…</text><title>2020-11-30 00:00:00</title></g><g class=\"guides\"><path class=\"guide line\" d=\"M49.468269 0.000000 v514.000000\"/><text class=\"\" x=\"49.46826923076923\" y=\"529.0\">202…</text><title>2020-11-30 01:00:00</title></g><g class=\"guides\"><path class=\"guide line\" d=\"M74.452244 0.000000 v514.000000\"/><text class=\"\" x=\"74.45224358974359\" y=\"529.0\">202…</text><title>2020-11-30 02:00:00</title></g><g class=\"guides\"><path class=\"guide line\" d=\"M99.436218 0.000000 v514.000000\"/><text class=\"\" x=\"99.43621794871795\" y=\"529.0\">202…</text><title>2020-11-30 03:00:00</title></g><g class=\"guides\"><path class=\"guide line\" d=\"M124.420192 0.000000 v514.000000\"/><text class=\"\" x=\"124.42019230769229\" y=\"529.0\">202…</text><title>2020-11-30 04:00:00</title></g><g class=\"guides\"><path class=\"guide line\" d=\"M149.404167 0.000000 v514.000000\"/><text class=\"\" x=\"149.40416666666667\" y=\"529.0\">202…</text><title>2020-11-30 05:00:00</title></g><g class=\"guides\"><path class=\"guide line\" d=\"M174.388141 0.000000 v514.000000\"/><text class=\"\" x=\"174.388141025641\" y=\"529.0\">202…</text><title>2020-11-30 06:00:00</title></g><g class=\"guides\"><path class=\"guide line\" d=\"M199.372115 0.000000 v514.000000\"/><text class=\"\" x=\"199.3721153846154\" y=\"529.0\">202…</text><title>2020-11-30 07:00:00</title></g><g class=\"guides\"><path class=\"guide line\" d=\"M224.356090 0.000000 v514.000000\"/><text class=\"\" x=\"224.35608974358976\" y=\"529.0\">202…</text><title>2020-11-30 08:00:00</title></g><g class=\"guides\"><path class=\"guide line\" d=\"M249.340064 0.000000 v514.000000\"/><text class=\"\" x=\"249.3400641025641\" y=\"529.0\">202…</text><title>2020-11-30 09:00:00</title></g><g class=\"guides\"><path class=\"guide line\" d=\"M274.324038 0.000000 v514.000000\"/><text class=\"\" x=\"274.32403846153846\" y=\"529.0\">202…</text><title>2020-11-30 10:00:00</title></g><g class=\"guides\"><path class=\"guide line\" d=\"M299.308013 0.000000 v514.000000\"/><text class=\"\" x=\"299.30801282051283\" y=\"529.0\">202…</text><title>2020-11-30 11:00:00</title></g><g class=\"guides\"><path class=\"guide line\" d=\"M324.291987 0.000000 v514.000000\"/><text class=\"\" x=\"324.2919871794872\" y=\"529.0\">202…</text><title>2020-11-30 12:00:00</title></g><g class=\"guides\"><path class=\"guide line\" d=\"M349.275962 0.000000 v514.000000\"/><text class=\"\" x=\"349.27596153846156\" y=\"529.0\">202…</text><title>2020-11-30 13:00:00</title></g><g class=\"guides\"><path class=\"guide line\" d=\"M374.259936 0.000000 v514.000000\"/><text class=\"\" x=\"374.2599358974359\" y=\"529.0\">202…</text><title>2020-11-30 14:00:00</title></g><g class=\"guides\"><path class=\"guide line\" d=\"M399.243910 0.000000 v514.000000\"/><text class=\"\" x=\"399.2439102564103\" y=\"529.0\">202…</text><title>2020-11-30 15:00:00</title></g><g class=\"guides\"><path class=\"guide line\" d=\"M424.227885 0.000000 v514.000000\"/><text class=\"\" x=\"424.2278846153846\" y=\"529.0\">202…</text><title>2020-11-30 16:00:00</title></g><g class=\"guides\"><path class=\"guide line\" d=\"M449.211859 0.000000 v514.000000\"/><text class=\"\" x=\"449.21185897435896\" y=\"529.0\">202…</text><title>2020-11-30 17:00:00</title></g><g class=\"guides\"><path class=\"guide line\" d=\"M474.195833 0.000000 v514.000000\"/><text class=\"\" x=\"474.1958333333333\" y=\"529.0\">202…</text><title>2020-11-30 18:00:00</title></g><g class=\"guides\"><path class=\"guide line\" d=\"M499.179808 0.000000 v514.000000\"/><text class=\"\" x=\"499.17980769230775\" y=\"529.0\">202…</text><title>2020-11-30 19:00:00</title></g><g class=\"guides\"><path class=\"guide line\" d=\"M524.163782 0.000000 v514.000000\"/><text class=\"\" x=\"524.163782051282\" y=\"529.0\">202…</text><title>2020-11-30 20:00:00</title></g><g class=\"guides\"><path class=\"guide line\" d=\"M549.147756 0.000000 v514.000000\"/><text class=\"\" x=\"549.1477564102564\" y=\"529.0\">202…</text><title>2020-11-30 21:00:00</title></g><g class=\"guides\"><path class=\"guide line\" d=\"M574.131731 0.000000 v514.000000\"/><text class=\"\" x=\"574.1317307692308\" y=\"529.0\">202…</text><title>2020-11-30 22:00:00</title></g><g class=\"guides\"><path class=\"guide line\" d=\"M599.115705 0.000000 v514.000000\"/><text class=\"\" x=\"599.1157051282051\" y=\"529.0\">202…</text><title>2020-11-30 23:00:00</title></g></g><g class=\"series serie-0 color-0\"><g class=\"bars\"><g class=\"bar\"><rect class=\"rect reactive tooltip-trigger\" height=\"191.6540972086873\" rx=\"0\" ry=\"0\" width=\"9.673794871794874\" x=\"14.150923076923076\" y=\"312.46128740669735\"/><desc class=\"value\">33.6521151</desc><desc class=\"x centered\">18.987820512820512</desc><desc class=\"y centered\">408.288336011041</desc><desc class=\"x_label\">2020-11-30 00:00:00</desc></g><g class=\"bar\"><rect class=\"rect reactive tooltip-trigger\" height=\"306.4563537280486\" rx=\"0\" ry=\"0\" width=\"9.673794871794874\" x=\"39.134897435897436\" y=\"197.65903088733603\"/><desc class=\"value\">53.80998704</desc><desc class=\"x centered\">43.97179487179487</desc><desc class=\"y centered\">350.88720775136034</desc><desc class=\"x_label\">2020-11-30 01:00:00</desc></g><g class=\"bar\"><rect class=\"rect reactive tooltip-trigger\" height=\"418.30323148676166\" rx=\"0\" ry=\"0\" width=\"9.673794871794874\" x=\"64.1188717948718\" y=\"85.81215312862298\"/><desc class=\"value\">73.44893063</desc><desc class=\"x centered\">68.95576923076923</desc><desc class=\"y centered\">294.9637688720038</desc><desc class=\"x_label\">2020-11-30 02:00:00</desc></g><g class=\"bar\"><rect class=\"rect reactive tooltip-trigger\" height=\"306.4563537280486\" rx=\"0\" ry=\"0\" width=\"9.673794871794874\" x=\"89.10284615384614\" y=\"197.65903088733603\"/><desc class=\"value\">53.80998704</desc><desc class=\"x centered\">93.93974358974359</desc><desc class=\"y centered\">350.88720775136034</desc><desc class=\"x_label\">2020-11-30 03:00:00</desc></g><g class=\"bar\"><rect class=\"rect reactive tooltip-trigger\" height=\"373.8159392901519\" rx=\"0\" ry=\"0\" width=\"9.673794871794874\" x=\"114.08682051282051\" y=\"130.29944532523274\"/><desc class=\"value\">65.6375063</desc><desc class=\"x centered\">118.92371794871795</desc><desc class=\"y centered\">317.2074149703087</desc><desc class=\"x_label\">2020-11-30 04:00:00</desc></g><g class=\"bar\"><rect class=\"rect reactive tooltip-trigger\" height=\"191.6540972086873\" rx=\"0\" ry=\"0\" width=\"9.673794871794874\" x=\"139.07079487179487\" y=\"312.46128740669735\"/><desc class=\"value\">33.6521151</desc><desc class=\"x centered\">143.90769230769232</desc><desc class=\"y centered\">408.288336011041</desc><desc class=\"x_label\">2020-11-30 05:00:00</desc></g><g class=\"bar\"><rect class=\"rect reactive tooltip-trigger\" height=\"418.30323148676166\" rx=\"0\" ry=\"0\" width=\"9.673794871794874\" x=\"164.05476923076924\" y=\"85.81215312862298\"/><desc class=\"value\">73.44893063</desc><desc class=\"x centered\">168.89166666666668</desc><desc class=\"y centered\">294.9637688720038</desc><desc class=\"x_label\">2020-11-30 06:00:00</desc></g><g class=\"bar\"><rect class=\"rect reactive tooltip-trigger\" height=\"373.8159392901519\" rx=\"0\" ry=\"0\" width=\"9.673794871794874\" x=\"189.0387435897436\" y=\"130.29944532523274\"/><desc class=\"value\">65.6375063</desc><desc class=\"x centered\">193.87564102564104</desc><desc class=\"y centered\">317.2074149703087</desc><desc class=\"x_label\">2020-11-30 07:00:00</desc></g><g class=\"bar\"><rect class=\"rect reactive tooltip-trigger\" height=\"418.30323148676166\" rx=\"0\" ry=\"0\" width=\"9.673794871794874\" x=\"214.02271794871797\" y=\"85.81215312862298\"/><desc class=\"value\">73.44893063</desc><desc class=\"x centered\">218.8596153846154</desc><desc class=\"y centered\">294.9637688720038</desc><desc class=\"x_label\">2020-11-30 08:00:00</desc></g><g class=\"bar\"><rect class=\"rect reactive tooltip-trigger\" height=\"418.30323148676166\" rx=\"0\" ry=\"0\" width=\"9.673794871794874\" x=\"239.00669230769233\" y=\"85.81215312862298\"/><desc class=\"value\">73.44893063</desc><desc class=\"x centered\">243.84358974358977</desc><desc class=\"y centered\">294.9637688720038</desc><desc class=\"x_label\">2020-11-30 09:00:00</desc></g><g class=\"bar\"><rect class=\"rect reactive tooltip-trigger\" height=\"306.4563537280486\" rx=\"0\" ry=\"0\" width=\"9.673794871794874\" x=\"263.9906666666667\" y=\"197.65903088733603\"/><desc class=\"value\">53.80998704</desc><desc class=\"x centered\">268.8275641025641</desc><desc class=\"y centered\">350.88720775136034</desc><desc class=\"x_label\">2020-11-30 10:00:00</desc></g><g class=\"bar\"><rect class=\"rect reactive tooltip-trigger\" height=\"418.30323148676166\" rx=\"0\" ry=\"0\" width=\"9.673794871794874\" x=\"288.97464102564106\" y=\"85.81215312862298\"/><desc class=\"value\">73.44893063</desc><desc class=\"x centered\">293.8115384615385</desc><desc class=\"y centered\">294.9637688720038</desc><desc class=\"x_label\">2020-11-30 11:00:00</desc></g><g class=\"bar\"><rect class=\"rect reactive tooltip-trigger\" height=\"418.30323148676166\" rx=\"0\" ry=\"0\" width=\"9.673794871794874\" x=\"313.9586153846154\" y=\"85.81215312862298\"/><desc class=\"value\">73.44893063</desc><desc class=\"x centered\">318.79551282051284</desc><desc class=\"y centered\">294.9637688720038</desc><desc class=\"x_label\">2020-11-30 12:00:00</desc></g><g class=\"bar\"><rect class=\"rect reactive tooltip-trigger\" height=\"418.30323148676166\" rx=\"0\" ry=\"0\" width=\"9.673794871794874\" x=\"338.9425897435898\" y=\"85.81215312862298\"/><desc class=\"value\">73.44893063</desc><desc class=\"x centered\">343.7794871794872</desc><desc class=\"y centered\">294.9637688720038</desc><desc class=\"x_label\">2020-11-30 13:00:00</desc></g><g class=\"bar\"><rect class=\"rect reactive tooltip-trigger\" height=\"418.30323148676166\" rx=\"0\" ry=\"0\" width=\"9.673794871794874\" x=\"363.92656410256416\" y=\"85.81215312862298\"/><desc class=\"value\">73.44893063</desc><desc class=\"x centered\">368.76346153846157</desc><desc class=\"y centered\">294.9637688720038</desc><desc class=\"x_label\">2020-11-30 14:00:00</desc></g><g class=\"bar\"><rect class=\"rect reactive tooltip-trigger\" height=\"418.30323148676166\" rx=\"0\" ry=\"0\" width=\"9.673794871794874\" x=\"388.9105384615385\" y=\"85.81215312862298\"/><desc class=\"value\">73.44893063</desc><desc class=\"x centered\">393.74743589743593</desc><desc class=\"y centered\">294.9637688720038</desc><desc class=\"x_label\">2020-11-30 15:00:00</desc></g><g class=\"bar\"><rect class=\"rect reactive tooltip-trigger\" height=\"418.30323148676166\" rx=\"0\" ry=\"0\" width=\"9.673794871794874\" x=\"413.89451282051283\" y=\"85.81215312862298\"/><desc class=\"value\">73.44893063</desc><desc class=\"x centered\">418.73141025641024</desc><desc class=\"y centered\">294.9637688720038</desc><desc class=\"x_label\">2020-11-30 16:00:00</desc></g><g class=\"bar\"><rect class=\"rect reactive tooltip-trigger\" height=\"418.30323148676166\" rx=\"0\" ry=\"0\" width=\"9.673794871794874\" x=\"438.87848717948725\" y=\"85.81215312862298\"/><desc class=\"value\">73.44893063</desc><desc class=\"x centered\">443.71538461538466</desc><desc class=\"y centered\">294.9637688720038</desc><desc class=\"x_label\">2020-11-30 17:00:00</desc></g><g class=\"bar\"><rect class=\"rect reactive tooltip-trigger\" height=\"191.6540972086873\" rx=\"0\" ry=\"0\" width=\"9.673794871794874\" x=\"463.86246153846156\" y=\"312.46128740669735\"/><desc class=\"value\">33.6521151</desc><desc class=\"x centered\">468.699358974359</desc><desc class=\"y centered\">408.288336011041</desc><desc class=\"x_label\">2020-11-30 18:00:00</desc></g><g class=\"bar\"><rect class=\"rect reactive tooltip-trigger\" height=\"418.30323148676166\" rx=\"0\" ry=\"0\" width=\"9.673794871794874\" x=\"488.8464358974359\" y=\"85.81215312862298\"/><desc class=\"value\">73.44893063</desc><desc class=\"x centered\">493.68333333333334</desc><desc class=\"y centered\">294.9637688720038</desc><desc class=\"x_label\">2020-11-30 19:00:00</desc></g><g class=\"bar\"><rect class=\"rect reactive tooltip-trigger\" height=\"418.30323148676166\" rx=\"0\" ry=\"0\" width=\"9.673794871794874\" x=\"513.8304102564102\" y=\"85.81215312862298\"/><desc class=\"value\">73.44893063</desc><desc class=\"x centered\">518.6673076923076</desc><desc class=\"y centered\">294.9637688720038</desc><desc class=\"x_label\">2020-11-30 20:00:00</desc></g><g class=\"bar\"><rect class=\"rect reactive tooltip-trigger\" height=\"418.30323148676166\" rx=\"0\" ry=\"0\" width=\"9.673794871794874\" x=\"538.8143846153846\" y=\"85.81215312862298\"/><desc class=\"value\">73.44893063</desc><desc class=\"x centered\">543.651282051282</desc><desc class=\"y centered\">294.9637688720038</desc><desc class=\"x_label\">2020-11-30 21:00:00</desc></g><g class=\"bar\"><rect class=\"rect reactive tooltip-trigger\" height=\"306.4563537280486\" rx=\"0\" ry=\"0\" width=\"9.673794871794874\" x=\"563.7983589743588\" y=\"197.65903088733603\"/><desc class=\"value\">53.80998704</desc><desc class=\"x centered\">568.6352564102563</desc><desc class=\"y centered\">350.88720775136034</desc><desc class=\"x_label\">2020-11-30 22:00:00</desc></g><g class=\"bar\"><rect class=\"rect reactive tooltip-trigger\" height=\"418.30323148676166\" rx=\"0\" ry=\"0\" width=\"9.673794871794874\" x=\"588.7823333333334\" y=\"85.81215312862298\"/><desc class=\"value\">73.44893063</desc><desc class=\"x centered\">593.6192307692309</desc><desc class=\"y centered\">294.9637688720038</desc><desc class=\"x_label\">2020-11-30 23:00:00</desc></g></g></g><g class=\"series serie-1 color-1\"><g class=\"bars\"><g class=\"bar\"><rect class=\"rect reactive tooltip-trigger\" height=\"494.2307692307693\" rx=\"0\" ry=\"0\" width=\"9.673794871794874\" x=\"25.143871794871796\" y=\"9.884615384615358\"/><desc class=\"value\">86.78087749</desc><desc class=\"x centered\">29.980769230769234</desc><desc class=\"y centered\">257.0</desc><desc class=\"x_label\">2020-11-30 00:00:00</desc></g><g class=\"bar\"><rect class=\"rect reactive tooltip-trigger\" height=\"474.65217666974314\" rx=\"0\" ry=\"0\" width=\"9.673794871794874\" x=\"50.12784615384616\" y=\"29.4632079456415\"/><desc class=\"value\">83.34311612</desc><desc class=\"x centered\">54.96474358974359</desc><desc class=\"y centered\">266.7892962805131</desc><desc class=\"x_label\">2020-11-30 01:00:00</desc></g><g class=\"bar\"><rect class=\"rect reactive tooltip-trigger\" height=\"494.2307692307693\" rx=\"0\" ry=\"0\" width=\"9.673794871794874\" x=\"75.11182051282051\" y=\"9.884615384615358\"/><desc class=\"value\">86.78087749</desc><desc class=\"x centered\">79.94871794871796</desc><desc class=\"y centered\">257.0</desc><desc class=\"x_label\">2020-11-30 02:00:00</desc></g><g class=\"bar\"><rect class=\"rect reactive tooltip-trigger\" height=\"494.2307692307693\" rx=\"0\" ry=\"0\" width=\"9.673794871794874\" x=\"100.09579487179487\" y=\"9.884615384615358\"/><desc class=\"value\">86.78087749</desc><desc class=\"x centered\">104.9326923076923</desc><desc class=\"y centered\">257.0</desc><desc class=\"x_label\">2020-11-30 03:00:00</desc></g><g class=\"bar\"><rect class=\"rect reactive tooltip-trigger\" height=\"461.4151131517916\" rx=\"0\" ry=\"0\" width=\"9.673794871794874\" x=\"125.07976923076923\" y=\"42.700271463593026\"/><desc class=\"value\">81.01884969</desc><desc class=\"x centered\">129.91666666666666</desc><desc class=\"y centered\">273.40782803948883</desc><desc class=\"x_label\">2020-11-30 04:00:00</desc></g><g class=\"bar\"><rect class=\"rect reactive tooltip-trigger\" height=\"494.2307692307693\" rx=\"0\" ry=\"0\" width=\"9.673794871794874\" x=\"150.06374358974358\" y=\"9.884615384615358\"/><desc class=\"value\">86.78087749</desc><desc class=\"x centered\">154.90064102564102</desc><desc class=\"y centered\">257.0</desc><desc class=\"x_label\">2020-11-30 05:00:00</desc></g><g class=\"bar\"><rect class=\"rect reactive tooltip-trigger\" height=\"461.4151131517916\" rx=\"0\" ry=\"0\" width=\"9.673794871794874\" x=\"175.04771794871795\" y=\"42.700271463593026\"/><desc class=\"value\">81.01884969</desc><desc class=\"x centered\">179.8846153846154</desc><desc class=\"y centered\">273.40782803948883</desc><desc class=\"x_label\">2020-11-30 06:00:00</desc></g><g class=\"bar\"><rect class=\"rect reactive tooltip-trigger\" height=\"474.65217666974314\" rx=\"0\" ry=\"0\" width=\"9.673794871794874\" x=\"200.0316923076923\" y=\"29.4632079456415\"/><desc class=\"value\">83.34311612</desc><desc class=\"x centered\">204.86858974358975</desc><desc class=\"y centered\">266.7892962805131</desc><desc class=\"x_label\">2020-11-30 07:00:00</desc></g><g class=\"bar\"><rect class=\"rect reactive tooltip-trigger\" height=\"494.2307692307693\" rx=\"0\" ry=\"0\" width=\"9.673794871794874\" x=\"225.01566666666668\" y=\"9.884615384615358\"/><desc class=\"value\">86.78087749</desc><desc class=\"x centered\">229.85256410256412</desc><desc class=\"y centered\">257.0</desc><desc class=\"x_label\">2020-11-30 08:00:00</desc></g><g class=\"bar\"><rect class=\"rect reactive tooltip-trigger\" height=\"494.2307692307693\" rx=\"0\" ry=\"0\" width=\"9.673794871794874\" x=\"249.99964102564104\" y=\"9.884615384615358\"/><desc class=\"value\">86.78087749</desc><desc class=\"x centered\">254.83653846153848</desc><desc class=\"y centered\">257.0</desc><desc class=\"x_label\">2020-11-30 09:00:00</desc></g><g class=\"bar\"><rect class=\"rect reactive tooltip-trigger\" height=\"494.2307692307693\" rx=\"0\" ry=\"0\" width=\"9.673794871794874\" x=\"274.9836153846154\" y=\"9.884615384615358\"/><desc class=\"value\">86.78087749</desc><desc class=\"x centered\">279.8205128205128</desc><desc class=\"y centered\">257.0</desc><desc class=\"x_label\">2020-11-30 10:00:00</desc></g><g class=\"bar\"><rect class=\"rect reactive tooltip-trigger\" height=\"494.2307692307693\" rx=\"0\" ry=\"0\" width=\"9.673794871794874\" x=\"299.96758974358977\" y=\"9.884615384615358\"/><desc class=\"value\">86.78087749</desc><desc class=\"x centered\">304.8044871794872</desc><desc class=\"y centered\">257.0</desc><desc class=\"x_label\">2020-11-30 11:00:00</desc></g><g class=\"bar\"><rect class=\"rect reactive tooltip-trigger\" height=\"494.2307692307693\" rx=\"0\" ry=\"0\" width=\"9.673794871794874\" x=\"324.95156410256413\" y=\"9.884615384615358\"/><desc class=\"value\">86.78087749</desc><desc class=\"x centered\">329.78846153846155</desc><desc class=\"y centered\">257.0</desc><desc class=\"x_label\">2020-11-30 12:00:00</desc></g><g class=\"bar\"><rect class=\"rect reactive tooltip-trigger\" height=\"494.2307692307693\" rx=\"0\" ry=\"0\" width=\"9.673794871794874\" x=\"349.9355384615385\" y=\"9.884615384615358\"/><desc class=\"value\">86.78087749</desc><desc class=\"x centered\">354.7724358974359</desc><desc class=\"y centered\">257.0</desc><desc class=\"x_label\">2020-11-30 13:00:00</desc></g><g class=\"bar\"><rect class=\"rect reactive tooltip-trigger\" height=\"494.2307692307693\" rx=\"0\" ry=\"0\" width=\"9.673794871794874\" x=\"374.91951282051286\" y=\"9.884615384615358\"/><desc class=\"value\">86.78087749</desc><desc class=\"x centered\">379.7564102564103</desc><desc class=\"y centered\">257.0</desc><desc class=\"x_label\">2020-11-30 14:00:00</desc></g><g class=\"bar\"><rect class=\"rect reactive tooltip-trigger\" height=\"494.2307692307693\" rx=\"0\" ry=\"0\" width=\"9.673794871794874\" x=\"399.90348717948723\" y=\"9.884615384615358\"/><desc class=\"value\">86.78087749</desc><desc class=\"x centered\">404.74038461538464</desc><desc class=\"y centered\">257.0</desc><desc class=\"x_label\">2020-11-30 15:00:00</desc></g><g class=\"bar\"><rect class=\"rect reactive tooltip-trigger\" height=\"461.4151131517916\" rx=\"0\" ry=\"0\" width=\"9.673794871794874\" x=\"424.88746153846154\" y=\"42.700271463593026\"/><desc class=\"value\">81.01884969</desc><desc class=\"x centered\">429.72435897435895</desc><desc class=\"y centered\">273.40782803948883</desc><desc class=\"x_label\">2020-11-30 16:00:00</desc></g><g class=\"bar\"><rect class=\"rect reactive tooltip-trigger\" height=\"494.2307692307693\" rx=\"0\" ry=\"0\" width=\"9.673794871794874\" x=\"449.87143589743596\" y=\"9.884615384615358\"/><desc class=\"value\">86.78087749</desc><desc class=\"x centered\">454.70833333333337</desc><desc class=\"y centered\">257.0</desc><desc class=\"x_label\">2020-11-30 17:00:00</desc></g><g class=\"bar\"><rect class=\"rect reactive tooltip-trigger\" height=\"494.2307692307693\" rx=\"0\" ry=\"0\" width=\"9.673794871794874\" x=\"474.85541025641027\" y=\"9.884615384615358\"/><desc class=\"value\">86.78087749</desc><desc class=\"x centered\">479.6923076923077</desc><desc class=\"y centered\">257.0</desc><desc class=\"x_label\">2020-11-30 18:00:00</desc></g><g class=\"bar\"><rect class=\"rect reactive tooltip-trigger\" height=\"482.4489719779231\" rx=\"0\" ry=\"0\" width=\"9.673794871794874\" x=\"499.83938461538463\" y=\"21.66641263746152\"/><desc class=\"value\">84.71213801</desc><desc class=\"x centered\">504.67628205128204</desc><desc class=\"y centered\">262.8908986264231</desc><desc class=\"x_label\">2020-11-30 19:00:00</desc></g><g class=\"bar\"><rect class=\"rect reactive tooltip-trigger\" height=\"494.2307692307693\" rx=\"0\" ry=\"0\" width=\"9.673794871794874\" x=\"524.8233589743589\" y=\"9.884615384615358\"/><desc class=\"value\">86.78087749</desc><desc class=\"x centered\">529.6602564102564</desc><desc class=\"y centered\">257.0</desc><desc class=\"x_label\">2020-11-30 20:00:00</desc></g><g class=\"bar\"><rect class=\"rect reactive tooltip-trigger\" height=\"461.4151131517916\" rx=\"0\" ry=\"0\" width=\"9.673794871794874\" x=\"549.8073333333333\" y=\"42.700271463593026\"/><desc class=\"value\">81.01884969</desc><desc class=\"x centered\">554.6442307692307</desc><desc class=\"y centered\">273.40782803948883</desc><desc class=\"x_label\">2020-11-30 21:00:00</desc></g><g class=\"bar\"><rect class=\"rect reactive tooltip-trigger\" height=\"482.4489719779231\" rx=\"0\" ry=\"0\" width=\"9.673794871794874\" x=\"574.7913076923076\" y=\"21.66641263746152\"/><desc class=\"value\">84.71213801</desc><desc class=\"x centered\">579.628205128205</desc><desc class=\"y centered\">262.8908986264231</desc><desc class=\"x_label\">2020-11-30 22:00:00</desc></g><g class=\"bar\"><rect class=\"rect reactive tooltip-trigger\" height=\"494.2307692307693\" rx=\"0\" ry=\"0\" width=\"9.673794871794874\" x=\"599.7752820512821\" y=\"9.884615384615358\"/><desc class=\"value\">86.78087749</desc><desc class=\"x centered\">604.6121794871796</desc><desc class=\"y centered\">257.0</desc><desc class=\"x_label\">2020-11-30 23:00:00</desc></g></g></g></g><g class=\"titles\"><text class=\"title plot_title\" x=\"400.0\" y=\"26\">CPUUtilization prediction</text></g><g class=\"plot overlay\" transform=\"translate(156, 46)\"><g class=\"series serie-0 color-0\"/><g class=\"series serie-1 color-1\"/></g><g class=\"plot text-overlay\" transform=\"translate(156, 46)\"><g class=\"series serie-0 color-0\"/><g class=\"series serie-1 color-1\"/></g><g class=\"plot tooltip-overlay\" transform=\"translate(156, 46)\"><g class=\"tooltip\" style=\"opacity: 0\" transform=\"translate(0 0)\"><rect class=\"tooltip-box\" height=\"0\" rx=\"0\" ry=\"0\" width=\"0\"/><g class=\"text\"/></g></g><g class=\"legends\" transform=\"translate(10, 56)\"><g class=\"legend reactive activate-serie\" id=\"activate-serie-0\"><rect class=\"color-0 reactive\" height=\"12\" width=\"12\" x=\"0.0\" y=\"1.0\"/><text x=\"17.0\" y=\"11.2\">INPUT</text></g><g class=\"legend reactive activate-serie\" id=\"activate-serie-1\"><rect class=\"color-1 reactive\" height=\"12\" width=\"12\" x=\"0.0\" y=\"22.0\"/><text x=\"17.0\" y=\"32.2\">DeepARtoday</text></g></g><g class=\"legends\" transform=\"translate(790, 56)\"/></g></svg>\n",
              "    </figure>\n",
              "  </body>\n",
              "</html>\n"
            ],
            "text/plain": [
              "<IPython.core.display.HTML object>"
            ]
          },
          "metadata": {
            "tags": []
          }
        }
      ]
    },
    {
      "cell_type": "code",
      "metadata": {
        "id": "VVGnjWh6ENBQ"
      },
      "source": [
        ""
      ],
      "execution_count": null,
      "outputs": []
    }
  ]
}