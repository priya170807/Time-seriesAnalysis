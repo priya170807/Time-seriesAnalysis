{
  "nbformat": 4,
  "nbformat_minor": 0,
  "metadata": {
    "colab": {
      "name": "WallStreetAssignment.ipynb",
      "provenance": [],
      "collapsed_sections": [],
      "mount_file_id": "1r7rTYGX_V42Hu91qNRCDgTtmGlhw-mT5",
      "authorship_tag": "ABX9TyOHcyAqlVLeG1cQLhwcUNHC",
      "include_colab_link": true
    },
    "kernelspec": {
      "name": "python3",
      "display_name": "Python 3"
    },
    "language_info": {
      "name": "python"
    }
  },
  "cells": [
    {
      "cell_type": "markdown",
      "metadata": {
        "id": "view-in-github",
        "colab_type": "text"
      },
      "source": [
        "<a href=\"https://colab.research.google.com/github/priya170807/Time-seriesAnalysis/blob/main/WallStreetAssignment.ipynb\" target=\"_parent\"><img src=\"https://colab.research.google.com/assets/colab-badge.svg\" alt=\"Open In Colab\"/></a>"
      ]
    },
    {
      "cell_type": "code",
      "metadata": {
        "id": "6b7H5Daa49Gs"
      },
      "source": [
        "# basic libraries\n",
        "import datetime\n",
        "import numpy as np\n",
        "import pandas as pd\n",
        "# plotting libraries\n",
        "import seaborn as sns\n",
        "import matplotlib as plt\n",
        "import plotly.offline as py\n",
        "import plotly.graph_objs as go\n",
        "from plotly import tools\n",
        "%matplotlib inline\n",
        "# ignore pandas warnings\n",
        "import warnings\n",
        "warnings.filterwarnings(\"ignore\")"
      ],
      "execution_count": 1,
      "outputs": []
    },
    {
      "cell_type": "code",
      "metadata": {
        "id": "Y2lmfKqx5uPX"
      },
      "source": [
        "data=pd.read_csv('/content/drive/MyDrive/august_wsj_pageviews.csv', skipinitialspace=True, infer_datetime_format=True)"
      ],
      "execution_count": 2,
      "outputs": []
    },
    {
      "cell_type": "code",
      "metadata": {
        "id": "hvYv1408_kK5"
      },
      "source": [
        "df = data.copy()"
      ],
      "execution_count": 3,
      "outputs": []
    },
    {
      "cell_type": "code",
      "metadata": {
        "id": "hPhpmjei6vHo"
      },
      "source": [
        "df['pageview_time'] = pd.to_datetime(df['pageview_time'])"
      ],
      "execution_count": 4,
      "outputs": []
    },
    {
      "cell_type": "code",
      "metadata": {
        "id": "oxOeLstv9BQp"
      },
      "source": [
        "df['pageview_time'] = pd.to_datetime(df['pageview_time'].dt.strftime('%Y-%m-%d %H:%M:%S'))"
      ],
      "execution_count": 5,
      "outputs": []
    },
    {
      "cell_type": "code",
      "metadata": {
        "id": "Qq1IxNzX_Vbg"
      },
      "source": [
        "df['publication_time'] = pd.to_datetime(df['publication_time'])"
      ],
      "execution_count": 6,
      "outputs": []
    },
    {
      "cell_type": "code",
      "metadata": {
        "id": "u1kAQYrv_2GA"
      },
      "source": [
        "df['publication_time'] = pd.to_datetime(df['publication_time'].dt.strftime('%Y-%m-%d %H:%M:%S'))"
      ],
      "execution_count": 7,
      "outputs": []
    },
    {
      "cell_type": "code",
      "metadata": {
        "id": "44RnkyU0AFZA"
      },
      "source": [
        "df_olympics = df[df[\"article_type\"]==\"Olympics\"]"
      ],
      "execution_count": 8,
      "outputs": []
    },
    {
      "cell_type": "code",
      "metadata": {
        "colab": {
          "base_uri": "https://localhost:8080/"
        },
        "id": "v1VoVa5-hCl6",
        "outputId": "e17314a3-958d-4d08-a220-d5c0662ef14b"
      },
      "source": [
        "df_olympics.shape"
      ],
      "execution_count": 9,
      "outputs": [
        {
          "output_type": "execute_result",
          "data": {
            "text/plain": [
              "(1716, 15)"
            ]
          },
          "metadata": {},
          "execution_count": 9
        }
      ]
    },
    {
      "cell_type": "code",
      "metadata": {
        "id": "4MQDlByEj3xf"
      },
      "source": [
        "df_olympics[\"year\"]=df[\"publication_time\"].dt.year"
      ],
      "execution_count": 10,
      "outputs": []
    },
    {
      "cell_type": "code",
      "metadata": {
        "id": "q77CWf_uhEzl"
      },
      "source": [
        "# df_olympics_2021 = df_olympics[df_olympics[\"publication_time\"].dt.year==2021]"
      ],
      "execution_count": 11,
      "outputs": []
    },
    {
      "cell_type": "code",
      "metadata": {
        "id": "X0j2MXwrkVsb"
      },
      "source": [
        "# df_olympics.sort_values(by=[\"year\"], inplace=True)"
      ],
      "execution_count": 12,
      "outputs": []
    },
    {
      "cell_type": "code",
      "metadata": {
        "id": "4XIumgBGlePo"
      },
      "source": [
        "df_olympics_2021 = df_olympics[df_olympics[\"year\"]==2021]"
      ],
      "execution_count": 13,
      "outputs": []
    },
    {
      "cell_type": "code",
      "metadata": {
        "id": "rGI_-nb92jhK"
      },
      "source": [
        "df_olympics_2021 = df_olympics_2021.reset_index(drop=True)"
      ],
      "execution_count": 14,
      "outputs": []
    },
    {
      "cell_type": "code",
      "metadata": {
        "colab": {
          "base_uri": "https://localhost:8080/"
        },
        "id": "EFrh92uFljHv",
        "outputId": "2170b1a2-1d89-41d9-dd4a-2b4503f58a59"
      },
      "source": [
        "df_olympics_2021.shape"
      ],
      "execution_count": 15,
      "outputs": [
        {
          "output_type": "execute_result",
          "data": {
            "text/plain": [
              "(1706, 16)"
            ]
          },
          "metadata": {},
          "execution_count": 15
        }
      ]
    },
    {
      "cell_type": "code",
      "metadata": {
        "colab": {
          "base_uri": "https://localhost:8080/"
        },
        "id": "h71AFaXNljEG",
        "outputId": "1fa56eda-9d5d-4158-d8f3-0407c13c9b0b"
      },
      "source": [
        "df_olympics_2021[\"section\"].value_counts()"
      ],
      "execution_count": 16,
      "outputs": [
        {
          "output_type": "execute_result",
          "data": {
            "text/plain": [
              "Life    1706\n",
              "Name: section, dtype: int64"
            ]
          },
          "metadata": {},
          "execution_count": 16
        }
      ]
    },
    {
      "cell_type": "code",
      "metadata": {
        "colab": {
          "base_uri": "https://localhost:8080/"
        },
        "id": "7Q_C-_IQljBa",
        "outputId": "4cdf4733-ac04-414d-fb42-8197ac1ad0aa"
      },
      "source": [
        "df_olympics_2021[\"subsection\"].value_counts()"
      ],
      "execution_count": 17,
      "outputs": [
        {
          "output_type": "execute_result",
          "data": {
            "text/plain": [
              "Sports    1706\n",
              "Name: subsection, dtype: int64"
            ]
          },
          "metadata": {},
          "execution_count": 17
        }
      ]
    },
    {
      "cell_type": "code",
      "metadata": {
        "id": "hTGlaR82obRk"
      },
      "source": [
        "# section and subsection don't carry any useful information so dropping\n",
        "df_olympics_2021.drop([\"section\", \"subsection\", \"article_type\", \"year\"], axis=1, inplace=True)"
      ],
      "execution_count": 18,
      "outputs": []
    },
    {
      "cell_type": "markdown",
      "metadata": {
        "id": "mpE2mIJ7o3Ui"
      },
      "source": [
        ""
      ]
    },
    {
      "cell_type": "code",
      "metadata": {
        "colab": {
          "base_uri": "https://localhost:8080/"
        },
        "id": "L7mp3oamo0Yf",
        "outputId": "d4899f76-7a00-4f05-b86f-5b15b7ba736b"
      },
      "source": [
        "df_olympics_2021.shape"
      ],
      "execution_count": 19,
      "outputs": [
        {
          "output_type": "execute_result",
          "data": {
            "text/plain": [
              "(1706, 12)"
            ]
          },
          "metadata": {},
          "execution_count": 19
        }
      ]
    },
    {
      "cell_type": "code",
      "metadata": {
        "colab": {
          "base_uri": "https://localhost:8080/"
        },
        "id": "KqLPaspCqZKv",
        "outputId": "cf87539d-103e-40d7-d470-81130ee41a90"
      },
      "source": [
        "# lets check the null values in the dataset now\n",
        "df_olympics_2021.isnull().sum()"
      ],
      "execution_count": 20,
      "outputs": [
        {
          "output_type": "execute_result",
          "data": {
            "text/plain": [
              "pageview_time          0\n",
              "publication_time       0\n",
              "visit_id               0\n",
              "device_id              0\n",
              "visit_page_num         0\n",
              "subscriber_status      0\n",
              "headline               0\n",
              "author                11\n",
              "device                 0\n",
              "visit_ref_type       329\n",
              "article_id             0\n",
              "geo_country            0\n",
              "dtype: int64"
            ]
          },
          "metadata": {},
          "execution_count": 20
        }
      ]
    },
    {
      "cell_type": "markdown",
      "metadata": {
        "id": "ibRZbQTOsffH"
      },
      "source": [
        "**Visit_ref_type:** lets see the most frequently occuring value for the visit_ref_type column and fill in the column with appropriate values instead of dropping the values.\n",
        "\n",
        "**Author:** Since author cannot be determined lets use the value \"unknown\"."
      ]
    },
    {
      "cell_type": "code",
      "metadata": {
        "colab": {
          "base_uri": "https://localhost:8080/"
        },
        "id": "LGWTzjgLrim_",
        "outputId": "f11c2f87-ebf4-4984-d4c3-4159d182a32a"
      },
      "source": [
        "print(df_olympics_2021[\"visit_ref_type\"].value_counts())\n",
        "df_olympics_2021[\"visit_ref_type\"]=df_olympics_2021[\"visit_ref_type\"].fillna(value=\"Unknown\")\n",
        "df_olympics_2021[\"author\"]=df_olympics_2021[\"author\"].fillna(value=\"Unknown\")"
      ],
      "execution_count": 21,
      "outputs": [
        {
          "output_type": "stream",
          "name": "stdout",
          "text": [
            "Social Network      592\n",
            "Search Engines      475\n",
            "external            154\n",
            "Typed/Bookmarked    101\n",
            "internal             55\n",
            "Name: visit_ref_type, dtype: int64\n"
          ]
        }
      ]
    },
    {
      "cell_type": "code",
      "metadata": {
        "id": "1xk0igZ2ytDL"
      },
      "source": [
        "df_olympics_2021[\"publication_date\"]=df_olympics_2021[\"publication_time\"].dt.date\n",
        "df_olympics_2021[\"publication_hour\"]=df_olympics_2021[\"publication_time\"].dt.hour\n",
        "df_olympics_2021[\"pageview_date\"]=df_olympics_2021[\"pageview_time\"].dt.date\n",
        "df_olympics_2021[\"pageview_hour\"]=df_olympics_2021[\"pageview_time\"].dt.hour"
      ],
      "execution_count": 22,
      "outputs": []
    },
    {
      "cell_type": "code",
      "metadata": {
        "colab": {
          "base_uri": "https://localhost:8080/",
          "height": 625
        },
        "id": "34uLS6eVupZW",
        "outputId": "c437fc96-8189-4c69-dbb8-721d35f956aa"
      },
      "source": [
        "df_olympics_2021.head()"
      ],
      "execution_count": 23,
      "outputs": [
        {
          "output_type": "execute_result",
          "data": {
            "text/html": [
              "<div>\n",
              "<style scoped>\n",
              "    .dataframe tbody tr th:only-of-type {\n",
              "        vertical-align: middle;\n",
              "    }\n",
              "\n",
              "    .dataframe tbody tr th {\n",
              "        vertical-align: top;\n",
              "    }\n",
              "\n",
              "    .dataframe thead th {\n",
              "        text-align: right;\n",
              "    }\n",
              "</style>\n",
              "<table border=\"1\" class=\"dataframe\">\n",
              "  <thead>\n",
              "    <tr style=\"text-align: right;\">\n",
              "      <th></th>\n",
              "      <th>pageview_time</th>\n",
              "      <th>publication_time</th>\n",
              "      <th>visit_id</th>\n",
              "      <th>device_id</th>\n",
              "      <th>visit_page_num</th>\n",
              "      <th>subscriber_status</th>\n",
              "      <th>headline</th>\n",
              "      <th>author</th>\n",
              "      <th>device</th>\n",
              "      <th>visit_ref_type</th>\n",
              "      <th>article_id</th>\n",
              "      <th>geo_country</th>\n",
              "      <th>publication_date</th>\n",
              "      <th>publication_hour</th>\n",
              "      <th>pageview_date</th>\n",
              "      <th>pageview_hour</th>\n",
              "    </tr>\n",
              "  </thead>\n",
              "  <tbody>\n",
              "    <tr>\n",
              "      <th>0</th>\n",
              "      <td>2021-07-31 02:33:04</td>\n",
              "      <td>2021-07-30 20:23:00</td>\n",
              "      <td>89046398</td>\n",
              "      <td>48613418</td>\n",
              "      <td>1</td>\n",
              "      <td>Non-subscriber</td>\n",
              "      <td>Mixed Relays in Swimming and Track Make Olympi...</td>\n",
              "      <td>Unknown</td>\n",
              "      <td>Mobile Web</td>\n",
              "      <td>Search Engines</td>\n",
              "      <td>WP-WSJ-0000039256</td>\n",
              "      <td>gbr</td>\n",
              "      <td>2021-07-30</td>\n",
              "      <td>20</td>\n",
              "      <td>2021-07-31</td>\n",
              "      <td>2</td>\n",
              "    </tr>\n",
              "    <tr>\n",
              "      <th>1</th>\n",
              "      <td>2021-07-16 16:49:26</td>\n",
              "      <td>2021-07-15 15:25:00</td>\n",
              "      <td>25313519</td>\n",
              "      <td>28923665</td>\n",
              "      <td>2</td>\n",
              "      <td>Non-subscriber</td>\n",
              "      <td>When are the Tokyo Olympics? Schedule, Sports ...</td>\n",
              "      <td>Laine Higgins</td>\n",
              "      <td>Desktop</td>\n",
              "      <td>Unknown</td>\n",
              "      <td>WP-WSJ-0000035535</td>\n",
              "      <td>usa</td>\n",
              "      <td>2021-07-15</td>\n",
              "      <td>15</td>\n",
              "      <td>2021-07-16</td>\n",
              "      <td>16</td>\n",
              "    </tr>\n",
              "    <tr>\n",
              "      <th>2</th>\n",
              "      <td>2021-07-27 08:27:44</td>\n",
              "      <td>2021-07-27 11:47:00</td>\n",
              "      <td>87915003</td>\n",
              "      <td>57584918</td>\n",
              "      <td>1</td>\n",
              "      <td>Non-subscriber</td>\n",
              "      <td>Simone Biles Pulled Out of Gymnastics Team Com...</td>\n",
              "      <td>Louise Radnofsky|Georgi Kantchev|Andrew Beaton</td>\n",
              "      <td>Mobile Web</td>\n",
              "      <td>Social Network</td>\n",
              "      <td>WP-WSJ-0000038348</td>\n",
              "      <td>sgp</td>\n",
              "      <td>2021-07-27</td>\n",
              "      <td>11</td>\n",
              "      <td>2021-07-27</td>\n",
              "      <td>8</td>\n",
              "    </tr>\n",
              "    <tr>\n",
              "      <th>3</th>\n",
              "      <td>2021-07-30 02:31:51</td>\n",
              "      <td>2021-07-28 10:00:00</td>\n",
              "      <td>17208048</td>\n",
              "      <td>77131717</td>\n",
              "      <td>1</td>\n",
              "      <td>Non-subscriber</td>\n",
              "      <td>Fencers Refused to Fight. Then Came the Rule T...</td>\n",
              "      <td>Andrew Beaton</td>\n",
              "      <td>Mobile Web</td>\n",
              "      <td>Social Network</td>\n",
              "      <td>WP-WSJ-0000038685</td>\n",
              "      <td>usa</td>\n",
              "      <td>2021-07-28</td>\n",
              "      <td>10</td>\n",
              "      <td>2021-07-30</td>\n",
              "      <td>2</td>\n",
              "    </tr>\n",
              "    <tr>\n",
              "      <th>4</th>\n",
              "      <td>2021-07-23 16:49:07</td>\n",
              "      <td>2021-07-22 12:00:00</td>\n",
              "      <td>93348244</td>\n",
              "      <td>62514166</td>\n",
              "      <td>1</td>\n",
              "      <td>Non-subscriber</td>\n",
              "      <td>When the Tokyo Olympics Opening Ceremony Start...</td>\n",
              "      <td>Peter Landers</td>\n",
              "      <td>Mobile Web</td>\n",
              "      <td>Search Engines</td>\n",
              "      <td>WP-WSJ-0000036979</td>\n",
              "      <td>usa</td>\n",
              "      <td>2021-07-22</td>\n",
              "      <td>12</td>\n",
              "      <td>2021-07-23</td>\n",
              "      <td>16</td>\n",
              "    </tr>\n",
              "  </tbody>\n",
              "</table>\n",
              "</div>"
            ],
            "text/plain": [
              "        pageview_time    publication_time  ...  pageview_date  pageview_hour\n",
              "0 2021-07-31 02:33:04 2021-07-30 20:23:00  ...     2021-07-31              2\n",
              "1 2021-07-16 16:49:26 2021-07-15 15:25:00  ...     2021-07-16             16\n",
              "2 2021-07-27 08:27:44 2021-07-27 11:47:00  ...     2021-07-27              8\n",
              "3 2021-07-30 02:31:51 2021-07-28 10:00:00  ...     2021-07-30              2\n",
              "4 2021-07-23 16:49:07 2021-07-22 12:00:00  ...     2021-07-23             16\n",
              "\n",
              "[5 rows x 16 columns]"
            ]
          },
          "metadata": {},
          "execution_count": 23
        }
      ]
    },
    {
      "cell_type": "code",
      "metadata": {
        "id": "iY-4xyPu-w-X"
      },
      "source": [
        "df_olympics_2021[\"publication_date\"]=pd.to_datetime(df_olympics_2021[\"publication_date\"])\n",
        "df_olympics_2021[\"pageview_date\"]=pd.to_datetime(df_olympics_2021[\"pageview_date\"])"
      ],
      "execution_count": 24,
      "outputs": []
    },
    {
      "cell_type": "markdown",
      "metadata": {
        "id": "73kcXoiVCd44"
      },
      "source": [
        "**Bad data:**lets check whether the pageview_time is occuring only after publication_time when publication_date=pageview_date."
      ]
    },
    {
      "cell_type": "code",
      "metadata": {
        "colab": {
          "base_uri": "https://localhost:8080/"
        },
        "id": "wXKIAyGyCYf3",
        "outputId": "ac90ab0b-b219-4fca-d9cb-600b1e4b61f9"
      },
      "source": [
        "len(df_olympics_2021[df_olympics_2021[\"publication_time\"]>df_olympics_2021[\"pageview_time\"]])"
      ],
      "execution_count": 25,
      "outputs": [
        {
          "output_type": "execute_result",
          "data": {
            "text/plain": [
              "237"
            ]
          },
          "metadata": {},
          "execution_count": 25
        }
      ]
    },
    {
      "cell_type": "code",
      "metadata": {
        "id": "y5XptxcOCYXS",
        "colab": {
          "base_uri": "https://localhost:8080/"
        },
        "outputId": "4ad6c4ac-ab36-4f2f-87c5-aa2bcbcea0f8"
      },
      "source": [
        "len(df_olympics_2021[df_olympics_2021[\"publication_time\"]<df_olympics_2021[\"pageview_time\"]])"
      ],
      "execution_count": 26,
      "outputs": [
        {
          "output_type": "execute_result",
          "data": {
            "text/plain": [
              "1469"
            ]
          },
          "metadata": {},
          "execution_count": 26
        }
      ]
    },
    {
      "cell_type": "markdown",
      "metadata": {
        "id": "dEOFA_L9GmbV"
      },
      "source": [
        "**Filtering bad data:** Consider only good data where the pageview_time is occuring after the publication_time."
      ]
    },
    {
      "cell_type": "code",
      "metadata": {
        "id": "ju1EztAPCYUf"
      },
      "source": [
        "final_df = df_olympics_2021[df_olympics_2021[\"publication_time\"]<df_olympics_2021[\"pageview_time\"]]"
      ],
      "execution_count": 27,
      "outputs": []
    },
    {
      "cell_type": "code",
      "metadata": {
        "id": "9dUrv2elRost"
      },
      "source": [
        "final_df[\"pageview_time\"] = final_df[\"pageview_time\"].dt.floor('H')\n",
        "final_df[\"publication_time\"] = final_df[\"publication_time\"].dt.floor('H')"
      ],
      "execution_count": 28,
      "outputs": []
    },
    {
      "cell_type": "code",
      "metadata": {
        "colab": {
          "base_uri": "https://localhost:8080/"
        },
        "id": "4C3C7gSESEJS",
        "outputId": "66014d05-3fee-42c5-c894-706083f47f56"
      },
      "source": [
        "final_df.shape"
      ],
      "execution_count": 29,
      "outputs": [
        {
          "output_type": "execute_result",
          "data": {
            "text/plain": [
              "(1469, 16)"
            ]
          },
          "metadata": {},
          "execution_count": 29
        }
      ]
    },
    {
      "cell_type": "markdown",
      "metadata": {
        "id": "6NOzrTM5HXKD"
      },
      "source": [
        "Lets find the count of number of visitors per day by grouping the pageview_time(date) and taking the count of number of visit_ids and plot the percentage of users per hour with respect to the total users per one particular day."
      ]
    },
    {
      "cell_type": "code",
      "metadata": {
        "id": "6OfweTK6RWEj"
      },
      "source": [
        "grouped_df_day = final_df.groupby(\"pageview_time\")[\"visit_id\"].agg(['count'])"
      ],
      "execution_count": 30,
      "outputs": []
    },
    {
      "cell_type": "code",
      "metadata": {
        "id": "WSAauOzmY96S"
      },
      "source": [
        "grouped_df_day.columns = [\"visit_count\"]"
      ],
      "execution_count": 31,
      "outputs": []
    },
    {
      "cell_type": "code",
      "metadata": {
        "id": "JOo_mybMXorc"
      },
      "source": [
        "grouped_df_day=grouped_df_day.reset_index()"
      ],
      "execution_count": 32,
      "outputs": []
    },
    {
      "cell_type": "code",
      "metadata": {
        "id": "7afKfj3iXqzZ"
      },
      "source": [
        "grouped_df_day[\"date\"] = grouped_df_day[\"pageview_time\"].dt.date"
      ],
      "execution_count": 33,
      "outputs": []
    },
    {
      "cell_type": "code",
      "metadata": {
        "id": "5WSdoQxIkRoy"
      },
      "source": [
        "grouped = grouped_df_day.groupby([\"date\"])[\"visit_count\"].agg(['count','sum'])"
      ],
      "execution_count": 34,
      "outputs": []
    },
    {
      "cell_type": "code",
      "metadata": {
        "id": "ubg2yFBmm3KK"
      },
      "source": [
        "grouped.columns = [\"date_counts\",\"total_visits_per_day\"]"
      ],
      "execution_count": 35,
      "outputs": []
    },
    {
      "cell_type": "code",
      "metadata": {
        "id": "fQ8XojeJm4Dq"
      },
      "source": [
        "grouped = grouped.reset_index()"
      ],
      "execution_count": 36,
      "outputs": []
    },
    {
      "cell_type": "code",
      "metadata": {
        "id": "okatW6RBnYZ8"
      },
      "source": [
        "grouped_sum = grouped.loc[np.repeat(grouped.index.values,grouped[\"date_counts\"])]"
      ],
      "execution_count": 37,
      "outputs": []
    },
    {
      "cell_type": "code",
      "metadata": {
        "id": "BARamgOroITs"
      },
      "source": [
        "grouped_sum = grouped_sum.reset_index(drop=True)"
      ],
      "execution_count": 38,
      "outputs": []
    },
    {
      "cell_type": "code",
      "metadata": {
        "id": "gzeENLT1npBL"
      },
      "source": [
        "percentage_df = pd.concat([grouped_df_day, grouped_sum], axis=1)"
      ],
      "execution_count": 39,
      "outputs": []
    },
    {
      "cell_type": "code",
      "metadata": {
        "id": "O-GugdC1npyb"
      },
      "source": [
        "percentage_df[\"percentage_visits_per_hour\"] = round((percentage_df[\"visit_count\"]/percentage_df[\"total_visits_per_day\"])*100, 2)"
      ],
      "execution_count": 40,
      "outputs": []
    },
    {
      "cell_type": "code",
      "metadata": {
        "id": "3-CeD4Flqcvr"
      },
      "source": [
        "percentage_df.set_index(\"pageview_time\",inplace=True )"
      ],
      "execution_count": 41,
      "outputs": []
    },
    {
      "cell_type": "code",
      "metadata": {
        "id": "zMRFC0WppdcU"
      },
      "source": [
        "# color=sns.color_palette()\n",
        "def horizontal_bar_chart(percentage_df, color):\n",
        "    trace = go.Bar(\n",
        "        y=percentage_df.index,\n",
        "        x=percentage_df.values,\n",
        "        showlegend=False,\n",
        "        name = \"Percentage of Pageviews per hour\",\n",
        "        orientation = 'h',\n",
        "        marker=dict(\n",
        "            color='rgba(50, 171, 96, 0.6)',\n",
        "            line=dict(\n",
        "            color='rgba(50, 171, 96, 1.0)',\n",
        "            width=1)\n",
        "        ),\n",
        "    )\n",
        "    return trace"
      ],
      "execution_count": 42,
      "outputs": []
    },
    {
      "cell_type": "code",
      "metadata": {
        "id": "si0StJSkp9ai"
      },
      "source": [
        "# trace1 = horizontal_bar_chart(percentage_df[\"visit_count\"].head(20), 'rgba(50, 171, 96, 0.6)')\n",
        "trace2 = horizontal_bar_chart(percentage_df[\"percentage_visits_per_hour\"].head(20), 'rgba(50, 171, 96, 0.6)')"
      ],
      "execution_count": 43,
      "outputs": []
    },
    {
      "cell_type": "code",
      "metadata": {
        "id": "6feErnwHp9XL"
      },
      "source": [
        "fig = tools.make_subplots(rows=1,cols=1, vertical_spacing=0.5,\n",
        "                          subplot_titles=[\"\"])"
      ],
      "execution_count": 44,
      "outputs": []
    },
    {
      "cell_type": "code",
      "metadata": {
        "id": "Ae1bY6RRFzI9"
      },
      "source": [
        "# labeling the bar with percentages.\n",
        "annotations=[]\n",
        "for xpos, ypos in zip(percentage_df.index[:20], percentage_df[\"percentage_visits_per_hour\"].head(20)):\n",
        "  annotations.append(dict(\n",
        "                          xref='x',\n",
        "                          yref='y',\n",
        "                          y=xpos,\n",
        "                          x=ypos+2,\n",
        "                          text=str(ypos) +'%',\n",
        "                          font=dict(family='Arial', size=12,\n",
        "                                    color='rgb(50, 171, 96)'),\n",
        "                          showarrow=False\n",
        "                          )\n",
        "                          )\n"
      ],
      "execution_count": 45,
      "outputs": []
    },
    {
      "cell_type": "code",
      "metadata": {
        "colab": {
          "base_uri": "https://localhost:8080/",
          "height": 617
        },
        "id": "onr2UMC7p9UV",
        "outputId": "bfd98b4a-87cb-42c3-878b-1d836988b053"
      },
      "source": [
        "# fig.append_trace(trace1, 1, 1)\n",
        "fig.append_trace(trace2, 1, 1)\n",
        "\n",
        "fig.update_layout(\n",
        "    title=\"percentage_of_pageviews_per_hour_per_day\",\n",
        "    height=600, \n",
        "    width=600, \n",
        "    annotations=annotations, \n",
        "    legend=dict(x=0.029, y=1.038, font_size=10),\n",
        "    margin=dict(l=100, r=20, t=70, b=70),\n",
        "    paper_bgcolor='rgb(248, 248, 255)',\n",
        "    plot_bgcolor='rgb(248, 248, 255)',)\n",
        "py.iplot(fig, filename='pageviews-plots')"
      ],
      "execution_count": 46,
      "outputs": [
        {
          "output_type": "display_data",
          "data": {
            "text/html": [
              "<html>\n",
              "<head><meta charset=\"utf-8\" /></head>\n",
              "<body>\n",
              "    <div>\n",
              "            <script src=\"https://cdnjs.cloudflare.com/ajax/libs/mathjax/2.7.5/MathJax.js?config=TeX-AMS-MML_SVG\"></script><script type=\"text/javascript\">if (window.MathJax) {MathJax.Hub.Config({SVG: {font: \"STIX-Web\"}});}</script>\n",
              "                <script type=\"text/javascript\">window.PlotlyConfig = {MathJaxConfig: 'local'};</script>\n",
              "        <script src=\"https://cdn.plot.ly/plotly-latest.min.js\"></script>    \n",
              "            <div id=\"9b12b9f1-0c65-4857-97f1-8c5f3791a7ac\" class=\"plotly-graph-div\" style=\"height:600px; width:600px;\"></div>\n",
              "            <script type=\"text/javascript\">\n",
              "                \n",
              "                    window.PLOTLYENV=window.PLOTLYENV || {};\n",
              "                    \n",
              "                if (document.getElementById(\"9b12b9f1-0c65-4857-97f1-8c5f3791a7ac\")) {\n",
              "                    Plotly.newPlot(\n",
              "                        '9b12b9f1-0c65-4857-97f1-8c5f3791a7ac',\n",
              "                        [{\"marker\": {\"color\": \"rgba(50, 171, 96, 0.6)\", \"line\": {\"color\": \"rgba(50, 171, 96, 1.0)\", \"width\": 1}}, \"name\": \"Percentage of Pageviews per hour\", \"orientation\": \"h\", \"showlegend\": false, \"type\": \"bar\", \"x\": [3.12, 3.12, 12.5, 18.75, 6.25, 12.5, 25.0, 18.75, 6.06, 9.09, 6.06, 6.06, 3.03, 6.06, 3.03, 3.03, 24.24, 9.09, 6.06, 3.03], \"xaxis\": \"x\", \"y\": [\"2021-07-01T13:00:00\", \"2021-07-01T17:00:00\", \"2021-07-01T18:00:00\", \"2021-07-01T19:00:00\", \"2021-07-01T20:00:00\", \"2021-07-01T21:00:00\", \"2021-07-01T22:00:00\", \"2021-07-01T23:00:00\", \"2021-07-02T00:00:00\", \"2021-07-02T05:00:00\", \"2021-07-02T06:00:00\", \"2021-07-02T09:00:00\", \"2021-07-02T10:00:00\", \"2021-07-02T11:00:00\", \"2021-07-02T12:00:00\", \"2021-07-02T13:00:00\", \"2021-07-02T14:00:00\", \"2021-07-02T15:00:00\", \"2021-07-02T17:00:00\", \"2021-07-02T18:00:00\"], \"yaxis\": \"y\"}],\n",
              "                        {\"annotations\": [{\"font\": {\"color\": \"rgb(50, 171, 96)\", \"family\": \"Arial\", \"size\": 12}, \"showarrow\": false, \"text\": \"3.12%\", \"x\": 5.12, \"xref\": \"x\", \"y\": \"2021-07-01T13:00:00\", \"yref\": \"y\"}, {\"font\": {\"color\": \"rgb(50, 171, 96)\", \"family\": \"Arial\", \"size\": 12}, \"showarrow\": false, \"text\": \"3.12%\", \"x\": 5.12, \"xref\": \"x\", \"y\": \"2021-07-01T17:00:00\", \"yref\": \"y\"}, {\"font\": {\"color\": \"rgb(50, 171, 96)\", \"family\": \"Arial\", \"size\": 12}, \"showarrow\": false, \"text\": \"12.5%\", \"x\": 14.5, \"xref\": \"x\", \"y\": \"2021-07-01T18:00:00\", \"yref\": \"y\"}, {\"font\": {\"color\": \"rgb(50, 171, 96)\", \"family\": \"Arial\", \"size\": 12}, \"showarrow\": false, \"text\": \"18.75%\", \"x\": 20.75, \"xref\": \"x\", \"y\": \"2021-07-01T19:00:00\", \"yref\": \"y\"}, {\"font\": {\"color\": \"rgb(50, 171, 96)\", \"family\": \"Arial\", \"size\": 12}, \"showarrow\": false, \"text\": \"6.25%\", \"x\": 8.25, \"xref\": \"x\", \"y\": \"2021-07-01T20:00:00\", \"yref\": \"y\"}, {\"font\": {\"color\": \"rgb(50, 171, 96)\", \"family\": \"Arial\", \"size\": 12}, \"showarrow\": false, \"text\": \"12.5%\", \"x\": 14.5, \"xref\": \"x\", \"y\": \"2021-07-01T21:00:00\", \"yref\": \"y\"}, {\"font\": {\"color\": \"rgb(50, 171, 96)\", \"family\": \"Arial\", \"size\": 12}, \"showarrow\": false, \"text\": \"25.0%\", \"x\": 27.0, \"xref\": \"x\", \"y\": \"2021-07-01T22:00:00\", \"yref\": \"y\"}, {\"font\": {\"color\": \"rgb(50, 171, 96)\", \"family\": \"Arial\", \"size\": 12}, \"showarrow\": false, \"text\": \"18.75%\", \"x\": 20.75, \"xref\": \"x\", \"y\": \"2021-07-01T23:00:00\", \"yref\": \"y\"}, {\"font\": {\"color\": \"rgb(50, 171, 96)\", \"family\": \"Arial\", \"size\": 12}, \"showarrow\": false, \"text\": \"6.06%\", \"x\": 8.059999999999999, \"xref\": \"x\", \"y\": \"2021-07-02T00:00:00\", \"yref\": \"y\"}, {\"font\": {\"color\": \"rgb(50, 171, 96)\", \"family\": \"Arial\", \"size\": 12}, \"showarrow\": false, \"text\": \"9.09%\", \"x\": 11.09, \"xref\": \"x\", \"y\": \"2021-07-02T05:00:00\", \"yref\": \"y\"}, {\"font\": {\"color\": \"rgb(50, 171, 96)\", \"family\": \"Arial\", \"size\": 12}, \"showarrow\": false, \"text\": \"6.06%\", \"x\": 8.059999999999999, \"xref\": \"x\", \"y\": \"2021-07-02T06:00:00\", \"yref\": \"y\"}, {\"font\": {\"color\": \"rgb(50, 171, 96)\", \"family\": \"Arial\", \"size\": 12}, \"showarrow\": false, \"text\": \"6.06%\", \"x\": 8.059999999999999, \"xref\": \"x\", \"y\": \"2021-07-02T09:00:00\", \"yref\": \"y\"}, {\"font\": {\"color\": \"rgb(50, 171, 96)\", \"family\": \"Arial\", \"size\": 12}, \"showarrow\": false, \"text\": \"3.03%\", \"x\": 5.029999999999999, \"xref\": \"x\", \"y\": \"2021-07-02T10:00:00\", \"yref\": \"y\"}, {\"font\": {\"color\": \"rgb(50, 171, 96)\", \"family\": \"Arial\", \"size\": 12}, \"showarrow\": false, \"text\": \"6.06%\", \"x\": 8.059999999999999, \"xref\": \"x\", \"y\": \"2021-07-02T11:00:00\", \"yref\": \"y\"}, {\"font\": {\"color\": \"rgb(50, 171, 96)\", \"family\": \"Arial\", \"size\": 12}, \"showarrow\": false, \"text\": \"3.03%\", \"x\": 5.029999999999999, \"xref\": \"x\", \"y\": \"2021-07-02T12:00:00\", \"yref\": \"y\"}, {\"font\": {\"color\": \"rgb(50, 171, 96)\", \"family\": \"Arial\", \"size\": 12}, \"showarrow\": false, \"text\": \"3.03%\", \"x\": 5.029999999999999, \"xref\": \"x\", \"y\": \"2021-07-02T13:00:00\", \"yref\": \"y\"}, {\"font\": {\"color\": \"rgb(50, 171, 96)\", \"family\": \"Arial\", \"size\": 12}, \"showarrow\": false, \"text\": \"24.24%\", \"x\": 26.24, \"xref\": \"x\", \"y\": \"2021-07-02T14:00:00\", \"yref\": \"y\"}, {\"font\": {\"color\": \"rgb(50, 171, 96)\", \"family\": \"Arial\", \"size\": 12}, \"showarrow\": false, \"text\": \"9.09%\", \"x\": 11.09, \"xref\": \"x\", \"y\": \"2021-07-02T15:00:00\", \"yref\": \"y\"}, {\"font\": {\"color\": \"rgb(50, 171, 96)\", \"family\": \"Arial\", \"size\": 12}, \"showarrow\": false, \"text\": \"6.06%\", \"x\": 8.059999999999999, \"xref\": \"x\", \"y\": \"2021-07-02T17:00:00\", \"yref\": \"y\"}, {\"font\": {\"color\": \"rgb(50, 171, 96)\", \"family\": \"Arial\", \"size\": 12}, \"showarrow\": false, \"text\": \"3.03%\", \"x\": 5.029999999999999, \"xref\": \"x\", \"y\": \"2021-07-02T18:00:00\", \"yref\": \"y\"}], \"height\": 600, \"legend\": {\"font\": {\"size\": 10}, \"x\": 0.029, \"y\": 1.038}, \"margin\": {\"b\": 70, \"l\": 100, \"r\": 20, \"t\": 70}, \"paper_bgcolor\": \"rgb(248, 248, 255)\", \"plot_bgcolor\": \"rgb(248, 248, 255)\", \"template\": {\"data\": {\"bar\": [{\"error_x\": {\"color\": \"#2a3f5f\"}, \"error_y\": {\"color\": \"#2a3f5f\"}, \"marker\": {\"line\": {\"color\": \"#E5ECF6\", \"width\": 0.5}}, \"type\": \"bar\"}], \"barpolar\": [{\"marker\": {\"line\": {\"color\": \"#E5ECF6\", \"width\": 0.5}}, \"type\": \"barpolar\"}], \"carpet\": [{\"aaxis\": {\"endlinecolor\": \"#2a3f5f\", \"gridcolor\": \"white\", \"linecolor\": \"white\", \"minorgridcolor\": \"white\", \"startlinecolor\": \"#2a3f5f\"}, \"baxis\": {\"endlinecolor\": \"#2a3f5f\", \"gridcolor\": \"white\", \"linecolor\": \"white\", \"minorgridcolor\": \"white\", \"startlinecolor\": \"#2a3f5f\"}, \"type\": \"carpet\"}], \"choropleth\": [{\"colorbar\": {\"outlinewidth\": 0, \"ticks\": \"\"}, \"type\": \"choropleth\"}], \"contour\": [{\"colorbar\": {\"outlinewidth\": 0, \"ticks\": \"\"}, \"colorscale\": [[0.0, \"#0d0887\"], [0.1111111111111111, \"#46039f\"], [0.2222222222222222, \"#7201a8\"], [0.3333333333333333, \"#9c179e\"], [0.4444444444444444, \"#bd3786\"], [0.5555555555555556, \"#d8576b\"], [0.6666666666666666, \"#ed7953\"], [0.7777777777777778, \"#fb9f3a\"], [0.8888888888888888, \"#fdca26\"], [1.0, \"#f0f921\"]], \"type\": \"contour\"}], \"contourcarpet\": [{\"colorbar\": {\"outlinewidth\": 0, \"ticks\": \"\"}, \"type\": \"contourcarpet\"}], \"heatmap\": [{\"colorbar\": {\"outlinewidth\": 0, \"ticks\": \"\"}, \"colorscale\": [[0.0, \"#0d0887\"], [0.1111111111111111, \"#46039f\"], [0.2222222222222222, \"#7201a8\"], [0.3333333333333333, \"#9c179e\"], [0.4444444444444444, \"#bd3786\"], [0.5555555555555556, \"#d8576b\"], [0.6666666666666666, \"#ed7953\"], [0.7777777777777778, \"#fb9f3a\"], [0.8888888888888888, \"#fdca26\"], [1.0, \"#f0f921\"]], \"type\": \"heatmap\"}], \"heatmapgl\": [{\"colorbar\": {\"outlinewidth\": 0, \"ticks\": \"\"}, \"colorscale\": [[0.0, \"#0d0887\"], [0.1111111111111111, \"#46039f\"], [0.2222222222222222, \"#7201a8\"], [0.3333333333333333, \"#9c179e\"], [0.4444444444444444, \"#bd3786\"], [0.5555555555555556, \"#d8576b\"], [0.6666666666666666, \"#ed7953\"], [0.7777777777777778, \"#fb9f3a\"], [0.8888888888888888, \"#fdca26\"], [1.0, \"#f0f921\"]], \"type\": \"heatmapgl\"}], \"histogram\": [{\"marker\": {\"colorbar\": {\"outlinewidth\": 0, \"ticks\": \"\"}}, \"type\": \"histogram\"}], \"histogram2d\": [{\"colorbar\": {\"outlinewidth\": 0, \"ticks\": \"\"}, \"colorscale\": [[0.0, \"#0d0887\"], [0.1111111111111111, \"#46039f\"], [0.2222222222222222, \"#7201a8\"], [0.3333333333333333, \"#9c179e\"], [0.4444444444444444, \"#bd3786\"], [0.5555555555555556, \"#d8576b\"], [0.6666666666666666, \"#ed7953\"], [0.7777777777777778, \"#fb9f3a\"], [0.8888888888888888, \"#fdca26\"], [1.0, \"#f0f921\"]], \"type\": \"histogram2d\"}], \"histogram2dcontour\": [{\"colorbar\": {\"outlinewidth\": 0, \"ticks\": \"\"}, \"colorscale\": [[0.0, \"#0d0887\"], [0.1111111111111111, \"#46039f\"], [0.2222222222222222, \"#7201a8\"], [0.3333333333333333, \"#9c179e\"], [0.4444444444444444, \"#bd3786\"], [0.5555555555555556, \"#d8576b\"], [0.6666666666666666, \"#ed7953\"], [0.7777777777777778, \"#fb9f3a\"], [0.8888888888888888, \"#fdca26\"], [1.0, \"#f0f921\"]], \"type\": \"histogram2dcontour\"}], \"mesh3d\": [{\"colorbar\": {\"outlinewidth\": 0, \"ticks\": \"\"}, \"type\": \"mesh3d\"}], \"parcoords\": [{\"line\": {\"colorbar\": {\"outlinewidth\": 0, \"ticks\": \"\"}}, \"type\": \"parcoords\"}], \"pie\": [{\"automargin\": true, \"type\": \"pie\"}], \"scatter\": [{\"marker\": {\"colorbar\": {\"outlinewidth\": 0, \"ticks\": \"\"}}, \"type\": \"scatter\"}], \"scatter3d\": [{\"line\": {\"colorbar\": {\"outlinewidth\": 0, \"ticks\": \"\"}}, \"marker\": {\"colorbar\": {\"outlinewidth\": 0, \"ticks\": \"\"}}, \"type\": \"scatter3d\"}], \"scattercarpet\": [{\"marker\": {\"colorbar\": {\"outlinewidth\": 0, \"ticks\": \"\"}}, \"type\": \"scattercarpet\"}], \"scattergeo\": [{\"marker\": {\"colorbar\": {\"outlinewidth\": 0, \"ticks\": \"\"}}, \"type\": \"scattergeo\"}], \"scattergl\": [{\"marker\": {\"colorbar\": {\"outlinewidth\": 0, \"ticks\": \"\"}}, \"type\": \"scattergl\"}], \"scattermapbox\": [{\"marker\": {\"colorbar\": {\"outlinewidth\": 0, \"ticks\": \"\"}}, \"type\": \"scattermapbox\"}], \"scatterpolar\": [{\"marker\": {\"colorbar\": {\"outlinewidth\": 0, \"ticks\": \"\"}}, \"type\": \"scatterpolar\"}], \"scatterpolargl\": [{\"marker\": {\"colorbar\": {\"outlinewidth\": 0, \"ticks\": \"\"}}, \"type\": \"scatterpolargl\"}], \"scatterternary\": [{\"marker\": {\"colorbar\": {\"outlinewidth\": 0, \"ticks\": \"\"}}, \"type\": \"scatterternary\"}], \"surface\": [{\"colorbar\": {\"outlinewidth\": 0, \"ticks\": \"\"}, \"colorscale\": [[0.0, \"#0d0887\"], [0.1111111111111111, \"#46039f\"], [0.2222222222222222, \"#7201a8\"], [0.3333333333333333, \"#9c179e\"], [0.4444444444444444, \"#bd3786\"], [0.5555555555555556, \"#d8576b\"], [0.6666666666666666, \"#ed7953\"], [0.7777777777777778, \"#fb9f3a\"], [0.8888888888888888, \"#fdca26\"], [1.0, \"#f0f921\"]], \"type\": \"surface\"}], \"table\": [{\"cells\": {\"fill\": {\"color\": \"#EBF0F8\"}, \"line\": {\"color\": \"white\"}}, \"header\": {\"fill\": {\"color\": \"#C8D4E3\"}, \"line\": {\"color\": \"white\"}}, \"type\": \"table\"}]}, \"layout\": {\"annotationdefaults\": {\"arrowcolor\": \"#2a3f5f\", \"arrowhead\": 0, \"arrowwidth\": 1}, \"coloraxis\": {\"colorbar\": {\"outlinewidth\": 0, \"ticks\": \"\"}}, \"colorscale\": {\"diverging\": [[0, \"#8e0152\"], [0.1, \"#c51b7d\"], [0.2, \"#de77ae\"], [0.3, \"#f1b6da\"], [0.4, \"#fde0ef\"], [0.5, \"#f7f7f7\"], [0.6, \"#e6f5d0\"], [0.7, \"#b8e186\"], [0.8, \"#7fbc41\"], [0.9, \"#4d9221\"], [1, \"#276419\"]], \"sequential\": [[0.0, \"#0d0887\"], [0.1111111111111111, \"#46039f\"], [0.2222222222222222, \"#7201a8\"], [0.3333333333333333, \"#9c179e\"], [0.4444444444444444, \"#bd3786\"], [0.5555555555555556, \"#d8576b\"], [0.6666666666666666, \"#ed7953\"], [0.7777777777777778, \"#fb9f3a\"], [0.8888888888888888, \"#fdca26\"], [1.0, \"#f0f921\"]], \"sequentialminus\": [[0.0, \"#0d0887\"], [0.1111111111111111, \"#46039f\"], [0.2222222222222222, \"#7201a8\"], [0.3333333333333333, \"#9c179e\"], [0.4444444444444444, \"#bd3786\"], [0.5555555555555556, \"#d8576b\"], [0.6666666666666666, \"#ed7953\"], [0.7777777777777778, \"#fb9f3a\"], [0.8888888888888888, \"#fdca26\"], [1.0, \"#f0f921\"]]}, \"colorway\": [\"#636efa\", \"#EF553B\", \"#00cc96\", \"#ab63fa\", \"#FFA15A\", \"#19d3f3\", \"#FF6692\", \"#B6E880\", \"#FF97FF\", \"#FECB52\"], \"font\": {\"color\": \"#2a3f5f\"}, \"geo\": {\"bgcolor\": \"white\", \"lakecolor\": \"white\", \"landcolor\": \"#E5ECF6\", \"showlakes\": true, \"showland\": true, \"subunitcolor\": \"white\"}, \"hoverlabel\": {\"align\": \"left\"}, \"hovermode\": \"closest\", \"mapbox\": {\"style\": \"light\"}, \"paper_bgcolor\": \"white\", \"plot_bgcolor\": \"#E5ECF6\", \"polar\": {\"angularaxis\": {\"gridcolor\": \"white\", \"linecolor\": \"white\", \"ticks\": \"\"}, \"bgcolor\": \"#E5ECF6\", \"radialaxis\": {\"gridcolor\": \"white\", \"linecolor\": \"white\", \"ticks\": \"\"}}, \"scene\": {\"xaxis\": {\"backgroundcolor\": \"#E5ECF6\", \"gridcolor\": \"white\", \"gridwidth\": 2, \"linecolor\": \"white\", \"showbackground\": true, \"ticks\": \"\", \"zerolinecolor\": \"white\"}, \"yaxis\": {\"backgroundcolor\": \"#E5ECF6\", \"gridcolor\": \"white\", \"gridwidth\": 2, \"linecolor\": \"white\", \"showbackground\": true, \"ticks\": \"\", \"zerolinecolor\": \"white\"}, \"zaxis\": {\"backgroundcolor\": \"#E5ECF6\", \"gridcolor\": \"white\", \"gridwidth\": 2, \"linecolor\": \"white\", \"showbackground\": true, \"ticks\": \"\", \"zerolinecolor\": \"white\"}}, \"shapedefaults\": {\"line\": {\"color\": \"#2a3f5f\"}}, \"ternary\": {\"aaxis\": {\"gridcolor\": \"white\", \"linecolor\": \"white\", \"ticks\": \"\"}, \"baxis\": {\"gridcolor\": \"white\", \"linecolor\": \"white\", \"ticks\": \"\"}, \"bgcolor\": \"#E5ECF6\", \"caxis\": {\"gridcolor\": \"white\", \"linecolor\": \"white\", \"ticks\": \"\"}}, \"title\": {\"x\": 0.05}, \"xaxis\": {\"automargin\": true, \"gridcolor\": \"white\", \"linecolor\": \"white\", \"ticks\": \"\", \"title\": {\"standoff\": 15}, \"zerolinecolor\": \"white\", \"zerolinewidth\": 2}, \"yaxis\": {\"automargin\": true, \"gridcolor\": \"white\", \"linecolor\": \"white\", \"ticks\": \"\", \"title\": {\"standoff\": 15}, \"zerolinecolor\": \"white\", \"zerolinewidth\": 2}}}, \"title\": {\"text\": \"percentage_of_pageviews_per_hour_per_day\"}, \"width\": 600, \"xaxis\": {\"anchor\": \"y\", \"domain\": [0.0, 1.0]}, \"yaxis\": {\"anchor\": \"x\", \"domain\": [0.0, 1.0]}},\n",
              "                        {\"responsive\": true}\n",
              "                    ).then(function(){\n",
              "                            \n",
              "var gd = document.getElementById('9b12b9f1-0c65-4857-97f1-8c5f3791a7ac');\n",
              "var x = new MutationObserver(function (mutations, observer) {{\n",
              "        var display = window.getComputedStyle(gd).display;\n",
              "        if (!display || display === 'none') {{\n",
              "            console.log([gd, 'removed!']);\n",
              "            Plotly.purge(gd);\n",
              "            observer.disconnect();\n",
              "        }}\n",
              "}});\n",
              "\n",
              "// Listen for the removal of the full notebook cells\n",
              "var notebookContainer = gd.closest('#notebook-container');\n",
              "if (notebookContainer) {{\n",
              "    x.observe(notebookContainer, {childList: true});\n",
              "}}\n",
              "\n",
              "// Listen for the clearing of the current output cell\n",
              "var outputEl = gd.closest('.output');\n",
              "if (outputEl) {{\n",
              "    x.observe(outputEl, {childList: true});\n",
              "}}\n",
              "\n",
              "                        })\n",
              "                };\n",
              "                \n",
              "            </script>\n",
              "        </div>\n",
              "</body>\n",
              "</html>"
            ]
          },
          "metadata": {}
        }
      ]
    },
    {
      "cell_type": "code",
      "metadata": {
        "id": "Oa7juBIfCnsi"
      },
      "source": [
        "df2 = percentage_df.copy()"
      ],
      "execution_count": 48,
      "outputs": []
    },
    {
      "cell_type": "code",
      "metadata": {
        "id": "ymv-YrhxC4Ym"
      },
      "source": [
        "df2 = df2.reset_index()\n",
        "df2['hour'] = df2[\"pageview_time\"].dt.hour"
      ],
      "execution_count": 49,
      "outputs": []
    },
    {
      "cell_type": "markdown",
      "metadata": {
        "id": "6BIesoakDIaL"
      },
      "source": [
        "lets calculate how many people visited in the first hour of all days, second hour of all days...so on"
      ]
    },
    {
      "cell_type": "code",
      "metadata": {
        "id": "a4x6ItCcDrWF"
      },
      "source": [
        "# create new empty dataframe new_df so that we get all values of hours for each day to plot the graph.\n",
        "date_list = pd.date_range('2021-07-01', periods=744, freq='H')"
      ],
      "execution_count": 50,
      "outputs": []
    },
    {
      "cell_type": "code",
      "metadata": {
        "id": "nKyDbZBgF9Tq"
      },
      "source": [
        "new_df=pd.DataFrame({\"Timestamp\":date_list, \"hourly_count\":0})"
      ],
      "execution_count": 51,
      "outputs": []
    },
    {
      "cell_type": "code",
      "metadata": {
        "id": "7rFHUItkGN2H"
      },
      "source": [
        "# use left join and merge the dataframes new_df on left with df2 on right on the pageview_time as the key.\n",
        "merged_df = pd.merge(new_df, df2, how=\"left\", left_on=\"Timestamp\", right_on=\"pageview_time\")"
      ],
      "execution_count": 52,
      "outputs": []
    },
    {
      "cell_type": "code",
      "metadata": {
        "colab": {
          "base_uri": "https://localhost:8080/"
        },
        "id": "5tMMQhOaGd3W",
        "outputId": "7c906ae8-fcd0-47af-ae17-a0d87a9acfe9"
      },
      "source": [
        "merged_df.isnull().sum()"
      ],
      "execution_count": 53,
      "outputs": [
        {
          "output_type": "execute_result",
          "data": {
            "text/plain": [
              "Timestamp                       0\n",
              "hourly_count                    0\n",
              "pageview_time                 363\n",
              "visit_count                   363\n",
              "date                          363\n",
              "date                          363\n",
              "date_counts                   363\n",
              "total_visits_per_day          363\n",
              "percentage_visits_per_hour    363\n",
              "hour                          363\n",
              "dtype: int64"
            ]
          },
          "metadata": {},
          "execution_count": 53
        }
      ]
    },
    {
      "cell_type": "code",
      "metadata": {
        "id": "TLQ_lwRzIqkN"
      },
      "source": [
        "merged = merged_df[[\"Timestamp\", \"visit_count\", \"total_visits_per_day\"]]\n",
        "merged[\"Date\"] = merged[\"Timestamp\"].dt.date\n",
        "merged[\"Date\"] = pd.to_datetime(merged[\"Date\"])\n",
        "merged[\"Hour\"] = merged[\"Timestamp\"].dt.hour\n",
        "merged.drop(\"total_visits_per_day\", axis=1, inplace=True)\n",
        "merged[\"visit_count\"]=merged[\"visit_count\"].fillna(value=0)"
      ],
      "execution_count": 54,
      "outputs": []
    },
    {
      "cell_type": "code",
      "metadata": {
        "id": "Kamu7RcQOPZW"
      },
      "source": [
        "visits_per_hour_alldays = merged.groupby([\"Hour\"])[\"visit_count\"].agg([\"sum\"])\n",
        "visits_per_hour_alldays.columns=[\"sum_per_hour_per_day\"]"
      ],
      "execution_count": 55,
      "outputs": []
    },
    {
      "cell_type": "code",
      "metadata": {
        "id": "d85YOnhfR1nY"
      },
      "source": [
        "visits_per_hour_alldays[\"percentage\"]=round((visits_per_hour_alldays[\"sum_per_hour_per_day\"]/(visits_per_hour_alldays[\"sum_per_hour_per_day\"].sum())*100),2)"
      ],
      "execution_count": 56,
      "outputs": []
    },
    {
      "cell_type": "code",
      "metadata": {
        "id": "vQIfN1u_AUwX"
      },
      "source": [
        "dataf = visits_per_hour_alldays.copy()"
      ],
      "execution_count": 57,
      "outputs": []
    },
    {
      "cell_type": "code",
      "metadata": {
        "id": "Vo9sex92A3Wa"
      },
      "source": [
        "hour_list=[\"Midnight\", \"1:00AM\",\"2:00AM\",\"3:00AM\",\"4:00AM\",\"5:00AM\",\"6:00AM\",\"7:00AM\",\"8:00AM\",\"9:00AM\",\"10:00AM\",\n",
        "           \"11:00AM\",\"Noon\",\"1:00PM\",\"2:00PM\",\"3:00PM\",\"4:00PM\",\"5:00PM\",\"6:00PM\",\"7:00PM\",\"8:00PM\",\"9:00PM\",\"10:00PM\",\n",
        "           \"11:00PM\"]\n",
        "dataf[\"hour_list\"]=hour_list\n",
        "dataf = dataf.reset_index()\n",
        "dataf.set_index(\"hour_list\", inplace=True)\n"
      ],
      "execution_count": 58,
      "outputs": []
    },
    {
      "cell_type": "code",
      "metadata": {
        "id": "34ajkZMwCwbv"
      },
      "source": [
        "dataf.sort_values(\"percentage\", ascending=False, inplace=True)"
      ],
      "execution_count": 59,
      "outputs": []
    },
    {
      "cell_type": "code",
      "metadata": {
        "id": "rZtmYTvPC6NY"
      },
      "source": [
        "# dataf = dataf.drop([\"Hour\",\"sum_per_hour_per_day\"], axis=1)"
      ],
      "execution_count": 60,
      "outputs": []
    },
    {
      "cell_type": "code",
      "metadata": {
        "id": "nzo6kc5RSLLJ"
      },
      "source": [
        "# 'rgb(128, 0, 128)'\n",
        "# color=sns.color_palette()\n",
        "def horizontal_bar_chart(df, color):\n",
        "    print(df.index)\n",
        "    print(df.values)\n",
        "    trace = go.Bar(\n",
        "        y=df.index,\n",
        "        x=df.values,\n",
        "        showlegend=False,\n",
        "        name = \"Percentage of Cummulative Pageviews per hour(all days)\",\n",
        "        orientation = 'h',\n",
        "        marker=dict(\n",
        "            color='rgb(128, 0, 128)',\n",
        "            line=dict(\n",
        "            color='rgb(128, 0, 128)',\n",
        "            width=1)\n",
        "        ),\n",
        "    )\n",
        "    return trace"
      ],
      "execution_count": 61,
      "outputs": []
    },
    {
      "cell_type": "code",
      "metadata": {
        "colab": {
          "base_uri": "https://localhost:8080/"
        },
        "id": "DZT2j4ro9g_H",
        "outputId": "bd624cb9-10ac-43b0-99bd-f2f248bcf4d8"
      },
      "source": [
        "trace1 = horizontal_bar_chart(dataf[\"percentage\"], 'rgb(128, 0, 128)')\n",
        "# trace2 = horizontal_bar_chart(percentage_df[\"percentage_visits_per_hour\"].head(20), 'rgba(50, 171, 96, 0.6)')"
      ],
      "execution_count": 62,
      "outputs": [
        {
          "output_type": "stream",
          "name": "stdout",
          "text": [
            "Index(['2:00PM', '1:00PM', 'Noon', '4:00PM', '9:00PM', '8:00AM', '11:00AM',\n",
            "       '3:00PM', '5:00PM', '9:00AM', '8:00PM', '10:00PM', '7:00PM', '6:00PM',\n",
            "       '10:00AM', 'Midnight', '11:00PM', '7:00AM', '1:00AM', '6:00AM',\n",
            "       '5:00AM', '2:00AM', '4:00AM', '3:00AM'],\n",
            "      dtype='object', name='hour_list')\n",
            "[6.94 6.33 6.13 6.13 5.51 5.45 5.45 5.31 5.17 5.17 5.11 4.7  4.63 4.56\n",
            " 4.22 3.74 3.68 2.59 2.38 2.11 1.5  1.23 1.09 0.88]\n"
          ]
        }
      ]
    },
    {
      "cell_type": "code",
      "metadata": {
        "id": "jLgFD6_J9g22"
      },
      "source": [
        "fig = tools.make_subplots(rows=1,cols=1, vertical_spacing=0.5,\n",
        "                          subplot_titles=[\"\"])"
      ],
      "execution_count": 63,
      "outputs": []
    },
    {
      "cell_type": "code",
      "metadata": {
        "id": "UqQr-OsA9gzW"
      },
      "source": [
        "# labeling the bar with percentages.\n",
        "annotations=[]\n",
        "for xpos, ypos in zip(dataf.index, dataf[\"percentage\"]):\n",
        "  annotations.append(dict(\n",
        "                          xref='x',\n",
        "                          yref='y',\n",
        "                          y=xpos,\n",
        "                          x=ypos+1,\n",
        "                          text=str(ypos) +'%',\n",
        "                          font=dict(family='Arial', size=12,\n",
        "                                    color='rgb(128, 0, 128)'),\n",
        "                          showarrow=False\n",
        "                          )\n",
        "                          )\n"
      ],
      "execution_count": 64,
      "outputs": []
    },
    {
      "cell_type": "code",
      "metadata": {
        "colab": {
          "base_uri": "https://localhost:8080/",
          "height": 617
        },
        "id": "MUTyWJqq_yEA",
        "outputId": "bbbb2317-c06e-42ce-c5a0-50e124b9499c"
      },
      "source": [
        "# fig.append_trace(trace1, 1, 1)\n",
        "fig.append_trace(trace1, 1, 1)\n",
        "\n",
        "fig.update_layout(\n",
        "    title=\"Percentage of Cummulative Pageviews per hour(all days)\",\n",
        "    height=600, \n",
        "    width=600, \n",
        "    annotations=annotations, \n",
        "    yaxis=dict(autorange=\"reversed\"),\n",
        "    legend=dict(x=0.029, y=1.038, font_size=10),\n",
        "    margin=dict(l=100, r=20, t=70, b=70),\n",
        "    paper_bgcolor='rgb(248, 248, 255)',\n",
        "    plot_bgcolor='rgb(248, 248, 255)',)\n",
        "py.iplot(fig, filename='pageviews-plots')"
      ],
      "execution_count": 65,
      "outputs": [
        {
          "output_type": "display_data",
          "data": {
            "text/html": [
              "<html>\n",
              "<head><meta charset=\"utf-8\" /></head>\n",
              "<body>\n",
              "    <div>\n",
              "            <script src=\"https://cdnjs.cloudflare.com/ajax/libs/mathjax/2.7.5/MathJax.js?config=TeX-AMS-MML_SVG\"></script><script type=\"text/javascript\">if (window.MathJax) {MathJax.Hub.Config({SVG: {font: \"STIX-Web\"}});}</script>\n",
              "                <script type=\"text/javascript\">window.PlotlyConfig = {MathJaxConfig: 'local'};</script>\n",
              "        <script src=\"https://cdn.plot.ly/plotly-latest.min.js\"></script>    \n",
              "            <div id=\"aa684b3f-6680-4a8b-b3a5-52f66fc50aad\" class=\"plotly-graph-div\" style=\"height:600px; width:600px;\"></div>\n",
              "            <script type=\"text/javascript\">\n",
              "                \n",
              "                    window.PLOTLYENV=window.PLOTLYENV || {};\n",
              "                    \n",
              "                if (document.getElementById(\"aa684b3f-6680-4a8b-b3a5-52f66fc50aad\")) {\n",
              "                    Plotly.newPlot(\n",
              "                        'aa684b3f-6680-4a8b-b3a5-52f66fc50aad',\n",
              "                        [{\"marker\": {\"color\": \"rgb(128, 0, 128)\", \"line\": {\"color\": \"rgb(128, 0, 128)\", \"width\": 1}}, \"name\": \"Percentage of Cummulative Pageviews per hour(all days)\", \"orientation\": \"h\", \"showlegend\": false, \"type\": \"bar\", \"x\": [6.94, 6.33, 6.13, 6.13, 5.51, 5.45, 5.45, 5.31, 5.17, 5.17, 5.11, 4.7, 4.63, 4.56, 4.22, 3.74, 3.68, 2.59, 2.38, 2.11, 1.5, 1.23, 1.09, 0.88], \"xaxis\": \"x\", \"y\": [\"2:00PM\", \"1:00PM\", \"Noon\", \"4:00PM\", \"9:00PM\", \"8:00AM\", \"11:00AM\", \"3:00PM\", \"5:00PM\", \"9:00AM\", \"8:00PM\", \"10:00PM\", \"7:00PM\", \"6:00PM\", \"10:00AM\", \"Midnight\", \"11:00PM\", \"7:00AM\", \"1:00AM\", \"6:00AM\", \"5:00AM\", \"2:00AM\", \"4:00AM\", \"3:00AM\"], \"yaxis\": \"y\"}],\n",
              "                        {\"annotations\": [{\"font\": {\"color\": \"rgb(128, 0, 128)\", \"family\": \"Arial\", \"size\": 12}, \"showarrow\": false, \"text\": \"6.94%\", \"x\": 7.94, \"xref\": \"x\", \"y\": \"2:00PM\", \"yref\": \"y\"}, {\"font\": {\"color\": \"rgb(128, 0, 128)\", \"family\": \"Arial\", \"size\": 12}, \"showarrow\": false, \"text\": \"6.33%\", \"x\": 7.33, \"xref\": \"x\", \"y\": \"1:00PM\", \"yref\": \"y\"}, {\"font\": {\"color\": \"rgb(128, 0, 128)\", \"family\": \"Arial\", \"size\": 12}, \"showarrow\": false, \"text\": \"6.13%\", \"x\": 7.13, \"xref\": \"x\", \"y\": \"Noon\", \"yref\": \"y\"}, {\"font\": {\"color\": \"rgb(128, 0, 128)\", \"family\": \"Arial\", \"size\": 12}, \"showarrow\": false, \"text\": \"6.13%\", \"x\": 7.13, \"xref\": \"x\", \"y\": \"4:00PM\", \"yref\": \"y\"}, {\"font\": {\"color\": \"rgb(128, 0, 128)\", \"family\": \"Arial\", \"size\": 12}, \"showarrow\": false, \"text\": \"5.51%\", \"x\": 6.51, \"xref\": \"x\", \"y\": \"9:00PM\", \"yref\": \"y\"}, {\"font\": {\"color\": \"rgb(128, 0, 128)\", \"family\": \"Arial\", \"size\": 12}, \"showarrow\": false, \"text\": \"5.45%\", \"x\": 6.45, \"xref\": \"x\", \"y\": \"8:00AM\", \"yref\": \"y\"}, {\"font\": {\"color\": \"rgb(128, 0, 128)\", \"family\": \"Arial\", \"size\": 12}, \"showarrow\": false, \"text\": \"5.45%\", \"x\": 6.45, \"xref\": \"x\", \"y\": \"11:00AM\", \"yref\": \"y\"}, {\"font\": {\"color\": \"rgb(128, 0, 128)\", \"family\": \"Arial\", \"size\": 12}, \"showarrow\": false, \"text\": \"5.31%\", \"x\": 6.31, \"xref\": \"x\", \"y\": \"3:00PM\", \"yref\": \"y\"}, {\"font\": {\"color\": \"rgb(128, 0, 128)\", \"family\": \"Arial\", \"size\": 12}, \"showarrow\": false, \"text\": \"5.17%\", \"x\": 6.17, \"xref\": \"x\", \"y\": \"5:00PM\", \"yref\": \"y\"}, {\"font\": {\"color\": \"rgb(128, 0, 128)\", \"family\": \"Arial\", \"size\": 12}, \"showarrow\": false, \"text\": \"5.17%\", \"x\": 6.17, \"xref\": \"x\", \"y\": \"9:00AM\", \"yref\": \"y\"}, {\"font\": {\"color\": \"rgb(128, 0, 128)\", \"family\": \"Arial\", \"size\": 12}, \"showarrow\": false, \"text\": \"5.11%\", \"x\": 6.11, \"xref\": \"x\", \"y\": \"8:00PM\", \"yref\": \"y\"}, {\"font\": {\"color\": \"rgb(128, 0, 128)\", \"family\": \"Arial\", \"size\": 12}, \"showarrow\": false, \"text\": \"4.7%\", \"x\": 5.7, \"xref\": \"x\", \"y\": \"10:00PM\", \"yref\": \"y\"}, {\"font\": {\"color\": \"rgb(128, 0, 128)\", \"family\": \"Arial\", \"size\": 12}, \"showarrow\": false, \"text\": \"4.63%\", \"x\": 5.63, \"xref\": \"x\", \"y\": \"7:00PM\", \"yref\": \"y\"}, {\"font\": {\"color\": \"rgb(128, 0, 128)\", \"family\": \"Arial\", \"size\": 12}, \"showarrow\": false, \"text\": \"4.56%\", \"x\": 5.56, \"xref\": \"x\", \"y\": \"6:00PM\", \"yref\": \"y\"}, {\"font\": {\"color\": \"rgb(128, 0, 128)\", \"family\": \"Arial\", \"size\": 12}, \"showarrow\": false, \"text\": \"4.22%\", \"x\": 5.22, \"xref\": \"x\", \"y\": \"10:00AM\", \"yref\": \"y\"}, {\"font\": {\"color\": \"rgb(128, 0, 128)\", \"family\": \"Arial\", \"size\": 12}, \"showarrow\": false, \"text\": \"3.74%\", \"x\": 4.74, \"xref\": \"x\", \"y\": \"Midnight\", \"yref\": \"y\"}, {\"font\": {\"color\": \"rgb(128, 0, 128)\", \"family\": \"Arial\", \"size\": 12}, \"showarrow\": false, \"text\": \"3.68%\", \"x\": 4.68, \"xref\": \"x\", \"y\": \"11:00PM\", \"yref\": \"y\"}, {\"font\": {\"color\": \"rgb(128, 0, 128)\", \"family\": \"Arial\", \"size\": 12}, \"showarrow\": false, \"text\": \"2.59%\", \"x\": 3.59, \"xref\": \"x\", \"y\": \"7:00AM\", \"yref\": \"y\"}, {\"font\": {\"color\": \"rgb(128, 0, 128)\", \"family\": \"Arial\", \"size\": 12}, \"showarrow\": false, \"text\": \"2.38%\", \"x\": 3.38, \"xref\": \"x\", \"y\": \"1:00AM\", \"yref\": \"y\"}, {\"font\": {\"color\": \"rgb(128, 0, 128)\", \"family\": \"Arial\", \"size\": 12}, \"showarrow\": false, \"text\": \"2.11%\", \"x\": 3.11, \"xref\": \"x\", \"y\": \"6:00AM\", \"yref\": \"y\"}, {\"font\": {\"color\": \"rgb(128, 0, 128)\", \"family\": \"Arial\", \"size\": 12}, \"showarrow\": false, \"text\": \"1.5%\", \"x\": 2.5, \"xref\": \"x\", \"y\": \"5:00AM\", \"yref\": \"y\"}, {\"font\": {\"color\": \"rgb(128, 0, 128)\", \"family\": \"Arial\", \"size\": 12}, \"showarrow\": false, \"text\": \"1.23%\", \"x\": 2.23, \"xref\": \"x\", \"y\": \"2:00AM\", \"yref\": \"y\"}, {\"font\": {\"color\": \"rgb(128, 0, 128)\", \"family\": \"Arial\", \"size\": 12}, \"showarrow\": false, \"text\": \"1.09%\", \"x\": 2.09, \"xref\": \"x\", \"y\": \"4:00AM\", \"yref\": \"y\"}, {\"font\": {\"color\": \"rgb(128, 0, 128)\", \"family\": \"Arial\", \"size\": 12}, \"showarrow\": false, \"text\": \"0.88%\", \"x\": 1.88, \"xref\": \"x\", \"y\": \"3:00AM\", \"yref\": \"y\"}], \"height\": 600, \"legend\": {\"font\": {\"size\": 10}, \"x\": 0.029, \"y\": 1.038}, \"margin\": {\"b\": 70, \"l\": 100, \"r\": 20, \"t\": 70}, \"paper_bgcolor\": \"rgb(248, 248, 255)\", \"plot_bgcolor\": \"rgb(248, 248, 255)\", \"template\": {\"data\": {\"bar\": [{\"error_x\": {\"color\": \"#2a3f5f\"}, \"error_y\": {\"color\": \"#2a3f5f\"}, \"marker\": {\"line\": {\"color\": \"#E5ECF6\", \"width\": 0.5}}, \"type\": \"bar\"}], \"barpolar\": [{\"marker\": {\"line\": {\"color\": \"#E5ECF6\", \"width\": 0.5}}, \"type\": \"barpolar\"}], \"carpet\": [{\"aaxis\": {\"endlinecolor\": \"#2a3f5f\", \"gridcolor\": \"white\", \"linecolor\": \"white\", \"minorgridcolor\": \"white\", \"startlinecolor\": \"#2a3f5f\"}, \"baxis\": {\"endlinecolor\": \"#2a3f5f\", \"gridcolor\": \"white\", \"linecolor\": \"white\", \"minorgridcolor\": \"white\", \"startlinecolor\": \"#2a3f5f\"}, \"type\": \"carpet\"}], \"choropleth\": [{\"colorbar\": {\"outlinewidth\": 0, \"ticks\": \"\"}, \"type\": \"choropleth\"}], \"contour\": [{\"colorbar\": {\"outlinewidth\": 0, \"ticks\": \"\"}, \"colorscale\": [[0.0, \"#0d0887\"], [0.1111111111111111, \"#46039f\"], [0.2222222222222222, \"#7201a8\"], [0.3333333333333333, \"#9c179e\"], [0.4444444444444444, \"#bd3786\"], [0.5555555555555556, \"#d8576b\"], [0.6666666666666666, \"#ed7953\"], [0.7777777777777778, \"#fb9f3a\"], [0.8888888888888888, \"#fdca26\"], [1.0, \"#f0f921\"]], \"type\": \"contour\"}], \"contourcarpet\": [{\"colorbar\": {\"outlinewidth\": 0, \"ticks\": \"\"}, \"type\": \"contourcarpet\"}], \"heatmap\": [{\"colorbar\": {\"outlinewidth\": 0, \"ticks\": \"\"}, \"colorscale\": [[0.0, \"#0d0887\"], [0.1111111111111111, \"#46039f\"], [0.2222222222222222, \"#7201a8\"], [0.3333333333333333, \"#9c179e\"], [0.4444444444444444, \"#bd3786\"], [0.5555555555555556, \"#d8576b\"], [0.6666666666666666, \"#ed7953\"], [0.7777777777777778, \"#fb9f3a\"], [0.8888888888888888, \"#fdca26\"], [1.0, \"#f0f921\"]], \"type\": \"heatmap\"}], \"heatmapgl\": [{\"colorbar\": {\"outlinewidth\": 0, \"ticks\": \"\"}, \"colorscale\": [[0.0, \"#0d0887\"], [0.1111111111111111, \"#46039f\"], [0.2222222222222222, \"#7201a8\"], [0.3333333333333333, \"#9c179e\"], [0.4444444444444444, \"#bd3786\"], [0.5555555555555556, \"#d8576b\"], [0.6666666666666666, \"#ed7953\"], [0.7777777777777778, \"#fb9f3a\"], [0.8888888888888888, \"#fdca26\"], [1.0, \"#f0f921\"]], \"type\": \"heatmapgl\"}], \"histogram\": [{\"marker\": {\"colorbar\": {\"outlinewidth\": 0, \"ticks\": \"\"}}, \"type\": \"histogram\"}], \"histogram2d\": [{\"colorbar\": {\"outlinewidth\": 0, \"ticks\": \"\"}, \"colorscale\": [[0.0, \"#0d0887\"], [0.1111111111111111, \"#46039f\"], [0.2222222222222222, \"#7201a8\"], [0.3333333333333333, \"#9c179e\"], [0.4444444444444444, \"#bd3786\"], [0.5555555555555556, \"#d8576b\"], [0.6666666666666666, \"#ed7953\"], [0.7777777777777778, \"#fb9f3a\"], [0.8888888888888888, \"#fdca26\"], [1.0, \"#f0f921\"]], \"type\": \"histogram2d\"}], \"histogram2dcontour\": [{\"colorbar\": {\"outlinewidth\": 0, \"ticks\": \"\"}, \"colorscale\": [[0.0, \"#0d0887\"], [0.1111111111111111, \"#46039f\"], [0.2222222222222222, \"#7201a8\"], [0.3333333333333333, \"#9c179e\"], [0.4444444444444444, \"#bd3786\"], [0.5555555555555556, \"#d8576b\"], [0.6666666666666666, \"#ed7953\"], [0.7777777777777778, \"#fb9f3a\"], [0.8888888888888888, \"#fdca26\"], [1.0, \"#f0f921\"]], \"type\": \"histogram2dcontour\"}], \"mesh3d\": [{\"colorbar\": {\"outlinewidth\": 0, \"ticks\": \"\"}, \"type\": \"mesh3d\"}], \"parcoords\": [{\"line\": {\"colorbar\": {\"outlinewidth\": 0, \"ticks\": \"\"}}, \"type\": \"parcoords\"}], \"pie\": [{\"automargin\": true, \"type\": \"pie\"}], \"scatter\": [{\"marker\": {\"colorbar\": {\"outlinewidth\": 0, \"ticks\": \"\"}}, \"type\": \"scatter\"}], \"scatter3d\": [{\"line\": {\"colorbar\": {\"outlinewidth\": 0, \"ticks\": \"\"}}, \"marker\": {\"colorbar\": {\"outlinewidth\": 0, \"ticks\": \"\"}}, \"type\": \"scatter3d\"}], \"scattercarpet\": [{\"marker\": {\"colorbar\": {\"outlinewidth\": 0, \"ticks\": \"\"}}, \"type\": \"scattercarpet\"}], \"scattergeo\": [{\"marker\": {\"colorbar\": {\"outlinewidth\": 0, \"ticks\": \"\"}}, \"type\": \"scattergeo\"}], \"scattergl\": [{\"marker\": {\"colorbar\": {\"outlinewidth\": 0, \"ticks\": \"\"}}, \"type\": \"scattergl\"}], \"scattermapbox\": [{\"marker\": {\"colorbar\": {\"outlinewidth\": 0, \"ticks\": \"\"}}, \"type\": \"scattermapbox\"}], \"scatterpolar\": [{\"marker\": {\"colorbar\": {\"outlinewidth\": 0, \"ticks\": \"\"}}, \"type\": \"scatterpolar\"}], \"scatterpolargl\": [{\"marker\": {\"colorbar\": {\"outlinewidth\": 0, \"ticks\": \"\"}}, \"type\": \"scatterpolargl\"}], \"scatterternary\": [{\"marker\": {\"colorbar\": {\"outlinewidth\": 0, \"ticks\": \"\"}}, \"type\": \"scatterternary\"}], \"surface\": [{\"colorbar\": {\"outlinewidth\": 0, \"ticks\": \"\"}, \"colorscale\": [[0.0, \"#0d0887\"], [0.1111111111111111, \"#46039f\"], [0.2222222222222222, \"#7201a8\"], [0.3333333333333333, \"#9c179e\"], [0.4444444444444444, \"#bd3786\"], [0.5555555555555556, \"#d8576b\"], [0.6666666666666666, \"#ed7953\"], [0.7777777777777778, \"#fb9f3a\"], [0.8888888888888888, \"#fdca26\"], [1.0, \"#f0f921\"]], \"type\": \"surface\"}], \"table\": [{\"cells\": {\"fill\": {\"color\": \"#EBF0F8\"}, \"line\": {\"color\": \"white\"}}, \"header\": {\"fill\": {\"color\": \"#C8D4E3\"}, \"line\": {\"color\": \"white\"}}, \"type\": \"table\"}]}, \"layout\": {\"annotationdefaults\": {\"arrowcolor\": \"#2a3f5f\", \"arrowhead\": 0, \"arrowwidth\": 1}, \"coloraxis\": {\"colorbar\": {\"outlinewidth\": 0, \"ticks\": \"\"}}, \"colorscale\": {\"diverging\": [[0, \"#8e0152\"], [0.1, \"#c51b7d\"], [0.2, \"#de77ae\"], [0.3, \"#f1b6da\"], [0.4, \"#fde0ef\"], [0.5, \"#f7f7f7\"], [0.6, \"#e6f5d0\"], [0.7, \"#b8e186\"], [0.8, \"#7fbc41\"], [0.9, \"#4d9221\"], [1, \"#276419\"]], \"sequential\": [[0.0, \"#0d0887\"], [0.1111111111111111, \"#46039f\"], [0.2222222222222222, \"#7201a8\"], [0.3333333333333333, \"#9c179e\"], [0.4444444444444444, \"#bd3786\"], [0.5555555555555556, \"#d8576b\"], [0.6666666666666666, \"#ed7953\"], [0.7777777777777778, \"#fb9f3a\"], [0.8888888888888888, \"#fdca26\"], [1.0, \"#f0f921\"]], \"sequentialminus\": [[0.0, \"#0d0887\"], [0.1111111111111111, \"#46039f\"], [0.2222222222222222, \"#7201a8\"], [0.3333333333333333, \"#9c179e\"], [0.4444444444444444, \"#bd3786\"], [0.5555555555555556, \"#d8576b\"], [0.6666666666666666, \"#ed7953\"], [0.7777777777777778, \"#fb9f3a\"], [0.8888888888888888, \"#fdca26\"], [1.0, \"#f0f921\"]]}, \"colorway\": [\"#636efa\", \"#EF553B\", \"#00cc96\", \"#ab63fa\", \"#FFA15A\", \"#19d3f3\", \"#FF6692\", \"#B6E880\", \"#FF97FF\", \"#FECB52\"], \"font\": {\"color\": \"#2a3f5f\"}, \"geo\": {\"bgcolor\": \"white\", \"lakecolor\": \"white\", \"landcolor\": \"#E5ECF6\", \"showlakes\": true, \"showland\": true, \"subunitcolor\": \"white\"}, \"hoverlabel\": {\"align\": \"left\"}, \"hovermode\": \"closest\", \"mapbox\": {\"style\": \"light\"}, \"paper_bgcolor\": \"white\", \"plot_bgcolor\": \"#E5ECF6\", \"polar\": {\"angularaxis\": {\"gridcolor\": \"white\", \"linecolor\": \"white\", \"ticks\": \"\"}, \"bgcolor\": \"#E5ECF6\", \"radialaxis\": {\"gridcolor\": \"white\", \"linecolor\": \"white\", \"ticks\": \"\"}}, \"scene\": {\"xaxis\": {\"backgroundcolor\": \"#E5ECF6\", \"gridcolor\": \"white\", \"gridwidth\": 2, \"linecolor\": \"white\", \"showbackground\": true, \"ticks\": \"\", \"zerolinecolor\": \"white\"}, \"yaxis\": {\"backgroundcolor\": \"#E5ECF6\", \"gridcolor\": \"white\", \"gridwidth\": 2, \"linecolor\": \"white\", \"showbackground\": true, \"ticks\": \"\", \"zerolinecolor\": \"white\"}, \"zaxis\": {\"backgroundcolor\": \"#E5ECF6\", \"gridcolor\": \"white\", \"gridwidth\": 2, \"linecolor\": \"white\", \"showbackground\": true, \"ticks\": \"\", \"zerolinecolor\": \"white\"}}, \"shapedefaults\": {\"line\": {\"color\": \"#2a3f5f\"}}, \"ternary\": {\"aaxis\": {\"gridcolor\": \"white\", \"linecolor\": \"white\", \"ticks\": \"\"}, \"baxis\": {\"gridcolor\": \"white\", \"linecolor\": \"white\", \"ticks\": \"\"}, \"bgcolor\": \"#E5ECF6\", \"caxis\": {\"gridcolor\": \"white\", \"linecolor\": \"white\", \"ticks\": \"\"}}, \"title\": {\"x\": 0.05}, \"xaxis\": {\"automargin\": true, \"gridcolor\": \"white\", \"linecolor\": \"white\", \"ticks\": \"\", \"title\": {\"standoff\": 15}, \"zerolinecolor\": \"white\", \"zerolinewidth\": 2}, \"yaxis\": {\"automargin\": true, \"gridcolor\": \"white\", \"linecolor\": \"white\", \"ticks\": \"\", \"title\": {\"standoff\": 15}, \"zerolinecolor\": \"white\", \"zerolinewidth\": 2}}}, \"title\": {\"text\": \"Percentage of Cummulative Pageviews per hour(all days)\"}, \"width\": 600, \"xaxis\": {\"anchor\": \"y\", \"domain\": [0.0, 1.0]}, \"yaxis\": {\"anchor\": \"x\", \"autorange\": \"reversed\", \"domain\": [0.0, 1.0]}},\n",
              "                        {\"responsive\": true}\n",
              "                    ).then(function(){\n",
              "                            \n",
              "var gd = document.getElementById('aa684b3f-6680-4a8b-b3a5-52f66fc50aad');\n",
              "var x = new MutationObserver(function (mutations, observer) {{\n",
              "        var display = window.getComputedStyle(gd).display;\n",
              "        if (!display || display === 'none') {{\n",
              "            console.log([gd, 'removed!']);\n",
              "            Plotly.purge(gd);\n",
              "            observer.disconnect();\n",
              "        }}\n",
              "}});\n",
              "\n",
              "// Listen for the removal of the full notebook cells\n",
              "var notebookContainer = gd.closest('#notebook-container');\n",
              "if (notebookContainer) {{\n",
              "    x.observe(notebookContainer, {childList: true});\n",
              "}}\n",
              "\n",
              "// Listen for the clearing of the current output cell\n",
              "var outputEl = gd.closest('.output');\n",
              "if (outputEl) {{\n",
              "    x.observe(outputEl, {childList: true});\n",
              "}}\n",
              "\n",
              "                        })\n",
              "                };\n",
              "                \n",
              "            </script>\n",
              "        </div>\n",
              "</body>\n",
              "</html>"
            ]
          },
          "metadata": {}
        }
      ]
    },
    {
      "cell_type": "markdown",
      "metadata": {
        "id": "eeBDsfl1Kxtj"
      },
      "source": [
        "Now lets check the number of visits to the article by checking whether the visit is caused by subscriber or a non-subscriber."
      ]
    },
    {
      "cell_type": "code",
      "metadata": {
        "id": "bD6jvxMP_5q_"
      },
      "source": [
        "# lets take the final_df as our base dataframe\n",
        "subscriber_df = final_df.groupby([\"subscriber_status\", \"pageview_date\"])[\"visit_id\"].agg(\"count\")\n",
        "subscriber_df = subscriber_df.unstack(level=0)\n",
        "subscriber_df.fillna(value=0, inplace=True)"
      ],
      "execution_count": 89,
      "outputs": []
    },
    {
      "cell_type": "code",
      "metadata": {
        "id": "hJVeXpfAT9ns"
      },
      "source": [
        "# 'rgb(128, 0, 128)'\n",
        "# color=sns.color_palette()\n",
        "def scatter_chart(df, color, name):\n",
        "    # print(df.index)\n",
        "    # print(df.values)\n",
        "    trace = go.Scatter(\n",
        "        x=df.index,\n",
        "        y=df.values,\n",
        "        name=name,\n",
        "        # orientation = 'h',\n",
        "        marker=dict(\n",
        "            color=color,\n",
        "            line=dict(\n",
        "            color=color,\n",
        "            width=1)\n",
        "        ),\n",
        "    )\n",
        "    return trace"
      ],
      "execution_count": 110,
      "outputs": []
    },
    {
      "cell_type": "code",
      "metadata": {
        "id": "7vpCWUirXVio"
      },
      "source": [
        "trace1 = scatter_chart(subscriber_df[\"Non-subscriber\"], 'rgb(128, 0, 128)', \"Non-subscribers\")\n",
        "trace2 = scatter_chart(subscriber_df[\"Subscriber\"], 'rgba(50, 171, 96, 0.6)', \"Subscribers\")"
      ],
      "execution_count": 111,
      "outputs": []
    },
    {
      "cell_type": "code",
      "metadata": {
        "id": "BHjGmergXzrQ"
      },
      "source": [
        "fig = tools.make_subplots(rows=1,cols=1, vertical_spacing=0.5)"
      ],
      "execution_count": 112,
      "outputs": []
    },
    {
      "cell_type": "code",
      "metadata": {
        "colab": {
          "base_uri": "https://localhost:8080/",
          "height": 617
        },
        "id": "zQGNni0jZoM_",
        "outputId": "412eadcc-0905-457c-fc2b-25020e723fa9"
      },
      "source": [
        "fig.add_trace(trace1)\n",
        "fig.add_trace(trace2)\n",
        "\n",
        "fig.update_layout(\n",
        "    title=\"Count of Pageviews per subscriber status\",\n",
        "    height=600, \n",
        "    width=600, \n",
        "    # annotations=annotations, \n",
        "    xaxis=dict(tickangle=-45),\n",
        "    legend=dict(x=0.029, y=1.038, font_size=10),\n",
        "    margin=dict(l=100, r=20, t=70, b=70),\n",
        "    paper_bgcolor='rgb(248, 248, 255)',\n",
        "    plot_bgcolor='rgb(248, 248, 255)',)\n",
        "py.iplot(fig, filename='pageviews-plots')"
      ],
      "execution_count": 113,
      "outputs": [
        {
          "output_type": "display_data",
          "data": {
            "text/html": [
              "<html>\n",
              "<head><meta charset=\"utf-8\" /></head>\n",
              "<body>\n",
              "    <div>\n",
              "            <script src=\"https://cdnjs.cloudflare.com/ajax/libs/mathjax/2.7.5/MathJax.js?config=TeX-AMS-MML_SVG\"></script><script type=\"text/javascript\">if (window.MathJax) {MathJax.Hub.Config({SVG: {font: \"STIX-Web\"}});}</script>\n",
              "                <script type=\"text/javascript\">window.PlotlyConfig = {MathJaxConfig: 'local'};</script>\n",
              "        <script src=\"https://cdn.plot.ly/plotly-latest.min.js\"></script>    \n",
              "            <div id=\"284742ca-47fa-4d9a-a70c-3e8bbb6842fa\" class=\"plotly-graph-div\" style=\"height:600px; width:600px;\"></div>\n",
              "            <script type=\"text/javascript\">\n",
              "                \n",
              "                    window.PLOTLYENV=window.PLOTLYENV || {};\n",
              "                    \n",
              "                if (document.getElementById(\"284742ca-47fa-4d9a-a70c-3e8bbb6842fa\")) {\n",
              "                    Plotly.newPlot(\n",
              "                        '284742ca-47fa-4d9a-a70c-3e8bbb6842fa',\n",
              "                        [{\"marker\": {\"color\": \"rgb(128, 0, 128)\", \"line\": {\"color\": \"rgb(128, 0, 128)\", \"width\": 1}}, \"name\": \"Non-subscribers\", \"type\": \"scatter\", \"x\": [\"2021-07-01T00:00:00\", \"2021-07-02T00:00:00\", \"2021-07-03T00:00:00\", \"2021-07-04T00:00:00\", \"2021-07-05T00:00:00\", \"2021-07-06T00:00:00\", \"2021-07-07T00:00:00\", \"2021-07-08T00:00:00\", \"2021-07-09T00:00:00\", \"2021-07-10T00:00:00\", \"2021-07-11T00:00:00\", \"2021-07-13T00:00:00\", \"2021-07-14T00:00:00\", \"2021-07-15T00:00:00\", \"2021-07-16T00:00:00\", \"2021-07-17T00:00:00\", \"2021-07-18T00:00:00\", \"2021-07-19T00:00:00\", \"2021-07-20T00:00:00\", \"2021-07-21T00:00:00\", \"2021-07-22T00:00:00\", \"2021-07-23T00:00:00\", \"2021-07-24T00:00:00\", \"2021-07-25T00:00:00\", \"2021-07-26T00:00:00\", \"2021-07-27T00:00:00\", \"2021-07-28T00:00:00\", \"2021-07-29T00:00:00\", \"2021-07-30T00:00:00\", \"2021-07-31T00:00:00\"], \"y\": [30.0, 30.0, 24.0, 5.0, 4.0, 4.0, 30.0, 2.0, 7.0, 1.0, 1.0, 12.0, 8.0, 4.0, 3.0, 1.0, 9.0, 44.0, 24.0, 52.0, 34.0, 119.0, 39.0, 177.0, 89.0, 106.0, 85.0, 103.0, 141.0, 133.0]}, {\"marker\": {\"color\": \"rgba(50, 171, 96, 0.6)\", \"line\": {\"color\": \"rgba(50, 171, 96, 0.6)\", \"width\": 1}}, \"name\": \"Subscribers\", \"type\": \"scatter\", \"x\": [\"2021-07-01T00:00:00\", \"2021-07-02T00:00:00\", \"2021-07-03T00:00:00\", \"2021-07-04T00:00:00\", \"2021-07-05T00:00:00\", \"2021-07-06T00:00:00\", \"2021-07-07T00:00:00\", \"2021-07-08T00:00:00\", \"2021-07-09T00:00:00\", \"2021-07-10T00:00:00\", \"2021-07-11T00:00:00\", \"2021-07-13T00:00:00\", \"2021-07-14T00:00:00\", \"2021-07-15T00:00:00\", \"2021-07-16T00:00:00\", \"2021-07-17T00:00:00\", \"2021-07-18T00:00:00\", \"2021-07-19T00:00:00\", \"2021-07-20T00:00:00\", \"2021-07-21T00:00:00\", \"2021-07-22T00:00:00\", \"2021-07-23T00:00:00\", \"2021-07-24T00:00:00\", \"2021-07-25T00:00:00\", \"2021-07-26T00:00:00\", \"2021-07-27T00:00:00\", \"2021-07-28T00:00:00\", \"2021-07-29T00:00:00\", \"2021-07-30T00:00:00\", \"2021-07-31T00:00:00\"], \"y\": [2.0, 3.0, 0.0, 0.0, 0.0, 0.0, 0.0, 5.0, 0.0, 1.0, 0.0, 1.0, 2.0, 4.0, 0.0, 0.0, 2.0, 1.0, 6.0, 7.0, 5.0, 9.0, 5.0, 14.0, 22.0, 13.0, 7.0, 13.0, 10.0, 16.0]}],\n",
              "                        {\"height\": 600, \"legend\": {\"font\": {\"size\": 10}, \"x\": 0.029, \"y\": 1.038}, \"margin\": {\"b\": 70, \"l\": 100, \"r\": 20, \"t\": 70}, \"paper_bgcolor\": \"rgb(248, 248, 255)\", \"plot_bgcolor\": \"rgb(248, 248, 255)\", \"template\": {\"data\": {\"bar\": [{\"error_x\": {\"color\": \"#2a3f5f\"}, \"error_y\": {\"color\": \"#2a3f5f\"}, \"marker\": {\"line\": {\"color\": \"#E5ECF6\", \"width\": 0.5}}, \"type\": \"bar\"}], \"barpolar\": [{\"marker\": {\"line\": {\"color\": \"#E5ECF6\", \"width\": 0.5}}, \"type\": \"barpolar\"}], \"carpet\": [{\"aaxis\": {\"endlinecolor\": \"#2a3f5f\", \"gridcolor\": \"white\", \"linecolor\": \"white\", \"minorgridcolor\": \"white\", \"startlinecolor\": \"#2a3f5f\"}, \"baxis\": {\"endlinecolor\": \"#2a3f5f\", \"gridcolor\": \"white\", \"linecolor\": \"white\", \"minorgridcolor\": \"white\", \"startlinecolor\": \"#2a3f5f\"}, \"type\": \"carpet\"}], \"choropleth\": [{\"colorbar\": {\"outlinewidth\": 0, \"ticks\": \"\"}, \"type\": \"choropleth\"}], \"contour\": [{\"colorbar\": {\"outlinewidth\": 0, \"ticks\": \"\"}, \"colorscale\": [[0.0, \"#0d0887\"], [0.1111111111111111, \"#46039f\"], [0.2222222222222222, \"#7201a8\"], [0.3333333333333333, \"#9c179e\"], [0.4444444444444444, \"#bd3786\"], [0.5555555555555556, \"#d8576b\"], [0.6666666666666666, \"#ed7953\"], [0.7777777777777778, \"#fb9f3a\"], [0.8888888888888888, \"#fdca26\"], [1.0, \"#f0f921\"]], \"type\": \"contour\"}], \"contourcarpet\": [{\"colorbar\": {\"outlinewidth\": 0, \"ticks\": \"\"}, \"type\": \"contourcarpet\"}], \"heatmap\": [{\"colorbar\": {\"outlinewidth\": 0, \"ticks\": \"\"}, \"colorscale\": [[0.0, \"#0d0887\"], [0.1111111111111111, \"#46039f\"], [0.2222222222222222, \"#7201a8\"], [0.3333333333333333, \"#9c179e\"], [0.4444444444444444, \"#bd3786\"], [0.5555555555555556, \"#d8576b\"], [0.6666666666666666, \"#ed7953\"], [0.7777777777777778, \"#fb9f3a\"], [0.8888888888888888, \"#fdca26\"], [1.0, \"#f0f921\"]], \"type\": \"heatmap\"}], \"heatmapgl\": [{\"colorbar\": {\"outlinewidth\": 0, \"ticks\": \"\"}, \"colorscale\": [[0.0, \"#0d0887\"], [0.1111111111111111, \"#46039f\"], [0.2222222222222222, \"#7201a8\"], [0.3333333333333333, \"#9c179e\"], [0.4444444444444444, \"#bd3786\"], [0.5555555555555556, \"#d8576b\"], [0.6666666666666666, \"#ed7953\"], [0.7777777777777778, \"#fb9f3a\"], [0.8888888888888888, \"#fdca26\"], [1.0, \"#f0f921\"]], \"type\": \"heatmapgl\"}], \"histogram\": [{\"marker\": {\"colorbar\": {\"outlinewidth\": 0, \"ticks\": \"\"}}, \"type\": \"histogram\"}], \"histogram2d\": [{\"colorbar\": {\"outlinewidth\": 0, \"ticks\": \"\"}, \"colorscale\": [[0.0, \"#0d0887\"], [0.1111111111111111, \"#46039f\"], [0.2222222222222222, \"#7201a8\"], [0.3333333333333333, \"#9c179e\"], [0.4444444444444444, \"#bd3786\"], [0.5555555555555556, \"#d8576b\"], [0.6666666666666666, \"#ed7953\"], [0.7777777777777778, \"#fb9f3a\"], [0.8888888888888888, \"#fdca26\"], [1.0, \"#f0f921\"]], \"type\": \"histogram2d\"}], \"histogram2dcontour\": [{\"colorbar\": {\"outlinewidth\": 0, \"ticks\": \"\"}, \"colorscale\": [[0.0, \"#0d0887\"], [0.1111111111111111, \"#46039f\"], [0.2222222222222222, \"#7201a8\"], [0.3333333333333333, \"#9c179e\"], [0.4444444444444444, \"#bd3786\"], [0.5555555555555556, \"#d8576b\"], [0.6666666666666666, \"#ed7953\"], [0.7777777777777778, \"#fb9f3a\"], [0.8888888888888888, \"#fdca26\"], [1.0, \"#f0f921\"]], \"type\": \"histogram2dcontour\"}], \"mesh3d\": [{\"colorbar\": {\"outlinewidth\": 0, \"ticks\": \"\"}, \"type\": \"mesh3d\"}], \"parcoords\": [{\"line\": {\"colorbar\": {\"outlinewidth\": 0, \"ticks\": \"\"}}, \"type\": \"parcoords\"}], \"pie\": [{\"automargin\": true, \"type\": \"pie\"}], \"scatter\": [{\"marker\": {\"colorbar\": {\"outlinewidth\": 0, \"ticks\": \"\"}}, \"type\": \"scatter\"}], \"scatter3d\": [{\"line\": {\"colorbar\": {\"outlinewidth\": 0, \"ticks\": \"\"}}, \"marker\": {\"colorbar\": {\"outlinewidth\": 0, \"ticks\": \"\"}}, \"type\": \"scatter3d\"}], \"scattercarpet\": [{\"marker\": {\"colorbar\": {\"outlinewidth\": 0, \"ticks\": \"\"}}, \"type\": \"scattercarpet\"}], \"scattergeo\": [{\"marker\": {\"colorbar\": {\"outlinewidth\": 0, \"ticks\": \"\"}}, \"type\": \"scattergeo\"}], \"scattergl\": [{\"marker\": {\"colorbar\": {\"outlinewidth\": 0, \"ticks\": \"\"}}, \"type\": \"scattergl\"}], \"scattermapbox\": [{\"marker\": {\"colorbar\": {\"outlinewidth\": 0, \"ticks\": \"\"}}, \"type\": \"scattermapbox\"}], \"scatterpolar\": [{\"marker\": {\"colorbar\": {\"outlinewidth\": 0, \"ticks\": \"\"}}, \"type\": \"scatterpolar\"}], \"scatterpolargl\": [{\"marker\": {\"colorbar\": {\"outlinewidth\": 0, \"ticks\": \"\"}}, \"type\": \"scatterpolargl\"}], \"scatterternary\": [{\"marker\": {\"colorbar\": {\"outlinewidth\": 0, \"ticks\": \"\"}}, \"type\": \"scatterternary\"}], \"surface\": [{\"colorbar\": {\"outlinewidth\": 0, \"ticks\": \"\"}, \"colorscale\": [[0.0, \"#0d0887\"], [0.1111111111111111, \"#46039f\"], [0.2222222222222222, \"#7201a8\"], [0.3333333333333333, \"#9c179e\"], [0.4444444444444444, \"#bd3786\"], [0.5555555555555556, \"#d8576b\"], [0.6666666666666666, \"#ed7953\"], [0.7777777777777778, \"#fb9f3a\"], [0.8888888888888888, \"#fdca26\"], [1.0, \"#f0f921\"]], \"type\": \"surface\"}], \"table\": [{\"cells\": {\"fill\": {\"color\": \"#EBF0F8\"}, \"line\": {\"color\": \"white\"}}, \"header\": {\"fill\": {\"color\": \"#C8D4E3\"}, \"line\": {\"color\": \"white\"}}, \"type\": \"table\"}]}, \"layout\": {\"annotationdefaults\": {\"arrowcolor\": \"#2a3f5f\", \"arrowhead\": 0, \"arrowwidth\": 1}, \"coloraxis\": {\"colorbar\": {\"outlinewidth\": 0, \"ticks\": \"\"}}, \"colorscale\": {\"diverging\": [[0, \"#8e0152\"], [0.1, \"#c51b7d\"], [0.2, \"#de77ae\"], [0.3, \"#f1b6da\"], [0.4, \"#fde0ef\"], [0.5, \"#f7f7f7\"], [0.6, \"#e6f5d0\"], [0.7, \"#b8e186\"], [0.8, \"#7fbc41\"], [0.9, \"#4d9221\"], [1, \"#276419\"]], \"sequential\": [[0.0, \"#0d0887\"], [0.1111111111111111, \"#46039f\"], [0.2222222222222222, \"#7201a8\"], [0.3333333333333333, \"#9c179e\"], [0.4444444444444444, \"#bd3786\"], [0.5555555555555556, \"#d8576b\"], [0.6666666666666666, \"#ed7953\"], [0.7777777777777778, \"#fb9f3a\"], [0.8888888888888888, \"#fdca26\"], [1.0, \"#f0f921\"]], \"sequentialminus\": [[0.0, \"#0d0887\"], [0.1111111111111111, \"#46039f\"], [0.2222222222222222, \"#7201a8\"], [0.3333333333333333, \"#9c179e\"], [0.4444444444444444, \"#bd3786\"], [0.5555555555555556, \"#d8576b\"], [0.6666666666666666, \"#ed7953\"], [0.7777777777777778, \"#fb9f3a\"], [0.8888888888888888, \"#fdca26\"], [1.0, \"#f0f921\"]]}, \"colorway\": [\"#636efa\", \"#EF553B\", \"#00cc96\", \"#ab63fa\", \"#FFA15A\", \"#19d3f3\", \"#FF6692\", \"#B6E880\", \"#FF97FF\", \"#FECB52\"], \"font\": {\"color\": \"#2a3f5f\"}, \"geo\": {\"bgcolor\": \"white\", \"lakecolor\": \"white\", \"landcolor\": \"#E5ECF6\", \"showlakes\": true, \"showland\": true, \"subunitcolor\": \"white\"}, \"hoverlabel\": {\"align\": \"left\"}, \"hovermode\": \"closest\", \"mapbox\": {\"style\": \"light\"}, \"paper_bgcolor\": \"white\", \"plot_bgcolor\": \"#E5ECF6\", \"polar\": {\"angularaxis\": {\"gridcolor\": \"white\", \"linecolor\": \"white\", \"ticks\": \"\"}, \"bgcolor\": \"#E5ECF6\", \"radialaxis\": {\"gridcolor\": \"white\", \"linecolor\": \"white\", \"ticks\": \"\"}}, \"scene\": {\"xaxis\": {\"backgroundcolor\": \"#E5ECF6\", \"gridcolor\": \"white\", \"gridwidth\": 2, \"linecolor\": \"white\", \"showbackground\": true, \"ticks\": \"\", \"zerolinecolor\": \"white\"}, \"yaxis\": {\"backgroundcolor\": \"#E5ECF6\", \"gridcolor\": \"white\", \"gridwidth\": 2, \"linecolor\": \"white\", \"showbackground\": true, \"ticks\": \"\", \"zerolinecolor\": \"white\"}, \"zaxis\": {\"backgroundcolor\": \"#E5ECF6\", \"gridcolor\": \"white\", \"gridwidth\": 2, \"linecolor\": \"white\", \"showbackground\": true, \"ticks\": \"\", \"zerolinecolor\": \"white\"}}, \"shapedefaults\": {\"line\": {\"color\": \"#2a3f5f\"}}, \"ternary\": {\"aaxis\": {\"gridcolor\": \"white\", \"linecolor\": \"white\", \"ticks\": \"\"}, \"baxis\": {\"gridcolor\": \"white\", \"linecolor\": \"white\", \"ticks\": \"\"}, \"bgcolor\": \"#E5ECF6\", \"caxis\": {\"gridcolor\": \"white\", \"linecolor\": \"white\", \"ticks\": \"\"}}, \"title\": {\"x\": 0.05}, \"xaxis\": {\"automargin\": true, \"gridcolor\": \"white\", \"linecolor\": \"white\", \"ticks\": \"\", \"title\": {\"standoff\": 15}, \"zerolinecolor\": \"white\", \"zerolinewidth\": 2}, \"yaxis\": {\"automargin\": true, \"gridcolor\": \"white\", \"linecolor\": \"white\", \"ticks\": \"\", \"title\": {\"standoff\": 15}, \"zerolinecolor\": \"white\", \"zerolinewidth\": 2}}}, \"title\": {\"text\": \"Count of Pageviews per subscriber status\"}, \"width\": 600, \"xaxis\": {\"anchor\": \"y\", \"domain\": [0.0, 1.0], \"tickangle\": -45}, \"yaxis\": {\"anchor\": \"x\", \"domain\": [0.0, 1.0]}},\n",
              "                        {\"responsive\": true}\n",
              "                    ).then(function(){\n",
              "                            \n",
              "var gd = document.getElementById('284742ca-47fa-4d9a-a70c-3e8bbb6842fa');\n",
              "var x = new MutationObserver(function (mutations, observer) {{\n",
              "        var display = window.getComputedStyle(gd).display;\n",
              "        if (!display || display === 'none') {{\n",
              "            console.log([gd, 'removed!']);\n",
              "            Plotly.purge(gd);\n",
              "            observer.disconnect();\n",
              "        }}\n",
              "}});\n",
              "\n",
              "// Listen for the removal of the full notebook cells\n",
              "var notebookContainer = gd.closest('#notebook-container');\n",
              "if (notebookContainer) {{\n",
              "    x.observe(notebookContainer, {childList: true});\n",
              "}}\n",
              "\n",
              "// Listen for the clearing of the current output cell\n",
              "var outputEl = gd.closest('.output');\n",
              "if (outputEl) {{\n",
              "    x.observe(outputEl, {childList: true});\n",
              "}}\n",
              "\n",
              "                        })\n",
              "                };\n",
              "                \n",
              "            </script>\n",
              "        </div>\n",
              "</body>\n",
              "</html>"
            ]
          },
          "metadata": {}
        }
      ]
    },
    {
      "cell_type": "markdown",
      "metadata": {
        "id": "EYeBCVAddzwh"
      },
      "source": [
        "Now let us check the visit_count of the visitors by the reference field that is by Social network, Search engine etc"
      ]
    },
    {
      "cell_type": "code",
      "metadata": {
        "id": "wu2fxVoSdyya"
      },
      "source": [
        "# lets take the final_df again for ou analysis purpose.\n",
        "# final_df.isnull().sum()\n",
        "reference_type_df = final_df.groupby([\"device\", \"visit_ref_type\"])[\"visit_id\"].agg(\"count\")\n",
        "reference_type_df = reference_type_df.unstack(level=0)"
      ],
      "execution_count": 135,
      "outputs": []
    },
    {
      "cell_type": "code",
      "metadata": {
        "colab": {
          "base_uri": "https://localhost:8080/",
          "height": 269
        },
        "id": "FJZSPjgLcOzA",
        "outputId": "ea27349b-bf86-4488-afdb-1f31a0d799b2"
      },
      "source": [
        "reference_type_df"
      ],
      "execution_count": 136,
      "outputs": [
        {
          "output_type": "execute_result",
          "data": {
            "text/html": [
              "<div>\n",
              "<style scoped>\n",
              "    .dataframe tbody tr th:only-of-type {\n",
              "        vertical-align: middle;\n",
              "    }\n",
              "\n",
              "    .dataframe tbody tr th {\n",
              "        vertical-align: top;\n",
              "    }\n",
              "\n",
              "    .dataframe thead th {\n",
              "        text-align: right;\n",
              "    }\n",
              "</style>\n",
              "<table border=\"1\" class=\"dataframe\">\n",
              "  <thead>\n",
              "    <tr style=\"text-align: right;\">\n",
              "      <th>device</th>\n",
              "      <th>Desktop</th>\n",
              "      <th>Mobile Web</th>\n",
              "    </tr>\n",
              "    <tr>\n",
              "      <th>visit_ref_type</th>\n",
              "      <th></th>\n",
              "      <th></th>\n",
              "    </tr>\n",
              "  </thead>\n",
              "  <tbody>\n",
              "    <tr>\n",
              "      <th>Search Engines</th>\n",
              "      <td>69</td>\n",
              "      <td>358</td>\n",
              "    </tr>\n",
              "    <tr>\n",
              "      <th>Social Network</th>\n",
              "      <td>30</td>\n",
              "      <td>481</td>\n",
              "    </tr>\n",
              "    <tr>\n",
              "      <th>Typed/Bookmarked</th>\n",
              "      <td>19</td>\n",
              "      <td>65</td>\n",
              "    </tr>\n",
              "    <tr>\n",
              "      <th>Unknown</th>\n",
              "      <td>114</td>\n",
              "      <td>138</td>\n",
              "    </tr>\n",
              "    <tr>\n",
              "      <th>external</th>\n",
              "      <td>65</td>\n",
              "      <td>84</td>\n",
              "    </tr>\n",
              "    <tr>\n",
              "      <th>internal</th>\n",
              "      <td>27</td>\n",
              "      <td>19</td>\n",
              "    </tr>\n",
              "  </tbody>\n",
              "</table>\n",
              "</div>"
            ],
            "text/plain": [
              "device            Desktop  Mobile Web\n",
              "visit_ref_type                       \n",
              "Search Engines         69         358\n",
              "Social Network         30         481\n",
              "Typed/Bookmarked       19          65\n",
              "Unknown               114         138\n",
              "external               65          84\n",
              "internal               27          19"
            ]
          },
          "metadata": {},
          "execution_count": 136
        }
      ]
    },
    {
      "cell_type": "code",
      "metadata": {
        "colab": {
          "base_uri": "https://localhost:8080/"
        },
        "id": "6wCel0lJgPSY",
        "outputId": "1ff61902-aac3-44b1-c7b7-a4c4e30b022e"
      },
      "source": [
        "reference_type_df.columns.tolist()"
      ],
      "execution_count": 143,
      "outputs": [
        {
          "output_type": "execute_result",
          "data": {
            "text/plain": [
              "['Desktop', 'Mobile Web']"
            ]
          },
          "metadata": {},
          "execution_count": 143
        }
      ]
    },
    {
      "cell_type": "code",
      "metadata": {
        "colab": {
          "base_uri": "https://localhost:8080/",
          "height": 817
        },
        "id": "BSOUkzKUhovX",
        "outputId": "16817de9-f720-4c43-970a-c4ea31836471"
      },
      "source": [
        "# color=sns.color_palette()\n",
        "fig = tools.make_subplots(rows=1,cols=2, shared_yaxes=True, vertical_spacing=0.04)\n",
        "def horizontal_bar_chart(df, color, item):\n",
        "    print(df.index)\n",
        "    sorted_df=df.sort_values(ascending=False)\n",
        "    print(sorted_df.values)\n",
        "    trace = go.Bar(\n",
        "        y=sorted_df.index,\n",
        "        x=sorted_df.values,\n",
        "        # showlegend=False,\n",
        "        name = item,\n",
        "        orientation = 'h',\n",
        "       marker=dict(\n",
        "            color=color,\n",
        "            line=dict(\n",
        "            color=color,\n",
        "            width=0.5)\n",
        "        ),\n",
        "    )\n",
        "    return trace\n",
        "\n",
        "color_list=['rgb(128, 0, 128)', 'rgba(50, 171, 96, 0.6)']\n",
        "for i, value in enumerate(zip(reference_type_df.columns.tolist(), color_list)):\n",
        "  trace = horizontal_bar_chart(reference_type_df[value[0]], value[1], value[0])\n",
        "  fig.add_trace(trace, 1, i+1)\n",
        "\n",
        "fig.update_layout(\n",
        "    title=\"Count of Pageviews per subscriber status\",\n",
        "    height=650, \n",
        "    width=650, \n",
        "    # annotations=annotations, \n",
        "    # yaxis=dict(autorange=\"reversed\"),\n",
        "    legend=dict(x=1, y=1, font_size=10),\n",
        "    margin=dict(l=100, r=20, t=70, b=70),\n",
        "    paper_bgcolor='rgb(248, 248, 255)',\n",
        "    plot_bgcolor='rgb(248, 248, 255)',)\n",
        "fig['layout']['xaxis1'].update(title='', range=[0, 500], dtick=50, autorange=False)\n",
        "fig['layout']['xaxis2'].update(title='', range=[0, 500], dtick=50, autorange=False)\n",
        "\n",
        "py.iplot(fig, filename='pageviews-plots')"
      ],
      "execution_count": 181,
      "outputs": [
        {
          "output_type": "stream",
          "name": "stdout",
          "text": [
            "Index(['Search Engines', 'Social Network', 'Typed/Bookmarked', 'Unknown',\n",
            "       'external', 'internal'],\n",
            "      dtype='object', name='visit_ref_type')\n",
            "[114  69  65  30  27  19]\n",
            "Index(['Search Engines', 'Social Network', 'Typed/Bookmarked', 'Unknown',\n",
            "       'external', 'internal'],\n",
            "      dtype='object', name='visit_ref_type')\n",
            "[481 358 138  84  65  19]\n"
          ]
        },
        {
          "output_type": "display_data",
          "data": {
            "text/html": [
              "<html>\n",
              "<head><meta charset=\"utf-8\" /></head>\n",
              "<body>\n",
              "    <div>\n",
              "            <script src=\"https://cdnjs.cloudflare.com/ajax/libs/mathjax/2.7.5/MathJax.js?config=TeX-AMS-MML_SVG\"></script><script type=\"text/javascript\">if (window.MathJax) {MathJax.Hub.Config({SVG: {font: \"STIX-Web\"}});}</script>\n",
              "                <script type=\"text/javascript\">window.PlotlyConfig = {MathJaxConfig: 'local'};</script>\n",
              "        <script src=\"https://cdn.plot.ly/plotly-latest.min.js\"></script>    \n",
              "            <div id=\"0933997d-1b2b-4680-8d96-044391865046\" class=\"plotly-graph-div\" style=\"height:650px; width:650px;\"></div>\n",
              "            <script type=\"text/javascript\">\n",
              "                \n",
              "                    window.PLOTLYENV=window.PLOTLYENV || {};\n",
              "                    \n",
              "                if (document.getElementById(\"0933997d-1b2b-4680-8d96-044391865046\")) {\n",
              "                    Plotly.newPlot(\n",
              "                        '0933997d-1b2b-4680-8d96-044391865046',\n",
              "                        [{\"marker\": {\"color\": \"rgb(128, 0, 128)\", \"line\": {\"color\": \"rgb(128, 0, 128)\", \"width\": 0.5}}, \"name\": \"Desktop\", \"orientation\": \"h\", \"type\": \"bar\", \"x\": [114, 69, 65, 30, 27, 19], \"xaxis\": \"x\", \"y\": [\"Unknown\", \"Search Engines\", \"external\", \"Social Network\", \"internal\", \"Typed/Bookmarked\"], \"yaxis\": \"y\"}, {\"marker\": {\"color\": \"rgba(50, 171, 96, 0.6)\", \"line\": {\"color\": \"rgba(50, 171, 96, 0.6)\", \"width\": 0.5}}, \"name\": \"Mobile Web\", \"orientation\": \"h\", \"type\": \"bar\", \"x\": [481, 358, 138, 84, 65, 19], \"xaxis\": \"x2\", \"y\": [\"Social Network\", \"Search Engines\", \"Unknown\", \"external\", \"Typed/Bookmarked\", \"internal\"], \"yaxis\": \"y2\"}],\n",
              "                        {\"height\": 650, \"legend\": {\"font\": {\"size\": 10}, \"x\": 1, \"y\": 1}, \"margin\": {\"b\": 70, \"l\": 100, \"r\": 20, \"t\": 70}, \"paper_bgcolor\": \"rgb(248, 248, 255)\", \"plot_bgcolor\": \"rgb(248, 248, 255)\", \"template\": {\"data\": {\"bar\": [{\"error_x\": {\"color\": \"#2a3f5f\"}, \"error_y\": {\"color\": \"#2a3f5f\"}, \"marker\": {\"line\": {\"color\": \"#E5ECF6\", \"width\": 0.5}}, \"type\": \"bar\"}], \"barpolar\": [{\"marker\": {\"line\": {\"color\": \"#E5ECF6\", \"width\": 0.5}}, \"type\": \"barpolar\"}], \"carpet\": [{\"aaxis\": {\"endlinecolor\": \"#2a3f5f\", \"gridcolor\": \"white\", \"linecolor\": \"white\", \"minorgridcolor\": \"white\", \"startlinecolor\": \"#2a3f5f\"}, \"baxis\": {\"endlinecolor\": \"#2a3f5f\", \"gridcolor\": \"white\", \"linecolor\": \"white\", \"minorgridcolor\": \"white\", \"startlinecolor\": \"#2a3f5f\"}, \"type\": \"carpet\"}], \"choropleth\": [{\"colorbar\": {\"outlinewidth\": 0, \"ticks\": \"\"}, \"type\": \"choropleth\"}], \"contour\": [{\"colorbar\": {\"outlinewidth\": 0, \"ticks\": \"\"}, \"colorscale\": [[0.0, \"#0d0887\"], [0.1111111111111111, \"#46039f\"], [0.2222222222222222, \"#7201a8\"], [0.3333333333333333, \"#9c179e\"], [0.4444444444444444, \"#bd3786\"], [0.5555555555555556, \"#d8576b\"], [0.6666666666666666, \"#ed7953\"], [0.7777777777777778, \"#fb9f3a\"], [0.8888888888888888, \"#fdca26\"], [1.0, \"#f0f921\"]], \"type\": \"contour\"}], \"contourcarpet\": [{\"colorbar\": {\"outlinewidth\": 0, \"ticks\": \"\"}, \"type\": \"contourcarpet\"}], \"heatmap\": [{\"colorbar\": {\"outlinewidth\": 0, \"ticks\": \"\"}, \"colorscale\": [[0.0, \"#0d0887\"], [0.1111111111111111, \"#46039f\"], [0.2222222222222222, \"#7201a8\"], [0.3333333333333333, \"#9c179e\"], [0.4444444444444444, \"#bd3786\"], [0.5555555555555556, \"#d8576b\"], [0.6666666666666666, \"#ed7953\"], [0.7777777777777778, \"#fb9f3a\"], [0.8888888888888888, \"#fdca26\"], [1.0, \"#f0f921\"]], \"type\": \"heatmap\"}], \"heatmapgl\": [{\"colorbar\": {\"outlinewidth\": 0, \"ticks\": \"\"}, \"colorscale\": [[0.0, \"#0d0887\"], [0.1111111111111111, \"#46039f\"], [0.2222222222222222, \"#7201a8\"], [0.3333333333333333, \"#9c179e\"], [0.4444444444444444, \"#bd3786\"], [0.5555555555555556, \"#d8576b\"], [0.6666666666666666, \"#ed7953\"], [0.7777777777777778, \"#fb9f3a\"], [0.8888888888888888, \"#fdca26\"], [1.0, \"#f0f921\"]], \"type\": \"heatmapgl\"}], \"histogram\": [{\"marker\": {\"colorbar\": {\"outlinewidth\": 0, \"ticks\": \"\"}}, \"type\": \"histogram\"}], \"histogram2d\": [{\"colorbar\": {\"outlinewidth\": 0, \"ticks\": \"\"}, \"colorscale\": [[0.0, \"#0d0887\"], [0.1111111111111111, \"#46039f\"], [0.2222222222222222, \"#7201a8\"], [0.3333333333333333, \"#9c179e\"], [0.4444444444444444, \"#bd3786\"], [0.5555555555555556, \"#d8576b\"], [0.6666666666666666, \"#ed7953\"], [0.7777777777777778, \"#fb9f3a\"], [0.8888888888888888, \"#fdca26\"], [1.0, \"#f0f921\"]], \"type\": \"histogram2d\"}], \"histogram2dcontour\": [{\"colorbar\": {\"outlinewidth\": 0, \"ticks\": \"\"}, \"colorscale\": [[0.0, \"#0d0887\"], [0.1111111111111111, \"#46039f\"], [0.2222222222222222, \"#7201a8\"], [0.3333333333333333, \"#9c179e\"], [0.4444444444444444, \"#bd3786\"], [0.5555555555555556, \"#d8576b\"], [0.6666666666666666, \"#ed7953\"], [0.7777777777777778, \"#fb9f3a\"], [0.8888888888888888, \"#fdca26\"], [1.0, \"#f0f921\"]], \"type\": \"histogram2dcontour\"}], \"mesh3d\": [{\"colorbar\": {\"outlinewidth\": 0, \"ticks\": \"\"}, \"type\": \"mesh3d\"}], \"parcoords\": [{\"line\": {\"colorbar\": {\"outlinewidth\": 0, \"ticks\": \"\"}}, \"type\": \"parcoords\"}], \"pie\": [{\"automargin\": true, \"type\": \"pie\"}], \"scatter\": [{\"marker\": {\"colorbar\": {\"outlinewidth\": 0, \"ticks\": \"\"}}, \"type\": \"scatter\"}], \"scatter3d\": [{\"line\": {\"colorbar\": {\"outlinewidth\": 0, \"ticks\": \"\"}}, \"marker\": {\"colorbar\": {\"outlinewidth\": 0, \"ticks\": \"\"}}, \"type\": \"scatter3d\"}], \"scattercarpet\": [{\"marker\": {\"colorbar\": {\"outlinewidth\": 0, \"ticks\": \"\"}}, \"type\": \"scattercarpet\"}], \"scattergeo\": [{\"marker\": {\"colorbar\": {\"outlinewidth\": 0, \"ticks\": \"\"}}, \"type\": \"scattergeo\"}], \"scattergl\": [{\"marker\": {\"colorbar\": {\"outlinewidth\": 0, \"ticks\": \"\"}}, \"type\": \"scattergl\"}], \"scattermapbox\": [{\"marker\": {\"colorbar\": {\"outlinewidth\": 0, \"ticks\": \"\"}}, \"type\": \"scattermapbox\"}], \"scatterpolar\": [{\"marker\": {\"colorbar\": {\"outlinewidth\": 0, \"ticks\": \"\"}}, \"type\": \"scatterpolar\"}], \"scatterpolargl\": [{\"marker\": {\"colorbar\": {\"outlinewidth\": 0, \"ticks\": \"\"}}, \"type\": \"scatterpolargl\"}], \"scatterternary\": [{\"marker\": {\"colorbar\": {\"outlinewidth\": 0, \"ticks\": \"\"}}, \"type\": \"scatterternary\"}], \"surface\": [{\"colorbar\": {\"outlinewidth\": 0, \"ticks\": \"\"}, \"colorscale\": [[0.0, \"#0d0887\"], [0.1111111111111111, \"#46039f\"], [0.2222222222222222, \"#7201a8\"], [0.3333333333333333, \"#9c179e\"], [0.4444444444444444, \"#bd3786\"], [0.5555555555555556, \"#d8576b\"], [0.6666666666666666, \"#ed7953\"], [0.7777777777777778, \"#fb9f3a\"], [0.8888888888888888, \"#fdca26\"], [1.0, \"#f0f921\"]], \"type\": \"surface\"}], \"table\": [{\"cells\": {\"fill\": {\"color\": \"#EBF0F8\"}, \"line\": {\"color\": \"white\"}}, \"header\": {\"fill\": {\"color\": \"#C8D4E3\"}, \"line\": {\"color\": \"white\"}}, \"type\": \"table\"}]}, \"layout\": {\"annotationdefaults\": {\"arrowcolor\": \"#2a3f5f\", \"arrowhead\": 0, \"arrowwidth\": 1}, \"coloraxis\": {\"colorbar\": {\"outlinewidth\": 0, \"ticks\": \"\"}}, \"colorscale\": {\"diverging\": [[0, \"#8e0152\"], [0.1, \"#c51b7d\"], [0.2, \"#de77ae\"], [0.3, \"#f1b6da\"], [0.4, \"#fde0ef\"], [0.5, \"#f7f7f7\"], [0.6, \"#e6f5d0\"], [0.7, \"#b8e186\"], [0.8, \"#7fbc41\"], [0.9, \"#4d9221\"], [1, \"#276419\"]], \"sequential\": [[0.0, \"#0d0887\"], [0.1111111111111111, \"#46039f\"], [0.2222222222222222, \"#7201a8\"], [0.3333333333333333, \"#9c179e\"], [0.4444444444444444, \"#bd3786\"], [0.5555555555555556, \"#d8576b\"], [0.6666666666666666, \"#ed7953\"], [0.7777777777777778, \"#fb9f3a\"], [0.8888888888888888, \"#fdca26\"], [1.0, \"#f0f921\"]], \"sequentialminus\": [[0.0, \"#0d0887\"], [0.1111111111111111, \"#46039f\"], [0.2222222222222222, \"#7201a8\"], [0.3333333333333333, \"#9c179e\"], [0.4444444444444444, \"#bd3786\"], [0.5555555555555556, \"#d8576b\"], [0.6666666666666666, \"#ed7953\"], [0.7777777777777778, \"#fb9f3a\"], [0.8888888888888888, \"#fdca26\"], [1.0, \"#f0f921\"]]}, \"colorway\": [\"#636efa\", \"#EF553B\", \"#00cc96\", \"#ab63fa\", \"#FFA15A\", \"#19d3f3\", \"#FF6692\", \"#B6E880\", \"#FF97FF\", \"#FECB52\"], \"font\": {\"color\": \"#2a3f5f\"}, \"geo\": {\"bgcolor\": \"white\", \"lakecolor\": \"white\", \"landcolor\": \"#E5ECF6\", \"showlakes\": true, \"showland\": true, \"subunitcolor\": \"white\"}, \"hoverlabel\": {\"align\": \"left\"}, \"hovermode\": \"closest\", \"mapbox\": {\"style\": \"light\"}, \"paper_bgcolor\": \"white\", \"plot_bgcolor\": \"#E5ECF6\", \"polar\": {\"angularaxis\": {\"gridcolor\": \"white\", \"linecolor\": \"white\", \"ticks\": \"\"}, \"bgcolor\": \"#E5ECF6\", \"radialaxis\": {\"gridcolor\": \"white\", \"linecolor\": \"white\", \"ticks\": \"\"}}, \"scene\": {\"xaxis\": {\"backgroundcolor\": \"#E5ECF6\", \"gridcolor\": \"white\", \"gridwidth\": 2, \"linecolor\": \"white\", \"showbackground\": true, \"ticks\": \"\", \"zerolinecolor\": \"white\"}, \"yaxis\": {\"backgroundcolor\": \"#E5ECF6\", \"gridcolor\": \"white\", \"gridwidth\": 2, \"linecolor\": \"white\", \"showbackground\": true, \"ticks\": \"\", \"zerolinecolor\": \"white\"}, \"zaxis\": {\"backgroundcolor\": \"#E5ECF6\", \"gridcolor\": \"white\", \"gridwidth\": 2, \"linecolor\": \"white\", \"showbackground\": true, \"ticks\": \"\", \"zerolinecolor\": \"white\"}}, \"shapedefaults\": {\"line\": {\"color\": \"#2a3f5f\"}}, \"ternary\": {\"aaxis\": {\"gridcolor\": \"white\", \"linecolor\": \"white\", \"ticks\": \"\"}, \"baxis\": {\"gridcolor\": \"white\", \"linecolor\": \"white\", \"ticks\": \"\"}, \"bgcolor\": \"#E5ECF6\", \"caxis\": {\"gridcolor\": \"white\", \"linecolor\": \"white\", \"ticks\": \"\"}}, \"title\": {\"x\": 0.05}, \"xaxis\": {\"automargin\": true, \"gridcolor\": \"white\", \"linecolor\": \"white\", \"ticks\": \"\", \"title\": {\"standoff\": 15}, \"zerolinecolor\": \"white\", \"zerolinewidth\": 2}, \"yaxis\": {\"automargin\": true, \"gridcolor\": \"white\", \"linecolor\": \"white\", \"ticks\": \"\", \"title\": {\"standoff\": 15}, \"zerolinecolor\": \"white\", \"zerolinewidth\": 2}}}, \"title\": {\"text\": \"Count of Pageviews per subscriber status\"}, \"width\": 650, \"xaxis\": {\"anchor\": \"y\", \"autorange\": false, \"domain\": [0.0, 0.45], \"dtick\": 50, \"range\": [0, 500], \"title\": {\"text\": \"\"}}, \"xaxis2\": {\"anchor\": \"y2\", \"autorange\": false, \"domain\": [0.55, 1.0], \"dtick\": 50, \"range\": [0, 500], \"title\": {\"text\": \"\"}}, \"yaxis\": {\"anchor\": \"x\", \"domain\": [0.0, 1.0]}, \"yaxis2\": {\"anchor\": \"x2\", \"domain\": [0.0, 1.0], \"matches\": \"y\", \"showticklabels\": false}},\n",
              "                        {\"responsive\": true}\n",
              "                    ).then(function(){\n",
              "                            \n",
              "var gd = document.getElementById('0933997d-1b2b-4680-8d96-044391865046');\n",
              "var x = new MutationObserver(function (mutations, observer) {{\n",
              "        var display = window.getComputedStyle(gd).display;\n",
              "        if (!display || display === 'none') {{\n",
              "            console.log([gd, 'removed!']);\n",
              "            Plotly.purge(gd);\n",
              "            observer.disconnect();\n",
              "        }}\n",
              "}});\n",
              "\n",
              "// Listen for the removal of the full notebook cells\n",
              "var notebookContainer = gd.closest('#notebook-container');\n",
              "if (notebookContainer) {{\n",
              "    x.observe(notebookContainer, {childList: true});\n",
              "}}\n",
              "\n",
              "// Listen for the clearing of the current output cell\n",
              "var outputEl = gd.closest('.output');\n",
              "if (outputEl) {{\n",
              "    x.observe(outputEl, {childList: true});\n",
              "}}\n",
              "\n",
              "                        })\n",
              "                };\n",
              "                \n",
              "            </script>\n",
              "        </div>\n",
              "</body>\n",
              "</html>"
            ]
          },
          "metadata": {}
        }
      ]
    },
    {
      "cell_type": "code",
      "metadata": {
        "id": "ljlum_sxpVMm"
      },
      "source": [
        ""
      ],
      "execution_count": null,
      "outputs": []
    }
  ]
}