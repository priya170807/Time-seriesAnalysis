{
  "nbformat": 4,
  "nbformat_minor": 0,
  "metadata": {
    "colab": {
      "name": "power_consumption_directforecasting.ipynb",
      "provenance": [],
      "collapsed_sections": [],
      "authorship_tag": "ABX9TyPyoC9V/She4MJWMbpA64xs"
    },
    "kernelspec": {
      "name": "python3",
      "display_name": "Python 3"
    }
  },
  "cells": [
    {
      "cell_type": "code",
      "metadata": {
        "id": "eJSWQgt3SsXb"
      },
      "source": [
        "# data preprocessing\n",
        "import pandas as pd\n",
        "import numpy as np\n",
        "import matplotlib.pyplot as plt\n",
        "import tensorflow as tf\n",
        "import datetime as dt\n",
        "from datetime import datetime\n",
        "import tensorflow.keras as keras\n",
        "from keras.callbacks import EarlyStopping, ReduceLROnPlateau, ModelCheckpoint, TensorBoard\n",
        "%matplotlib inline"
      ],
      "execution_count": 1,
      "outputs": []
    },
    {
      "cell_type": "code",
      "metadata": {
        "id": "NrUfzi5QSw5q"
      },
      "source": [
        "df = pd.read_csv('/content/sample_data/household_power_consumption.txt', \n",
        "                 parse_dates={'dt' : ['Date', 'Time']}, sep=\";\", infer_datetime_format=True, \n",
        "                 low_memory=False, na_values=['nan','?'], index_col='dt')"
      ],
      "execution_count": 12,
      "outputs": []
    },
    {
      "cell_type": "code",
      "metadata": {
        "id": "g0ofkVIwx6h_",
        "colab": {
          "base_uri": "https://localhost:8080/",
          "height": 237
        },
        "outputId": "b7b96ef4-b324-4cf1-c93f-aebf3d924fc2"
      },
      "source": [
        "df.head()"
      ],
      "execution_count": 13,
      "outputs": [
        {
          "output_type": "execute_result",
          "data": {
            "text/html": [
              "<div>\n",
              "<style scoped>\n",
              "    .dataframe tbody tr th:only-of-type {\n",
              "        vertical-align: middle;\n",
              "    }\n",
              "\n",
              "    .dataframe tbody tr th {\n",
              "        vertical-align: top;\n",
              "    }\n",
              "\n",
              "    .dataframe thead th {\n",
              "        text-align: right;\n",
              "    }\n",
              "</style>\n",
              "<table border=\"1\" class=\"dataframe\">\n",
              "  <thead>\n",
              "    <tr style=\"text-align: right;\">\n",
              "      <th></th>\n",
              "      <th>Global_active_power</th>\n",
              "      <th>Global_reactive_power</th>\n",
              "      <th>Voltage</th>\n",
              "      <th>Global_intensity</th>\n",
              "      <th>Sub_metering_1</th>\n",
              "      <th>Sub_metering_2</th>\n",
              "      <th>Sub_metering_3</th>\n",
              "    </tr>\n",
              "    <tr>\n",
              "      <th>dt</th>\n",
              "      <th></th>\n",
              "      <th></th>\n",
              "      <th></th>\n",
              "      <th></th>\n",
              "      <th></th>\n",
              "      <th></th>\n",
              "      <th></th>\n",
              "    </tr>\n",
              "  </thead>\n",
              "  <tbody>\n",
              "    <tr>\n",
              "      <th>2006-12-16 17:24:00</th>\n",
              "      <td>4.216</td>\n",
              "      <td>0.418</td>\n",
              "      <td>234.84</td>\n",
              "      <td>18.4</td>\n",
              "      <td>0.0</td>\n",
              "      <td>1.0</td>\n",
              "      <td>17.0</td>\n",
              "    </tr>\n",
              "    <tr>\n",
              "      <th>2006-12-16 17:25:00</th>\n",
              "      <td>5.360</td>\n",
              "      <td>0.436</td>\n",
              "      <td>233.63</td>\n",
              "      <td>23.0</td>\n",
              "      <td>0.0</td>\n",
              "      <td>1.0</td>\n",
              "      <td>16.0</td>\n",
              "    </tr>\n",
              "    <tr>\n",
              "      <th>2006-12-16 17:26:00</th>\n",
              "      <td>5.374</td>\n",
              "      <td>0.498</td>\n",
              "      <td>233.29</td>\n",
              "      <td>23.0</td>\n",
              "      <td>0.0</td>\n",
              "      <td>2.0</td>\n",
              "      <td>17.0</td>\n",
              "    </tr>\n",
              "    <tr>\n",
              "      <th>2006-12-16 17:27:00</th>\n",
              "      <td>5.388</td>\n",
              "      <td>0.502</td>\n",
              "      <td>233.74</td>\n",
              "      <td>23.0</td>\n",
              "      <td>0.0</td>\n",
              "      <td>1.0</td>\n",
              "      <td>17.0</td>\n",
              "    </tr>\n",
              "    <tr>\n",
              "      <th>2006-12-16 17:28:00</th>\n",
              "      <td>3.666</td>\n",
              "      <td>0.528</td>\n",
              "      <td>235.68</td>\n",
              "      <td>15.8</td>\n",
              "      <td>0.0</td>\n",
              "      <td>1.0</td>\n",
              "      <td>17.0</td>\n",
              "    </tr>\n",
              "  </tbody>\n",
              "</table>\n",
              "</div>"
            ],
            "text/plain": [
              "                     Global_active_power  ...  Sub_metering_3\n",
              "dt                                        ...                \n",
              "2006-12-16 17:24:00                4.216  ...            17.0\n",
              "2006-12-16 17:25:00                5.360  ...            16.0\n",
              "2006-12-16 17:26:00                5.374  ...            17.0\n",
              "2006-12-16 17:27:00                5.388  ...            17.0\n",
              "2006-12-16 17:28:00                3.666  ...            17.0\n",
              "\n",
              "[5 rows x 7 columns]"
            ]
          },
          "metadata": {
            "tags": []
          },
          "execution_count": 13
        }
      ]
    },
    {
      "cell_type": "code",
      "metadata": {
        "id": "eetuPHNKx-Kf",
        "colab": {
          "base_uri": "https://localhost:8080/"
        },
        "outputId": "e92b3334-23f4-4941-e996-59e013045348"
      },
      "source": [
        "df.info()"
      ],
      "execution_count": 14,
      "outputs": [
        {
          "output_type": "stream",
          "text": [
            "<class 'pandas.core.frame.DataFrame'>\n",
            "DatetimeIndex: 2075259 entries, 2006-12-16 17:24:00 to 2010-11-26 21:02:00\n",
            "Data columns (total 7 columns):\n",
            " #   Column                 Dtype  \n",
            "---  ------                 -----  \n",
            " 0   Global_active_power    float64\n",
            " 1   Global_reactive_power  float64\n",
            " 2   Voltage                float64\n",
            " 3   Global_intensity       float64\n",
            " 4   Sub_metering_1         float64\n",
            " 5   Sub_metering_2         float64\n",
            " 6   Sub_metering_3         float64\n",
            "dtypes: float64(7)\n",
            "memory usage: 126.7 MB\n"
          ],
          "name": "stdout"
        }
      ]
    },
    {
      "cell_type": "code",
      "metadata": {
        "id": "gWj75bL-yIG9",
        "colab": {
          "base_uri": "https://localhost:8080/"
        },
        "outputId": "d3f46b08-44ae-45b2-ca18-6a8ee8fdbf0d"
      },
      "source": [
        "df.shape"
      ],
      "execution_count": 15,
      "outputs": [
        {
          "output_type": "execute_result",
          "data": {
            "text/plain": [
              "(2075259, 7)"
            ]
          },
          "metadata": {
            "tags": []
          },
          "execution_count": 15
        }
      ]
    },
    {
      "cell_type": "code",
      "metadata": {
        "colab": {
          "base_uri": "https://localhost:8080/"
        },
        "id": "5Xl63YOBvKFu",
        "outputId": "b648b5dc-e9e8-46a8-ed23-69c0b88858f3"
      },
      "source": [
        "df.columns"
      ],
      "execution_count": 16,
      "outputs": [
        {
          "output_type": "execute_result",
          "data": {
            "text/plain": [
              "Index(['Global_active_power', 'Global_reactive_power', 'Voltage',\n",
              "       'Global_intensity', 'Sub_metering_1', 'Sub_metering_2',\n",
              "       'Sub_metering_3'],\n",
              "      dtype='object')"
            ]
          },
          "metadata": {
            "tags": []
          },
          "execution_count": 16
        }
      ]
    },
    {
      "cell_type": "code",
      "metadata": {
        "id": "lZ3WvdUyvvgk"
      },
      "source": [
        "# resampling so that the frequency becomes hourly and taking mean\r\n",
        "df = df.resample('H').mean()\r\n"
      ],
      "execution_count": 17,
      "outputs": []
    },
    {
      "cell_type": "code",
      "metadata": {
        "id": "ee6RYyEhy9Ke"
      },
      "source": [
        "# further resampling so that the frequency becomes daily and taking mean\r\n",
        "df = df.resample('D').mean()\r\n"
      ],
      "execution_count": 18,
      "outputs": []
    },
    {
      "cell_type": "code",
      "metadata": {
        "colab": {
          "base_uri": "https://localhost:8080/",
          "height": 237
        },
        "id": "qooMBdrvzD6G",
        "outputId": "bd1d9779-5333-4384-de3a-26ed2bc52f97"
      },
      "source": [
        "df.head()"
      ],
      "execution_count": 35,
      "outputs": [
        {
          "output_type": "execute_result",
          "data": {
            "text/html": [
              "<div>\n",
              "<style scoped>\n",
              "    .dataframe tbody tr th:only-of-type {\n",
              "        vertical-align: middle;\n",
              "    }\n",
              "\n",
              "    .dataframe tbody tr th {\n",
              "        vertical-align: top;\n",
              "    }\n",
              "\n",
              "    .dataframe thead th {\n",
              "        text-align: right;\n",
              "    }\n",
              "</style>\n",
              "<table border=\"1\" class=\"dataframe\">\n",
              "  <thead>\n",
              "    <tr style=\"text-align: right;\">\n",
              "      <th></th>\n",
              "      <th>Global_active_power</th>\n",
              "      <th>Global_reactive_power</th>\n",
              "      <th>Voltage</th>\n",
              "      <th>Global_intensity</th>\n",
              "      <th>Sub_metering_1</th>\n",
              "      <th>Sub_metering_2</th>\n",
              "      <th>Sub_metering_3</th>\n",
              "    </tr>\n",
              "    <tr>\n",
              "      <th>dt</th>\n",
              "      <th></th>\n",
              "      <th></th>\n",
              "      <th></th>\n",
              "      <th></th>\n",
              "      <th></th>\n",
              "      <th></th>\n",
              "      <th></th>\n",
              "    </tr>\n",
              "  </thead>\n",
              "  <tbody>\n",
              "    <tr>\n",
              "      <th>2006-12-16</th>\n",
              "      <td>3.120298</td>\n",
              "      <td>0.096233</td>\n",
              "      <td>236.152341</td>\n",
              "      <td>13.369524</td>\n",
              "      <td>0.000000</td>\n",
              "      <td>1.330159</td>\n",
              "      <td>12.692063</td>\n",
              "    </tr>\n",
              "    <tr>\n",
              "      <th>2006-12-17</th>\n",
              "      <td>2.354486</td>\n",
              "      <td>0.156949</td>\n",
              "      <td>240.087028</td>\n",
              "      <td>9.999028</td>\n",
              "      <td>1.411806</td>\n",
              "      <td>2.907639</td>\n",
              "      <td>9.264583</td>\n",
              "    </tr>\n",
              "    <tr>\n",
              "      <th>2006-12-18</th>\n",
              "      <td>1.530435</td>\n",
              "      <td>0.112356</td>\n",
              "      <td>241.231694</td>\n",
              "      <td>6.421667</td>\n",
              "      <td>0.738194</td>\n",
              "      <td>1.820139</td>\n",
              "      <td>9.734722</td>\n",
              "    </tr>\n",
              "    <tr>\n",
              "      <th>2006-12-19</th>\n",
              "      <td>1.157079</td>\n",
              "      <td>0.104821</td>\n",
              "      <td>241.999312</td>\n",
              "      <td>4.926389</td>\n",
              "      <td>0.582639</td>\n",
              "      <td>5.279167</td>\n",
              "      <td>4.303472</td>\n",
              "    </tr>\n",
              "    <tr>\n",
              "      <th>2006-12-20</th>\n",
              "      <td>1.545658</td>\n",
              "      <td>0.111804</td>\n",
              "      <td>242.308062</td>\n",
              "      <td>6.467361</td>\n",
              "      <td>0.000000</td>\n",
              "      <td>1.838889</td>\n",
              "      <td>9.765972</td>\n",
              "    </tr>\n",
              "  </tbody>\n",
              "</table>\n",
              "</div>"
            ],
            "text/plain": [
              "            Global_active_power  ...  Sub_metering_3\n",
              "dt                               ...                \n",
              "2006-12-16             3.120298  ...       12.692063\n",
              "2006-12-17             2.354486  ...        9.264583\n",
              "2006-12-18             1.530435  ...        9.734722\n",
              "2006-12-19             1.157079  ...        4.303472\n",
              "2006-12-20             1.545658  ...        9.765972\n",
              "\n",
              "[5 rows x 7 columns]"
            ]
          },
          "metadata": {
            "tags": []
          },
          "execution_count": 35
        }
      ]
    },
    {
      "cell_type": "code",
      "metadata": {
        "colab": {
          "base_uri": "https://localhost:8080/"
        },
        "id": "bEvYyNYLzIcc",
        "outputId": "7ccad7e9-aeeb-4b7d-e27a-1d425ba7cfdc"
      },
      "source": [
        "len(df)"
      ],
      "execution_count": 36,
      "outputs": [
        {
          "output_type": "execute_result",
          "data": {
            "text/plain": [
              "1442"
            ]
          },
          "metadata": {
            "tags": []
          },
          "execution_count": 36
        }
      ]
    },
    {
      "cell_type": "code",
      "metadata": {
        "id": "OcUhptZuzo-U"
      },
      "source": [
        "dataset_train_actual = df.copy()"
      ],
      "execution_count": 111,
      "outputs": []
    },
    {
      "cell_type": "code",
      "metadata": {
        "colab": {
          "base_uri": "https://localhost:8080/"
        },
        "id": "rYh02oYI5n_3",
        "outputId": "7a125400-7386-4158-aeb9-3b62dfc8392b"
      },
      "source": [
        "dataset_train_actual.isnull().sum()"
      ],
      "execution_count": 112,
      "outputs": [
        {
          "output_type": "execute_result",
          "data": {
            "text/plain": [
              "Global_active_power      9\n",
              "Global_reactive_power    9\n",
              "Voltage                  9\n",
              "Global_intensity         9\n",
              "Sub_metering_1           9\n",
              "Sub_metering_2           9\n",
              "Sub_metering_3           9\n",
              "dtype: int64"
            ]
          },
          "metadata": {
            "tags": []
          },
          "execution_count": 112
        }
      ]
    },
    {
      "cell_type": "code",
      "metadata": {
        "id": "YiT10_206XuT"
      },
      "source": [
        "dataset_train_actual = dataset_train_actual.fillna(dataset_train_actual.mean())"
      ],
      "execution_count": 113,
      "outputs": []
    },
    {
      "cell_type": "code",
      "metadata": {
        "id": "BMm5Ma6xzwzE"
      },
      "source": [
        "dataset_train_actual = dataset_train_actual.reset_index()"
      ],
      "execution_count": 114,
      "outputs": []
    },
    {
      "cell_type": "code",
      "metadata": {
        "colab": {
          "base_uri": "https://localhost:8080/"
        },
        "id": "08SgL1Cf6h10",
        "outputId": "06bf7ba6-3ede-40c9-c4f7-aec22b4cb580"
      },
      "source": [
        "dataset_train_actual.isnull().sum()"
      ],
      "execution_count": 115,
      "outputs": [
        {
          "output_type": "execute_result",
          "data": {
            "text/plain": [
              "dt                       0\n",
              "Global_active_power      0\n",
              "Global_reactive_power    0\n",
              "Voltage                  0\n",
              "Global_intensity         0\n",
              "Sub_metering_1           0\n",
              "Sub_metering_2           0\n",
              "Sub_metering_3           0\n",
              "dtype: int64"
            ]
          },
          "metadata": {
            "tags": []
          },
          "execution_count": 115
        }
      ]
    },
    {
      "cell_type": "code",
      "metadata": {
        "colab": {
          "base_uri": "https://localhost:8080/",
          "height": 206
        },
        "id": "GoqRHTjM1NeM",
        "outputId": "b0f57f60-bd21-4cbd-f703-a666ef325bd2"
      },
      "source": [
        "dataset_train_actual.head()"
      ],
      "execution_count": 116,
      "outputs": [
        {
          "output_type": "execute_result",
          "data": {
            "text/html": [
              "<div>\n",
              "<style scoped>\n",
              "    .dataframe tbody tr th:only-of-type {\n",
              "        vertical-align: middle;\n",
              "    }\n",
              "\n",
              "    .dataframe tbody tr th {\n",
              "        vertical-align: top;\n",
              "    }\n",
              "\n",
              "    .dataframe thead th {\n",
              "        text-align: right;\n",
              "    }\n",
              "</style>\n",
              "<table border=\"1\" class=\"dataframe\">\n",
              "  <thead>\n",
              "    <tr style=\"text-align: right;\">\n",
              "      <th></th>\n",
              "      <th>dt</th>\n",
              "      <th>Global_active_power</th>\n",
              "      <th>Global_reactive_power</th>\n",
              "      <th>Voltage</th>\n",
              "      <th>Global_intensity</th>\n",
              "      <th>Sub_metering_1</th>\n",
              "      <th>Sub_metering_2</th>\n",
              "      <th>Sub_metering_3</th>\n",
              "    </tr>\n",
              "  </thead>\n",
              "  <tbody>\n",
              "    <tr>\n",
              "      <th>0</th>\n",
              "      <td>2006-12-16</td>\n",
              "      <td>3.120298</td>\n",
              "      <td>0.096233</td>\n",
              "      <td>236.152341</td>\n",
              "      <td>13.369524</td>\n",
              "      <td>0.000000</td>\n",
              "      <td>1.330159</td>\n",
              "      <td>12.692063</td>\n",
              "    </tr>\n",
              "    <tr>\n",
              "      <th>1</th>\n",
              "      <td>2006-12-17</td>\n",
              "      <td>2.354486</td>\n",
              "      <td>0.156949</td>\n",
              "      <td>240.087028</td>\n",
              "      <td>9.999028</td>\n",
              "      <td>1.411806</td>\n",
              "      <td>2.907639</td>\n",
              "      <td>9.264583</td>\n",
              "    </tr>\n",
              "    <tr>\n",
              "      <th>2</th>\n",
              "      <td>2006-12-18</td>\n",
              "      <td>1.530435</td>\n",
              "      <td>0.112356</td>\n",
              "      <td>241.231694</td>\n",
              "      <td>6.421667</td>\n",
              "      <td>0.738194</td>\n",
              "      <td>1.820139</td>\n",
              "      <td>9.734722</td>\n",
              "    </tr>\n",
              "    <tr>\n",
              "      <th>3</th>\n",
              "      <td>2006-12-19</td>\n",
              "      <td>1.157079</td>\n",
              "      <td>0.104821</td>\n",
              "      <td>241.999312</td>\n",
              "      <td>4.926389</td>\n",
              "      <td>0.582639</td>\n",
              "      <td>5.279167</td>\n",
              "      <td>4.303472</td>\n",
              "    </tr>\n",
              "    <tr>\n",
              "      <th>4</th>\n",
              "      <td>2006-12-20</td>\n",
              "      <td>1.545658</td>\n",
              "      <td>0.111804</td>\n",
              "      <td>242.308062</td>\n",
              "      <td>6.467361</td>\n",
              "      <td>0.000000</td>\n",
              "      <td>1.838889</td>\n",
              "      <td>9.765972</td>\n",
              "    </tr>\n",
              "  </tbody>\n",
              "</table>\n",
              "</div>"
            ],
            "text/plain": [
              "          dt  Global_active_power  ...  Sub_metering_2  Sub_metering_3\n",
              "0 2006-12-16             3.120298  ...        1.330159       12.692063\n",
              "1 2006-12-17             2.354486  ...        2.907639        9.264583\n",
              "2 2006-12-18             1.530435  ...        1.820139        9.734722\n",
              "3 2006-12-19             1.157079  ...        5.279167        4.303472\n",
              "4 2006-12-20             1.545658  ...        1.838889        9.765972\n",
              "\n",
              "[5 rows x 8 columns]"
            ]
          },
          "metadata": {
            "tags": []
          },
          "execution_count": 116
        }
      ]
    },
    {
      "cell_type": "code",
      "metadata": {
        "colab": {
          "base_uri": "https://localhost:8080/"
        },
        "id": "ClKuGgc3Dtus",
        "outputId": "ed8e35a7-0ed0-4633-f2fa-60ad3fd349c2"
      },
      "source": [
        "dataset_train_actual.info()"
      ],
      "execution_count": 117,
      "outputs": [
        {
          "output_type": "stream",
          "text": [
            "<class 'pandas.core.frame.DataFrame'>\n",
            "RangeIndex: 1442 entries, 0 to 1441\n",
            "Data columns (total 8 columns):\n",
            " #   Column                 Non-Null Count  Dtype         \n",
            "---  ------                 --------------  -----         \n",
            " 0   dt                     1442 non-null   datetime64[ns]\n",
            " 1   Global_active_power    1442 non-null   float64       \n",
            " 2   Global_reactive_power  1442 non-null   float64       \n",
            " 3   Voltage                1442 non-null   float64       \n",
            " 4   Global_intensity       1442 non-null   float64       \n",
            " 5   Sub_metering_1         1442 non-null   float64       \n",
            " 6   Sub_metering_2         1442 non-null   float64       \n",
            " 7   Sub_metering_3         1442 non-null   float64       \n",
            "dtypes: datetime64[ns](1), float64(7)\n",
            "memory usage: 90.2 KB\n"
          ],
          "name": "stdout"
        }
      ]
    },
    {
      "cell_type": "code",
      "metadata": {
        "id": "l89n5qS5LNGz"
      },
      "source": [
        "dataset_train_timeindex = dataset_train_actual.set_index('dt')"
      ],
      "execution_count": null,
      "outputs": []
    },
    {
      "cell_type": "markdown",
      "metadata": {
        "id": "zqdN5g5N0XX7"
      },
      "source": [
        "Step #1. Read data"
      ]
    },
    {
      "cell_type": "code",
      "metadata": {
        "id": "4mKAdIS6Ka3k"
      },
      "source": [
        "dataset_train = dataset_train_actual.copy()"
      ],
      "execution_count": 118,
      "outputs": []
    },
    {
      "cell_type": "code",
      "metadata": {
        "id": "Te9qjGB_yWYv",
        "colab": {
          "base_uri": "https://localhost:8080/"
        },
        "outputId": "fbe690e6-2d00-4598-ed0c-c20d9ca87e77"
      },
      "source": [
        "\r\n",
        "# Select features (columns) to be involved intro training and predictions\r\n",
        "cols = list(dataset_train)[2:8]\r\n",
        "\r\n",
        "# Extract dates (will be used in visualization)\r\n",
        "datelist_train = list(dataset_train['dt'])\r\n",
        "datelist_train = [date for date in datelist_train]\r\n",
        "\r\n",
        "print('Training set shape == {}'.format(dataset_train.shape))\r\n",
        "print('All timestamps == {}'.format(len(datelist_train)))\r\n",
        "print('Featured selected: {}'.format(cols))"
      ],
      "execution_count": 119,
      "outputs": [
        {
          "output_type": "stream",
          "text": [
            "Training set shape == (1442, 8)\n",
            "All timestamps == 1442\n",
            "Featured selected: ['Global_reactive_power', 'Voltage', 'Global_intensity', 'Sub_metering_1', 'Sub_metering_2', 'Sub_metering_3']\n"
          ],
          "name": "stdout"
        }
      ]
    },
    {
      "cell_type": "markdown",
      "metadata": {
        "id": "CWdR-jOu0UMV"
      },
      "source": [
        "\r\n",
        "\r\n",
        "Step #2. Data pre-processing\r\n",
        "\r\n",
        "Removing all commas and convert data to matrix shape format.\r\n"
      ]
    },
    {
      "cell_type": "code",
      "metadata": {
        "colab": {
          "base_uri": "https://localhost:8080/"
        },
        "id": "3xj-gusE0Q9X",
        "outputId": "26823471-f432-4e1b-99ab-343acef0039e"
      },
      "source": [
        "dataset_train = dataset_train[cols].astype(str)\r\n",
        "for i in cols:\r\n",
        "    for j in range(0, len(dataset_train)):\r\n",
        "        dataset_train[i][j] = dataset_train[i][j].replace(',', '')\r\n",
        "\r\n",
        "dataset_train = dataset_train.astype(float)\r\n",
        "\r\n",
        "# Using multiple features (predictors)\r\n",
        "training_set = dataset_train.values\r\n",
        "\r\n",
        "print('Shape of training set == {}.'.format(training_set.shape))\r\n",
        "training_set"
      ],
      "execution_count": 75,
      "outputs": [
        {
          "output_type": "stream",
          "text": [
            "Shape of training set == (1442, 7).\n"
          ],
          "name": "stdout"
        },
        {
          "output_type": "execute_result",
          "data": {
            "text/plain": [
              "array([[3.12029841e+00, 9.62333333e-02, 2.36152341e+02, ...,\n",
              "        0.00000000e+00, 1.33015873e+00, 1.26920635e+01],\n",
              "       [2.35448611e+00, 1.56948611e-01, 2.40087028e+02, ...,\n",
              "        1.41180556e+00, 2.90763889e+00, 9.26458333e+00],\n",
              "       [1.53043472e+00, 1.12355556e-01, 2.41231694e+02, ...,\n",
              "        7.38194444e-01, 1.82013889e+00, 9.73472222e+00],\n",
              "       ...,\n",
              "       [1.24739444e+00, 9.19861111e-02, 2.40030965e+02, ...,\n",
              "        7.61111111e-01, 1.97777778e+00, 8.48888889e+00],\n",
              "       [9.93863889e-01, 8.06444444e-02, 2.41536257e+02, ...,\n",
              "        7.47222222e-01, 2.95833333e-01, 3.52222222e+00],\n",
              "       [1.16771212e+00, 9.15348485e-02, 2.40265076e+02, ...,\n",
              "        8.18181818e-01, 2.91666667e-01, 7.56742424e+00]])"
            ]
          },
          "metadata": {
            "tags": []
          },
          "execution_count": 75
        }
      ]
    },
    {
      "cell_type": "code",
      "metadata": {
        "colab": {
          "base_uri": "https://localhost:8080/"
        },
        "id": "3QVdOUSV0buc",
        "outputId": "9e82b941-42c0-4464-9a05-97b057f28208"
      },
      "source": [
        "# Feature Scaling\r\n",
        "from sklearn.preprocessing import StandardScaler\r\n",
        "\r\n",
        "sc = StandardScaler()\r\n",
        "training_set_scaled = sc.fit_transform(training_set)\r\n",
        "\r\n",
        "sc_predict = StandardScaler()\r\n",
        "sc_predict.fit_transform(training_set[:, 0:1])"
      ],
      "execution_count": 76,
      "outputs": [
        {
          "output_type": "execute_result",
          "data": {
            "text/plain": [
              "array([[ 4.83789162],\n",
              "       [ 3.01106956],\n",
              "       [ 1.04531992],\n",
              "       ...,\n",
              "       [ 0.37013591],\n",
              "       [-0.23465356],\n",
              "       [ 0.18005614]])"
            ]
          },
          "metadata": {
            "tags": []
          },
          "execution_count": 76
        }
      ]
    },
    {
      "cell_type": "code",
      "metadata": {
        "colab": {
          "base_uri": "https://localhost:8080/"
        },
        "id": "9TZiHMrk0zkU",
        "outputId": "adc8b7aa-4afa-400d-fef4-c43ad0c6e0f6"
      },
      "source": [
        "# Creating a data structure with 72 timestamps and 1 output\r\n",
        "X_train = []\r\n",
        "y_train = []\r\n",
        "\r\n",
        "n_future = 30   # Number of days we want top predict into the future\r\n",
        "n_past = 72     # Number of past days we want to use to predict the future\r\n",
        "\r\n",
        "for i in range(n_past, len(training_set_scaled) - n_future +1):\r\n",
        "    X_train.append(training_set_scaled[i - n_past:i, 0:dataset_train.shape[1]])\r\n",
        "    y_train.append(training_set_scaled[i + n_future - 1:i + n_future, 0])\r\n",
        "\r\n",
        "X_train, y_train = np.array(X_train), np.array(y_train)\r\n",
        "\r\n",
        "print('X_train shape == {}.'.format(X_train.shape))\r\n",
        "print('y_train shape == {}.'.format(y_train.shape))"
      ],
      "execution_count": 77,
      "outputs": [
        {
          "output_type": "stream",
          "text": [
            "X_train shape == (1341, 72, 7).\n",
            "y_train shape == (1341, 1).\n"
          ],
          "name": "stdout"
        }
      ]
    },
    {
      "cell_type": "markdown",
      "metadata": {
        "id": "4jvxshV_24gE"
      },
      "source": [
        "\r\n",
        "PART 2. Create a model. Training\r\n",
        "Step #3. Building the LSTM based Neural Network\r\n"
      ]
    },
    {
      "cell_type": "code",
      "metadata": {
        "id": "BVXc6qfQ15sk"
      },
      "source": [
        "model = tf.keras.models.Sequential([\r\n",
        "  tf.keras.layers.Conv1D(filters=32, kernel_size=3,\r\n",
        "                      strides=1, padding=\"causal\",\r\n",
        "                      activation=\"relu\",\r\n",
        "                      input_shape=[None, 7]),\r\n",
        "  tf.keras.layers.Bidirectional(tf.keras.layers.LSTM(32, return_sequences=True)),\r\n",
        "  #tf.keras.layers.LSTM(128),\r\n",
        "  tf.keras.layers.Bidirectional(tf.keras.layers.LSTM(32, return_sequences=False)),\r\n",
        "  #tf.keras.layers.Dropout(0.1),\r\n",
        "  tf.keras.layers.Dense(1),\r\n",
        "  # tf.keras.layers.Dense(3,kernel_initializer=tf.initializers.zeros),\r\n",
        "  tf.keras.layers.Lambda(lambda x: x * 200),\r\n",
        "  #tf.keras.layers.Reshape([24, 3])\r\n",
        "])\r\n",
        "# lr_schedule = tf.keras.callbacks.LearningRateScheduler(\r\n",
        "#     lambda epoch: 1e-8 * 10**(epoch / 20))\r\n",
        "optimizer = tf.keras.optimizers.SGD(lr=1e-5, momentum=0.9)\r\n",
        "model.compile(loss=tf.keras.losses.Huber(),\r\n",
        "              optimizer=optimizer,\r\n",
        "              metrics=[\"mse\"])\r\n",
        "\r\n"
      ],
      "execution_count": 91,
      "outputs": []
    },
    {
      "cell_type": "code",
      "metadata": {
        "id": "fzDOrcIB5AmU"
      },
      "source": [
        "\r\n",
        "\r\n",
        "# %%time\r\n",
        "# es = EarlyStopping(monitor='val_loss', min_delta=1e-10, patience=10, verbose=1)\r\n",
        "# rlr = ReduceLROnPlateau(monitor='val_loss', factor=0.5, patience=10, verbose=1)\r\n",
        "# mcp = ModelCheckpoint(filepath='weights.h5', monitor='val_loss', verbose=1, save_best_only=True, save_weights_only=True)\r\n",
        "\r\n",
        "# tb = TensorBoard('logs')"
      ],
      "execution_count": 92,
      "outputs": []
    },
    {
      "cell_type": "code",
      "metadata": {
        "colab": {
          "base_uri": "https://localhost:8080/"
        },
        "id": "lrFAnzTo31yF",
        "outputId": "03b8d690-25a0-4797-e996-d038956fd436"
      },
      "source": [
        "model.summary()"
      ],
      "execution_count": 93,
      "outputs": [
        {
          "output_type": "stream",
          "text": [
            "Model: \"sequential_9\"\n",
            "_________________________________________________________________\n",
            "Layer (type)                 Output Shape              Param #   \n",
            "=================================================================\n",
            "conv1d_7 (Conv1D)            (None, None, 32)          704       \n",
            "_________________________________________________________________\n",
            "bidirectional_18 (Bidirectio (None, None, 64)          16640     \n",
            "_________________________________________________________________\n",
            "bidirectional_19 (Bidirectio (None, 64)                24832     \n",
            "_________________________________________________________________\n",
            "dense_8 (Dense)              (None, 1)                 65        \n",
            "_________________________________________________________________\n",
            "lambda_9 (Lambda)            (None, 1)                 0         \n",
            "=================================================================\n",
            "Total params: 42,241\n",
            "Trainable params: 42,241\n",
            "Non-trainable params: 0\n",
            "_________________________________________________________________\n"
          ],
          "name": "stdout"
        }
      ]
    },
    {
      "cell_type": "code",
      "metadata": {
        "colab": {
          "base_uri": "https://localhost:8080/"
        },
        "id": "dXAbJt3b35SM",
        "outputId": "a2be14cd-ced7-44ed-e61a-56abbcca5b57"
      },
      "source": [
        "history = model.fit(X_train, y_train, epochs=100, validation_split=0.2)"
      ],
      "execution_count": 94,
      "outputs": [
        {
          "output_type": "stream",
          "text": [
            "Epoch 1/100\n",
            "34/34 [==============================] - 11s 159ms/step - loss: 13.6554 - mse: 330.1908 - val_loss: 6.4037 - val_mse: 69.3121\n",
            "Epoch 2/100\n",
            "34/34 [==============================] - 3s 94ms/step - loss: 4.5704 - mse: 45.6390 - val_loss: 4.8218 - val_mse: 41.9914\n",
            "Epoch 3/100\n",
            "34/34 [==============================] - 3s 95ms/step - loss: 3.6575 - mse: 28.3352 - val_loss: 3.3810 - val_mse: 21.2139\n",
            "Epoch 4/100\n",
            "34/34 [==============================] - 3s 98ms/step - loss: 2.5377 - mse: 14.2053 - val_loss: 2.7990 - val_mse: 15.6302\n",
            "Epoch 5/100\n",
            "34/34 [==============================] - 3s 96ms/step - loss: 2.0723 - mse: 10.5098 - val_loss: 2.5449 - val_mse: 13.5446\n",
            "Epoch 6/100\n",
            "34/34 [==============================] - 3s 95ms/step - loss: 2.0644 - mse: 10.2807 - val_loss: 2.3108 - val_mse: 12.0982\n",
            "Epoch 7/100\n",
            "34/34 [==============================] - 3s 94ms/step - loss: 1.8287 - mse: 8.4168 - val_loss: 2.0128 - val_mse: 9.1118\n",
            "Epoch 8/100\n",
            "34/34 [==============================] - 3s 95ms/step - loss: 1.6909 - mse: 7.1719 - val_loss: 2.0082 - val_mse: 9.2109\n",
            "Epoch 9/100\n",
            "34/34 [==============================] - 3s 99ms/step - loss: 1.6203 - mse: 6.6644 - val_loss: 2.1928 - val_mse: 10.4595\n",
            "Epoch 10/100\n",
            "34/34 [==============================] - 3s 95ms/step - loss: 1.3966 - mse: 5.4886 - val_loss: 1.8633 - val_mse: 8.0489\n",
            "Epoch 11/100\n",
            "34/34 [==============================] - 3s 95ms/step - loss: 1.4309 - mse: 5.5176 - val_loss: 1.8272 - val_mse: 7.8120\n",
            "Epoch 12/100\n",
            "34/34 [==============================] - 3s 97ms/step - loss: 1.2030 - mse: 4.3111 - val_loss: 1.5230 - val_mse: 5.9025\n",
            "Epoch 13/100\n",
            "34/34 [==============================] - 3s 95ms/step - loss: 1.2353 - mse: 4.4903 - val_loss: 2.6920 - val_mse: 13.9615\n",
            "Epoch 14/100\n",
            "34/34 [==============================] - 3s 95ms/step - loss: 1.3355 - mse: 4.9762 - val_loss: 1.7413 - val_mse: 7.1488\n",
            "Epoch 15/100\n",
            "34/34 [==============================] - 3s 95ms/step - loss: 1.1384 - mse: 3.9128 - val_loss: 1.3781 - val_mse: 4.9454\n",
            "Epoch 16/100\n",
            "34/34 [==============================] - 3s 94ms/step - loss: 1.0171 - mse: 3.3030 - val_loss: 1.4603 - val_mse: 5.3537\n",
            "Epoch 17/100\n",
            "34/34 [==============================] - 3s 94ms/step - loss: 0.9322 - mse: 2.9775 - val_loss: 1.5425 - val_mse: 5.8274\n",
            "Epoch 18/100\n",
            "34/34 [==============================] - 3s 95ms/step - loss: 0.8320 - mse: 2.4920 - val_loss: 1.3281 - val_mse: 4.6164\n",
            "Epoch 19/100\n",
            "34/34 [==============================] - 3s 95ms/step - loss: 0.7777 - mse: 2.2941 - val_loss: 1.5892 - val_mse: 6.1748\n",
            "Epoch 20/100\n",
            "34/34 [==============================] - 3s 97ms/step - loss: 0.8894 - mse: 2.8206 - val_loss: 1.3117 - val_mse: 4.7603\n",
            "Epoch 21/100\n",
            "34/34 [==============================] - 3s 97ms/step - loss: 0.9290 - mse: 2.9203 - val_loss: 1.4075 - val_mse: 5.1046\n",
            "Epoch 22/100\n",
            "34/34 [==============================] - 3s 94ms/step - loss: 0.7579 - mse: 2.2469 - val_loss: 1.4586 - val_mse: 5.3663\n",
            "Epoch 23/100\n",
            "34/34 [==============================] - 3s 94ms/step - loss: 0.7977 - mse: 2.3341 - val_loss: 1.3647 - val_mse: 4.8732\n",
            "Epoch 24/100\n",
            "34/34 [==============================] - 3s 97ms/step - loss: 0.7382 - mse: 2.1595 - val_loss: 1.1455 - val_mse: 3.7436\n",
            "Epoch 25/100\n",
            "34/34 [==============================] - 3s 96ms/step - loss: 0.7059 - mse: 2.0320 - val_loss: 1.1881 - val_mse: 4.0634\n",
            "Epoch 26/100\n",
            "34/34 [==============================] - 3s 95ms/step - loss: 0.7813 - mse: 2.2860 - val_loss: 1.2065 - val_mse: 4.1949\n",
            "Epoch 27/100\n",
            "34/34 [==============================] - 3s 97ms/step - loss: 0.7546 - mse: 2.1810 - val_loss: 1.3316 - val_mse: 4.6608\n",
            "Epoch 28/100\n",
            "34/34 [==============================] - 3s 94ms/step - loss: 0.7007 - mse: 1.9528 - val_loss: 1.2194 - val_mse: 4.0599\n",
            "Epoch 29/100\n",
            "34/34 [==============================] - 3s 96ms/step - loss: 0.6370 - mse: 1.7546 - val_loss: 1.2209 - val_mse: 4.1315\n",
            "Epoch 30/100\n",
            "34/34 [==============================] - 3s 97ms/step - loss: 0.6283 - mse: 1.7441 - val_loss: 1.5970 - val_mse: 5.9753\n",
            "Epoch 31/100\n",
            "34/34 [==============================] - 3s 95ms/step - loss: 0.8958 - mse: 2.7638 - val_loss: 1.0452 - val_mse: 3.3082\n",
            "Epoch 32/100\n",
            "34/34 [==============================] - 3s 99ms/step - loss: 0.6311 - mse: 1.7161 - val_loss: 1.2162 - val_mse: 4.1023\n",
            "Epoch 33/100\n",
            "34/34 [==============================] - 3s 96ms/step - loss: 0.6584 - mse: 1.7586 - val_loss: 1.1071 - val_mse: 3.5645\n",
            "Epoch 34/100\n",
            "34/34 [==============================] - 3s 96ms/step - loss: 0.6202 - mse: 1.6387 - val_loss: 1.1129 - val_mse: 3.5771\n",
            "Epoch 35/100\n",
            "34/34 [==============================] - 3s 95ms/step - loss: 0.5603 - mse: 1.5238 - val_loss: 1.1321 - val_mse: 3.9444\n",
            "Epoch 36/100\n",
            "34/34 [==============================] - 3s 94ms/step - loss: 0.7627 - mse: 2.1689 - val_loss: 1.0198 - val_mse: 3.3135\n",
            "Epoch 37/100\n",
            "34/34 [==============================] - 3s 96ms/step - loss: 0.9327 - mse: 2.7483 - val_loss: 1.4124 - val_mse: 5.0319\n",
            "Epoch 38/100\n",
            "34/34 [==============================] - 3s 97ms/step - loss: 0.8222 - mse: 2.3606 - val_loss: 1.2732 - val_mse: 4.2885\n",
            "Epoch 39/100\n",
            "34/34 [==============================] - 3s 95ms/step - loss: 0.5913 - mse: 1.5588 - val_loss: 1.4497 - val_mse: 5.1901\n",
            "Epoch 40/100\n",
            "34/34 [==============================] - 3s 95ms/step - loss: 0.7555 - mse: 2.0811 - val_loss: 1.2874 - val_mse: 4.4077\n",
            "Epoch 41/100\n",
            "34/34 [==============================] - 3s 96ms/step - loss: 0.5931 - mse: 1.5533 - val_loss: 0.9698 - val_mse: 3.0305\n",
            "Epoch 42/100\n",
            "34/34 [==============================] - 3s 99ms/step - loss: 0.6091 - mse: 1.6326 - val_loss: 1.0585 - val_mse: 3.3404\n",
            "Epoch 43/100\n",
            "34/34 [==============================] - 3s 97ms/step - loss: 0.5826 - mse: 1.5475 - val_loss: 0.9229 - val_mse: 2.7881\n",
            "Epoch 44/100\n",
            "34/34 [==============================] - 3s 96ms/step - loss: 0.5379 - mse: 1.3600 - val_loss: 0.9920 - val_mse: 3.1994\n",
            "Epoch 45/100\n",
            "34/34 [==============================] - 3s 97ms/step - loss: 0.5960 - mse: 1.6012 - val_loss: 1.2413 - val_mse: 4.1851\n",
            "Epoch 46/100\n",
            "34/34 [==============================] - 3s 99ms/step - loss: 0.5601 - mse: 1.4818 - val_loss: 0.9123 - val_mse: 2.7090\n",
            "Epoch 47/100\n",
            "34/34 [==============================] - 3s 94ms/step - loss: 0.4531 - mse: 1.1301 - val_loss: 0.9317 - val_mse: 2.9438\n",
            "Epoch 48/100\n",
            "34/34 [==============================] - 3s 95ms/step - loss: 0.5583 - mse: 1.4293 - val_loss: 0.8628 - val_mse: 2.5510\n",
            "Epoch 49/100\n",
            "34/34 [==============================] - 3s 97ms/step - loss: 0.5353 - mse: 1.3414 - val_loss: 0.9000 - val_mse: 2.7092\n",
            "Epoch 50/100\n",
            "34/34 [==============================] - 3s 95ms/step - loss: 0.4557 - mse: 1.1308 - val_loss: 0.8211 - val_mse: 2.4228\n",
            "Epoch 51/100\n",
            "34/34 [==============================] - 3s 95ms/step - loss: 0.4657 - mse: 1.1371 - val_loss: 0.8301 - val_mse: 2.4166\n",
            "Epoch 52/100\n",
            "34/34 [==============================] - 3s 97ms/step - loss: 0.4630 - mse: 1.1209 - val_loss: 1.0553 - val_mse: 3.3126\n",
            "Epoch 53/100\n",
            "34/34 [==============================] - 3s 97ms/step - loss: 0.4578 - mse: 1.1285 - val_loss: 0.9446 - val_mse: 2.8441\n",
            "Epoch 54/100\n",
            "34/34 [==============================] - 3s 98ms/step - loss: 0.4192 - mse: 0.9989 - val_loss: 0.8603 - val_mse: 2.5395\n",
            "Epoch 55/100\n",
            "34/34 [==============================] - 3s 97ms/step - loss: 0.4891 - mse: 1.2314 - val_loss: 0.8966 - val_mse: 2.6450\n",
            "Epoch 56/100\n",
            "34/34 [==============================] - 3s 98ms/step - loss: 0.4169 - mse: 1.0028 - val_loss: 0.8632 - val_mse: 2.5203\n",
            "Epoch 57/100\n",
            "34/34 [==============================] - 3s 96ms/step - loss: 0.4617 - mse: 1.1717 - val_loss: 0.8955 - val_mse: 2.6270\n",
            "Epoch 58/100\n",
            "34/34 [==============================] - 3s 93ms/step - loss: 0.4335 - mse: 1.0487 - val_loss: 1.4997 - val_mse: 5.3925\n",
            "Epoch 59/100\n",
            "34/34 [==============================] - 3s 94ms/step - loss: 0.5393 - mse: 1.3811 - val_loss: 0.8879 - val_mse: 2.5730\n",
            "Epoch 60/100\n",
            "34/34 [==============================] - 3s 97ms/step - loss: 0.4790 - mse: 1.1846 - val_loss: 0.8024 - val_mse: 2.2953\n",
            "Epoch 61/100\n",
            "34/34 [==============================] - 3s 94ms/step - loss: 0.4087 - mse: 1.0020 - val_loss: 0.7850 - val_mse: 2.2275\n",
            "Epoch 62/100\n",
            "34/34 [==============================] - 3s 95ms/step - loss: 0.4436 - mse: 1.0851 - val_loss: 1.0808 - val_mse: 3.3818\n",
            "Epoch 63/100\n",
            "34/34 [==============================] - 3s 95ms/step - loss: 0.4381 - mse: 1.0638 - val_loss: 0.7717 - val_mse: 2.2282\n",
            "Epoch 64/100\n",
            "34/34 [==============================] - 3s 98ms/step - loss: 0.4134 - mse: 0.9837 - val_loss: 0.7873 - val_mse: 2.2386\n",
            "Epoch 65/100\n",
            "34/34 [==============================] - 3s 100ms/step - loss: 0.3464 - mse: 0.8004 - val_loss: 0.7350 - val_mse: 2.0478\n",
            "Epoch 66/100\n",
            "34/34 [==============================] - 3s 98ms/step - loss: 0.3849 - mse: 0.9114 - val_loss: 0.7368 - val_mse: 2.0514\n",
            "Epoch 67/100\n",
            "34/34 [==============================] - 3s 97ms/step - loss: 0.3706 - mse: 0.8883 - val_loss: 1.1572 - val_mse: 3.6207\n",
            "Epoch 68/100\n",
            "34/34 [==============================] - 3s 97ms/step - loss: 0.4394 - mse: 1.0506 - val_loss: 0.7169 - val_mse: 2.0237\n",
            "Epoch 69/100\n",
            "34/34 [==============================] - 3s 100ms/step - loss: 0.4281 - mse: 1.0443 - val_loss: 0.7320 - val_mse: 2.0801\n",
            "Epoch 70/100\n",
            "34/34 [==============================] - 3s 97ms/step - loss: 0.4412 - mse: 1.0626 - val_loss: 0.7930 - val_mse: 2.2250\n",
            "Epoch 71/100\n",
            "34/34 [==============================] - 3s 98ms/step - loss: 0.4092 - mse: 0.9763 - val_loss: 1.1599 - val_mse: 3.7295\n",
            "Epoch 72/100\n",
            "34/34 [==============================] - 3s 96ms/step - loss: 0.4323 - mse: 1.0296 - val_loss: 0.9653 - val_mse: 2.8714\n",
            "Epoch 73/100\n",
            "34/34 [==============================] - 3s 97ms/step - loss: 0.3904 - mse: 0.9143 - val_loss: 0.7011 - val_mse: 1.9425\n",
            "Epoch 74/100\n",
            "34/34 [==============================] - 3s 96ms/step - loss: 0.4011 - mse: 0.9471 - val_loss: 0.7949 - val_mse: 2.2371\n",
            "Epoch 75/100\n",
            "34/34 [==============================] - 3s 95ms/step - loss: 0.4149 - mse: 0.9894 - val_loss: 1.0592 - val_mse: 3.2326\n",
            "Epoch 76/100\n",
            "34/34 [==============================] - 3s 102ms/step - loss: 0.3683 - mse: 0.8763 - val_loss: 0.7468 - val_mse: 2.0762\n",
            "Epoch 77/100\n",
            "34/34 [==============================] - 3s 99ms/step - loss: 0.3537 - mse: 0.8208 - val_loss: 0.7613 - val_mse: 2.1122\n",
            "Epoch 78/100\n",
            "34/34 [==============================] - 3s 98ms/step - loss: 0.4986 - mse: 1.2123 - val_loss: 0.6987 - val_mse: 1.9727\n",
            "Epoch 79/100\n",
            "34/34 [==============================] - 3s 96ms/step - loss: 0.3829 - mse: 0.8900 - val_loss: 0.6976 - val_mse: 1.8876\n",
            "Epoch 80/100\n",
            "34/34 [==============================] - 3s 97ms/step - loss: 0.3365 - mse: 0.7794 - val_loss: 0.6781 - val_mse: 1.8516\n",
            "Epoch 81/100\n",
            "34/34 [==============================] - 3s 94ms/step - loss: 0.3384 - mse: 0.7754 - val_loss: 0.7561 - val_mse: 2.1040\n",
            "Epoch 82/100\n",
            "34/34 [==============================] - 4s 109ms/step - loss: 0.3265 - mse: 0.7363 - val_loss: 0.6761 - val_mse: 1.8844\n",
            "Epoch 83/100\n",
            "34/34 [==============================] - 3s 96ms/step - loss: 0.3994 - mse: 0.9516 - val_loss: 1.2250 - val_mse: 3.9005\n",
            "Epoch 84/100\n",
            "34/34 [==============================] - 3s 95ms/step - loss: 0.4886 - mse: 1.1867 - val_loss: 0.7764 - val_mse: 2.1193\n",
            "Epoch 85/100\n",
            "34/34 [==============================] - 3s 97ms/step - loss: 0.3640 - mse: 0.8423 - val_loss: 0.6852 - val_mse: 1.8559\n",
            "Epoch 86/100\n",
            "34/34 [==============================] - 3s 96ms/step - loss: 0.3889 - mse: 0.9104 - val_loss: 0.6553 - val_mse: 1.7747\n",
            "Epoch 87/100\n",
            "34/34 [==============================] - 3s 101ms/step - loss: 0.3366 - mse: 0.7836 - val_loss: 0.7171 - val_mse: 1.9690\n",
            "Epoch 88/100\n",
            "34/34 [==============================] - 3s 96ms/step - loss: 0.3416 - mse: 0.7867 - val_loss: 0.8485 - val_mse: 2.3761\n",
            "Epoch 89/100\n",
            "34/34 [==============================] - 3s 96ms/step - loss: 0.4535 - mse: 1.1063 - val_loss: 1.1827 - val_mse: 3.6721\n",
            "Epoch 90/100\n",
            "34/34 [==============================] - 3s 99ms/step - loss: 0.4512 - mse: 1.0836 - val_loss: 0.6199 - val_mse: 1.6157\n",
            "Epoch 91/100\n",
            "34/34 [==============================] - 3s 96ms/step - loss: 0.4569 - mse: 1.1266 - val_loss: 0.6103 - val_mse: 1.6196\n",
            "Epoch 92/100\n",
            "34/34 [==============================] - 3s 100ms/step - loss: 0.3647 - mse: 0.8451 - val_loss: 0.8312 - val_mse: 2.3234\n",
            "Epoch 93/100\n",
            "34/34 [==============================] - 3s 100ms/step - loss: 0.4935 - mse: 1.1921 - val_loss: 0.9845 - val_mse: 3.0044\n",
            "Epoch 94/100\n",
            "34/34 [==============================] - 3s 95ms/step - loss: 0.3588 - mse: 0.8360 - val_loss: 0.8536 - val_mse: 2.4500\n",
            "Epoch 95/100\n",
            "34/34 [==============================] - 3s 101ms/step - loss: 0.3530 - mse: 0.8199 - val_loss: 0.6814 - val_mse: 1.8993\n",
            "Epoch 96/100\n",
            "34/34 [==============================] - 3s 102ms/step - loss: 0.3991 - mse: 0.9420 - val_loss: 0.6590 - val_mse: 1.7613\n",
            "Epoch 97/100\n",
            "34/34 [==============================] - 3s 100ms/step - loss: 0.2915 - mse: 0.6459 - val_loss: 0.6289 - val_mse: 1.6706\n",
            "Epoch 98/100\n",
            "34/34 [==============================] - 3s 99ms/step - loss: 0.3827 - mse: 0.9013 - val_loss: 0.6265 - val_mse: 1.6495\n",
            "Epoch 99/100\n",
            "34/34 [==============================] - 3s 96ms/step - loss: 0.3243 - mse: 0.7340 - val_loss: 0.6813 - val_mse: 1.8445\n",
            "Epoch 100/100\n",
            "34/34 [==============================] - 3s 96ms/step - loss: 0.3286 - mse: 0.7494 - val_loss: 0.6671 - val_mse: 1.7753\n"
          ],
          "name": "stdout"
        }
      ]
    },
    {
      "cell_type": "code",
      "metadata": {
        "id": "-BIDd4MhBstr"
      },
      "source": [
        "# Generate list of sequence of days for predictions\r\n",
        "datelist_future = pd.date_range(datelist_train[-1], periods=n_future, freq='1d').tolist()\r\n",
        "\r\n",
        "'''\r\n",
        "Remeber, we have datelist_train from begining.\r\n",
        "'''\r\n",
        "\r\n",
        "# Convert Pandas Timestamp to Datetime object (for transformation) --> FUTURE\r\n",
        "datelist_future_ = []\r\n",
        "for this_timestamp in datelist_future:\r\n",
        "    datelist_future_.append(this_timestamp.date())"
      ],
      "execution_count": 95,
      "outputs": []
    },
    {
      "cell_type": "code",
      "metadata": {
        "colab": {
          "base_uri": "https://localhost:8080/"
        },
        "id": "w8UP1ItTDHDV",
        "outputId": "f975d71a-dee8-498e-d80d-fd2d52903b2f"
      },
      "source": [
        "datelist_train[-1]"
      ],
      "execution_count": 97,
      "outputs": [
        {
          "output_type": "execute_result",
          "data": {
            "text/plain": [
              "Timestamp('2010-11-26 00:00:00')"
            ]
          },
          "metadata": {
            "tags": []
          },
          "execution_count": 97
        }
      ]
    },
    {
      "cell_type": "code",
      "metadata": {
        "colab": {
          "base_uri": "https://localhost:8080/"
        },
        "id": "oA962mvVDAL8",
        "outputId": "e166fe26-aa4c-47e7-9fb7-695e821df6e7"
      },
      "source": [
        "datelist_future_"
      ],
      "execution_count": 96,
      "outputs": [
        {
          "output_type": "execute_result",
          "data": {
            "text/plain": [
              "[datetime.date(2010, 11, 26),\n",
              " datetime.date(2010, 11, 27),\n",
              " datetime.date(2010, 11, 28),\n",
              " datetime.date(2010, 11, 29),\n",
              " datetime.date(2010, 11, 30),\n",
              " datetime.date(2010, 12, 1),\n",
              " datetime.date(2010, 12, 2),\n",
              " datetime.date(2010, 12, 3),\n",
              " datetime.date(2010, 12, 4),\n",
              " datetime.date(2010, 12, 5),\n",
              " datetime.date(2010, 12, 6),\n",
              " datetime.date(2010, 12, 7),\n",
              " datetime.date(2010, 12, 8),\n",
              " datetime.date(2010, 12, 9),\n",
              " datetime.date(2010, 12, 10),\n",
              " datetime.date(2010, 12, 11),\n",
              " datetime.date(2010, 12, 12),\n",
              " datetime.date(2010, 12, 13),\n",
              " datetime.date(2010, 12, 14),\n",
              " datetime.date(2010, 12, 15),\n",
              " datetime.date(2010, 12, 16),\n",
              " datetime.date(2010, 12, 17),\n",
              " datetime.date(2010, 12, 18),\n",
              " datetime.date(2010, 12, 19),\n",
              " datetime.date(2010, 12, 20),\n",
              " datetime.date(2010, 12, 21),\n",
              " datetime.date(2010, 12, 22),\n",
              " datetime.date(2010, 12, 23),\n",
              " datetime.date(2010, 12, 24),\n",
              " datetime.date(2010, 12, 25)]"
            ]
          },
          "metadata": {
            "tags": []
          },
          "execution_count": 96
        }
      ]
    },
    {
      "cell_type": "code",
      "metadata": {
        "id": "XwO_HvBjBsqO"
      },
      "source": [
        "# Perform predictions\r\n",
        "predictions_future = model.predict(X_train[-n_future:])\r\n",
        "\r\n",
        "predictions_train = model.predict(X_train[n_past:])"
      ],
      "execution_count": 98,
      "outputs": []
    },
    {
      "cell_type": "code",
      "metadata": {
        "id": "CsxUSWR2DQf-"
      },
      "source": [
        "# Inverse the predictions to original measurements\r\n",
        "\r\n",
        "# ---> Special function: convert <datetime.date> to <Timestamp>\r\n",
        "def datetime_to_timestamp(x):\r\n",
        "    '''\r\n",
        "        x : a given datetime value (datetime.date)\r\n",
        "    '''\r\n",
        "    return datetime.strptime(x.strftime('%Y%m%d'), '%Y%m%d')\r\n",
        "\r\n",
        "\r\n",
        "y_pred_future = sc_predict.inverse_transform(predictions_future)\r\n",
        "y_pred_train = sc_predict.inverse_transform(predictions_train)\r\n",
        "\r\n",
        "PREDICTIONS_FUTURE = pd.DataFrame(y_pred_future, columns=['Global_active_power']).set_index(pd.Series(datelist_future))\r\n",
        "PREDICTION_TRAIN = pd.DataFrame(y_pred_train, columns=['Global_active_power']).set_index(pd.Series(datelist_train[2 * n_past + n_future -1:]))\r\n",
        "\r\n",
        "# Convert <datetime.date> to <Timestamp> for PREDCITION_TRAIN\r\n",
        "# PREDICTION_TRAIN.index = PREDICTION_TRAIN.index.to_series().apply(datetime_to_timestamp)\r\n",
        "\r\n"
      ],
      "execution_count": 108,
      "outputs": []
    },
    {
      "cell_type": "code",
      "metadata": {
        "colab": {
          "base_uri": "https://localhost:8080/",
          "height": 990
        },
        "id": "L7EN8U17JU0c",
        "outputId": "ac905cb1-4320-40b6-adc5-e8101e47f84e"
      },
      "source": [
        "PREDICTIONS_FUTURE"
      ],
      "execution_count": 110,
      "outputs": [
        {
          "output_type": "execute_result",
          "data": {
            "text/html": [
              "<div>\n",
              "<style scoped>\n",
              "    .dataframe tbody tr th:only-of-type {\n",
              "        vertical-align: middle;\n",
              "    }\n",
              "\n",
              "    .dataframe tbody tr th {\n",
              "        vertical-align: top;\n",
              "    }\n",
              "\n",
              "    .dataframe thead th {\n",
              "        text-align: right;\n",
              "    }\n",
              "</style>\n",
              "<table border=\"1\" class=\"dataframe\">\n",
              "  <thead>\n",
              "    <tr style=\"text-align: right;\">\n",
              "      <th></th>\n",
              "      <th>Global_active_power</th>\n",
              "    </tr>\n",
              "  </thead>\n",
              "  <tbody>\n",
              "    <tr>\n",
              "      <th>2010-11-26</th>\n",
              "      <td>0.819904</td>\n",
              "    </tr>\n",
              "    <tr>\n",
              "      <th>2010-11-27</th>\n",
              "      <td>1.145970</td>\n",
              "    </tr>\n",
              "    <tr>\n",
              "      <th>2010-11-28</th>\n",
              "      <td>0.968319</td>\n",
              "    </tr>\n",
              "    <tr>\n",
              "      <th>2010-11-29</th>\n",
              "      <td>1.327052</td>\n",
              "    </tr>\n",
              "    <tr>\n",
              "      <th>2010-11-30</th>\n",
              "      <td>1.062297</td>\n",
              "    </tr>\n",
              "    <tr>\n",
              "      <th>2010-12-01</th>\n",
              "      <td>0.582126</td>\n",
              "    </tr>\n",
              "    <tr>\n",
              "      <th>2010-12-02</th>\n",
              "      <td>0.842254</td>\n",
              "    </tr>\n",
              "    <tr>\n",
              "      <th>2010-12-03</th>\n",
              "      <td>0.843370</td>\n",
              "    </tr>\n",
              "    <tr>\n",
              "      <th>2010-12-04</th>\n",
              "      <td>0.889366</td>\n",
              "    </tr>\n",
              "    <tr>\n",
              "      <th>2010-12-05</th>\n",
              "      <td>1.350370</td>\n",
              "    </tr>\n",
              "    <tr>\n",
              "      <th>2010-12-06</th>\n",
              "      <td>1.548863</td>\n",
              "    </tr>\n",
              "    <tr>\n",
              "      <th>2010-12-07</th>\n",
              "      <td>1.510139</td>\n",
              "    </tr>\n",
              "    <tr>\n",
              "      <th>2010-12-08</th>\n",
              "      <td>1.382274</td>\n",
              "    </tr>\n",
              "    <tr>\n",
              "      <th>2010-12-09</th>\n",
              "      <td>1.551206</td>\n",
              "    </tr>\n",
              "    <tr>\n",
              "      <th>2010-12-10</th>\n",
              "      <td>1.621408</td>\n",
              "    </tr>\n",
              "    <tr>\n",
              "      <th>2010-12-11</th>\n",
              "      <td>1.674242</td>\n",
              "    </tr>\n",
              "    <tr>\n",
              "      <th>2010-12-12</th>\n",
              "      <td>1.718609</td>\n",
              "    </tr>\n",
              "    <tr>\n",
              "      <th>2010-12-13</th>\n",
              "      <td>1.720373</td>\n",
              "    </tr>\n",
              "    <tr>\n",
              "      <th>2010-12-14</th>\n",
              "      <td>1.604576</td>\n",
              "    </tr>\n",
              "    <tr>\n",
              "      <th>2010-12-15</th>\n",
              "      <td>1.415499</td>\n",
              "    </tr>\n",
              "    <tr>\n",
              "      <th>2010-12-16</th>\n",
              "      <td>0.819511</td>\n",
              "    </tr>\n",
              "    <tr>\n",
              "      <th>2010-12-17</th>\n",
              "      <td>0.615564</td>\n",
              "    </tr>\n",
              "    <tr>\n",
              "      <th>2010-12-18</th>\n",
              "      <td>1.112950</td>\n",
              "    </tr>\n",
              "    <tr>\n",
              "      <th>2010-12-19</th>\n",
              "      <td>0.726781</td>\n",
              "    </tr>\n",
              "    <tr>\n",
              "      <th>2010-12-20</th>\n",
              "      <td>0.734582</td>\n",
              "    </tr>\n",
              "    <tr>\n",
              "      <th>2010-12-21</th>\n",
              "      <td>0.615036</td>\n",
              "    </tr>\n",
              "    <tr>\n",
              "      <th>2010-12-22</th>\n",
              "      <td>0.589363</td>\n",
              "    </tr>\n",
              "    <tr>\n",
              "      <th>2010-12-23</th>\n",
              "      <td>1.100227</td>\n",
              "    </tr>\n",
              "    <tr>\n",
              "      <th>2010-12-24</th>\n",
              "      <td>1.220607</td>\n",
              "    </tr>\n",
              "    <tr>\n",
              "      <th>2010-12-25</th>\n",
              "      <td>1.171455</td>\n",
              "    </tr>\n",
              "  </tbody>\n",
              "</table>\n",
              "</div>"
            ],
            "text/plain": [
              "            Global_active_power\n",
              "2010-11-26             0.819904\n",
              "2010-11-27             1.145970\n",
              "2010-11-28             0.968319\n",
              "2010-11-29             1.327052\n",
              "2010-11-30             1.062297\n",
              "2010-12-01             0.582126\n",
              "2010-12-02             0.842254\n",
              "2010-12-03             0.843370\n",
              "2010-12-04             0.889366\n",
              "2010-12-05             1.350370\n",
              "2010-12-06             1.548863\n",
              "2010-12-07             1.510139\n",
              "2010-12-08             1.382274\n",
              "2010-12-09             1.551206\n",
              "2010-12-10             1.621408\n",
              "2010-12-11             1.674242\n",
              "2010-12-12             1.718609\n",
              "2010-12-13             1.720373\n",
              "2010-12-14             1.604576\n",
              "2010-12-15             1.415499\n",
              "2010-12-16             0.819511\n",
              "2010-12-17             0.615564\n",
              "2010-12-18             1.112950\n",
              "2010-12-19             0.726781\n",
              "2010-12-20             0.734582\n",
              "2010-12-21             0.615036\n",
              "2010-12-22             0.589363\n",
              "2010-12-23             1.100227\n",
              "2010-12-24             1.220607\n",
              "2010-12-25             1.171455"
            ]
          },
          "metadata": {
            "tags": []
          },
          "execution_count": 110
        }
      ]
    },
    {
      "cell_type": "code",
      "metadata": {
        "colab": {
          "base_uri": "https://localhost:8080/",
          "height": 424
        },
        "id": "FT9_66iaJJ2G",
        "outputId": "95113989-4c39-4b95-f4a1-577524ce04c7"
      },
      "source": [
        "PREDICTION_TRAIN"
      ],
      "execution_count": 109,
      "outputs": [
        {
          "output_type": "execute_result",
          "data": {
            "text/html": [
              "<div>\n",
              "<style scoped>\n",
              "    .dataframe tbody tr th:only-of-type {\n",
              "        vertical-align: middle;\n",
              "    }\n",
              "\n",
              "    .dataframe tbody tr th {\n",
              "        vertical-align: top;\n",
              "    }\n",
              "\n",
              "    .dataframe thead th {\n",
              "        text-align: right;\n",
              "    }\n",
              "</style>\n",
              "<table border=\"1\" class=\"dataframe\">\n",
              "  <thead>\n",
              "    <tr style=\"text-align: right;\">\n",
              "      <th></th>\n",
              "      <th>Global_active_power</th>\n",
              "    </tr>\n",
              "  </thead>\n",
              "  <tbody>\n",
              "    <tr>\n",
              "      <th>2007-06-07</th>\n",
              "      <td>0.980713</td>\n",
              "    </tr>\n",
              "    <tr>\n",
              "      <th>2007-06-08</th>\n",
              "      <td>1.020107</td>\n",
              "    </tr>\n",
              "    <tr>\n",
              "      <th>2007-06-09</th>\n",
              "      <td>1.033044</td>\n",
              "    </tr>\n",
              "    <tr>\n",
              "      <th>2007-06-10</th>\n",
              "      <td>1.118484</td>\n",
              "    </tr>\n",
              "    <tr>\n",
              "      <th>2007-06-11</th>\n",
              "      <td>1.297095</td>\n",
              "    </tr>\n",
              "    <tr>\n",
              "      <th>...</th>\n",
              "      <td>...</td>\n",
              "    </tr>\n",
              "    <tr>\n",
              "      <th>2010-11-22</th>\n",
              "      <td>0.615036</td>\n",
              "    </tr>\n",
              "    <tr>\n",
              "      <th>2010-11-23</th>\n",
              "      <td>0.589363</td>\n",
              "    </tr>\n",
              "    <tr>\n",
              "      <th>2010-11-24</th>\n",
              "      <td>1.100227</td>\n",
              "    </tr>\n",
              "    <tr>\n",
              "      <th>2010-11-25</th>\n",
              "      <td>1.220607</td>\n",
              "    </tr>\n",
              "    <tr>\n",
              "      <th>2010-11-26</th>\n",
              "      <td>1.171455</td>\n",
              "    </tr>\n",
              "  </tbody>\n",
              "</table>\n",
              "<p>1269 rows × 1 columns</p>\n",
              "</div>"
            ],
            "text/plain": [
              "            Global_active_power\n",
              "2007-06-07             0.980713\n",
              "2007-06-08             1.020107\n",
              "2007-06-09             1.033044\n",
              "2007-06-10             1.118484\n",
              "2007-06-11             1.297095\n",
              "...                         ...\n",
              "2010-11-22             0.615036\n",
              "2010-11-23             0.589363\n",
              "2010-11-24             1.100227\n",
              "2010-11-25             1.220607\n",
              "2010-11-26             1.171455\n",
              "\n",
              "[1269 rows x 1 columns]"
            ]
          },
          "metadata": {
            "tags": []
          },
          "execution_count": 109
        }
      ]
    },
    {
      "cell_type": "markdown",
      "metadata": {
        "id": "K2oUhufgHyGl"
      },
      "source": [
        "\r\n",
        "Step #6. Visualize the Predictions\r\n"
      ]
    },
    {
      "cell_type": "code",
      "metadata": {
        "colab": {
          "base_uri": "https://localhost:8080/",
          "height": 368
        },
        "id": "PTvucKe0DQZu",
        "outputId": "131d2901-f930-435a-a96d-8b094dcf852e"
      },
      "source": [
        "# Set plot size \r\n",
        "# from pylab import rcParams\r\n",
        "plt.rcParams['figure.figsize'] = 14, 5\r\n",
        "\r\n",
        "# Plot parameters\r\n",
        "START_DATE_FOR_PLOTTING = '2009-06-07'\r\n",
        "\r\n",
        "plt.plot(PREDICTIONS_FUTURE.index, PREDICTIONS_FUTURE['Global_active_power'], color='r', label='Predicted Global Active power')\r\n",
        "plt.plot(PREDICTION_TRAIN.loc[START_DATE_FOR_PLOTTING:].index, PREDICTION_TRAIN.loc[START_DATE_FOR_PLOTTING:]['Global_active_power'], color='orange', label='Training predictions')\r\n",
        "plt.plot(dataset_train_timeindex.loc[START_DATE_FOR_PLOTTING:].index, dataset_train_timeindex.loc[START_DATE_FOR_PLOTTING:]['Global_active_power'], color='b', label='Actual Global Active power')\r\n",
        "\r\n",
        "plt.axvline(x = min(PREDICTIONS_FUTURE.index), color='green', linewidth=2, linestyle='--')\r\n",
        "\r\n",
        "plt.grid(which='major', color='#cccccc', alpha=0.5)\r\n",
        "\r\n",
        "plt.legend(shadow=True)\r\n",
        "plt.title('Predcitions and Acutal Global Active power values', family='Arial', fontsize=12)\r\n",
        "plt.xlabel('Timeline', family='Arial', fontsize=10)\r\n",
        "plt.ylabel('Stock Price Value', family='Arial', fontsize=10)\r\n",
        "# plt.xticks(rotation=45, fontsize=8)\r\n",
        "# plt.show()"
      ],
      "execution_count": 128,
      "outputs": [
        {
          "output_type": "execute_result",
          "data": {
            "text/plain": [
              "Text(0, 0.5, 'Stock Price Value')"
            ]
          },
          "metadata": {
            "tags": []
          },
          "execution_count": 128
        },
        {
          "output_type": "display_data",
          "data": {
            "image/png": "[encoded data removed]",
            "text/plain": [
              "<Figure size 1008x360 with 1 Axes>"
            ]
          },
          "metadata": {
            "tags": [],
            "needs_background": "light"
          }
        }
      ]
    },
    {
      "cell_type": "code",
      "metadata": {
        "id": "xL6miiJxDQWk"
      },
      "source": [
        ""
      ],
      "execution_count": null,
      "outputs": []
    },
    {
      "cell_type": "code",
      "metadata": {
        "colab": {
          "base_uri": "https://localhost:8080/",
          "height": 291
        },
        "id": "WOp2is5A4God",
        "outputId": "f2a9cb7c-8e69-4818-c7a5-6342f35f55d7"
      },
      "source": [
        "import matplotlib.pyplot as plt\r\n",
        "\r\n",
        "plt.semilogx(history.history[\"lr\"], history.history[\"loss\"])\r\n",
        "plt.axis([1e-8, 1e-4, 0, 30])"
      ],
      "execution_count": 81,
      "outputs": [
        {
          "output_type": "execute_result",
          "data": {
            "text/plain": [
              "(1e-08, 0.0001, 0.0, 30.0)"
            ]
          },
          "metadata": {
            "tags": []
          },
          "execution_count": 81
        },
        {
          "output_type": "display_data",
          "data": {
            "image/png": "[encoded data removed]",
            "text/plain": [
              "<Figure size 432x288 with 1 Axes>"
            ]
          },
          "metadata": {
            "tags": [],
            "needs_background": "light"
          }
        }
      ]
    },
    {
      "cell_type": "code",
      "metadata": {
        "id": "6AwLSH8a_gvd"
      },
      "source": [
        ""
      ],
      "execution_count": null,
      "outputs": []
    }
  ]
}