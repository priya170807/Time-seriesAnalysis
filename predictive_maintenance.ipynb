{
 "cells": [
  {
   "cell_type": "code",
   "execution_count": 1,
   "metadata": {},
   "outputs": [],
   "source": [
    "#python library imports\n",
    "import io\n",
    "import logging\n",
    "import numpy as np\n",
    "import pandas as pd\n",
    "import matplotlib.pyplot as plt\n",
    "\n",
    "# aws imports\n",
    "import boto3\n",
    "from botocore.exceptions import ClientError\n",
    "\n",
    "\n",
    "#logging.basicConfig(level=logging.DEBUG)\n",
    "#logging.basicConfig(filename='pdm.log', filemode='w', format='%(name)s - %(levelname)s - %(message)s')"
   ]
  },
  {
   "cell_type": "code",
   "execution_count": 2,
   "metadata": {},
   "outputs": [],
   "source": [
    "# Create a custom logger\n",
    "logger = logging.getLogger(\"helper\")\n",
    "\n",
    "# Create handlers\n",
    "c_handler = logging.StreamHandler()\n",
    "f_handler = logging.FileHandler('pdm.log')\n",
    "\n",
    "c_handler.setLevel(logging.WARNING)\n",
    "f_handler.setLevel(logging.ERROR)\n",
    "\n",
    "# Create formatters and add it to handlers\n",
    "c_format = logging.Formatter('%(name)s - %(levelname)s - %(message)s')\n",
    "f_format = logging.Formatter('%(asctime)s - %(name)s - %(levelname)s - %(message)s')\n",
    "c_handler.setFormatter(c_format)\n",
    "f_handler.setFormatter(f_format)\n",
    "\n",
    "# Add handlers to the logger\n",
    "logger.addHandler(c_handler)\n",
    "logger.addHandler(f_handler)\n"
   ]
  },
  {
   "cell_type": "code",
   "execution_count": 3,
   "metadata": {},
   "outputs": [],
   "source": [
    "boto3.setup_default_session(profile_name='HCL_USER_1')\n",
    "input_bucket = \"capacityplanning\"\n",
    "train_key = \"predictive-maintenance/train_pdm.txt\"\n",
    "test_key = \"predictive-maintenance/test_pdm.txt\"\n",
    "truth_key = \"predictive-maintenance/truth_pdm.txt\"\n",
    "output_bucket = \"capacityplanning-predictions-bucket\"\n",
    "s3_output_path = \"pdm-predictions/\"\n"
   ]
  },
  {
   "cell_type": "code",
   "execution_count": 4,
   "metadata": {},
   "outputs": [],
   "source": [
    "\n",
    "def preprocess_data(columns):\n",
    "    # normalize sensor readings\n",
    "    \"\"\"\n",
    "    Add regression labels to the train and test data.\n",
    "    \n",
    "    Regression label: RUL for each cycle# for an engine/device ID subtracted from the Last cycle#(Max value) of the same engine\n",
    "                      in the train data.\n",
    "    \"\"\"\n",
    "    client = boto3.client('s3')\n",
    "    try:\n",
    "        obj = client.get_object(Bucket=input_bucket, Key=train_key)\n",
    "        train_df = pd.read_csv(io.BytesIO(obj['Body'].read()), delimiter=\" \", header=None)\n",
    "    \n",
    "    except ClientError as e:\n",
    "        logging.debug(e)\n",
    "        return None\n",
    "        \n",
    "    eps=0.000001 # to avoid floating point issues during normalization\n",
    "    \n",
    "\n",
    "    train_df.drop(train_df.columns[[26, 27]], axis=1, inplace=True)\n",
    "    \n",
    "    train_df.columns = columns\n",
    "\n",
    "    df_max_cycle = pd.DataFrame(train_df.groupby('id')['cycle'].max()).reset_index()\n",
    "\n",
    "    df_max_cycle.columns = ['id','max']\n",
    "\n",
    "    train_df = train_df.merge(df_max_cycle, on=['id'], how='left')\n",
    "\n",
    "    train_df['RUL'] = train_df['max'] - train_df['cycle']\n",
    "\n",
    "    train_df.drop('max', axis=1, inplace=True)\n",
    "\n",
    "#    columns= train_df.columns\n",
    "\n",
    "#     train_df[columns[2:]] = (train_df[columns[2:]] - train_df[columns[2:]].min() + eps) / (\n",
    "#                     train_df[columns[2:]].max() - train_df[columns[2:]].min() + eps)\n",
    "\n",
    "\n",
    "    # Load time series\n",
    "    try:\n",
    "        objc = client.get_object(Bucket=input_bucket, Key=test_key)\n",
    "        test_df = pd.read_csv(io.BytesIO(objc['Body'].read()), delimiter=\" \", header=None)\n",
    "        \n",
    "        objt = client.get_object(Bucket=input_bucket, Key=truth_key)\n",
    "        truth_df = pd.read_csv(io.BytesIO(objt['Body'].read()), delimiter=\" \", header=None)\n",
    "        \n",
    "    except ClientError as e:\n",
    "        \n",
    "        logging.debug(e)\n",
    "        return None\n",
    "    \n",
    "    #test_df = pd.read_csv(r\"C:\\Users\\shivapriya.katta\\Documents\\Notepad_files\\test_pdm.txt\", delimiter=\" \", header=None)\n",
    "\n",
    "    test_df.drop(test_df.columns[[26, 27]], axis=1, inplace=True)\n",
    "    \n",
    "    test_df.columns = columns\n",
    "\n",
    "    # Load the RUL values\n",
    "    \n",
    "    truth_df.drop(truth_df.columns[1], axis=1, inplace=True)\n",
    "    \n",
    "    truth_df.index += 1\n",
    "\n",
    "    # Merge truth_df and test_df and compute RUL per timestamp for test data\n",
    "    \n",
    "    test_df = test_df.merge(truth_df, left_on=test_df.columns[0], right_index=True, how='left')\n",
    "    \n",
    "    test_df.columns = columns + ['RUL_end']\n",
    "    \n",
    "    rul = pd.DataFrame(test_df.groupby('id')['cycle'].max()).reset_index()\n",
    "    \n",
    "    rul.columns = ['id', 'max']\n",
    "    \n",
    "    test_df = test_df.merge(rul, on=['id'], how='left')  # We get the maximum number of cycles for each device\n",
    "    \n",
    "    test_df['RUL'] = test_df['max'] + test_df['RUL_end'] - test_df['cycle']  # The RUL is the number of cycles per series + RUL - how many cycles have already ran\n",
    "    \n",
    "    test_df.drop(['max', 'RUL_end'], axis=1, inplace=True)\n",
    "\n",
    "#     # Normalize\n",
    "#     test_df[columns[2:]] = (test_df[columns[2:]] - test_df[columns[2:]].min() + eps) / (\n",
    "#                 test_df[columns[2:]].max() - test_df[columns[2:]].min() + eps)\n",
    "    \n",
    "\n",
    "    return train_df, test_df\n"
   ]
  },
  {
   "cell_type": "code",
   "execution_count": 5,
   "metadata": {},
   "outputs": [],
   "source": [
    "col_names = ['id', 'cycle', 'setting1', 'setting2', 'setting3', 'sensor1', 'sensor2', 'sensor3','sensor4', 'sensor5', 'sensor6',\n",
    "             'sensor7', 'sensor8', 'sensor9', 'sensor10', 'sensor11', 'sensor12', 'sensor13', 'sensor14','sensor15', 'sensor16',\n",
    "             'sensor17', 'sensor18', 'sensor19', 'sensor20', 'sensor21']\n",
    "\n",
    "train_df, test_df = preprocess_data(col_names)"
   ]
  },
  {
   "cell_type": "code",
   "execution_count": 6,
   "metadata": {},
   "outputs": [
    {
     "data": {
      "text/html": [
       "<div>\n",
       "<style scoped>\n",
       "    .dataframe tbody tr th:only-of-type {\n",
       "        vertical-align: middle;\n",
       "    }\n",
       "\n",
       "    .dataframe tbody tr th {\n",
       "        vertical-align: top;\n",
       "    }\n",
       "\n",
       "    .dataframe thead th {\n",
       "        text-align: right;\n",
       "    }\n",
       "</style>\n",
       "<table border=\"1\" class=\"dataframe\">\n",
       "  <thead>\n",
       "    <tr style=\"text-align: right;\">\n",
       "      <th></th>\n",
       "      <th>id</th>\n",
       "      <th>cycle</th>\n",
       "      <th>setting1</th>\n",
       "      <th>setting2</th>\n",
       "      <th>setting3</th>\n",
       "      <th>sensor1</th>\n",
       "      <th>sensor2</th>\n",
       "      <th>sensor3</th>\n",
       "      <th>sensor4</th>\n",
       "      <th>sensor5</th>\n",
       "      <th>...</th>\n",
       "      <th>sensor13</th>\n",
       "      <th>sensor14</th>\n",
       "      <th>sensor15</th>\n",
       "      <th>sensor16</th>\n",
       "      <th>sensor17</th>\n",
       "      <th>sensor18</th>\n",
       "      <th>sensor19</th>\n",
       "      <th>sensor20</th>\n",
       "      <th>sensor21</th>\n",
       "      <th>RUL</th>\n",
       "    </tr>\n",
       "  </thead>\n",
       "  <tbody>\n",
       "    <tr>\n",
       "      <th>0</th>\n",
       "      <td>1</td>\n",
       "      <td>1</td>\n",
       "      <td>-0.0007</td>\n",
       "      <td>-0.0004</td>\n",
       "      <td>100.0</td>\n",
       "      <td>518.67</td>\n",
       "      <td>641.82</td>\n",
       "      <td>1589.70</td>\n",
       "      <td>1400.60</td>\n",
       "      <td>14.62</td>\n",
       "      <td>...</td>\n",
       "      <td>2388.02</td>\n",
       "      <td>8138.62</td>\n",
       "      <td>8.4195</td>\n",
       "      <td>0.03</td>\n",
       "      <td>392</td>\n",
       "      <td>2388</td>\n",
       "      <td>100.0</td>\n",
       "      <td>39.06</td>\n",
       "      <td>23.4190</td>\n",
       "      <td>191</td>\n",
       "    </tr>\n",
       "    <tr>\n",
       "      <th>1</th>\n",
       "      <td>1</td>\n",
       "      <td>2</td>\n",
       "      <td>0.0019</td>\n",
       "      <td>-0.0003</td>\n",
       "      <td>100.0</td>\n",
       "      <td>518.67</td>\n",
       "      <td>642.15</td>\n",
       "      <td>1591.82</td>\n",
       "      <td>1403.14</td>\n",
       "      <td>14.62</td>\n",
       "      <td>...</td>\n",
       "      <td>2388.07</td>\n",
       "      <td>8131.49</td>\n",
       "      <td>8.4318</td>\n",
       "      <td>0.03</td>\n",
       "      <td>392</td>\n",
       "      <td>2388</td>\n",
       "      <td>100.0</td>\n",
       "      <td>39.00</td>\n",
       "      <td>23.4236</td>\n",
       "      <td>190</td>\n",
       "    </tr>\n",
       "    <tr>\n",
       "      <th>2</th>\n",
       "      <td>1</td>\n",
       "      <td>3</td>\n",
       "      <td>-0.0043</td>\n",
       "      <td>0.0003</td>\n",
       "      <td>100.0</td>\n",
       "      <td>518.67</td>\n",
       "      <td>642.35</td>\n",
       "      <td>1587.99</td>\n",
       "      <td>1404.20</td>\n",
       "      <td>14.62</td>\n",
       "      <td>...</td>\n",
       "      <td>2388.03</td>\n",
       "      <td>8133.23</td>\n",
       "      <td>8.4178</td>\n",
       "      <td>0.03</td>\n",
       "      <td>390</td>\n",
       "      <td>2388</td>\n",
       "      <td>100.0</td>\n",
       "      <td>38.95</td>\n",
       "      <td>23.3442</td>\n",
       "      <td>189</td>\n",
       "    </tr>\n",
       "    <tr>\n",
       "      <th>3</th>\n",
       "      <td>1</td>\n",
       "      <td>4</td>\n",
       "      <td>0.0007</td>\n",
       "      <td>0.0000</td>\n",
       "      <td>100.0</td>\n",
       "      <td>518.67</td>\n",
       "      <td>642.35</td>\n",
       "      <td>1582.79</td>\n",
       "      <td>1401.87</td>\n",
       "      <td>14.62</td>\n",
       "      <td>...</td>\n",
       "      <td>2388.08</td>\n",
       "      <td>8133.83</td>\n",
       "      <td>8.3682</td>\n",
       "      <td>0.03</td>\n",
       "      <td>392</td>\n",
       "      <td>2388</td>\n",
       "      <td>100.0</td>\n",
       "      <td>38.88</td>\n",
       "      <td>23.3739</td>\n",
       "      <td>188</td>\n",
       "    </tr>\n",
       "    <tr>\n",
       "      <th>4</th>\n",
       "      <td>1</td>\n",
       "      <td>5</td>\n",
       "      <td>-0.0019</td>\n",
       "      <td>-0.0002</td>\n",
       "      <td>100.0</td>\n",
       "      <td>518.67</td>\n",
       "      <td>642.37</td>\n",
       "      <td>1582.85</td>\n",
       "      <td>1406.22</td>\n",
       "      <td>14.62</td>\n",
       "      <td>...</td>\n",
       "      <td>2388.04</td>\n",
       "      <td>8133.80</td>\n",
       "      <td>8.4294</td>\n",
       "      <td>0.03</td>\n",
       "      <td>393</td>\n",
       "      <td>2388</td>\n",
       "      <td>100.0</td>\n",
       "      <td>38.90</td>\n",
       "      <td>23.4044</td>\n",
       "      <td>187</td>\n",
       "    </tr>\n",
       "  </tbody>\n",
       "</table>\n",
       "<p>5 rows × 27 columns</p>\n",
       "</div>"
      ],
      "text/plain": [
       "   id  cycle  setting1  setting2  setting3  sensor1  sensor2  sensor3  \\\n",
       "0   1      1   -0.0007   -0.0004     100.0   518.67   641.82  1589.70   \n",
       "1   1      2    0.0019   -0.0003     100.0   518.67   642.15  1591.82   \n",
       "2   1      3   -0.0043    0.0003     100.0   518.67   642.35  1587.99   \n",
       "3   1      4    0.0007    0.0000     100.0   518.67   642.35  1582.79   \n",
       "4   1      5   -0.0019   -0.0002     100.0   518.67   642.37  1582.85   \n",
       "\n",
       "   sensor4  sensor5  ...  sensor13  sensor14  sensor15  sensor16  sensor17  \\\n",
       "0  1400.60    14.62  ...   2388.02   8138.62    8.4195      0.03       392   \n",
       "1  1403.14    14.62  ...   2388.07   8131.49    8.4318      0.03       392   \n",
       "2  1404.20    14.62  ...   2388.03   8133.23    8.4178      0.03       390   \n",
       "3  1401.87    14.62  ...   2388.08   8133.83    8.3682      0.03       392   \n",
       "4  1406.22    14.62  ...   2388.04   8133.80    8.4294      0.03       393   \n",
       "\n",
       "   sensor18  sensor19  sensor20  sensor21  RUL  \n",
       "0      2388     100.0     39.06   23.4190  191  \n",
       "1      2388     100.0     39.00   23.4236  190  \n",
       "2      2388     100.0     38.95   23.3442  189  \n",
       "3      2388     100.0     38.88   23.3739  188  \n",
       "4      2388     100.0     38.90   23.4044  187  \n",
       "\n",
       "[5 rows x 27 columns]"
      ]
     },
     "execution_count": 6,
     "metadata": {},
     "output_type": "execute_result"
    }
   ],
   "source": [
    "train_df.head()"
   ]
  },
  {
   "cell_type": "code",
   "execution_count": 7,
   "metadata": {},
   "outputs": [
    {
     "data": {
      "text/html": [
       "<div>\n",
       "<style scoped>\n",
       "    .dataframe tbody tr th:only-of-type {\n",
       "        vertical-align: middle;\n",
       "    }\n",
       "\n",
       "    .dataframe tbody tr th {\n",
       "        vertical-align: top;\n",
       "    }\n",
       "\n",
       "    .dataframe thead th {\n",
       "        text-align: right;\n",
       "    }\n",
       "</style>\n",
       "<table border=\"1\" class=\"dataframe\">\n",
       "  <thead>\n",
       "    <tr style=\"text-align: right;\">\n",
       "      <th></th>\n",
       "      <th>id</th>\n",
       "      <th>cycle</th>\n",
       "      <th>setting1</th>\n",
       "      <th>setting2</th>\n",
       "      <th>setting3</th>\n",
       "      <th>sensor1</th>\n",
       "      <th>sensor2</th>\n",
       "      <th>sensor3</th>\n",
       "      <th>sensor4</th>\n",
       "      <th>sensor5</th>\n",
       "      <th>...</th>\n",
       "      <th>sensor13</th>\n",
       "      <th>sensor14</th>\n",
       "      <th>sensor15</th>\n",
       "      <th>sensor16</th>\n",
       "      <th>sensor17</th>\n",
       "      <th>sensor18</th>\n",
       "      <th>sensor19</th>\n",
       "      <th>sensor20</th>\n",
       "      <th>sensor21</th>\n",
       "      <th>RUL</th>\n",
       "    </tr>\n",
       "  </thead>\n",
       "  <tbody>\n",
       "    <tr>\n",
       "      <th>0</th>\n",
       "      <td>1</td>\n",
       "      <td>1</td>\n",
       "      <td>0.0023</td>\n",
       "      <td>0.0003</td>\n",
       "      <td>100.0</td>\n",
       "      <td>518.67</td>\n",
       "      <td>643.02</td>\n",
       "      <td>1585.29</td>\n",
       "      <td>1398.21</td>\n",
       "      <td>14.62</td>\n",
       "      <td>...</td>\n",
       "      <td>2388.03</td>\n",
       "      <td>8125.55</td>\n",
       "      <td>8.4052</td>\n",
       "      <td>0.03</td>\n",
       "      <td>392</td>\n",
       "      <td>2388</td>\n",
       "      <td>100.0</td>\n",
       "      <td>38.86</td>\n",
       "      <td>23.3735</td>\n",
       "      <td>142</td>\n",
       "    </tr>\n",
       "    <tr>\n",
       "      <th>1</th>\n",
       "      <td>1</td>\n",
       "      <td>2</td>\n",
       "      <td>-0.0027</td>\n",
       "      <td>-0.0003</td>\n",
       "      <td>100.0</td>\n",
       "      <td>518.67</td>\n",
       "      <td>641.71</td>\n",
       "      <td>1588.45</td>\n",
       "      <td>1395.42</td>\n",
       "      <td>14.62</td>\n",
       "      <td>...</td>\n",
       "      <td>2388.06</td>\n",
       "      <td>8139.62</td>\n",
       "      <td>8.3803</td>\n",
       "      <td>0.03</td>\n",
       "      <td>393</td>\n",
       "      <td>2388</td>\n",
       "      <td>100.0</td>\n",
       "      <td>39.02</td>\n",
       "      <td>23.3916</td>\n",
       "      <td>141</td>\n",
       "    </tr>\n",
       "    <tr>\n",
       "      <th>2</th>\n",
       "      <td>1</td>\n",
       "      <td>3</td>\n",
       "      <td>0.0003</td>\n",
       "      <td>0.0001</td>\n",
       "      <td>100.0</td>\n",
       "      <td>518.67</td>\n",
       "      <td>642.46</td>\n",
       "      <td>1586.94</td>\n",
       "      <td>1401.34</td>\n",
       "      <td>14.62</td>\n",
       "      <td>...</td>\n",
       "      <td>2388.03</td>\n",
       "      <td>8130.10</td>\n",
       "      <td>8.4441</td>\n",
       "      <td>0.03</td>\n",
       "      <td>393</td>\n",
       "      <td>2388</td>\n",
       "      <td>100.0</td>\n",
       "      <td>39.08</td>\n",
       "      <td>23.4166</td>\n",
       "      <td>140</td>\n",
       "    </tr>\n",
       "    <tr>\n",
       "      <th>3</th>\n",
       "      <td>1</td>\n",
       "      <td>4</td>\n",
       "      <td>0.0042</td>\n",
       "      <td>0.0000</td>\n",
       "      <td>100.0</td>\n",
       "      <td>518.67</td>\n",
       "      <td>642.44</td>\n",
       "      <td>1584.12</td>\n",
       "      <td>1406.42</td>\n",
       "      <td>14.62</td>\n",
       "      <td>...</td>\n",
       "      <td>2388.05</td>\n",
       "      <td>8132.90</td>\n",
       "      <td>8.3917</td>\n",
       "      <td>0.03</td>\n",
       "      <td>391</td>\n",
       "      <td>2388</td>\n",
       "      <td>100.0</td>\n",
       "      <td>39.00</td>\n",
       "      <td>23.3737</td>\n",
       "      <td>139</td>\n",
       "    </tr>\n",
       "    <tr>\n",
       "      <th>4</th>\n",
       "      <td>1</td>\n",
       "      <td>5</td>\n",
       "      <td>0.0014</td>\n",
       "      <td>0.0000</td>\n",
       "      <td>100.0</td>\n",
       "      <td>518.67</td>\n",
       "      <td>642.51</td>\n",
       "      <td>1587.19</td>\n",
       "      <td>1401.92</td>\n",
       "      <td>14.62</td>\n",
       "      <td>...</td>\n",
       "      <td>2388.03</td>\n",
       "      <td>8129.54</td>\n",
       "      <td>8.4031</td>\n",
       "      <td>0.03</td>\n",
       "      <td>390</td>\n",
       "      <td>2388</td>\n",
       "      <td>100.0</td>\n",
       "      <td>38.99</td>\n",
       "      <td>23.4130</td>\n",
       "      <td>138</td>\n",
       "    </tr>\n",
       "  </tbody>\n",
       "</table>\n",
       "<p>5 rows × 27 columns</p>\n",
       "</div>"
      ],
      "text/plain": [
       "   id  cycle  setting1  setting2  setting3  sensor1  sensor2  sensor3  \\\n",
       "0   1      1    0.0023    0.0003     100.0   518.67   643.02  1585.29   \n",
       "1   1      2   -0.0027   -0.0003     100.0   518.67   641.71  1588.45   \n",
       "2   1      3    0.0003    0.0001     100.0   518.67   642.46  1586.94   \n",
       "3   1      4    0.0042    0.0000     100.0   518.67   642.44  1584.12   \n",
       "4   1      5    0.0014    0.0000     100.0   518.67   642.51  1587.19   \n",
       "\n",
       "   sensor4  sensor5  ...  sensor13  sensor14  sensor15  sensor16  sensor17  \\\n",
       "0  1398.21    14.62  ...   2388.03   8125.55    8.4052      0.03       392   \n",
       "1  1395.42    14.62  ...   2388.06   8139.62    8.3803      0.03       393   \n",
       "2  1401.34    14.62  ...   2388.03   8130.10    8.4441      0.03       393   \n",
       "3  1406.42    14.62  ...   2388.05   8132.90    8.3917      0.03       391   \n",
       "4  1401.92    14.62  ...   2388.03   8129.54    8.4031      0.03       390   \n",
       "\n",
       "   sensor18  sensor19  sensor20  sensor21  RUL  \n",
       "0      2388     100.0     38.86   23.3735  142  \n",
       "1      2388     100.0     39.02   23.3916  141  \n",
       "2      2388     100.0     39.08   23.4166  140  \n",
       "3      2388     100.0     39.00   23.3737  139  \n",
       "4      2388     100.0     38.99   23.4130  138  \n",
       "\n",
       "[5 rows x 27 columns]"
      ]
     },
     "execution_count": 7,
     "metadata": {},
     "output_type": "execute_result"
    }
   ],
   "source": [
    "test_df.head()"
   ]
  },
  {
   "cell_type": "code",
   "execution_count": 8,
   "metadata": {},
   "outputs": [
    {
     "name": "stdout",
     "output_type": "stream",
     "text": [
      "The length of train_df = 20631\n",
      "The length of test_df = 13096\n"
     ]
    }
   ],
   "source": [
    "print(\"The length of train_df = {}\".format(len(train_df)))\n",
    "print(\"The length of test_df = {}\".format(len(test_df)))"
   ]
  },
  {
   "cell_type": "code",
   "execution_count": 9,
   "metadata": {},
   "outputs": [],
   "source": [
    "# Lets choose XGBoost Regressor to model the regression problem"
   ]
  },
  {
   "cell_type": "code",
   "execution_count": 10,
   "metadata": {},
   "outputs": [],
   "source": [
    "import xgboost as xgb\n",
    "from xgboost.sklearn import XGBRegressor\n",
    "from sklearn.preprocessing import MinMaxScaler\n",
    "from sklearn.model_selection import train_test_split\n",
    "from sklearn.metrics import mean_absolute_error\n",
    "from sklearn.metrics import mean_squared_error\n",
    "from sklearn.metrics import explained_variance_score\n",
    "from sklearn.model_selection import GridSearchCV   #Perforing grid search\n",
    "from sklearn.base import BaseEstimator, TransformerMixin\n",
    "from sklearn.pipeline import Pipeline"
   ]
  },
  {
   "cell_type": "code",
   "execution_count": 11,
   "metadata": {},
   "outputs": [],
   "source": [
    "class FeatureSelector(BaseEstimator, TransformerMixin):\n",
    "    \n",
    "    def __init__(self, features):\n",
    "        self.features = features\n",
    "        \n",
    "    def fit(self, X,y=None):\n",
    "        return self\n",
    "    \n",
    "    def transform(self,X):\n",
    "        return X[features].values"
   ]
  },
  {
   "cell_type": "code",
   "execution_count": 12,
   "metadata": {},
   "outputs": [],
   "source": [
    "features = ['setting1', 'setting2', 'setting3', 'sensor1', 'sensor2', 'sensor3','sensor4', 'sensor5', 'sensor6',\n",
    "             'sensor7', 'sensor8', 'sensor9', 'sensor10', 'sensor11', 'sensor12', 'sensor13', 'sensor14','sensor15', 'sensor16',\n",
    "             'sensor17', 'sensor18', 'sensor19', 'sensor20', 'sensor21']\n",
    "\n",
    "X_train = train_df.drop('RUL', axis=1)\n",
    "y_train = train_df[\"RUL\"]\n",
    "\n",
    "X_test = test_df.drop('RUL', axis=1)\n",
    "y_test = test_df[\"RUL\"]\n",
    "pipeline = Pipeline(steps=[\n",
    "    ('selector', FeatureSelector(features)),\n",
    "    ('scaler_x', MinMaxScaler())\n",
    "])"
   ]
  },
  {
   "cell_type": "code",
   "execution_count": 13,
   "metadata": {},
   "outputs": [],
   "source": [
    "train_prepared = pipeline.fit_transform(X_train)"
   ]
  },
  {
   "cell_type": "code",
   "execution_count": 14,
   "metadata": {},
   "outputs": [
    {
     "name": "stdout",
     "output_type": "stream",
     "text": [
      "train_prepared shape = (20631, 24)\n",
      "ytrain_prepared shape = (20631, 1)\n",
      "ytrain_prepared_sc shape = (20631, 1)\n"
     ]
    }
   ],
   "source": [
    "scaler_y = MinMaxScaler()\n",
    "ytrain_prepared = y_train.values.reshape(-1,1)\n",
    "ytrain_prepared_sc = scaler_y.fit_transform(ytrain_prepared)\n",
    "\n",
    "print(\"train_prepared shape = {}\".format(train_prepared.shape))\n",
    "print(\"ytrain_prepared shape = {}\".format(ytrain_prepared.shape))\n",
    "print(\"ytrain_prepared_sc shape = {}\".format(ytrain_prepared_sc.shape))"
   ]
  },
  {
   "cell_type": "code",
   "execution_count": null,
   "metadata": {},
   "outputs": [],
   "source": []
  },
  {
   "cell_type": "code",
   "execution_count": 15,
   "metadata": {},
   "outputs": [
    {
     "data": {
      "text/plain": [
       "array([[0.52908587],\n",
       "       [0.52631579],\n",
       "       [0.52354571],\n",
       "       ...,\n",
       "       [0.00554017],\n",
       "       [0.00277008],\n",
       "       [0.        ]])"
      ]
     },
     "execution_count": 15,
     "metadata": {},
     "output_type": "execute_result"
    }
   ],
   "source": [
    "ytrain_prepared_sc"
   ]
  },
  {
   "cell_type": "code",
   "execution_count": 16,
   "metadata": {},
   "outputs": [],
   "source": [
    "test_prepared = pipeline.transform(X_test)"
   ]
  },
  {
   "cell_type": "code",
   "execution_count": 17,
   "metadata": {},
   "outputs": [
    {
     "name": "stdout",
     "output_type": "stream",
     "text": [
      "test_prepared shape = (13096, 24)\n",
      "ytest_prepared shape = (13096, 1)\n",
      "ytest_prepared_sc shape = (13096, 1)\n"
     ]
    }
   ],
   "source": [
    "ytest_prepared = y_test.values.reshape(-1,1)\n",
    "ytest_prepared_sc = scaler_y.transform(ytest_prepared)\n",
    "print(\"test_prepared shape = {}\".format(test_prepared.shape))\n",
    "print(\"ytest_prepared shape = {}\".format(ytest_prepared.shape))\n",
    "print(\"ytest_prepared_sc shape = {}\".format(ytest_prepared_sc.shape))"
   ]
  },
  {
   "cell_type": "code",
   "execution_count": 18,
   "metadata": {},
   "outputs": [],
   "source": [
    "dtrain = xgb.DMatrix(train_prepared, label=ytrain_prepared_sc)\n",
    "dtest = xgb.DMatrix(test_prepared, label=ytest_prepared_sc)"
   ]
  },
  {
   "cell_type": "code",
   "execution_count": 20,
   "metadata": {},
   "outputs": [
    {
     "data": {
      "text/plain": [
       "<xgboost.core.DMatrix at 0x1bab6cae460>"
      ]
     },
     "execution_count": 20,
     "metadata": {},
     "output_type": "execute_result"
    }
   ],
   "source": [
    "dtrain"
   ]
  },
  {
   "cell_type": "raw",
   "metadata": {},
   "source": [
    "# define the gridsearch_params to tune the min_child_weight and max_depth and see where we can get the optimum values"
   ]
  },
  {
   "cell_type": "code",
   "execution_count": 21,
   "metadata": {},
   "outputs": [],
   "source": [
    "gridsearch_params = [\n",
    "    (max_depth, min_child_weight)\n",
    "    for max_depth in range(9,12)\n",
    "    for min_child_weight in range(5,8)\n",
    "]"
   ]
  },
  {
   "cell_type": "code",
   "execution_count": 23,
   "metadata": {},
   "outputs": [],
   "source": [
    "params = {\n",
    "    # Parameters that we are going to tune.\n",
    "    'max_depth':6,\n",
    "    'min_child_weight': 1,\n",
    "    'eta':.3,\n",
    "    'subsample': 1,\n",
    "    'colsample_bytree': 1,\n",
    "    # Other parameters\n",
    "    'objective':'reg:linear',\n",
    "}"
   ]
  },
  {
   "cell_type": "code",
   "execution_count": 24,
   "metadata": {},
   "outputs": [
    {
     "name": "stdout",
     "output_type": "stream",
     "text": [
      "CV with max_depth=9, min_child_weight=5\n",
      "[14:08:46] WARNING: C:/Users/Administrator/workspace/xgboost-win64_release_1.2.0/src/objective/regression_obj.cu:174: reg:linear is now deprecated in favor of reg:squarederror.\n",
      "[14:08:46] WARNING: C:/Users/Administrator/workspace/xgboost-win64_release_1.2.0/src/objective/regression_obj.cu:174: reg:linear is now deprecated in favor of reg:squarederror.\n",
      "[14:08:46] WARNING: C:/Users/Administrator/workspace/xgboost-win64_release_1.2.0/src/objective/regression_obj.cu:174: reg:linear is now deprecated in favor of reg:squarederror.\n",
      "[14:08:46] WARNING: C:/Users/Administrator/workspace/xgboost-win64_release_1.2.0/src/objective/regression_obj.cu:174: reg:linear is now deprecated in favor of reg:squarederror.\n",
      "[14:08:46] WARNING: C:/Users/Administrator/workspace/xgboost-win64_release_1.2.0/src/objective/regression_obj.cu:174: reg:linear is now deprecated in favor of reg:squarederror.\n",
      "\tMAE 0.0836914 for 14 rounds\n",
      "CV with max_depth=9, min_child_weight=6\n",
      "[14:08:48] WARNING: C:/Users/Administrator/workspace/xgboost-win64_release_1.2.0/src/objective/regression_obj.cu:174: reg:linear is now deprecated in favor of reg:squarederror.\n",
      "[14:08:48] WARNING: C:/Users/Administrator/workspace/xgboost-win64_release_1.2.0/src/objective/regression_obj.cu:174: reg:linear is now deprecated in favor of reg:squarederror.\n",
      "[14:08:48] WARNING: C:/Users/Administrator/workspace/xgboost-win64_release_1.2.0/src/objective/regression_obj.cu:174: reg:linear is now deprecated in favor of reg:squarederror.\n",
      "[14:08:48] WARNING: C:/Users/Administrator/workspace/xgboost-win64_release_1.2.0/src/objective/regression_obj.cu:174: reg:linear is now deprecated in favor of reg:squarederror.\n",
      "[14:08:48] WARNING: C:/Users/Administrator/workspace/xgboost-win64_release_1.2.0/src/objective/regression_obj.cu:174: reg:linear is now deprecated in favor of reg:squarederror.\n",
      "\tMAE 0.083843 for 12 rounds\n",
      "CV with max_depth=9, min_child_weight=7\n",
      "[14:08:50] WARNING: C:/Users/Administrator/workspace/xgboost-win64_release_1.2.0/src/objective/regression_obj.cu:174: reg:linear is now deprecated in favor of reg:squarederror.\n",
      "[14:08:50] WARNING: C:/Users/Administrator/workspace/xgboost-win64_release_1.2.0/src/objective/regression_obj.cu:174: reg:linear is now deprecated in favor of reg:squarederror.\n",
      "[14:08:50] WARNING: C:/Users/Administrator/workspace/xgboost-win64_release_1.2.0/src/objective/regression_obj.cu:174: reg:linear is now deprecated in favor of reg:squarederror.\n",
      "[14:08:50] WARNING: C:/Users/Administrator/workspace/xgboost-win64_release_1.2.0/src/objective/regression_obj.cu:174: reg:linear is now deprecated in favor of reg:squarederror.\n",
      "[14:08:50] WARNING: C:/Users/Administrator/workspace/xgboost-win64_release_1.2.0/src/objective/regression_obj.cu:174: reg:linear is now deprecated in favor of reg:squarederror.\n",
      "\tMAE 0.083527 for 13 rounds\n",
      "CV with max_depth=10, min_child_weight=5\n",
      "[14:08:52] WARNING: C:/Users/Administrator/workspace/xgboost-win64_release_1.2.0/src/objective/regression_obj.cu:174: reg:linear is now deprecated in favor of reg:squarederror.\n",
      "[14:08:52] WARNING: C:/Users/Administrator/workspace/xgboost-win64_release_1.2.0/src/objective/regression_obj.cu:174: reg:linear is now deprecated in favor of reg:squarederror.\n",
      "[14:08:52] WARNING: C:/Users/Administrator/workspace/xgboost-win64_release_1.2.0/src/objective/regression_obj.cu:174: reg:linear is now deprecated in favor of reg:squarederror.\n",
      "[14:08:52] WARNING: C:/Users/Administrator/workspace/xgboost-win64_release_1.2.0/src/objective/regression_obj.cu:174: reg:linear is now deprecated in favor of reg:squarederror.\n",
      "[14:08:52] WARNING: C:/Users/Administrator/workspace/xgboost-win64_release_1.2.0/src/objective/regression_obj.cu:174: reg:linear is now deprecated in favor of reg:squarederror.\n",
      "\tMAE 0.08416019999999999 for 15 rounds\n",
      "CV with max_depth=10, min_child_weight=6\n",
      "[14:08:54] WARNING: C:/Users/Administrator/workspace/xgboost-win64_release_1.2.0/src/objective/regression_obj.cu:174: reg:linear is now deprecated in favor of reg:squarederror.\n",
      "[14:08:54] WARNING: C:/Users/Administrator/workspace/xgboost-win64_release_1.2.0/src/objective/regression_obj.cu:174: reg:linear is now deprecated in favor of reg:squarederror.\n",
      "[14:08:54] WARNING: C:/Users/Administrator/workspace/xgboost-win64_release_1.2.0/src/objective/regression_obj.cu:174: reg:linear is now deprecated in favor of reg:squarederror.\n",
      "[14:08:54] WARNING: C:/Users/Administrator/workspace/xgboost-win64_release_1.2.0/src/objective/regression_obj.cu:174: reg:linear is now deprecated in favor of reg:squarederror.\n",
      "[14:08:54] WARNING: C:/Users/Administrator/workspace/xgboost-win64_release_1.2.0/src/objective/regression_obj.cu:174: reg:linear is now deprecated in favor of reg:squarederror.\n",
      "\tMAE 0.0842946 for 12 rounds\n",
      "CV with max_depth=10, min_child_weight=7\n",
      "[14:08:56] WARNING: C:/Users/Administrator/workspace/xgboost-win64_release_1.2.0/src/objective/regression_obj.cu:174: reg:linear is now deprecated in favor of reg:squarederror.\n",
      "[14:08:56] WARNING: C:/Users/Administrator/workspace/xgboost-win64_release_1.2.0/src/objective/regression_obj.cu:174: reg:linear is now deprecated in favor of reg:squarederror.\n",
      "[14:08:56] WARNING: C:/Users/Administrator/workspace/xgboost-win64_release_1.2.0/src/objective/regression_obj.cu:174: reg:linear is now deprecated in favor of reg:squarederror.\n",
      "[14:08:56] WARNING: C:/Users/Administrator/workspace/xgboost-win64_release_1.2.0/src/objective/regression_obj.cu:174: reg:linear is now deprecated in favor of reg:squarederror.\n",
      "[14:08:56] WARNING: C:/Users/Administrator/workspace/xgboost-win64_release_1.2.0/src/objective/regression_obj.cu:174: reg:linear is now deprecated in favor of reg:squarederror.\n",
      "\tMAE 0.0841906 for 12 rounds\n",
      "CV with max_depth=11, min_child_weight=5\n",
      "[14:08:58] WARNING: C:/Users/Administrator/workspace/xgboost-win64_release_1.2.0/src/objective/regression_obj.cu:174: reg:linear is now deprecated in favor of reg:squarederror.\n",
      "[14:08:58] WARNING: C:/Users/Administrator/workspace/xgboost-win64_release_1.2.0/src/objective/regression_obj.cu:174: reg:linear is now deprecated in favor of reg:squarederror.\n",
      "[14:08:58] WARNING: C:/Users/Administrator/workspace/xgboost-win64_release_1.2.0/src/objective/regression_obj.cu:174: reg:linear is now deprecated in favor of reg:squarederror.\n",
      "[14:08:58] WARNING: C:/Users/Administrator/workspace/xgboost-win64_release_1.2.0/src/objective/regression_obj.cu:174: reg:linear is now deprecated in favor of reg:squarederror.\n",
      "[14:08:59] WARNING: C:/Users/Administrator/workspace/xgboost-win64_release_1.2.0/src/objective/regression_obj.cu:174: reg:linear is now deprecated in favor of reg:squarederror.\n",
      "\tMAE 0.0852042 for 12 rounds\n",
      "CV with max_depth=11, min_child_weight=6\n",
      "[14:09:01] WARNING: C:/Users/Administrator/workspace/xgboost-win64_release_1.2.0/src/objective/regression_obj.cu:174: reg:linear is now deprecated in favor of reg:squarederror.\n",
      "[14:09:01] WARNING: C:/Users/Administrator/workspace/xgboost-win64_release_1.2.0/src/objective/regression_obj.cu:174: reg:linear is now deprecated in favor of reg:squarederror.\n",
      "[14:09:01] WARNING: C:/Users/Administrator/workspace/xgboost-win64_release_1.2.0/src/objective/regression_obj.cu:174: reg:linear is now deprecated in favor of reg:squarederror.\n",
      "[14:09:01] WARNING: C:/Users/Administrator/workspace/xgboost-win64_release_1.2.0/src/objective/regression_obj.cu:174: reg:linear is now deprecated in favor of reg:squarederror.\n",
      "[14:09:01] WARNING: C:/Users/Administrator/workspace/xgboost-win64_release_1.2.0/src/objective/regression_obj.cu:174: reg:linear is now deprecated in favor of reg:squarederror.\n",
      "\tMAE 0.085087 for 15 rounds\n",
      "CV with max_depth=11, min_child_weight=7\n",
      "[14:09:04] WARNING: C:/Users/Administrator/workspace/xgboost-win64_release_1.2.0/src/objective/regression_obj.cu:174: reg:linear is now deprecated in favor of reg:squarederror.\n",
      "[14:09:04] WARNING: C:/Users/Administrator/workspace/xgboost-win64_release_1.2.0/src/objective/regression_obj.cu:174: reg:linear is now deprecated in favor of reg:squarederror.\n",
      "[14:09:04] WARNING: C:/Users/Administrator/workspace/xgboost-win64_release_1.2.0/src/objective/regression_obj.cu:174: reg:linear is now deprecated in favor of reg:squarederror.\n",
      "[14:09:04] WARNING: C:/Users/Administrator/workspace/xgboost-win64_release_1.2.0/src/objective/regression_obj.cu:174: reg:linear is now deprecated in favor of reg:squarederror.\n",
      "[14:09:04] WARNING: C:/Users/Administrator/workspace/xgboost-win64_release_1.2.0/src/objective/regression_obj.cu:174: reg:linear is now deprecated in favor of reg:squarederror.\n"
     ]
    },
    {
     "name": "stdout",
     "output_type": "stream",
     "text": [
      "\tMAE 0.0850332 for 13 rounds\n",
      "Best params: 9, 7, MAE: 0.083527\n"
     ]
    }
   ],
   "source": [
    "# Define initial best params and MAE\n",
    "min_mae = float(\"Inf\")\n",
    "num_boost_round = 90\n",
    "best_params = None\n",
    "for max_depth, min_child_weight in gridsearch_params:\n",
    "    print(\"CV with max_depth={}, min_child_weight={}\".format(\n",
    "                             max_depth,\n",
    "                             min_child_weight))\n",
    "    # Update our parameters\n",
    "    params['max_depth'] = max_depth\n",
    "    params['min_child_weight'] = min_child_weight\n",
    "    # Run CV\n",
    "    cv_results = xgb.cv(\n",
    "        params,\n",
    "        dtrain,\n",
    "        num_boost_round=num_boost_round,\n",
    "        seed=42,\n",
    "        nfold=5,\n",
    "        metrics={'mae'},\n",
    "        early_stopping_rounds=10\n",
    "    )\n",
    "    # Update best MAE\n",
    "    mean_mae = cv_results['test-mae-mean'].min()\n",
    "    boost_rounds = cv_results['test-mae-mean'].argmin()\n",
    "    print(\"\\tMAE {} for {} rounds\".format(mean_mae, boost_rounds))\n",
    "    if mean_mae < min_mae:\n",
    "        min_mae = mean_mae\n",
    "        best_params = (max_depth,min_child_weight)\n",
    "print(\"Best params: {}, {}, MAE: {}\".format(best_params[0], best_params[1], min_mae))"
   ]
  },
  {
   "cell_type": "raw",
   "metadata": {},
   "source": [
    "Now we can update our Best params as \n",
    "1. max_depth = 9\n",
    "2. Min_child_weight = 7\n"
   ]
  },
  {
   "cell_type": "raw",
   "metadata": {},
   "source": [
    "Lets again tune and get the values of colsample_by_tree and the subsample.\n"
   ]
  },
  {
   "cell_type": "code",
   "execution_count": 35,
   "metadata": {},
   "outputs": [],
   "source": [
    "# Define an other set of grid-search params\n",
    "gridsearch_params_new = [\n",
    "    (subsample, colsample)\n",
    "    for subsample in [i/10. for i in range(7,11)]\n",
    "    for colsample in [i/10. for i in range(7,11)]\n",
    "]"
   ]
  },
  {
   "cell_type": "code",
   "execution_count": 36,
   "metadata": {},
   "outputs": [],
   "source": [
    "updated_params = {\n",
    "    # Parameters that we are going to tune.\n",
    "    'max_depth':9,\n",
    "    'min_child_weight': 7,\n",
    "    'eta':.3,\n",
    "    'subsample': 1,\n",
    "    'colsample_bytree': 1,\n",
    "    # Other parameters\n",
    "    'objective':'reg:linear',\n",
    "}"
   ]
  },
  {
   "cell_type": "code",
   "execution_count": 37,
   "metadata": {},
   "outputs": [
    {
     "name": "stdout",
     "output_type": "stream",
     "text": [
      "CV with subsample=1.0, colsample=1.0\n",
      "[14:50:33] WARNING: C:/Users/Administrator/workspace/xgboost-win64_release_1.2.0/src/objective/regression_obj.cu:174: reg:linear is now deprecated in favor of reg:squarederror.\n",
      "[14:50:33] WARNING: C:/Users/Administrator/workspace/xgboost-win64_release_1.2.0/src/objective/regression_obj.cu:174: reg:linear is now deprecated in favor of reg:squarederror.\n",
      "[14:50:34] WARNING: C:/Users/Administrator/workspace/xgboost-win64_release_1.2.0/src/objective/regression_obj.cu:174: reg:linear is now deprecated in favor of reg:squarederror.\n",
      "[14:50:34] WARNING: C:/Users/Administrator/workspace/xgboost-win64_release_1.2.0/src/objective/regression_obj.cu:174: reg:linear is now deprecated in favor of reg:squarederror.\n",
      "[14:50:34] WARNING: C:/Users/Administrator/workspace/xgboost-win64_release_1.2.0/src/objective/regression_obj.cu:174: reg:linear is now deprecated in favor of reg:squarederror.\n",
      "\tMAE 0.083527 for 13 rounds\n",
      "CV with subsample=1.0, colsample=0.9\n",
      "[14:50:35] WARNING: C:/Users/Administrator/workspace/xgboost-win64_release_1.2.0/src/objective/regression_obj.cu:174: reg:linear is now deprecated in favor of reg:squarederror.\n",
      "[14:50:35] WARNING: C:/Users/Administrator/workspace/xgboost-win64_release_1.2.0/src/objective/regression_obj.cu:174: reg:linear is now deprecated in favor of reg:squarederror.\n",
      "[14:50:35] WARNING: C:/Users/Administrator/workspace/xgboost-win64_release_1.2.0/src/objective/regression_obj.cu:174: reg:linear is now deprecated in favor of reg:squarederror.\n",
      "[14:50:35] WARNING: C:/Users/Administrator/workspace/xgboost-win64_release_1.2.0/src/objective/regression_obj.cu:174: reg:linear is now deprecated in favor of reg:squarederror.\n",
      "[14:50:35] WARNING: C:/Users/Administrator/workspace/xgboost-win64_release_1.2.0/src/objective/regression_obj.cu:174: reg:linear is now deprecated in favor of reg:squarederror.\n",
      "\tMAE 0.083527 for 13 rounds\n",
      "CV with subsample=1.0, colsample=0.8\n",
      "[14:50:37] WARNING: C:/Users/Administrator/workspace/xgboost-win64_release_1.2.0/src/objective/regression_obj.cu:174: reg:linear is now deprecated in favor of reg:squarederror.\n",
      "[14:50:37] WARNING: C:/Users/Administrator/workspace/xgboost-win64_release_1.2.0/src/objective/regression_obj.cu:174: reg:linear is now deprecated in favor of reg:squarederror.\n",
      "[14:50:37] WARNING: C:/Users/Administrator/workspace/xgboost-win64_release_1.2.0/src/objective/regression_obj.cu:174: reg:linear is now deprecated in favor of reg:squarederror.\n",
      "[14:50:37] WARNING: C:/Users/Administrator/workspace/xgboost-win64_release_1.2.0/src/objective/regression_obj.cu:174: reg:linear is now deprecated in favor of reg:squarederror.\n",
      "[14:50:37] WARNING: C:/Users/Administrator/workspace/xgboost-win64_release_1.2.0/src/objective/regression_obj.cu:174: reg:linear is now deprecated in favor of reg:squarederror.\n",
      "\tMAE 0.083527 for 13 rounds\n",
      "CV with subsample=1.0, colsample=0.7\n",
      "[14:50:39] WARNING: C:/Users/Administrator/workspace/xgboost-win64_release_1.2.0/src/objective/regression_obj.cu:174: reg:linear is now deprecated in favor of reg:squarederror.\n",
      "[14:50:39] WARNING: C:/Users/Administrator/workspace/xgboost-win64_release_1.2.0/src/objective/regression_obj.cu:174: reg:linear is now deprecated in favor of reg:squarederror.\n",
      "[14:50:39] WARNING: C:/Users/Administrator/workspace/xgboost-win64_release_1.2.0/src/objective/regression_obj.cu:174: reg:linear is now deprecated in favor of reg:squarederror.\n",
      "[14:50:39] WARNING: C:/Users/Administrator/workspace/xgboost-win64_release_1.2.0/src/objective/regression_obj.cu:174: reg:linear is now deprecated in favor of reg:squarederror.\n",
      "[14:50:39] WARNING: C:/Users/Administrator/workspace/xgboost-win64_release_1.2.0/src/objective/regression_obj.cu:174: reg:linear is now deprecated in favor of reg:squarederror.\n",
      "\tMAE 0.083527 for 13 rounds\n",
      "CV with subsample=0.9, colsample=1.0\n",
      "[14:50:41] WARNING: C:/Users/Administrator/workspace/xgboost-win64_release_1.2.0/src/objective/regression_obj.cu:174: reg:linear is now deprecated in favor of reg:squarederror.\n",
      "[14:50:41] WARNING: C:/Users/Administrator/workspace/xgboost-win64_release_1.2.0/src/objective/regression_obj.cu:174: reg:linear is now deprecated in favor of reg:squarederror.\n",
      "[14:50:41] WARNING: C:/Users/Administrator/workspace/xgboost-win64_release_1.2.0/src/objective/regression_obj.cu:174: reg:linear is now deprecated in favor of reg:squarederror.\n",
      "[14:50:41] WARNING: C:/Users/Administrator/workspace/xgboost-win64_release_1.2.0/src/objective/regression_obj.cu:174: reg:linear is now deprecated in favor of reg:squarederror.\n",
      "[14:50:41] WARNING: C:/Users/Administrator/workspace/xgboost-win64_release_1.2.0/src/objective/regression_obj.cu:174: reg:linear is now deprecated in favor of reg:squarederror.\n",
      "\tMAE 0.083527 for 13 rounds\n",
      "CV with subsample=0.9, colsample=0.9\n",
      "[14:50:43] WARNING: C:/Users/Administrator/workspace/xgboost-win64_release_1.2.0/src/objective/regression_obj.cu:174: reg:linear is now deprecated in favor of reg:squarederror.\n",
      "[14:50:43] WARNING: C:/Users/Administrator/workspace/xgboost-win64_release_1.2.0/src/objective/regression_obj.cu:174: reg:linear is now deprecated in favor of reg:squarederror.\n",
      "[14:50:43] WARNING: C:/Users/Administrator/workspace/xgboost-win64_release_1.2.0/src/objective/regression_obj.cu:174: reg:linear is now deprecated in favor of reg:squarederror.\n",
      "[14:50:43] WARNING: C:/Users/Administrator/workspace/xgboost-win64_release_1.2.0/src/objective/regression_obj.cu:174: reg:linear is now deprecated in favor of reg:squarederror.\n",
      "[14:50:43] WARNING: C:/Users/Administrator/workspace/xgboost-win64_release_1.2.0/src/objective/regression_obj.cu:174: reg:linear is now deprecated in favor of reg:squarederror.\n",
      "\tMAE 0.083527 for 13 rounds\n",
      "CV with subsample=0.9, colsample=0.8\n",
      "[14:50:45] WARNING: C:/Users/Administrator/workspace/xgboost-win64_release_1.2.0/src/objective/regression_obj.cu:174: reg:linear is now deprecated in favor of reg:squarederror.\n",
      "[14:50:45] WARNING: C:/Users/Administrator/workspace/xgboost-win64_release_1.2.0/src/objective/regression_obj.cu:174: reg:linear is now deprecated in favor of reg:squarederror.\n",
      "[14:50:45] WARNING: C:/Users/Administrator/workspace/xgboost-win64_release_1.2.0/src/objective/regression_obj.cu:174: reg:linear is now deprecated in favor of reg:squarederror.\n",
      "[14:50:45] WARNING: C:/Users/Administrator/workspace/xgboost-win64_release_1.2.0/src/objective/regression_obj.cu:174: reg:linear is now deprecated in favor of reg:squarederror.\n",
      "[14:50:45] WARNING: C:/Users/Administrator/workspace/xgboost-win64_release_1.2.0/src/objective/regression_obj.cu:174: reg:linear is now deprecated in favor of reg:squarederror.\n",
      "\tMAE 0.083527 for 13 rounds\n",
      "CV with subsample=0.9, colsample=0.7\n",
      "[14:50:47] WARNING: C:/Users/Administrator/workspace/xgboost-win64_release_1.2.0/src/objective/regression_obj.cu:174: reg:linear is now deprecated in favor of reg:squarederror.\n",
      "[14:50:47] WARNING: C:/Users/Administrator/workspace/xgboost-win64_release_1.2.0/src/objective/regression_obj.cu:174: reg:linear is now deprecated in favor of reg:squarederror.\n",
      "[14:50:47] WARNING: C:/Users/Administrator/workspace/xgboost-win64_release_1.2.0/src/objective/regression_obj.cu:174: reg:linear is now deprecated in favor of reg:squarederror.\n",
      "[14:50:47] WARNING: C:/Users/Administrator/workspace/xgboost-win64_release_1.2.0/src/objective/regression_obj.cu:174: reg:linear is now deprecated in favor of reg:squarederror.\n",
      "[14:50:47] WARNING: C:/Users/Administrator/workspace/xgboost-win64_release_1.2.0/src/objective/regression_obj.cu:174: reg:linear is now deprecated in favor of reg:squarederror.\n",
      "\tMAE 0.083527 for 13 rounds\n",
      "CV with subsample=0.8, colsample=1.0\n",
      "[14:50:50] WARNING: C:/Users/Administrator/workspace/xgboost-win64_release_1.2.0/src/objective/regression_obj.cu:174: reg:linear is now deprecated in favor of reg:squarederror.\n",
      "[14:50:50] WARNING: C:/Users/Administrator/workspace/xgboost-win64_release_1.2.0/src/objective/regression_obj.cu:174: reg:linear is now deprecated in favor of reg:squarederror.\n",
      "[14:50:50] WARNING: C:/Users/Administrator/workspace/xgboost-win64_release_1.2.0/src/objective/regression_obj.cu:174: reg:linear is now deprecated in favor of reg:squarederror.\n",
      "[14:50:50] WARNING: C:/Users/Administrator/workspace/xgboost-win64_release_1.2.0/src/objective/regression_obj.cu:174: reg:linear is now deprecated in favor of reg:squarederror.\n",
      "[14:50:50] WARNING: C:/Users/Administrator/workspace/xgboost-win64_release_1.2.0/src/objective/regression_obj.cu:174: reg:linear is now deprecated in favor of reg:squarederror.\n"
     ]
    },
    {
     "name": "stdout",
     "output_type": "stream",
     "text": [
      "\tMAE 0.083527 for 13 rounds\n",
      "CV with subsample=0.8, colsample=0.9\n",
      "[14:50:52] WARNING: C:/Users/Administrator/workspace/xgboost-win64_release_1.2.0/src/objective/regression_obj.cu:174: reg:linear is now deprecated in favor of reg:squarederror.\n",
      "[14:50:52] WARNING: C:/Users/Administrator/workspace/xgboost-win64_release_1.2.0/src/objective/regression_obj.cu:174: reg:linear is now deprecated in favor of reg:squarederror.\n",
      "[14:50:52] WARNING: C:/Users/Administrator/workspace/xgboost-win64_release_1.2.0/src/objective/regression_obj.cu:174: reg:linear is now deprecated in favor of reg:squarederror.\n",
      "[14:50:52] WARNING: C:/Users/Administrator/workspace/xgboost-win64_release_1.2.0/src/objective/regression_obj.cu:174: reg:linear is now deprecated in favor of reg:squarederror.\n",
      "[14:50:52] WARNING: C:/Users/Administrator/workspace/xgboost-win64_release_1.2.0/src/objective/regression_obj.cu:174: reg:linear is now deprecated in favor of reg:squarederror.\n",
      "\tMAE 0.083527 for 13 rounds\n",
      "CV with subsample=0.8, colsample=0.8\n",
      "[14:50:54] WARNING: C:/Users/Administrator/workspace/xgboost-win64_release_1.2.0/src/objective/regression_obj.cu:174: reg:linear is now deprecated in favor of reg:squarederror.\n",
      "[14:50:54] WARNING: C:/Users/Administrator/workspace/xgboost-win64_release_1.2.0/src/objective/regression_obj.cu:174: reg:linear is now deprecated in favor of reg:squarederror.\n",
      "[14:50:54] WARNING: C:/Users/Administrator/workspace/xgboost-win64_release_1.2.0/src/objective/regression_obj.cu:174: reg:linear is now deprecated in favor of reg:squarederror.\n",
      "[14:50:54] WARNING: C:/Users/Administrator/workspace/xgboost-win64_release_1.2.0/src/objective/regression_obj.cu:174: reg:linear is now deprecated in favor of reg:squarederror.\n",
      "[14:50:54] WARNING: C:/Users/Administrator/workspace/xgboost-win64_release_1.2.0/src/objective/regression_obj.cu:174: reg:linear is now deprecated in favor of reg:squarederror.\n",
      "\tMAE 0.083527 for 13 rounds\n",
      "CV with subsample=0.8, colsample=0.7\n",
      "[14:50:56] WARNING: C:/Users/Administrator/workspace/xgboost-win64_release_1.2.0/src/objective/regression_obj.cu:174: reg:linear is now deprecated in favor of reg:squarederror.\n",
      "[14:50:56] WARNING: C:/Users/Administrator/workspace/xgboost-win64_release_1.2.0/src/objective/regression_obj.cu:174: reg:linear is now deprecated in favor of reg:squarederror.\n",
      "[14:50:56] WARNING: C:/Users/Administrator/workspace/xgboost-win64_release_1.2.0/src/objective/regression_obj.cu:174: reg:linear is now deprecated in favor of reg:squarederror.\n",
      "[14:50:56] WARNING: C:/Users/Administrator/workspace/xgboost-win64_release_1.2.0/src/objective/regression_obj.cu:174: reg:linear is now deprecated in favor of reg:squarederror.\n",
      "[14:50:56] WARNING: C:/Users/Administrator/workspace/xgboost-win64_release_1.2.0/src/objective/regression_obj.cu:174: reg:linear is now deprecated in favor of reg:squarederror.\n",
      "\tMAE 0.083527 for 13 rounds\n",
      "CV with subsample=0.7, colsample=1.0\n",
      "[14:50:58] WARNING: C:/Users/Administrator/workspace/xgboost-win64_release_1.2.0/src/objective/regression_obj.cu:174: reg:linear is now deprecated in favor of reg:squarederror.\n",
      "[14:50:58] WARNING: C:/Users/Administrator/workspace/xgboost-win64_release_1.2.0/src/objective/regression_obj.cu:174: reg:linear is now deprecated in favor of reg:squarederror.\n",
      "[14:50:58] WARNING: C:/Users/Administrator/workspace/xgboost-win64_release_1.2.0/src/objective/regression_obj.cu:174: reg:linear is now deprecated in favor of reg:squarederror.\n",
      "[14:50:58] WARNING: C:/Users/Administrator/workspace/xgboost-win64_release_1.2.0/src/objective/regression_obj.cu:174: reg:linear is now deprecated in favor of reg:squarederror.\n",
      "[14:50:58] WARNING: C:/Users/Administrator/workspace/xgboost-win64_release_1.2.0/src/objective/regression_obj.cu:174: reg:linear is now deprecated in favor of reg:squarederror.\n",
      "\tMAE 0.083527 for 13 rounds\n",
      "CV with subsample=0.7, colsample=0.9\n",
      "[14:51:01] WARNING: C:/Users/Administrator/workspace/xgboost-win64_release_1.2.0/src/objective/regression_obj.cu:174: reg:linear is now deprecated in favor of reg:squarederror.\n",
      "[14:51:01] WARNING: C:/Users/Administrator/workspace/xgboost-win64_release_1.2.0/src/objective/regression_obj.cu:174: reg:linear is now deprecated in favor of reg:squarederror.\n",
      "[14:51:01] WARNING: C:/Users/Administrator/workspace/xgboost-win64_release_1.2.0/src/objective/regression_obj.cu:174: reg:linear is now deprecated in favor of reg:squarederror.\n",
      "[14:51:01] WARNING: C:/Users/Administrator/workspace/xgboost-win64_release_1.2.0/src/objective/regression_obj.cu:174: reg:linear is now deprecated in favor of reg:squarederror.\n",
      "[14:51:01] WARNING: C:/Users/Administrator/workspace/xgboost-win64_release_1.2.0/src/objective/regression_obj.cu:174: reg:linear is now deprecated in favor of reg:squarederror.\n",
      "\tMAE 0.083527 for 13 rounds\n",
      "CV with subsample=0.7, colsample=0.8\n",
      "[14:51:03] WARNING: C:/Users/Administrator/workspace/xgboost-win64_release_1.2.0/src/objective/regression_obj.cu:174: reg:linear is now deprecated in favor of reg:squarederror.\n",
      "[14:51:03] WARNING: C:/Users/Administrator/workspace/xgboost-win64_release_1.2.0/src/objective/regression_obj.cu:174: reg:linear is now deprecated in favor of reg:squarederror.\n",
      "[14:51:03] WARNING: C:/Users/Administrator/workspace/xgboost-win64_release_1.2.0/src/objective/regression_obj.cu:174: reg:linear is now deprecated in favor of reg:squarederror.\n",
      "[14:51:03] WARNING: C:/Users/Administrator/workspace/xgboost-win64_release_1.2.0/src/objective/regression_obj.cu:174: reg:linear is now deprecated in favor of reg:squarederror.\n",
      "[14:51:03] WARNING: C:/Users/Administrator/workspace/xgboost-win64_release_1.2.0/src/objective/regression_obj.cu:174: reg:linear is now deprecated in favor of reg:squarederror.\n",
      "\tMAE 0.083527 for 13 rounds\n",
      "CV with subsample=0.7, colsample=0.7\n",
      "[14:51:05] WARNING: C:/Users/Administrator/workspace/xgboost-win64_release_1.2.0/src/objective/regression_obj.cu:174: reg:linear is now deprecated in favor of reg:squarederror.\n",
      "[14:51:05] WARNING: C:/Users/Administrator/workspace/xgboost-win64_release_1.2.0/src/objective/regression_obj.cu:174: reg:linear is now deprecated in favor of reg:squarederror.\n",
      "[14:51:05] WARNING: C:/Users/Administrator/workspace/xgboost-win64_release_1.2.0/src/objective/regression_obj.cu:174: reg:linear is now deprecated in favor of reg:squarederror.\n",
      "[14:51:05] WARNING: C:/Users/Administrator/workspace/xgboost-win64_release_1.2.0/src/objective/regression_obj.cu:174: reg:linear is now deprecated in favor of reg:squarederror.\n",
      "[14:51:05] WARNING: C:/Users/Administrator/workspace/xgboost-win64_release_1.2.0/src/objective/regression_obj.cu:174: reg:linear is now deprecated in favor of reg:squarederror.\n",
      "\tMAE 0.083527 for 13 rounds\n",
      "Best params: 1.0, 1.0, MAE: 0.083527\n"
     ]
    }
   ],
   "source": [
    "# Now tune for different values of subsample and colsample_by_tree\n",
    "\n",
    "min_mae = float(\"Inf\")\n",
    "best_params = None\n",
    "# We start by the largest values and go down to the smallest\n",
    "for subsample, colsample in reversed(gridsearch_params_new):\n",
    "    print(\"CV with subsample={}, colsample={}\".format(\n",
    "                             subsample,\n",
    "                             colsample))\n",
    "    # We update our parameters\n",
    "    params['subsample'] = subsample\n",
    "    params['colsample_bytree'] = colsample\n",
    "    # Run CV\n",
    "    cv_results = xgb.cv(\n",
    "        updated_params,\n",
    "        dtrain,\n",
    "        num_boost_round=num_boost_round,\n",
    "        seed=42,\n",
    "        nfold=5,\n",
    "        metrics={'mae'},\n",
    "        early_stopping_rounds=10\n",
    "    )\n",
    "    # Update best score\n",
    "    mean_mae = cv_results['test-mae-mean'].min()\n",
    "    boost_rounds = cv_results['test-mae-mean'].argmin()\n",
    "    print(\"\\tMAE {} for {} rounds\".format(mean_mae, boost_rounds))\n",
    "    if mean_mae < min_mae:\n",
    "        min_mae = mean_mae\n",
    "        best_params = (subsample,colsample)\n",
    "print(\"Best params: {}, {}, MAE: {}\".format(best_params[0], best_params[1], min_mae))\n"
   ]
  },
  {
   "cell_type": "code",
   "execution_count": 50,
   "metadata": {},
   "outputs": [],
   "source": [
    "# lets update the params dictionary with the new values f subsamples and the colsample_by_tree\n",
    "updated_params_new = {\n",
    "    # Parameters that we are going to tune.\n",
    "    'max_depth':9,\n",
    "    'min_child_weight': 7,\n",
    "    'eta':.01,\n",
    "    'subsample': 1.0,\n",
    "    'colsample_bytree': 1.0,\n",
    "    # Other parameters\n",
    "    'objective':'reg:linear',\n",
    "}"
   ]
  },
  {
   "cell_type": "code",
   "execution_count": 51,
   "metadata": {},
   "outputs": [
    {
     "name": "stdout",
     "output_type": "stream",
     "text": [
      "Wall time: 0 ns\n",
      "CV with eta=0.3\n",
      "Wall time: 0 ns\n",
      "[15:10:02] WARNING: C:/Users/Administrator/workspace/xgboost-win64_release_1.2.0/src/objective/regression_obj.cu:174: reg:linear is now deprecated in favor of reg:squarederror.\n",
      "[15:10:02] WARNING: C:/Users/Administrator/workspace/xgboost-win64_release_1.2.0/src/objective/regression_obj.cu:174: reg:linear is now deprecated in favor of reg:squarederror.\n",
      "[15:10:02] WARNING: C:/Users/Administrator/workspace/xgboost-win64_release_1.2.0/src/objective/regression_obj.cu:174: reg:linear is now deprecated in favor of reg:squarederror.\n",
      "[15:10:02] WARNING: C:/Users/Administrator/workspace/xgboost-win64_release_1.2.0/src/objective/regression_obj.cu:174: reg:linear is now deprecated in favor of reg:squarederror.\n",
      "[15:10:02] WARNING: C:/Users/Administrator/workspace/xgboost-win64_release_1.2.0/src/objective/regression_obj.cu:174: reg:linear is now deprecated in favor of reg:squarederror.\n",
      "\tMAE 0.083527 for 13 rounds\n",
      "\n",
      "CV with eta=0.2\n",
      "Wall time: 0 ns\n",
      "[15:10:04] WARNING: C:/Users/Administrator/workspace/xgboost-win64_release_1.2.0/src/objective/regression_obj.cu:174: reg:linear is now deprecated in favor of reg:squarederror.\n",
      "[15:10:04] WARNING: C:/Users/Administrator/workspace/xgboost-win64_release_1.2.0/src/objective/regression_obj.cu:174: reg:linear is now deprecated in favor of reg:squarederror.\n",
      "[15:10:04] WARNING: C:/Users/Administrator/workspace/xgboost-win64_release_1.2.0/src/objective/regression_obj.cu:174: reg:linear is now deprecated in favor of reg:squarederror.\n",
      "[15:10:04] WARNING: C:/Users/Administrator/workspace/xgboost-win64_release_1.2.0/src/objective/regression_obj.cu:174: reg:linear is now deprecated in favor of reg:squarederror.\n",
      "[15:10:04] WARNING: C:/Users/Administrator/workspace/xgboost-win64_release_1.2.0/src/objective/regression_obj.cu:174: reg:linear is now deprecated in favor of reg:squarederror.\n",
      "\tMAE 0.08286439999999999 for 22 rounds\n",
      "\n",
      "CV with eta=0.1\n",
      "Wall time: 0 ns\n",
      "[15:10:07] WARNING: C:/Users/Administrator/workspace/xgboost-win64_release_1.2.0/src/objective/regression_obj.cu:174: reg:linear is now deprecated in favor of reg:squarederror.\n",
      "[15:10:07] WARNING: C:/Users/Administrator/workspace/xgboost-win64_release_1.2.0/src/objective/regression_obj.cu:174: reg:linear is now deprecated in favor of reg:squarederror.\n",
      "[15:10:07] WARNING: C:/Users/Administrator/workspace/xgboost-win64_release_1.2.0/src/objective/regression_obj.cu:174: reg:linear is now deprecated in favor of reg:squarederror.\n",
      "[15:10:07] WARNING: C:/Users/Administrator/workspace/xgboost-win64_release_1.2.0/src/objective/regression_obj.cu:174: reg:linear is now deprecated in favor of reg:squarederror.\n",
      "[15:10:07] WARNING: C:/Users/Administrator/workspace/xgboost-win64_release_1.2.0/src/objective/regression_obj.cu:174: reg:linear is now deprecated in favor of reg:squarederror.\n",
      "\tMAE 0.0817278 for 53 rounds\n",
      "\n",
      "CV with eta=0.05\n",
      "Wall time: 0 ns\n",
      "[15:10:11] WARNING: C:/Users/Administrator/workspace/xgboost-win64_release_1.2.0/src/objective/regression_obj.cu:174: reg:linear is now deprecated in favor of reg:squarederror.\n",
      "[15:10:11] WARNING: C:/Users/Administrator/workspace/xgboost-win64_release_1.2.0/src/objective/regression_obj.cu:174: reg:linear is now deprecated in favor of reg:squarederror.\n",
      "[15:10:11] WARNING: C:/Users/Administrator/workspace/xgboost-win64_release_1.2.0/src/objective/regression_obj.cu:174: reg:linear is now deprecated in favor of reg:squarederror.\n",
      "[15:10:11] WARNING: C:/Users/Administrator/workspace/xgboost-win64_release_1.2.0/src/objective/regression_obj.cu:174: reg:linear is now deprecated in favor of reg:squarederror.\n",
      "[15:10:11] WARNING: C:/Users/Administrator/workspace/xgboost-win64_release_1.2.0/src/objective/regression_obj.cu:174: reg:linear is now deprecated in favor of reg:squarederror.\n",
      "\tMAE 0.08471479999999999 for 55 rounds\n",
      "\n",
      "CV with eta=0.01\n",
      "Wall time: 0 ns\n",
      "[15:10:17] WARNING: C:/Users/Administrator/workspace/xgboost-win64_release_1.2.0/src/objective/regression_obj.cu:174: reg:linear is now deprecated in favor of reg:squarederror.\n",
      "[15:10:17] WARNING: C:/Users/Administrator/workspace/xgboost-win64_release_1.2.0/src/objective/regression_obj.cu:174: reg:linear is now deprecated in favor of reg:squarederror.\n",
      "[15:10:17] WARNING: C:/Users/Administrator/workspace/xgboost-win64_release_1.2.0/src/objective/regression_obj.cu:174: reg:linear is now deprecated in favor of reg:squarederror.\n",
      "[15:10:17] WARNING: C:/Users/Administrator/workspace/xgboost-win64_release_1.2.0/src/objective/regression_obj.cu:174: reg:linear is now deprecated in favor of reg:squarederror.\n",
      "[15:10:17] WARNING: C:/Users/Administrator/workspace/xgboost-win64_release_1.2.0/src/objective/regression_obj.cu:174: reg:linear is now deprecated in favor of reg:squarederror.\n",
      "\tMAE 0.1610134 for 55 rounds\n",
      "\n",
      "CV with eta=0.005\n",
      "Wall time: 0 ns\n",
      "[15:10:22] WARNING: C:/Users/Administrator/workspace/xgboost-win64_release_1.2.0/src/objective/regression_obj.cu:174: reg:linear is now deprecated in favor of reg:squarederror.\n",
      "[15:10:22] WARNING: C:/Users/Administrator/workspace/xgboost-win64_release_1.2.0/src/objective/regression_obj.cu:174: reg:linear is now deprecated in favor of reg:squarederror.\n",
      "[15:10:22] WARNING: C:/Users/Administrator/workspace/xgboost-win64_release_1.2.0/src/objective/regression_obj.cu:174: reg:linear is now deprecated in favor of reg:squarederror.\n",
      "[15:10:22] WARNING: C:/Users/Administrator/workspace/xgboost-win64_release_1.2.0/src/objective/regression_obj.cu:174: reg:linear is now deprecated in favor of reg:squarederror.\n",
      "[15:10:23] WARNING: C:/Users/Administrator/workspace/xgboost-win64_release_1.2.0/src/objective/regression_obj.cu:174: reg:linear is now deprecated in favor of reg:squarederror.\n",
      "\tMAE 0.1926782 for 55 rounds\n",
      "\n",
      "Best params: 0.1, MAE: 0.0817278\n"
     ]
    }
   ],
   "source": [
    "%time\n",
    "# This can take some time…\n",
    "min_mae = float(\"Inf\")\n",
    "best_params = None\n",
    "for eta in [.3, .2, .1, .05, .01, .005]:\n",
    "    print(\"CV with eta={}\".format(eta))\n",
    "    # We update our parameters\n",
    "    updated_params_new['eta'] = eta\n",
    "    # Run and time CV\n",
    "    %time \n",
    "    cv_results = xgb.cv(\n",
    "            updated_params_new,\n",
    "            dtrain,\n",
    "            num_boost_round=num_boost_round,\n",
    "            seed=42,\n",
    "            nfold=5,\n",
    "            metrics=['mae'],\n",
    "            early_stopping_rounds=10)\n",
    "    # Update best score\n",
    "    mean_mae = cv_results['test-mae-mean'].min()\n",
    "    boost_rounds = cv_results['test-mae-mean'].argmin()\n",
    "    print(\"\\tMAE {} for {} rounds\\n\".format(mean_mae, boost_rounds))\n",
    "    if mean_mae < min_mae:\n",
    "        min_mae = mean_mae\n",
    "        best_params = eta\n",
    "print(\"Best params: {}, MAE: {}\".format(best_params, min_mae))"
   ]
  },
  {
   "cell_type": "code",
   "execution_count": 52,
   "metadata": {},
   "outputs": [],
   "source": [
    "# Now our final dict of params is given below:\n",
    "# lets update the params dictionary with the new values f subsamples and the colsample_by_tree\n",
    "updated_params_final = {\n",
    "    # Parameters that we are going to tune.\n",
    "    'max_depth':9,\n",
    "    'min_child_weight': 7,\n",
    "    'eta':0.01,\n",
    "    'subsample': 1.0,\n",
    "    'colsample_bytree': 1.0,\n",
    "    # Other parameters\n",
    "    'objective':'reg:linear',\n",
    "}\n"
   ]
  },
  {
   "cell_type": "code",
   "execution_count": 53,
   "metadata": {},
   "outputs": [],
   "source": [
    "# Updated_params_final is the final dict of params we got using 5-fold cross validation on the training set.\n",
    "# Let’s train a model with it and see how well it does on our test set"
   ]
  },
  {
   "cell_type": "code",
   "execution_count": 54,
   "metadata": {},
   "outputs": [
    {
     "name": "stdout",
     "output_type": "stream",
     "text": [
      "[15:10:51] WARNING: C:/Users/Administrator/workspace/xgboost-win64_release_1.2.0/src/objective/regression_obj.cu:174: reg:linear is now deprecated in favor of reg:squarederror.\n",
      "[0]\tTest-rmse:0.19507\n",
      "Will train until Test-rmse hasn't improved in 10 rounds.\n",
      "[1]\tTest-rmse:0.19390\n",
      "[2]\tTest-rmse:0.19274\n",
      "[3]\tTest-rmse:0.19161\n",
      "[4]\tTest-rmse:0.19049\n",
      "[5]\tTest-rmse:0.18939\n",
      "[6]\tTest-rmse:0.18831\n",
      "[7]\tTest-rmse:0.18724\n",
      "[8]\tTest-rmse:0.18618\n",
      "[9]\tTest-rmse:0.18515\n",
      "[10]\tTest-rmse:0.18412\n",
      "[11]\tTest-rmse:0.18312\n",
      "[12]\tTest-rmse:0.18213\n",
      "[13]\tTest-rmse:0.18116\n",
      "[14]\tTest-rmse:0.18020\n",
      "[15]\tTest-rmse:0.17926\n",
      "[16]\tTest-rmse:0.17833\n",
      "[17]\tTest-rmse:0.17741\n",
      "[18]\tTest-rmse:0.17650\n",
      "[19]\tTest-rmse:0.17562\n",
      "[20]\tTest-rmse:0.17474\n",
      "[21]\tTest-rmse:0.17388\n",
      "[22]\tTest-rmse:0.17304\n",
      "[23]\tTest-rmse:0.17220\n",
      "[24]\tTest-rmse:0.17138\n",
      "[25]\tTest-rmse:0.17057\n",
      "[26]\tTest-rmse:0.16977\n",
      "[27]\tTest-rmse:0.16899\n",
      "[28]\tTest-rmse:0.16821\n",
      "[29]\tTest-rmse:0.16746\n",
      "[30]\tTest-rmse:0.16671\n",
      "[31]\tTest-rmse:0.16598\n",
      "[32]\tTest-rmse:0.16525\n",
      "[33]\tTest-rmse:0.16455\n",
      "[34]\tTest-rmse:0.16385\n",
      "[35]\tTest-rmse:0.16316\n",
      "[36]\tTest-rmse:0.16248\n",
      "[37]\tTest-rmse:0.16181\n",
      "[38]\tTest-rmse:0.16117\n",
      "[39]\tTest-rmse:0.16052\n",
      "[40]\tTest-rmse:0.15989\n",
      "[41]\tTest-rmse:0.15927\n",
      "[42]\tTest-rmse:0.15866\n",
      "[43]\tTest-rmse:0.15806\n",
      "[44]\tTest-rmse:0.15747\n",
      "[45]\tTest-rmse:0.15688\n",
      "[46]\tTest-rmse:0.15631\n",
      "[47]\tTest-rmse:0.15576\n",
      "[48]\tTest-rmse:0.15521\n",
      "[49]\tTest-rmse:0.15467\n",
      "[50]\tTest-rmse:0.15414\n",
      "[51]\tTest-rmse:0.15363\n",
      "[52]\tTest-rmse:0.15311\n",
      "[53]\tTest-rmse:0.15261\n",
      "[54]\tTest-rmse:0.15212\n",
      "[55]\tTest-rmse:0.15164\n",
      "[15:10:53] WARNING: C:/Users/Administrator/workspace/xgboost-win64_release_1.2.0/src/objective/regression_obj.cu:174: reg:linear is now deprecated in favor of reg:squarederror.\n"
     ]
    }
   ],
   "source": [
    "xgb_model = xgb.train(\n",
    "    updated_params_final,\n",
    "    dtrain,\n",
    "    num_boost_round=num_boost_round,\n",
    "    evals=[(dtest, \"Test\")],\n",
    "    early_stopping_rounds=10\n",
    ")"
   ]
  },
  {
   "cell_type": "code",
   "execution_count": 55,
   "metadata": {},
   "outputs": [
    {
     "name": "stdout",
     "output_type": "stream",
     "text": [
      "Best RMSE: 0.15 in 56 rounds\n"
     ]
    }
   ],
   "source": [
    "print(\"Best RMSE: {:.2f} in {} rounds\".format(xgb_model.best_score, xgb_model.best_iteration+1))"
   ]
  },
  {
   "cell_type": "code",
   "execution_count": 56,
   "metadata": {},
   "outputs": [],
   "source": [
    "# Now we know that we got best RMSE score as 0.13 and the num_boost_rounds or the number of trees constructed is 56.\n",
    "# So we don't need early_stopping_rounds anymore.\n"
   ]
  },
  {
   "cell_type": "code",
   "execution_count": 57,
   "metadata": {},
   "outputs": [
    {
     "name": "stdout",
     "output_type": "stream",
     "text": [
      "[15:11:07] WARNING: C:/Users/Administrator/workspace/xgboost-win64_release_1.2.0/src/objective/regression_obj.cu:174: reg:linear is now deprecated in favor of reg:squarederror.\n",
      "[0]\tTest-rmse:0.19507\n",
      "[1]\tTest-rmse:0.19390\n",
      "[2]\tTest-rmse:0.19274\n",
      "[3]\tTest-rmse:0.19161\n",
      "[4]\tTest-rmse:0.19049\n",
      "[5]\tTest-rmse:0.18939\n",
      "[6]\tTest-rmse:0.18831\n",
      "[7]\tTest-rmse:0.18724\n",
      "[8]\tTest-rmse:0.18618\n",
      "[9]\tTest-rmse:0.18515\n",
      "[10]\tTest-rmse:0.18412\n",
      "[11]\tTest-rmse:0.18312\n",
      "[12]\tTest-rmse:0.18213\n",
      "[13]\tTest-rmse:0.18116\n",
      "[14]\tTest-rmse:0.18020\n",
      "[15]\tTest-rmse:0.17926\n",
      "[16]\tTest-rmse:0.17833\n",
      "[17]\tTest-rmse:0.17741\n",
      "[18]\tTest-rmse:0.17650\n",
      "[19]\tTest-rmse:0.17562\n",
      "[20]\tTest-rmse:0.17474\n",
      "[21]\tTest-rmse:0.17388\n",
      "[22]\tTest-rmse:0.17304\n",
      "[23]\tTest-rmse:0.17220\n",
      "[24]\tTest-rmse:0.17138\n",
      "[25]\tTest-rmse:0.17057\n",
      "[26]\tTest-rmse:0.16977\n",
      "[27]\tTest-rmse:0.16899\n",
      "[28]\tTest-rmse:0.16821\n",
      "[29]\tTest-rmse:0.16746\n",
      "[30]\tTest-rmse:0.16671\n",
      "[31]\tTest-rmse:0.16598\n",
      "[32]\tTest-rmse:0.16525\n",
      "[33]\tTest-rmse:0.16455\n",
      "[34]\tTest-rmse:0.16385\n",
      "[35]\tTest-rmse:0.16316\n",
      "[36]\tTest-rmse:0.16248\n",
      "[37]\tTest-rmse:0.16181\n",
      "[38]\tTest-rmse:0.16117\n",
      "[39]\tTest-rmse:0.16052\n",
      "[40]\tTest-rmse:0.15989\n",
      "[41]\tTest-rmse:0.15927\n",
      "[42]\tTest-rmse:0.15866\n",
      "[43]\tTest-rmse:0.15806\n",
      "[44]\tTest-rmse:0.15747\n",
      "[45]\tTest-rmse:0.15688\n",
      "[46]\tTest-rmse:0.15631\n",
      "[47]\tTest-rmse:0.15576\n",
      "[48]\tTest-rmse:0.15521\n",
      "[49]\tTest-rmse:0.15467\n",
      "[50]\tTest-rmse:0.15414\n",
      "[51]\tTest-rmse:0.15363\n",
      "[52]\tTest-rmse:0.15311\n",
      "[53]\tTest-rmse:0.15261\n",
      "[54]\tTest-rmse:0.15212\n",
      "[55]\tTest-rmse:0.15164\n",
      "[15:11:08] WARNING: C:/Users/Administrator/workspace/xgboost-win64_release_1.2.0/src/objective/regression_obj.cu:174: reg:linear is now deprecated in favor of reg:squarederror.\n"
     ]
    }
   ],
   "source": [
    "num_boost_round = xgb_model.best_iteration + 1\n",
    "best_xgb_model = xgb.train(\n",
    "    updated_params_final,\n",
    "    dtrain,\n",
    "    num_boost_round=num_boost_round,\n",
    "    evals=[(dtest, \"Test\")]\n",
    ")"
   ]
  },
  {
   "cell_type": "code",
   "execution_count": 58,
   "metadata": {},
   "outputs": [
    {
     "data": {
      "text/plain": [
       "0.022993928018939316"
      ]
     },
     "execution_count": 58,
     "metadata": {},
     "output_type": "execute_result"
    }
   ],
   "source": [
    "from sklearn.metrics import mean_squared_error\n",
    "mean_squared_error(best_xgb_model.predict(dtest), ytest_prepared_sc)"
   ]
  },
  {
   "cell_type": "code",
   "execution_count": 59,
   "metadata": {},
   "outputs": [],
   "source": [
    "# so the test rmse when calculated gives sqrt(0.02299) is exactly equal to 0.15164"
   ]
  },
  {
   "cell_type": "code",
   "execution_count": 60,
   "metadata": {},
   "outputs": [],
   "source": [
    "#lets save our model to reuse it when needed\n",
    "best_xgb_model.save_model(\"pdm_xgb_model.model\")"
   ]
  },
  {
   "cell_type": "code",
   "execution_count": 61,
   "metadata": {},
   "outputs": [
    {
     "name": "stdout",
     "output_type": "stream",
     "text": [
      "[15:33:51] WARNING: C:/Users/Administrator/workspace/xgboost-win64_release_1.2.0/src/objective/regression_obj.cu:174: reg:linear is now deprecated in favor of reg:squarederror.\n"
     ]
    }
   ],
   "source": [
    "# Now load the model for the performing inference.\n",
    "loaded_model = xgb.Booster()\n",
    "loaded_model.load_model(\"pdm_xgb_model.model\")"
   ]
  },
  {
   "cell_type": "code",
   "execution_count": null,
   "metadata": {},
   "outputs": [],
   "source": [
    "# Use the loaded model for getting the predictions on the test data"
   ]
  },
  {
   "cell_type": "code",
   "execution_count": 62,
   "metadata": {},
   "outputs": [],
   "source": [
    "ypred = loaded_model.predict(dtest)"
   ]
  },
  {
   "cell_type": "code",
   "execution_count": 74,
   "metadata": {},
   "outputs": [
    {
     "data": {
      "text/plain": [
       "numpy.ndarray"
      ]
     },
     "execution_count": 74,
     "metadata": {},
     "output_type": "execute_result"
    }
   ],
   "source": [
    "type(ypred)"
   ]
  },
  {
   "cell_type": "code",
   "execution_count": 64,
   "metadata": {},
   "outputs": [
    {
     "data": {
      "text/plain": [
       "(13096,)"
      ]
     },
     "execution_count": 64,
     "metadata": {},
     "output_type": "execute_result"
    }
   ],
   "source": [
    "ypred.shape"
   ]
  },
  {
   "cell_type": "code",
   "execution_count": 65,
   "metadata": {},
   "outputs": [],
   "source": [
    "# Lets use the model to predict the RUL for first four devices i.e the devces with IDs--(1,2,3,4)"
   ]
  },
  {
   "cell_type": "code",
   "execution_count": 66,
   "metadata": {},
   "outputs": [
    {
     "data": {
      "text/plain": [
       "pandas.core.frame.DataFrame"
      ]
     },
     "execution_count": 66,
     "metadata": {},
     "output_type": "execute_result"
    }
   ],
   "source": [
    "type(X_test)"
   ]
  },
  {
   "cell_type": "code",
   "execution_count": 99,
   "metadata": {},
   "outputs": [],
   "source": [
    "# check lengths of the dataframes taking devices 1 to 4 into account.\n",
    "def check_lengths(X_test):\n",
    "    check_list = []\n",
    "    for i in range(1,5):\n",
    "        temp_df = X_test[X_test[\"id\"]==i]\n",
    "        check_list.append(len(temp_df))\n",
    "    return check_list"
   ]
  },
  {
   "cell_type": "code",
   "execution_count": 100,
   "metadata": {},
   "outputs": [],
   "source": [
    "lengths = check_lengths(X_test)"
   ]
  },
  {
   "cell_type": "code",
   "execution_count": 101,
   "metadata": {},
   "outputs": [
    {
     "data": {
      "text/plain": [
       "[31, 49, 126, 106]"
      ]
     },
     "execution_count": 101,
     "metadata": {},
     "output_type": "execute_result"
    }
   ],
   "source": [
    "lengths"
   ]
  },
  {
   "cell_type": "code",
   "execution_count": 77,
   "metadata": {},
   "outputs": [],
   "source": [
    "temp_df = X_test[X_test[\"id\"]==1]"
   ]
  },
  {
   "cell_type": "code",
   "execution_count": 78,
   "metadata": {},
   "outputs": [
    {
     "data": {
      "text/plain": [
       "(31, 26)"
      ]
     },
     "execution_count": 78,
     "metadata": {},
     "output_type": "execute_result"
    }
   ],
   "source": [
    "temp_df.shape"
   ]
  },
  {
   "cell_type": "code",
   "execution_count": 102,
   "metadata": {},
   "outputs": [],
   "source": [
    "# Now compute the predictions for first four devices..i.e., the \"id\"=1, \"id\"=2, \"id\"=3, \"id\"=4."
   ]
  },
  {
   "cell_type": "code",
   "execution_count": 95,
   "metadata": {},
   "outputs": [],
   "source": [
    "def predict_RUL(X_test, scaler_y, loaded_model):\n",
    "    predictions_list={}\n",
    "    for i in range(1,5):\n",
    "        temp_df = X_test[X_test[\"id\"]==i]\n",
    "        temp_df_transformed = pipeline.transform(temp_df)\n",
    "        temp_dmatrix = xgb.DMatrix(temp_df_transformed)\n",
    "        predictions = loaded_model.predict(temp_dmatrix)\n",
    "        predictions_inverse_transformed = scaler_y.inverse_transform(predictions.reshape(-1,1))\n",
    "        ypred = predictions_inverse_transformed.flatten()\n",
    "        predictions_list[\"device\"+str(i)] = ypred\n",
    "        #device = pd.Series(predictions)\n",
    "        #predictions_list.append(device+str(i))\n",
    "    #final_df=pd.concat(predictions_list)\n",
    "    return predictions_list\n",
    "        "
   ]
  },
  {
   "cell_type": "code",
   "execution_count": 97,
   "metadata": {},
   "outputs": [],
   "source": [
    "final_dict = predict_RUL(X_test, scaler_y, loaded_model)"
   ]
  },
  {
   "cell_type": "code",
   "execution_count": 98,
   "metadata": {},
   "outputs": [
    {
     "data": {
      "text/plain": [
       "{'device1': array([181.83315, 170.938  , 174.86966, 171.61238, 180.09343, 186.4516 ,\n",
       "        178.30916, 172.18861, 175.01997, 184.7781 , 178.9299 , 178.43533,\n",
       "        171.8577 , 181.29874, 177.18326, 166.80095, 178.15952, 176.03862,\n",
       "        177.10902, 168.99355, 180.21233, 169.42848, 179.27733, 177.1919 ,\n",
       "        179.72202, 175.18242, 176.36717, 170.17094, 169.53859, 173.62996,\n",
       "        176.63216], dtype=float32),\n",
       " 'device2': array([167.37999, 165.81526, 164.18976, 176.64377, 167.05861, 167.04024,\n",
       "        165.48117, 164.12125, 164.83557, 167.13557, 167.95265, 161.49588,\n",
       "        166.58328, 167.04364, 169.22905, 173.75697, 164.76527, 165.97926,\n",
       "        166.021  , 165.93076, 165.84743, 162.47063, 169.44354, 158.755  ,\n",
       "        169.73666, 155.61922, 160.27193, 165.0947 , 173.57239, 162.76431,\n",
       "        165.27808, 155.77913, 167.37364, 166.9828 , 166.82175, 164.07109,\n",
       "        170.83836, 166.96704, 166.12852, 166.0121 , 167.17767, 166.58647,\n",
       "        159.17606, 159.51465, 166.97522, 164.85507, 165.49016, 163.34273,\n",
       "        165.5096 ], dtype=float32),\n",
       " 'device3': array([162.15791 , 162.83875 , 166.61047 , 160.01672 , 156.82277 ,\n",
       "        170.13896 , 165.41788 , 166.51457 , 161.81432 , 162.742   ,\n",
       "        159.80301 , 165.25679 , 158.46469 , 162.34985 , 162.8292  ,\n",
       "        166.76688 , 165.10866 , 162.80635 , 154.99747 , 158.58575 ,\n",
       "        164.73734 , 163.2412  , 157.5197  , 165.20999 , 158.09697 ,\n",
       "        163.10132 , 162.62054 , 165.11375 , 147.75029 , 146.47176 ,\n",
       "        157.46524 , 165.52943 , 146.22417 , 149.0081  , 163.4493  ,\n",
       "        162.01251 , 163.74265 , 164.55374 , 162.00108 , 162.32666 ,\n",
       "        161.30014 , 164.47702 , 156.86365 , 158.81268 , 154.47348 ,\n",
       "        156.13457 , 161.54222 , 158.33624 , 165.99257 , 144.34996 ,\n",
       "        158.59554 , 163.44861 , 167.54636 , 155.59329 , 162.16258 ,\n",
       "        164.27742 , 152.74898 , 152.33107 , 159.8434  , 156.99641 ,\n",
       "        161.1893  , 159.5866  , 160.41998 , 154.28487 , 165.25679 ,\n",
       "        162.53622 , 163.28722 , 159.65063 , 156.09984 , 161.89159 ,\n",
       "        160.11389 , 156.12634 , 151.84612 , 164.96585 , 158.24898 ,\n",
       "        154.8458  , 151.51881 , 161.81702 , 160.89084 , 164.76553 ,\n",
       "        163.3531  , 165.4446  , 156.26567 , 161.3526  , 156.53447 ,\n",
       "        165.03273 , 134.7747  , 150.74832 , 151.64456 , 160.7223  ,\n",
       "        163.103   , 151.66277 , 153.8738  , 150.03517 , 150.95108 ,\n",
       "        152.07396 , 163.47299 , 159.63744 , 148.38905 , 152.41757 ,\n",
       "        159.5355  , 159.50204 , 151.99538 , 142.47502 , 152.7932  ,\n",
       "        148.70259 , 164.40863 , 152.04372 , 149.81499 , 162.25569 ,\n",
       "        129.41203 , 126.632   , 137.9416  , 126.88706 , 134.52924 ,\n",
       "        153.99677 , 126.608475, 142.60924 , 134.5803  , 121.915924,\n",
       "        148.98615 , 138.03062 , 125.40981 , 139.85446 , 137.24162 ,\n",
       "        124.20796 ], dtype=float32),\n",
       " 'device4': array([167.97595, 165.94542, 166.61008, 167.0457 , 165.40628, 169.65074,\n",
       "        169.29071, 161.39037, 167.25697, 161.34053, 161.87042, 165.14943,\n",
       "        166.19745, 165.1556 , 155.45403, 166.06322, 160.74808, 168.37044,\n",
       "        159.8956 , 166.92223, 172.20842, 166.40291, 159.38423, 157.73656,\n",
       "        166.91714, 156.63773, 165.96463, 166.08615, 165.99715, 159.6329 ,\n",
       "        166.07605, 149.36049, 162.94283, 162.51538, 163.21265, 168.94078,\n",
       "        160.58702, 163.03606, 165.61823, 162.8931 , 155.91696, 168.08618,\n",
       "        160.12769, 155.7374 , 163.88884, 167.11333, 155.28539, 170.88177,\n",
       "        169.34692, 153.9793 , 174.67706, 169.74557, 166.43808, 166.07709,\n",
       "        157.89679, 164.99666, 159.8183 , 163.16652, 168.72188, 165.1035 ,\n",
       "        161.28471, 162.57889, 160.8757 , 166.95006, 159.16399, 163.64905,\n",
       "        163.10327, 167.24864, 157.90363, 153.58253, 165.73962, 149.74298,\n",
       "        153.6329 , 146.83377, 151.98999, 144.36398, 162.9256 , 165.857  ,\n",
       "        157.83891, 157.19067, 166.38391, 165.66667, 161.3638 , 165.45483,\n",
       "        161.12491, 157.84628, 152.00717, 162.94669, 161.53328, 159.57466,\n",
       "        165.0222 , 163.05576, 165.5433 , 151.83076, 160.42041, 148.10716,\n",
       "        154.4304 , 148.21803, 148.03317, 151.55759, 141.76979, 160.10269,\n",
       "        157.87866, 147.20673, 142.60074, 154.6878 ], dtype=float32)}"
      ]
     },
     "execution_count": 98,
     "metadata": {},
     "output_type": "execute_result"
    }
   ],
   "source": [
    "final_dict"
   ]
  },
  {
   "cell_type": "code",
   "execution_count": null,
   "metadata": {},
   "outputs": [],
   "source": []
  },
  {
   "cell_type": "code",
   "execution_count": null,
   "metadata": {},
   "outputs": [],
   "source": []
  }
 ],
 "metadata": {
  "kernelspec": {
   "display_name": "Python 3",
   "language": "python",
   "name": "python3"
  },
  "language_info": {
   "codemirror_mode": {
    "name": "ipython",
    "version": 3
   },
   "file_extension": ".py",
   "mimetype": "text/x-python",
   "name": "python",
   "nbconvert_exporter": "python",
   "pygments_lexer": "ipython3",
   "version": "3.8.3"
  }
 },
 "nbformat": 4,
 "nbformat_minor": 4
}
