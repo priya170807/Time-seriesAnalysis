{
  "nbformat": 4,
  "nbformat_minor": 0,
  "metadata": {
    "colab": {
      "name": "Predicting_future_LSTM.ipynb",
      "provenance": [],
      "authorship_tag": "ABX9TyNezf85ZwOKDigcJb2y1lsH"
    },
    "kernelspec": {
      "name": "python3",
      "display_name": "Python 3"
    }
  },
  "cells": [
    {
      "cell_type": "code",
      "metadata": {
        "id": "aMg24zGUUlOR",
        "outputId": "e07c68c5-354e-48f6-957d-8e23ccf59e82",
        "colab": {
          "base_uri": "https://localhost:8080/",
          "height": 70
        }
      },
      "source": [
        "import sys \n",
        "import numpy as np # linear algebra\n",
        "from scipy.stats import randint\n",
        "import pandas as pd # data processing, CSV file I/O (e.g. pd.read_csv), data manipulation as in SQL\n",
        "import matplotlib.pyplot as plt # this is used for the plot the graph \n",
        "import seaborn as sns # used for plot interactive graph. \n",
        "from sklearn.model_selection import train_test_split # to split the data into two parts\n",
        "#from sklearn.cross_validation import KFold # use for cross validation\n",
        "from sklearn.preprocessing import StandardScaler # for normalization\n",
        "from sklearn.preprocessing import MinMaxScaler\n",
        "from sklearn.pipeline import Pipeline # pipeline making\n",
        "from sklearn.model_selection import cross_val_score\n",
        "from sklearn.feature_selection import SelectFromModel\n",
        "from sklearn import metrics # for the check the error and accuracy of the model\n",
        "from sklearn.metrics import mean_squared_error,r2_score\n",
        "\n",
        "#for deep learning\n",
        "\n",
        "#import tensorflow as tf\n",
        "from tensorflow.keras.callbacks import EarlyStopping, ReduceLROnPlateau, ModelCheckpoint, TensorBoard\n",
        "from tensorflow.keras.models import Sequential\n",
        "from tensorflow.keras.layers import Dense\n",
        "from tensorflow.keras.layers import LSTM\n",
        "from tensorflow.keras.optimizers import Adam\n",
        "from tensorflow.keras.layers import Dropout\n",
        "\n"
      ],
      "execution_count": null,
      "outputs": [
        {
          "output_type": "stream",
          "text": [
            "/usr/local/lib/python3.6/dist-packages/statsmodels/tools/_testing.py:19: FutureWarning: pandas.util.testing is deprecated. Use the functions in the public API at pandas.testing instead.\n",
            "  import pandas.util.testing as tm\n"
          ],
          "name": "stderr"
        }
      ]
    },
    {
      "cell_type": "code",
      "metadata": {
        "id": "Fml_jKjagjlT"
      },
      "source": [
        "# Importing the training dataset adn initial preprocessing of the data\n",
        "df = pd.read_csv(r\"ec2metrics2020-09-08.csv\",skipinitialspace=True,error_bad_lines=False)\n",
        "\n",
        "df[\"Timestamp\"] = pd.to_datetime(df[\"Timestamp\"], infer_datetime_format=True)\n",
        "grouped_df = df.groupby(\"Timestamp\")\n",
        "grouped_df= df.pivot_table(index=\"Timestamp\", columns=\"metric\", values=\"Value\", fill_value=0)\n",
        "\n",
        "\n",
        "\n"
      ],
      "execution_count": null,
      "outputs": []
    },
    {
      "cell_type": "code",
      "metadata": {
        "id": "Nq8RpqiWXC8F",
        "outputId": "57545109-482b-4cb1-8384-dfbcb5f93e78",
        "colab": {
          "base_uri": "https://localhost:8080/",
          "height": 619
        }
      },
      "source": [
        "grouped_df"
      ],
      "execution_count": null,
      "outputs": [
        {
          "output_type": "execute_result",
          "data": {
            "text/html": [
              "<div>\n",
              "<style scoped>\n",
              "    .dataframe tbody tr th:only-of-type {\n",
              "        vertical-align: middle;\n",
              "    }\n",
              "\n",
              "    .dataframe tbody tr th {\n",
              "        vertical-align: top;\n",
              "    }\n",
              "\n",
              "    .dataframe thead th {\n",
              "        text-align: right;\n",
              "    }\n",
              "</style>\n",
              "<table border=\"1\" class=\"dataframe\">\n",
              "  <thead>\n",
              "    <tr style=\"text-align: right;\">\n",
              "      <th>metric</th>\n",
              "      <th>CPUUtilization</th>\n",
              "      <th>DiskReadBytes</th>\n",
              "      <th>DiskReadOps</th>\n",
              "      <th>DiskWriteBytes</th>\n",
              "      <th>DiskWriteOps</th>\n",
              "      <th>EBSByteBalance%</th>\n",
              "      <th>EBSIOBalance%</th>\n",
              "      <th>EBSReadBytes</th>\n",
              "      <th>EBSReadOps</th>\n",
              "      <th>EBSWriteBytes</th>\n",
              "      <th>EBSWriteOps</th>\n",
              "      <th>MetadataNoToken</th>\n",
              "      <th>NetworkIn</th>\n",
              "      <th>NetworkOut</th>\n",
              "      <th>NetworkPacketsIn</th>\n",
              "      <th>NetworkPacketsOut</th>\n",
              "      <th>StatusCheckFailed</th>\n",
              "      <th>StatusCheckFailed_Instance</th>\n",
              "      <th>StatusCheckFailed_System</th>\n",
              "    </tr>\n",
              "    <tr>\n",
              "      <th>Timestamp</th>\n",
              "      <th></th>\n",
              "      <th></th>\n",
              "      <th></th>\n",
              "      <th></th>\n",
              "      <th></th>\n",
              "      <th></th>\n",
              "      <th></th>\n",
              "      <th></th>\n",
              "      <th></th>\n",
              "      <th></th>\n",
              "      <th></th>\n",
              "      <th></th>\n",
              "      <th></th>\n",
              "      <th></th>\n",
              "      <th></th>\n",
              "      <th></th>\n",
              "      <th></th>\n",
              "      <th></th>\n",
              "      <th></th>\n",
              "    </tr>\n",
              "  </thead>\n",
              "  <tbody>\n",
              "    <tr>\n",
              "      <th>2020-08-25 21:52:00+00:00</th>\n",
              "      <td>0.0</td>\n",
              "      <td>0.0</td>\n",
              "      <td>0.0</td>\n",
              "      <td>0</td>\n",
              "      <td>0</td>\n",
              "      <td>99.200000</td>\n",
              "      <td>99.133333</td>\n",
              "      <td>0.0</td>\n",
              "      <td>0.0</td>\n",
              "      <td>408234.666667</td>\n",
              "      <td>80.133333</td>\n",
              "      <td>0</td>\n",
              "      <td>6988.133333</td>\n",
              "      <td>0.000000</td>\n",
              "      <td>43.066667</td>\n",
              "      <td>0.000000</td>\n",
              "      <td>0</td>\n",
              "      <td>0</td>\n",
              "      <td>0</td>\n",
              "    </tr>\n",
              "    <tr>\n",
              "      <th>2020-08-25 21:53:00+00:00</th>\n",
              "      <td>0.0</td>\n",
              "      <td>0.0</td>\n",
              "      <td>0.0</td>\n",
              "      <td>0</td>\n",
              "      <td>0</td>\n",
              "      <td>0.000000</td>\n",
              "      <td>0.000000</td>\n",
              "      <td>0.0</td>\n",
              "      <td>0.0</td>\n",
              "      <td>0.000000</td>\n",
              "      <td>0.000000</td>\n",
              "      <td>0</td>\n",
              "      <td>0.000000</td>\n",
              "      <td>10282.200000</td>\n",
              "      <td>0.000000</td>\n",
              "      <td>45.733333</td>\n",
              "      <td>0</td>\n",
              "      <td>0</td>\n",
              "      <td>0</td>\n",
              "    </tr>\n",
              "    <tr>\n",
              "      <th>2020-08-25 22:07:00+00:00</th>\n",
              "      <td>0.0</td>\n",
              "      <td>0.0</td>\n",
              "      <td>0.0</td>\n",
              "      <td>0</td>\n",
              "      <td>0</td>\n",
              "      <td>99.133333</td>\n",
              "      <td>99.066667</td>\n",
              "      <td>0.0</td>\n",
              "      <td>0.0</td>\n",
              "      <td>100215.466667</td>\n",
              "      <td>17.533333</td>\n",
              "      <td>0</td>\n",
              "      <td>685.666667</td>\n",
              "      <td>0.000000</td>\n",
              "      <td>4.400000</td>\n",
              "      <td>0.000000</td>\n",
              "      <td>0</td>\n",
              "      <td>0</td>\n",
              "      <td>0</td>\n",
              "    </tr>\n",
              "    <tr>\n",
              "      <th>2020-08-25 22:08:00+00:00</th>\n",
              "      <td>0.0</td>\n",
              "      <td>0.0</td>\n",
              "      <td>0.0</td>\n",
              "      <td>0</td>\n",
              "      <td>0</td>\n",
              "      <td>0.000000</td>\n",
              "      <td>0.000000</td>\n",
              "      <td>0.0</td>\n",
              "      <td>0.0</td>\n",
              "      <td>0.000000</td>\n",
              "      <td>0.000000</td>\n",
              "      <td>0</td>\n",
              "      <td>0.000000</td>\n",
              "      <td>1001.933333</td>\n",
              "      <td>0.000000</td>\n",
              "      <td>4.666667</td>\n",
              "      <td>0</td>\n",
              "      <td>0</td>\n",
              "      <td>0</td>\n",
              "    </tr>\n",
              "    <tr>\n",
              "      <th>2020-08-25 22:22:00+00:00</th>\n",
              "      <td>0.0</td>\n",
              "      <td>0.0</td>\n",
              "      <td>0.0</td>\n",
              "      <td>0</td>\n",
              "      <td>0</td>\n",
              "      <td>99.066667</td>\n",
              "      <td>99.066667</td>\n",
              "      <td>0.0</td>\n",
              "      <td>0.0</td>\n",
              "      <td>33860.266667</td>\n",
              "      <td>5.266667</td>\n",
              "      <td>0</td>\n",
              "      <td>0.000000</td>\n",
              "      <td>0.000000</td>\n",
              "      <td>0.000000</td>\n",
              "      <td>0.000000</td>\n",
              "      <td>0</td>\n",
              "      <td>0</td>\n",
              "      <td>0</td>\n",
              "    </tr>\n",
              "    <tr>\n",
              "      <th>...</th>\n",
              "      <td>...</td>\n",
              "      <td>...</td>\n",
              "      <td>...</td>\n",
              "      <td>...</td>\n",
              "      <td>...</td>\n",
              "      <td>...</td>\n",
              "      <td>...</td>\n",
              "      <td>...</td>\n",
              "      <td>...</td>\n",
              "      <td>...</td>\n",
              "      <td>...</td>\n",
              "      <td>...</td>\n",
              "      <td>...</td>\n",
              "      <td>...</td>\n",
              "      <td>...</td>\n",
              "      <td>...</td>\n",
              "      <td>...</td>\n",
              "      <td>...</td>\n",
              "      <td>...</td>\n",
              "    </tr>\n",
              "    <tr>\n",
              "      <th>2020-09-09 21:08:00+00:00</th>\n",
              "      <td>0.0</td>\n",
              "      <td>0.0</td>\n",
              "      <td>0.0</td>\n",
              "      <td>0</td>\n",
              "      <td>0</td>\n",
              "      <td>0.000000</td>\n",
              "      <td>0.000000</td>\n",
              "      <td>0.0</td>\n",
              "      <td>0.0</td>\n",
              "      <td>0.000000</td>\n",
              "      <td>0.000000</td>\n",
              "      <td>0</td>\n",
              "      <td>0.000000</td>\n",
              "      <td>808.866667</td>\n",
              "      <td>0.000000</td>\n",
              "      <td>4.533333</td>\n",
              "      <td>0</td>\n",
              "      <td>0</td>\n",
              "      <td>0</td>\n",
              "    </tr>\n",
              "    <tr>\n",
              "      <th>2020-09-09 21:22:00+00:00</th>\n",
              "      <td>0.0</td>\n",
              "      <td>0.0</td>\n",
              "      <td>0.0</td>\n",
              "      <td>0</td>\n",
              "      <td>0</td>\n",
              "      <td>99.800000</td>\n",
              "      <td>99.800000</td>\n",
              "      <td>0.0</td>\n",
              "      <td>0.0</td>\n",
              "      <td>84377.600000</td>\n",
              "      <td>16.133333</td>\n",
              "      <td>0</td>\n",
              "      <td>465.533333</td>\n",
              "      <td>0.000000</td>\n",
              "      <td>3.733333</td>\n",
              "      <td>0.000000</td>\n",
              "      <td>0</td>\n",
              "      <td>0</td>\n",
              "      <td>0</td>\n",
              "    </tr>\n",
              "    <tr>\n",
              "      <th>2020-09-09 21:23:00+00:00</th>\n",
              "      <td>0.0</td>\n",
              "      <td>0.0</td>\n",
              "      <td>0.0</td>\n",
              "      <td>0</td>\n",
              "      <td>0</td>\n",
              "      <td>0.000000</td>\n",
              "      <td>0.000000</td>\n",
              "      <td>0.0</td>\n",
              "      <td>0.0</td>\n",
              "      <td>0.000000</td>\n",
              "      <td>0.000000</td>\n",
              "      <td>0</td>\n",
              "      <td>0.000000</td>\n",
              "      <td>735.200000</td>\n",
              "      <td>0.000000</td>\n",
              "      <td>3.200000</td>\n",
              "      <td>0</td>\n",
              "      <td>0</td>\n",
              "      <td>0</td>\n",
              "    </tr>\n",
              "    <tr>\n",
              "      <th>2020-09-09 21:37:00+00:00</th>\n",
              "      <td>0.0</td>\n",
              "      <td>0.0</td>\n",
              "      <td>0.0</td>\n",
              "      <td>0</td>\n",
              "      <td>0</td>\n",
              "      <td>99.750000</td>\n",
              "      <td>99.750000</td>\n",
              "      <td>0.0</td>\n",
              "      <td>0.0</td>\n",
              "      <td>14336.000000</td>\n",
              "      <td>2.166667</td>\n",
              "      <td>0</td>\n",
              "      <td>23.076923</td>\n",
              "      <td>0.000000</td>\n",
              "      <td>0.384615</td>\n",
              "      <td>0.000000</td>\n",
              "      <td>0</td>\n",
              "      <td>0</td>\n",
              "      <td>0</td>\n",
              "    </tr>\n",
              "    <tr>\n",
              "      <th>2020-09-09 21:38:00+00:00</th>\n",
              "      <td>0.0</td>\n",
              "      <td>0.0</td>\n",
              "      <td>0.0</td>\n",
              "      <td>0</td>\n",
              "      <td>0</td>\n",
              "      <td>0.000000</td>\n",
              "      <td>0.000000</td>\n",
              "      <td>0.0</td>\n",
              "      <td>0.0</td>\n",
              "      <td>0.000000</td>\n",
              "      <td>0.000000</td>\n",
              "      <td>0</td>\n",
              "      <td>0.000000</td>\n",
              "      <td>11.857143</td>\n",
              "      <td>0.000000</td>\n",
              "      <td>0.230769</td>\n",
              "      <td>0</td>\n",
              "      <td>0</td>\n",
              "      <td>0</td>\n",
              "    </tr>\n",
              "  </tbody>\n",
              "</table>\n",
              "<p>2880 rows × 19 columns</p>\n",
              "</div>"
            ],
            "text/plain": [
              "metric                     CPUUtilization  ...  StatusCheckFailed_System\n",
              "Timestamp                                  ...                          \n",
              "2020-08-25 21:52:00+00:00             0.0  ...                         0\n",
              "2020-08-25 21:53:00+00:00             0.0  ...                         0\n",
              "2020-08-25 22:07:00+00:00             0.0  ...                         0\n",
              "2020-08-25 22:08:00+00:00             0.0  ...                         0\n",
              "2020-08-25 22:22:00+00:00             0.0  ...                         0\n",
              "...                                   ...  ...                       ...\n",
              "2020-09-09 21:08:00+00:00             0.0  ...                         0\n",
              "2020-09-09 21:22:00+00:00             0.0  ...                         0\n",
              "2020-09-09 21:23:00+00:00             0.0  ...                         0\n",
              "2020-09-09 21:37:00+00:00             0.0  ...                         0\n",
              "2020-09-09 21:38:00+00:00             0.0  ...                         0\n",
              "\n",
              "[2880 rows x 19 columns]"
            ]
          },
          "metadata": {
            "tags": []
          },
          "execution_count": 3
        }
      ]
    },
    {
      "cell_type": "code",
      "metadata": {
        "id": "D1BA3akCXfkD",
        "outputId": "fc9e39df-fc42-4033-f931-e169cc62403f",
        "colab": {
          "base_uri": "https://localhost:8080/",
          "height": 134
        }
      },
      "source": [
        "grouped_df.columns"
      ],
      "execution_count": null,
      "outputs": [
        {
          "output_type": "execute_result",
          "data": {
            "text/plain": [
              "Index(['CPUUtilization', 'DiskReadBytes', 'DiskReadOps', 'DiskWriteBytes',\n",
              "       'DiskWriteOps', 'EBSByteBalance%', 'EBSIOBalance%', 'EBSReadBytes',\n",
              "       'EBSReadOps', 'EBSWriteBytes', 'EBSWriteOps', 'MetadataNoToken',\n",
              "       'NetworkIn', 'NetworkOut', 'NetworkPacketsIn', 'NetworkPacketsOut',\n",
              "       'StatusCheckFailed', 'StatusCheckFailed_Instance',\n",
              "       'StatusCheckFailed_System'],\n",
              "      dtype='object', name='metric')"
            ]
          },
          "metadata": {
            "tags": []
          },
          "execution_count": 4
        }
      ]
    },
    {
      "cell_type": "code",
      "metadata": {
        "id": "-89_NJqqX0MT",
        "outputId": "e4327945-83cd-4690-8b51-8ce56cccf546",
        "colab": {
          "base_uri": "https://localhost:8080/",
          "height": 218
        }
      },
      "source": [
        "dataset_train = grouped_df[['EBSByteBalance%', 'EBSIOBalance%', 'EBSWriteBytes', 'EBSWriteOps','NetworkIn']]\n",
        "dataset_train.info()"
      ],
      "execution_count": null,
      "outputs": [
        {
          "output_type": "stream",
          "text": [
            "<class 'pandas.core.frame.DataFrame'>\n",
            "DatetimeIndex: 2880 entries, 2020-08-25 21:52:00+00:00 to 2020-09-09 21:38:00+00:00\n",
            "Data columns (total 5 columns):\n",
            " #   Column           Non-Null Count  Dtype  \n",
            "---  ------           --------------  -----  \n",
            " 0   EBSByteBalance%  2880 non-null   float64\n",
            " 1   EBSIOBalance%    2880 non-null   float64\n",
            " 2   EBSWriteBytes    2880 non-null   float64\n",
            " 3   EBSWriteOps      2880 non-null   float64\n",
            " 4   NetworkIn        2880 non-null   float64\n",
            "dtypes: float64(5)\n",
            "memory usage: 135.0 KB\n"
          ],
          "name": "stdout"
        }
      ]
    },
    {
      "cell_type": "code",
      "metadata": {
        "id": "gKTWjMTmftpF",
        "outputId": "976790e8-b0d0-4649-c337-2b026dafc071",
        "colab": {
          "base_uri": "https://localhost:8080/",
          "height": 373
        }
      },
      "source": [
        "dataset_train.head(10)\n",
        "\n"
      ],
      "execution_count": null,
      "outputs": [
        {
          "output_type": "execute_result",
          "data": {
            "text/html": [
              "<div>\n",
              "<style scoped>\n",
              "    .dataframe tbody tr th:only-of-type {\n",
              "        vertical-align: middle;\n",
              "    }\n",
              "\n",
              "    .dataframe tbody tr th {\n",
              "        vertical-align: top;\n",
              "    }\n",
              "\n",
              "    .dataframe thead th {\n",
              "        text-align: right;\n",
              "    }\n",
              "</style>\n",
              "<table border=\"1\" class=\"dataframe\">\n",
              "  <thead>\n",
              "    <tr style=\"text-align: right;\">\n",
              "      <th>metric</th>\n",
              "      <th>EBSByteBalance%</th>\n",
              "      <th>EBSIOBalance%</th>\n",
              "      <th>EBSWriteBytes</th>\n",
              "      <th>EBSWriteOps</th>\n",
              "      <th>NetworkIn</th>\n",
              "    </tr>\n",
              "    <tr>\n",
              "      <th>Timestamp</th>\n",
              "      <th></th>\n",
              "      <th></th>\n",
              "      <th></th>\n",
              "      <th></th>\n",
              "      <th></th>\n",
              "    </tr>\n",
              "  </thead>\n",
              "  <tbody>\n",
              "    <tr>\n",
              "      <th>2020-08-25 21:52:00+00:00</th>\n",
              "      <td>99.200000</td>\n",
              "      <td>99.133333</td>\n",
              "      <td>408234.666667</td>\n",
              "      <td>80.133333</td>\n",
              "      <td>6988.133333</td>\n",
              "    </tr>\n",
              "    <tr>\n",
              "      <th>2020-08-25 21:53:00+00:00</th>\n",
              "      <td>0.000000</td>\n",
              "      <td>0.000000</td>\n",
              "      <td>0.000000</td>\n",
              "      <td>0.000000</td>\n",
              "      <td>0.000000</td>\n",
              "    </tr>\n",
              "    <tr>\n",
              "      <th>2020-08-25 22:07:00+00:00</th>\n",
              "      <td>99.133333</td>\n",
              "      <td>99.066667</td>\n",
              "      <td>100215.466667</td>\n",
              "      <td>17.533333</td>\n",
              "      <td>685.666667</td>\n",
              "    </tr>\n",
              "    <tr>\n",
              "      <th>2020-08-25 22:08:00+00:00</th>\n",
              "      <td>0.000000</td>\n",
              "      <td>0.000000</td>\n",
              "      <td>0.000000</td>\n",
              "      <td>0.000000</td>\n",
              "      <td>0.000000</td>\n",
              "    </tr>\n",
              "    <tr>\n",
              "      <th>2020-08-25 22:22:00+00:00</th>\n",
              "      <td>99.066667</td>\n",
              "      <td>99.066667</td>\n",
              "      <td>33860.266667</td>\n",
              "      <td>5.266667</td>\n",
              "      <td>0.000000</td>\n",
              "    </tr>\n",
              "    <tr>\n",
              "      <th>2020-08-25 22:23:00+00:00</th>\n",
              "      <td>0.000000</td>\n",
              "      <td>0.000000</td>\n",
              "      <td>0.000000</td>\n",
              "      <td>0.000000</td>\n",
              "      <td>0.000000</td>\n",
              "    </tr>\n",
              "    <tr>\n",
              "      <th>2020-08-25 22:37:00+00:00</th>\n",
              "      <td>99.266667</td>\n",
              "      <td>99.266667</td>\n",
              "      <td>237568.000000</td>\n",
              "      <td>10.600000</td>\n",
              "      <td>49703.133333</td>\n",
              "    </tr>\n",
              "    <tr>\n",
              "      <th>2020-08-25 22:38:00+00:00</th>\n",
              "      <td>0.000000</td>\n",
              "      <td>0.000000</td>\n",
              "      <td>0.000000</td>\n",
              "      <td>0.000000</td>\n",
              "      <td>0.000000</td>\n",
              "    </tr>\n",
              "    <tr>\n",
              "      <th>2020-08-25 22:52:00+00:00</th>\n",
              "      <td>99.333333</td>\n",
              "      <td>99.333333</td>\n",
              "      <td>28945.066667</td>\n",
              "      <td>4.333333</td>\n",
              "      <td>4.000000</td>\n",
              "    </tr>\n",
              "    <tr>\n",
              "      <th>2020-08-25 22:53:00+00:00</th>\n",
              "      <td>0.000000</td>\n",
              "      <td>0.000000</td>\n",
              "      <td>0.000000</td>\n",
              "      <td>0.000000</td>\n",
              "      <td>0.000000</td>\n",
              "    </tr>\n",
              "  </tbody>\n",
              "</table>\n",
              "</div>"
            ],
            "text/plain": [
              "metric                     EBSByteBalance%  ...     NetworkIn\n",
              "Timestamp                                   ...              \n",
              "2020-08-25 21:52:00+00:00        99.200000  ...   6988.133333\n",
              "2020-08-25 21:53:00+00:00         0.000000  ...      0.000000\n",
              "2020-08-25 22:07:00+00:00        99.133333  ...    685.666667\n",
              "2020-08-25 22:08:00+00:00         0.000000  ...      0.000000\n",
              "2020-08-25 22:22:00+00:00        99.066667  ...      0.000000\n",
              "2020-08-25 22:23:00+00:00         0.000000  ...      0.000000\n",
              "2020-08-25 22:37:00+00:00        99.266667  ...  49703.133333\n",
              "2020-08-25 22:38:00+00:00         0.000000  ...      0.000000\n",
              "2020-08-25 22:52:00+00:00        99.333333  ...      4.000000\n",
              "2020-08-25 22:53:00+00:00         0.000000  ...      0.000000\n",
              "\n",
              "[10 rows x 5 columns]"
            ]
          },
          "metadata": {
            "tags": []
          },
          "execution_count": 6
        }
      ]
    },
    {
      "cell_type": "code",
      "metadata": {
        "id": "9r8jItD0ijKz"
      },
      "source": [
        "cols_of_interest = ['EBSByteBalance%', 'EBSIOBalance%', 'EBSWriteBytes', 'EBSWriteOps','NetworkIn']\n",
        "dataset_train = dataset_train[(dataset_train[cols_of_interest]!=0).any(axis=1)]"
      ],
      "execution_count": null,
      "outputs": []
    },
    {
      "cell_type": "code",
      "metadata": {
        "id": "YtzZLNAJndFD"
      },
      "source": [
        "dataset_train['EBSByteBalance%'] = dataset_train[['EBSByteBalance%']].apply(lambda x : (x/100))\n",
        "dataset_train['EBSIOBalance%'] = dataset_train[['EBSIOBalance%']].apply(lambda x : (x/100))"
      ],
      "execution_count": null,
      "outputs": []
    },
    {
      "cell_type": "code",
      "metadata": {
        "id": "0UUje6wUneSh",
        "outputId": "766dc21e-ded9-4737-8216-1a908a95ec0b",
        "colab": {
          "base_uri": "https://localhost:8080/",
          "height": 225
        }
      },
      "source": [
        "dataset_train.head()\n"
      ],
      "execution_count": null,
      "outputs": [
        {
          "output_type": "execute_result",
          "data": {
            "text/html": [
              "<div>\n",
              "<style scoped>\n",
              "    .dataframe tbody tr th:only-of-type {\n",
              "        vertical-align: middle;\n",
              "    }\n",
              "\n",
              "    .dataframe tbody tr th {\n",
              "        vertical-align: top;\n",
              "    }\n",
              "\n",
              "    .dataframe thead th {\n",
              "        text-align: right;\n",
              "    }\n",
              "</style>\n",
              "<table border=\"1\" class=\"dataframe\">\n",
              "  <thead>\n",
              "    <tr style=\"text-align: right;\">\n",
              "      <th>metric</th>\n",
              "      <th>EBSByteBalance%</th>\n",
              "      <th>EBSIOBalance%</th>\n",
              "      <th>EBSWriteBytes</th>\n",
              "      <th>EBSWriteOps</th>\n",
              "      <th>NetworkIn</th>\n",
              "    </tr>\n",
              "    <tr>\n",
              "      <th>Timestamp</th>\n",
              "      <th></th>\n",
              "      <th></th>\n",
              "      <th></th>\n",
              "      <th></th>\n",
              "      <th></th>\n",
              "    </tr>\n",
              "  </thead>\n",
              "  <tbody>\n",
              "    <tr>\n",
              "      <th>2020-08-25 21:52:00+00:00</th>\n",
              "      <td>0.992000</td>\n",
              "      <td>0.991333</td>\n",
              "      <td>408234.666667</td>\n",
              "      <td>80.133333</td>\n",
              "      <td>6988.133333</td>\n",
              "    </tr>\n",
              "    <tr>\n",
              "      <th>2020-08-25 22:07:00+00:00</th>\n",
              "      <td>0.991333</td>\n",
              "      <td>0.990667</td>\n",
              "      <td>100215.466667</td>\n",
              "      <td>17.533333</td>\n",
              "      <td>685.666667</td>\n",
              "    </tr>\n",
              "    <tr>\n",
              "      <th>2020-08-25 22:22:00+00:00</th>\n",
              "      <td>0.990667</td>\n",
              "      <td>0.990667</td>\n",
              "      <td>33860.266667</td>\n",
              "      <td>5.266667</td>\n",
              "      <td>0.000000</td>\n",
              "    </tr>\n",
              "    <tr>\n",
              "      <th>2020-08-25 22:37:00+00:00</th>\n",
              "      <td>0.992667</td>\n",
              "      <td>0.992667</td>\n",
              "      <td>237568.000000</td>\n",
              "      <td>10.600000</td>\n",
              "      <td>49703.133333</td>\n",
              "    </tr>\n",
              "    <tr>\n",
              "      <th>2020-08-25 22:52:00+00:00</th>\n",
              "      <td>0.993333</td>\n",
              "      <td>0.993333</td>\n",
              "      <td>28945.066667</td>\n",
              "      <td>4.333333</td>\n",
              "      <td>4.000000</td>\n",
              "    </tr>\n",
              "  </tbody>\n",
              "</table>\n",
              "</div>"
            ],
            "text/plain": [
              "metric                     EBSByteBalance%  ...     NetworkIn\n",
              "Timestamp                                   ...              \n",
              "2020-08-25 21:52:00+00:00         0.992000  ...   6988.133333\n",
              "2020-08-25 22:07:00+00:00         0.991333  ...    685.666667\n",
              "2020-08-25 22:22:00+00:00         0.990667  ...      0.000000\n",
              "2020-08-25 22:37:00+00:00         0.992667  ...  49703.133333\n",
              "2020-08-25 22:52:00+00:00         0.993333  ...      4.000000\n",
              "\n",
              "[5 rows x 5 columns]"
            ]
          },
          "metadata": {
            "tags": []
          },
          "execution_count": 9
        }
      ]
    },
    {
      "cell_type": "code",
      "metadata": {
        "id": "TrkSKwLToTAt"
      },
      "source": [
        "len(dataset_train)\n",
        "dataset_train = dataset_train.reset_index()"
      ],
      "execution_count": null,
      "outputs": []
    },
    {
      "cell_type": "code",
      "metadata": {
        "id": "MdQEYiANuwBc",
        "outputId": "fa9a7b25-36e9-4938-aff4-bf1a8c87764d",
        "colab": {
          "base_uri": "https://localhost:8080/",
          "height": 34
        }
      },
      "source": [
        "dataset_train[\"Timestamp\"].dtype"
      ],
      "execution_count": null,
      "outputs": [
        {
          "output_type": "execute_result",
          "data": {
            "text/plain": [
              "datetime64[ns, UTC]"
            ]
          },
          "metadata": {
            "tags": []
          },
          "execution_count": 11
        }
      ]
    },
    {
      "cell_type": "code",
      "metadata": {
        "id": "Bv9Zz1Ect1Wu",
        "outputId": "82def276-c87d-41aa-f154-89307e1039aa",
        "colab": {
          "base_uri": "https://localhost:8080/",
          "height": 420
        }
      },
      "source": [
        "\n",
        "dataset_train[\"Timestamp\"] = dataset_train[\"Timestamp\"].dt.strftime('%Y-%m-%d %H:%M:%S')\n",
        "print(len(dataset_train))\n",
        "print(type(dataset_train[\"Timestamp\"]))\n",
        "print(dataset_train.head())\n",
        "print(dataset_train.info())"
      ],
      "execution_count": null,
      "outputs": [
        {
          "output_type": "stream",
          "text": [
            "1440\n",
            "<class 'pandas.core.series.Series'>\n",
            "metric            Timestamp  EBSByteBalance%  ...  EBSWriteOps     NetworkIn\n",
            "0       2020-08-25 21:52:00         0.992000  ...    80.133333   6988.133333\n",
            "1       2020-08-25 22:07:00         0.991333  ...    17.533333    685.666667\n",
            "2       2020-08-25 22:22:00         0.990667  ...     5.266667      0.000000\n",
            "3       2020-08-25 22:37:00         0.992667  ...    10.600000  49703.133333\n",
            "4       2020-08-25 22:52:00         0.993333  ...     4.333333      4.000000\n",
            "\n",
            "[5 rows x 6 columns]\n",
            "<class 'pandas.core.frame.DataFrame'>\n",
            "RangeIndex: 1440 entries, 0 to 1439\n",
            "Data columns (total 6 columns):\n",
            " #   Column           Non-Null Count  Dtype  \n",
            "---  ------           --------------  -----  \n",
            " 0   Timestamp        1440 non-null   object \n",
            " 1   EBSByteBalance%  1440 non-null   float64\n",
            " 2   EBSIOBalance%    1440 non-null   float64\n",
            " 3   EBSWriteBytes    1440 non-null   float64\n",
            " 4   EBSWriteOps      1440 non-null   float64\n",
            " 5   NetworkIn        1440 non-null   float64\n",
            "dtypes: float64(5), object(1)\n",
            "memory usage: 67.6+ KB\n",
            "None\n"
          ],
          "name": "stdout"
        }
      ]
    },
    {
      "cell_type": "code",
      "metadata": {
        "id": "44LvTEnRMkn8"
      },
      "source": [
        "dataset_train.to_csv(\"Cleaned_Input_data.csv\")"
      ],
      "execution_count": null,
      "outputs": []
    },
    {
      "cell_type": "code",
      "metadata": {
        "id": "ZgeJypLDq7ir",
        "outputId": "70d6c57b-63ca-4505-81ab-64587219dc08",
        "colab": {
          "base_uri": "https://localhost:8080/",
          "height": 104
        }
      },
      "source": [
        "# We are predicting the EBSWriteBytes.\n",
        "\n",
        "#select features to be involved into training and prediction.\n",
        "cols = list(dataset_train)[1:6]\n",
        "#print(cols)\n",
        "\n",
        "# Extract dates(we will use them in visulaization)\n",
        "datelist_train = list(dataset_train[\"Timestamp\"])\n",
        "print(datelist_train)\n",
        "print('Training set shape = {}'.format(dataset_train.shape))\n",
        "print(\"All timestamps = {}\".format(len(datelist_train)))\n",
        "print(\"Features selected: {}\".format(cols))"
      ],
      "execution_count": null,
      "outputs": [
        {
          "output_type": "stream",
          "text": [
            "['2020-08-25 21:52:00', '2020-08-25 22:07:00', '2020-08-25 22:22:00', '2020-08-25 22:37:00', '2020-08-25 22:52:00', '2020-08-25 23:07:00', '2020-08-25 23:22:00', '2020-08-25 23:37:00', '2020-08-25 23:52:00', '2020-08-26 00:07:00', '2020-08-26 00:22:00', '2020-08-26 00:37:00', '2020-08-26 00:52:00', '2020-08-26 01:07:00', '2020-08-26 01:22:00', '2020-08-26 01:37:00', '2020-08-26 01:52:00', '2020-08-26 02:07:00', '2020-08-26 02:22:00', '2020-08-26 02:37:00', '2020-08-26 02:52:00', '2020-08-26 03:07:00', '2020-08-26 03:22:00', '2020-08-26 03:37:00', '2020-08-26 03:52:00', '2020-08-26 04:07:00', '2020-08-26 04:22:00', '2020-08-26 04:37:00', '2020-08-26 04:52:00', '2020-08-26 05:07:00', '2020-08-26 05:22:00', '2020-08-26 05:37:00', '2020-08-26 05:52:00', '2020-08-26 06:07:00', '2020-08-26 06:22:00', '2020-08-26 06:37:00', '2020-08-26 06:52:00', '2020-08-26 07:07:00', '2020-08-26 07:22:00', '2020-08-26 07:37:00', '2020-08-26 07:52:00', '2020-08-26 08:07:00', '2020-08-26 08:22:00', '2020-08-26 08:37:00', '2020-08-26 08:52:00', '2020-08-26 09:07:00', '2020-08-26 09:22:00', '2020-08-26 09:37:00', '2020-08-26 09:52:00', '2020-08-26 10:07:00', '2020-08-26 10:22:00', '2020-08-26 10:37:00', '2020-08-26 10:52:00', '2020-08-26 11:07:00', '2020-08-26 11:22:00', '2020-08-26 11:37:00', '2020-08-26 11:52:00', '2020-08-26 12:07:00', '2020-08-26 12:22:00', '2020-08-26 12:37:00', '2020-08-26 12:52:00', '2020-08-26 13:07:00', '2020-08-26 13:22:00', '2020-08-26 13:37:00', '2020-08-26 13:52:00', '2020-08-26 14:07:00', '2020-08-26 14:22:00', '2020-08-26 14:37:00', '2020-08-26 14:52:00', '2020-08-26 15:07:00', '2020-08-26 15:22:00', '2020-08-26 15:37:00', '2020-08-26 15:52:00', '2020-08-26 16:07:00', '2020-08-26 16:22:00', '2020-08-26 16:37:00', '2020-08-26 16:52:00', '2020-08-26 17:07:00', '2020-08-26 17:22:00', '2020-08-26 17:37:00', '2020-08-26 17:52:00', '2020-08-26 18:07:00', '2020-08-26 18:22:00', '2020-08-26 18:37:00', '2020-08-26 18:52:00', '2020-08-26 19:07:00', '2020-08-26 19:22:00', '2020-08-26 19:37:00', '2020-08-26 19:52:00', '2020-08-26 20:07:00', '2020-08-26 20:22:00', '2020-08-26 20:37:00', '2020-08-26 20:52:00', '2020-08-26 21:07:00', '2020-08-26 21:22:00', '2020-08-26 21:37:00', '2020-08-26 21:52:00', '2020-08-26 22:07:00', '2020-08-26 22:22:00', '2020-08-26 22:37:00', '2020-08-26 22:52:00', '2020-08-26 23:07:00', '2020-08-26 23:22:00', '2020-08-26 23:37:00', '2020-08-26 23:52:00', '2020-08-27 00:07:00', '2020-08-27 00:22:00', '2020-08-27 00:37:00', '2020-08-27 00:52:00', '2020-08-27 01:07:00', '2020-08-27 01:22:00', '2020-08-27 01:37:00', '2020-08-27 01:52:00', '2020-08-27 02:07:00', '2020-08-27 02:22:00', '2020-08-27 02:37:00', '2020-08-27 02:52:00', '2020-08-27 03:07:00', '2020-08-27 03:22:00', '2020-08-27 03:37:00', '2020-08-27 03:52:00', '2020-08-27 04:07:00', '2020-08-27 04:22:00', '2020-08-27 04:37:00', '2020-08-27 04:52:00', '2020-08-27 05:07:00', '2020-08-27 05:22:00', '2020-08-27 05:37:00', '2020-08-27 05:52:00', '2020-08-27 06:07:00', '2020-08-27 06:22:00', '2020-08-27 06:37:00', '2020-08-27 06:52:00', '2020-08-27 07:07:00', '2020-08-27 07:22:00', '2020-08-27 07:37:00', '2020-08-27 07:52:00', '2020-08-27 08:07:00', '2020-08-27 08:22:00', '2020-08-27 08:37:00', '2020-08-27 08:52:00', '2020-08-27 09:07:00', '2020-08-27 09:22:00', '2020-08-27 09:37:00', '2020-08-27 09:52:00', '2020-08-27 10:07:00', '2020-08-27 10:22:00', '2020-08-27 10:37:00', '2020-08-27 10:52:00', '2020-08-27 11:07:00', '2020-08-27 11:22:00', '2020-08-27 11:37:00', '2020-08-27 11:52:00', '2020-08-27 12:07:00', '2020-08-27 12:22:00', '2020-08-27 12:37:00', '2020-08-27 12:52:00', '2020-08-27 13:07:00', '2020-08-27 13:22:00', '2020-08-27 13:37:00', '2020-08-27 13:52:00', '2020-08-27 14:07:00', '2020-08-27 14:22:00', '2020-08-27 14:37:00', '2020-08-27 14:52:00', '2020-08-27 15:07:00', '2020-08-27 15:22:00', '2020-08-27 15:37:00', '2020-08-27 15:52:00', '2020-08-27 16:07:00', '2020-08-27 16:22:00', '2020-08-27 16:37:00', '2020-08-27 16:52:00', '2020-08-27 17:07:00', '2020-08-27 17:22:00', '2020-08-27 17:37:00', '2020-08-27 17:52:00', '2020-08-27 18:07:00', '2020-08-27 18:22:00', '2020-08-27 18:37:00', '2020-08-27 18:52:00', '2020-08-27 19:07:00', '2020-08-27 19:22:00', '2020-08-27 19:37:00', '2020-08-27 19:52:00', '2020-08-27 20:07:00', '2020-08-27 20:22:00', '2020-08-27 20:37:00', '2020-08-27 20:52:00', '2020-08-27 21:07:00', '2020-08-27 21:22:00', '2020-08-27 21:37:00', '2020-08-27 21:52:00', '2020-08-27 22:07:00', '2020-08-27 22:22:00', '2020-08-27 22:37:00', '2020-08-27 22:52:00', '2020-08-27 23:07:00', '2020-08-27 23:22:00', '2020-08-27 23:37:00', '2020-08-27 23:52:00', '2020-08-28 00:07:00', '2020-08-28 00:22:00', '2020-08-28 00:37:00', '2020-08-28 00:52:00', '2020-08-28 01:07:00', '2020-08-28 01:22:00', '2020-08-28 01:37:00', '2020-08-28 01:52:00', '2020-08-28 02:07:00', '2020-08-28 02:22:00', '2020-08-28 02:37:00', '2020-08-28 02:52:00', '2020-08-28 03:07:00', '2020-08-28 03:22:00', '2020-08-28 03:37:00', '2020-08-28 03:52:00', '2020-08-28 04:07:00', '2020-08-28 04:22:00', '2020-08-28 04:37:00', '2020-08-28 04:52:00', '2020-08-28 05:07:00', '2020-08-28 05:22:00', '2020-08-28 05:37:00', '2020-08-28 05:52:00', '2020-08-28 06:07:00', '2020-08-28 06:22:00', '2020-08-28 06:37:00', '2020-08-28 06:52:00', '2020-08-28 07:07:00', '2020-08-28 07:22:00', '2020-08-28 07:37:00', '2020-08-28 07:52:00', '2020-08-28 08:07:00', '2020-08-28 08:22:00', '2020-08-28 08:37:00', '2020-08-28 08:52:00', '2020-08-28 09:07:00', '2020-08-28 09:22:00', '2020-08-28 09:37:00', '2020-08-28 09:52:00', '2020-08-28 10:07:00', '2020-08-28 10:22:00', '2020-08-28 10:37:00', '2020-08-28 10:52:00', '2020-08-28 11:07:00', '2020-08-28 11:22:00', '2020-08-28 11:37:00', '2020-08-28 11:52:00', '2020-08-28 12:07:00', '2020-08-28 12:22:00', '2020-08-28 12:37:00', '2020-08-28 12:52:00', '2020-08-28 13:07:00', '2020-08-28 13:22:00', '2020-08-28 13:37:00', '2020-08-28 13:52:00', '2020-08-28 14:07:00', '2020-08-28 14:22:00', '2020-08-28 14:37:00', '2020-08-28 14:52:00', '2020-08-28 15:07:00', '2020-08-28 15:22:00', '2020-08-28 15:37:00', '2020-08-28 15:52:00', '2020-08-28 16:07:00', '2020-08-28 16:22:00', '2020-08-28 16:37:00', '2020-08-28 16:52:00', '2020-08-28 17:07:00', '2020-08-28 17:22:00', '2020-08-28 17:37:00', '2020-08-28 17:52:00', '2020-08-28 18:07:00', '2020-08-28 18:22:00', '2020-08-28 18:37:00', '2020-08-28 18:52:00', '2020-08-28 19:07:00', '2020-08-28 19:22:00', '2020-08-28 19:37:00', '2020-08-28 19:52:00', '2020-08-28 20:07:00', '2020-08-28 20:22:00', '2020-08-28 20:37:00', '2020-08-28 20:52:00', '2020-08-28 21:07:00', '2020-08-28 21:22:00', '2020-08-28 21:37:00', '2020-08-28 21:52:00', '2020-08-28 22:07:00', '2020-08-28 22:22:00', '2020-08-28 22:37:00', '2020-08-28 22:52:00', '2020-08-28 23:07:00', '2020-08-28 23:22:00', '2020-08-28 23:37:00', '2020-08-28 23:52:00', '2020-08-29 00:07:00', '2020-08-29 00:22:00', '2020-08-29 00:37:00', '2020-08-29 00:52:00', '2020-08-29 01:07:00', '2020-08-29 01:22:00', '2020-08-29 01:37:00', '2020-08-29 01:52:00', '2020-08-29 02:07:00', '2020-08-29 02:22:00', '2020-08-29 02:37:00', '2020-08-29 02:52:00', '2020-08-29 03:07:00', '2020-08-29 03:22:00', '2020-08-29 03:37:00', '2020-08-29 03:52:00', '2020-08-29 04:07:00', '2020-08-29 04:22:00', '2020-08-29 04:37:00', '2020-08-29 04:52:00', '2020-08-29 05:07:00', '2020-08-29 05:22:00', '2020-08-29 05:37:00', '2020-08-29 05:52:00', '2020-08-29 06:07:00', '2020-08-29 06:22:00', '2020-08-29 06:37:00', '2020-08-29 06:52:00', '2020-08-29 07:07:00', '2020-08-29 07:22:00', '2020-08-29 07:37:00', '2020-08-29 07:52:00', '2020-08-29 08:07:00', '2020-08-29 08:22:00', '2020-08-29 08:37:00', '2020-08-29 08:52:00', '2020-08-29 09:07:00', '2020-08-29 09:22:00', '2020-08-29 09:37:00', '2020-08-29 09:52:00', '2020-08-29 10:07:00', '2020-08-29 10:22:00', '2020-08-29 10:37:00', '2020-08-29 10:52:00', '2020-08-29 11:07:00', '2020-08-29 11:22:00', '2020-08-29 11:37:00', '2020-08-29 11:52:00', '2020-08-29 12:07:00', '2020-08-29 12:22:00', '2020-08-29 12:37:00', '2020-08-29 12:52:00', '2020-08-29 13:07:00', '2020-08-29 13:22:00', '2020-08-29 13:37:00', '2020-08-29 13:52:00', '2020-08-29 14:07:00', '2020-08-29 14:22:00', '2020-08-29 14:37:00', '2020-08-29 14:52:00', '2020-08-29 15:07:00', '2020-08-29 15:22:00', '2020-08-29 15:37:00', '2020-08-29 15:52:00', '2020-08-29 16:07:00', '2020-08-29 16:22:00', '2020-08-29 16:37:00', '2020-08-29 16:52:00', '2020-08-29 17:07:00', '2020-08-29 17:22:00', '2020-08-29 17:37:00', '2020-08-29 17:52:00', '2020-08-29 18:07:00', '2020-08-29 18:22:00', '2020-08-29 18:37:00', '2020-08-29 18:52:00', '2020-08-29 19:07:00', '2020-08-29 19:22:00', '2020-08-29 19:37:00', '2020-08-29 19:52:00', '2020-08-29 20:07:00', '2020-08-29 20:22:00', '2020-08-29 20:37:00', '2020-08-29 20:52:00', '2020-08-29 21:07:00', '2020-08-29 21:22:00', '2020-08-29 21:37:00', '2020-08-29 21:52:00', '2020-08-29 22:07:00', '2020-08-29 22:22:00', '2020-08-29 22:37:00', '2020-08-29 22:52:00', '2020-08-29 23:07:00', '2020-08-29 23:22:00', '2020-08-29 23:37:00', '2020-08-29 23:52:00', '2020-08-30 00:07:00', '2020-08-30 00:22:00', '2020-08-30 00:37:00', '2020-08-30 00:52:00', '2020-08-30 01:07:00', '2020-08-30 01:22:00', '2020-08-30 01:37:00', '2020-08-30 01:52:00', '2020-08-30 02:07:00', '2020-08-30 02:22:00', '2020-08-30 02:37:00', '2020-08-30 02:52:00', '2020-08-30 03:07:00', '2020-08-30 03:22:00', '2020-08-30 03:37:00', '2020-08-30 03:52:00', '2020-08-30 04:07:00', '2020-08-30 04:22:00', '2020-08-30 04:37:00', '2020-08-30 04:52:00', '2020-08-30 05:07:00', '2020-08-30 05:22:00', '2020-08-30 05:37:00', '2020-08-30 05:52:00', '2020-08-30 06:07:00', '2020-08-30 06:22:00', '2020-08-30 06:37:00', '2020-08-30 06:52:00', '2020-08-30 07:07:00', '2020-08-30 07:22:00', '2020-08-30 07:37:00', '2020-08-30 07:52:00', '2020-08-30 08:07:00', '2020-08-30 08:22:00', '2020-08-30 08:37:00', '2020-08-30 08:52:00', '2020-08-30 09:07:00', '2020-08-30 09:22:00', '2020-08-30 09:37:00', '2020-08-30 09:52:00', '2020-08-30 10:07:00', '2020-08-30 10:22:00', '2020-08-30 10:37:00', '2020-08-30 10:52:00', '2020-08-30 11:07:00', '2020-08-30 11:22:00', '2020-08-30 11:37:00', '2020-08-30 11:52:00', '2020-08-30 12:07:00', '2020-08-30 12:22:00', '2020-08-30 12:37:00', '2020-08-30 12:52:00', '2020-08-30 13:07:00', '2020-08-30 13:22:00', '2020-08-30 13:37:00', '2020-08-30 13:52:00', '2020-08-30 14:07:00', '2020-08-30 14:22:00', '2020-08-30 14:37:00', '2020-08-30 14:52:00', '2020-08-30 15:07:00', '2020-08-30 15:22:00', '2020-08-30 15:37:00', '2020-08-30 15:52:00', '2020-08-30 16:07:00', '2020-08-30 16:22:00', '2020-08-30 16:37:00', '2020-08-30 16:52:00', '2020-08-30 17:07:00', '2020-08-30 17:22:00', '2020-08-30 17:37:00', '2020-08-30 17:52:00', '2020-08-30 18:07:00', '2020-08-30 18:22:00', '2020-08-30 18:37:00', '2020-08-30 18:52:00', '2020-08-30 19:07:00', '2020-08-30 19:22:00', '2020-08-30 19:37:00', '2020-08-30 19:52:00', '2020-08-30 20:07:00', '2020-08-30 20:22:00', '2020-08-30 20:37:00', '2020-08-30 20:52:00', '2020-08-30 21:07:00', '2020-08-30 21:22:00', '2020-08-30 21:37:00', '2020-08-30 21:52:00', '2020-08-30 22:07:00', '2020-08-30 22:22:00', '2020-08-30 22:37:00', '2020-08-30 22:52:00', '2020-08-30 23:07:00', '2020-08-30 23:22:00', '2020-08-30 23:37:00', '2020-08-30 23:52:00', '2020-08-31 00:07:00', '2020-08-31 00:22:00', '2020-08-31 00:37:00', '2020-08-31 00:52:00', '2020-08-31 01:07:00', '2020-08-31 01:22:00', '2020-08-31 01:37:00', '2020-08-31 01:52:00', '2020-08-31 02:07:00', '2020-08-31 02:22:00', '2020-08-31 02:37:00', '2020-08-31 02:52:00', '2020-08-31 03:07:00', '2020-08-31 03:22:00', '2020-08-31 03:37:00', '2020-08-31 03:52:00', '2020-08-31 04:07:00', '2020-08-31 04:22:00', '2020-08-31 04:37:00', '2020-08-31 04:52:00', '2020-08-31 05:07:00', '2020-08-31 05:22:00', '2020-08-31 05:37:00', '2020-08-31 05:52:00', '2020-08-31 06:07:00', '2020-08-31 06:22:00', '2020-08-31 06:37:00', '2020-08-31 06:52:00', '2020-08-31 07:07:00', '2020-08-31 07:22:00', '2020-08-31 07:37:00', '2020-08-31 07:52:00', '2020-08-31 08:07:00', '2020-08-31 08:22:00', '2020-08-31 08:37:00', '2020-08-31 08:52:00', '2020-08-31 09:07:00', '2020-08-31 09:22:00', '2020-08-31 09:37:00', '2020-08-31 09:52:00', '2020-08-31 10:07:00', '2020-08-31 10:22:00', '2020-08-31 10:37:00', '2020-08-31 10:52:00', '2020-08-31 11:07:00', '2020-08-31 11:22:00', '2020-08-31 11:37:00', '2020-08-31 11:52:00', '2020-08-31 12:07:00', '2020-08-31 12:22:00', '2020-08-31 12:37:00', '2020-08-31 12:52:00', '2020-08-31 13:07:00', '2020-08-31 13:22:00', '2020-08-31 13:37:00', '2020-08-31 13:52:00', '2020-08-31 14:07:00', '2020-08-31 14:22:00', '2020-08-31 14:37:00', '2020-08-31 14:52:00', '2020-08-31 15:07:00', '2020-08-31 15:22:00', '2020-08-31 15:37:00', '2020-08-31 15:52:00', '2020-08-31 16:07:00', '2020-08-31 16:22:00', '2020-08-31 16:37:00', '2020-08-31 16:52:00', '2020-08-31 17:07:00', '2020-08-31 17:22:00', '2020-08-31 17:37:00', '2020-08-31 17:52:00', '2020-08-31 18:07:00', '2020-08-31 18:22:00', '2020-08-31 18:37:00', '2020-08-31 18:52:00', '2020-08-31 19:07:00', '2020-08-31 19:22:00', '2020-08-31 19:37:00', '2020-08-31 19:52:00', '2020-08-31 20:07:00', '2020-08-31 20:22:00', '2020-08-31 20:37:00', '2020-08-31 20:52:00', '2020-08-31 21:07:00', '2020-08-31 21:22:00', '2020-08-31 21:37:00', '2020-08-31 21:52:00', '2020-08-31 22:07:00', '2020-08-31 22:22:00', '2020-08-31 22:37:00', '2020-08-31 22:52:00', '2020-08-31 23:07:00', '2020-08-31 23:22:00', '2020-08-31 23:37:00', '2020-08-31 23:52:00', '2020-09-01 00:07:00', '2020-09-01 00:22:00', '2020-09-01 00:37:00', '2020-09-01 00:52:00', '2020-09-01 01:07:00', '2020-09-01 01:22:00', '2020-09-01 01:37:00', '2020-09-01 01:52:00', '2020-09-01 02:07:00', '2020-09-01 02:22:00', '2020-09-01 02:37:00', '2020-09-01 02:52:00', '2020-09-01 03:07:00', '2020-09-01 03:22:00', '2020-09-01 03:37:00', '2020-09-01 03:52:00', '2020-09-01 04:07:00', '2020-09-01 04:22:00', '2020-09-01 04:37:00', '2020-09-01 04:52:00', '2020-09-01 05:07:00', '2020-09-01 05:22:00', '2020-09-01 05:37:00', '2020-09-01 05:52:00', '2020-09-01 06:07:00', '2020-09-01 06:22:00', '2020-09-01 06:37:00', '2020-09-01 06:52:00', '2020-09-01 07:07:00', '2020-09-01 07:22:00', '2020-09-01 07:37:00', '2020-09-01 07:52:00', '2020-09-01 08:07:00', '2020-09-01 08:22:00', '2020-09-01 08:37:00', '2020-09-01 08:52:00', '2020-09-01 09:07:00', '2020-09-01 09:22:00', '2020-09-01 09:37:00', '2020-09-01 09:52:00', '2020-09-01 10:07:00', '2020-09-01 10:22:00', '2020-09-01 10:37:00', '2020-09-01 10:52:00', '2020-09-01 11:07:00', '2020-09-01 11:22:00', '2020-09-01 11:37:00', '2020-09-01 11:52:00', '2020-09-01 12:07:00', '2020-09-01 12:22:00', '2020-09-01 12:37:00', '2020-09-01 12:52:00', '2020-09-01 13:07:00', '2020-09-01 13:22:00', '2020-09-01 13:37:00', '2020-09-01 13:52:00', '2020-09-01 14:07:00', '2020-09-01 14:22:00', '2020-09-01 14:37:00', '2020-09-01 14:52:00', '2020-09-01 15:07:00', '2020-09-01 15:22:00', '2020-09-01 15:37:00', '2020-09-01 15:52:00', '2020-09-01 16:07:00', '2020-09-01 16:22:00', '2020-09-01 16:37:00', '2020-09-01 16:52:00', '2020-09-01 17:07:00', '2020-09-01 17:22:00', '2020-09-01 17:37:00', '2020-09-01 17:52:00', '2020-09-01 18:07:00', '2020-09-01 18:22:00', '2020-09-01 18:37:00', '2020-09-01 18:52:00', '2020-09-01 19:07:00', '2020-09-01 19:22:00', '2020-09-01 19:37:00', '2020-09-01 19:52:00', '2020-09-01 20:07:00', '2020-09-01 20:22:00', '2020-09-01 20:37:00', '2020-09-01 20:52:00', '2020-09-01 21:07:00', '2020-09-01 21:22:00', '2020-09-01 21:37:00', '2020-09-01 21:52:00', '2020-09-01 22:07:00', '2020-09-01 22:22:00', '2020-09-01 22:37:00', '2020-09-01 22:52:00', '2020-09-01 23:07:00', '2020-09-01 23:22:00', '2020-09-01 23:37:00', '2020-09-01 23:52:00', '2020-09-02 00:07:00', '2020-09-02 00:22:00', '2020-09-02 00:37:00', '2020-09-02 00:52:00', '2020-09-02 01:07:00', '2020-09-02 01:22:00', '2020-09-02 01:37:00', '2020-09-02 01:52:00', '2020-09-02 02:07:00', '2020-09-02 02:22:00', '2020-09-02 02:37:00', '2020-09-02 02:52:00', '2020-09-02 03:07:00', '2020-09-02 03:22:00', '2020-09-02 03:37:00', '2020-09-02 03:52:00', '2020-09-02 04:07:00', '2020-09-02 04:22:00', '2020-09-02 04:37:00', '2020-09-02 04:52:00', '2020-09-02 05:07:00', '2020-09-02 05:22:00', '2020-09-02 05:37:00', '2020-09-02 05:52:00', '2020-09-02 06:07:00', '2020-09-02 06:22:00', '2020-09-02 06:37:00', '2020-09-02 06:52:00', '2020-09-02 07:07:00', '2020-09-02 07:22:00', '2020-09-02 07:37:00', '2020-09-02 07:52:00', '2020-09-02 08:07:00', '2020-09-02 08:22:00', '2020-09-02 08:37:00', '2020-09-02 08:52:00', '2020-09-02 09:07:00', '2020-09-02 09:22:00', '2020-09-02 09:37:00', '2020-09-02 09:52:00', '2020-09-02 10:07:00', '2020-09-02 10:22:00', '2020-09-02 10:37:00', '2020-09-02 10:52:00', '2020-09-02 11:07:00', '2020-09-02 11:22:00', '2020-09-02 11:37:00', '2020-09-02 11:52:00', '2020-09-02 12:07:00', '2020-09-02 12:22:00', '2020-09-02 12:37:00', '2020-09-02 12:52:00', '2020-09-02 13:07:00', '2020-09-02 13:22:00', '2020-09-02 13:37:00', '2020-09-02 13:52:00', '2020-09-02 14:07:00', '2020-09-02 14:22:00', '2020-09-02 14:37:00', '2020-09-02 14:52:00', '2020-09-02 15:07:00', '2020-09-02 15:22:00', '2020-09-02 15:37:00', '2020-09-02 15:52:00', '2020-09-02 16:07:00', '2020-09-02 16:22:00', '2020-09-02 16:37:00', '2020-09-02 16:52:00', '2020-09-02 17:07:00', '2020-09-02 17:22:00', '2020-09-02 17:37:00', '2020-09-02 17:52:00', '2020-09-02 18:07:00', '2020-09-02 18:22:00', '2020-09-02 18:37:00', '2020-09-02 18:52:00', '2020-09-02 19:07:00', '2020-09-02 19:22:00', '2020-09-02 19:37:00', '2020-09-02 19:52:00', '2020-09-02 20:07:00', '2020-09-02 20:22:00', '2020-09-02 20:37:00', '2020-09-02 20:52:00', '2020-09-02 21:07:00', '2020-09-02 21:22:00', '2020-09-02 21:37:00', '2020-09-02 21:52:00', '2020-09-02 22:07:00', '2020-09-02 22:22:00', '2020-09-02 22:37:00', '2020-09-02 22:52:00', '2020-09-02 23:07:00', '2020-09-02 23:22:00', '2020-09-02 23:37:00', '2020-09-02 23:52:00', '2020-09-03 00:07:00', '2020-09-03 00:22:00', '2020-09-03 00:37:00', '2020-09-03 00:52:00', '2020-09-03 01:07:00', '2020-09-03 01:22:00', '2020-09-03 01:37:00', '2020-09-03 01:52:00', '2020-09-03 02:07:00', '2020-09-03 02:22:00', '2020-09-03 02:37:00', '2020-09-03 02:52:00', '2020-09-03 03:07:00', '2020-09-03 03:22:00', '2020-09-03 03:37:00', '2020-09-03 03:52:00', '2020-09-03 04:07:00', '2020-09-03 04:22:00', '2020-09-03 04:37:00', '2020-09-03 04:52:00', '2020-09-03 05:07:00', '2020-09-03 05:22:00', '2020-09-03 05:37:00', '2020-09-03 05:52:00', '2020-09-03 06:07:00', '2020-09-03 06:22:00', '2020-09-03 06:37:00', '2020-09-03 06:52:00', '2020-09-03 07:07:00', '2020-09-03 07:22:00', '2020-09-03 07:37:00', '2020-09-03 07:52:00', '2020-09-03 08:07:00', '2020-09-03 08:22:00', '2020-09-03 08:37:00', '2020-09-03 08:52:00', '2020-09-03 09:07:00', '2020-09-03 09:22:00', '2020-09-03 09:37:00', '2020-09-03 09:52:00', '2020-09-03 10:07:00', '2020-09-03 10:22:00', '2020-09-03 10:37:00', '2020-09-03 10:52:00', '2020-09-03 11:07:00', '2020-09-03 11:22:00', '2020-09-03 11:37:00', '2020-09-03 11:52:00', '2020-09-03 12:07:00', '2020-09-03 12:22:00', '2020-09-03 12:37:00', '2020-09-03 12:52:00', '2020-09-03 13:07:00', '2020-09-03 13:22:00', '2020-09-03 13:37:00', '2020-09-03 13:52:00', '2020-09-03 14:07:00', '2020-09-03 14:22:00', '2020-09-03 14:37:00', '2020-09-03 14:52:00', '2020-09-03 15:07:00', '2020-09-03 15:22:00', '2020-09-03 15:37:00', '2020-09-03 15:52:00', '2020-09-03 16:07:00', '2020-09-03 16:22:00', '2020-09-03 16:37:00', '2020-09-03 16:52:00', '2020-09-03 17:07:00', '2020-09-03 17:22:00', '2020-09-03 17:37:00', '2020-09-03 17:52:00', '2020-09-03 18:07:00', '2020-09-03 18:22:00', '2020-09-03 18:37:00', '2020-09-03 18:52:00', '2020-09-03 19:07:00', '2020-09-03 19:22:00', '2020-09-03 19:37:00', '2020-09-03 19:52:00', '2020-09-03 20:07:00', '2020-09-03 20:22:00', '2020-09-03 20:37:00', '2020-09-03 20:52:00', '2020-09-03 21:07:00', '2020-09-03 21:22:00', '2020-09-03 21:37:00', '2020-09-03 21:52:00', '2020-09-03 22:07:00', '2020-09-03 22:22:00', '2020-09-03 22:37:00', '2020-09-03 22:52:00', '2020-09-03 23:07:00', '2020-09-03 23:22:00', '2020-09-03 23:37:00', '2020-09-03 23:52:00', '2020-09-04 00:07:00', '2020-09-04 00:22:00', '2020-09-04 00:37:00', '2020-09-04 00:52:00', '2020-09-04 01:07:00', '2020-09-04 01:22:00', '2020-09-04 01:37:00', '2020-09-04 01:52:00', '2020-09-04 02:07:00', '2020-09-04 02:22:00', '2020-09-04 02:37:00', '2020-09-04 02:52:00', '2020-09-04 03:07:00', '2020-09-04 03:22:00', '2020-09-04 03:37:00', '2020-09-04 03:52:00', '2020-09-04 04:07:00', '2020-09-04 04:22:00', '2020-09-04 04:37:00', '2020-09-04 04:52:00', '2020-09-04 05:07:00', '2020-09-04 05:22:00', '2020-09-04 05:37:00', '2020-09-04 05:52:00', '2020-09-04 06:07:00', '2020-09-04 06:22:00', '2020-09-04 06:37:00', '2020-09-04 06:52:00', '2020-09-04 07:07:00', '2020-09-04 07:22:00', '2020-09-04 07:37:00', '2020-09-04 07:52:00', '2020-09-04 08:07:00', '2020-09-04 08:22:00', '2020-09-04 08:37:00', '2020-09-04 08:52:00', '2020-09-04 09:07:00', '2020-09-04 09:22:00', '2020-09-04 09:37:00', '2020-09-04 09:52:00', '2020-09-04 10:07:00', '2020-09-04 10:22:00', '2020-09-04 10:37:00', '2020-09-04 10:52:00', '2020-09-04 11:07:00', '2020-09-04 11:22:00', '2020-09-04 11:37:00', '2020-09-04 11:52:00', '2020-09-04 12:07:00', '2020-09-04 12:22:00', '2020-09-04 12:37:00', '2020-09-04 12:52:00', '2020-09-04 13:07:00', '2020-09-04 13:22:00', '2020-09-04 13:37:00', '2020-09-04 13:52:00', '2020-09-04 14:07:00', '2020-09-04 14:22:00', '2020-09-04 14:37:00', '2020-09-04 14:52:00', '2020-09-04 15:07:00', '2020-09-04 15:22:00', '2020-09-04 15:37:00', '2020-09-04 15:52:00', '2020-09-04 16:07:00', '2020-09-04 16:22:00', '2020-09-04 16:37:00', '2020-09-04 16:52:00', '2020-09-04 17:07:00', '2020-09-04 17:22:00', '2020-09-04 17:37:00', '2020-09-04 17:52:00', '2020-09-04 18:07:00', '2020-09-04 18:22:00', '2020-09-04 18:37:00', '2020-09-04 18:52:00', '2020-09-04 19:07:00', '2020-09-04 19:22:00', '2020-09-04 19:37:00', '2020-09-04 19:52:00', '2020-09-04 20:07:00', '2020-09-04 20:22:00', '2020-09-04 20:37:00', '2020-09-04 20:52:00', '2020-09-04 21:07:00', '2020-09-04 21:22:00', '2020-09-04 21:37:00', '2020-09-04 21:52:00', '2020-09-04 22:07:00', '2020-09-04 22:22:00', '2020-09-04 22:37:00', '2020-09-04 22:52:00', '2020-09-04 23:07:00', '2020-09-04 23:22:00', '2020-09-04 23:37:00', '2020-09-04 23:52:00', '2020-09-05 00:07:00', '2020-09-05 00:22:00', '2020-09-05 00:37:00', '2020-09-05 00:52:00', '2020-09-05 01:07:00', '2020-09-05 01:22:00', '2020-09-05 01:37:00', '2020-09-05 01:52:00', '2020-09-05 02:07:00', '2020-09-05 02:22:00', '2020-09-05 02:37:00', '2020-09-05 02:52:00', '2020-09-05 03:07:00', '2020-09-05 03:22:00', '2020-09-05 03:37:00', '2020-09-05 03:52:00', '2020-09-05 04:07:00', '2020-09-05 04:22:00', '2020-09-05 04:37:00', '2020-09-05 04:52:00', '2020-09-05 05:07:00', '2020-09-05 05:22:00', '2020-09-05 05:37:00', '2020-09-05 05:52:00', '2020-09-05 06:07:00', '2020-09-05 06:22:00', '2020-09-05 06:37:00', '2020-09-05 06:52:00', '2020-09-05 07:07:00', '2020-09-05 07:22:00', '2020-09-05 07:37:00', '2020-09-05 07:52:00', '2020-09-05 08:07:00', '2020-09-05 08:22:00', '2020-09-05 08:37:00', '2020-09-05 08:52:00', '2020-09-05 09:07:00', '2020-09-05 09:22:00', '2020-09-05 09:37:00', '2020-09-05 09:52:00', '2020-09-05 10:07:00', '2020-09-05 10:22:00', '2020-09-05 10:37:00', '2020-09-05 10:52:00', '2020-09-05 11:07:00', '2020-09-05 11:22:00', '2020-09-05 11:37:00', '2020-09-05 11:52:00', '2020-09-05 12:07:00', '2020-09-05 12:22:00', '2020-09-05 12:37:00', '2020-09-05 12:52:00', '2020-09-05 13:07:00', '2020-09-05 13:22:00', '2020-09-05 13:37:00', '2020-09-05 13:52:00', '2020-09-05 14:07:00', '2020-09-05 14:22:00', '2020-09-05 14:37:00', '2020-09-05 14:52:00', '2020-09-05 15:07:00', '2020-09-05 15:22:00', '2020-09-05 15:37:00', '2020-09-05 15:52:00', '2020-09-05 16:07:00', '2020-09-05 16:22:00', '2020-09-05 16:37:00', '2020-09-05 16:52:00', '2020-09-05 17:07:00', '2020-09-05 17:22:00', '2020-09-05 17:37:00', '2020-09-05 17:52:00', '2020-09-05 18:07:00', '2020-09-05 18:22:00', '2020-09-05 18:37:00', '2020-09-05 18:52:00', '2020-09-05 19:07:00', '2020-09-05 19:22:00', '2020-09-05 19:37:00', '2020-09-05 19:52:00', '2020-09-05 20:07:00', '2020-09-05 20:22:00', '2020-09-05 20:37:00', '2020-09-05 20:52:00', '2020-09-05 21:07:00', '2020-09-05 21:22:00', '2020-09-05 21:37:00', '2020-09-05 21:52:00', '2020-09-05 22:07:00', '2020-09-05 22:22:00', '2020-09-05 22:37:00', '2020-09-05 22:52:00', '2020-09-05 23:07:00', '2020-09-05 23:22:00', '2020-09-05 23:37:00', '2020-09-05 23:52:00', '2020-09-06 00:07:00', '2020-09-06 00:22:00', '2020-09-06 00:37:00', '2020-09-06 00:52:00', '2020-09-06 01:07:00', '2020-09-06 01:22:00', '2020-09-06 01:37:00', '2020-09-06 01:52:00', '2020-09-06 02:07:00', '2020-09-06 02:22:00', '2020-09-06 02:37:00', '2020-09-06 02:52:00', '2020-09-06 03:07:00', '2020-09-06 03:22:00', '2020-09-06 03:37:00', '2020-09-06 03:52:00', '2020-09-06 04:07:00', '2020-09-06 04:22:00', '2020-09-06 04:37:00', '2020-09-06 04:52:00', '2020-09-06 05:07:00', '2020-09-06 05:22:00', '2020-09-06 05:37:00', '2020-09-06 05:52:00', '2020-09-06 06:07:00', '2020-09-06 06:22:00', '2020-09-06 06:37:00', '2020-09-06 06:52:00', '2020-09-06 07:07:00', '2020-09-06 07:22:00', '2020-09-06 07:37:00', '2020-09-06 07:52:00', '2020-09-06 08:07:00', '2020-09-06 08:22:00', '2020-09-06 08:37:00', '2020-09-06 08:52:00', '2020-09-06 09:07:00', '2020-09-06 09:22:00', '2020-09-06 09:37:00', '2020-09-06 09:52:00', '2020-09-06 10:07:00', '2020-09-06 10:22:00', '2020-09-06 10:37:00', '2020-09-06 10:52:00', '2020-09-06 11:07:00', '2020-09-06 11:22:00', '2020-09-06 11:37:00', '2020-09-06 11:52:00', '2020-09-06 12:07:00', '2020-09-06 12:22:00', '2020-09-06 12:37:00', '2020-09-06 12:52:00', '2020-09-06 13:07:00', '2020-09-06 13:22:00', '2020-09-06 13:37:00', '2020-09-06 13:52:00', '2020-09-06 14:07:00', '2020-09-06 14:22:00', '2020-09-06 14:37:00', '2020-09-06 14:52:00', '2020-09-06 15:07:00', '2020-09-06 15:22:00', '2020-09-06 15:37:00', '2020-09-06 15:52:00', '2020-09-06 16:07:00', '2020-09-06 16:22:00', '2020-09-06 16:37:00', '2020-09-06 16:52:00', '2020-09-06 17:07:00', '2020-09-06 17:22:00', '2020-09-06 17:37:00', '2020-09-06 17:52:00', '2020-09-06 18:07:00', '2020-09-06 18:22:00', '2020-09-06 18:37:00', '2020-09-06 18:52:00', '2020-09-06 19:07:00', '2020-09-06 19:22:00', '2020-09-06 19:37:00', '2020-09-06 19:52:00', '2020-09-06 20:07:00', '2020-09-06 20:22:00', '2020-09-06 20:37:00', '2020-09-06 20:52:00', '2020-09-06 21:07:00', '2020-09-06 21:22:00', '2020-09-06 21:37:00', '2020-09-06 21:52:00', '2020-09-06 22:07:00', '2020-09-06 22:22:00', '2020-09-06 22:37:00', '2020-09-06 22:52:00', '2020-09-06 23:07:00', '2020-09-06 23:22:00', '2020-09-06 23:37:00', '2020-09-06 23:52:00', '2020-09-07 00:07:00', '2020-09-07 00:22:00', '2020-09-07 00:37:00', '2020-09-07 00:52:00', '2020-09-07 01:07:00', '2020-09-07 01:22:00', '2020-09-07 01:37:00', '2020-09-07 01:52:00', '2020-09-07 02:07:00', '2020-09-07 02:22:00', '2020-09-07 02:37:00', '2020-09-07 02:52:00', '2020-09-07 03:07:00', '2020-09-07 03:22:00', '2020-09-07 03:37:00', '2020-09-07 03:52:00', '2020-09-07 04:07:00', '2020-09-07 04:22:00', '2020-09-07 04:37:00', '2020-09-07 04:52:00', '2020-09-07 05:07:00', '2020-09-07 05:22:00', '2020-09-07 05:37:00', '2020-09-07 05:52:00', '2020-09-07 06:07:00', '2020-09-07 06:22:00', '2020-09-07 06:37:00', '2020-09-07 06:52:00', '2020-09-07 07:07:00', '2020-09-07 07:22:00', '2020-09-07 07:37:00', '2020-09-07 07:52:00', '2020-09-07 08:07:00', '2020-09-07 08:22:00', '2020-09-07 08:37:00', '2020-09-07 08:52:00', '2020-09-07 09:07:00', '2020-09-07 09:22:00', '2020-09-07 09:37:00', '2020-09-07 09:52:00', '2020-09-07 10:07:00', '2020-09-07 10:22:00', '2020-09-07 10:37:00', '2020-09-07 10:52:00', '2020-09-07 11:07:00', '2020-09-07 11:22:00', '2020-09-07 11:37:00', '2020-09-07 11:52:00', '2020-09-07 12:07:00', '2020-09-07 12:22:00', '2020-09-07 12:37:00', '2020-09-07 12:52:00', '2020-09-07 13:07:00', '2020-09-07 13:22:00', '2020-09-07 13:37:00', '2020-09-07 13:52:00', '2020-09-07 14:07:00', '2020-09-07 14:22:00', '2020-09-07 14:37:00', '2020-09-07 14:52:00', '2020-09-07 15:07:00', '2020-09-07 15:22:00', '2020-09-07 15:37:00', '2020-09-07 15:52:00', '2020-09-07 16:07:00', '2020-09-07 16:22:00', '2020-09-07 16:37:00', '2020-09-07 16:52:00', '2020-09-07 17:07:00', '2020-09-07 17:22:00', '2020-09-07 17:37:00', '2020-09-07 17:52:00', '2020-09-07 18:07:00', '2020-09-07 18:22:00', '2020-09-07 18:37:00', '2020-09-07 18:52:00', '2020-09-07 19:07:00', '2020-09-07 19:22:00', '2020-09-07 19:37:00', '2020-09-07 19:52:00', '2020-09-07 20:07:00', '2020-09-07 20:22:00', '2020-09-07 20:37:00', '2020-09-07 20:52:00', '2020-09-07 21:07:00', '2020-09-07 21:22:00', '2020-09-07 21:37:00', '2020-09-07 21:52:00', '2020-09-07 22:07:00', '2020-09-07 22:22:00', '2020-09-07 22:37:00', '2020-09-07 22:52:00', '2020-09-07 23:07:00', '2020-09-07 23:22:00', '2020-09-07 23:37:00', '2020-09-07 23:52:00', '2020-09-08 00:07:00', '2020-09-08 00:22:00', '2020-09-08 00:37:00', '2020-09-08 00:52:00', '2020-09-08 01:07:00', '2020-09-08 01:22:00', '2020-09-08 01:37:00', '2020-09-08 01:52:00', '2020-09-08 02:07:00', '2020-09-08 02:22:00', '2020-09-08 02:37:00', '2020-09-08 02:52:00', '2020-09-08 03:07:00', '2020-09-08 03:22:00', '2020-09-08 03:37:00', '2020-09-08 03:52:00', '2020-09-08 04:07:00', '2020-09-08 04:22:00', '2020-09-08 04:37:00', '2020-09-08 04:52:00', '2020-09-08 05:07:00', '2020-09-08 05:22:00', '2020-09-08 05:37:00', '2020-09-08 05:52:00', '2020-09-08 06:07:00', '2020-09-08 06:22:00', '2020-09-08 06:37:00', '2020-09-08 06:52:00', '2020-09-08 07:07:00', '2020-09-08 07:22:00', '2020-09-08 07:37:00', '2020-09-08 07:52:00', '2020-09-08 08:07:00', '2020-09-08 08:22:00', '2020-09-08 08:37:00', '2020-09-08 08:52:00', '2020-09-08 09:07:00', '2020-09-08 09:22:00', '2020-09-08 09:37:00', '2020-09-08 09:52:00', '2020-09-08 10:07:00', '2020-09-08 10:22:00', '2020-09-08 10:37:00', '2020-09-08 10:52:00', '2020-09-08 11:07:00', '2020-09-08 11:22:00', '2020-09-08 11:37:00', '2020-09-08 11:52:00', '2020-09-08 12:07:00', '2020-09-08 12:22:00', '2020-09-08 12:37:00', '2020-09-08 12:52:00', '2020-09-08 13:07:00', '2020-09-08 13:22:00', '2020-09-08 13:37:00', '2020-09-08 13:52:00', '2020-09-08 14:07:00', '2020-09-08 14:22:00', '2020-09-08 14:37:00', '2020-09-08 14:52:00', '2020-09-08 15:07:00', '2020-09-08 15:22:00', '2020-09-08 15:37:00', '2020-09-08 15:52:00', '2020-09-08 16:07:00', '2020-09-08 16:22:00', '2020-09-08 16:37:00', '2020-09-08 16:52:00', '2020-09-08 17:07:00', '2020-09-08 17:22:00', '2020-09-08 17:37:00', '2020-09-08 17:52:00', '2020-09-08 18:07:00', '2020-09-08 18:22:00', '2020-09-08 18:37:00', '2020-09-08 18:52:00', '2020-09-08 19:07:00', '2020-09-08 19:22:00', '2020-09-08 19:37:00', '2020-09-08 19:52:00', '2020-09-08 20:07:00', '2020-09-08 20:22:00', '2020-09-08 20:37:00', '2020-09-08 20:52:00', '2020-09-08 21:07:00', '2020-09-08 21:22:00', '2020-09-08 21:37:00', '2020-09-08 21:52:00', '2020-09-08 22:07:00', '2020-09-08 22:22:00', '2020-09-08 22:37:00', '2020-09-08 22:52:00', '2020-09-08 23:07:00', '2020-09-08 23:22:00', '2020-09-08 23:37:00', '2020-09-08 23:52:00', '2020-09-09 00:07:00', '2020-09-09 00:22:00', '2020-09-09 00:37:00', '2020-09-09 00:52:00', '2020-09-09 01:07:00', '2020-09-09 01:22:00', '2020-09-09 01:37:00', '2020-09-09 01:52:00', '2020-09-09 02:07:00', '2020-09-09 02:22:00', '2020-09-09 02:37:00', '2020-09-09 02:52:00', '2020-09-09 03:07:00', '2020-09-09 03:22:00', '2020-09-09 03:37:00', '2020-09-09 03:52:00', '2020-09-09 04:07:00', '2020-09-09 04:22:00', '2020-09-09 04:37:00', '2020-09-09 04:52:00', '2020-09-09 05:07:00', '2020-09-09 05:22:00', '2020-09-09 05:37:00', '2020-09-09 05:52:00', '2020-09-09 06:07:00', '2020-09-09 06:22:00', '2020-09-09 06:37:00', '2020-09-09 06:52:00', '2020-09-09 07:07:00', '2020-09-09 07:22:00', '2020-09-09 07:37:00', '2020-09-09 07:52:00', '2020-09-09 08:07:00', '2020-09-09 08:22:00', '2020-09-09 08:37:00', '2020-09-09 08:52:00', '2020-09-09 09:07:00', '2020-09-09 09:22:00', '2020-09-09 09:37:00', '2020-09-09 09:52:00', '2020-09-09 10:07:00', '2020-09-09 10:22:00', '2020-09-09 10:37:00', '2020-09-09 10:52:00', '2020-09-09 11:07:00', '2020-09-09 11:22:00', '2020-09-09 11:37:00', '2020-09-09 11:52:00', '2020-09-09 12:07:00', '2020-09-09 12:22:00', '2020-09-09 12:37:00', '2020-09-09 12:52:00', '2020-09-09 13:07:00', '2020-09-09 13:22:00', '2020-09-09 13:37:00', '2020-09-09 13:52:00', '2020-09-09 14:07:00', '2020-09-09 14:22:00', '2020-09-09 14:37:00', '2020-09-09 14:52:00', '2020-09-09 15:07:00', '2020-09-09 15:22:00', '2020-09-09 15:37:00', '2020-09-09 15:52:00', '2020-09-09 16:07:00', '2020-09-09 16:22:00', '2020-09-09 16:37:00', '2020-09-09 16:52:00', '2020-09-09 17:07:00', '2020-09-09 17:22:00', '2020-09-09 17:37:00', '2020-09-09 17:52:00', '2020-09-09 18:07:00', '2020-09-09 18:22:00', '2020-09-09 18:37:00', '2020-09-09 18:52:00', '2020-09-09 19:07:00', '2020-09-09 19:22:00', '2020-09-09 19:37:00', '2020-09-09 19:52:00', '2020-09-09 20:07:00', '2020-09-09 20:22:00', '2020-09-09 20:37:00', '2020-09-09 20:52:00', '2020-09-09 21:07:00', '2020-09-09 21:22:00', '2020-09-09 21:37:00']\n",
            "Training set shape = (1440, 6)\n",
            "All timestamps = 1440\n",
            "Features selected: ['EBSByteBalance%', 'EBSIOBalance%', 'EBSWriteBytes', 'EBSWriteOps', 'NetworkIn']\n"
          ],
          "name": "stdout"
        }
      ]
    },
    {
      "cell_type": "code",
      "metadata": {
        "id": "P6Mvjsp_pvfi",
        "outputId": "0970c841-dbf1-42e5-e485-4f416c350c44",
        "colab": {
          "base_uri": "https://localhost:8080/",
          "height": 252
        }
      },
      "source": [
        "# convert dataset_train into matrix format\n",
        "dataset_train = dataset_train[cols]\n",
        "training_set = dataset_train.to_numpy()\n",
        "print(\"The shape of the training_set = {}\".format(training_set.shape))\n",
        "training_set"
      ],
      "execution_count": null,
      "outputs": [
        {
          "output_type": "stream",
          "text": [
            "The shape of the training_set = (1440, 5)\n"
          ],
          "name": "stdout"
        },
        {
          "output_type": "execute_result",
          "data": {
            "text/plain": [
              "array([[9.92000000e-01, 9.91333333e-01, 4.08234667e+05, 8.01333333e+01,\n",
              "        6.98813333e+03],\n",
              "       [9.91333333e-01, 9.90666667e-01, 1.00215467e+05, 1.75333333e+01,\n",
              "        6.85666667e+02],\n",
              "       [9.90666667e-01, 9.90666667e-01, 3.38602667e+04, 5.26666667e+00,\n",
              "        0.00000000e+00],\n",
              "       ...,\n",
              "       [9.98666667e-01, 9.98666667e-01, 8.73813333e+04, 1.65333333e+01,\n",
              "        7.67933333e+02],\n",
              "       [9.98000000e-01, 9.98000000e-01, 8.43776000e+04, 1.61333333e+01,\n",
              "        4.65533333e+02],\n",
              "       [9.97500000e-01, 9.97500000e-01, 1.43360000e+04, 2.16666667e+00,\n",
              "        2.30769231e+01]])"
            ]
          },
          "metadata": {
            "tags": []
          },
          "execution_count": 15
        }
      ]
    },
    {
      "cell_type": "code",
      "metadata": {
        "id": "wJDKeji4xxEd",
        "outputId": "3abdfb32-4e97-47ee-eb23-1b36058818e8",
        "colab": {
          "base_uri": "https://localhost:8080/",
          "height": 134
        }
      },
      "source": [
        "# Features Scaling\n",
        "# One standard scaler for all dependent variables \n",
        "sc = StandardScaler()\n",
        "training_set_scaled = sc.fit_transform(training_set)\n",
        "\n",
        "# one standard scaler for all independent variables.\n",
        "sc_predict = StandardScaler()\n",
        "sc_predict.fit_transform(training_set[:,2:3])"
      ],
      "execution_count": null,
      "outputs": [
        {
          "output_type": "execute_result",
          "data": {
            "text/plain": [
              "array([[ 0.07403273],\n",
              "       [-0.10532498],\n",
              "       [-0.14396322],\n",
              "       ...,\n",
              "       [-0.11279822],\n",
              "       [-0.11454728],\n",
              "       [-0.15533208]])"
            ]
          },
          "metadata": {
            "tags": []
          },
          "execution_count": 16
        }
      ]
    },
    {
      "cell_type": "code",
      "metadata": {
        "id": "vv2uwVEQ7_GF"
      },
      "source": [
        "# create the data structure for training\n",
        "X_train=[]\n",
        "y_train=[]\n"
      ],
      "execution_count": null,
      "outputs": []
    },
    {
      "cell_type": "code",
      "metadata": {
        "id": "JxXeuLRT8RKw",
        "outputId": "d4c05154-fd17-4453-8760-ca6b1fa3f395",
        "colab": {
          "base_uri": "https://localhost:8080/",
          "height": 34
        }
      },
      "source": [
        "type(X_train)"
      ],
      "execution_count": null,
      "outputs": [
        {
          "output_type": "execute_result",
          "data": {
            "text/plain": [
              "list"
            ]
          },
          "metadata": {
            "tags": []
          },
          "execution_count": 18
        }
      ]
    },
    {
      "cell_type": "code",
      "metadata": {
        "id": "-mqQ9Lyt8P6i"
      },
      "source": [
        "n_future=72\n",
        "n_past=90\n",
        "\n",
        "for i in range(n_past, len(training_set_scaled)-n_future+1):\n",
        "  X_train.append(training_set_scaled[i-n_past:i, 0:dataset_train.shape[1]-1])\n",
        "  y_train.append(training_set_scaled[i+n_future-1:i+n_future, 2])"
      ],
      "execution_count": null,
      "outputs": []
    },
    {
      "cell_type": "code",
      "metadata": {
        "id": "WqtwcWF38LCZ",
        "outputId": "a33f175f-ed12-4415-8c68-28c5d2e01437",
        "colab": {
          "base_uri": "https://localhost:8080/",
          "height": 50
        }
      },
      "source": [
        "X_train, y_train = np.array(X_train), np.array(y_train)\n",
        "\n",
        "print(\"X_train shape = {}\".format(X_train.shape))\n",
        "print(\"y_train shape = {}\".format(y_train.shape))"
      ],
      "execution_count": null,
      "outputs": [
        {
          "output_type": "stream",
          "text": [
            "X_train shape = (1279, 90, 4)\n",
            "y_train shape = (1279, 1)\n"
          ],
          "name": "stdout"
        }
      ]
    },
    {
      "cell_type": "code",
      "metadata": {
        "id": "jMR_r8KB9mbe"
      },
      "source": [
        "#create the LSTM MOdel\n",
        "\n",
        "model = Sequential()\n",
        "\n",
        "# Adding the first LSTM layer\n",
        "model.add(LSTM(units=64, return_sequences=True, input_shape=(n_past, dataset_train.shape[1]-1)))\n",
        "\n",
        "# Adding the second LSTM Layer\n",
        "model.add(LSTM(units=64, return_sequences=False))\n",
        "\n",
        "# Adding the drop-out layer to avoid over-fitting\n",
        "model.add(Dropout(0.25))\n",
        "\n",
        "# Adding the dense layer\n",
        "model.add(Dense(1, activation='linear'))\n",
        "\n",
        "#Compiling the neural network\n",
        "model.compile(optimizer=Adam(lr=0.01), loss='mse')\n"
      ],
      "execution_count": null,
      "outputs": []
    },
    {
      "cell_type": "code",
      "metadata": {
        "id": "k3_DRzTC_EZI",
        "outputId": "a1a76b27-c3c1-4f96-8c62-d13bf3f2ab73",
        "colab": {
          "base_uri": "https://localhost:8080/",
          "height": 286
        }
      },
      "source": [
        "model.summary()"
      ],
      "execution_count": null,
      "outputs": [
        {
          "output_type": "stream",
          "text": [
            "Model: \"sequential\"\n",
            "_________________________________________________________________\n",
            "Layer (type)                 Output Shape              Param #   \n",
            "=================================================================\n",
            "lstm (LSTM)                  (None, 90, 64)            17664     \n",
            "_________________________________________________________________\n",
            "lstm_1 (LSTM)                (None, 64)                33024     \n",
            "_________________________________________________________________\n",
            "dropout (Dropout)            (None, 64)                0         \n",
            "_________________________________________________________________\n",
            "dense (Dense)                (None, 1)                 65        \n",
            "=================================================================\n",
            "Total params: 50,753\n",
            "Trainable params: 50,753\n",
            "Non-trainable params: 0\n",
            "_________________________________________________________________\n"
          ],
          "name": "stdout"
        }
      ]
    },
    {
      "cell_type": "code",
      "metadata": {
        "id": "DK1msFiu_OUp",
        "outputId": "af40bd97-b50b-4bfc-a9c4-84e196b8994e",
        "colab": {
          "base_uri": "https://localhost:8080/",
          "height": 1000
        }
      },
      "source": [
        "es = EarlyStopping(monitor='val_loss', min_delta=1e-10, patience=10, verbose=1)\n",
        "rlr =ReduceLROnPlateau(monitor='val_loss', factor=0.1, patience=10, verbose=1)\n",
        "mcp = ModelCheckpoint(filepath='weights.h5',monitor='val_loss',verbose=1, save_best_only=True, save_weights_only=True)\n",
        "\n",
        "tb = TensorBoard('logs')\n",
        "\n",
        "history = model.fit(X_train, y_train, shuffle=True, epochs=30, callbacks=[es, rlr, mcp, tb], validation_split=0.2, verbose=1, batch_size=256 )"
      ],
      "execution_count": null,
      "outputs": [
        {
          "output_type": "stream",
          "text": [
            "Epoch 1/30\n",
            "1/4 [======>.......................] - ETA: 0s - loss: 1.1460WARNING:tensorflow:From /usr/local/lib/python3.6/dist-packages/tensorflow/python/ops/summary_ops_v2.py:1277: stop (from tensorflow.python.eager.profiler) is deprecated and will be removed after 2020-07-01.\n",
            "Instructions for updating:\n",
            "use `tf.profiler.experimental.stop` instead.\n",
            "4/4 [==============================] - ETA: 0s - loss: 0.9451\n",
            "Epoch 00001: val_loss improved from inf to 1.66814, saving model to weights.h5\n",
            "4/4 [==============================] - 2s 624ms/step - loss: 0.9451 - val_loss: 1.6681\n",
            "Epoch 2/30\n",
            "4/4 [==============================] - ETA: 0s - loss: 0.8841\n",
            "Epoch 00002: val_loss improved from 1.66814 to 1.65686, saving model to weights.h5\n",
            "4/4 [==============================] - 1s 328ms/step - loss: 0.8841 - val_loss: 1.6569\n",
            "Epoch 3/30\n",
            "4/4 [==============================] - ETA: 0s - loss: 0.8830\n",
            "Epoch 00003: val_loss improved from 1.65686 to 1.65474, saving model to weights.h5\n",
            "4/4 [==============================] - 1s 325ms/step - loss: 0.8830 - val_loss: 1.6547\n",
            "Epoch 4/30\n",
            "4/4 [==============================] - ETA: 0s - loss: 0.8748\n",
            "Epoch 00004: val_loss did not improve from 1.65474\n",
            "4/4 [==============================] - 1s 339ms/step - loss: 0.8748 - val_loss: 1.6567\n",
            "Epoch 5/30\n",
            "4/4 [==============================] - ETA: 0s - loss: 0.8746\n",
            "Epoch 00005: val_loss did not improve from 1.65474\n",
            "4/4 [==============================] - 1s 331ms/step - loss: 0.8746 - val_loss: 1.6577\n",
            "Epoch 6/30\n",
            "4/4 [==============================] - ETA: 0s - loss: 0.8740\n",
            "Epoch 00006: val_loss did not improve from 1.65474\n",
            "4/4 [==============================] - 1s 332ms/step - loss: 0.8740 - val_loss: 1.6584\n",
            "Epoch 7/30\n",
            "4/4 [==============================] - ETA: 0s - loss: 0.8679\n",
            "Epoch 00007: val_loss did not improve from 1.65474\n",
            "4/4 [==============================] - 1s 331ms/step - loss: 0.8679 - val_loss: 1.6575\n",
            "Epoch 8/30\n",
            "4/4 [==============================] - ETA: 0s - loss: 0.8654\n",
            "Epoch 00008: val_loss improved from 1.65474 to 1.65269, saving model to weights.h5\n",
            "4/4 [==============================] - 1s 332ms/step - loss: 0.8654 - val_loss: 1.6527\n",
            "Epoch 9/30\n",
            "4/4 [==============================] - ETA: 0s - loss: 0.8649\n",
            "Epoch 00009: val_loss did not improve from 1.65269\n",
            "4/4 [==============================] - 1s 333ms/step - loss: 0.8649 - val_loss: 1.6537\n",
            "Epoch 10/30\n",
            "4/4 [==============================] - ETA: 0s - loss: 0.8649\n",
            "Epoch 00010: val_loss improved from 1.65269 to 1.65236, saving model to weights.h5\n",
            "4/4 [==============================] - 1s 335ms/step - loss: 0.8649 - val_loss: 1.6524\n",
            "Epoch 11/30\n",
            "4/4 [==============================] - ETA: 0s - loss: 0.8590\n",
            "Epoch 00011: val_loss improved from 1.65236 to 1.65134, saving model to weights.h5\n",
            "4/4 [==============================] - 1s 344ms/step - loss: 0.8590 - val_loss: 1.6513\n",
            "Epoch 12/30\n",
            "4/4 [==============================] - ETA: 0s - loss: 0.8549\n",
            "Epoch 00012: val_loss improved from 1.65134 to 1.64191, saving model to weights.h5\n",
            "4/4 [==============================] - 1s 338ms/step - loss: 0.8549 - val_loss: 1.6419\n",
            "Epoch 13/30\n",
            "4/4 [==============================] - ETA: 0s - loss: 0.8772\n",
            "Epoch 00013: val_loss did not improve from 1.64191\n",
            "4/4 [==============================] - 1s 332ms/step - loss: 0.8772 - val_loss: 1.6585\n",
            "Epoch 14/30\n",
            "4/4 [==============================] - ETA: 0s - loss: 0.8592\n",
            "Epoch 00014: val_loss did not improve from 1.64191\n",
            "4/4 [==============================] - 1s 329ms/step - loss: 0.8592 - val_loss: 1.6536\n",
            "Epoch 15/30\n",
            "4/4 [==============================] - ETA: 0s - loss: 0.8660\n",
            "Epoch 00015: val_loss did not improve from 1.64191\n",
            "4/4 [==============================] - 1s 332ms/step - loss: 0.8660 - val_loss: 1.6539\n",
            "Epoch 16/30\n",
            "4/4 [==============================] - ETA: 0s - loss: 0.8624\n",
            "Epoch 00016: val_loss did not improve from 1.64191\n",
            "4/4 [==============================] - 1s 333ms/step - loss: 0.8624 - val_loss: 1.6551\n",
            "Epoch 17/30\n",
            "4/4 [==============================] - ETA: 0s - loss: 0.8606\n",
            "Epoch 00017: val_loss did not improve from 1.64191\n",
            "4/4 [==============================] - 1s 326ms/step - loss: 0.8606 - val_loss: 1.6582\n",
            "Epoch 18/30\n",
            "4/4 [==============================] - ETA: 0s - loss: 0.8540\n",
            "Epoch 00018: val_loss did not improve from 1.64191\n",
            "4/4 [==============================] - 1s 325ms/step - loss: 0.8540 - val_loss: 1.6625\n",
            "Epoch 19/30\n",
            "4/4 [==============================] - ETA: 0s - loss: 0.8476\n",
            "Epoch 00019: val_loss did not improve from 1.64191\n",
            "4/4 [==============================] - 1s 326ms/step - loss: 0.8476 - val_loss: 1.6703\n",
            "Epoch 20/30\n",
            "4/4 [==============================] - ETA: 0s - loss: 0.8467\n",
            "Epoch 00020: val_loss did not improve from 1.64191\n",
            "4/4 [==============================] - 1s 328ms/step - loss: 0.8467 - val_loss: 1.6777\n",
            "Epoch 21/30\n",
            "4/4 [==============================] - ETA: 0s - loss: 0.8239\n",
            "Epoch 00021: val_loss did not improve from 1.64191\n",
            "4/4 [==============================] - 1s 328ms/step - loss: 0.8239 - val_loss: 1.6750\n",
            "Epoch 22/30\n",
            "4/4 [==============================] - ETA: 0s - loss: 0.7735\n",
            "Epoch 00022: ReduceLROnPlateau reducing learning rate to 0.0009999999776482583.\n",
            "\n",
            "Epoch 00022: val_loss did not improve from 1.64191\n",
            "4/4 [==============================] - 1s 336ms/step - loss: 0.7735 - val_loss: 1.7234\n",
            "Epoch 00022: early stopping\n"
          ],
          "name": "stdout"
        }
      ]
    },
    {
      "cell_type": "code",
      "metadata": {
        "id": "rIciAndq_pmb",
        "outputId": "23d029ad-840b-4d1b-fca8-d1674744ba1b",
        "colab": {
          "base_uri": "https://localhost:8080/",
          "height": 87
        }
      },
      "source": [
        "# Make Future Predictions:\n",
        "\n",
        "# make predictions for future dates\n",
        "\n",
        "datelist_future = pd.date_range(datelist_train[-1], periods=n_future, freq='15min').to_list()\n",
        "print(datelist_train[-1])\n",
        "print(datelist_future[-1])\n",
        "print(datelist_future)"
      ],
      "execution_count": null,
      "outputs": [
        {
          "output_type": "stream",
          "text": [
            "2020-09-09 21:37:00\n",
            "2020-09-10 15:22:00\n",
            "[Timestamp('2020-09-09 21:37:00', freq='15T'), Timestamp('2020-09-09 21:52:00', freq='15T'), Timestamp('2020-09-09 22:07:00', freq='15T'), Timestamp('2020-09-09 22:22:00', freq='15T'), Timestamp('2020-09-09 22:37:00', freq='15T'), Timestamp('2020-09-09 22:52:00', freq='15T'), Timestamp('2020-09-09 23:07:00', freq='15T'), Timestamp('2020-09-09 23:22:00', freq='15T'), Timestamp('2020-09-09 23:37:00', freq='15T'), Timestamp('2020-09-09 23:52:00', freq='15T'), Timestamp('2020-09-10 00:07:00', freq='15T'), Timestamp('2020-09-10 00:22:00', freq='15T'), Timestamp('2020-09-10 00:37:00', freq='15T'), Timestamp('2020-09-10 00:52:00', freq='15T'), Timestamp('2020-09-10 01:07:00', freq='15T'), Timestamp('2020-09-10 01:22:00', freq='15T'), Timestamp('2020-09-10 01:37:00', freq='15T'), Timestamp('2020-09-10 01:52:00', freq='15T'), Timestamp('2020-09-10 02:07:00', freq='15T'), Timestamp('2020-09-10 02:22:00', freq='15T'), Timestamp('2020-09-10 02:37:00', freq='15T'), Timestamp('2020-09-10 02:52:00', freq='15T'), Timestamp('2020-09-10 03:07:00', freq='15T'), Timestamp('2020-09-10 03:22:00', freq='15T'), Timestamp('2020-09-10 03:37:00', freq='15T'), Timestamp('2020-09-10 03:52:00', freq='15T'), Timestamp('2020-09-10 04:07:00', freq='15T'), Timestamp('2020-09-10 04:22:00', freq='15T'), Timestamp('2020-09-10 04:37:00', freq='15T'), Timestamp('2020-09-10 04:52:00', freq='15T'), Timestamp('2020-09-10 05:07:00', freq='15T'), Timestamp('2020-09-10 05:22:00', freq='15T'), Timestamp('2020-09-10 05:37:00', freq='15T'), Timestamp('2020-09-10 05:52:00', freq='15T'), Timestamp('2020-09-10 06:07:00', freq='15T'), Timestamp('2020-09-10 06:22:00', freq='15T'), Timestamp('2020-09-10 06:37:00', freq='15T'), Timestamp('2020-09-10 06:52:00', freq='15T'), Timestamp('2020-09-10 07:07:00', freq='15T'), Timestamp('2020-09-10 07:22:00', freq='15T'), Timestamp('2020-09-10 07:37:00', freq='15T'), Timestamp('2020-09-10 07:52:00', freq='15T'), Timestamp('2020-09-10 08:07:00', freq='15T'), Timestamp('2020-09-10 08:22:00', freq='15T'), Timestamp('2020-09-10 08:37:00', freq='15T'), Timestamp('2020-09-10 08:52:00', freq='15T'), Timestamp('2020-09-10 09:07:00', freq='15T'), Timestamp('2020-09-10 09:22:00', freq='15T'), Timestamp('2020-09-10 09:37:00', freq='15T'), Timestamp('2020-09-10 09:52:00', freq='15T'), Timestamp('2020-09-10 10:07:00', freq='15T'), Timestamp('2020-09-10 10:22:00', freq='15T'), Timestamp('2020-09-10 10:37:00', freq='15T'), Timestamp('2020-09-10 10:52:00', freq='15T'), Timestamp('2020-09-10 11:07:00', freq='15T'), Timestamp('2020-09-10 11:22:00', freq='15T'), Timestamp('2020-09-10 11:37:00', freq='15T'), Timestamp('2020-09-10 11:52:00', freq='15T'), Timestamp('2020-09-10 12:07:00', freq='15T'), Timestamp('2020-09-10 12:22:00', freq='15T'), Timestamp('2020-09-10 12:37:00', freq='15T'), Timestamp('2020-09-10 12:52:00', freq='15T'), Timestamp('2020-09-10 13:07:00', freq='15T'), Timestamp('2020-09-10 13:22:00', freq='15T'), Timestamp('2020-09-10 13:37:00', freq='15T'), Timestamp('2020-09-10 13:52:00', freq='15T'), Timestamp('2020-09-10 14:07:00', freq='15T'), Timestamp('2020-09-10 14:22:00', freq='15T'), Timestamp('2020-09-10 14:37:00', freq='15T'), Timestamp('2020-09-10 14:52:00', freq='15T'), Timestamp('2020-09-10 15:07:00', freq='15T'), Timestamp('2020-09-10 15:22:00', freq='15T')]\n"
          ],
          "name": "stdout"
        }
      ]
    },
    {
      "cell_type": "code",
      "metadata": {
        "id": "FKGOZR26BLNz",
        "outputId": "8948fb1b-5e60-4d93-a0e9-79368c6e5673",
        "colab": {
          "base_uri": "https://localhost:8080/",
          "height": 34
        }
      },
      "source": [
        "type(datelist_future)"
      ],
      "execution_count": null,
      "outputs": [
        {
          "output_type": "execute_result",
          "data": {
            "text/plain": [
              "list"
            ]
          },
          "metadata": {
            "tags": []
          },
          "execution_count": 25
        }
      ]
    },
    {
      "cell_type": "code",
      "metadata": {
        "id": "sNxVuZw5D7Ik",
        "outputId": "2a78c302-846f-4190-97d7-b557b312c1c2",
        "colab": {
          "base_uri": "https://localhost:8080/",
          "height": 34
        }
      },
      "source": [
        "# perform predictions\n",
        "\n",
        "predictions_future = model.predict(X_train[-n_future:])\n",
        "print(type(predictions_future))"
      ],
      "execution_count": null,
      "outputs": [
        {
          "output_type": "stream",
          "text": [
            "<class 'numpy.ndarray'>\n"
          ],
          "name": "stdout"
        }
      ]
    },
    {
      "cell_type": "code",
      "metadata": {
        "id": "2mpdH3g3E4uh",
        "outputId": "4dc16dd7-1769-46bb-9cdd-97acf301ac64",
        "colab": {
          "base_uri": "https://localhost:8080/",
          "height": 50
        }
      },
      "source": [
        "# Inverse the predictions...remember we scaled the data.\n",
        "y_pred_future = sc_predict.inverse_transform(predictions_future)\n",
        "print(type(y_pred_future))\n",
        "print(y_pred_future.shape)"
      ],
      "execution_count": null,
      "outputs": [
        {
          "output_type": "stream",
          "text": [
            "<class 'numpy.ndarray'>\n",
            "(72, 1)\n"
          ],
          "name": "stdout"
        }
      ]
    },
    {
      "cell_type": "code",
      "metadata": {
        "id": "QhqgDLbsFCeh"
      },
      "source": [
        "# make a clean dataframe of the results.\n",
        "PREDICTIONS_FUTURE = pd.DataFrame(y_pred_future, columns=[\"EBSWriteBytes\"]).set_index(pd.Series(datelist_future))"
      ],
      "execution_count": null,
      "outputs": []
    },
    {
      "cell_type": "code",
      "metadata": {
        "id": "Q387f7pFp4y9",
        "outputId": "ed696221-58a7-45d7-f59e-ba393814c136",
        "colab": {
          "base_uri": "https://localhost:8080/",
          "height": 34
        }
      },
      "source": [
        "type(datelist_future[0])"
      ],
      "execution_count": null,
      "outputs": [
        {
          "output_type": "execute_result",
          "data": {
            "text/plain": [
              "pandas._libs.tslibs.timestamps.Timestamp"
            ]
          },
          "metadata": {
            "tags": []
          },
          "execution_count": 29
        }
      ]
    },
    {
      "cell_type": "code",
      "metadata": {
        "id": "Ecw5UtJDF1Wo",
        "outputId": "ff54f234-fa77-4a25-8649-f0c829b96064",
        "colab": {
          "base_uri": "https://localhost:8080/",
          "height": 402
        }
      },
      "source": [
        "PREDICTIONS_FUTURE"
      ],
      "execution_count": null,
      "outputs": [
        {
          "output_type": "execute_result",
          "data": {
            "text/html": [
              "<div>\n",
              "<style scoped>\n",
              "    .dataframe tbody tr th:only-of-type {\n",
              "        vertical-align: middle;\n",
              "    }\n",
              "\n",
              "    .dataframe tbody tr th {\n",
              "        vertical-align: top;\n",
              "    }\n",
              "\n",
              "    .dataframe thead th {\n",
              "        text-align: right;\n",
              "    }\n",
              "</style>\n",
              "<table border=\"1\" class=\"dataframe\">\n",
              "  <thead>\n",
              "    <tr style=\"text-align: right;\">\n",
              "      <th></th>\n",
              "      <th>EBSWriteBytes</th>\n",
              "    </tr>\n",
              "  </thead>\n",
              "  <tbody>\n",
              "    <tr>\n",
              "      <th>2020-09-09 21:37:00</th>\n",
              "      <td>-34104.531250</td>\n",
              "    </tr>\n",
              "    <tr>\n",
              "      <th>2020-09-09 21:52:00</th>\n",
              "      <td>-27672.562500</td>\n",
              "    </tr>\n",
              "    <tr>\n",
              "      <th>2020-09-09 22:07:00</th>\n",
              "      <td>-28553.218750</td>\n",
              "    </tr>\n",
              "    <tr>\n",
              "      <th>2020-09-09 22:22:00</th>\n",
              "      <td>2464.592773</td>\n",
              "    </tr>\n",
              "    <tr>\n",
              "      <th>2020-09-09 22:37:00</th>\n",
              "      <td>40234.406250</td>\n",
              "    </tr>\n",
              "    <tr>\n",
              "      <th>...</th>\n",
              "      <td>...</td>\n",
              "    </tr>\n",
              "    <tr>\n",
              "      <th>2020-09-10 14:22:00</th>\n",
              "      <td>-6403.813477</td>\n",
              "    </tr>\n",
              "    <tr>\n",
              "      <th>2020-09-10 14:37:00</th>\n",
              "      <td>9193.124023</td>\n",
              "    </tr>\n",
              "    <tr>\n",
              "      <th>2020-09-10 14:52:00</th>\n",
              "      <td>48615.687500</td>\n",
              "    </tr>\n",
              "    <tr>\n",
              "      <th>2020-09-10 15:07:00</th>\n",
              "      <td>65291.296875</td>\n",
              "    </tr>\n",
              "    <tr>\n",
              "      <th>2020-09-10 15:22:00</th>\n",
              "      <td>131689.593750</td>\n",
              "    </tr>\n",
              "  </tbody>\n",
              "</table>\n",
              "<p>72 rows × 1 columns</p>\n",
              "</div>"
            ],
            "text/plain": [
              "                     EBSWriteBytes\n",
              "2020-09-09 21:37:00  -34104.531250\n",
              "2020-09-09 21:52:00  -27672.562500\n",
              "2020-09-09 22:07:00  -28553.218750\n",
              "2020-09-09 22:22:00    2464.592773\n",
              "2020-09-09 22:37:00   40234.406250\n",
              "...                            ...\n",
              "2020-09-10 14:22:00   -6403.813477\n",
              "2020-09-10 14:37:00    9193.124023\n",
              "2020-09-10 14:52:00   48615.687500\n",
              "2020-09-10 15:07:00   65291.296875\n",
              "2020-09-10 15:22:00  131689.593750\n",
              "\n",
              "[72 rows x 1 columns]"
            ]
          },
          "metadata": {
            "tags": []
          },
          "execution_count": 30
        }
      ]
    },
    {
      "cell_type": "code",
      "metadata": {
        "id": "YANVSN3DM0up"
      },
      "source": [
        "PREDICTIONS_FUTURE.to_csv(\"Predictions_EBSWriteBytes.csv\")"
      ],
      "execution_count": null,
      "outputs": []
    },
    {
      "cell_type": "code",
      "metadata": {
        "id": "aoGSYvSFF3eB"
      },
      "source": [
        "# Visualize the predictions\n",
        "dataset_train_new = pd.DataFrame(dataset_train,columns=cols)\n",
        "datelist_train_new = [pd.to_datetime(timestamp) for timestamp in datelist_train]\n",
        "dataset_train_new.index = datelist_train_new\n"
      ],
      "execution_count": null,
      "outputs": []
    },
    {
      "cell_type": "code",
      "metadata": {
        "id": "Gw5lgBTqGRL5",
        "outputId": "53e76448-7b22-4f3b-ad6e-27fa3e1fc69c",
        "colab": {
          "base_uri": "https://localhost:8080/",
          "height": 195
        }
      },
      "source": [
        "dataset_train_new.head()"
      ],
      "execution_count": null,
      "outputs": [
        {
          "output_type": "execute_result",
          "data": {
            "text/html": [
              "<div>\n",
              "<style scoped>\n",
              "    .dataframe tbody tr th:only-of-type {\n",
              "        vertical-align: middle;\n",
              "    }\n",
              "\n",
              "    .dataframe tbody tr th {\n",
              "        vertical-align: top;\n",
              "    }\n",
              "\n",
              "    .dataframe thead th {\n",
              "        text-align: right;\n",
              "    }\n",
              "</style>\n",
              "<table border=\"1\" class=\"dataframe\">\n",
              "  <thead>\n",
              "    <tr style=\"text-align: right;\">\n",
              "      <th></th>\n",
              "      <th>EBSByteBalance%</th>\n",
              "      <th>EBSIOBalance%</th>\n",
              "      <th>EBSWriteBytes</th>\n",
              "      <th>EBSWriteOps</th>\n",
              "      <th>NetworkIn</th>\n",
              "    </tr>\n",
              "  </thead>\n",
              "  <tbody>\n",
              "    <tr>\n",
              "      <th>2020-08-25 21:52:00</th>\n",
              "      <td>0.992000</td>\n",
              "      <td>0.991333</td>\n",
              "      <td>408234.666667</td>\n",
              "      <td>80.133333</td>\n",
              "      <td>6988.133333</td>\n",
              "    </tr>\n",
              "    <tr>\n",
              "      <th>2020-08-25 22:07:00</th>\n",
              "      <td>0.991333</td>\n",
              "      <td>0.990667</td>\n",
              "      <td>100215.466667</td>\n",
              "      <td>17.533333</td>\n",
              "      <td>685.666667</td>\n",
              "    </tr>\n",
              "    <tr>\n",
              "      <th>2020-08-25 22:22:00</th>\n",
              "      <td>0.990667</td>\n",
              "      <td>0.990667</td>\n",
              "      <td>33860.266667</td>\n",
              "      <td>5.266667</td>\n",
              "      <td>0.000000</td>\n",
              "    </tr>\n",
              "    <tr>\n",
              "      <th>2020-08-25 22:37:00</th>\n",
              "      <td>0.992667</td>\n",
              "      <td>0.992667</td>\n",
              "      <td>237568.000000</td>\n",
              "      <td>10.600000</td>\n",
              "      <td>49703.133333</td>\n",
              "    </tr>\n",
              "    <tr>\n",
              "      <th>2020-08-25 22:52:00</th>\n",
              "      <td>0.993333</td>\n",
              "      <td>0.993333</td>\n",
              "      <td>28945.066667</td>\n",
              "      <td>4.333333</td>\n",
              "      <td>4.000000</td>\n",
              "    </tr>\n",
              "  </tbody>\n",
              "</table>\n",
              "</div>"
            ],
            "text/plain": [
              "                     EBSByteBalance%  EBSIOBalance%  ...  EBSWriteOps     NetworkIn\n",
              "2020-08-25 21:52:00         0.992000       0.991333  ...    80.133333   6988.133333\n",
              "2020-08-25 22:07:00         0.991333       0.990667  ...    17.533333    685.666667\n",
              "2020-08-25 22:22:00         0.990667       0.990667  ...     5.266667      0.000000\n",
              "2020-08-25 22:37:00         0.992667       0.992667  ...    10.600000  49703.133333\n",
              "2020-08-25 22:52:00         0.993333       0.993333  ...     4.333333      4.000000\n",
              "\n",
              "[5 rows x 5 columns]"
            ]
          },
          "metadata": {
            "tags": []
          },
          "execution_count": 33
        }
      ]
    },
    {
      "cell_type": "code",
      "metadata": {
        "id": "MzXAScJHllHg",
        "outputId": "377d596d-0d97-4171-fc66-336705997342",
        "colab": {
          "base_uri": "https://localhost:8080/",
          "height": 195
        }
      },
      "source": [
        "dataset_train_new.tail()"
      ],
      "execution_count": null,
      "outputs": [
        {
          "output_type": "execute_result",
          "data": {
            "text/html": [
              "<div>\n",
              "<style scoped>\n",
              "    .dataframe tbody tr th:only-of-type {\n",
              "        vertical-align: middle;\n",
              "    }\n",
              "\n",
              "    .dataframe tbody tr th {\n",
              "        vertical-align: top;\n",
              "    }\n",
              "\n",
              "    .dataframe thead th {\n",
              "        text-align: right;\n",
              "    }\n",
              "</style>\n",
              "<table border=\"1\" class=\"dataframe\">\n",
              "  <thead>\n",
              "    <tr style=\"text-align: right;\">\n",
              "      <th></th>\n",
              "      <th>EBSByteBalance%</th>\n",
              "      <th>EBSIOBalance%</th>\n",
              "      <th>EBSWriteBytes</th>\n",
              "      <th>EBSWriteOps</th>\n",
              "      <th>NetworkIn</th>\n",
              "    </tr>\n",
              "  </thead>\n",
              "  <tbody>\n",
              "    <tr>\n",
              "      <th>2020-09-09 20:37:00</th>\n",
              "      <td>0.998667</td>\n",
              "      <td>0.998667</td>\n",
              "      <td>25395.200000</td>\n",
              "      <td>4.666667</td>\n",
              "      <td>103.866667</td>\n",
              "    </tr>\n",
              "    <tr>\n",
              "      <th>2020-09-09 20:52:00</th>\n",
              "      <td>0.997333</td>\n",
              "      <td>0.997333</td>\n",
              "      <td>35498.666667</td>\n",
              "      <td>6.133333</td>\n",
              "      <td>20.800000</td>\n",
              "    </tr>\n",
              "    <tr>\n",
              "      <th>2020-09-09 21:07:00</th>\n",
              "      <td>0.998667</td>\n",
              "      <td>0.998667</td>\n",
              "      <td>87381.333333</td>\n",
              "      <td>16.533333</td>\n",
              "      <td>767.933333</td>\n",
              "    </tr>\n",
              "    <tr>\n",
              "      <th>2020-09-09 21:22:00</th>\n",
              "      <td>0.998000</td>\n",
              "      <td>0.998000</td>\n",
              "      <td>84377.600000</td>\n",
              "      <td>16.133333</td>\n",
              "      <td>465.533333</td>\n",
              "    </tr>\n",
              "    <tr>\n",
              "      <th>2020-09-09 21:37:00</th>\n",
              "      <td>0.997500</td>\n",
              "      <td>0.997500</td>\n",
              "      <td>14336.000000</td>\n",
              "      <td>2.166667</td>\n",
              "      <td>23.076923</td>\n",
              "    </tr>\n",
              "  </tbody>\n",
              "</table>\n",
              "</div>"
            ],
            "text/plain": [
              "                     EBSByteBalance%  EBSIOBalance%  ...  EBSWriteOps   NetworkIn\n",
              "2020-09-09 20:37:00         0.998667       0.998667  ...     4.666667  103.866667\n",
              "2020-09-09 20:52:00         0.997333       0.997333  ...     6.133333   20.800000\n",
              "2020-09-09 21:07:00         0.998667       0.998667  ...    16.533333  767.933333\n",
              "2020-09-09 21:22:00         0.998000       0.998000  ...    16.133333  465.533333\n",
              "2020-09-09 21:37:00         0.997500       0.997500  ...     2.166667   23.076923\n",
              "\n",
              "[5 rows x 5 columns]"
            ]
          },
          "metadata": {
            "tags": []
          },
          "execution_count": 34
        }
      ]
    },
    {
      "cell_type": "code",
      "metadata": {
        "id": "vNZwPRu7nqqK",
        "outputId": "75ee77ca-3e98-4f40-e634-92e396a99576",
        "colab": {
          "base_uri": "https://localhost:8080/",
          "height": 34
        }
      },
      "source": [
        "type(datelist_train_new[0])"
      ],
      "execution_count": null,
      "outputs": [
        {
          "output_type": "execute_result",
          "data": {
            "text/plain": [
              "pandas._libs.tslibs.timestamps.Timestamp"
            ]
          },
          "metadata": {
            "tags": []
          },
          "execution_count": 35
        }
      ]
    },
    {
      "cell_type": "code",
      "metadata": {
        "id": "miC4qeNypHBY",
        "outputId": "2690fad8-a2e6-418d-c88f-dc9584cc076e",
        "colab": {
          "base_uri": "https://localhost:8080/",
          "height": 218
        }
      },
      "source": [
        "dataset_train_new.info()"
      ],
      "execution_count": null,
      "outputs": [
        {
          "output_type": "stream",
          "text": [
            "<class 'pandas.core.frame.DataFrame'>\n",
            "DatetimeIndex: 1440 entries, 2020-08-25 21:52:00 to 2020-09-09 21:37:00\n",
            "Data columns (total 5 columns):\n",
            " #   Column           Non-Null Count  Dtype  \n",
            "---  ------           --------------  -----  \n",
            " 0   EBSByteBalance%  1440 non-null   float64\n",
            " 1   EBSIOBalance%    1440 non-null   float64\n",
            " 2   EBSWriteBytes    1440 non-null   float64\n",
            " 3   EBSWriteOps      1440 non-null   float64\n",
            " 4   NetworkIn        1440 non-null   float64\n",
            "dtypes: float64(5)\n",
            "memory usage: 67.5 KB\n"
          ],
          "name": "stdout"
        }
      ]
    },
    {
      "cell_type": "code",
      "metadata": {
        "id": "HbNe-ZISpho0",
        "outputId": "152ae76a-4ec1-4578-f14f-031609f98a68",
        "colab": {
          "base_uri": "https://localhost:8080/",
          "height": 34
        }
      },
      "source": [
        "type(dataset_train_new.index)"
      ],
      "execution_count": null,
      "outputs": [
        {
          "output_type": "execute_result",
          "data": {
            "text/plain": [
              "pandas.core.indexes.datetimes.DatetimeIndex"
            ]
          },
          "metadata": {
            "tags": []
          },
          "execution_count": 37
        }
      ]
    },
    {
      "cell_type": "code",
      "metadata": {
        "id": "ShLkqp_OGtdS",
        "outputId": "a504d736-4fa3-4f80-bc1c-0e691bb43d10",
        "colab": {
          "base_uri": "https://localhost:8080/",
          "height": 413
        }
      },
      "source": [
        "import matplotlib\n",
        "import matplotlib.pyplot as plt\n",
        "%matplotlib inline\n",
        "plt.rcParams['figure.figsize'] = (14,5)\n",
        "plt.style.use('fivethirtyeight')\n",
        "# plot parameters\n",
        "START_TIMESTAMP_FOR_PLOTTING = datelist_train_new[-16]\n",
        "fig, ax = plt.subplots()\n",
        "fig.autofmt_xdate()\n",
        "ax.plot(PREDICTIONS_FUTURE.index, PREDICTIONS_FUTURE['EBSWriteBytes'], color='r', label='Predicted EBSWritebytes for next 18 hours')\n",
        "ax.plot(dataset_train_new.loc[START_TIMESTAMP_FOR_PLOTTING:].index, dataset_train_new.loc[START_TIMESTAMP_FOR_PLOTTING:]['EBSWriteBytes'], color='b', label='Actual EBSWriteBytes')\n",
        "plt.axvline(x=PREDICTIONS_FUTURE.index.min(), color='green', linewidth=2, linestyle='--')\n",
        "hours = matplotlib.dates.HourLocator(interval = 1)\n",
        "xfmt = matplotlib.dates.DateFormatter('%d-%m-%y %H:%M')\n",
        "ax.xaxis.set_major_locator(hours)\n",
        "ax.xaxis.set_major_formatter(xfmt)\n",
        "fig.autofmt_xdate()\n",
        "plt.legend(shadow=True)\n",
        "plt.title(\"Predictions and Actual EBSWriteBytes needed by an Instance\", family='Arial', fontsize=14)\n",
        "plt.xlabel('Timeline', family='Arial', fontsize=12)\n",
        "plt.ylabel('EBSWriteBytes', family='Arial', fontsize=12)\n",
        "\n",
        "plt.show()"
      ],
      "execution_count": null,
      "outputs": [
        {
          "output_type": "stream",
          "text": [
            "findfont: Font family ['Arial'] not found. Falling back to DejaVu Sans.\n",
            "findfont: Font family ['Arial'] not found. Falling back to DejaVu Sans.\n"
          ],
          "name": "stderr"
        },
        {
          "output_type": "display_data",
          "data": {
            "image/png": "[encoded data removed]",
            "text/plain": [
              "<Figure size 1008x360 with 1 Axes>"
            ]
          },
          "metadata": {
            "tags": []
          }
        }
      ]
    },
    {
      "cell_type": "code",
      "metadata": {
        "id": "CBdm0FVEH9tP"
      },
      "source": [
        ""
      ],
      "execution_count": null,
      "outputs": []
    }
  ]
}