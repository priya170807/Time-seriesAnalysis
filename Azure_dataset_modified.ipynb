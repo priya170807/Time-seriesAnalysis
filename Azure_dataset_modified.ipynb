{
  "nbformat": 4,
  "nbformat_minor": 0,
  "metadata": {
    "colab": {
      "name": "Azure_dataset2.ipynb",
      "provenance": [],
      "collapsed_sections": [],
      "mount_file_id": "1GJsnS776IPKRT69_WQoMIQ9xR0xpW0oo",
      "authorship_tag": "ABX9TyP6jhScM8JofBS3MQPPGWRw",
      "include_colab_link": true
    },
    "kernelspec": {
      "name": "python3",
      "display_name": "Python 3"
    },
    "accelerator": "GPU"
  },
  "cells": [
    {
      "cell_type": "markdown",
      "metadata": {
        "id": "view-in-github",
        "colab_type": "text"
      },
      "source": [
        "<a href=\"https://colab.research.google.com/github/priya170807/Time-seriesAnalysis/blob/main/Azure_dataset_modified.ipynb\" target=\"_parent\"><img src=\"https://colab.research.google.com/assets/colab-badge.svg\" alt=\"Open In Colab\"/></a>"
      ]
    },
    {
      "cell_type": "code",
      "metadata": {
        "id": "TYBgi0GaPv70"
      },
      "source": [
        "import numpy as np\n",
        "import pandas as pd\n",
        "import matplotlib.pyplot as plt\n",
        "import seaborn as sns\n",
        "from sklearn.preprocessing import minmax_scale\n",
        "from sklearn.preprocessing import StandardScaler\n",
        "from sklearn.preprocessing import MinMaxScaler\n",
        "from sklearn.preprocessing import RobustScaler"
      ],
      "execution_count": 2,
      "outputs": []
    },
    {
      "cell_type": "code",
      "metadata": {
        "colab": {
          "base_uri": "https://localhost:8080/",
          "height": 296
        },
        "id": "yfdsXfIrQHZK",
        "outputId": "799813ee-0750-4f64-c740-0c6123753fa8"
      },
      "source": [
        "data_path = '/content/drive/MyDrive/vmtable.csv/vmtable.csv'\n",
        "headers=['vmid','subscriptionid','deploymentid','vmcreated', 'vmdeleted', 'maxcpu', 'avgcpu', 'p95maxcpu', 'vmcategory', 'vmcorecount', 'vmmemory']\n",
        "trace_dataframe = pd.read_csv(data_path, header=None, index_col=False,names=headers,delimiter=',')\n",
        "\n",
        "\n",
        "#Compute VM Lifetime based on VM Created and VM Deleted timestamps and transform to Hour\n",
        "trace_dataframe['lifetime'] = np.maximum((trace_dataframe['vmdeleted'] - trace_dataframe['vmcreated']),300)/ 3600\n",
        "trace_dataframe['corehour'] = trace_dataframe['lifetime'] * trace_dataframe['vmcorecount']\n",
        "trace_dataframe.head()"
      ],
      "execution_count": 3,
      "outputs": [
        {
          "output_type": "execute_result",
          "data": {
            "text/html": [
              "<div>\n",
              "<style scoped>\n",
              "    .dataframe tbody tr th:only-of-type {\n",
              "        vertical-align: middle;\n",
              "    }\n",
              "\n",
              "    .dataframe tbody tr th {\n",
              "        vertical-align: top;\n",
              "    }\n",
              "\n",
              "    .dataframe thead th {\n",
              "        text-align: right;\n",
              "    }\n",
              "</style>\n",
              "<table border=\"1\" class=\"dataframe\">\n",
              "  <thead>\n",
              "    <tr style=\"text-align: right;\">\n",
              "      <th></th>\n",
              "      <th>vmid</th>\n",
              "      <th>subscriptionid</th>\n",
              "      <th>deploymentid</th>\n",
              "      <th>vmcreated</th>\n",
              "      <th>vmdeleted</th>\n",
              "      <th>maxcpu</th>\n",
              "      <th>avgcpu</th>\n",
              "      <th>p95maxcpu</th>\n",
              "      <th>vmcategory</th>\n",
              "      <th>vmcorecount</th>\n",
              "      <th>vmmemory</th>\n",
              "      <th>lifetime</th>\n",
              "      <th>corehour</th>\n",
              "    </tr>\n",
              "  </thead>\n",
              "  <tbody>\n",
              "    <tr>\n",
              "      <th>0</th>\n",
              "      <td>x/XsOfHO4ocsV99i4NluqKDuxctW2MMVmwqOPAlg4wp8mq...</td>\n",
              "      <td>VDU4C8cqdr+ORcqquwMRcsBA2l0SC6lCPys0wdghKROuxP...</td>\n",
              "      <td>Pc2VLB8aDxK2DCC96itq4vW/zVDp4wioAUiB3HoGSFYQ0o...</td>\n",
              "      <td>0</td>\n",
              "      <td>2591700</td>\n",
              "      <td>99.369869</td>\n",
              "      <td>3.424094</td>\n",
              "      <td>10.194309</td>\n",
              "      <td>Delay-insensitive</td>\n",
              "      <td>1</td>\n",
              "      <td>1.75</td>\n",
              "      <td>719.916667</td>\n",
              "      <td>719.916667</td>\n",
              "    </tr>\n",
              "    <tr>\n",
              "      <th>1</th>\n",
              "      <td>H5CxmMoVcZSpjgGbohnVA3R+7uCTe/hM2ht2uIYi3t7KwX...</td>\n",
              "      <td>BSXOcywx8pUU0DueDo6UMol1YzR6tn47KLEKaoXp0a1bf2...</td>\n",
              "      <td>3J17LcV4gXjFat62qhVFRfoiWArHnY763HVqqI6orJCfV8...</td>\n",
              "      <td>0</td>\n",
              "      <td>1539300</td>\n",
              "      <td>100.000000</td>\n",
              "      <td>6.181784</td>\n",
              "      <td>33.981360</td>\n",
              "      <td>Interactive</td>\n",
              "      <td>1</td>\n",
              "      <td>0.75</td>\n",
              "      <td>427.583333</td>\n",
              "      <td>427.583333</td>\n",
              "    </tr>\n",
              "    <tr>\n",
              "      <th>2</th>\n",
              "      <td>wR/G1YUjpMP4zUbxGM/XJNhYS8cAK3SGKM2tqhF7VdeTUY...</td>\n",
              "      <td>VDU4C8cqdr+ORcqquwMRcsBA2l0SC6lCPys0wdghKROuxP...</td>\n",
              "      <td>Pc2VLB8aDxK2DCC96itq4vW/zVDp4wioAUiB3HoGSFYQ0o...</td>\n",
              "      <td>2188800</td>\n",
              "      <td>2591700</td>\n",
              "      <td>99.569027</td>\n",
              "      <td>3.573635</td>\n",
              "      <td>7.924250</td>\n",
              "      <td>Delay-insensitive</td>\n",
              "      <td>1</td>\n",
              "      <td>1.75</td>\n",
              "      <td>111.916667</td>\n",
              "      <td>111.916667</td>\n",
              "    </tr>\n",
              "    <tr>\n",
              "      <th>3</th>\n",
              "      <td>1XiU+KpvIa3T1XP8kk3ZY71Of03+ogFL5Pag9Mc2jBuh0Y...</td>\n",
              "      <td>8u+M3WcFp8pq183WoMB79PhK7xUzbaviOBv0qWN6Xn4mbu...</td>\n",
              "      <td>DHbeI+pYTYFjH8JAF8SewM0z/4SqQctvxcBRGIRglBmeLW...</td>\n",
              "      <td>0</td>\n",
              "      <td>2591700</td>\n",
              "      <td>99.405085</td>\n",
              "      <td>16.287611</td>\n",
              "      <td>95.697890</td>\n",
              "      <td>Delay-insensitive</td>\n",
              "      <td>8</td>\n",
              "      <td>56.00</td>\n",
              "      <td>719.916667</td>\n",
              "      <td>5759.333333</td>\n",
              "    </tr>\n",
              "    <tr>\n",
              "      <th>4</th>\n",
              "      <td>z5i2HiSaz6ZdLR6PXdnDjGva3jIlkMPXx23VtfXx9q3dXF...</td>\n",
              "      <td>VDU4C8cqdr+ORcqquwMRcsBA2l0SC6lCPys0wdghKROuxP...</td>\n",
              "      <td>Pc2VLB8aDxK2DCC96itq4vW/zVDp4wioAUiB3HoGSFYQ0o...</td>\n",
              "      <td>0</td>\n",
              "      <td>2188500</td>\n",
              "      <td>98.967961</td>\n",
              "      <td>3.036038</td>\n",
              "      <td>9.445484</td>\n",
              "      <td>Delay-insensitive</td>\n",
              "      <td>1</td>\n",
              "      <td>1.75</td>\n",
              "      <td>607.916667</td>\n",
              "      <td>607.916667</td>\n",
              "    </tr>\n",
              "  </tbody>\n",
              "</table>\n",
              "</div>"
            ],
            "text/plain": [
              "                                                vmid  ...     corehour\n",
              "0  x/XsOfHO4ocsV99i4NluqKDuxctW2MMVmwqOPAlg4wp8mq...  ...   719.916667\n",
              "1  H5CxmMoVcZSpjgGbohnVA3R+7uCTe/hM2ht2uIYi3t7KwX...  ...   427.583333\n",
              "2  wR/G1YUjpMP4zUbxGM/XJNhYS8cAK3SGKM2tqhF7VdeTUY...  ...   111.916667\n",
              "3  1XiU+KpvIa3T1XP8kk3ZY71Of03+ogFL5Pag9Mc2jBuh0Y...  ...  5759.333333\n",
              "4  z5i2HiSaz6ZdLR6PXdnDjGva3jIlkMPXx23VtfXx9q3dXF...  ...   607.916667\n",
              "\n",
              "[5 rows x 13 columns]"
            ]
          },
          "metadata": {
            "tags": []
          },
          "execution_count": 3
        }
      ]
    },
    {
      "cell_type": "code",
      "metadata": {
        "colab": {
          "base_uri": "https://localhost:8080/",
          "height": 296
        },
        "id": "iJXg-7PJQK_m",
        "outputId": "8a007e96-a329-4644-8e8e-e69c8fd467e6"
      },
      "source": [
        "trace_dataframe.head()"
      ],
      "execution_count": 4,
      "outputs": [
        {
          "output_type": "execute_result",
          "data": {
            "text/html": [
              "<div>\n",
              "<style scoped>\n",
              "    .dataframe tbody tr th:only-of-type {\n",
              "        vertical-align: middle;\n",
              "    }\n",
              "\n",
              "    .dataframe tbody tr th {\n",
              "        vertical-align: top;\n",
              "    }\n",
              "\n",
              "    .dataframe thead th {\n",
              "        text-align: right;\n",
              "    }\n",
              "</style>\n",
              "<table border=\"1\" class=\"dataframe\">\n",
              "  <thead>\n",
              "    <tr style=\"text-align: right;\">\n",
              "      <th></th>\n",
              "      <th>vmid</th>\n",
              "      <th>subscriptionid</th>\n",
              "      <th>deploymentid</th>\n",
              "      <th>vmcreated</th>\n",
              "      <th>vmdeleted</th>\n",
              "      <th>maxcpu</th>\n",
              "      <th>avgcpu</th>\n",
              "      <th>p95maxcpu</th>\n",
              "      <th>vmcategory</th>\n",
              "      <th>vmcorecount</th>\n",
              "      <th>vmmemory</th>\n",
              "      <th>lifetime</th>\n",
              "      <th>corehour</th>\n",
              "    </tr>\n",
              "  </thead>\n",
              "  <tbody>\n",
              "    <tr>\n",
              "      <th>0</th>\n",
              "      <td>x/XsOfHO4ocsV99i4NluqKDuxctW2MMVmwqOPAlg4wp8mq...</td>\n",
              "      <td>VDU4C8cqdr+ORcqquwMRcsBA2l0SC6lCPys0wdghKROuxP...</td>\n",
              "      <td>Pc2VLB8aDxK2DCC96itq4vW/zVDp4wioAUiB3HoGSFYQ0o...</td>\n",
              "      <td>0</td>\n",
              "      <td>2591700</td>\n",
              "      <td>99.369869</td>\n",
              "      <td>3.424094</td>\n",
              "      <td>10.194309</td>\n",
              "      <td>Delay-insensitive</td>\n",
              "      <td>1</td>\n",
              "      <td>1.75</td>\n",
              "      <td>719.916667</td>\n",
              "      <td>719.916667</td>\n",
              "    </tr>\n",
              "    <tr>\n",
              "      <th>1</th>\n",
              "      <td>H5CxmMoVcZSpjgGbohnVA3R+7uCTe/hM2ht2uIYi3t7KwX...</td>\n",
              "      <td>BSXOcywx8pUU0DueDo6UMol1YzR6tn47KLEKaoXp0a1bf2...</td>\n",
              "      <td>3J17LcV4gXjFat62qhVFRfoiWArHnY763HVqqI6orJCfV8...</td>\n",
              "      <td>0</td>\n",
              "      <td>1539300</td>\n",
              "      <td>100.000000</td>\n",
              "      <td>6.181784</td>\n",
              "      <td>33.981360</td>\n",
              "      <td>Interactive</td>\n",
              "      <td>1</td>\n",
              "      <td>0.75</td>\n",
              "      <td>427.583333</td>\n",
              "      <td>427.583333</td>\n",
              "    </tr>\n",
              "    <tr>\n",
              "      <th>2</th>\n",
              "      <td>wR/G1YUjpMP4zUbxGM/XJNhYS8cAK3SGKM2tqhF7VdeTUY...</td>\n",
              "      <td>VDU4C8cqdr+ORcqquwMRcsBA2l0SC6lCPys0wdghKROuxP...</td>\n",
              "      <td>Pc2VLB8aDxK2DCC96itq4vW/zVDp4wioAUiB3HoGSFYQ0o...</td>\n",
              "      <td>2188800</td>\n",
              "      <td>2591700</td>\n",
              "      <td>99.569027</td>\n",
              "      <td>3.573635</td>\n",
              "      <td>7.924250</td>\n",
              "      <td>Delay-insensitive</td>\n",
              "      <td>1</td>\n",
              "      <td>1.75</td>\n",
              "      <td>111.916667</td>\n",
              "      <td>111.916667</td>\n",
              "    </tr>\n",
              "    <tr>\n",
              "      <th>3</th>\n",
              "      <td>1XiU+KpvIa3T1XP8kk3ZY71Of03+ogFL5Pag9Mc2jBuh0Y...</td>\n",
              "      <td>8u+M3WcFp8pq183WoMB79PhK7xUzbaviOBv0qWN6Xn4mbu...</td>\n",
              "      <td>DHbeI+pYTYFjH8JAF8SewM0z/4SqQctvxcBRGIRglBmeLW...</td>\n",
              "      <td>0</td>\n",
              "      <td>2591700</td>\n",
              "      <td>99.405085</td>\n",
              "      <td>16.287611</td>\n",
              "      <td>95.697890</td>\n",
              "      <td>Delay-insensitive</td>\n",
              "      <td>8</td>\n",
              "      <td>56.00</td>\n",
              "      <td>719.916667</td>\n",
              "      <td>5759.333333</td>\n",
              "    </tr>\n",
              "    <tr>\n",
              "      <th>4</th>\n",
              "      <td>z5i2HiSaz6ZdLR6PXdnDjGva3jIlkMPXx23VtfXx9q3dXF...</td>\n",
              "      <td>VDU4C8cqdr+ORcqquwMRcsBA2l0SC6lCPys0wdghKROuxP...</td>\n",
              "      <td>Pc2VLB8aDxK2DCC96itq4vW/zVDp4wioAUiB3HoGSFYQ0o...</td>\n",
              "      <td>0</td>\n",
              "      <td>2188500</td>\n",
              "      <td>98.967961</td>\n",
              "      <td>3.036038</td>\n",
              "      <td>9.445484</td>\n",
              "      <td>Delay-insensitive</td>\n",
              "      <td>1</td>\n",
              "      <td>1.75</td>\n",
              "      <td>607.916667</td>\n",
              "      <td>607.916667</td>\n",
              "    </tr>\n",
              "  </tbody>\n",
              "</table>\n",
              "</div>"
            ],
            "text/plain": [
              "                                                vmid  ...     corehour\n",
              "0  x/XsOfHO4ocsV99i4NluqKDuxctW2MMVmwqOPAlg4wp8mq...  ...   719.916667\n",
              "1  H5CxmMoVcZSpjgGbohnVA3R+7uCTe/hM2ht2uIYi3t7KwX...  ...   427.583333\n",
              "2  wR/G1YUjpMP4zUbxGM/XJNhYS8cAK3SGKM2tqhF7VdeTUY...  ...   111.916667\n",
              "3  1XiU+KpvIa3T1XP8kk3ZY71Of03+ogFL5Pag9Mc2jBuh0Y...  ...  5759.333333\n",
              "4  z5i2HiSaz6ZdLR6PXdnDjGva3jIlkMPXx23VtfXx9q3dXF...  ...   607.916667\n",
              "\n",
              "[5 rows x 13 columns]"
            ]
          },
          "metadata": {
            "tags": []
          },
          "execution_count": 4
        }
      ]
    },
    {
      "cell_type": "code",
      "metadata": {
        "colab": {
          "base_uri": "https://localhost:8080/"
        },
        "id": "YjiakdULQK88",
        "outputId": "20966de5-bd80-46c8-ce6a-7a9ba2fcac2c"
      },
      "source": [
        "vm_count = trace_dataframe.shape[0]\n",
        "subscription_count = trace_dataframe['subscriptionid'].unique().shape[0]\n",
        "deployment_count = trace_dataframe['deploymentid'].unique().shape[0]\n",
        "total_vm_hour_available = trace_dataframe['lifetime'].sum()\n",
        "total_core_hour_available = trace_dataframe['corehour'].sum()\n",
        "\n",
        "print(\"Total Number of Virtual Machines in the Dataset: %d\" % vm_count)\n",
        "print(\"Total Number of Subscriptions in the Dataset: %d\" % subscription_count)\n",
        "print(\"Total Number of Deployments in the Dataset: %d\" % deployment_count)\n",
        "print(\"Total VM Hours Available in the Dataset: %f\" % total_vm_hour_available)\n",
        "print(\"Total Core Hours Available in the Dataset: %f\" % total_core_hour_available)"
      ],
      "execution_count": 5,
      "outputs": [
        {
          "output_type": "stream",
          "text": [
            "Total Number of Virtual Machines in the Dataset: 2013767\n",
            "Total Number of Subscriptions in the Dataset: 5958\n",
            "Total Number of Deployments in the Dataset: 35941\n",
            "Total VM Hours Available in the Dataset: 104371713.416667\n",
            "Total Core Hours Available in the Dataset: 237815104.750000\n"
          ],
          "name": "stdout"
        }
      ]
    },
    {
      "cell_type": "code",
      "metadata": {
        "colab": {
          "base_uri": "https://localhost:8080/"
        },
        "id": "sQJvFXpQQK2C",
        "outputId": "38a4aad0-f133-4395-aa85-e61fc9f6327c"
      },
      "source": [
        "trace_dataframe[\"subscriptionid\"].value_counts()"
      ],
      "execution_count": 6,
      "outputs": [
        {
          "output_type": "execute_result",
          "data": {
            "text/plain": [
              "+9OPyI+/Eeu5PSXVMdkPw3cB99+uk+YiAwMRGJU1cDm2ESAgTaUXcM091m1HeTX7    128047\n",
              "1pvP5oaK47WSSY0IZRNEQYdTLEx79rf7Gj1isBYW1jDOFGZXLQGTa0V3XnCrLrkB    111509\n",
              "IBRuELx83WZHD8ZBmRnQ7nN53DxcMPAO7szqGt218k7STW7rx0pjgjj5eLJ0FLbn     93427\n",
              "BShs5OvpbfrccmXj7X4MwSxkSFVNdSOzhYaDEKCijpvxWWkNByokK6c31F1uCT7R     85874\n",
              "8aRytjOt2E+dixkPugZHbKFROou3eQLywft928DTtFP2o3QzFTIxYQ+8r0kdkzvo     68490\n",
              "                                                                     ...  \n",
              "DdTzWvGEvnV46TLC8N6IT61wO8jOjL8aE08mGJDPfM6M4q3AXslfcgE6y4T2GZaD         1\n",
              "oDUVplfZsbOk1vSvvN4De+F40qJxVWTvUtbx8BBQxoL7ML9M825krTct87Zz/n49         1\n",
              "fn/lLqJAGFT+lJiPY3Qs4y+b3uw3xzW7eAKPz3UX5wWG/892rdoe6al6og3bklYj         1\n",
              "q9/8J+j965A1ZcTUOnjUfcGFHXo0JXC66VlbSUmblqAShh2EIlpAOKcVXh74ryWw         1\n",
              "kAWnZ6ZC+AZrg9sfaUTyHn+STNRZsRFyCV1zMCEn8hioTLZw0GpZsmNQMclXaMDy         1\n",
              "Name: subscriptionid, Length: 5958, dtype: int64"
            ]
          },
          "metadata": {
            "tags": []
          },
          "execution_count": 6
        }
      ]
    },
    {
      "cell_type": "code",
      "metadata": {
        "id": "XPUyFSw3QKzq"
      },
      "source": [
        "oneVM_data = trace_dataframe[trace_dataframe[\"subscriptionid\"] == \"+9OPyI+/Eeu5PSXVMdkPw3cB99+uk+YiAwMRGJU1cDm2ESAgTaUXcM091m1HeTX7\"]"
      ],
      "execution_count": 7,
      "outputs": []
    },
    {
      "cell_type": "code",
      "metadata": {
        "colab": {
          "base_uri": "https://localhost:8080/",
          "height": 296
        },
        "id": "Y3HBskCIQKxa",
        "outputId": "14fee1bd-810e-47d0-d374-d36089b0fdf3"
      },
      "source": [
        "oneVM_data.head()"
      ],
      "execution_count": 8,
      "outputs": [
        {
          "output_type": "execute_result",
          "data": {
            "text/html": [
              "<div>\n",
              "<style scoped>\n",
              "    .dataframe tbody tr th:only-of-type {\n",
              "        vertical-align: middle;\n",
              "    }\n",
              "\n",
              "    .dataframe tbody tr th {\n",
              "        vertical-align: top;\n",
              "    }\n",
              "\n",
              "    .dataframe thead th {\n",
              "        text-align: right;\n",
              "    }\n",
              "</style>\n",
              "<table border=\"1\" class=\"dataframe\">\n",
              "  <thead>\n",
              "    <tr style=\"text-align: right;\">\n",
              "      <th></th>\n",
              "      <th>vmid</th>\n",
              "      <th>subscriptionid</th>\n",
              "      <th>deploymentid</th>\n",
              "      <th>vmcreated</th>\n",
              "      <th>vmdeleted</th>\n",
              "      <th>maxcpu</th>\n",
              "      <th>avgcpu</th>\n",
              "      <th>p95maxcpu</th>\n",
              "      <th>vmcategory</th>\n",
              "      <th>vmcorecount</th>\n",
              "      <th>vmmemory</th>\n",
              "      <th>lifetime</th>\n",
              "      <th>corehour</th>\n",
              "    </tr>\n",
              "  </thead>\n",
              "  <tbody>\n",
              "    <tr>\n",
              "      <th>87435</th>\n",
              "      <td>kIq+LToYe/oJmpZJCT6aYfxRh252I4Bd8FQQIyaLLAST5A...</td>\n",
              "      <td>+9OPyI+/Eeu5PSXVMdkPw3cB99+uk+YiAwMRGJU1cDm2ES...</td>\n",
              "      <td>TSRTTdb9LRjgp+FpJYUBXBczOvLJLO5ksIDZm6OFgtN4Sa...</td>\n",
              "      <td>2305800</td>\n",
              "      <td>2310300</td>\n",
              "      <td>66.909246</td>\n",
              "      <td>2.900874</td>\n",
              "      <td>66.909246</td>\n",
              "      <td>Delay-insensitive</td>\n",
              "      <td>8</td>\n",
              "      <td>14.00</td>\n",
              "      <td>1.250000</td>\n",
              "      <td>10.000000</td>\n",
              "    </tr>\n",
              "    <tr>\n",
              "      <th>87436</th>\n",
              "      <td>T5Hgk7CUx9Z/ANIZ+3TIHran3IGgr4RcUoxGNMmWB5+96a...</td>\n",
              "      <td>+9OPyI+/Eeu5PSXVMdkPw3cB99+uk+YiAwMRGJU1cDm2ES...</td>\n",
              "      <td>TSRTTdb9LRjgp+FpJYUBXBczOvLJLO5ksIDZm6OFgtN4Sa...</td>\n",
              "      <td>2305800</td>\n",
              "      <td>2310300</td>\n",
              "      <td>6.510768</td>\n",
              "      <td>2.087024</td>\n",
              "      <td>6.510768</td>\n",
              "      <td>Delay-insensitive</td>\n",
              "      <td>8</td>\n",
              "      <td>14.00</td>\n",
              "      <td>1.250000</td>\n",
              "      <td>10.000000</td>\n",
              "    </tr>\n",
              "    <tr>\n",
              "      <th>87437</th>\n",
              "      <td>Omelc/JAGTVT51lNOObucJUr93TlFPNhEhyMeMRWrggtoK...</td>\n",
              "      <td>+9OPyI+/Eeu5PSXVMdkPw3cB99+uk+YiAwMRGJU1cDm2ES...</td>\n",
              "      <td>TSRTTdb9LRjgp+FpJYUBXBczOvLJLO5ksIDZm6OFgtN4Sa...</td>\n",
              "      <td>2238900</td>\n",
              "      <td>2244000</td>\n",
              "      <td>66.956558</td>\n",
              "      <td>3.139114</td>\n",
              "      <td>66.956558</td>\n",
              "      <td>Unkown</td>\n",
              "      <td>8</td>\n",
              "      <td>14.00</td>\n",
              "      <td>1.416667</td>\n",
              "      <td>11.333333</td>\n",
              "    </tr>\n",
              "    <tr>\n",
              "      <th>87438</th>\n",
              "      <td>Xrz83UV+7HsyDhOSClTCpitt73f4NVIqxBJIoXgNVOSiCW...</td>\n",
              "      <td>+9OPyI+/Eeu5PSXVMdkPw3cB99+uk+YiAwMRGJU1cDm2ES...</td>\n",
              "      <td>TSRTTdb9LRjgp+FpJYUBXBczOvLJLO5ksIDZm6OFgtN4Sa...</td>\n",
              "      <td>1103700</td>\n",
              "      <td>1104000</td>\n",
              "      <td>98.795780</td>\n",
              "      <td>27.330195</td>\n",
              "      <td>98.795780</td>\n",
              "      <td>Delay-insensitive</td>\n",
              "      <td>1</td>\n",
              "      <td>1.75</td>\n",
              "      <td>0.083333</td>\n",
              "      <td>0.083333</td>\n",
              "    </tr>\n",
              "    <tr>\n",
              "      <th>87439</th>\n",
              "      <td>BFJu/lrNsLRY1anlsPB7Ii3cPuz9pavIuk72SKjTo50qyf...</td>\n",
              "      <td>+9OPyI+/Eeu5PSXVMdkPw3cB99+uk+YiAwMRGJU1cDm2ES...</td>\n",
              "      <td>TSRTTdb9LRjgp+FpJYUBXBczOvLJLO5ksIDZm6OFgtN4Sa...</td>\n",
              "      <td>2484600</td>\n",
              "      <td>2505600</td>\n",
              "      <td>6.472197</td>\n",
              "      <td>1.686090</td>\n",
              "      <td>5.768269</td>\n",
              "      <td>Delay-insensitive</td>\n",
              "      <td>8</td>\n",
              "      <td>14.00</td>\n",
              "      <td>5.833333</td>\n",
              "      <td>46.666667</td>\n",
              "    </tr>\n",
              "  </tbody>\n",
              "</table>\n",
              "</div>"
            ],
            "text/plain": [
              "                                                    vmid  ...   corehour\n",
              "87435  kIq+LToYe/oJmpZJCT6aYfxRh252I4Bd8FQQIyaLLAST5A...  ...  10.000000\n",
              "87436  T5Hgk7CUx9Z/ANIZ+3TIHran3IGgr4RcUoxGNMmWB5+96a...  ...  10.000000\n",
              "87437  Omelc/JAGTVT51lNOObucJUr93TlFPNhEhyMeMRWrggtoK...  ...  11.333333\n",
              "87438  Xrz83UV+7HsyDhOSClTCpitt73f4NVIqxBJIoXgNVOSiCW...  ...   0.083333\n",
              "87439  BFJu/lrNsLRY1anlsPB7Ii3cPuz9pavIuk72SKjTo50qyf...  ...  46.666667\n",
              "\n",
              "[5 rows x 13 columns]"
            ]
          },
          "metadata": {
            "tags": []
          },
          "execution_count": 8
        }
      ]
    },
    {
      "cell_type": "code",
      "metadata": {
        "colab": {
          "base_uri": "https://localhost:8080/"
        },
        "id": "TysCWxViQKuy",
        "outputId": "9fd7b822-a009-4034-dce2-384bf2ec83f1"
      },
      "source": [
        "len(oneVM_data)"
      ],
      "execution_count": 9,
      "outputs": [
        {
          "output_type": "execute_result",
          "data": {
            "text/plain": [
              "128047"
            ]
          },
          "metadata": {
            "tags": []
          },
          "execution_count": 9
        }
      ]
    },
    {
      "cell_type": "code",
      "metadata": {
        "id": "mNgNhgsiQKr6"
      },
      "source": [
        "oneVM_data.reset_index(drop=True, inplace=True)"
      ],
      "execution_count": 10,
      "outputs": []
    },
    {
      "cell_type": "code",
      "metadata": {
        "id": "ZegFumgPQKoi"
      },
      "source": [
        "yearly_data = oneVM_data.loc[0:8039]"
      ],
      "execution_count": 11,
      "outputs": []
    },
    {
      "cell_type": "code",
      "metadata": {
        "colab": {
          "base_uri": "https://localhost:8080/",
          "height": 548
        },
        "id": "5TI9Mw2PQKlx",
        "outputId": "8f9a7d2d-a7d7-46ca-dc3d-df62f023894e"
      },
      "source": [
        "yearly_data"
      ],
      "execution_count": 12,
      "outputs": [
        {
          "output_type": "execute_result",
          "data": {
            "text/html": [
              "<div>\n",
              "<style scoped>\n",
              "    .dataframe tbody tr th:only-of-type {\n",
              "        vertical-align: middle;\n",
              "    }\n",
              "\n",
              "    .dataframe tbody tr th {\n",
              "        vertical-align: top;\n",
              "    }\n",
              "\n",
              "    .dataframe thead th {\n",
              "        text-align: right;\n",
              "    }\n",
              "</style>\n",
              "<table border=\"1\" class=\"dataframe\">\n",
              "  <thead>\n",
              "    <tr style=\"text-align: right;\">\n",
              "      <th></th>\n",
              "      <th>vmid</th>\n",
              "      <th>subscriptionid</th>\n",
              "      <th>deploymentid</th>\n",
              "      <th>vmcreated</th>\n",
              "      <th>vmdeleted</th>\n",
              "      <th>maxcpu</th>\n",
              "      <th>avgcpu</th>\n",
              "      <th>p95maxcpu</th>\n",
              "      <th>vmcategory</th>\n",
              "      <th>vmcorecount</th>\n",
              "      <th>vmmemory</th>\n",
              "      <th>lifetime</th>\n",
              "      <th>corehour</th>\n",
              "    </tr>\n",
              "  </thead>\n",
              "  <tbody>\n",
              "    <tr>\n",
              "      <th>0</th>\n",
              "      <td>kIq+LToYe/oJmpZJCT6aYfxRh252I4Bd8FQQIyaLLAST5A...</td>\n",
              "      <td>+9OPyI+/Eeu5PSXVMdkPw3cB99+uk+YiAwMRGJU1cDm2ES...</td>\n",
              "      <td>TSRTTdb9LRjgp+FpJYUBXBczOvLJLO5ksIDZm6OFgtN4Sa...</td>\n",
              "      <td>2305800</td>\n",
              "      <td>2310300</td>\n",
              "      <td>66.909246</td>\n",
              "      <td>2.900874</td>\n",
              "      <td>66.909246</td>\n",
              "      <td>Delay-insensitive</td>\n",
              "      <td>8</td>\n",
              "      <td>14.00</td>\n",
              "      <td>1.250000</td>\n",
              "      <td>10.000000</td>\n",
              "    </tr>\n",
              "    <tr>\n",
              "      <th>1</th>\n",
              "      <td>T5Hgk7CUx9Z/ANIZ+3TIHran3IGgr4RcUoxGNMmWB5+96a...</td>\n",
              "      <td>+9OPyI+/Eeu5PSXVMdkPw3cB99+uk+YiAwMRGJU1cDm2ES...</td>\n",
              "      <td>TSRTTdb9LRjgp+FpJYUBXBczOvLJLO5ksIDZm6OFgtN4Sa...</td>\n",
              "      <td>2305800</td>\n",
              "      <td>2310300</td>\n",
              "      <td>6.510768</td>\n",
              "      <td>2.087024</td>\n",
              "      <td>6.510768</td>\n",
              "      <td>Delay-insensitive</td>\n",
              "      <td>8</td>\n",
              "      <td>14.00</td>\n",
              "      <td>1.250000</td>\n",
              "      <td>10.000000</td>\n",
              "    </tr>\n",
              "    <tr>\n",
              "      <th>2</th>\n",
              "      <td>Omelc/JAGTVT51lNOObucJUr93TlFPNhEhyMeMRWrggtoK...</td>\n",
              "      <td>+9OPyI+/Eeu5PSXVMdkPw3cB99+uk+YiAwMRGJU1cDm2ES...</td>\n",
              "      <td>TSRTTdb9LRjgp+FpJYUBXBczOvLJLO5ksIDZm6OFgtN4Sa...</td>\n",
              "      <td>2238900</td>\n",
              "      <td>2244000</td>\n",
              "      <td>66.956558</td>\n",
              "      <td>3.139114</td>\n",
              "      <td>66.956558</td>\n",
              "      <td>Unkown</td>\n",
              "      <td>8</td>\n",
              "      <td>14.00</td>\n",
              "      <td>1.416667</td>\n",
              "      <td>11.333333</td>\n",
              "    </tr>\n",
              "    <tr>\n",
              "      <th>3</th>\n",
              "      <td>Xrz83UV+7HsyDhOSClTCpitt73f4NVIqxBJIoXgNVOSiCW...</td>\n",
              "      <td>+9OPyI+/Eeu5PSXVMdkPw3cB99+uk+YiAwMRGJU1cDm2ES...</td>\n",
              "      <td>TSRTTdb9LRjgp+FpJYUBXBczOvLJLO5ksIDZm6OFgtN4Sa...</td>\n",
              "      <td>1103700</td>\n",
              "      <td>1104000</td>\n",
              "      <td>98.795780</td>\n",
              "      <td>27.330195</td>\n",
              "      <td>98.795780</td>\n",
              "      <td>Delay-insensitive</td>\n",
              "      <td>1</td>\n",
              "      <td>1.75</td>\n",
              "      <td>0.083333</td>\n",
              "      <td>0.083333</td>\n",
              "    </tr>\n",
              "    <tr>\n",
              "      <th>4</th>\n",
              "      <td>BFJu/lrNsLRY1anlsPB7Ii3cPuz9pavIuk72SKjTo50qyf...</td>\n",
              "      <td>+9OPyI+/Eeu5PSXVMdkPw3cB99+uk+YiAwMRGJU1cDm2ES...</td>\n",
              "      <td>TSRTTdb9LRjgp+FpJYUBXBczOvLJLO5ksIDZm6OFgtN4Sa...</td>\n",
              "      <td>2484600</td>\n",
              "      <td>2505600</td>\n",
              "      <td>6.472197</td>\n",
              "      <td>1.686090</td>\n",
              "      <td>5.768269</td>\n",
              "      <td>Delay-insensitive</td>\n",
              "      <td>8</td>\n",
              "      <td>14.00</td>\n",
              "      <td>5.833333</td>\n",
              "      <td>46.666667</td>\n",
              "    </tr>\n",
              "    <tr>\n",
              "      <th>...</th>\n",
              "      <td>...</td>\n",
              "      <td>...</td>\n",
              "      <td>...</td>\n",
              "      <td>...</td>\n",
              "      <td>...</td>\n",
              "      <td>...</td>\n",
              "      <td>...</td>\n",
              "      <td>...</td>\n",
              "      <td>...</td>\n",
              "      <td>...</td>\n",
              "      <td>...</td>\n",
              "      <td>...</td>\n",
              "      <td>...</td>\n",
              "    </tr>\n",
              "    <tr>\n",
              "      <th>8035</th>\n",
              "      <td>OTZc2y53zvg3JhthNOmD7rri2jIx6ylz/DIJT1tNugg7cZ...</td>\n",
              "      <td>+9OPyI+/Eeu5PSXVMdkPw3cB99+uk+YiAwMRGJU1cDm2ES...</td>\n",
              "      <td>TSRTTdb9LRjgp+FpJYUBXBczOvLJLO5ksIDZm6OFgtN4Sa...</td>\n",
              "      <td>434400</td>\n",
              "      <td>435300</td>\n",
              "      <td>89.453653</td>\n",
              "      <td>24.363767</td>\n",
              "      <td>89.453653</td>\n",
              "      <td>Unkown</td>\n",
              "      <td>4</td>\n",
              "      <td>7.00</td>\n",
              "      <td>0.250000</td>\n",
              "      <td>1.000000</td>\n",
              "    </tr>\n",
              "    <tr>\n",
              "      <th>8036</th>\n",
              "      <td>tnl2xbaHNEfNpKM9Ylt4GdprJQebEUKI5EX85FG5qipIMU...</td>\n",
              "      <td>+9OPyI+/Eeu5PSXVMdkPw3cB99+uk+YiAwMRGJU1cDm2ES...</td>\n",
              "      <td>TSRTTdb9LRjgp+FpJYUBXBczOvLJLO5ksIDZm6OFgtN4Sa...</td>\n",
              "      <td>2120400</td>\n",
              "      <td>2129100</td>\n",
              "      <td>98.841736</td>\n",
              "      <td>5.960542</td>\n",
              "      <td>95.854683</td>\n",
              "      <td>Unkown</td>\n",
              "      <td>8</td>\n",
              "      <td>14.00</td>\n",
              "      <td>2.416667</td>\n",
              "      <td>19.333333</td>\n",
              "    </tr>\n",
              "    <tr>\n",
              "      <th>8037</th>\n",
              "      <td>taFDbwKxCHHITWK1aZR/apJfQpfgFIULfe2mlctkC2LSxk...</td>\n",
              "      <td>+9OPyI+/Eeu5PSXVMdkPw3cB99+uk+YiAwMRGJU1cDm2ES...</td>\n",
              "      <td>TSRTTdb9LRjgp+FpJYUBXBczOvLJLO5ksIDZm6OFgtN4Sa...</td>\n",
              "      <td>434400</td>\n",
              "      <td>435300</td>\n",
              "      <td>70.042481</td>\n",
              "      <td>19.129137</td>\n",
              "      <td>70.042481</td>\n",
              "      <td>Unkown</td>\n",
              "      <td>4</td>\n",
              "      <td>7.00</td>\n",
              "      <td>0.250000</td>\n",
              "      <td>1.000000</td>\n",
              "    </tr>\n",
              "    <tr>\n",
              "      <th>8038</th>\n",
              "      <td>PAwZT/m/JA73C1YnFV1f29HgcPsxHojX2AlAdmHJSDww34...</td>\n",
              "      <td>+9OPyI+/Eeu5PSXVMdkPw3cB99+uk+YiAwMRGJU1cDm2ES...</td>\n",
              "      <td>TSRTTdb9LRjgp+FpJYUBXBczOvLJLO5ksIDZm6OFgtN4Sa...</td>\n",
              "      <td>1221000</td>\n",
              "      <td>1236900</td>\n",
              "      <td>47.881668</td>\n",
              "      <td>1.742805</td>\n",
              "      <td>6.803815</td>\n",
              "      <td>Delay-insensitive</td>\n",
              "      <td>8</td>\n",
              "      <td>14.00</td>\n",
              "      <td>4.416667</td>\n",
              "      <td>35.333333</td>\n",
              "    </tr>\n",
              "    <tr>\n",
              "      <th>8039</th>\n",
              "      <td>w443QKQ+eVrAXBTFH+JdGMtiaL0cMu50p+wnWWGm0tMdHY...</td>\n",
              "      <td>+9OPyI+/Eeu5PSXVMdkPw3cB99+uk+YiAwMRGJU1cDm2ES...</td>\n",
              "      <td>TSRTTdb9LRjgp+FpJYUBXBczOvLJLO5ksIDZm6OFgtN4Sa...</td>\n",
              "      <td>1092000</td>\n",
              "      <td>1099500</td>\n",
              "      <td>80.857566</td>\n",
              "      <td>4.944003</td>\n",
              "      <td>76.335385</td>\n",
              "      <td>Delay-insensitive</td>\n",
              "      <td>8</td>\n",
              "      <td>14.00</td>\n",
              "      <td>2.083333</td>\n",
              "      <td>16.666667</td>\n",
              "    </tr>\n",
              "  </tbody>\n",
              "</table>\n",
              "<p>8040 rows × 13 columns</p>\n",
              "</div>"
            ],
            "text/plain": [
              "                                                   vmid  ...   corehour\n",
              "0     kIq+LToYe/oJmpZJCT6aYfxRh252I4Bd8FQQIyaLLAST5A...  ...  10.000000\n",
              "1     T5Hgk7CUx9Z/ANIZ+3TIHran3IGgr4RcUoxGNMmWB5+96a...  ...  10.000000\n",
              "2     Omelc/JAGTVT51lNOObucJUr93TlFPNhEhyMeMRWrggtoK...  ...  11.333333\n",
              "3     Xrz83UV+7HsyDhOSClTCpitt73f4NVIqxBJIoXgNVOSiCW...  ...   0.083333\n",
              "4     BFJu/lrNsLRY1anlsPB7Ii3cPuz9pavIuk72SKjTo50qyf...  ...  46.666667\n",
              "...                                                 ...  ...        ...\n",
              "8035  OTZc2y53zvg3JhthNOmD7rri2jIx6ylz/DIJT1tNugg7cZ...  ...   1.000000\n",
              "8036  tnl2xbaHNEfNpKM9Ylt4GdprJQebEUKI5EX85FG5qipIMU...  ...  19.333333\n",
              "8037  taFDbwKxCHHITWK1aZR/apJfQpfgFIULfe2mlctkC2LSxk...  ...   1.000000\n",
              "8038  PAwZT/m/JA73C1YnFV1f29HgcPsxHojX2AlAdmHJSDww34...  ...  35.333333\n",
              "8039  w443QKQ+eVrAXBTFH+JdGMtiaL0cMu50p+wnWWGm0tMdHY...  ...  16.666667\n",
              "\n",
              "[8040 rows x 13 columns]"
            ]
          },
          "metadata": {
            "tags": []
          },
          "execution_count": 12
        }
      ]
    },
    {
      "cell_type": "code",
      "metadata": {
        "id": "E8seHbX7QlNZ"
      },
      "source": [
        "from datetime import datetime\n",
        "from datetime import datetime\n",
        "Timestamp = pd.date_range('2020-01-01', periods=8040, freq='H')\n",
        "#bytes_df[\"Timestamp\"] = pd.date_range(datetime(2020, 11, 15, hour=23, minute=0), periods=3945, freq='5min')"
      ],
      "execution_count": 13,
      "outputs": []
    },
    {
      "cell_type": "code",
      "metadata": {
        "id": "sYaQ9v5gQlLR"
      },
      "source": [
        "time_stamp = pd.Series(Timestamp)"
      ],
      "execution_count": 14,
      "outputs": []
    },
    {
      "cell_type": "code",
      "metadata": {
        "id": "GPx72b2RQlI8"
      },
      "source": [
        "useful_data = yearly_data[[\"maxcpu\"]]"
      ],
      "execution_count": 15,
      "outputs": []
    },
    {
      "cell_type": "code",
      "metadata": {
        "colab": {
          "base_uri": "https://localhost:8080/"
        },
        "id": "rWrOBcEdQlGc",
        "outputId": "8a060940-7cdb-4e75-9438-0a8f84efdc1b"
      },
      "source": [
        "useful_data[\"Timestamp\"] = time_stamp"
      ],
      "execution_count": 16,
      "outputs": [
        {
          "output_type": "stream",
          "text": [
            "/usr/local/lib/python3.6/dist-packages/ipykernel_launcher.py:1: SettingWithCopyWarning: \n",
            "A value is trying to be set on a copy of a slice from a DataFrame.\n",
            "Try using .loc[row_indexer,col_indexer] = value instead\n",
            "\n",
            "See the caveats in the documentation: https://pandas.pydata.org/pandas-docs/stable/user_guide/indexing.html#returning-a-view-versus-a-copy\n",
            "  \"\"\"Entry point for launching an IPython kernel.\n"
          ],
          "name": "stderr"
        }
      ]
    },
    {
      "cell_type": "code",
      "metadata": {
        "colab": {
          "base_uri": "https://localhost:8080/",
          "height": 206
        },
        "id": "YjrpBMQKQlD1",
        "outputId": "617b7604-b55c-4ca2-d6a6-aeef6c13959d"
      },
      "source": [
        "useful_data.head()"
      ],
      "execution_count": 17,
      "outputs": [
        {
          "output_type": "execute_result",
          "data": {
            "text/html": [
              "<div>\n",
              "<style scoped>\n",
              "    .dataframe tbody tr th:only-of-type {\n",
              "        vertical-align: middle;\n",
              "    }\n",
              "\n",
              "    .dataframe tbody tr th {\n",
              "        vertical-align: top;\n",
              "    }\n",
              "\n",
              "    .dataframe thead th {\n",
              "        text-align: right;\n",
              "    }\n",
              "</style>\n",
              "<table border=\"1\" class=\"dataframe\">\n",
              "  <thead>\n",
              "    <tr style=\"text-align: right;\">\n",
              "      <th></th>\n",
              "      <th>maxcpu</th>\n",
              "      <th>Timestamp</th>\n",
              "    </tr>\n",
              "  </thead>\n",
              "  <tbody>\n",
              "    <tr>\n",
              "      <th>0</th>\n",
              "      <td>66.909246</td>\n",
              "      <td>2020-01-01 00:00:00</td>\n",
              "    </tr>\n",
              "    <tr>\n",
              "      <th>1</th>\n",
              "      <td>6.510768</td>\n",
              "      <td>2020-01-01 01:00:00</td>\n",
              "    </tr>\n",
              "    <tr>\n",
              "      <th>2</th>\n",
              "      <td>66.956558</td>\n",
              "      <td>2020-01-01 02:00:00</td>\n",
              "    </tr>\n",
              "    <tr>\n",
              "      <th>3</th>\n",
              "      <td>98.795780</td>\n",
              "      <td>2020-01-01 03:00:00</td>\n",
              "    </tr>\n",
              "    <tr>\n",
              "      <th>4</th>\n",
              "      <td>6.472197</td>\n",
              "      <td>2020-01-01 04:00:00</td>\n",
              "    </tr>\n",
              "  </tbody>\n",
              "</table>\n",
              "</div>"
            ],
            "text/plain": [
              "      maxcpu           Timestamp\n",
              "0  66.909246 2020-01-01 00:00:00\n",
              "1   6.510768 2020-01-01 01:00:00\n",
              "2  66.956558 2020-01-01 02:00:00\n",
              "3  98.795780 2020-01-01 03:00:00\n",
              "4   6.472197 2020-01-01 04:00:00"
            ]
          },
          "metadata": {
            "tags": []
          },
          "execution_count": 17
        }
      ]
    },
    {
      "cell_type": "code",
      "metadata": {
        "id": "liwxdSGRQlBE"
      },
      "source": [
        "data = useful_data.copy()"
      ],
      "execution_count": 18,
      "outputs": []
    },
    {
      "cell_type": "code",
      "metadata": {
        "colab": {
          "base_uri": "https://localhost:8080/",
          "height": 336
        },
        "id": "AjTPG2TyQk-q",
        "outputId": "3b19b0f5-1576-4c7e-c0e3-7849d9dc3c17"
      },
      "source": [
        "# Color pallete for plotting\n",
        "color_pal = [\"#F8766D\", \"#D39200\", \"#93AA00\",\n",
        "             \"#00BA38\", \"#00C19F\", \"#00B9E3\",\n",
        "             \"#619CFF\", \"#DB72FB\"]\n",
        "data['maxcpu'].plot(style='.', figsize=(15,5), color=color_pal[0], title='MaxCPU')\n",
        "plt.show()"
      ],
      "execution_count": 19,
      "outputs": [
        {
          "output_type": "display_data",
          "data": {
            "image/png": "[encoded data removed]",
            "text/plain": [
              "<Figure size 1080x360 with 1 Axes>"
            ]
          },
          "metadata": {
            "tags": [],
            "needs_background": "light"
          }
        }
      ]
    },
    {
      "cell_type": "code",
      "metadata": {
        "colab": {
          "base_uri": "https://localhost:8080/",
          "height": 277
        },
        "id": "Xk99yZO9Q_Si",
        "outputId": "68755bdf-5743-462c-802b-86a2d232f704"
      },
      "source": [
        "plt.rc('font', family='serif')\n",
        "plt.figure()\n",
        "plt.grid()\n",
        "plt.plot(data['maxcpu'], \"-b\", label=\"real\")\n",
        "# plt.plot(y_pred, \"-r\", label=\"pred\")\n",
        "plt.legend()\n",
        "plt.xlabel(\"Time\")\n",
        "plt.ylabel(\"maxcpu\")\n",
        "#plt.savefig('original.png', format='png', dpi=720)\n",
        "plt.show()"
      ],
      "execution_count": 20,
      "outputs": [
        {
          "output_type": "display_data",
          "data": {
            "image/png": "[encoded data removed]",
            "text/plain": [
              "<Figure size 432x288 with 1 Axes>"
            ]
          },
          "metadata": {
            "tags": [],
            "needs_background": "light"
          }
        }
      ]
    },
    {
      "cell_type": "code",
      "metadata": {
        "colab": {
          "base_uri": "https://localhost:8080/",
          "height": 206
        },
        "id": "i0PhOXd5Q_Qq",
        "outputId": "e97ef6bd-d446-4715-911f-acf574d5de4f"
      },
      "source": [
        "data.head()"
      ],
      "execution_count": 21,
      "outputs": [
        {
          "output_type": "execute_result",
          "data": {
            "text/html": [
              "<div>\n",
              "<style scoped>\n",
              "    .dataframe tbody tr th:only-of-type {\n",
              "        vertical-align: middle;\n",
              "    }\n",
              "\n",
              "    .dataframe tbody tr th {\n",
              "        vertical-align: top;\n",
              "    }\n",
              "\n",
              "    .dataframe thead th {\n",
              "        text-align: right;\n",
              "    }\n",
              "</style>\n",
              "<table border=\"1\" class=\"dataframe\">\n",
              "  <thead>\n",
              "    <tr style=\"text-align: right;\">\n",
              "      <th></th>\n",
              "      <th>maxcpu</th>\n",
              "      <th>Timestamp</th>\n",
              "    </tr>\n",
              "  </thead>\n",
              "  <tbody>\n",
              "    <tr>\n",
              "      <th>0</th>\n",
              "      <td>66.909246</td>\n",
              "      <td>2020-01-01 00:00:00</td>\n",
              "    </tr>\n",
              "    <tr>\n",
              "      <th>1</th>\n",
              "      <td>6.510768</td>\n",
              "      <td>2020-01-01 01:00:00</td>\n",
              "    </tr>\n",
              "    <tr>\n",
              "      <th>2</th>\n",
              "      <td>66.956558</td>\n",
              "      <td>2020-01-01 02:00:00</td>\n",
              "    </tr>\n",
              "    <tr>\n",
              "      <th>3</th>\n",
              "      <td>98.795780</td>\n",
              "      <td>2020-01-01 03:00:00</td>\n",
              "    </tr>\n",
              "    <tr>\n",
              "      <th>4</th>\n",
              "      <td>6.472197</td>\n",
              "      <td>2020-01-01 04:00:00</td>\n",
              "    </tr>\n",
              "  </tbody>\n",
              "</table>\n",
              "</div>"
            ],
            "text/plain": [
              "      maxcpu           Timestamp\n",
              "0  66.909246 2020-01-01 00:00:00\n",
              "1   6.510768 2020-01-01 01:00:00\n",
              "2  66.956558 2020-01-01 02:00:00\n",
              "3  98.795780 2020-01-01 03:00:00\n",
              "4   6.472197 2020-01-01 04:00:00"
            ]
          },
          "metadata": {
            "tags": []
          },
          "execution_count": 21
        }
      ]
    },
    {
      "cell_type": "code",
      "metadata": {
        "id": "rS4GNdzpQ_N7"
      },
      "source": [
        "data = data.set_index(\"Timestamp\")"
      ],
      "execution_count": 22,
      "outputs": []
    },
    {
      "cell_type": "code",
      "metadata": {
        "id": "J3nGkXqJQ_LS"
      },
      "source": [
        "data = data.reset_index()"
      ],
      "execution_count": 23,
      "outputs": []
    },
    {
      "cell_type": "code",
      "metadata": {
        "colab": {
          "base_uri": "https://localhost:8080/",
          "height": 206
        },
        "id": "jFVQTZTdQ_Iq",
        "outputId": "ec38b72f-ebe4-48b0-82ca-f1451d468628"
      },
      "source": [
        "data.head()"
      ],
      "execution_count": 24,
      "outputs": [
        {
          "output_type": "execute_result",
          "data": {
            "text/html": [
              "<div>\n",
              "<style scoped>\n",
              "    .dataframe tbody tr th:only-of-type {\n",
              "        vertical-align: middle;\n",
              "    }\n",
              "\n",
              "    .dataframe tbody tr th {\n",
              "        vertical-align: top;\n",
              "    }\n",
              "\n",
              "    .dataframe thead th {\n",
              "        text-align: right;\n",
              "    }\n",
              "</style>\n",
              "<table border=\"1\" class=\"dataframe\">\n",
              "  <thead>\n",
              "    <tr style=\"text-align: right;\">\n",
              "      <th></th>\n",
              "      <th>Timestamp</th>\n",
              "      <th>maxcpu</th>\n",
              "    </tr>\n",
              "  </thead>\n",
              "  <tbody>\n",
              "    <tr>\n",
              "      <th>0</th>\n",
              "      <td>2020-01-01 00:00:00</td>\n",
              "      <td>66.909246</td>\n",
              "    </tr>\n",
              "    <tr>\n",
              "      <th>1</th>\n",
              "      <td>2020-01-01 01:00:00</td>\n",
              "      <td>6.510768</td>\n",
              "    </tr>\n",
              "    <tr>\n",
              "      <th>2</th>\n",
              "      <td>2020-01-01 02:00:00</td>\n",
              "      <td>66.956558</td>\n",
              "    </tr>\n",
              "    <tr>\n",
              "      <th>3</th>\n",
              "      <td>2020-01-01 03:00:00</td>\n",
              "      <td>98.795780</td>\n",
              "    </tr>\n",
              "    <tr>\n",
              "      <th>4</th>\n",
              "      <td>2020-01-01 04:00:00</td>\n",
              "      <td>6.472197</td>\n",
              "    </tr>\n",
              "  </tbody>\n",
              "</table>\n",
              "</div>"
            ],
            "text/plain": [
              "            Timestamp     maxcpu\n",
              "0 2020-01-01 00:00:00  66.909246\n",
              "1 2020-01-01 01:00:00   6.510768\n",
              "2 2020-01-01 02:00:00  66.956558\n",
              "3 2020-01-01 03:00:00  98.795780\n",
              "4 2020-01-01 04:00:00   6.472197"
            ]
          },
          "metadata": {
            "tags": []
          },
          "execution_count": 24
        }
      ]
    },
    {
      "cell_type": "code",
      "metadata": {
        "id": "K1wTVsyFhMJ1"
      },
      "source": [
        ""
      ],
      "execution_count": 24,
      "outputs": []
    },
    {
      "cell_type": "code",
      "metadata": {
        "id": "c1J6J8lthMGB"
      },
      "source": [
        ""
      ],
      "execution_count": 24,
      "outputs": []
    },
    {
      "cell_type": "code",
      "metadata": {
        "id": "3fnv5QzyhMCp"
      },
      "source": [
        "# the other implementation using tensorflow datasets"
      ],
      "execution_count": 25,
      "outputs": []
    },
    {
      "cell_type": "code",
      "metadata": {
        "id": "P0teuLw0dbC3"
      },
      "source": [
        "data.to_csv(\"/tmp/cleaned_data.csv\")"
      ],
      "execution_count": 26,
      "outputs": []
    },
    {
      "cell_type": "code",
      "metadata": {
        "id": "dnHhLzk_Q_F6"
      },
      "source": [
        "df = data[\"maxcpu\"]"
      ],
      "execution_count": 27,
      "outputs": []
    },
    {
      "cell_type": "code",
      "metadata": {
        "id": "iTCgCwb9eZfw"
      },
      "source": [
        "import numpy as np\n",
        "import matplotlib.pyplot as plt\n",
        "def plot_series(time, series, format=\"-\", start=0, end=None):\n",
        "    plt.plot(time[start:end], series[start:end], format)\n",
        "    plt.xlabel(\"Time\")\n",
        "    plt.ylabel(\"Value\")\n",
        "    plt.grid(True)"
      ],
      "execution_count": 28,
      "outputs": []
    },
    {
      "cell_type": "code",
      "metadata": {
        "colab": {
          "base_uri": "https://localhost:8080/",
          "height": 386
        },
        "id": "unfcSIN8eGfg",
        "outputId": "60682cb3-ddec-439b-9b6c-db01ca3eea16"
      },
      "source": [
        "import csv\n",
        "time_step = []\n",
        "maxcpu = []\n",
        "\n",
        "with open('/tmp/cleaned_data.csv') as csvfile:\n",
        "  reader = csv.reader(csvfile, delimiter=',')\n",
        "  next(reader)\n",
        "  for row in reader:\n",
        "    maxcpu.append(float(row[2]))\n",
        "    time_step.append(int(row[0]))\n",
        "\n",
        "series = np.array(maxcpu)\n",
        "time = np.array(time_step)\n",
        "plt.figure(figsize=(10, 6))\n",
        "plot_series(time, series)"
      ],
      "execution_count": 29,
      "outputs": [
        {
          "output_type": "display_data",
          "data": {
            "image/png": "[encoded data removed]",
            "text/plain": [
              "<Figure size 720x432 with 1 Axes>"
            ]
          },
          "metadata": {
            "tags": [],
            "needs_background": "light"
          }
        }
      ]
    },
    {
      "cell_type": "code",
      "metadata": {
        "colab": {
          "base_uri": "https://localhost:8080/",
          "height": 386
        },
        "id": "VadE2X4Ci7bp",
        "outputId": "80edb5f0-a3fd-47c3-dd78-e22967bc8417"
      },
      "source": [
        "series = np.array(maxcpu)\n",
        "time = np.array(time_step)\n",
        "plt.figure(figsize=(10, 6))\n",
        "plot_series(time, series, start=0, end=200)"
      ],
      "execution_count": 30,
      "outputs": [
        {
          "output_type": "display_data",
          "data": {
            "image/png": "[encoded data removed]",
            "text/plain": [
              "<Figure size 720x432 with 1 Axes>"
            ]
          },
          "metadata": {
            "tags": [],
            "needs_background": "light"
          }
        }
      ]
    },
    {
      "cell_type": "code",
      "metadata": {
        "id": "wDHafyKpeGdW"
      },
      "source": [
        "split_time = 7000\n",
        "time_train = time[:split_time]\n",
        "x_train = series[:split_time]\n",
        "time_valid = time[split_time:]\n",
        "x_valid = series[split_time:]\n",
        "\n",
        "#window_size = 48\n",
        "#batch_size = 32\n",
        "shuffle_buffer_size = 1000\n"
      ],
      "execution_count": 31,
      "outputs": []
    },
    {
      "cell_type": "code",
      "metadata": {
        "id": "OVcIv3goeGYl"
      },
      "source": [
        "def windowed_dataset(series, window_size, batch_size, shuffle_buffer):\n",
        "    series = tf.expand_dims(series, axis=-1)\n",
        "    ds = tf.data.Dataset.from_tensor_slices(series)\n",
        "    ds = ds.window(window_size + 1, shift=1, drop_remainder=True)\n",
        "    ds = ds.flat_map(lambda w: w.batch(window_size + 1))\n",
        "    ds = ds.shuffle(shuffle_buffer)\n",
        "    ds = ds.map(lambda w: (w[:-1], w[1:]))\n",
        "    return ds.batch(batch_size).prefetch(1)"
      ],
      "execution_count": 32,
      "outputs": []
    },
    {
      "cell_type": "code",
      "metadata": {
        "id": "xzJNGPrreGWB"
      },
      "source": [
        "def model_forecast(model, series, window_size):\n",
        "    ds = tf.data.Dataset.from_tensor_slices(series)\n",
        "    ds = ds.window(window_size, shift=1, drop_remainder=True)\n",
        "    ds = ds.flat_map(lambda w: w.batch(window_size))\n",
        "    ds = ds.batch(32).prefetch(1)\n",
        "    forecast = model.predict(ds)\n",
        "    return forecast"
      ],
      "execution_count": 33,
      "outputs": []
    },
    {
      "cell_type": "code",
      "metadata": {
        "colab": {
          "base_uri": "https://localhost:8080/"
        },
        "id": "Lh5C3AkHeGTf",
        "outputId": "e7cc2cf9-f97b-4651-ba84-4f98b9e3ad98"
      },
      "source": [
        "import tensorflow as tf\n",
        "tf.keras.backend.clear_session()\n",
        "tf.random.set_seed(51)\n",
        "np.random.seed(51)\n",
        "window_size = 72\n",
        "batch_size = 128\n",
        "train_set = windowed_dataset(x_train, window_size, batch_size, shuffle_buffer_size)\n",
        "print(train_set)\n",
        "print(x_train.shape)\n",
        "\n",
        "model = tf.keras.models.Sequential([\n",
        "  tf.keras.layers.Conv1D(filters=32, kernel_size=5,\n",
        "                      strides=1, padding=\"causal\",\n",
        "                      activation=\"relu\",\n",
        "                      input_shape=[None, 1]),\n",
        "  tf.keras.layers.LSTM(64, return_sequences=True),\n",
        "  tf.keras.layers.LSTM(64, return_sequences=True),\n",
        "  tf.keras.layers.Dense(30, activation=\"relu\"),\n",
        "  tf.keras.layers.Dense(10, activation=\"relu\"),\n",
        "  tf.keras.layers.Dense(1),\n",
        "  tf.keras.layers.Lambda(lambda x: x * 400)\n",
        "])\n",
        "\n",
        "lr_schedule = tf.keras.callbacks.LearningRateScheduler(\n",
        "    lambda epoch: 1e-8 * 10**(epoch / 20))\n",
        "optimizer = tf.keras.optimizers.SGD(lr=1e-8, momentum=0.9)\n",
        "model.compile(loss=tf.keras.losses.Huber(),\n",
        "              optimizer=optimizer,\n",
        "              metrics=[\"mae\"])\n",
        "history = model.fit(train_set, epochs=100, callbacks=[lr_schedule])\n"
      ],
      "execution_count": 34,
      "outputs": [
        {
          "output_type": "stream",
          "text": [
            "<PrefetchDataset shapes: ((None, None, 1), (None, None, 1)), types: (tf.float64, tf.float64)>\n",
            "(7000,)\n",
            "Epoch 1/100\n",
            "55/55 [==============================] - 1s 22ms/step - loss: 57.0777 - mae: 57.5768\n",
            "Epoch 2/100\n",
            "55/55 [==============================] - 1s 22ms/step - loss: 42.3579 - mae: 42.8563\n",
            "Epoch 3/100\n",
            "55/55 [==============================] - 1s 23ms/step - loss: 31.3723 - mae: 31.8707\n",
            "Epoch 4/100\n",
            "55/55 [==============================] - 1s 22ms/step - loss: 24.1748 - mae: 24.6717\n",
            "Epoch 5/100\n",
            "55/55 [==============================] - 1s 22ms/step - loss: 20.9997 - mae: 21.4952\n",
            "Epoch 6/100\n",
            "55/55 [==============================] - 1s 22ms/step - loss: 20.2516 - mae: 20.7465\n",
            "Epoch 7/100\n",
            "55/55 [==============================] - 1s 21ms/step - loss: 20.1008 - mae: 20.5953\n",
            "Epoch 8/100\n",
            "55/55 [==============================] - 1s 23ms/step - loss: 20.0286 - mae: 20.5229\n",
            "Epoch 9/100\n",
            "55/55 [==============================] - 1s 22ms/step - loss: 19.9635 - mae: 20.4576\n",
            "Epoch 10/100\n",
            "55/55 [==============================] - 1s 22ms/step - loss: 19.8972 - mae: 20.3913\n",
            "Epoch 11/100\n",
            "55/55 [==============================] - 1s 22ms/step - loss: 19.8350 - mae: 20.3290\n",
            "Epoch 12/100\n",
            "55/55 [==============================] - 1s 22ms/step - loss: 19.7750 - mae: 20.2689\n",
            "Epoch 13/100\n",
            "55/55 [==============================] - 1s 22ms/step - loss: 19.7158 - mae: 20.2096\n",
            "Epoch 14/100\n",
            "55/55 [==============================] - 1s 22ms/step - loss: 19.6604 - mae: 20.1541\n",
            "Epoch 15/100\n",
            "55/55 [==============================] - 1s 22ms/step - loss: 19.6054 - mae: 20.0989\n",
            "Epoch 16/100\n",
            "55/55 [==============================] - 1s 22ms/step - loss: 19.5454 - mae: 20.0388\n",
            "Epoch 17/100\n",
            "55/55 [==============================] - 1s 22ms/step - loss: 19.4895 - mae: 19.9828\n",
            "Epoch 18/100\n",
            "55/55 [==============================] - 1s 22ms/step - loss: 19.4311 - mae: 19.9243\n",
            "Epoch 19/100\n",
            "55/55 [==============================] - 1s 22ms/step - loss: 19.3728 - mae: 19.8659\n",
            "Epoch 20/100\n",
            "55/55 [==============================] - 1s 21ms/step - loss: 19.3062 - mae: 19.7995\n",
            "Epoch 21/100\n",
            "55/55 [==============================] - 1s 21ms/step - loss: 19.2386 - mae: 19.7318\n",
            "Epoch 22/100\n",
            "55/55 [==============================] - 1s 22ms/step - loss: 19.1712 - mae: 19.6646\n",
            "Epoch 23/100\n",
            "55/55 [==============================] - 1s 22ms/step - loss: 19.0890 - mae: 19.5823\n",
            "Epoch 24/100\n",
            "55/55 [==============================] - 1s 22ms/step - loss: 19.0118 - mae: 19.5050\n",
            "Epoch 25/100\n",
            "55/55 [==============================] - 1s 23ms/step - loss: 18.9156 - mae: 19.4086\n",
            "Epoch 26/100\n",
            "55/55 [==============================] - 1s 23ms/step - loss: 18.8273 - mae: 19.3202\n",
            "Epoch 27/100\n",
            "55/55 [==============================] - 1s 24ms/step - loss: 18.7370 - mae: 19.2296\n",
            "Epoch 28/100\n",
            "55/55 [==============================] - 1s 24ms/step - loss: 18.6461 - mae: 19.1389\n",
            "Epoch 29/100\n",
            "55/55 [==============================] - 1s 22ms/step - loss: 18.5578 - mae: 19.0505\n",
            "Epoch 30/100\n",
            "55/55 [==============================] - 1s 22ms/step - loss: 18.4702 - mae: 18.9628\n",
            "Epoch 31/100\n",
            "55/55 [==============================] - 1s 22ms/step - loss: 18.3789 - mae: 18.8715\n",
            "Epoch 32/100\n",
            "55/55 [==============================] - 1s 22ms/step - loss: 18.2838 - mae: 18.7763\n",
            "Epoch 33/100\n",
            "55/55 [==============================] - 1s 22ms/step - loss: 18.1976 - mae: 18.6899\n",
            "Epoch 34/100\n",
            "55/55 [==============================] - 1s 21ms/step - loss: 18.1096 - mae: 18.6020\n",
            "Epoch 35/100\n",
            "55/55 [==============================] - 1s 21ms/step - loss: 18.0196 - mae: 18.5117\n",
            "Epoch 36/100\n",
            "55/55 [==============================] - 1s 22ms/step - loss: 17.9414 - mae: 18.4336\n",
            "Epoch 37/100\n",
            "55/55 [==============================] - 1s 22ms/step - loss: 17.8640 - mae: 18.3559\n",
            "Epoch 38/100\n",
            "55/55 [==============================] - 1s 23ms/step - loss: 17.7881 - mae: 18.2800\n",
            "Epoch 39/100\n",
            "55/55 [==============================] - 1s 22ms/step - loss: 17.7143 - mae: 18.2061\n",
            "Epoch 40/100\n",
            "55/55 [==============================] - 1s 23ms/step - loss: 17.6398 - mae: 18.1316\n",
            "Epoch 41/100\n",
            "55/55 [==============================] - 1s 22ms/step - loss: 17.5779 - mae: 18.0696\n",
            "Epoch 42/100\n",
            "55/55 [==============================] - 1s 22ms/step - loss: 17.5108 - mae: 18.0024\n",
            "Epoch 43/100\n",
            "55/55 [==============================] - 1s 22ms/step - loss: 17.4632 - mae: 17.9549\n",
            "Epoch 44/100\n",
            "55/55 [==============================] - 1s 22ms/step - loss: 17.4027 - mae: 17.8941\n",
            "Epoch 45/100\n",
            "55/55 [==============================] - 1s 22ms/step - loss: 17.3552 - mae: 17.8468\n",
            "Epoch 46/100\n",
            "55/55 [==============================] - 1s 22ms/step - loss: 17.2991 - mae: 17.7908\n",
            "Epoch 47/100\n",
            "55/55 [==============================] - 1s 24ms/step - loss: 17.2475 - mae: 17.7389\n",
            "Epoch 48/100\n",
            "55/55 [==============================] - 1s 22ms/step - loss: 17.2115 - mae: 17.7029\n",
            "Epoch 49/100\n",
            "55/55 [==============================] - 1s 22ms/step - loss: 17.1695 - mae: 17.6605\n",
            "Epoch 50/100\n",
            "55/55 [==============================] - 1s 22ms/step - loss: 17.1304 - mae: 17.6217\n",
            "Epoch 51/100\n",
            "55/55 [==============================] - 1s 23ms/step - loss: 17.0863 - mae: 17.5774\n",
            "Epoch 52/100\n",
            "55/55 [==============================] - 1s 22ms/step - loss: 17.0304 - mae: 17.5216\n",
            "Epoch 53/100\n",
            "55/55 [==============================] - 1s 23ms/step - loss: 17.0065 - mae: 17.4973\n",
            "Epoch 54/100\n",
            "55/55 [==============================] - 1s 23ms/step - loss: 16.9605 - mae: 17.4514\n",
            "Epoch 55/100\n",
            "55/55 [==============================] - 1s 23ms/step - loss: 16.9560 - mae: 17.4478\n",
            "Epoch 56/100\n",
            "55/55 [==============================] - 1s 23ms/step - loss: 16.8808 - mae: 17.3716\n",
            "Epoch 57/100\n",
            "55/55 [==============================] - 1s 23ms/step - loss: 16.8613 - mae: 17.3523\n",
            "Epoch 58/100\n",
            "55/55 [==============================] - 1s 23ms/step - loss: 16.8251 - mae: 17.3161\n",
            "Epoch 59/100\n",
            "55/55 [==============================] - 1s 23ms/step - loss: 16.9286 - mae: 17.4208\n",
            "Epoch 60/100\n",
            "55/55 [==============================] - 1s 22ms/step - loss: 16.8018 - mae: 17.2932\n",
            "Epoch 61/100\n",
            "55/55 [==============================] - 1s 23ms/step - loss: 16.8308 - mae: 17.3220\n",
            "Epoch 62/100\n",
            "55/55 [==============================] - 1s 23ms/step - loss: 16.8640 - mae: 17.3563\n",
            "Epoch 63/100\n",
            "55/55 [==============================] - 1s 23ms/step - loss: 16.8194 - mae: 17.3113\n",
            "Epoch 64/100\n",
            "55/55 [==============================] - 1s 22ms/step - loss: 16.8933 - mae: 17.3858\n",
            "Epoch 65/100\n",
            "55/55 [==============================] - 1s 22ms/step - loss: 16.9158 - mae: 17.4083\n",
            "Epoch 66/100\n",
            "55/55 [==============================] - 1s 23ms/step - loss: 16.9578 - mae: 17.4504\n",
            "Epoch 67/100\n",
            "55/55 [==============================] - 1s 23ms/step - loss: 17.0984 - mae: 17.5908\n",
            "Epoch 68/100\n",
            "55/55 [==============================] - 1s 23ms/step - loss: 17.0623 - mae: 17.5552\n",
            "Epoch 69/100\n",
            "55/55 [==============================] - 1s 23ms/step - loss: 17.1941 - mae: 17.6870\n",
            "Epoch 70/100\n",
            "55/55 [==============================] - 1s 23ms/step - loss: 17.1312 - mae: 17.6243\n",
            "Epoch 71/100\n",
            "55/55 [==============================] - 1s 22ms/step - loss: 17.5783 - mae: 18.0710\n",
            "Epoch 72/100\n",
            "55/55 [==============================] - 1s 23ms/step - loss: 17.1504 - mae: 17.6432\n",
            "Epoch 73/100\n",
            "55/55 [==============================] - 1s 24ms/step - loss: 17.8619 - mae: 18.3541\n",
            "Epoch 74/100\n",
            "55/55 [==============================] - 1s 22ms/step - loss: 17.5331 - mae: 18.0265\n",
            "Epoch 75/100\n",
            "55/55 [==============================] - 1s 22ms/step - loss: 17.0851 - mae: 17.5778\n",
            "Epoch 76/100\n",
            "55/55 [==============================] - 1s 22ms/step - loss: 16.8014 - mae: 17.2933\n",
            "Epoch 77/100\n",
            "55/55 [==============================] - 1s 23ms/step - loss: 17.1564 - mae: 17.6491\n",
            "Epoch 78/100\n",
            "55/55 [==============================] - 1s 22ms/step - loss: 16.9430 - mae: 17.4356\n",
            "Epoch 79/100\n",
            "55/55 [==============================] - 1s 22ms/step - loss: 18.0427 - mae: 18.5363\n",
            "Epoch 80/100\n",
            "55/55 [==============================] - 1s 22ms/step - loss: 17.5401 - mae: 18.0334\n",
            "Epoch 81/100\n",
            "55/55 [==============================] - 1s 23ms/step - loss: 17.6580 - mae: 18.1510\n",
            "Epoch 82/100\n",
            "55/55 [==============================] - 1s 22ms/step - loss: 17.4939 - mae: 17.9872\n",
            "Epoch 83/100\n",
            "55/55 [==============================] - 1s 22ms/step - loss: 17.3145 - mae: 17.8074\n",
            "Epoch 84/100\n",
            "55/55 [==============================] - 1s 23ms/step - loss: 18.0263 - mae: 18.5196\n",
            "Epoch 85/100\n",
            "55/55 [==============================] - 1s 23ms/step - loss: 18.3185 - mae: 18.8117\n",
            "Epoch 86/100\n",
            "55/55 [==============================] - 1s 22ms/step - loss: 19.2295 - mae: 19.7230\n",
            "Epoch 87/100\n",
            "55/55 [==============================] - 1s 23ms/step - loss: 17.5935 - mae: 18.0870\n",
            "Epoch 88/100\n",
            "55/55 [==============================] - 1s 23ms/step - loss: 17.6433 - mae: 18.1367\n",
            "Epoch 89/100\n",
            "55/55 [==============================] - 1s 23ms/step - loss: 18.1351 - mae: 18.6288\n",
            "Epoch 90/100\n",
            "55/55 [==============================] - 1s 24ms/step - loss: 17.6186 - mae: 18.1115\n",
            "Epoch 91/100\n",
            "55/55 [==============================] - 1s 22ms/step - loss: 18.5244 - mae: 19.0182\n",
            "Epoch 92/100\n",
            "55/55 [==============================] - 1s 22ms/step - loss: 18.6842 - mae: 19.1781\n",
            "Epoch 93/100\n",
            "55/55 [==============================] - 1s 22ms/step - loss: 19.3959 - mae: 19.8896\n",
            "Epoch 94/100\n",
            "55/55 [==============================] - 1s 23ms/step - loss: 25.6446 - mae: 26.1411\n",
            "Epoch 95/100\n",
            "55/55 [==============================] - 1s 23ms/step - loss: 25.6823 - mae: 26.1775\n",
            "Epoch 96/100\n",
            "55/55 [==============================] - 1s 23ms/step - loss: 33.7101 - mae: 34.2075\n",
            "Epoch 97/100\n",
            "55/55 [==============================] - 1s 23ms/step - loss: 67.6615 - mae: 68.1594\n",
            "Epoch 98/100\n",
            "55/55 [==============================] - 1s 22ms/step - loss: 99.0251 - mae: 99.5243\n",
            "Epoch 99/100\n",
            "55/55 [==============================] - 1s 22ms/step - loss: 75.5689 - mae: 76.0679\n",
            "Epoch 100/100\n",
            "55/55 [==============================] - 1s 22ms/step - loss: 83.7198 - mae: 84.2185\n"
          ],
          "name": "stdout"
        }
      ]
    },
    {
      "cell_type": "code",
      "metadata": {
        "colab": {
          "base_uri": "https://localhost:8080/",
          "height": 291
        },
        "id": "FPPZcBMleGQn",
        "outputId": "e34d5df7-e52d-461f-954c-bac7460f099f"
      },
      "source": [
        "plt.semilogx(history.history[\"lr\"], history.history[\"loss\"])\n",
        "plt.axis([1e-8, 1e-4, 0, 60])"
      ],
      "execution_count": 35,
      "outputs": [
        {
          "output_type": "execute_result",
          "data": {
            "text/plain": [
              "(1e-08, 0.0001, 0.0, 60.0)"
            ]
          },
          "metadata": {
            "tags": []
          },
          "execution_count": 35
        },
        {
          "output_type": "display_data",
          "data": {
            "image/png": "[encoded data removed]",
            "text/plain": [
              "<Figure size 432x288 with 1 Axes>"
            ]
          },
          "metadata": {
            "tags": [],
            "needs_background": "light"
          }
        }
      ]
    },
    {
      "cell_type": "code",
      "metadata": {
        "colab": {
          "base_uri": "https://localhost:8080/"
        },
        "id": "X0m4zDl8eGN_",
        "outputId": "b120cbd8-a912-49a6-8392-0e4d252f41c7"
      },
      "source": [
        "tf.keras.backend.clear_session()\n",
        "tf.random.set_seed(51)\n",
        "np.random.seed(51)\n",
        "train_set = windowed_dataset(x_train, window_size=72, batch_size=128, shuffle_buffer=shuffle_buffer_size)\n",
        "model = tf.keras.models.Sequential([\n",
        "  tf.keras.layers.Conv1D(filters=60, kernel_size=5,\n",
        "                      strides=1, padding=\"causal\",\n",
        "                      activation=\"relu\",\n",
        "                      input_shape=[None, 1]),\n",
        "  tf.keras.layers.LSTM(60, return_sequences=True),\n",
        "  tf.keras.layers.LSTM(60, return_sequences=True),\n",
        "  tf.keras.layers.Dense(30, activation=\"relu\"),\n",
        "  tf.keras.layers.Dense(10, activation=\"relu\"),\n",
        "  tf.keras.layers.Dense(1),\n",
        "  tf.keras.layers.Lambda(lambda x: x * 400)\n",
        "])\n",
        "\n",
        "\n",
        "optimizer = tf.keras.optimizers.SGD(lr=1e-5, momentum=0.9)\n",
        "model.compile(loss=tf.keras.losses.Huber(),\n",
        "              optimizer=optimizer,\n",
        "              metrics=[\"mse\"])\n",
        "history = model.fit(train_set,epochs=500)"
      ],
      "execution_count": 37,
      "outputs": [
        {
          "output_type": "stream",
          "text": [
            "Epoch 1/500\n",
            "55/55 [==============================] - 1s 21ms/step - loss: 22.0552 - mse: 966.4897\n",
            "Epoch 2/500\n",
            "55/55 [==============================] - 1s 21ms/step - loss: 18.0234 - mse: 644.7379\n",
            "Epoch 3/500\n",
            "55/55 [==============================] - 1s 21ms/step - loss: 17.8515 - mse: 636.5337\n",
            "Epoch 4/500\n",
            "55/55 [==============================] - 1s 21ms/step - loss: 17.6733 - mse: 622.6784\n",
            "Epoch 5/500\n",
            "55/55 [==============================] - 1s 22ms/step - loss: 17.5886 - mse: 620.5593\n",
            "Epoch 6/500\n",
            "55/55 [==============================] - 1s 22ms/step - loss: 17.5072 - mse: 615.8077\n",
            "Epoch 7/500\n",
            "55/55 [==============================] - 1s 22ms/step - loss: 17.4157 - mse: 607.0694\n",
            "Epoch 8/500\n",
            "55/55 [==============================] - 1s 22ms/step - loss: 17.5088 - mse: 617.4478\n",
            "Epoch 9/500\n",
            "55/55 [==============================] - 1s 23ms/step - loss: 17.3170 - mse: 605.5692\n",
            "Epoch 10/500\n",
            "55/55 [==============================] - 1s 23ms/step - loss: 17.2516 - mse: 602.4617\n",
            "Epoch 11/500\n",
            "55/55 [==============================] - 1s 25ms/step - loss: 17.2205 - mse: 601.1118\n",
            "Epoch 12/500\n",
            "55/55 [==============================] - 1s 22ms/step - loss: 17.1578 - mse: 598.3270\n",
            "Epoch 13/500\n",
            "55/55 [==============================] - 1s 22ms/step - loss: 17.1526 - mse: 598.3460\n",
            "Epoch 14/500\n",
            "55/55 [==============================] - 1s 21ms/step - loss: 17.1301 - mse: 596.5833\n",
            "Epoch 15/500\n",
            "55/55 [==============================] - 1s 23ms/step - loss: 17.0724 - mse: 595.6754\n",
            "Epoch 16/500\n",
            "55/55 [==============================] - 1s 22ms/step - loss: 17.0570 - mse: 594.0186\n",
            "Epoch 17/500\n",
            "55/55 [==============================] - 1s 22ms/step - loss: 17.0250 - mse: 593.6662\n",
            "Epoch 18/500\n",
            "55/55 [==============================] - 1s 21ms/step - loss: 16.9923 - mse: 592.8347\n",
            "Epoch 19/500\n",
            "55/55 [==============================] - 1s 22ms/step - loss: 16.9536 - mse: 592.6385\n",
            "Epoch 20/500\n",
            "55/55 [==============================] - 1s 22ms/step - loss: 16.9456 - mse: 592.3524\n",
            "Epoch 21/500\n",
            "55/55 [==============================] - 1s 22ms/step - loss: 16.9061 - mse: 590.4365\n",
            "Epoch 22/500\n",
            "55/55 [==============================] - 1s 22ms/step - loss: 16.9009 - mse: 592.9623\n",
            "Epoch 23/500\n",
            "55/55 [==============================] - 1s 22ms/step - loss: 16.8571 - mse: 589.6472\n",
            "Epoch 24/500\n",
            "55/55 [==============================] - 1s 21ms/step - loss: 16.8159 - mse: 591.1672\n",
            "Epoch 25/500\n",
            "55/55 [==============================] - 1s 22ms/step - loss: 16.7937 - mse: 588.7689\n",
            "Epoch 26/500\n",
            "55/55 [==============================] - 1s 21ms/step - loss: 16.7782 - mse: 589.5089\n",
            "Epoch 27/500\n",
            "55/55 [==============================] - 1s 22ms/step - loss: 16.7643 - mse: 590.3331\n",
            "Epoch 28/500\n",
            "55/55 [==============================] - 1s 21ms/step - loss: 16.7681 - mse: 586.8358\n",
            "Epoch 29/500\n",
            "55/55 [==============================] - 1s 22ms/step - loss: 16.7259 - mse: 588.9130\n",
            "Epoch 30/500\n",
            "55/55 [==============================] - 1s 22ms/step - loss: 16.7142 - mse: 587.1075\n",
            "Epoch 31/500\n",
            "55/55 [==============================] - 1s 22ms/step - loss: 16.7021 - mse: 587.5600\n",
            "Epoch 32/500\n",
            "55/55 [==============================] - 1s 21ms/step - loss: 16.6773 - mse: 586.2509\n",
            "Epoch 33/500\n",
            "55/55 [==============================] - 1s 21ms/step - loss: 16.6743 - mse: 586.4940\n",
            "Epoch 34/500\n",
            "55/55 [==============================] - 1s 22ms/step - loss: 16.6619 - mse: 583.7512\n",
            "Epoch 35/500\n",
            "55/55 [==============================] - 1s 22ms/step - loss: 16.6496 - mse: 586.9333\n",
            "Epoch 36/500\n",
            "55/55 [==============================] - 1s 22ms/step - loss: 16.6611 - mse: 583.4990\n",
            "Epoch 37/500\n",
            "55/55 [==============================] - 1s 21ms/step - loss: 16.6478 - mse: 586.7903\n",
            "Epoch 38/500\n",
            "55/55 [==============================] - 1s 22ms/step - loss: 16.6091 - mse: 582.9467\n",
            "Epoch 39/500\n",
            "55/55 [==============================] - 1s 21ms/step - loss: 16.6127 - mse: 584.2344\n",
            "Epoch 40/500\n",
            "55/55 [==============================] - 1s 22ms/step - loss: 16.6199 - mse: 582.5591\n",
            "Epoch 41/500\n",
            "55/55 [==============================] - 1s 22ms/step - loss: 16.5899 - mse: 583.4276\n",
            "Epoch 42/500\n",
            "55/55 [==============================] - 1s 23ms/step - loss: 16.5683 - mse: 582.5417\n",
            "Epoch 43/500\n",
            "55/55 [==============================] - 1s 23ms/step - loss: 16.5894 - mse: 584.1477\n",
            "Epoch 44/500\n",
            "55/55 [==============================] - 1s 22ms/step - loss: 16.6951 - mse: 584.4314\n",
            "Epoch 45/500\n",
            "55/55 [==============================] - 1s 21ms/step - loss: 16.6008 - mse: 583.2029\n",
            "Epoch 46/500\n",
            "55/55 [==============================] - 1s 22ms/step - loss: 16.5597 - mse: 583.3820\n",
            "Epoch 47/500\n",
            "55/55 [==============================] - 1s 22ms/step - loss: 16.5781 - mse: 583.1536\n",
            "Epoch 48/500\n",
            "55/55 [==============================] - 1s 21ms/step - loss: 16.5275 - mse: 581.3078\n",
            "Epoch 49/500\n",
            "55/55 [==============================] - 1s 21ms/step - loss: 16.5388 - mse: 581.8723\n",
            "Epoch 50/500\n",
            "55/55 [==============================] - 1s 21ms/step - loss: 16.5356 - mse: 581.8049\n",
            "Epoch 51/500\n",
            "55/55 [==============================] - 1s 22ms/step - loss: 16.5335 - mse: 583.1203\n",
            "Epoch 52/500\n",
            "55/55 [==============================] - 1s 22ms/step - loss: 16.5427 - mse: 581.5676\n",
            "Epoch 53/500\n",
            "55/55 [==============================] - 1s 21ms/step - loss: 16.5161 - mse: 582.3278\n",
            "Epoch 54/500\n",
            "55/55 [==============================] - 1s 21ms/step - loss: 16.4936 - mse: 581.8858\n",
            "Epoch 55/500\n",
            "55/55 [==============================] - 1s 22ms/step - loss: 16.5311 - mse: 579.9728\n",
            "Epoch 56/500\n",
            "55/55 [==============================] - 1s 21ms/step - loss: 16.4826 - mse: 580.6482\n",
            "Epoch 57/500\n",
            "55/55 [==============================] - 1s 22ms/step - loss: 16.4782 - mse: 580.2285\n",
            "Epoch 58/500\n",
            "55/55 [==============================] - 1s 21ms/step - loss: 16.4622 - mse: 581.0227\n",
            "Epoch 59/500\n",
            "55/55 [==============================] - 1s 21ms/step - loss: 16.5181 - mse: 579.0896\n",
            "Epoch 60/500\n",
            "55/55 [==============================] - 1s 21ms/step - loss: 16.4822 - mse: 581.7808\n",
            "Epoch 61/500\n",
            "55/55 [==============================] - 1s 22ms/step - loss: 16.4599 - mse: 578.8913\n",
            "Epoch 62/500\n",
            "55/55 [==============================] - 1s 21ms/step - loss: 16.4720 - mse: 580.5507\n",
            "Epoch 63/500\n",
            "55/55 [==============================] - 1s 21ms/step - loss: 16.4633 - mse: 579.3921\n",
            "Epoch 64/500\n",
            "55/55 [==============================] - 1s 21ms/step - loss: 16.4446 - mse: 579.7066\n",
            "Epoch 65/500\n",
            "55/55 [==============================] - 1s 21ms/step - loss: 16.4375 - mse: 578.6033\n",
            "Epoch 66/500\n",
            "55/55 [==============================] - 1s 22ms/step - loss: 16.4330 - mse: 580.2504\n",
            "Epoch 67/500\n",
            "55/55 [==============================] - 1s 21ms/step - loss: 16.4060 - mse: 577.5011\n",
            "Epoch 68/500\n",
            "55/55 [==============================] - 1s 21ms/step - loss: 16.4345 - mse: 578.6655\n",
            "Epoch 69/500\n",
            "55/55 [==============================] - 1s 23ms/step - loss: 16.4875 - mse: 579.4070\n",
            "Epoch 70/500\n",
            "55/55 [==============================] - 1s 22ms/step - loss: 16.4336 - mse: 577.7547\n",
            "Epoch 71/500\n",
            "55/55 [==============================] - 1s 22ms/step - loss: 16.4119 - mse: 577.1043\n",
            "Epoch 72/500\n",
            "55/55 [==============================] - 1s 21ms/step - loss: 16.4027 - mse: 577.4030\n",
            "Epoch 73/500\n",
            "55/55 [==============================] - 1s 22ms/step - loss: 16.4062 - mse: 577.2189\n",
            "Epoch 74/500\n",
            "55/55 [==============================] - 1s 21ms/step - loss: 16.4118 - mse: 577.8089\n",
            "Epoch 75/500\n",
            "55/55 [==============================] - 1s 21ms/step - loss: 16.3927 - mse: 577.2282\n",
            "Epoch 76/500\n",
            "55/55 [==============================] - 1s 21ms/step - loss: 16.3674 - mse: 575.8808\n",
            "Epoch 77/500\n",
            "55/55 [==============================] - 1s 22ms/step - loss: 16.4370 - mse: 576.0123\n",
            "Epoch 78/500\n",
            "55/55 [==============================] - 1s 22ms/step - loss: 16.3749 - mse: 577.0515\n",
            "Epoch 79/500\n",
            "55/55 [==============================] - 1s 22ms/step - loss: 16.3756 - mse: 573.9598\n",
            "Epoch 80/500\n",
            "55/55 [==============================] - 1s 22ms/step - loss: 16.3873 - mse: 576.4106\n",
            "Epoch 81/500\n",
            "55/55 [==============================] - 1s 22ms/step - loss: 16.3748 - mse: 575.5486\n",
            "Epoch 82/500\n",
            "55/55 [==============================] - 1s 22ms/step - loss: 16.3442 - mse: 575.1079\n",
            "Epoch 83/500\n",
            "55/55 [==============================] - 1s 22ms/step - loss: 16.3289 - mse: 573.4948\n",
            "Epoch 84/500\n",
            "55/55 [==============================] - 1s 23ms/step - loss: 16.3240 - mse: 573.4429\n",
            "Epoch 85/500\n",
            "55/55 [==============================] - 1s 22ms/step - loss: 16.3451 - mse: 573.7739\n",
            "Epoch 86/500\n",
            "55/55 [==============================] - 1s 22ms/step - loss: 16.3216 - mse: 572.8541\n",
            "Epoch 87/500\n",
            "55/55 [==============================] - 1s 22ms/step - loss: 16.3170 - mse: 572.6613\n",
            "Epoch 88/500\n",
            "55/55 [==============================] - 1s 22ms/step - loss: 16.3146 - mse: 572.9637\n",
            "Epoch 89/500\n",
            "55/55 [==============================] - 1s 22ms/step - loss: 16.3444 - mse: 570.9815\n",
            "Epoch 90/500\n",
            "55/55 [==============================] - 1s 22ms/step - loss: 16.3217 - mse: 572.9406\n",
            "Epoch 91/500\n",
            "55/55 [==============================] - 1s 22ms/step - loss: 16.2866 - mse: 571.2232\n",
            "Epoch 92/500\n",
            "55/55 [==============================] - 1s 22ms/step - loss: 16.2833 - mse: 571.3356\n",
            "Epoch 93/500\n",
            "55/55 [==============================] - 1s 21ms/step - loss: 16.2849 - mse: 571.1735\n",
            "Epoch 94/500\n",
            "55/55 [==============================] - 1s 21ms/step - loss: 16.3081 - mse: 570.6962\n",
            "Epoch 95/500\n",
            "55/55 [==============================] - 1s 21ms/step - loss: 16.2867 - mse: 570.3313\n",
            "Epoch 96/500\n",
            "55/55 [==============================] - 1s 21ms/step - loss: 16.2763 - mse: 570.3274\n",
            "Epoch 97/500\n",
            "55/55 [==============================] - 1s 21ms/step - loss: 16.2694 - mse: 571.1146\n",
            "Epoch 98/500\n",
            "55/55 [==============================] - 1s 22ms/step - loss: 16.2461 - mse: 568.8644\n",
            "Epoch 99/500\n",
            "55/55 [==============================] - 1s 21ms/step - loss: 16.2347 - mse: 568.4899\n",
            "Epoch 100/500\n",
            "55/55 [==============================] - 1s 22ms/step - loss: 16.2654 - mse: 569.4263\n",
            "Epoch 101/500\n",
            "55/55 [==============================] - 1s 22ms/step - loss: 16.3597 - mse: 571.4304\n",
            "Epoch 102/500\n",
            "55/55 [==============================] - 1s 22ms/step - loss: 16.2399 - mse: 568.1382\n",
            "Epoch 103/500\n",
            "55/55 [==============================] - 1s 21ms/step - loss: 16.2163 - mse: 568.1910\n",
            "Epoch 104/500\n",
            "55/55 [==============================] - 1s 21ms/step - loss: 16.2476 - mse: 567.4738\n",
            "Epoch 105/500\n",
            "55/55 [==============================] - 1s 21ms/step - loss: 16.1983 - mse: 566.9362\n",
            "Epoch 106/500\n",
            "55/55 [==============================] - 1s 22ms/step - loss: 16.2160 - mse: 568.3635\n",
            "Epoch 107/500\n",
            "55/55 [==============================] - 1s 21ms/step - loss: 16.2620 - mse: 567.0615\n",
            "Epoch 108/500\n",
            "55/55 [==============================] - 1s 21ms/step - loss: 16.2052 - mse: 567.1194\n",
            "Epoch 109/500\n",
            "55/55 [==============================] - 1s 23ms/step - loss: 16.1954 - mse: 566.2710\n",
            "Epoch 110/500\n",
            "55/55 [==============================] - 1s 24ms/step - loss: 16.1823 - mse: 566.4797\n",
            "Epoch 111/500\n",
            "55/55 [==============================] - 1s 25ms/step - loss: 16.1888 - mse: 566.5475\n",
            "Epoch 112/500\n",
            "55/55 [==============================] - 1s 24ms/step - loss: 16.1880 - mse: 565.6575\n",
            "Epoch 113/500\n",
            "55/55 [==============================] - 1s 24ms/step - loss: 16.1607 - mse: 565.2037\n",
            "Epoch 114/500\n",
            "55/55 [==============================] - 1s 23ms/step - loss: 16.1818 - mse: 566.0914\n",
            "Epoch 115/500\n",
            "55/55 [==============================] - 1s 23ms/step - loss: 16.1671 - mse: 565.2637\n",
            "Epoch 116/500\n",
            "55/55 [==============================] - 1s 21ms/step - loss: 16.1443 - mse: 564.4991\n",
            "Epoch 117/500\n",
            "55/55 [==============================] - 1s 21ms/step - loss: 16.1844 - mse: 565.1287\n",
            "Epoch 118/500\n",
            "55/55 [==============================] - 1s 21ms/step - loss: 16.1620 - mse: 564.4088\n",
            "Epoch 119/500\n",
            "55/55 [==============================] - 1s 21ms/step - loss: 16.1344 - mse: 562.9590\n",
            "Epoch 120/500\n",
            "55/55 [==============================] - 1s 21ms/step - loss: 16.1638 - mse: 564.0037\n",
            "Epoch 121/500\n",
            "55/55 [==============================] - 1s 21ms/step - loss: 16.1432 - mse: 563.2084\n",
            "Epoch 122/500\n",
            "55/55 [==============================] - 1s 21ms/step - loss: 16.2377 - mse: 565.5504\n",
            "Epoch 123/500\n",
            "55/55 [==============================] - 1s 21ms/step - loss: 16.1333 - mse: 563.8553\n",
            "Epoch 124/500\n",
            "55/55 [==============================] - 1s 22ms/step - loss: 16.1572 - mse: 562.5931\n",
            "Epoch 125/500\n",
            "55/55 [==============================] - 1s 22ms/step - loss: 16.1136 - mse: 561.1440\n",
            "Epoch 126/500\n",
            "55/55 [==============================] - 1s 21ms/step - loss: 16.1270 - mse: 562.6591\n",
            "Epoch 127/500\n",
            "55/55 [==============================] - 1s 22ms/step - loss: 16.0888 - mse: 562.0344\n",
            "Epoch 128/500\n",
            "55/55 [==============================] - 1s 22ms/step - loss: 16.0953 - mse: 561.2214\n",
            "Epoch 129/500\n",
            "55/55 [==============================] - 1s 21ms/step - loss: 16.0904 - mse: 562.4132\n",
            "Epoch 130/500\n",
            "55/55 [==============================] - 1s 21ms/step - loss: 16.1135 - mse: 562.3889\n",
            "Epoch 131/500\n",
            "55/55 [==============================] - 1s 21ms/step - loss: 16.0841 - mse: 561.2905\n",
            "Epoch 132/500\n",
            "55/55 [==============================] - 1s 21ms/step - loss: 16.0822 - mse: 560.9393\n",
            "Epoch 133/500\n",
            "55/55 [==============================] - 1s 21ms/step - loss: 16.0740 - mse: 560.2650\n",
            "Epoch 134/500\n",
            "55/55 [==============================] - 1s 21ms/step - loss: 16.0860 - mse: 560.5519\n",
            "Epoch 135/500\n",
            "55/55 [==============================] - 1s 22ms/step - loss: 16.0290 - mse: 558.9232\n",
            "Epoch 136/500\n",
            "55/55 [==============================] - 1s 20ms/step - loss: 16.0969 - mse: 560.5633\n",
            "Epoch 137/500\n",
            "55/55 [==============================] - 1s 21ms/step - loss: 16.0521 - mse: 559.4872\n",
            "Epoch 138/500\n",
            "55/55 [==============================] - 1s 20ms/step - loss: 16.0390 - mse: 559.8442\n",
            "Epoch 139/500\n",
            "55/55 [==============================] - 1s 21ms/step - loss: 16.0524 - mse: 559.4277\n",
            "Epoch 140/500\n",
            "55/55 [==============================] - 1s 21ms/step - loss: 16.0263 - mse: 558.9072\n",
            "Epoch 141/500\n",
            "55/55 [==============================] - 1s 21ms/step - loss: 16.0189 - mse: 558.4081\n",
            "Epoch 142/500\n",
            "55/55 [==============================] - 1s 21ms/step - loss: 16.0155 - mse: 558.1248\n",
            "Epoch 143/500\n",
            "55/55 [==============================] - 1s 22ms/step - loss: 16.0088 - mse: 558.0632\n",
            "Epoch 144/500\n",
            "55/55 [==============================] - 1s 21ms/step - loss: 15.9964 - mse: 557.4803\n",
            "Epoch 145/500\n",
            "55/55 [==============================] - 1s 21ms/step - loss: 16.0486 - mse: 558.0699\n",
            "Epoch 146/500\n",
            "55/55 [==============================] - 1s 21ms/step - loss: 16.0013 - mse: 557.3957\n",
            "Epoch 147/500\n",
            "55/55 [==============================] - 1s 22ms/step - loss: 16.0245 - mse: 557.3837\n",
            "Epoch 148/500\n",
            "55/55 [==============================] - 1s 21ms/step - loss: 15.9646 - mse: 556.2021\n",
            "Epoch 149/500\n",
            "55/55 [==============================] - 1s 21ms/step - loss: 15.9860 - mse: 556.7491\n",
            "Epoch 150/500\n",
            "55/55 [==============================] - 1s 21ms/step - loss: 15.9592 - mse: 556.2056\n",
            "Epoch 151/500\n",
            "55/55 [==============================] - 1s 21ms/step - loss: 15.9492 - mse: 555.1622\n",
            "Epoch 152/500\n",
            "55/55 [==============================] - 1s 21ms/step - loss: 15.9809 - mse: 555.9323\n",
            "Epoch 153/500\n",
            "55/55 [==============================] - 1s 21ms/step - loss: 15.9354 - mse: 554.8871\n",
            "Epoch 154/500\n",
            "55/55 [==============================] - 1s 22ms/step - loss: 15.9794 - mse: 555.6475\n",
            "Epoch 155/500\n",
            "55/55 [==============================] - 1s 21ms/step - loss: 15.9528 - mse: 555.3817\n",
            "Epoch 156/500\n",
            "55/55 [==============================] - 1s 22ms/step - loss: 16.0372 - mse: 556.1241\n",
            "Epoch 157/500\n",
            "55/55 [==============================] - 1s 22ms/step - loss: 15.9557 - mse: 555.3935\n",
            "Epoch 158/500\n",
            "55/55 [==============================] - 1s 21ms/step - loss: 15.9027 - mse: 553.8024\n",
            "Epoch 159/500\n",
            "55/55 [==============================] - 1s 21ms/step - loss: 15.9189 - mse: 554.1357\n",
            "Epoch 160/500\n",
            "55/55 [==============================] - 1s 21ms/step - loss: 15.9164 - mse: 554.3735\n",
            "Epoch 161/500\n",
            "55/55 [==============================] - 1s 22ms/step - loss: 15.8860 - mse: 553.5435\n",
            "Epoch 162/500\n",
            "55/55 [==============================] - 1s 21ms/step - loss: 15.8896 - mse: 552.9382\n",
            "Epoch 163/500\n",
            "55/55 [==============================] - 1s 21ms/step - loss: 15.8904 - mse: 552.5746\n",
            "Epoch 164/500\n",
            "55/55 [==============================] - 1s 21ms/step - loss: 15.9420 - mse: 554.4392\n",
            "Epoch 165/500\n",
            "55/55 [==============================] - 1s 22ms/step - loss: 15.8910 - mse: 553.2233\n",
            "Epoch 166/500\n",
            "55/55 [==============================] - 1s 21ms/step - loss: 15.8611 - mse: 552.4110\n",
            "Epoch 167/500\n",
            "55/55 [==============================] - 1s 22ms/step - loss: 15.8955 - mse: 551.8135\n",
            "Epoch 168/500\n",
            "55/55 [==============================] - 1s 21ms/step - loss: 15.9023 - mse: 553.5656\n",
            "Epoch 169/500\n",
            "55/55 [==============================] - 1s 23ms/step - loss: 15.8996 - mse: 552.8641\n",
            "Epoch 170/500\n",
            "55/55 [==============================] - 1s 22ms/step - loss: 15.8645 - mse: 551.9759\n",
            "Epoch 171/500\n",
            "55/55 [==============================] - 1s 21ms/step - loss: 15.8404 - mse: 550.9656\n",
            "Epoch 172/500\n",
            "55/55 [==============================] - 1s 21ms/step - loss: 15.8557 - mse: 551.4910\n",
            "Epoch 173/500\n",
            "55/55 [==============================] - 1s 21ms/step - loss: 15.8972 - mse: 552.1798\n",
            "Epoch 174/500\n",
            "55/55 [==============================] - 1s 21ms/step - loss: 15.8269 - mse: 549.9985\n",
            "Epoch 175/500\n",
            "55/55 [==============================] - 1s 21ms/step - loss: 15.8325 - mse: 549.8254\n",
            "Epoch 176/500\n",
            "55/55 [==============================] - 1s 22ms/step - loss: 15.8129 - mse: 549.8997\n",
            "Epoch 177/500\n",
            "55/55 [==============================] - 1s 22ms/step - loss: 15.8297 - mse: 550.0548\n",
            "Epoch 178/500\n",
            "55/55 [==============================] - 1s 21ms/step - loss: 15.8114 - mse: 550.3004\n",
            "Epoch 179/500\n",
            "55/55 [==============================] - 1s 22ms/step - loss: 15.8472 - mse: 549.8246\n",
            "Epoch 180/500\n",
            "55/55 [==============================] - 1s 22ms/step - loss: 15.8556 - mse: 550.5439\n",
            "Epoch 181/500\n",
            "55/55 [==============================] - 1s 22ms/step - loss: 15.8120 - mse: 548.8407\n",
            "Epoch 182/500\n",
            "55/55 [==============================] - 1s 22ms/step - loss: 15.8201 - mse: 549.0544\n",
            "Epoch 183/500\n",
            "55/55 [==============================] - 1s 22ms/step - loss: 15.7823 - mse: 547.5709\n",
            "Epoch 184/500\n",
            "55/55 [==============================] - 1s 23ms/step - loss: 15.7926 - mse: 548.3652\n",
            "Epoch 185/500\n",
            "55/55 [==============================] - 1s 23ms/step - loss: 15.7871 - mse: 547.5442\n",
            "Epoch 186/500\n",
            "55/55 [==============================] - 1s 22ms/step - loss: 15.7780 - mse: 546.9539\n",
            "Epoch 187/500\n",
            "55/55 [==============================] - 1s 23ms/step - loss: 15.8171 - mse: 547.7609\n",
            "Epoch 188/500\n",
            "55/55 [==============================] - 1s 24ms/step - loss: 15.8254 - mse: 548.7754\n",
            "Epoch 189/500\n",
            "55/55 [==============================] - 1s 22ms/step - loss: 15.7879 - mse: 547.4157\n",
            "Epoch 190/500\n",
            "55/55 [==============================] - 1s 23ms/step - loss: 15.7800 - mse: 547.7849\n",
            "Epoch 191/500\n",
            "55/55 [==============================] - 1s 23ms/step - loss: 15.7953 - mse: 548.3814\n",
            "Epoch 192/500\n",
            "55/55 [==============================] - 1s 22ms/step - loss: 15.7610 - mse: 547.4882\n",
            "Epoch 193/500\n",
            "55/55 [==============================] - 1s 22ms/step - loss: 15.7651 - mse: 546.3318\n",
            "Epoch 194/500\n",
            "55/55 [==============================] - 1s 22ms/step - loss: 15.7259 - mse: 545.5186\n",
            "Epoch 195/500\n",
            "55/55 [==============================] - 1s 22ms/step - loss: 15.7188 - mse: 545.1879\n",
            "Epoch 196/500\n",
            "55/55 [==============================] - 1s 21ms/step - loss: 15.7726 - mse: 546.2785\n",
            "Epoch 197/500\n",
            "55/55 [==============================] - 1s 22ms/step - loss: 15.7624 - mse: 546.1676\n",
            "Epoch 198/500\n",
            "55/55 [==============================] - 1s 22ms/step - loss: 15.7238 - mse: 545.2215\n",
            "Epoch 199/500\n",
            "55/55 [==============================] - 1s 21ms/step - loss: 15.6870 - mse: 543.9151\n",
            "Epoch 200/500\n",
            "55/55 [==============================] - 1s 22ms/step - loss: 15.7181 - mse: 544.2069\n",
            "Epoch 201/500\n",
            "55/55 [==============================] - 1s 24ms/step - loss: 15.7216 - mse: 544.1428\n",
            "Epoch 202/500\n",
            "55/55 [==============================] - 1s 22ms/step - loss: 15.7290 - mse: 545.1259\n",
            "Epoch 203/500\n",
            "55/55 [==============================] - 1s 23ms/step - loss: 15.6877 - mse: 543.6404\n",
            "Epoch 204/500\n",
            "55/55 [==============================] - 1s 23ms/step - loss: 15.6607 - mse: 542.6634\n",
            "Epoch 205/500\n",
            "55/55 [==============================] - 1s 22ms/step - loss: 15.6819 - mse: 543.5344\n",
            "Epoch 206/500\n",
            "55/55 [==============================] - 1s 23ms/step - loss: 15.6753 - mse: 542.6319\n",
            "Epoch 207/500\n",
            "55/55 [==============================] - 1s 23ms/step - loss: 15.7139 - mse: 543.0914\n",
            "Epoch 208/500\n",
            "55/55 [==============================] - 1s 23ms/step - loss: 15.6751 - mse: 542.7401\n",
            "Epoch 209/500\n",
            "55/55 [==============================] - 1s 24ms/step - loss: 15.6553 - mse: 542.3060\n",
            "Epoch 210/500\n",
            "55/55 [==============================] - 1s 23ms/step - loss: 15.6558 - mse: 541.0480\n",
            "Epoch 211/500\n",
            "55/55 [==============================] - 1s 23ms/step - loss: 15.6767 - mse: 542.1298\n",
            "Epoch 212/500\n",
            "55/55 [==============================] - 1s 23ms/step - loss: 15.6688 - mse: 542.5849\n",
            "Epoch 213/500\n",
            "55/55 [==============================] - 1s 22ms/step - loss: 15.7619 - mse: 544.0312\n",
            "Epoch 214/500\n",
            "55/55 [==============================] - 1s 22ms/step - loss: 15.6551 - mse: 541.2097\n",
            "Epoch 215/500\n",
            "55/55 [==============================] - 1s 22ms/step - loss: 15.6460 - mse: 540.6245\n",
            "Epoch 216/500\n",
            "55/55 [==============================] - 1s 21ms/step - loss: 15.7311 - mse: 544.0205\n",
            "Epoch 217/500\n",
            "55/55 [==============================] - 1s 22ms/step - loss: 15.5985 - mse: 540.5397\n",
            "Epoch 218/500\n",
            "55/55 [==============================] - 1s 22ms/step - loss: 15.5910 - mse: 539.3810\n",
            "Epoch 219/500\n",
            "55/55 [==============================] - 1s 21ms/step - loss: 15.5996 - mse: 539.1173\n",
            "Epoch 220/500\n",
            "55/55 [==============================] - 1s 21ms/step - loss: 15.6432 - mse: 540.7268\n",
            "Epoch 221/500\n",
            "55/55 [==============================] - 1s 21ms/step - loss: 15.6417 - mse: 540.3400\n",
            "Epoch 222/500\n",
            "55/55 [==============================] - 1s 21ms/step - loss: 15.6146 - mse: 540.6617\n",
            "Epoch 223/500\n",
            "55/55 [==============================] - 1s 21ms/step - loss: 15.5751 - mse: 537.9431\n",
            "Epoch 224/500\n",
            "55/55 [==============================] - 1s 21ms/step - loss: 15.5617 - mse: 538.4686\n",
            "Epoch 225/500\n",
            "55/55 [==============================] - 1s 22ms/step - loss: 15.6257 - mse: 539.4139\n",
            "Epoch 226/500\n",
            "55/55 [==============================] - 1s 22ms/step - loss: 15.5740 - mse: 538.3015\n",
            "Epoch 227/500\n",
            "55/55 [==============================] - 1s 22ms/step - loss: 15.6565 - mse: 540.4283\n",
            "Epoch 228/500\n",
            "55/55 [==============================] - 1s 22ms/step - loss: 15.5923 - mse: 537.9909\n",
            "Epoch 229/500\n",
            "55/55 [==============================] - 1s 22ms/step - loss: 15.5570 - mse: 536.8104\n",
            "Epoch 230/500\n",
            "55/55 [==============================] - 1s 20ms/step - loss: 15.5792 - mse: 538.5257\n",
            "Epoch 231/500\n",
            "55/55 [==============================] - 1s 21ms/step - loss: 15.5134 - mse: 535.9810\n",
            "Epoch 232/500\n",
            "55/55 [==============================] - 1s 22ms/step - loss: 15.5520 - mse: 536.7047\n",
            "Epoch 233/500\n",
            "55/55 [==============================] - 1s 22ms/step - loss: 15.5936 - mse: 538.0510\n",
            "Epoch 234/500\n",
            "55/55 [==============================] - 1s 21ms/step - loss: 15.6054 - mse: 537.9305\n",
            "Epoch 235/500\n",
            "55/55 [==============================] - 1s 21ms/step - loss: 15.5356 - mse: 536.4891\n",
            "Epoch 236/500\n",
            "55/55 [==============================] - 1s 22ms/step - loss: 15.5723 - mse: 536.2364\n",
            "Epoch 237/500\n",
            "55/55 [==============================] - 1s 21ms/step - loss: 15.5552 - mse: 537.1240\n",
            "Epoch 238/500\n",
            "55/55 [==============================] - 1s 22ms/step - loss: 15.5850 - mse: 536.9178\n",
            "Epoch 239/500\n",
            "55/55 [==============================] - 1s 21ms/step - loss: 15.5242 - mse: 535.6206\n",
            "Epoch 240/500\n",
            "55/55 [==============================] - 1s 22ms/step - loss: 15.5992 - mse: 537.1087\n",
            "Epoch 241/500\n",
            "55/55 [==============================] - 1s 22ms/step - loss: 15.5219 - mse: 535.4517\n",
            "Epoch 242/500\n",
            "55/55 [==============================] - 1s 22ms/step - loss: 15.5445 - mse: 536.8001\n",
            "Epoch 243/500\n",
            "55/55 [==============================] - 1s 21ms/step - loss: 15.4861 - mse: 534.0863\n",
            "Epoch 244/500\n",
            "55/55 [==============================] - 1s 22ms/step - loss: 15.5292 - mse: 535.6769\n",
            "Epoch 245/500\n",
            "55/55 [==============================] - 1s 22ms/step - loss: 15.4909 - mse: 534.2917\n",
            "Epoch 246/500\n",
            "55/55 [==============================] - 1s 21ms/step - loss: 15.4909 - mse: 533.1996\n",
            "Epoch 247/500\n",
            "55/55 [==============================] - 1s 21ms/step - loss: 15.5150 - mse: 534.2325\n",
            "Epoch 248/500\n",
            "55/55 [==============================] - 1s 22ms/step - loss: 15.4770 - mse: 533.3954\n",
            "Epoch 249/500\n",
            "55/55 [==============================] - 1s 22ms/step - loss: 15.4474 - mse: 532.6724\n",
            "Epoch 250/500\n",
            "55/55 [==============================] - 1s 21ms/step - loss: 15.4583 - mse: 531.9446\n",
            "Epoch 251/500\n",
            "55/55 [==============================] - 1s 22ms/step - loss: 15.4788 - mse: 532.2757\n",
            "Epoch 252/500\n",
            "55/55 [==============================] - 1s 22ms/step - loss: 15.5120 - mse: 533.8224\n",
            "Epoch 253/500\n",
            "55/55 [==============================] - 1s 21ms/step - loss: 15.5073 - mse: 533.7010\n",
            "Epoch 254/500\n",
            "55/55 [==============================] - 1s 21ms/step - loss: 15.4349 - mse: 531.7203\n",
            "Epoch 255/500\n",
            "55/55 [==============================] - 1s 22ms/step - loss: 15.4588 - mse: 532.4121\n",
            "Epoch 256/500\n",
            "55/55 [==============================] - 1s 21ms/step - loss: 15.4173 - mse: 530.3716\n",
            "Epoch 257/500\n",
            "55/55 [==============================] - 1s 22ms/step - loss: 15.4372 - mse: 530.6630\n",
            "Epoch 258/500\n",
            "55/55 [==============================] - 1s 22ms/step - loss: 15.4926 - mse: 532.2045\n",
            "Epoch 259/500\n",
            "55/55 [==============================] - 1s 21ms/step - loss: 15.5962 - mse: 535.8104\n",
            "Epoch 260/500\n",
            "55/55 [==============================] - 1s 21ms/step - loss: 15.4066 - mse: 530.4614\n",
            "Epoch 261/500\n",
            "55/55 [==============================] - 1s 22ms/step - loss: 15.4002 - mse: 529.2627\n",
            "Epoch 262/500\n",
            "55/55 [==============================] - 1s 22ms/step - loss: 15.3920 - mse: 529.6725\n",
            "Epoch 263/500\n",
            "55/55 [==============================] - 1s 21ms/step - loss: 15.4102 - mse: 529.6126\n",
            "Epoch 264/500\n",
            "55/55 [==============================] - 1s 22ms/step - loss: 15.4191 - mse: 529.7991\n",
            "Epoch 265/500\n",
            "55/55 [==============================] - 1s 21ms/step - loss: 15.4579 - mse: 530.5424\n",
            "Epoch 266/500\n",
            "55/55 [==============================] - 1s 21ms/step - loss: 15.4091 - mse: 528.9687\n",
            "Epoch 267/500\n",
            "55/55 [==============================] - 1s 22ms/step - loss: 15.4826 - mse: 532.3715\n",
            "Epoch 268/500\n",
            "55/55 [==============================] - 1s 21ms/step - loss: 15.4054 - mse: 529.1196\n",
            "Epoch 269/500\n",
            "55/55 [==============================] - 1s 22ms/step - loss: 15.4161 - mse: 529.4343\n",
            "Epoch 270/500\n",
            "55/55 [==============================] - 1s 21ms/step - loss: 15.4305 - mse: 529.9296\n",
            "Epoch 271/500\n",
            "55/55 [==============================] - 1s 21ms/step - loss: 15.3124 - mse: 525.7122\n",
            "Epoch 272/500\n",
            "55/55 [==============================] - 1s 20ms/step - loss: 15.3599 - mse: 527.0182\n",
            "Epoch 273/500\n",
            "55/55 [==============================] - 1s 21ms/step - loss: 15.3440 - mse: 526.8854\n",
            "Epoch 274/500\n",
            "55/55 [==============================] - 1s 21ms/step - loss: 15.3421 - mse: 526.6769\n",
            "Epoch 275/500\n",
            "55/55 [==============================] - 1s 22ms/step - loss: 15.4669 - mse: 530.4590\n",
            "Epoch 276/500\n",
            "55/55 [==============================] - 1s 21ms/step - loss: 15.3553 - mse: 527.1732\n",
            "Epoch 277/500\n",
            "55/55 [==============================] - 1s 21ms/step - loss: 15.3106 - mse: 525.9169\n",
            "Epoch 278/500\n",
            "55/55 [==============================] - 1s 21ms/step - loss: 15.4131 - mse: 528.4122\n",
            "Epoch 279/500\n",
            "55/55 [==============================] - 1s 21ms/step - loss: 15.3160 - mse: 525.8796\n",
            "Epoch 280/500\n",
            "55/55 [==============================] - 1s 21ms/step - loss: 15.3236 - mse: 525.6012\n",
            "Epoch 281/500\n",
            "55/55 [==============================] - 1s 22ms/step - loss: 15.3505 - mse: 525.6108\n",
            "Epoch 282/500\n",
            "55/55 [==============================] - 1s 22ms/step - loss: 15.2667 - mse: 523.8046\n",
            "Epoch 283/500\n",
            "55/55 [==============================] - 1s 20ms/step - loss: 15.3228 - mse: 526.0240\n",
            "Epoch 284/500\n",
            "55/55 [==============================] - 1s 22ms/step - loss: 15.3773 - mse: 526.0379\n",
            "Epoch 285/500\n",
            "55/55 [==============================] - 1s 21ms/step - loss: 15.3066 - mse: 525.1940\n",
            "Epoch 286/500\n",
            "55/55 [==============================] - 1s 22ms/step - loss: 15.3116 - mse: 525.6476\n",
            "Epoch 287/500\n",
            "55/55 [==============================] - 1s 22ms/step - loss: 15.3122 - mse: 524.3929\n",
            "Epoch 288/500\n",
            "55/55 [==============================] - 1s 21ms/step - loss: 15.3584 - mse: 526.9501\n",
            "Epoch 289/500\n",
            "55/55 [==============================] - 1s 21ms/step - loss: 15.2629 - mse: 523.4399\n",
            "Epoch 290/500\n",
            "55/55 [==============================] - 1s 22ms/step - loss: 15.2843 - mse: 524.7559\n",
            "Epoch 291/500\n",
            "55/55 [==============================] - 1s 21ms/step - loss: 15.2818 - mse: 523.2585\n",
            "Epoch 292/500\n",
            "55/55 [==============================] - 1s 22ms/step - loss: 15.3585 - mse: 525.9942\n",
            "Epoch 293/500\n",
            "55/55 [==============================] - 1s 22ms/step - loss: 15.2510 - mse: 522.6337\n",
            "Epoch 294/500\n",
            "55/55 [==============================] - 1s 22ms/step - loss: 15.3124 - mse: 523.8287\n",
            "Epoch 295/500\n",
            "55/55 [==============================] - 1s 22ms/step - loss: 15.2934 - mse: 523.5604\n",
            "Epoch 296/500\n",
            "55/55 [==============================] - 1s 21ms/step - loss: 15.2353 - mse: 521.9709\n",
            "Epoch 297/500\n",
            "55/55 [==============================] - 1s 22ms/step - loss: 15.2523 - mse: 522.5441\n",
            "Epoch 298/500\n",
            "55/55 [==============================] - 1s 22ms/step - loss: 15.2212 - mse: 521.0946\n",
            "Epoch 299/500\n",
            "55/55 [==============================] - 1s 21ms/step - loss: 15.2952 - mse: 522.5834\n",
            "Epoch 300/500\n",
            "55/55 [==============================] - 1s 21ms/step - loss: 15.2596 - mse: 522.4647\n",
            "Epoch 301/500\n",
            "55/55 [==============================] - 1s 21ms/step - loss: 15.2249 - mse: 521.2676\n",
            "Epoch 302/500\n",
            "55/55 [==============================] - 1s 21ms/step - loss: 15.2639 - mse: 522.2072\n",
            "Epoch 303/500\n",
            "55/55 [==============================] - 1s 22ms/step - loss: 15.1675 - mse: 519.9011\n",
            "Epoch 304/500\n",
            "55/55 [==============================] - 1s 21ms/step - loss: 15.3127 - mse: 523.7825\n",
            "Epoch 305/500\n",
            "55/55 [==============================] - 1s 22ms/step - loss: 15.2450 - mse: 520.8878\n",
            "Epoch 306/500\n",
            "55/55 [==============================] - 1s 23ms/step - loss: 15.3403 - mse: 523.6948\n",
            "Epoch 307/500\n",
            "55/55 [==============================] - 1s 22ms/step - loss: 15.1854 - mse: 519.6581\n",
            "Epoch 308/500\n",
            "55/55 [==============================] - 1s 22ms/step - loss: 15.1805 - mse: 519.5909\n",
            "Epoch 309/500\n",
            "55/55 [==============================] - 1s 22ms/step - loss: 15.1375 - mse: 518.3811\n",
            "Epoch 310/500\n",
            "55/55 [==============================] - 1s 22ms/step - loss: 15.1763 - mse: 518.9990\n",
            "Epoch 311/500\n",
            "55/55 [==============================] - 1s 22ms/step - loss: 15.2094 - mse: 519.6152\n",
            "Epoch 312/500\n",
            "55/55 [==============================] - 1s 21ms/step - loss: 15.3483 - mse: 524.0240\n",
            "Epoch 313/500\n",
            "55/55 [==============================] - 1s 22ms/step - loss: 15.1707 - mse: 518.5987\n",
            "Epoch 314/500\n",
            "55/55 [==============================] - 1s 22ms/step - loss: 15.1321 - mse: 516.5253\n",
            "Epoch 315/500\n",
            "55/55 [==============================] - 1s 21ms/step - loss: 15.2976 - mse: 522.0372\n",
            "Epoch 316/500\n",
            "55/55 [==============================] - 1s 22ms/step - loss: 15.3510 - mse: 522.8981\n",
            "Epoch 317/500\n",
            "55/55 [==============================] - 1s 22ms/step - loss: 15.1233 - mse: 516.7239\n",
            "Epoch 318/500\n",
            "55/55 [==============================] - 1s 21ms/step - loss: 15.1017 - mse: 516.0877\n",
            "Epoch 319/500\n",
            "55/55 [==============================] - 1s 21ms/step - loss: 15.1476 - mse: 516.8233\n",
            "Epoch 320/500\n",
            "55/55 [==============================] - 1s 21ms/step - loss: 15.2244 - mse: 519.6835\n",
            "Epoch 321/500\n",
            "55/55 [==============================] - 1s 22ms/step - loss: 15.1104 - mse: 516.0286\n",
            "Epoch 322/500\n",
            "55/55 [==============================] - 1s 22ms/step - loss: 15.1165 - mse: 515.8182\n",
            "Epoch 323/500\n",
            "55/55 [==============================] - 1s 22ms/step - loss: 15.0956 - mse: 515.3981\n",
            "Epoch 324/500\n",
            "55/55 [==============================] - 1s 21ms/step - loss: 15.1265 - mse: 515.9613\n",
            "Epoch 325/500\n",
            "55/55 [==============================] - 1s 22ms/step - loss: 15.1134 - mse: 515.4256\n",
            "Epoch 326/500\n",
            "55/55 [==============================] - 1s 22ms/step - loss: 15.1727 - mse: 516.0374\n",
            "Epoch 327/500\n",
            "55/55 [==============================] - 1s 21ms/step - loss: 15.0671 - mse: 514.0242\n",
            "Epoch 328/500\n",
            "55/55 [==============================] - 1s 22ms/step - loss: 15.2294 - mse: 518.5490\n",
            "Epoch 329/500\n",
            "55/55 [==============================] - 1s 22ms/step - loss: 15.1170 - mse: 515.7013\n",
            "Epoch 330/500\n",
            "55/55 [==============================] - 1s 21ms/step - loss: 15.0987 - mse: 515.1678\n",
            "Epoch 331/500\n",
            "55/55 [==============================] - 1s 22ms/step - loss: 15.0654 - mse: 513.7134\n",
            "Epoch 332/500\n",
            "55/55 [==============================] - 1s 20ms/step - loss: 15.0276 - mse: 512.6165\n",
            "Epoch 333/500\n",
            "55/55 [==============================] - 1s 21ms/step - loss: 15.0721 - mse: 514.1103\n",
            "Epoch 334/500\n",
            "55/55 [==============================] - 1s 20ms/step - loss: 14.9911 - mse: 511.4248\n",
            "Epoch 335/500\n",
            "55/55 [==============================] - 1s 21ms/step - loss: 15.2157 - mse: 518.2028\n",
            "Epoch 336/500\n",
            "55/55 [==============================] - 1s 21ms/step - loss: 15.0531 - mse: 513.7555\n",
            "Epoch 337/500\n",
            "55/55 [==============================] - 1s 22ms/step - loss: 15.0252 - mse: 512.8880\n",
            "Epoch 338/500\n",
            "55/55 [==============================] - 1s 22ms/step - loss: 15.0448 - mse: 512.2684\n",
            "Epoch 339/500\n",
            "55/55 [==============================] - 1s 22ms/step - loss: 15.0070 - mse: 511.5552\n",
            "Epoch 340/500\n",
            "55/55 [==============================] - 1s 23ms/step - loss: 15.0426 - mse: 512.4647\n",
            "Epoch 341/500\n",
            "55/55 [==============================] - 1s 24ms/step - loss: 15.0531 - mse: 513.5261\n",
            "Epoch 342/500\n",
            "55/55 [==============================] - 1s 24ms/step - loss: 15.1268 - mse: 514.8601\n",
            "Epoch 343/500\n",
            "55/55 [==============================] - 1s 22ms/step - loss: 15.0025 - mse: 510.0486\n",
            "Epoch 344/500\n",
            "55/55 [==============================] - 1s 23ms/step - loss: 15.1978 - mse: 516.3949\n",
            "Epoch 345/500\n",
            "55/55 [==============================] - 1s 24ms/step - loss: 14.9860 - mse: 510.7910\n",
            "Epoch 346/500\n",
            "55/55 [==============================] - 1s 23ms/step - loss: 14.9892 - mse: 509.9857\n",
            "Epoch 347/500\n",
            "55/55 [==============================] - 1s 23ms/step - loss: 15.1418 - mse: 514.6060\n",
            "Epoch 348/500\n",
            "55/55 [==============================] - 1s 22ms/step - loss: 14.9744 - mse: 510.8950\n",
            "Epoch 349/500\n",
            "55/55 [==============================] - 1s 21ms/step - loss: 15.0313 - mse: 511.2755\n",
            "Epoch 350/500\n",
            "55/55 [==============================] - 1s 21ms/step - loss: 15.0170 - mse: 509.9225\n",
            "Epoch 351/500\n",
            "55/55 [==============================] - 1s 21ms/step - loss: 14.9902 - mse: 509.7173\n",
            "Epoch 352/500\n",
            "55/55 [==============================] - 1s 22ms/step - loss: 15.0347 - mse: 510.5844\n",
            "Epoch 353/500\n",
            "55/55 [==============================] - 1s 22ms/step - loss: 14.9226 - mse: 507.9407\n",
            "Epoch 354/500\n",
            "55/55 [==============================] - 1s 22ms/step - loss: 14.9577 - mse: 509.1458\n",
            "Epoch 355/500\n",
            "55/55 [==============================] - 1s 21ms/step - loss: 14.9134 - mse: 507.3127\n",
            "Epoch 356/500\n",
            "55/55 [==============================] - 1s 22ms/step - loss: 15.1116 - mse: 513.4657\n",
            "Epoch 357/500\n",
            "55/55 [==============================] - 1s 21ms/step - loss: 15.0862 - mse: 512.0228\n",
            "Epoch 358/500\n",
            "55/55 [==============================] - 1s 22ms/step - loss: 14.9344 - mse: 508.4188\n",
            "Epoch 359/500\n",
            "55/55 [==============================] - 1s 22ms/step - loss: 14.9874 - mse: 509.2645\n",
            "Epoch 360/500\n",
            "55/55 [==============================] - 1s 21ms/step - loss: 14.9126 - mse: 506.4624\n",
            "Epoch 361/500\n",
            "55/55 [==============================] - 1s 22ms/step - loss: 14.9499 - mse: 507.8059\n",
            "Epoch 362/500\n",
            "55/55 [==============================] - 1s 21ms/step - loss: 14.9635 - mse: 508.0373\n",
            "Epoch 363/500\n",
            "55/55 [==============================] - 1s 22ms/step - loss: 14.9690 - mse: 508.5104\n",
            "Epoch 364/500\n",
            "55/55 [==============================] - 1s 23ms/step - loss: 14.9500 - mse: 507.4440\n",
            "Epoch 365/500\n",
            "55/55 [==============================] - 1s 23ms/step - loss: 14.8535 - mse: 504.6594\n",
            "Epoch 366/500\n",
            "55/55 [==============================] - 1s 22ms/step - loss: 15.1014 - mse: 512.3892\n",
            "Epoch 367/500\n",
            "55/55 [==============================] - 1s 22ms/step - loss: 14.8668 - mse: 504.9910\n",
            "Epoch 368/500\n",
            "55/55 [==============================] - 1s 22ms/step - loss: 14.9129 - mse: 506.1087\n",
            "Epoch 369/500\n",
            "55/55 [==============================] - 1s 22ms/step - loss: 14.9474 - mse: 507.4166\n",
            "Epoch 370/500\n",
            "55/55 [==============================] - 1s 22ms/step - loss: 14.8627 - mse: 504.9673\n",
            "Epoch 371/500\n",
            "55/55 [==============================] - 1s 22ms/step - loss: 14.9716 - mse: 507.6577\n",
            "Epoch 372/500\n",
            "55/55 [==============================] - 1s 21ms/step - loss: 14.9274 - mse: 505.8689\n",
            "Epoch 373/500\n",
            "55/55 [==============================] - 1s 22ms/step - loss: 14.9104 - mse: 505.8984\n",
            "Epoch 374/500\n",
            "55/55 [==============================] - 1s 22ms/step - loss: 14.8442 - mse: 503.9241\n",
            "Epoch 375/500\n",
            "55/55 [==============================] - 1s 21ms/step - loss: 14.8564 - mse: 504.5006\n",
            "Epoch 376/500\n",
            "55/55 [==============================] - 1s 22ms/step - loss: 14.8435 - mse: 504.1497\n",
            "Epoch 377/500\n",
            "55/55 [==============================] - 1s 22ms/step - loss: 14.8346 - mse: 502.6140\n",
            "Epoch 378/500\n",
            "55/55 [==============================] - 1s 21ms/step - loss: 14.8783 - mse: 504.1138\n",
            "Epoch 379/500\n",
            "55/55 [==============================] - 1s 21ms/step - loss: 14.7913 - mse: 501.9727\n",
            "Epoch 380/500\n",
            "55/55 [==============================] - 1s 22ms/step - loss: 14.8471 - mse: 503.0159\n",
            "Epoch 381/500\n",
            "55/55 [==============================] - 1s 22ms/step - loss: 14.7437 - mse: 501.0054\n",
            "Epoch 382/500\n",
            "55/55 [==============================] - 1s 23ms/step - loss: 14.9187 - mse: 504.4731\n",
            "Epoch 383/500\n",
            "55/55 [==============================] - 1s 22ms/step - loss: 14.9055 - mse: 504.3324\n",
            "Epoch 384/500\n",
            "55/55 [==============================] - 1s 22ms/step - loss: 14.7722 - mse: 500.9950\n",
            "Epoch 385/500\n",
            "55/55 [==============================] - 1s 21ms/step - loss: 14.7959 - mse: 500.6030\n",
            "Epoch 386/500\n",
            "55/55 [==============================] - 1s 22ms/step - loss: 14.8792 - mse: 502.9659\n",
            "Epoch 387/500\n",
            "55/55 [==============================] - 1s 22ms/step - loss: 15.0465 - mse: 508.0849\n",
            "Epoch 388/500\n",
            "55/55 [==============================] - 1s 22ms/step - loss: 14.7784 - mse: 500.2973\n",
            "Epoch 389/500\n",
            "55/55 [==============================] - 1s 23ms/step - loss: 14.7312 - mse: 499.5356\n",
            "Epoch 390/500\n",
            "55/55 [==============================] - 1s 22ms/step - loss: 14.7656 - mse: 500.0871\n",
            "Epoch 391/500\n",
            "55/55 [==============================] - 1s 21ms/step - loss: 14.7613 - mse: 499.8329\n",
            "Epoch 392/500\n",
            "55/55 [==============================] - 1s 22ms/step - loss: 14.7739 - mse: 499.2792\n",
            "Epoch 393/500\n",
            "55/55 [==============================] - 1s 22ms/step - loss: 14.7223 - mse: 498.5649\n",
            "Epoch 394/500\n",
            "55/55 [==============================] - 1s 21ms/step - loss: 14.7413 - mse: 499.2239\n",
            "Epoch 395/500\n",
            "55/55 [==============================] - 1s 22ms/step - loss: 14.7119 - mse: 497.9709\n",
            "Epoch 396/500\n",
            "55/55 [==============================] - 1s 22ms/step - loss: 14.7168 - mse: 498.3500\n",
            "Epoch 397/500\n",
            "55/55 [==============================] - 1s 22ms/step - loss: 14.6875 - mse: 497.2437\n",
            "Epoch 398/500\n",
            "55/55 [==============================] - 1s 21ms/step - loss: 14.6851 - mse: 496.3531\n",
            "Epoch 399/500\n",
            "55/55 [==============================] - 1s 21ms/step - loss: 14.6683 - mse: 496.3130\n",
            "Epoch 400/500\n",
            "55/55 [==============================] - 1s 21ms/step - loss: 14.7104 - mse: 497.2093\n",
            "Epoch 401/500\n",
            "55/55 [==============================] - 1s 21ms/step - loss: 14.6643 - mse: 495.6042\n",
            "Epoch 402/500\n",
            "55/55 [==============================] - 1s 22ms/step - loss: 14.7736 - mse: 498.2323\n",
            "Epoch 403/500\n",
            "55/55 [==============================] - 1s 22ms/step - loss: 14.6911 - mse: 496.1299\n",
            "Epoch 404/500\n",
            "55/55 [==============================] - 1s 23ms/step - loss: 14.6233 - mse: 493.8796\n",
            "Epoch 405/500\n",
            "55/55 [==============================] - 1s 23ms/step - loss: 14.6962 - mse: 496.3140\n",
            "Epoch 406/500\n",
            "55/55 [==============================] - 1s 23ms/step - loss: 14.6298 - mse: 493.8821\n",
            "Epoch 407/500\n",
            "55/55 [==============================] - 1s 22ms/step - loss: 14.6628 - mse: 495.2344\n",
            "Epoch 408/500\n",
            "55/55 [==============================] - 1s 23ms/step - loss: 14.6354 - mse: 494.6729\n",
            "Epoch 409/500\n",
            "55/55 [==============================] - 1s 22ms/step - loss: 14.6377 - mse: 493.4548\n",
            "Epoch 410/500\n",
            "55/55 [==============================] - 1s 23ms/step - loss: 14.6890 - mse: 495.6144\n",
            "Epoch 411/500\n",
            "55/55 [==============================] - 1s 22ms/step - loss: 14.6465 - mse: 494.4679\n",
            "Epoch 412/500\n",
            "55/55 [==============================] - 1s 22ms/step - loss: 14.5925 - mse: 491.8616\n",
            "Epoch 413/500\n",
            "55/55 [==============================] - 1s 21ms/step - loss: 14.5589 - mse: 491.4474\n",
            "Epoch 414/500\n",
            "55/55 [==============================] - 1s 21ms/step - loss: 14.5824 - mse: 491.9142\n",
            "Epoch 415/500\n",
            "55/55 [==============================] - 1s 23ms/step - loss: 14.8717 - mse: 499.8647\n",
            "Epoch 416/500\n",
            "55/55 [==============================] - 1s 22ms/step - loss: 14.6391 - mse: 492.4900\n",
            "Epoch 417/500\n",
            "55/55 [==============================] - 1s 23ms/step - loss: 14.6359 - mse: 492.5565\n",
            "Epoch 418/500\n",
            "55/55 [==============================] - 1s 21ms/step - loss: 14.6667 - mse: 493.3267\n",
            "Epoch 419/500\n",
            "55/55 [==============================] - 1s 22ms/step - loss: 14.5735 - mse: 491.4326\n",
            "Epoch 420/500\n",
            "55/55 [==============================] - 1s 21ms/step - loss: 14.5171 - mse: 488.9428\n",
            "Epoch 421/500\n",
            "55/55 [==============================] - 1s 21ms/step - loss: 14.6117 - mse: 491.9968\n",
            "Epoch 422/500\n",
            "55/55 [==============================] - 1s 22ms/step - loss: 14.5344 - mse: 489.6187\n",
            "Epoch 423/500\n",
            "55/55 [==============================] - 1s 22ms/step - loss: 14.5758 - mse: 490.8472\n",
            "Epoch 424/500\n",
            "55/55 [==============================] - 1s 22ms/step - loss: 14.5183 - mse: 489.1112\n",
            "Epoch 425/500\n",
            "55/55 [==============================] - 1s 22ms/step - loss: 14.5512 - mse: 489.8866\n",
            "Epoch 426/500\n",
            "55/55 [==============================] - 1s 22ms/step - loss: 14.5743 - mse: 490.3155\n",
            "Epoch 427/500\n",
            "55/55 [==============================] - 1s 22ms/step - loss: 14.5350 - mse: 488.8171\n",
            "Epoch 428/500\n",
            "55/55 [==============================] - 1s 22ms/step - loss: 14.5265 - mse: 489.0107\n",
            "Epoch 429/500\n",
            "55/55 [==============================] - 1s 22ms/step - loss: 14.5532 - mse: 489.6989\n",
            "Epoch 430/500\n",
            "55/55 [==============================] - 1s 23ms/step - loss: 14.5947 - mse: 491.2392\n",
            "Epoch 431/500\n",
            "55/55 [==============================] - 1s 22ms/step - loss: 14.5488 - mse: 488.7762\n",
            "Epoch 432/500\n",
            "55/55 [==============================] - 1s 22ms/step - loss: 14.4746 - mse: 487.2003\n",
            "Epoch 433/500\n",
            "55/55 [==============================] - 1s 21ms/step - loss: 14.6467 - mse: 491.5184\n",
            "Epoch 434/500\n",
            "55/55 [==============================] - 1s 22ms/step - loss: 14.5717 - mse: 489.3046\n",
            "Epoch 435/500\n",
            "55/55 [==============================] - 1s 22ms/step - loss: 14.5127 - mse: 487.6798\n",
            "Epoch 436/500\n",
            "55/55 [==============================] - 1s 22ms/step - loss: 14.6284 - mse: 490.8582\n",
            "Epoch 437/500\n",
            "55/55 [==============================] - 1s 21ms/step - loss: 14.4726 - mse: 486.5732\n",
            "Epoch 438/500\n",
            "55/55 [==============================] - 1s 21ms/step - loss: 14.4656 - mse: 485.4034\n",
            "Epoch 439/500\n",
            "55/55 [==============================] - 1s 21ms/step - loss: 14.4804 - mse: 486.1642\n",
            "Epoch 440/500\n",
            "55/55 [==============================] - 1s 21ms/step - loss: 14.4175 - mse: 484.3719\n",
            "Epoch 441/500\n",
            "55/55 [==============================] - 1s 22ms/step - loss: 14.4591 - mse: 485.4345\n",
            "Epoch 442/500\n",
            "55/55 [==============================] - 1s 23ms/step - loss: 14.4385 - mse: 484.2705\n",
            "Epoch 443/500\n",
            "55/55 [==============================] - 1s 22ms/step - loss: 14.4674 - mse: 485.3411\n",
            "Epoch 444/500\n",
            "55/55 [==============================] - 1s 22ms/step - loss: 14.4496 - mse: 484.6575\n",
            "Epoch 445/500\n",
            "55/55 [==============================] - 1s 22ms/step - loss: 14.3864 - mse: 482.3344\n",
            "Epoch 446/500\n",
            "55/55 [==============================] - 1s 22ms/step - loss: 14.5193 - mse: 486.5222\n",
            "Epoch 447/500\n",
            "55/55 [==============================] - 1s 22ms/step - loss: 14.3860 - mse: 482.2877\n",
            "Epoch 448/500\n",
            "55/55 [==============================] - 1s 22ms/step - loss: 14.3819 - mse: 482.4692\n",
            "Epoch 449/500\n",
            "55/55 [==============================] - 1s 21ms/step - loss: 14.4295 - mse: 483.7406\n",
            "Epoch 450/500\n",
            "55/55 [==============================] - 1s 21ms/step - loss: 14.4903 - mse: 485.3924\n",
            "Epoch 451/500\n",
            "55/55 [==============================] - 1s 23ms/step - loss: 14.3205 - mse: 480.8922\n",
            "Epoch 452/500\n",
            "55/55 [==============================] - 1s 22ms/step - loss: 14.3493 - mse: 480.3015\n",
            "Epoch 453/500\n",
            "55/55 [==============================] - 1s 22ms/step - loss: 14.3635 - mse: 481.5178\n",
            "Epoch 454/500\n",
            "55/55 [==============================] - 1s 22ms/step - loss: 14.3193 - mse: 479.6523\n",
            "Epoch 455/500\n",
            "55/55 [==============================] - 1s 22ms/step - loss: 14.3830 - mse: 481.1608\n",
            "Epoch 456/500\n",
            "55/55 [==============================] - 1s 22ms/step - loss: 14.4678 - mse: 483.4167\n",
            "Epoch 457/500\n",
            "55/55 [==============================] - 1s 23ms/step - loss: 14.4964 - mse: 485.5943\n",
            "Epoch 458/500\n",
            "55/55 [==============================] - 1s 22ms/step - loss: 14.3664 - mse: 481.5941\n",
            "Epoch 459/500\n",
            "55/55 [==============================] - 1s 22ms/step - loss: 14.2883 - mse: 478.7716\n",
            "Epoch 460/500\n",
            "55/55 [==============================] - 1s 22ms/step - loss: 14.5777 - mse: 486.9048\n",
            "Epoch 461/500\n",
            "55/55 [==============================] - 1s 21ms/step - loss: 14.2671 - mse: 478.7570\n",
            "Epoch 462/500\n",
            "55/55 [==============================] - 1s 22ms/step - loss: 14.3308 - mse: 479.4272\n",
            "Epoch 463/500\n",
            "55/55 [==============================] - 1s 21ms/step - loss: 14.5929 - mse: 487.1526\n",
            "Epoch 464/500\n",
            "55/55 [==============================] - 1s 22ms/step - loss: 14.3211 - mse: 478.7945\n",
            "Epoch 465/500\n",
            "55/55 [==============================] - 1s 22ms/step - loss: 14.3006 - mse: 478.3832\n",
            "Epoch 466/500\n",
            "55/55 [==============================] - 1s 22ms/step - loss: 14.3167 - mse: 478.4557\n",
            "Epoch 467/500\n",
            "55/55 [==============================] - 1s 21ms/step - loss: 14.3832 - mse: 481.1425\n",
            "Epoch 468/500\n",
            "55/55 [==============================] - 1s 22ms/step - loss: 14.2786 - mse: 477.3547\n",
            "Epoch 469/500\n",
            "55/55 [==============================] - 1s 22ms/step - loss: 14.2935 - mse: 477.5681\n",
            "Epoch 470/500\n",
            "55/55 [==============================] - 1s 22ms/step - loss: 14.2956 - mse: 477.0497\n",
            "Epoch 471/500\n",
            "55/55 [==============================] - 1s 21ms/step - loss: 14.3316 - mse: 477.8706\n",
            "Epoch 472/500\n",
            "55/55 [==============================] - 1s 22ms/step - loss: 14.2997 - mse: 477.0711\n",
            "Epoch 473/500\n",
            "55/55 [==============================] - 1s 21ms/step - loss: 14.2028 - mse: 475.1872\n",
            "Epoch 474/500\n",
            "55/55 [==============================] - 1s 22ms/step - loss: 14.3348 - mse: 478.0893\n",
            "Epoch 475/500\n",
            "55/55 [==============================] - 1s 21ms/step - loss: 14.2305 - mse: 476.3888\n",
            "Epoch 476/500\n",
            "55/55 [==============================] - 1s 22ms/step - loss: 14.3179 - mse: 477.1370\n",
            "Epoch 477/500\n",
            "55/55 [==============================] - 1s 21ms/step - loss: 14.2628 - mse: 475.5641\n",
            "Epoch 478/500\n",
            "55/55 [==============================] - 1s 22ms/step - loss: 14.3870 - mse: 478.7822\n",
            "Epoch 479/500\n",
            "55/55 [==============================] - 1s 23ms/step - loss: 14.2655 - mse: 475.8471\n",
            "Epoch 480/500\n",
            "55/55 [==============================] - 1s 23ms/step - loss: 14.2130 - mse: 474.6435\n",
            "Epoch 481/500\n",
            "55/55 [==============================] - 1s 23ms/step - loss: 14.2351 - mse: 474.9031\n",
            "Epoch 482/500\n",
            "55/55 [==============================] - 1s 23ms/step - loss: 14.3319 - mse: 477.5154\n",
            "Epoch 483/500\n",
            "55/55 [==============================] - 1s 23ms/step - loss: 14.2227 - mse: 474.6394\n",
            "Epoch 484/500\n",
            "55/55 [==============================] - 1s 21ms/step - loss: 14.1999 - mse: 473.9020\n",
            "Epoch 485/500\n",
            "55/55 [==============================] - 1s 23ms/step - loss: 14.2128 - mse: 473.5349\n",
            "Epoch 486/500\n",
            "55/55 [==============================] - 1s 23ms/step - loss: 14.3396 - mse: 477.1307\n",
            "Epoch 487/500\n",
            "55/55 [==============================] - 1s 22ms/step - loss: 14.2592 - mse: 474.6252\n",
            "Epoch 488/500\n",
            "55/55 [==============================] - 1s 22ms/step - loss: 14.2647 - mse: 474.6173\n",
            "Epoch 489/500\n",
            "55/55 [==============================] - 1s 22ms/step - loss: 14.1097 - mse: 470.4556\n",
            "Epoch 490/500\n",
            "55/55 [==============================] - 1s 22ms/step - loss: 14.1536 - mse: 472.0785\n",
            "Epoch 491/500\n",
            "55/55 [==============================] - 1s 22ms/step - loss: 14.3229 - mse: 475.9113\n",
            "Epoch 492/500\n",
            "55/55 [==============================] - 1s 22ms/step - loss: 14.1743 - mse: 472.5438\n",
            "Epoch 493/500\n",
            "55/55 [==============================] - 1s 22ms/step - loss: 14.1598 - mse: 471.3082\n",
            "Epoch 494/500\n",
            "55/55 [==============================] - 1s 22ms/step - loss: 14.1721 - mse: 471.7926\n",
            "Epoch 495/500\n",
            "55/55 [==============================] - 1s 23ms/step - loss: 14.1260 - mse: 469.8281\n",
            "Epoch 496/500\n",
            "55/55 [==============================] - 1s 24ms/step - loss: 14.4595 - mse: 481.0098\n",
            "Epoch 497/500\n",
            "55/55 [==============================] - 1s 22ms/step - loss: 14.2119 - mse: 473.9083\n",
            "Epoch 498/500\n",
            "55/55 [==============================] - 1s 22ms/step - loss: 14.2510 - mse: 473.4272\n",
            "Epoch 499/500\n",
            "55/55 [==============================] - 1s 22ms/step - loss: 14.1716 - mse: 471.0445\n",
            "Epoch 500/500\n",
            "55/55 [==============================] - 1s 22ms/step - loss: 14.1217 - mse: 468.7283\n"
          ],
          "name": "stdout"
        }
      ]
    },
    {
      "cell_type": "code",
      "metadata": {
        "colab": {
          "base_uri": "https://localhost:8080/"
        },
        "id": "V1FbQjzB-egq",
        "outputId": "cade7948-e879-41a1-f08e-741f1f5dcb7c"
      },
      "source": [
        "model.summary()"
      ],
      "execution_count": 61,
      "outputs": [
        {
          "output_type": "stream",
          "text": [
            "Model: \"sequential\"\n",
            "_________________________________________________________________\n",
            "Layer (type)                 Output Shape              Param #   \n",
            "=================================================================\n",
            "conv1d (Conv1D)              (None, None, 60)          360       \n",
            "_________________________________________________________________\n",
            "lstm (LSTM)                  (None, None, 60)          29040     \n",
            "_________________________________________________________________\n",
            "lstm_1 (LSTM)                (None, None, 60)          29040     \n",
            "_________________________________________________________________\n",
            "dense (Dense)                (None, None, 30)          1830      \n",
            "_________________________________________________________________\n",
            "dense_1 (Dense)              (None, None, 10)          310       \n",
            "_________________________________________________________________\n",
            "dense_2 (Dense)              (None, None, 1)           11        \n",
            "_________________________________________________________________\n",
            "lambda (Lambda)              (None, None, 1)           0         \n",
            "=================================================================\n",
            "Total params: 60,591\n",
            "Trainable params: 60,591\n",
            "Non-trainable params: 0\n",
            "_________________________________________________________________\n"
          ],
          "name": "stdout"
        }
      ]
    },
    {
      "cell_type": "code",
      "metadata": {
        "colab": {
          "base_uri": "https://localhost:8080/"
        },
        "id": "Ufo1O5S_g3sS",
        "outputId": "51909757-200d-4908-b652-8d08f09fef8e"
      },
      "source": [
        "series.shape"
      ],
      "execution_count": 38,
      "outputs": [
        {
          "output_type": "execute_result",
          "data": {
            "text/plain": [
              "(8040,)"
            ]
          },
          "metadata": {
            "tags": []
          },
          "execution_count": 38
        }
      ]
    },
    {
      "cell_type": "code",
      "metadata": {
        "id": "FbWVCPfNfCLM"
      },
      "source": [
        "rnn_forecast = model_forecast(model, series[..., np.newaxis], window_size)"
      ],
      "execution_count": 39,
      "outputs": []
    },
    {
      "cell_type": "code",
      "metadata": {
        "id": "315hEz_YlDl9"
      },
      "source": [
        "#print(\"train_set shape ={}\".format(len(train_set)))\n",
        "#print(\"rnn_forecast shape ={}\".format(rnn_forecast[:,:,:].shape))"
      ],
      "execution_count": 46,
      "outputs": []
    },
    {
      "cell_type": "code",
      "metadata": {
        "id": "OAfY5MFU9Z9z"
      },
      "source": [
        "rnn_forecast_totalpoints = rnn_forecast[:, :, :]"
      ],
      "execution_count": 56,
      "outputs": []
    },
    {
      "cell_type": "code",
      "metadata": {
        "colab": {
          "base_uri": "https://localhost:8080/"
        },
        "id": "8Uy5QDMG9f2a",
        "outputId": "a14e927c-78d1-4937-bbe6-e655534bf946"
      },
      "source": [
        "rnn_forecast_totalpoints.shape"
      ],
      "execution_count": 57,
      "outputs": [
        {
          "output_type": "execute_result",
          "data": {
            "text/plain": [
              "(7969, 72, 1)"
            ]
          },
          "metadata": {
            "tags": []
          },
          "execution_count": 57
        }
      ]
    },
    {
      "cell_type": "code",
      "metadata": {
        "id": "6---TkjClWiZ"
      },
      "source": [
        "rnn_forecast_1d = rnn_forecast[split_time - window_size:-1, -1, 0]"
      ],
      "execution_count": 40,
      "outputs": []
    },
    {
      "cell_type": "code",
      "metadata": {
        "id": "DVGSuI6GhC7Z"
      },
      "source": [
        "# last_value = rnn_forecast[-1,:,:]\n",
        "# next_pred = model_forecast(model, last_value, window_size)"
      ],
      "execution_count": null,
      "outputs": []
    },
    {
      "cell_type": "code",
      "metadata": {
        "colab": {
          "base_uri": "https://localhost:8080/",
          "height": 386
        },
        "id": "XXxKSZUZfCIi",
        "outputId": "2922ba90-a687-4c3d-b8fe-90fea8a2d6ed"
      },
      "source": [
        "plt.figure(figsize=(10, 6))\n",
        "plot_series(time_valid, x_valid)\n",
        "plot_series(time_valid, rnn_forecast_1d)"
      ],
      "execution_count": 53,
      "outputs": [
        {
          "output_type": "display_data",
          "data": {
            "image/png": "[encoded data removed]",
            "text/plain": [
              "<Figure size 720x432 with 1 Axes>"
            ]
          },
          "metadata": {
            "tags": [],
            "needs_background": "light"
          }
        }
      ]
    },
    {
      "cell_type": "code",
      "metadata": {
        "colab": {
          "base_uri": "https://localhost:8080/",
          "height": 386
        },
        "id": "zaFN-YDhfCF6",
        "outputId": "83fc03af-d6fb-4d15-8e1c-1ec79837e7b8"
      },
      "source": [
        "plt.figure(figsize=(10, 6))\n",
        "plot_series(time_valid[-288:], x_valid[-288:])\n",
        "plot_series(time_valid[-288:], rnn_forecast_1d[-288:])"
      ],
      "execution_count": 54,
      "outputs": [
        {
          "output_type": "display_data",
          "data": {
            "image/png": "[encoded data removed]",
            "text/plain": [
              "<Figure size 720x432 with 1 Axes>"
            ]
          },
          "metadata": {
            "tags": [],
            "needs_background": "light"
          }
        }
      ]
    },
    {
      "cell_type": "code",
      "metadata": {
        "id": "-5HvGTigfCDI",
        "colab": {
          "base_uri": "https://localhost:8080/",
          "height": 386
        },
        "outputId": "01d33c62-23df-42c1-b21d-befe698b8abb"
      },
      "source": [
        "plt.figure(figsize=(10, 6))\n",
        "plot_series(time_valid[-24:], x_valid[-24:])\n",
        "plot_series(time_valid[-24:], rnn_forecast_1d[-24:])"
      ],
      "execution_count": 55,
      "outputs": [
        {
          "output_type": "display_data",
          "data": {
            "image/png": "[encoded data removed]",
            "text/plain": [
              "<Figure size 720x432 with 1 Axes>"
            ]
          },
          "metadata": {
            "tags": [],
            "needs_background": "light"
          }
        }
      ]
    },
    {
      "cell_type": "code",
      "metadata": {
        "id": "N-FqUY3GfCAf"
      },
      "source": [
        "#get the last_value from the predictions on the test set and add back the array to the input\n",
        "\n",
        "last_value = rnn_forecast_totalpoints[-1,:,:]\n"
      ],
      "execution_count": 72,
      "outputs": []
    },
    {
      "cell_type": "code",
      "metadata": {
        "id": "-UwGdPUufB9p",
        "colab": {
          "base_uri": "https://localhost:8080/"
        },
        "outputId": "de16e665-7931-4665-fa67-51e1125c07df"
      },
      "source": [
        "last_value.shape"
      ],
      "execution_count": 73,
      "outputs": [
        {
          "output_type": "execute_result",
          "data": {
            "text/plain": [
              "(72, 1)"
            ]
          },
          "metadata": {
            "tags": []
          },
          "execution_count": 73
        }
      ]
    },
    {
      "cell_type": "code",
      "metadata": {
        "colab": {
          "base_uri": "https://localhost:8080/"
        },
        "id": "T_v1B-57_MPD",
        "outputId": "41c8b047-c72a-4dde-e58d-6ebb4907fdee"
      },
      "source": [
        "last_value"
      ],
      "execution_count": 74,
      "outputs": [
        {
          "output_type": "execute_result",
          "data": {
            "text/plain": [
              "array([[85.3927  ],\n",
              "       [67.67813 ],\n",
              "       [72.983894],\n",
              "       [68.46228 ],\n",
              "       [74.97224 ],\n",
              "       [ 9.781778],\n",
              "       [24.888212],\n",
              "       [16.38158 ],\n",
              "       [67.82114 ],\n",
              "       [44.267757],\n",
              "       [57.637566],\n",
              "       [75.700806],\n",
              "       [79.34611 ],\n",
              "       [81.0798  ],\n",
              "       [86.11122 ],\n",
              "       [86.104744],\n",
              "       [88.48356 ],\n",
              "       [82.36823 ],\n",
              "       [86.1845  ],\n",
              "       [92.15298 ],\n",
              "       [71.559074],\n",
              "       [79.05523 ],\n",
              "       [95.27601 ],\n",
              "       [55.505657],\n",
              "       [65.689445],\n",
              "       [84.22699 ],\n",
              "       [89.58238 ],\n",
              "       [88.45624 ],\n",
              "       [90.523865],\n",
              "       [91.5902  ],\n",
              "       [89.4392  ],\n",
              "       [94.05712 ],\n",
              "       [92.339554],\n",
              "       [82.67945 ],\n",
              "       [98.102554],\n",
              "       [82.36294 ],\n",
              "       [91.37191 ],\n",
              "       [78.75147 ],\n",
              "       [63.16999 ],\n",
              "       [63.090992],\n",
              "       [38.632877],\n",
              "       [26.634212],\n",
              "       [58.952595],\n",
              "       [64.55679 ],\n",
              "       [76.86461 ],\n",
              "       [66.95081 ],\n",
              "       [80.07621 ],\n",
              "       [81.31315 ],\n",
              "       [97.42618 ],\n",
              "       [84.41446 ],\n",
              "       [64.81414 ],\n",
              "       [62.571465],\n",
              "       [53.425674],\n",
              "       [48.17943 ],\n",
              "       [49.498432],\n",
              "       [61.624916],\n",
              "       [76.872116],\n",
              "       [71.4219  ],\n",
              "       [72.19989 ],\n",
              "       [76.194016],\n",
              "       [75.12271 ],\n",
              "       [85.39064 ],\n",
              "       [88.1719  ],\n",
              "       [85.32703 ],\n",
              "       [84.356224],\n",
              "       [85.29483 ],\n",
              "       [93.01122 ],\n",
              "       [92.53431 ],\n",
              "       [88.28341 ],\n",
              "       [90.102005],\n",
              "       [83.88257 ],\n",
              "       [87.568115]], dtype=float32)"
            ]
          },
          "metadata": {
            "tags": []
          },
          "execution_count": 74
        }
      ]
    },
    {
      "cell_type": "code",
      "metadata": {
        "colab": {
          "base_uri": "https://localhost:8080/"
        },
        "id": "zs6g-nQc_kG1",
        "outputId": "5a7da943-865d-4c71-ae34-47661e157dab"
      },
      "source": [
        "last_value.shape"
      ],
      "execution_count": 78,
      "outputs": [
        {
          "output_type": "execute_result",
          "data": {
            "text/plain": [
              "(72, 1)"
            ]
          },
          "metadata": {
            "tags": []
          },
          "execution_count": 78
        }
      ]
    },
    {
      "cell_type": "code",
      "metadata": {
        "id": "mZYQVeOkfB6o"
      },
      "source": [
        "next_pred1 = model_forecast(model, last_value, window_size)"
      ],
      "execution_count": 75,
      "outputs": []
    },
    {
      "cell_type": "code",
      "metadata": {
        "id": "Jol0Iq_YNKvl",
        "colab": {
          "base_uri": "https://localhost:8080/"
        },
        "outputId": "c4607a3f-baed-4ffb-b27b-2a8b751925f1"
      },
      "source": [
        "next_pred1"
      ],
      "execution_count": 76,
      "outputs": [
        {
          "output_type": "execute_result",
          "data": {
            "text/plain": [
              "array([[[87.47198 ],\n",
              "        [82.56332 ],\n",
              "        [83.15716 ],\n",
              "        [86.114136],\n",
              "        [81.337166],\n",
              "        [79.22663 ],\n",
              "        [68.39432 ],\n",
              "        [41.94712 ],\n",
              "        [53.591625],\n",
              "        [57.382233],\n",
              "        [56.897335],\n",
              "        [43.867523],\n",
              "        [68.69658 ],\n",
              "        [74.29326 ],\n",
              "        [74.0513  ],\n",
              "        [75.64844 ],\n",
              "        [77.103615],\n",
              "        [78.24715 ],\n",
              "        [80.63444 ],\n",
              "        [83.92573 ],\n",
              "        [83.649826],\n",
              "        [82.487015],\n",
              "        [84.236595],\n",
              "        [85.7687  ],\n",
              "        [83.58371 ],\n",
              "        [80.929634],\n",
              "        [85.68096 ],\n",
              "        [85.78887 ],\n",
              "        [86.01846 ],\n",
              "        [88.553444],\n",
              "        [89.87101 ],\n",
              "        [91.105125],\n",
              "        [92.68527 ],\n",
              "        [91.43328 ],\n",
              "        [92.24184 ],\n",
              "        [93.25982 ],\n",
              "        [92.29691 ],\n",
              "        [91.4913  ],\n",
              "        [87.36088 ],\n",
              "        [81.18688 ],\n",
              "        [73.74923 ],\n",
              "        [62.054455],\n",
              "        [87.58565 ],\n",
              "        [84.94372 ],\n",
              "        [86.24307 ],\n",
              "        [84.40594 ],\n",
              "        [79.2349  ],\n",
              "        [75.35398 ],\n",
              "        [76.95252 ],\n",
              "        [75.36436 ],\n",
              "        [72.25463 ],\n",
              "        [67.96896 ],\n",
              "        [58.833355],\n",
              "        [58.66115 ],\n",
              "        [61.2889  ],\n",
              "        [70.966705],\n",
              "        [70.81649 ],\n",
              "        [70.0132  ],\n",
              "        [67.04048 ],\n",
              "        [66.96052 ],\n",
              "        [69.61304 ],\n",
              "        [72.15688 ],\n",
              "        [74.711586],\n",
              "        [77.02546 ],\n",
              "        [77.89398 ],\n",
              "        [80.71921 ],\n",
              "        [84.28793 ],\n",
              "        [86.924835],\n",
              "        [87.95617 ],\n",
              "        [88.773796],\n",
              "        [89.53179 ],\n",
              "        [90.1366  ]]], dtype=float32)"
            ]
          },
          "metadata": {
            "tags": []
          },
          "execution_count": 76
        }
      ]
    },
    {
      "cell_type": "code",
      "metadata": {
        "colab": {
          "base_uri": "https://localhost:8080/"
        },
        "id": "o0yePSey_mnU",
        "outputId": "b9eb4894-41a5-4f84-d0c0-a18bc37e4022"
      },
      "source": [
        "next_pred1.shape"
      ],
      "execution_count": 79,
      "outputs": [
        {
          "output_type": "execute_result",
          "data": {
            "text/plain": [
              "(1, 72, 1)"
            ]
          },
          "metadata": {
            "tags": []
          },
          "execution_count": 79
        }
      ]
    },
    {
      "cell_type": "code",
      "metadata": {
        "id": "jWn-LU_K_7aT"
      },
      "source": [
        "second_input = next_pred1[-1,:,:]"
      ],
      "execution_count": 80,
      "outputs": []
    },
    {
      "cell_type": "code",
      "metadata": {
        "colab": {
          "base_uri": "https://localhost:8080/"
        },
        "id": "DypCwcA-AFtj",
        "outputId": "fdd272af-614d-43f6-88e1-c5c7993d91cf"
      },
      "source": [
        "second_input.shape"
      ],
      "execution_count": 81,
      "outputs": [
        {
          "output_type": "execute_result",
          "data": {
            "text/plain": [
              "(72, 1)"
            ]
          },
          "metadata": {
            "tags": []
          },
          "execution_count": 81
        }
      ]
    },
    {
      "cell_type": "code",
      "metadata": {
        "colab": {
          "base_uri": "https://localhost:8080/"
        },
        "id": "XB22NaAOAYMN",
        "outputId": "de064c9c-10d3-4621-bbab-98048fdccdf7"
      },
      "source": [
        "second_input"
      ],
      "execution_count": 84,
      "outputs": [
        {
          "output_type": "execute_result",
          "data": {
            "text/plain": [
              "array([[87.47198 ],\n",
              "       [82.56332 ],\n",
              "       [83.15716 ],\n",
              "       [86.114136],\n",
              "       [81.337166],\n",
              "       [79.22663 ],\n",
              "       [68.39432 ],\n",
              "       [41.94712 ],\n",
              "       [53.591625],\n",
              "       [57.382233],\n",
              "       [56.897335],\n",
              "       [43.867523],\n",
              "       [68.69658 ],\n",
              "       [74.29326 ],\n",
              "       [74.0513  ],\n",
              "       [75.64844 ],\n",
              "       [77.103615],\n",
              "       [78.24715 ],\n",
              "       [80.63444 ],\n",
              "       [83.92573 ],\n",
              "       [83.649826],\n",
              "       [82.487015],\n",
              "       [84.236595],\n",
              "       [85.7687  ],\n",
              "       [83.58371 ],\n",
              "       [80.929634],\n",
              "       [85.68096 ],\n",
              "       [85.78887 ],\n",
              "       [86.01846 ],\n",
              "       [88.553444],\n",
              "       [89.87101 ],\n",
              "       [91.105125],\n",
              "       [92.68527 ],\n",
              "       [91.43328 ],\n",
              "       [92.24184 ],\n",
              "       [93.25982 ],\n",
              "       [92.29691 ],\n",
              "       [91.4913  ],\n",
              "       [87.36088 ],\n",
              "       [81.18688 ],\n",
              "       [73.74923 ],\n",
              "       [62.054455],\n",
              "       [87.58565 ],\n",
              "       [84.94372 ],\n",
              "       [86.24307 ],\n",
              "       [84.40594 ],\n",
              "       [79.2349  ],\n",
              "       [75.35398 ],\n",
              "       [76.95252 ],\n",
              "       [75.36436 ],\n",
              "       [72.25463 ],\n",
              "       [67.96896 ],\n",
              "       [58.833355],\n",
              "       [58.66115 ],\n",
              "       [61.2889  ],\n",
              "       [70.966705],\n",
              "       [70.81649 ],\n",
              "       [70.0132  ],\n",
              "       [67.04048 ],\n",
              "       [66.96052 ],\n",
              "       [69.61304 ],\n",
              "       [72.15688 ],\n",
              "       [74.711586],\n",
              "       [77.02546 ],\n",
              "       [77.89398 ],\n",
              "       [80.71921 ],\n",
              "       [84.28793 ],\n",
              "       [86.924835],\n",
              "       [87.95617 ],\n",
              "       [88.773796],\n",
              "       [89.53179 ],\n",
              "       [90.1366  ]], dtype=float32)"
            ]
          },
          "metadata": {
            "tags": []
          },
          "execution_count": 84
        }
      ]
    },
    {
      "cell_type": "code",
      "metadata": {
        "id": "7zEg-zW9AecL"
      },
      "source": [
        "second_input_last_element = second_input[-1][0]"
      ],
      "execution_count": 87,
      "outputs": []
    },
    {
      "cell_type": "code",
      "metadata": {
        "colab": {
          "base_uri": "https://localhost:8080/"
        },
        "id": "lMa3zCjnAj-i",
        "outputId": "3182822d-bee7-4d7a-bdff-82685e3fcc47"
      },
      "source": [
        "second_input_last_element"
      ],
      "execution_count": 88,
      "outputs": [
        {
          "output_type": "execute_result",
          "data": {
            "text/plain": [
              "90.1366"
            ]
          },
          "metadata": {
            "tags": []
          },
          "execution_count": 88
        }
      ]
    },
    {
      "cell_type": "code",
      "metadata": {
        "id": "lRsgR06mNKrs"
      },
      "source": [
        "next_pred2 = model_forecast(model, second_input, window_size)"
      ],
      "execution_count": 82,
      "outputs": []
    },
    {
      "cell_type": "code",
      "metadata": {
        "id": "UtptOSkINKqB",
        "colab": {
          "base_uri": "https://localhost:8080/"
        },
        "outputId": "ba3111fe-8b20-48ae-fc8a-ea8ca636e5a7"
      },
      "source": [
        "next_pred2"
      ],
      "execution_count": 83,
      "outputs": [
        {
          "output_type": "execute_result",
          "data": {
            "text/plain": [
              "array([[[88.22808 ],\n",
              "        [89.24279 ],\n",
              "        [90.079185],\n",
              "        [90.55791 ],\n",
              "        [89.164085],\n",
              "        [88.40212 ],\n",
              "        [85.52038 ],\n",
              "        [80.60884 ],\n",
              "        [79.61531 ],\n",
              "        [75.12227 ],\n",
              "        [73.96069 ],\n",
              "        [68.4022  ],\n",
              "        [73.47768 ],\n",
              "        [70.501236],\n",
              "        [73.44942 ],\n",
              "        [71.389114],\n",
              "        [72.83631 ],\n",
              "        [74.2807  ],\n",
              "        [75.82769 ],\n",
              "        [77.94248 ],\n",
              "        [79.93486 ],\n",
              "        [81.23587 ],\n",
              "        [82.70439 ],\n",
              "        [84.77338 ],\n",
              "        [86.07256 ],\n",
              "        [86.35072 ],\n",
              "        [87.501976],\n",
              "        [89.0984  ],\n",
              "        [89.79337 ],\n",
              "        [90.22005 ],\n",
              "        [91.35212 ],\n",
              "        [92.00781 ],\n",
              "        [92.6046  ],\n",
              "        [93.18834 ],\n",
              "        [93.555275],\n",
              "        [94.30176 ],\n",
              "        [94.85748 ],\n",
              "        [94.95055 ],\n",
              "        [94.482735],\n",
              "        [92.20336 ],\n",
              "        [88.820854],\n",
              "        [84.67255 ],\n",
              "        [87.61933 ],\n",
              "        [89.03474 ],\n",
              "        [89.690056],\n",
              "        [86.94111 ],\n",
              "        [87.389984],\n",
              "        [85.94547 ],\n",
              "        [85.65049 ],\n",
              "        [85.986115],\n",
              "        [85.32073 ],\n",
              "        [83.65527 ],\n",
              "        [80.69323 ],\n",
              "        [77.25843 ],\n",
              "        [75.63898 ],\n",
              "        [76.456245],\n",
              "        [76.02944 ],\n",
              "        [75.08292 ],\n",
              "        [73.25809 ],\n",
              "        [72.90639 ],\n",
              "        [73.35425 ],\n",
              "        [74.46155 ],\n",
              "        [75.30837 ],\n",
              "        [76.012375],\n",
              "        [76.838264],\n",
              "        [77.86639 ],\n",
              "        [79.44353 ],\n",
              "        [81.32105 ],\n",
              "        [82.829285],\n",
              "        [84.30301 ],\n",
              "        [85.94398 ],\n",
              "        [87.609406]]], dtype=float32)"
            ]
          },
          "metadata": {
            "tags": []
          },
          "execution_count": 83
        }
      ]
    },
    {
      "cell_type": "code",
      "metadata": {
        "id": "9WjQnaZYEmKz"
      },
      "source": [
        "third_input=next_pred2[-1,:,:]"
      ],
      "execution_count": 100,
      "outputs": []
    },
    {
      "cell_type": "code",
      "metadata": {
        "id": "cAo9iWmDEeL0"
      },
      "source": [
        "third_input_last_element=third_input[-1][0]"
      ],
      "execution_count": 101,
      "outputs": []
    },
    {
      "cell_type": "code",
      "metadata": {
        "colab": {
          "base_uri": "https://localhost:8080/"
        },
        "id": "lV3hV3A4Eutx",
        "outputId": "69acf462-576c-4463-fb88-9a084b01123d"
      },
      "source": [
        "third_input_last_element"
      ],
      "execution_count": 102,
      "outputs": [
        {
          "output_type": "execute_result",
          "data": {
            "text/plain": [
              "87.609406"
            ]
          },
          "metadata": {
            "tags": []
          },
          "execution_count": 102
        }
      ]
    },
    {
      "cell_type": "code",
      "metadata": {
        "id": "68G8sUKjEumi"
      },
      "source": [
        "next_pred3 = model_forecast(model,third_input,window_size)"
      ],
      "execution_count": 103,
      "outputs": []
    },
    {
      "cell_type": "code",
      "metadata": {
        "colab": {
          "base_uri": "https://localhost:8080/"
        },
        "id": "spNrCVaEEuj7",
        "outputId": "6f4681fa-9495-43d9-8f9f-343561b60770"
      },
      "source": [
        "next_pred3"
      ],
      "execution_count": 104,
      "outputs": [
        {
          "output_type": "execute_result",
          "data": {
            "text/plain": [
              "array([[[88.49908 ],\n",
              "        [91.07305 ],\n",
              "        [93.20486 ],\n",
              "        [92.91589 ],\n",
              "        [93.38572 ],\n",
              "        [93.03906 ],\n",
              "        [93.295685],\n",
              "        [92.04906 ],\n",
              "        [90.678   ],\n",
              "        [89.46267 ],\n",
              "        [87.81725 ],\n",
              "        [86.1531  ],\n",
              "        [85.01396 ],\n",
              "        [84.773544],\n",
              "        [84.153496],\n",
              "        [83.13824 ],\n",
              "        [82.4285  ],\n",
              "        [81.79938 ],\n",
              "        [81.851974],\n",
              "        [81.69676 ],\n",
              "        [81.989525],\n",
              "        [82.40788 ],\n",
              "        [82.94586 ],\n",
              "        [83.83634 ],\n",
              "        [84.95191 ],\n",
              "        [85.93754 ],\n",
              "        [86.94815 ],\n",
              "        [88.2334  ],\n",
              "        [89.46892 ],\n",
              "        [90.44997 ],\n",
              "        [91.4543  ],\n",
              "        [92.4935  ],\n",
              "        [93.354866],\n",
              "        [94.12451 ],\n",
              "        [94.84058 ],\n",
              "        [95.48584 ],\n",
              "        [96.11284 ],\n",
              "        [96.604965],\n",
              "        [96.900826],\n",
              "        [96.79161 ],\n",
              "        [95.90309 ],\n",
              "        [94.303406],\n",
              "        [93.84079 ],\n",
              "        [94.80036 ],\n",
              "        [95.308846],\n",
              "        [94.93724 ],\n",
              "        [94.46949 ],\n",
              "        [94.20991 ],\n",
              "        [93.67383 ],\n",
              "        [93.4483  ],\n",
              "        [93.324005],\n",
              "        [92.73791 ],\n",
              "        [91.66039 ],\n",
              "        [89.95818 ],\n",
              "        [88.338936],\n",
              "        [87.70848 ],\n",
              "        [87.497925],\n",
              "        [86.90855 ],\n",
              "        [85.91827 ],\n",
              "        [84.951065],\n",
              "        [84.32115 ],\n",
              "        [84.00046 ],\n",
              "        [83.68075 ],\n",
              "        [83.35166 ],\n",
              "        [83.08957 ],\n",
              "        [83.04287 ],\n",
              "        [83.23238 ],\n",
              "        [83.6686  ],\n",
              "        [84.26393 ],\n",
              "        [84.92783 ],\n",
              "        [85.75694 ],\n",
              "        [86.774666]]], dtype=float32)"
            ]
          },
          "metadata": {
            "tags": []
          },
          "execution_count": 104
        }
      ]
    },
    {
      "cell_type": "code",
      "metadata": {
        "id": "I_AAoPdHFNKr"
      },
      "source": [
        "fourth_input=next_pred3[-1,:,:]"
      ],
      "execution_count": 105,
      "outputs": []
    },
    {
      "cell_type": "code",
      "metadata": {
        "id": "NlVNtDY-EuhO"
      },
      "source": [
        "fourth_input_last_element=fourth_input[-1][0]"
      ],
      "execution_count": 106,
      "outputs": []
    },
    {
      "cell_type": "code",
      "metadata": {
        "colab": {
          "base_uri": "https://localhost:8080/"
        },
        "id": "44htZujKEucL",
        "outputId": "39a0079c-4893-4bc8-8fcd-77ac10eb6e6a"
      },
      "source": [
        "fourth_input_last_element"
      ],
      "execution_count": 107,
      "outputs": [
        {
          "output_type": "execute_result",
          "data": {
            "text/plain": [
              "86.774666"
            ]
          },
          "metadata": {
            "tags": []
          },
          "execution_count": 107
        }
      ]
    },
    {
      "cell_type": "code",
      "metadata": {
        "id": "2bNfhPMcEuZr"
      },
      "source": [
        "next_pred4 = model_forecast(model,fourth_input,window_size)"
      ],
      "execution_count": 108,
      "outputs": []
    },
    {
      "cell_type": "code",
      "metadata": {
        "id": "8-JaNEweEuWz"
      },
      "source": [
        "fifth_input = next_pred4[-1,:,:]"
      ],
      "execution_count": 109,
      "outputs": []
    },
    {
      "cell_type": "code",
      "metadata": {
        "id": "pcjYCn17EuR4"
      },
      "source": [
        "fifth_input_last_element=fifth_input[-1][0]"
      ],
      "execution_count": 110,
      "outputs": []
    },
    {
      "cell_type": "code",
      "metadata": {
        "colab": {
          "base_uri": "https://localhost:8080/"
        },
        "id": "U-DxEvXUEuPg",
        "outputId": "4f88bf1e-b9a6-4e41-fe93-2655140e9d47"
      },
      "source": [
        "fifth_input_last_element"
      ],
      "execution_count": 111,
      "outputs": [
        {
          "output_type": "execute_result",
          "data": {
            "text/plain": [
              "91.28236"
            ]
          },
          "metadata": {
            "tags": []
          },
          "execution_count": 111
        }
      ]
    },
    {
      "cell_type": "code",
      "metadata": {
        "id": "pEumJAiGEuMq"
      },
      "source": [
        "next_pred5 = model_forecast(model,fifth_input,window_size)"
      ],
      "execution_count": 112,
      "outputs": []
    },
    {
      "cell_type": "code",
      "metadata": {
        "id": "xfiLInHzEuKK"
      },
      "source": [
        "sixth_input = next_pred5[-1,:,:]"
      ],
      "execution_count": 113,
      "outputs": []
    },
    {
      "cell_type": "code",
      "metadata": {
        "id": "ZPYQWQZPEuHd"
      },
      "source": [
        "sixth_input_last_element=sixth_input[-1][0]"
      ],
      "execution_count": 114,
      "outputs": []
    },
    {
      "cell_type": "code",
      "metadata": {
        "colab": {
          "base_uri": "https://localhost:8080/"
        },
        "id": "nlahWwppEuFF",
        "outputId": "39fd9612-d745-450c-c5a0-4a7ab2b9ae76"
      },
      "source": [
        "sixth_input_last_element"
      ],
      "execution_count": 115,
      "outputs": [
        {
          "output_type": "execute_result",
          "data": {
            "text/plain": [
              "96.65334"
            ]
          },
          "metadata": {
            "tags": []
          },
          "execution_count": 115
        }
      ]
    },
    {
      "cell_type": "code",
      "metadata": {
        "id": "dRchsL8oEs6b"
      },
      "source": [
        "# Building the auto-regressive model for future predictions."
      ],
      "execution_count": null,
      "outputs": []
    },
    {
      "cell_type": "code",
      "metadata": {
        "id": "bPegtjoeNKmM"
      },
      "source": [
        "def auto_regressive_forecast(model,rnn_forecast_totalpoints,window_size):\n",
        "  \"\"\"\n",
        "  finding the next prediction(sequence) and adding the sequence back as the input to predict next sequence.\n",
        "  \"\"\"\n",
        "  predictions_future=[]\n",
        "  count=0\n",
        "  last_value = rnn_forecast_totalpoints[-1,:,:]\n",
        "  predictions_future.append(last_value[-1][0])\n",
        "  for i in range(24):\n",
        "    next_pred = model_forecast(model, last_value, window_size)\n",
        "    temp_value = next_pred[-1,:,:]\n",
        "    predictions_future.append(temp_value[-1][0])\n",
        "    last_value = temp_value\n",
        "    count+=1\n",
        "  return predictions_future"
      ],
      "execution_count": 97,
      "outputs": []
    },
    {
      "cell_type": "code",
      "metadata": {
        "id": "BILU-_dwNKkc"
      },
      "source": [
        "predictions_future = auto_regressive_forecast(model,rnn_forecast_totalpoints,window_size)"
      ],
      "execution_count": 98,
      "outputs": []
    },
    {
      "cell_type": "code",
      "metadata": {
        "id": "rcdL1XldNKgy",
        "colab": {
          "base_uri": "https://localhost:8080/"
        },
        "outputId": "7ea8bb9d-bfbd-4a89-b60d-b524eff8c175"
      },
      "source": [
        "predictions_future"
      ],
      "execution_count": 99,
      "outputs": [
        {
          "output_type": "execute_result",
          "data": {
            "text/plain": [
              "[87.568115,\n",
              " 90.1366,\n",
              " 87.609406,\n",
              " 86.774666,\n",
              " 91.28236,\n",
              " 96.65334,\n",
              " 100.06155,\n",
              " 101.750755,\n",
              " 102.49505,\n",
              " 102.809586,\n",
              " 102.944626,\n",
              " 103.00571,\n",
              " 103.034996,\n",
              " 103.04956,\n",
              " 103.056885,\n",
              " 103.06053,\n",
              " 103.06227,\n",
              " 103.06312,\n",
              " 103.0635,\n",
              " 103.06367,\n",
              " 103.063736,\n",
              " 103.063774,\n",
              " 103.06379,\n",
              " 103.0638,\n",
              " 103.06379]"
            ]
          },
          "metadata": {
            "tags": []
          },
          "execution_count": 99
        }
      ]
    },
    {
      "cell_type": "code",
      "metadata": {
        "id": "SOkucHkVNKfG"
      },
      "source": [
        ""
      ],
      "execution_count": null,
      "outputs": []
    },
    {
      "cell_type": "code",
      "metadata": {
        "id": "j2zPEeO5NKbO"
      },
      "source": [
        ""
      ],
      "execution_count": null,
      "outputs": []
    },
    {
      "cell_type": "code",
      "metadata": {
        "id": "ZqDFgjN6NKZX"
      },
      "source": [
        ""
      ],
      "execution_count": null,
      "outputs": []
    },
    {
      "cell_type": "code",
      "metadata": {
        "id": "oyXNBvHxbiOQ"
      },
      "source": [
        ""
      ],
      "execution_count": null,
      "outputs": []
    }
  ]
}