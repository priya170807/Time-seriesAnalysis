{
  "nbformat": 4,
  "nbformat_minor": 0,
  "metadata": {
    "colab": {
      "name": "Azure_dataset.ipynb",
      "provenance": [],
      "collapsed_sections": [],
      "authorship_tag": "ABX9TyMKfeVSho657ZKIZIy4CDDf",
      "include_colab_link": true
    },
    "kernelspec": {
      "name": "python3",
      "display_name": "Python 3"
    },
    "accelerator": "GPU"
  },
  "cells": [
    {
      "cell_type": "markdown",
      "metadata": {
        "id": "view-in-github",
        "colab_type": "text"
      },
      "source": [
        "<a href=\"https://colab.research.google.com/github/priya170807/Time-seriesAnalysis/blob/main/Azure_dataset.ipynb\" target=\"_parent\"><img src=\"https://colab.research.google.com/assets/colab-badge.svg\" alt=\"Open In Colab\"/></a>"
      ]
    },
    {
      "cell_type": "code",
      "metadata": {
        "id": "PhZgi3ay2-KM"
      },
      "source": [
        "import numpy as np\n",
        "import pandas as pd\n",
        "import matplotlib.pyplot as plt\n",
        "import seaborn as sns\n",
        "from sklearn.preprocessing import minmax_scale\n",
        "from sklearn.preprocessing import StandardScaler\n",
        "from sklearn.preprocessing import MinMaxScaler\n",
        "from sklearn.preprocessing import RobustScaler"
      ],
      "execution_count": 74,
      "outputs": []
    },
    {
      "cell_type": "code",
      "metadata": {
        "colab": {
          "base_uri": "https://localhost:8080/",
          "height": 296
        },
        "id": "5oiUIxCo9SCI",
        "outputId": "84906ba0-060a-4893-d54b-47f109d45173"
      },
      "source": [
        "data_path = '/content/sample_data/vmtable.csv'\n",
        "headers=['vmid','subscriptionid','deploymentid','vmcreated', 'vmdeleted', 'maxcpu', 'avgcpu', 'p95maxcpu', 'vmcategory', 'vmcorecount', 'vmmemory']\n",
        "trace_dataframe = pd.read_csv(data_path, header=None, index_col=False,names=headers,delimiter=',')\n",
        "\n",
        "\n",
        "#Compute VM Lifetime based on VM Created and VM Deleted timestamps and transform to Hour\n",
        "trace_dataframe['lifetime'] = np.maximum((trace_dataframe['vmdeleted'] - trace_dataframe['vmcreated']),300)/ 3600\n",
        "trace_dataframe['corehour'] = trace_dataframe['lifetime'] * trace_dataframe['vmcorecount']\n",
        "trace_dataframe.head()"
      ],
      "execution_count": 2,
      "outputs": [
        {
          "output_type": "execute_result",
          "data": {
            "text/html": [
              "<div>\n",
              "<style scoped>\n",
              "    .dataframe tbody tr th:only-of-type {\n",
              "        vertical-align: middle;\n",
              "    }\n",
              "\n",
              "    .dataframe tbody tr th {\n",
              "        vertical-align: top;\n",
              "    }\n",
              "\n",
              "    .dataframe thead th {\n",
              "        text-align: right;\n",
              "    }\n",
              "</style>\n",
              "<table border=\"1\" class=\"dataframe\">\n",
              "  <thead>\n",
              "    <tr style=\"text-align: right;\">\n",
              "      <th></th>\n",
              "      <th>vmid</th>\n",
              "      <th>subscriptionid</th>\n",
              "      <th>deploymentid</th>\n",
              "      <th>vmcreated</th>\n",
              "      <th>vmdeleted</th>\n",
              "      <th>maxcpu</th>\n",
              "      <th>avgcpu</th>\n",
              "      <th>p95maxcpu</th>\n",
              "      <th>vmcategory</th>\n",
              "      <th>vmcorecount</th>\n",
              "      <th>vmmemory</th>\n",
              "      <th>lifetime</th>\n",
              "      <th>corehour</th>\n",
              "    </tr>\n",
              "  </thead>\n",
              "  <tbody>\n",
              "    <tr>\n",
              "      <th>0</th>\n",
              "      <td>x/XsOfHO4ocsV99i4NluqKDuxctW2MMVmwqOPAlg4wp8mq...</td>\n",
              "      <td>VDU4C8cqdr+ORcqquwMRcsBA2l0SC6lCPys0wdghKROuxP...</td>\n",
              "      <td>Pc2VLB8aDxK2DCC96itq4vW/zVDp4wioAUiB3HoGSFYQ0o...</td>\n",
              "      <td>0</td>\n",
              "      <td>2591700</td>\n",
              "      <td>99.369869</td>\n",
              "      <td>3.424094</td>\n",
              "      <td>10.194309</td>\n",
              "      <td>Delay-insensitive</td>\n",
              "      <td>1</td>\n",
              "      <td>1.75</td>\n",
              "      <td>719.916667</td>\n",
              "      <td>719.916667</td>\n",
              "    </tr>\n",
              "    <tr>\n",
              "      <th>1</th>\n",
              "      <td>H5CxmMoVcZSpjgGbohnVA3R+7uCTe/hM2ht2uIYi3t7KwX...</td>\n",
              "      <td>BSXOcywx8pUU0DueDo6UMol1YzR6tn47KLEKaoXp0a1bf2...</td>\n",
              "      <td>3J17LcV4gXjFat62qhVFRfoiWArHnY763HVqqI6orJCfV8...</td>\n",
              "      <td>0</td>\n",
              "      <td>1539300</td>\n",
              "      <td>100.000000</td>\n",
              "      <td>6.181784</td>\n",
              "      <td>33.981360</td>\n",
              "      <td>Interactive</td>\n",
              "      <td>1</td>\n",
              "      <td>0.75</td>\n",
              "      <td>427.583333</td>\n",
              "      <td>427.583333</td>\n",
              "    </tr>\n",
              "    <tr>\n",
              "      <th>2</th>\n",
              "      <td>wR/G1YUjpMP4zUbxGM/XJNhYS8cAK3SGKM2tqhF7VdeTUY...</td>\n",
              "      <td>VDU4C8cqdr+ORcqquwMRcsBA2l0SC6lCPys0wdghKROuxP...</td>\n",
              "      <td>Pc2VLB8aDxK2DCC96itq4vW/zVDp4wioAUiB3HoGSFYQ0o...</td>\n",
              "      <td>2188800</td>\n",
              "      <td>2591700</td>\n",
              "      <td>99.569027</td>\n",
              "      <td>3.573635</td>\n",
              "      <td>7.924250</td>\n",
              "      <td>Delay-insensitive</td>\n",
              "      <td>1</td>\n",
              "      <td>1.75</td>\n",
              "      <td>111.916667</td>\n",
              "      <td>111.916667</td>\n",
              "    </tr>\n",
              "    <tr>\n",
              "      <th>3</th>\n",
              "      <td>1XiU+KpvIa3T1XP8kk3ZY71Of03+ogFL5Pag9Mc2jBuh0Y...</td>\n",
              "      <td>8u+M3WcFp8pq183WoMB79PhK7xUzbaviOBv0qWN6Xn4mbu...</td>\n",
              "      <td>DHbeI+pYTYFjH8JAF8SewM0z/4SqQctvxcBRGIRglBmeLW...</td>\n",
              "      <td>0</td>\n",
              "      <td>2591700</td>\n",
              "      <td>99.405085</td>\n",
              "      <td>16.287611</td>\n",
              "      <td>95.697890</td>\n",
              "      <td>Delay-insensitive</td>\n",
              "      <td>8</td>\n",
              "      <td>56.00</td>\n",
              "      <td>719.916667</td>\n",
              "      <td>5759.333333</td>\n",
              "    </tr>\n",
              "    <tr>\n",
              "      <th>4</th>\n",
              "      <td>z5i2HiSaz6ZdLR6PXdnDjGva3jIlkMPXx23VtfXx9q3dXF...</td>\n",
              "      <td>VDU4C8cqdr+ORcqquwMRcsBA2l0SC6lCPys0wdghKROuxP...</td>\n",
              "      <td>Pc2VLB8aDxK2DCC96itq4vW/zVDp4wioAUiB3HoGSFYQ0o...</td>\n",
              "      <td>0</td>\n",
              "      <td>2188500</td>\n",
              "      <td>98.967961</td>\n",
              "      <td>3.036038</td>\n",
              "      <td>9.445484</td>\n",
              "      <td>Delay-insensitive</td>\n",
              "      <td>1</td>\n",
              "      <td>1.75</td>\n",
              "      <td>607.916667</td>\n",
              "      <td>607.916667</td>\n",
              "    </tr>\n",
              "  </tbody>\n",
              "</table>\n",
              "</div>"
            ],
            "text/plain": [
              "                                                vmid  ...     corehour\n",
              "0  x/XsOfHO4ocsV99i4NluqKDuxctW2MMVmwqOPAlg4wp8mq...  ...   719.916667\n",
              "1  H5CxmMoVcZSpjgGbohnVA3R+7uCTe/hM2ht2uIYi3t7KwX...  ...   427.583333\n",
              "2  wR/G1YUjpMP4zUbxGM/XJNhYS8cAK3SGKM2tqhF7VdeTUY...  ...   111.916667\n",
              "3  1XiU+KpvIa3T1XP8kk3ZY71Of03+ogFL5Pag9Mc2jBuh0Y...  ...  5759.333333\n",
              "4  z5i2HiSaz6ZdLR6PXdnDjGva3jIlkMPXx23VtfXx9q3dXF...  ...   607.916667\n",
              "\n",
              "[5 rows x 13 columns]"
            ]
          },
          "metadata": {
            "tags": []
          },
          "execution_count": 2
        }
      ]
    },
    {
      "cell_type": "code",
      "metadata": {
        "colab": {
          "base_uri": "https://localhost:8080/",
          "height": 296
        },
        "id": "Rm9AmT-2_OiN",
        "outputId": "6ed58dd6-f7fb-4880-ccc2-fda531259c65"
      },
      "source": [
        "trace_dataframe.head()"
      ],
      "execution_count": 3,
      "outputs": [
        {
          "output_type": "execute_result",
          "data": {
            "text/html": [
              "<div>\n",
              "<style scoped>\n",
              "    .dataframe tbody tr th:only-of-type {\n",
              "        vertical-align: middle;\n",
              "    }\n",
              "\n",
              "    .dataframe tbody tr th {\n",
              "        vertical-align: top;\n",
              "    }\n",
              "\n",
              "    .dataframe thead th {\n",
              "        text-align: right;\n",
              "    }\n",
              "</style>\n",
              "<table border=\"1\" class=\"dataframe\">\n",
              "  <thead>\n",
              "    <tr style=\"text-align: right;\">\n",
              "      <th></th>\n",
              "      <th>vmid</th>\n",
              "      <th>subscriptionid</th>\n",
              "      <th>deploymentid</th>\n",
              "      <th>vmcreated</th>\n",
              "      <th>vmdeleted</th>\n",
              "      <th>maxcpu</th>\n",
              "      <th>avgcpu</th>\n",
              "      <th>p95maxcpu</th>\n",
              "      <th>vmcategory</th>\n",
              "      <th>vmcorecount</th>\n",
              "      <th>vmmemory</th>\n",
              "      <th>lifetime</th>\n",
              "      <th>corehour</th>\n",
              "    </tr>\n",
              "  </thead>\n",
              "  <tbody>\n",
              "    <tr>\n",
              "      <th>0</th>\n",
              "      <td>x/XsOfHO4ocsV99i4NluqKDuxctW2MMVmwqOPAlg4wp8mq...</td>\n",
              "      <td>VDU4C8cqdr+ORcqquwMRcsBA2l0SC6lCPys0wdghKROuxP...</td>\n",
              "      <td>Pc2VLB8aDxK2DCC96itq4vW/zVDp4wioAUiB3HoGSFYQ0o...</td>\n",
              "      <td>0</td>\n",
              "      <td>2591700</td>\n",
              "      <td>99.369869</td>\n",
              "      <td>3.424094</td>\n",
              "      <td>10.194309</td>\n",
              "      <td>Delay-insensitive</td>\n",
              "      <td>1</td>\n",
              "      <td>1.75</td>\n",
              "      <td>719.916667</td>\n",
              "      <td>719.916667</td>\n",
              "    </tr>\n",
              "    <tr>\n",
              "      <th>1</th>\n",
              "      <td>H5CxmMoVcZSpjgGbohnVA3R+7uCTe/hM2ht2uIYi3t7KwX...</td>\n",
              "      <td>BSXOcywx8pUU0DueDo6UMol1YzR6tn47KLEKaoXp0a1bf2...</td>\n",
              "      <td>3J17LcV4gXjFat62qhVFRfoiWArHnY763HVqqI6orJCfV8...</td>\n",
              "      <td>0</td>\n",
              "      <td>1539300</td>\n",
              "      <td>100.000000</td>\n",
              "      <td>6.181784</td>\n",
              "      <td>33.981360</td>\n",
              "      <td>Interactive</td>\n",
              "      <td>1</td>\n",
              "      <td>0.75</td>\n",
              "      <td>427.583333</td>\n",
              "      <td>427.583333</td>\n",
              "    </tr>\n",
              "    <tr>\n",
              "      <th>2</th>\n",
              "      <td>wR/G1YUjpMP4zUbxGM/XJNhYS8cAK3SGKM2tqhF7VdeTUY...</td>\n",
              "      <td>VDU4C8cqdr+ORcqquwMRcsBA2l0SC6lCPys0wdghKROuxP...</td>\n",
              "      <td>Pc2VLB8aDxK2DCC96itq4vW/zVDp4wioAUiB3HoGSFYQ0o...</td>\n",
              "      <td>2188800</td>\n",
              "      <td>2591700</td>\n",
              "      <td>99.569027</td>\n",
              "      <td>3.573635</td>\n",
              "      <td>7.924250</td>\n",
              "      <td>Delay-insensitive</td>\n",
              "      <td>1</td>\n",
              "      <td>1.75</td>\n",
              "      <td>111.916667</td>\n",
              "      <td>111.916667</td>\n",
              "    </tr>\n",
              "    <tr>\n",
              "      <th>3</th>\n",
              "      <td>1XiU+KpvIa3T1XP8kk3ZY71Of03+ogFL5Pag9Mc2jBuh0Y...</td>\n",
              "      <td>8u+M3WcFp8pq183WoMB79PhK7xUzbaviOBv0qWN6Xn4mbu...</td>\n",
              "      <td>DHbeI+pYTYFjH8JAF8SewM0z/4SqQctvxcBRGIRglBmeLW...</td>\n",
              "      <td>0</td>\n",
              "      <td>2591700</td>\n",
              "      <td>99.405085</td>\n",
              "      <td>16.287611</td>\n",
              "      <td>95.697890</td>\n",
              "      <td>Delay-insensitive</td>\n",
              "      <td>8</td>\n",
              "      <td>56.00</td>\n",
              "      <td>719.916667</td>\n",
              "      <td>5759.333333</td>\n",
              "    </tr>\n",
              "    <tr>\n",
              "      <th>4</th>\n",
              "      <td>z5i2HiSaz6ZdLR6PXdnDjGva3jIlkMPXx23VtfXx9q3dXF...</td>\n",
              "      <td>VDU4C8cqdr+ORcqquwMRcsBA2l0SC6lCPys0wdghKROuxP...</td>\n",
              "      <td>Pc2VLB8aDxK2DCC96itq4vW/zVDp4wioAUiB3HoGSFYQ0o...</td>\n",
              "      <td>0</td>\n",
              "      <td>2188500</td>\n",
              "      <td>98.967961</td>\n",
              "      <td>3.036038</td>\n",
              "      <td>9.445484</td>\n",
              "      <td>Delay-insensitive</td>\n",
              "      <td>1</td>\n",
              "      <td>1.75</td>\n",
              "      <td>607.916667</td>\n",
              "      <td>607.916667</td>\n",
              "    </tr>\n",
              "  </tbody>\n",
              "</table>\n",
              "</div>"
            ],
            "text/plain": [
              "                                                vmid  ...     corehour\n",
              "0  x/XsOfHO4ocsV99i4NluqKDuxctW2MMVmwqOPAlg4wp8mq...  ...   719.916667\n",
              "1  H5CxmMoVcZSpjgGbohnVA3R+7uCTe/hM2ht2uIYi3t7KwX...  ...   427.583333\n",
              "2  wR/G1YUjpMP4zUbxGM/XJNhYS8cAK3SGKM2tqhF7VdeTUY...  ...   111.916667\n",
              "3  1XiU+KpvIa3T1XP8kk3ZY71Of03+ogFL5Pag9Mc2jBuh0Y...  ...  5759.333333\n",
              "4  z5i2HiSaz6ZdLR6PXdnDjGva3jIlkMPXx23VtfXx9q3dXF...  ...   607.916667\n",
              "\n",
              "[5 rows x 13 columns]"
            ]
          },
          "metadata": {
            "tags": []
          },
          "execution_count": 3
        }
      ]
    },
    {
      "cell_type": "code",
      "metadata": {
        "colab": {
          "base_uri": "https://localhost:8080/"
        },
        "id": "kE_cqc6B_XNx",
        "outputId": "7da931bf-fdf7-48e4-bdb3-a5379c63c84f"
      },
      "source": [
        "vm_count = trace_dataframe.shape[0]\n",
        "subscription_count = trace_dataframe['subscriptionid'].unique().shape[0]\n",
        "deployment_count = trace_dataframe['deploymentid'].unique().shape[0]\n",
        "total_vm_hour_available = trace_dataframe['lifetime'].sum()\n",
        "total_core_hour_available = trace_dataframe['corehour'].sum()\n",
        "\n",
        "print(\"Total Number of Virtual Machines in the Dataset: %d\" % vm_count)\n",
        "print(\"Total Number of Subscriptions in the Dataset: %d\" % subscription_count)\n",
        "print(\"Total Number of Deployments in the Dataset: %d\" % deployment_count)\n",
        "print(\"Total VM Hours Available in the Dataset: %f\" % total_vm_hour_available)\n",
        "print(\"Total Core Hours Available in the Dataset: %f\" % total_core_hour_available)"
      ],
      "execution_count": 4,
      "outputs": [
        {
          "output_type": "stream",
          "text": [
            "Total Number of Virtual Machines in the Dataset: 2013767\n",
            "Total Number of Subscriptions in the Dataset: 5958\n",
            "Total Number of Deployments in the Dataset: 35941\n",
            "Total VM Hours Available in the Dataset: 104371713.416667\n",
            "Total Core Hours Available in the Dataset: 237815104.750000\n"
          ],
          "name": "stdout"
        }
      ]
    },
    {
      "cell_type": "code",
      "metadata": {
        "colab": {
          "base_uri": "https://localhost:8080/"
        },
        "id": "ok_Np5YG_ijw",
        "outputId": "9de104e3-6695-4c05-8368-deb394483fe8"
      },
      "source": [
        "trace_dataframe[\"subscriptionid\"].value_counts()"
      ],
      "execution_count": 5,
      "outputs": [
        {
          "output_type": "execute_result",
          "data": {
            "text/plain": [
              "+9OPyI+/Eeu5PSXVMdkPw3cB99+uk+YiAwMRGJU1cDm2ESAgTaUXcM091m1HeTX7    128047\n",
              "1pvP5oaK47WSSY0IZRNEQYdTLEx79rf7Gj1isBYW1jDOFGZXLQGTa0V3XnCrLrkB    111509\n",
              "IBRuELx83WZHD8ZBmRnQ7nN53DxcMPAO7szqGt218k7STW7rx0pjgjj5eLJ0FLbn     93427\n",
              "BShs5OvpbfrccmXj7X4MwSxkSFVNdSOzhYaDEKCijpvxWWkNByokK6c31F1uCT7R     85874\n",
              "8aRytjOt2E+dixkPugZHbKFROou3eQLywft928DTtFP2o3QzFTIxYQ+8r0kdkzvo     68490\n",
              "                                                                     ...  \n",
              "uDa4Z9BccdYpBWdtk4sV+8/QFnVG40glHxI72wPJgDtnp5JuI+eZmxvJjeMmVulW         1\n",
              "V7bS+e5p9j59gvyRdalCKIV0V49DUB2A4GGZSmkv7xhrG31faumMPa/UNSt9gJMS         1\n",
              "p8Fypccdh7GLKiW2Q+C0PBY5aj8ZhHbIVTm9YS6AvSyxXJr8mREudOLBgy2klx5J         1\n",
              "VieD20wiIhGoNN2QdPcGDmdKRY5cmVw8p67gZYT0ryM3y6nKgcj38+MnIMOwo940         1\n",
              "m1rA6J59RrUickPrSh2Zy+deZB+mWTnsE/Xp87UG6t/pG04k96qwO6GNIr0yPhsi         1\n",
              "Name: subscriptionid, Length: 5958, dtype: int64"
            ]
          },
          "metadata": {
            "tags": []
          },
          "execution_count": 5
        }
      ]
    },
    {
      "cell_type": "code",
      "metadata": {
        "id": "qzPoNCr2AHfx"
      },
      "source": [
        "oneVM_data = trace_dataframe[trace_dataframe[\"subscriptionid\"] == \"+9OPyI+/Eeu5PSXVMdkPw3cB99+uk+YiAwMRGJU1cDm2ESAgTaUXcM091m1HeTX7\"]"
      ],
      "execution_count": 6,
      "outputs": []
    },
    {
      "cell_type": "code",
      "metadata": {
        "colab": {
          "base_uri": "https://localhost:8080/",
          "height": 296
        },
        "id": "ZH3flW1WAYyB",
        "outputId": "a04021d5-f629-4e66-e964-e2bce0c4ef56"
      },
      "source": [
        "oneVM_data.head()"
      ],
      "execution_count": 7,
      "outputs": [
        {
          "output_type": "execute_result",
          "data": {
            "text/html": [
              "<div>\n",
              "<style scoped>\n",
              "    .dataframe tbody tr th:only-of-type {\n",
              "        vertical-align: middle;\n",
              "    }\n",
              "\n",
              "    .dataframe tbody tr th {\n",
              "        vertical-align: top;\n",
              "    }\n",
              "\n",
              "    .dataframe thead th {\n",
              "        text-align: right;\n",
              "    }\n",
              "</style>\n",
              "<table border=\"1\" class=\"dataframe\">\n",
              "  <thead>\n",
              "    <tr style=\"text-align: right;\">\n",
              "      <th></th>\n",
              "      <th>vmid</th>\n",
              "      <th>subscriptionid</th>\n",
              "      <th>deploymentid</th>\n",
              "      <th>vmcreated</th>\n",
              "      <th>vmdeleted</th>\n",
              "      <th>maxcpu</th>\n",
              "      <th>avgcpu</th>\n",
              "      <th>p95maxcpu</th>\n",
              "      <th>vmcategory</th>\n",
              "      <th>vmcorecount</th>\n",
              "      <th>vmmemory</th>\n",
              "      <th>lifetime</th>\n",
              "      <th>corehour</th>\n",
              "    </tr>\n",
              "  </thead>\n",
              "  <tbody>\n",
              "    <tr>\n",
              "      <th>87435</th>\n",
              "      <td>kIq+LToYe/oJmpZJCT6aYfxRh252I4Bd8FQQIyaLLAST5A...</td>\n",
              "      <td>+9OPyI+/Eeu5PSXVMdkPw3cB99+uk+YiAwMRGJU1cDm2ES...</td>\n",
              "      <td>TSRTTdb9LRjgp+FpJYUBXBczOvLJLO5ksIDZm6OFgtN4Sa...</td>\n",
              "      <td>2305800</td>\n",
              "      <td>2310300</td>\n",
              "      <td>66.909246</td>\n",
              "      <td>2.900874</td>\n",
              "      <td>66.909246</td>\n",
              "      <td>Delay-insensitive</td>\n",
              "      <td>8</td>\n",
              "      <td>14.00</td>\n",
              "      <td>1.250000</td>\n",
              "      <td>10.000000</td>\n",
              "    </tr>\n",
              "    <tr>\n",
              "      <th>87436</th>\n",
              "      <td>T5Hgk7CUx9Z/ANIZ+3TIHran3IGgr4RcUoxGNMmWB5+96a...</td>\n",
              "      <td>+9OPyI+/Eeu5PSXVMdkPw3cB99+uk+YiAwMRGJU1cDm2ES...</td>\n",
              "      <td>TSRTTdb9LRjgp+FpJYUBXBczOvLJLO5ksIDZm6OFgtN4Sa...</td>\n",
              "      <td>2305800</td>\n",
              "      <td>2310300</td>\n",
              "      <td>6.510768</td>\n",
              "      <td>2.087024</td>\n",
              "      <td>6.510768</td>\n",
              "      <td>Delay-insensitive</td>\n",
              "      <td>8</td>\n",
              "      <td>14.00</td>\n",
              "      <td>1.250000</td>\n",
              "      <td>10.000000</td>\n",
              "    </tr>\n",
              "    <tr>\n",
              "      <th>87437</th>\n",
              "      <td>Omelc/JAGTVT51lNOObucJUr93TlFPNhEhyMeMRWrggtoK...</td>\n",
              "      <td>+9OPyI+/Eeu5PSXVMdkPw3cB99+uk+YiAwMRGJU1cDm2ES...</td>\n",
              "      <td>TSRTTdb9LRjgp+FpJYUBXBczOvLJLO5ksIDZm6OFgtN4Sa...</td>\n",
              "      <td>2238900</td>\n",
              "      <td>2244000</td>\n",
              "      <td>66.956558</td>\n",
              "      <td>3.139114</td>\n",
              "      <td>66.956558</td>\n",
              "      <td>Unkown</td>\n",
              "      <td>8</td>\n",
              "      <td>14.00</td>\n",
              "      <td>1.416667</td>\n",
              "      <td>11.333333</td>\n",
              "    </tr>\n",
              "    <tr>\n",
              "      <th>87438</th>\n",
              "      <td>Xrz83UV+7HsyDhOSClTCpitt73f4NVIqxBJIoXgNVOSiCW...</td>\n",
              "      <td>+9OPyI+/Eeu5PSXVMdkPw3cB99+uk+YiAwMRGJU1cDm2ES...</td>\n",
              "      <td>TSRTTdb9LRjgp+FpJYUBXBczOvLJLO5ksIDZm6OFgtN4Sa...</td>\n",
              "      <td>1103700</td>\n",
              "      <td>1104000</td>\n",
              "      <td>98.795780</td>\n",
              "      <td>27.330195</td>\n",
              "      <td>98.795780</td>\n",
              "      <td>Delay-insensitive</td>\n",
              "      <td>1</td>\n",
              "      <td>1.75</td>\n",
              "      <td>0.083333</td>\n",
              "      <td>0.083333</td>\n",
              "    </tr>\n",
              "    <tr>\n",
              "      <th>87439</th>\n",
              "      <td>BFJu/lrNsLRY1anlsPB7Ii3cPuz9pavIuk72SKjTo50qyf...</td>\n",
              "      <td>+9OPyI+/Eeu5PSXVMdkPw3cB99+uk+YiAwMRGJU1cDm2ES...</td>\n",
              "      <td>TSRTTdb9LRjgp+FpJYUBXBczOvLJLO5ksIDZm6OFgtN4Sa...</td>\n",
              "      <td>2484600</td>\n",
              "      <td>2505600</td>\n",
              "      <td>6.472197</td>\n",
              "      <td>1.686090</td>\n",
              "      <td>5.768269</td>\n",
              "      <td>Delay-insensitive</td>\n",
              "      <td>8</td>\n",
              "      <td>14.00</td>\n",
              "      <td>5.833333</td>\n",
              "      <td>46.666667</td>\n",
              "    </tr>\n",
              "  </tbody>\n",
              "</table>\n",
              "</div>"
            ],
            "text/plain": [
              "                                                    vmid  ...   corehour\n",
              "87435  kIq+LToYe/oJmpZJCT6aYfxRh252I4Bd8FQQIyaLLAST5A...  ...  10.000000\n",
              "87436  T5Hgk7CUx9Z/ANIZ+3TIHran3IGgr4RcUoxGNMmWB5+96a...  ...  10.000000\n",
              "87437  Omelc/JAGTVT51lNOObucJUr93TlFPNhEhyMeMRWrggtoK...  ...  11.333333\n",
              "87438  Xrz83UV+7HsyDhOSClTCpitt73f4NVIqxBJIoXgNVOSiCW...  ...   0.083333\n",
              "87439  BFJu/lrNsLRY1anlsPB7Ii3cPuz9pavIuk72SKjTo50qyf...  ...  46.666667\n",
              "\n",
              "[5 rows x 13 columns]"
            ]
          },
          "metadata": {
            "tags": []
          },
          "execution_count": 7
        }
      ]
    },
    {
      "cell_type": "code",
      "metadata": {
        "colab": {
          "base_uri": "https://localhost:8080/"
        },
        "id": "LsFL3NMVgQvE",
        "outputId": "f7504ea3-c9e2-4a5b-cfeb-d13c7305c09d"
      },
      "source": [
        "len(oneVM_data)"
      ],
      "execution_count": 8,
      "outputs": [
        {
          "output_type": "execute_result",
          "data": {
            "text/plain": [
              "128047"
            ]
          },
          "metadata": {
            "tags": []
          },
          "execution_count": 8
        }
      ]
    },
    {
      "cell_type": "code",
      "metadata": {
        "colab": {
          "base_uri": "https://localhost:8080/",
          "height": 548
        },
        "id": "y9a1BwpLmypU",
        "outputId": "9d3f0495-4ed2-4823-8721-b295c059edb8"
      },
      "source": [
        "oneVM_data"
      ],
      "execution_count": 9,
      "outputs": [
        {
          "output_type": "execute_result",
          "data": {
            "text/html": [
              "<div>\n",
              "<style scoped>\n",
              "    .dataframe tbody tr th:only-of-type {\n",
              "        vertical-align: middle;\n",
              "    }\n",
              "\n",
              "    .dataframe tbody tr th {\n",
              "        vertical-align: top;\n",
              "    }\n",
              "\n",
              "    .dataframe thead th {\n",
              "        text-align: right;\n",
              "    }\n",
              "</style>\n",
              "<table border=\"1\" class=\"dataframe\">\n",
              "  <thead>\n",
              "    <tr style=\"text-align: right;\">\n",
              "      <th></th>\n",
              "      <th>vmid</th>\n",
              "      <th>subscriptionid</th>\n",
              "      <th>deploymentid</th>\n",
              "      <th>vmcreated</th>\n",
              "      <th>vmdeleted</th>\n",
              "      <th>maxcpu</th>\n",
              "      <th>avgcpu</th>\n",
              "      <th>p95maxcpu</th>\n",
              "      <th>vmcategory</th>\n",
              "      <th>vmcorecount</th>\n",
              "      <th>vmmemory</th>\n",
              "      <th>lifetime</th>\n",
              "      <th>corehour</th>\n",
              "    </tr>\n",
              "  </thead>\n",
              "  <tbody>\n",
              "    <tr>\n",
              "      <th>87435</th>\n",
              "      <td>kIq+LToYe/oJmpZJCT6aYfxRh252I4Bd8FQQIyaLLAST5A...</td>\n",
              "      <td>+9OPyI+/Eeu5PSXVMdkPw3cB99+uk+YiAwMRGJU1cDm2ES...</td>\n",
              "      <td>TSRTTdb9LRjgp+FpJYUBXBczOvLJLO5ksIDZm6OFgtN4Sa...</td>\n",
              "      <td>2305800</td>\n",
              "      <td>2310300</td>\n",
              "      <td>66.909246</td>\n",
              "      <td>2.900874</td>\n",
              "      <td>66.909246</td>\n",
              "      <td>Delay-insensitive</td>\n",
              "      <td>8</td>\n",
              "      <td>14.00</td>\n",
              "      <td>1.250000</td>\n",
              "      <td>10.000000</td>\n",
              "    </tr>\n",
              "    <tr>\n",
              "      <th>87436</th>\n",
              "      <td>T5Hgk7CUx9Z/ANIZ+3TIHran3IGgr4RcUoxGNMmWB5+96a...</td>\n",
              "      <td>+9OPyI+/Eeu5PSXVMdkPw3cB99+uk+YiAwMRGJU1cDm2ES...</td>\n",
              "      <td>TSRTTdb9LRjgp+FpJYUBXBczOvLJLO5ksIDZm6OFgtN4Sa...</td>\n",
              "      <td>2305800</td>\n",
              "      <td>2310300</td>\n",
              "      <td>6.510768</td>\n",
              "      <td>2.087024</td>\n",
              "      <td>6.510768</td>\n",
              "      <td>Delay-insensitive</td>\n",
              "      <td>8</td>\n",
              "      <td>14.00</td>\n",
              "      <td>1.250000</td>\n",
              "      <td>10.000000</td>\n",
              "    </tr>\n",
              "    <tr>\n",
              "      <th>87437</th>\n",
              "      <td>Omelc/JAGTVT51lNOObucJUr93TlFPNhEhyMeMRWrggtoK...</td>\n",
              "      <td>+9OPyI+/Eeu5PSXVMdkPw3cB99+uk+YiAwMRGJU1cDm2ES...</td>\n",
              "      <td>TSRTTdb9LRjgp+FpJYUBXBczOvLJLO5ksIDZm6OFgtN4Sa...</td>\n",
              "      <td>2238900</td>\n",
              "      <td>2244000</td>\n",
              "      <td>66.956558</td>\n",
              "      <td>3.139114</td>\n",
              "      <td>66.956558</td>\n",
              "      <td>Unkown</td>\n",
              "      <td>8</td>\n",
              "      <td>14.00</td>\n",
              "      <td>1.416667</td>\n",
              "      <td>11.333333</td>\n",
              "    </tr>\n",
              "    <tr>\n",
              "      <th>87438</th>\n",
              "      <td>Xrz83UV+7HsyDhOSClTCpitt73f4NVIqxBJIoXgNVOSiCW...</td>\n",
              "      <td>+9OPyI+/Eeu5PSXVMdkPw3cB99+uk+YiAwMRGJU1cDm2ES...</td>\n",
              "      <td>TSRTTdb9LRjgp+FpJYUBXBczOvLJLO5ksIDZm6OFgtN4Sa...</td>\n",
              "      <td>1103700</td>\n",
              "      <td>1104000</td>\n",
              "      <td>98.795780</td>\n",
              "      <td>27.330195</td>\n",
              "      <td>98.795780</td>\n",
              "      <td>Delay-insensitive</td>\n",
              "      <td>1</td>\n",
              "      <td>1.75</td>\n",
              "      <td>0.083333</td>\n",
              "      <td>0.083333</td>\n",
              "    </tr>\n",
              "    <tr>\n",
              "      <th>87439</th>\n",
              "      <td>BFJu/lrNsLRY1anlsPB7Ii3cPuz9pavIuk72SKjTo50qyf...</td>\n",
              "      <td>+9OPyI+/Eeu5PSXVMdkPw3cB99+uk+YiAwMRGJU1cDm2ES...</td>\n",
              "      <td>TSRTTdb9LRjgp+FpJYUBXBczOvLJLO5ksIDZm6OFgtN4Sa...</td>\n",
              "      <td>2484600</td>\n",
              "      <td>2505600</td>\n",
              "      <td>6.472197</td>\n",
              "      <td>1.686090</td>\n",
              "      <td>5.768269</td>\n",
              "      <td>Delay-insensitive</td>\n",
              "      <td>8</td>\n",
              "      <td>14.00</td>\n",
              "      <td>5.833333</td>\n",
              "      <td>46.666667</td>\n",
              "    </tr>\n",
              "    <tr>\n",
              "      <th>...</th>\n",
              "      <td>...</td>\n",
              "      <td>...</td>\n",
              "      <td>...</td>\n",
              "      <td>...</td>\n",
              "      <td>...</td>\n",
              "      <td>...</td>\n",
              "      <td>...</td>\n",
              "      <td>...</td>\n",
              "      <td>...</td>\n",
              "      <td>...</td>\n",
              "      <td>...</td>\n",
              "      <td>...</td>\n",
              "      <td>...</td>\n",
              "    </tr>\n",
              "    <tr>\n",
              "      <th>215477</th>\n",
              "      <td>Rj0MEc2eJCMnY1lQLsCr3KlaSqZBlB8jnMRQtntC6x90TT...</td>\n",
              "      <td>+9OPyI+/Eeu5PSXVMdkPw3cB99+uk+YiAwMRGJU1cDm2ES...</td>\n",
              "      <td>TSRTTdb9LRjgp+FpJYUBXBczOvLJLO5ksIDZm6OFgtN4Sa...</td>\n",
              "      <td>348600</td>\n",
              "      <td>349200</td>\n",
              "      <td>78.671207</td>\n",
              "      <td>16.454956</td>\n",
              "      <td>78.671207</td>\n",
              "      <td>Unkown</td>\n",
              "      <td>4</td>\n",
              "      <td>7.00</td>\n",
              "      <td>0.166667</td>\n",
              "      <td>0.666667</td>\n",
              "    </tr>\n",
              "    <tr>\n",
              "      <th>215478</th>\n",
              "      <td>zGixyP8hrPksr7LjouSurrsuvm5qyIvimPZLY1RDSXSvAC...</td>\n",
              "      <td>+9OPyI+/Eeu5PSXVMdkPw3cB99+uk+YiAwMRGJU1cDm2ES...</td>\n",
              "      <td>TSRTTdb9LRjgp+FpJYUBXBczOvLJLO5ksIDZm6OFgtN4Sa...</td>\n",
              "      <td>1511100</td>\n",
              "      <td>1511400</td>\n",
              "      <td>2.396378</td>\n",
              "      <td>1.030316</td>\n",
              "      <td>2.396378</td>\n",
              "      <td>Delay-insensitive</td>\n",
              "      <td>8</td>\n",
              "      <td>14.00</td>\n",
              "      <td>0.083333</td>\n",
              "      <td>0.666667</td>\n",
              "    </tr>\n",
              "    <tr>\n",
              "      <th>215479</th>\n",
              "      <td>3vZ244xrWVCF2MD2dCRSYknxm/sKSKaF416OewRZZOXBY3...</td>\n",
              "      <td>+9OPyI+/Eeu5PSXVMdkPw3cB99+uk+YiAwMRGJU1cDm2ES...</td>\n",
              "      <td>TSRTTdb9LRjgp+FpJYUBXBczOvLJLO5ksIDZm6OFgtN4Sa...</td>\n",
              "      <td>1511100</td>\n",
              "      <td>1511400</td>\n",
              "      <td>13.906270</td>\n",
              "      <td>2.627541</td>\n",
              "      <td>13.906270</td>\n",
              "      <td>Unkown</td>\n",
              "      <td>8</td>\n",
              "      <td>14.00</td>\n",
              "      <td>0.083333</td>\n",
              "      <td>0.666667</td>\n",
              "    </tr>\n",
              "    <tr>\n",
              "      <th>215480</th>\n",
              "      <td>2BpPWqTJVkBhifZ5pd2N4iV03VHHA7weOUpuGR8fNKAnu4...</td>\n",
              "      <td>+9OPyI+/Eeu5PSXVMdkPw3cB99+uk+YiAwMRGJU1cDm2ES...</td>\n",
              "      <td>TSRTTdb9LRjgp+FpJYUBXBczOvLJLO5ksIDZm6OFgtN4Sa...</td>\n",
              "      <td>348600</td>\n",
              "      <td>349200</td>\n",
              "      <td>75.087022</td>\n",
              "      <td>12.464659</td>\n",
              "      <td>75.087022</td>\n",
              "      <td>Unkown</td>\n",
              "      <td>4</td>\n",
              "      <td>7.00</td>\n",
              "      <td>0.166667</td>\n",
              "      <td>0.666667</td>\n",
              "    </tr>\n",
              "    <tr>\n",
              "      <th>215481</th>\n",
              "      <td>OMcoVvrKcmsYj/j+s9Wzvde2Quzz1G+Un/74PfKJShKSyz...</td>\n",
              "      <td>+9OPyI+/Eeu5PSXVMdkPw3cB99+uk+YiAwMRGJU1cDm2ES...</td>\n",
              "      <td>TSRTTdb9LRjgp+FpJYUBXBczOvLJLO5ksIDZm6OFgtN4Sa...</td>\n",
              "      <td>1113900</td>\n",
              "      <td>1113900</td>\n",
              "      <td>41.445622</td>\n",
              "      <td>12.958304</td>\n",
              "      <td>41.445622</td>\n",
              "      <td>Delay-insensitive</td>\n",
              "      <td>1</td>\n",
              "      <td>1.75</td>\n",
              "      <td>0.083333</td>\n",
              "      <td>0.083333</td>\n",
              "    </tr>\n",
              "  </tbody>\n",
              "</table>\n",
              "<p>128047 rows × 13 columns</p>\n",
              "</div>"
            ],
            "text/plain": [
              "                                                     vmid  ...   corehour\n",
              "87435   kIq+LToYe/oJmpZJCT6aYfxRh252I4Bd8FQQIyaLLAST5A...  ...  10.000000\n",
              "87436   T5Hgk7CUx9Z/ANIZ+3TIHran3IGgr4RcUoxGNMmWB5+96a...  ...  10.000000\n",
              "87437   Omelc/JAGTVT51lNOObucJUr93TlFPNhEhyMeMRWrggtoK...  ...  11.333333\n",
              "87438   Xrz83UV+7HsyDhOSClTCpitt73f4NVIqxBJIoXgNVOSiCW...  ...   0.083333\n",
              "87439   BFJu/lrNsLRY1anlsPB7Ii3cPuz9pavIuk72SKjTo50qyf...  ...  46.666667\n",
              "...                                                   ...  ...        ...\n",
              "215477  Rj0MEc2eJCMnY1lQLsCr3KlaSqZBlB8jnMRQtntC6x90TT...  ...   0.666667\n",
              "215478  zGixyP8hrPksr7LjouSurrsuvm5qyIvimPZLY1RDSXSvAC...  ...   0.666667\n",
              "215479  3vZ244xrWVCF2MD2dCRSYknxm/sKSKaF416OewRZZOXBY3...  ...   0.666667\n",
              "215480  2BpPWqTJVkBhifZ5pd2N4iV03VHHA7weOUpuGR8fNKAnu4...  ...   0.666667\n",
              "215481  OMcoVvrKcmsYj/j+s9Wzvde2Quzz1G+Un/74PfKJShKSyz...  ...   0.083333\n",
              "\n",
              "[128047 rows x 13 columns]"
            ]
          },
          "metadata": {
            "tags": []
          },
          "execution_count": 9
        }
      ]
    },
    {
      "cell_type": "code",
      "metadata": {
        "id": "CrytfktPlmua"
      },
      "source": [
        "oneVM_data.reset_index(drop=True, inplace=True)"
      ],
      "execution_count": 10,
      "outputs": []
    },
    {
      "cell_type": "code",
      "metadata": {
        "colab": {
          "base_uri": "https://localhost:8080/",
          "height": 548
        },
        "id": "5MaCdXlql6bj",
        "outputId": "be5a0cfd-424c-46fe-ac0f-696e824fd464"
      },
      "source": [
        "oneVM_data"
      ],
      "execution_count": 11,
      "outputs": [
        {
          "output_type": "execute_result",
          "data": {
            "text/html": [
              "<div>\n",
              "<style scoped>\n",
              "    .dataframe tbody tr th:only-of-type {\n",
              "        vertical-align: middle;\n",
              "    }\n",
              "\n",
              "    .dataframe tbody tr th {\n",
              "        vertical-align: top;\n",
              "    }\n",
              "\n",
              "    .dataframe thead th {\n",
              "        text-align: right;\n",
              "    }\n",
              "</style>\n",
              "<table border=\"1\" class=\"dataframe\">\n",
              "  <thead>\n",
              "    <tr style=\"text-align: right;\">\n",
              "      <th></th>\n",
              "      <th>vmid</th>\n",
              "      <th>subscriptionid</th>\n",
              "      <th>deploymentid</th>\n",
              "      <th>vmcreated</th>\n",
              "      <th>vmdeleted</th>\n",
              "      <th>maxcpu</th>\n",
              "      <th>avgcpu</th>\n",
              "      <th>p95maxcpu</th>\n",
              "      <th>vmcategory</th>\n",
              "      <th>vmcorecount</th>\n",
              "      <th>vmmemory</th>\n",
              "      <th>lifetime</th>\n",
              "      <th>corehour</th>\n",
              "    </tr>\n",
              "  </thead>\n",
              "  <tbody>\n",
              "    <tr>\n",
              "      <th>0</th>\n",
              "      <td>kIq+LToYe/oJmpZJCT6aYfxRh252I4Bd8FQQIyaLLAST5A...</td>\n",
              "      <td>+9OPyI+/Eeu5PSXVMdkPw3cB99+uk+YiAwMRGJU1cDm2ES...</td>\n",
              "      <td>TSRTTdb9LRjgp+FpJYUBXBczOvLJLO5ksIDZm6OFgtN4Sa...</td>\n",
              "      <td>2305800</td>\n",
              "      <td>2310300</td>\n",
              "      <td>66.909246</td>\n",
              "      <td>2.900874</td>\n",
              "      <td>66.909246</td>\n",
              "      <td>Delay-insensitive</td>\n",
              "      <td>8</td>\n",
              "      <td>14.00</td>\n",
              "      <td>1.250000</td>\n",
              "      <td>10.000000</td>\n",
              "    </tr>\n",
              "    <tr>\n",
              "      <th>1</th>\n",
              "      <td>T5Hgk7CUx9Z/ANIZ+3TIHran3IGgr4RcUoxGNMmWB5+96a...</td>\n",
              "      <td>+9OPyI+/Eeu5PSXVMdkPw3cB99+uk+YiAwMRGJU1cDm2ES...</td>\n",
              "      <td>TSRTTdb9LRjgp+FpJYUBXBczOvLJLO5ksIDZm6OFgtN4Sa...</td>\n",
              "      <td>2305800</td>\n",
              "      <td>2310300</td>\n",
              "      <td>6.510768</td>\n",
              "      <td>2.087024</td>\n",
              "      <td>6.510768</td>\n",
              "      <td>Delay-insensitive</td>\n",
              "      <td>8</td>\n",
              "      <td>14.00</td>\n",
              "      <td>1.250000</td>\n",
              "      <td>10.000000</td>\n",
              "    </tr>\n",
              "    <tr>\n",
              "      <th>2</th>\n",
              "      <td>Omelc/JAGTVT51lNOObucJUr93TlFPNhEhyMeMRWrggtoK...</td>\n",
              "      <td>+9OPyI+/Eeu5PSXVMdkPw3cB99+uk+YiAwMRGJU1cDm2ES...</td>\n",
              "      <td>TSRTTdb9LRjgp+FpJYUBXBczOvLJLO5ksIDZm6OFgtN4Sa...</td>\n",
              "      <td>2238900</td>\n",
              "      <td>2244000</td>\n",
              "      <td>66.956558</td>\n",
              "      <td>3.139114</td>\n",
              "      <td>66.956558</td>\n",
              "      <td>Unkown</td>\n",
              "      <td>8</td>\n",
              "      <td>14.00</td>\n",
              "      <td>1.416667</td>\n",
              "      <td>11.333333</td>\n",
              "    </tr>\n",
              "    <tr>\n",
              "      <th>3</th>\n",
              "      <td>Xrz83UV+7HsyDhOSClTCpitt73f4NVIqxBJIoXgNVOSiCW...</td>\n",
              "      <td>+9OPyI+/Eeu5PSXVMdkPw3cB99+uk+YiAwMRGJU1cDm2ES...</td>\n",
              "      <td>TSRTTdb9LRjgp+FpJYUBXBczOvLJLO5ksIDZm6OFgtN4Sa...</td>\n",
              "      <td>1103700</td>\n",
              "      <td>1104000</td>\n",
              "      <td>98.795780</td>\n",
              "      <td>27.330195</td>\n",
              "      <td>98.795780</td>\n",
              "      <td>Delay-insensitive</td>\n",
              "      <td>1</td>\n",
              "      <td>1.75</td>\n",
              "      <td>0.083333</td>\n",
              "      <td>0.083333</td>\n",
              "    </tr>\n",
              "    <tr>\n",
              "      <th>4</th>\n",
              "      <td>BFJu/lrNsLRY1anlsPB7Ii3cPuz9pavIuk72SKjTo50qyf...</td>\n",
              "      <td>+9OPyI+/Eeu5PSXVMdkPw3cB99+uk+YiAwMRGJU1cDm2ES...</td>\n",
              "      <td>TSRTTdb9LRjgp+FpJYUBXBczOvLJLO5ksIDZm6OFgtN4Sa...</td>\n",
              "      <td>2484600</td>\n",
              "      <td>2505600</td>\n",
              "      <td>6.472197</td>\n",
              "      <td>1.686090</td>\n",
              "      <td>5.768269</td>\n",
              "      <td>Delay-insensitive</td>\n",
              "      <td>8</td>\n",
              "      <td>14.00</td>\n",
              "      <td>5.833333</td>\n",
              "      <td>46.666667</td>\n",
              "    </tr>\n",
              "    <tr>\n",
              "      <th>...</th>\n",
              "      <td>...</td>\n",
              "      <td>...</td>\n",
              "      <td>...</td>\n",
              "      <td>...</td>\n",
              "      <td>...</td>\n",
              "      <td>...</td>\n",
              "      <td>...</td>\n",
              "      <td>...</td>\n",
              "      <td>...</td>\n",
              "      <td>...</td>\n",
              "      <td>...</td>\n",
              "      <td>...</td>\n",
              "      <td>...</td>\n",
              "    </tr>\n",
              "    <tr>\n",
              "      <th>128042</th>\n",
              "      <td>Rj0MEc2eJCMnY1lQLsCr3KlaSqZBlB8jnMRQtntC6x90TT...</td>\n",
              "      <td>+9OPyI+/Eeu5PSXVMdkPw3cB99+uk+YiAwMRGJU1cDm2ES...</td>\n",
              "      <td>TSRTTdb9LRjgp+FpJYUBXBczOvLJLO5ksIDZm6OFgtN4Sa...</td>\n",
              "      <td>348600</td>\n",
              "      <td>349200</td>\n",
              "      <td>78.671207</td>\n",
              "      <td>16.454956</td>\n",
              "      <td>78.671207</td>\n",
              "      <td>Unkown</td>\n",
              "      <td>4</td>\n",
              "      <td>7.00</td>\n",
              "      <td>0.166667</td>\n",
              "      <td>0.666667</td>\n",
              "    </tr>\n",
              "    <tr>\n",
              "      <th>128043</th>\n",
              "      <td>zGixyP8hrPksr7LjouSurrsuvm5qyIvimPZLY1RDSXSvAC...</td>\n",
              "      <td>+9OPyI+/Eeu5PSXVMdkPw3cB99+uk+YiAwMRGJU1cDm2ES...</td>\n",
              "      <td>TSRTTdb9LRjgp+FpJYUBXBczOvLJLO5ksIDZm6OFgtN4Sa...</td>\n",
              "      <td>1511100</td>\n",
              "      <td>1511400</td>\n",
              "      <td>2.396378</td>\n",
              "      <td>1.030316</td>\n",
              "      <td>2.396378</td>\n",
              "      <td>Delay-insensitive</td>\n",
              "      <td>8</td>\n",
              "      <td>14.00</td>\n",
              "      <td>0.083333</td>\n",
              "      <td>0.666667</td>\n",
              "    </tr>\n",
              "    <tr>\n",
              "      <th>128044</th>\n",
              "      <td>3vZ244xrWVCF2MD2dCRSYknxm/sKSKaF416OewRZZOXBY3...</td>\n",
              "      <td>+9OPyI+/Eeu5PSXVMdkPw3cB99+uk+YiAwMRGJU1cDm2ES...</td>\n",
              "      <td>TSRTTdb9LRjgp+FpJYUBXBczOvLJLO5ksIDZm6OFgtN4Sa...</td>\n",
              "      <td>1511100</td>\n",
              "      <td>1511400</td>\n",
              "      <td>13.906270</td>\n",
              "      <td>2.627541</td>\n",
              "      <td>13.906270</td>\n",
              "      <td>Unkown</td>\n",
              "      <td>8</td>\n",
              "      <td>14.00</td>\n",
              "      <td>0.083333</td>\n",
              "      <td>0.666667</td>\n",
              "    </tr>\n",
              "    <tr>\n",
              "      <th>128045</th>\n",
              "      <td>2BpPWqTJVkBhifZ5pd2N4iV03VHHA7weOUpuGR8fNKAnu4...</td>\n",
              "      <td>+9OPyI+/Eeu5PSXVMdkPw3cB99+uk+YiAwMRGJU1cDm2ES...</td>\n",
              "      <td>TSRTTdb9LRjgp+FpJYUBXBczOvLJLO5ksIDZm6OFgtN4Sa...</td>\n",
              "      <td>348600</td>\n",
              "      <td>349200</td>\n",
              "      <td>75.087022</td>\n",
              "      <td>12.464659</td>\n",
              "      <td>75.087022</td>\n",
              "      <td>Unkown</td>\n",
              "      <td>4</td>\n",
              "      <td>7.00</td>\n",
              "      <td>0.166667</td>\n",
              "      <td>0.666667</td>\n",
              "    </tr>\n",
              "    <tr>\n",
              "      <th>128046</th>\n",
              "      <td>OMcoVvrKcmsYj/j+s9Wzvde2Quzz1G+Un/74PfKJShKSyz...</td>\n",
              "      <td>+9OPyI+/Eeu5PSXVMdkPw3cB99+uk+YiAwMRGJU1cDm2ES...</td>\n",
              "      <td>TSRTTdb9LRjgp+FpJYUBXBczOvLJLO5ksIDZm6OFgtN4Sa...</td>\n",
              "      <td>1113900</td>\n",
              "      <td>1113900</td>\n",
              "      <td>41.445622</td>\n",
              "      <td>12.958304</td>\n",
              "      <td>41.445622</td>\n",
              "      <td>Delay-insensitive</td>\n",
              "      <td>1</td>\n",
              "      <td>1.75</td>\n",
              "      <td>0.083333</td>\n",
              "      <td>0.083333</td>\n",
              "    </tr>\n",
              "  </tbody>\n",
              "</table>\n",
              "<p>128047 rows × 13 columns</p>\n",
              "</div>"
            ],
            "text/plain": [
              "                                                     vmid  ...   corehour\n",
              "0       kIq+LToYe/oJmpZJCT6aYfxRh252I4Bd8FQQIyaLLAST5A...  ...  10.000000\n",
              "1       T5Hgk7CUx9Z/ANIZ+3TIHran3IGgr4RcUoxGNMmWB5+96a...  ...  10.000000\n",
              "2       Omelc/JAGTVT51lNOObucJUr93TlFPNhEhyMeMRWrggtoK...  ...  11.333333\n",
              "3       Xrz83UV+7HsyDhOSClTCpitt73f4NVIqxBJIoXgNVOSiCW...  ...   0.083333\n",
              "4       BFJu/lrNsLRY1anlsPB7Ii3cPuz9pavIuk72SKjTo50qyf...  ...  46.666667\n",
              "...                                                   ...  ...        ...\n",
              "128042  Rj0MEc2eJCMnY1lQLsCr3KlaSqZBlB8jnMRQtntC6x90TT...  ...   0.666667\n",
              "128043  zGixyP8hrPksr7LjouSurrsuvm5qyIvimPZLY1RDSXSvAC...  ...   0.666667\n",
              "128044  3vZ244xrWVCF2MD2dCRSYknxm/sKSKaF416OewRZZOXBY3...  ...   0.666667\n",
              "128045  2BpPWqTJVkBhifZ5pd2N4iV03VHHA7weOUpuGR8fNKAnu4...  ...   0.666667\n",
              "128046  OMcoVvrKcmsYj/j+s9Wzvde2Quzz1G+Un/74PfKJShKSyz...  ...   0.083333\n",
              "\n",
              "[128047 rows x 13 columns]"
            ]
          },
          "metadata": {
            "tags": []
          },
          "execution_count": 11
        }
      ]
    },
    {
      "cell_type": "code",
      "metadata": {
        "id": "wmtpZwzklbCb"
      },
      "source": [
        "yearly_data = oneVM_data.loc[0:8039]"
      ],
      "execution_count": 12,
      "outputs": []
    },
    {
      "cell_type": "code",
      "metadata": {
        "colab": {
          "base_uri": "https://localhost:8080/",
          "height": 548
        },
        "id": "C1QcrstbnG6V",
        "outputId": "53d9f15d-f3bc-45fd-e7cb-598d0247c366"
      },
      "source": [
        "yearly_data"
      ],
      "execution_count": 13,
      "outputs": [
        {
          "output_type": "execute_result",
          "data": {
            "text/html": [
              "<div>\n",
              "<style scoped>\n",
              "    .dataframe tbody tr th:only-of-type {\n",
              "        vertical-align: middle;\n",
              "    }\n",
              "\n",
              "    .dataframe tbody tr th {\n",
              "        vertical-align: top;\n",
              "    }\n",
              "\n",
              "    .dataframe thead th {\n",
              "        text-align: right;\n",
              "    }\n",
              "</style>\n",
              "<table border=\"1\" class=\"dataframe\">\n",
              "  <thead>\n",
              "    <tr style=\"text-align: right;\">\n",
              "      <th></th>\n",
              "      <th>vmid</th>\n",
              "      <th>subscriptionid</th>\n",
              "      <th>deploymentid</th>\n",
              "      <th>vmcreated</th>\n",
              "      <th>vmdeleted</th>\n",
              "      <th>maxcpu</th>\n",
              "      <th>avgcpu</th>\n",
              "      <th>p95maxcpu</th>\n",
              "      <th>vmcategory</th>\n",
              "      <th>vmcorecount</th>\n",
              "      <th>vmmemory</th>\n",
              "      <th>lifetime</th>\n",
              "      <th>corehour</th>\n",
              "    </tr>\n",
              "  </thead>\n",
              "  <tbody>\n",
              "    <tr>\n",
              "      <th>0</th>\n",
              "      <td>kIq+LToYe/oJmpZJCT6aYfxRh252I4Bd8FQQIyaLLAST5A...</td>\n",
              "      <td>+9OPyI+/Eeu5PSXVMdkPw3cB99+uk+YiAwMRGJU1cDm2ES...</td>\n",
              "      <td>TSRTTdb9LRjgp+FpJYUBXBczOvLJLO5ksIDZm6OFgtN4Sa...</td>\n",
              "      <td>2305800</td>\n",
              "      <td>2310300</td>\n",
              "      <td>66.909246</td>\n",
              "      <td>2.900874</td>\n",
              "      <td>66.909246</td>\n",
              "      <td>Delay-insensitive</td>\n",
              "      <td>8</td>\n",
              "      <td>14.00</td>\n",
              "      <td>1.250000</td>\n",
              "      <td>10.000000</td>\n",
              "    </tr>\n",
              "    <tr>\n",
              "      <th>1</th>\n",
              "      <td>T5Hgk7CUx9Z/ANIZ+3TIHran3IGgr4RcUoxGNMmWB5+96a...</td>\n",
              "      <td>+9OPyI+/Eeu5PSXVMdkPw3cB99+uk+YiAwMRGJU1cDm2ES...</td>\n",
              "      <td>TSRTTdb9LRjgp+FpJYUBXBczOvLJLO5ksIDZm6OFgtN4Sa...</td>\n",
              "      <td>2305800</td>\n",
              "      <td>2310300</td>\n",
              "      <td>6.510768</td>\n",
              "      <td>2.087024</td>\n",
              "      <td>6.510768</td>\n",
              "      <td>Delay-insensitive</td>\n",
              "      <td>8</td>\n",
              "      <td>14.00</td>\n",
              "      <td>1.250000</td>\n",
              "      <td>10.000000</td>\n",
              "    </tr>\n",
              "    <tr>\n",
              "      <th>2</th>\n",
              "      <td>Omelc/JAGTVT51lNOObucJUr93TlFPNhEhyMeMRWrggtoK...</td>\n",
              "      <td>+9OPyI+/Eeu5PSXVMdkPw3cB99+uk+YiAwMRGJU1cDm2ES...</td>\n",
              "      <td>TSRTTdb9LRjgp+FpJYUBXBczOvLJLO5ksIDZm6OFgtN4Sa...</td>\n",
              "      <td>2238900</td>\n",
              "      <td>2244000</td>\n",
              "      <td>66.956558</td>\n",
              "      <td>3.139114</td>\n",
              "      <td>66.956558</td>\n",
              "      <td>Unkown</td>\n",
              "      <td>8</td>\n",
              "      <td>14.00</td>\n",
              "      <td>1.416667</td>\n",
              "      <td>11.333333</td>\n",
              "    </tr>\n",
              "    <tr>\n",
              "      <th>3</th>\n",
              "      <td>Xrz83UV+7HsyDhOSClTCpitt73f4NVIqxBJIoXgNVOSiCW...</td>\n",
              "      <td>+9OPyI+/Eeu5PSXVMdkPw3cB99+uk+YiAwMRGJU1cDm2ES...</td>\n",
              "      <td>TSRTTdb9LRjgp+FpJYUBXBczOvLJLO5ksIDZm6OFgtN4Sa...</td>\n",
              "      <td>1103700</td>\n",
              "      <td>1104000</td>\n",
              "      <td>98.795780</td>\n",
              "      <td>27.330195</td>\n",
              "      <td>98.795780</td>\n",
              "      <td>Delay-insensitive</td>\n",
              "      <td>1</td>\n",
              "      <td>1.75</td>\n",
              "      <td>0.083333</td>\n",
              "      <td>0.083333</td>\n",
              "    </tr>\n",
              "    <tr>\n",
              "      <th>4</th>\n",
              "      <td>BFJu/lrNsLRY1anlsPB7Ii3cPuz9pavIuk72SKjTo50qyf...</td>\n",
              "      <td>+9OPyI+/Eeu5PSXVMdkPw3cB99+uk+YiAwMRGJU1cDm2ES...</td>\n",
              "      <td>TSRTTdb9LRjgp+FpJYUBXBczOvLJLO5ksIDZm6OFgtN4Sa...</td>\n",
              "      <td>2484600</td>\n",
              "      <td>2505600</td>\n",
              "      <td>6.472197</td>\n",
              "      <td>1.686090</td>\n",
              "      <td>5.768269</td>\n",
              "      <td>Delay-insensitive</td>\n",
              "      <td>8</td>\n",
              "      <td>14.00</td>\n",
              "      <td>5.833333</td>\n",
              "      <td>46.666667</td>\n",
              "    </tr>\n",
              "    <tr>\n",
              "      <th>...</th>\n",
              "      <td>...</td>\n",
              "      <td>...</td>\n",
              "      <td>...</td>\n",
              "      <td>...</td>\n",
              "      <td>...</td>\n",
              "      <td>...</td>\n",
              "      <td>...</td>\n",
              "      <td>...</td>\n",
              "      <td>...</td>\n",
              "      <td>...</td>\n",
              "      <td>...</td>\n",
              "      <td>...</td>\n",
              "      <td>...</td>\n",
              "    </tr>\n",
              "    <tr>\n",
              "      <th>8035</th>\n",
              "      <td>OTZc2y53zvg3JhthNOmD7rri2jIx6ylz/DIJT1tNugg7cZ...</td>\n",
              "      <td>+9OPyI+/Eeu5PSXVMdkPw3cB99+uk+YiAwMRGJU1cDm2ES...</td>\n",
              "      <td>TSRTTdb9LRjgp+FpJYUBXBczOvLJLO5ksIDZm6OFgtN4Sa...</td>\n",
              "      <td>434400</td>\n",
              "      <td>435300</td>\n",
              "      <td>89.453653</td>\n",
              "      <td>24.363767</td>\n",
              "      <td>89.453653</td>\n",
              "      <td>Unkown</td>\n",
              "      <td>4</td>\n",
              "      <td>7.00</td>\n",
              "      <td>0.250000</td>\n",
              "      <td>1.000000</td>\n",
              "    </tr>\n",
              "    <tr>\n",
              "      <th>8036</th>\n",
              "      <td>tnl2xbaHNEfNpKM9Ylt4GdprJQebEUKI5EX85FG5qipIMU...</td>\n",
              "      <td>+9OPyI+/Eeu5PSXVMdkPw3cB99+uk+YiAwMRGJU1cDm2ES...</td>\n",
              "      <td>TSRTTdb9LRjgp+FpJYUBXBczOvLJLO5ksIDZm6OFgtN4Sa...</td>\n",
              "      <td>2120400</td>\n",
              "      <td>2129100</td>\n",
              "      <td>98.841736</td>\n",
              "      <td>5.960542</td>\n",
              "      <td>95.854683</td>\n",
              "      <td>Unkown</td>\n",
              "      <td>8</td>\n",
              "      <td>14.00</td>\n",
              "      <td>2.416667</td>\n",
              "      <td>19.333333</td>\n",
              "    </tr>\n",
              "    <tr>\n",
              "      <th>8037</th>\n",
              "      <td>taFDbwKxCHHITWK1aZR/apJfQpfgFIULfe2mlctkC2LSxk...</td>\n",
              "      <td>+9OPyI+/Eeu5PSXVMdkPw3cB99+uk+YiAwMRGJU1cDm2ES...</td>\n",
              "      <td>TSRTTdb9LRjgp+FpJYUBXBczOvLJLO5ksIDZm6OFgtN4Sa...</td>\n",
              "      <td>434400</td>\n",
              "      <td>435300</td>\n",
              "      <td>70.042481</td>\n",
              "      <td>19.129137</td>\n",
              "      <td>70.042481</td>\n",
              "      <td>Unkown</td>\n",
              "      <td>4</td>\n",
              "      <td>7.00</td>\n",
              "      <td>0.250000</td>\n",
              "      <td>1.000000</td>\n",
              "    </tr>\n",
              "    <tr>\n",
              "      <th>8038</th>\n",
              "      <td>PAwZT/m/JA73C1YnFV1f29HgcPsxHojX2AlAdmHJSDww34...</td>\n",
              "      <td>+9OPyI+/Eeu5PSXVMdkPw3cB99+uk+YiAwMRGJU1cDm2ES...</td>\n",
              "      <td>TSRTTdb9LRjgp+FpJYUBXBczOvLJLO5ksIDZm6OFgtN4Sa...</td>\n",
              "      <td>1221000</td>\n",
              "      <td>1236900</td>\n",
              "      <td>47.881668</td>\n",
              "      <td>1.742805</td>\n",
              "      <td>6.803815</td>\n",
              "      <td>Delay-insensitive</td>\n",
              "      <td>8</td>\n",
              "      <td>14.00</td>\n",
              "      <td>4.416667</td>\n",
              "      <td>35.333333</td>\n",
              "    </tr>\n",
              "    <tr>\n",
              "      <th>8039</th>\n",
              "      <td>w443QKQ+eVrAXBTFH+JdGMtiaL0cMu50p+wnWWGm0tMdHY...</td>\n",
              "      <td>+9OPyI+/Eeu5PSXVMdkPw3cB99+uk+YiAwMRGJU1cDm2ES...</td>\n",
              "      <td>TSRTTdb9LRjgp+FpJYUBXBczOvLJLO5ksIDZm6OFgtN4Sa...</td>\n",
              "      <td>1092000</td>\n",
              "      <td>1099500</td>\n",
              "      <td>80.857566</td>\n",
              "      <td>4.944003</td>\n",
              "      <td>76.335385</td>\n",
              "      <td>Delay-insensitive</td>\n",
              "      <td>8</td>\n",
              "      <td>14.00</td>\n",
              "      <td>2.083333</td>\n",
              "      <td>16.666667</td>\n",
              "    </tr>\n",
              "  </tbody>\n",
              "</table>\n",
              "<p>8040 rows × 13 columns</p>\n",
              "</div>"
            ],
            "text/plain": [
              "                                                   vmid  ...   corehour\n",
              "0     kIq+LToYe/oJmpZJCT6aYfxRh252I4Bd8FQQIyaLLAST5A...  ...  10.000000\n",
              "1     T5Hgk7CUx9Z/ANIZ+3TIHran3IGgr4RcUoxGNMmWB5+96a...  ...  10.000000\n",
              "2     Omelc/JAGTVT51lNOObucJUr93TlFPNhEhyMeMRWrggtoK...  ...  11.333333\n",
              "3     Xrz83UV+7HsyDhOSClTCpitt73f4NVIqxBJIoXgNVOSiCW...  ...   0.083333\n",
              "4     BFJu/lrNsLRY1anlsPB7Ii3cPuz9pavIuk72SKjTo50qyf...  ...  46.666667\n",
              "...                                                 ...  ...        ...\n",
              "8035  OTZc2y53zvg3JhthNOmD7rri2jIx6ylz/DIJT1tNugg7cZ...  ...   1.000000\n",
              "8036  tnl2xbaHNEfNpKM9Ylt4GdprJQebEUKI5EX85FG5qipIMU...  ...  19.333333\n",
              "8037  taFDbwKxCHHITWK1aZR/apJfQpfgFIULfe2mlctkC2LSxk...  ...   1.000000\n",
              "8038  PAwZT/m/JA73C1YnFV1f29HgcPsxHojX2AlAdmHJSDww34...  ...  35.333333\n",
              "8039  w443QKQ+eVrAXBTFH+JdGMtiaL0cMu50p+wnWWGm0tMdHY...  ...  16.666667\n",
              "\n",
              "[8040 rows x 13 columns]"
            ]
          },
          "metadata": {
            "tags": []
          },
          "execution_count": 13
        }
      ]
    },
    {
      "cell_type": "code",
      "metadata": {
        "id": "cOu4hFmwggHp"
      },
      "source": [
        "from datetime import datetime\n",
        "from datetime import datetime\n",
        "Timestamp = pd.date_range('2020-01-01', periods=8040, freq='H')\n",
        "#bytes_df[\"Timestamp\"] = pd.date_range(datetime(2020, 11, 15, hour=23, minute=0), periods=3945, freq='5min')"
      ],
      "execution_count": 14,
      "outputs": []
    },
    {
      "cell_type": "code",
      "metadata": {
        "id": "YHgYafJLp5z9"
      },
      "source": [
        "time_stamp = pd.Series(Timestamp)"
      ],
      "execution_count": 15,
      "outputs": []
    },
    {
      "cell_type": "code",
      "metadata": {
        "colab": {
          "base_uri": "https://localhost:8080/"
        },
        "id": "v8r6k6cLqB4k",
        "outputId": "2a9b4b51-0392-4ecc-e7db-a5fe7d343b9f"
      },
      "source": [
        "time_stamp"
      ],
      "execution_count": 16,
      "outputs": [
        {
          "output_type": "execute_result",
          "data": {
            "text/plain": [
              "0      2020-01-01 00:00:00\n",
              "1      2020-01-01 01:00:00\n",
              "2      2020-01-01 02:00:00\n",
              "3      2020-01-01 03:00:00\n",
              "4      2020-01-01 04:00:00\n",
              "               ...        \n",
              "8035   2020-11-30 19:00:00\n",
              "8036   2020-11-30 20:00:00\n",
              "8037   2020-11-30 21:00:00\n",
              "8038   2020-11-30 22:00:00\n",
              "8039   2020-11-30 23:00:00\n",
              "Length: 8040, dtype: datetime64[ns]"
            ]
          },
          "metadata": {
            "tags": []
          },
          "execution_count": 16
        }
      ]
    },
    {
      "cell_type": "code",
      "metadata": {
        "colab": {
          "base_uri": "https://localhost:8080/"
        },
        "id": "VSWTZPQBpyJN",
        "outputId": "0467de10-6737-4935-d399-632a6fd3833e"
      },
      "source": [
        "type(time_stamp)"
      ],
      "execution_count": 17,
      "outputs": [
        {
          "output_type": "execute_result",
          "data": {
            "text/plain": [
              "pandas.core.series.Series"
            ]
          },
          "metadata": {
            "tags": []
          },
          "execution_count": 17
        }
      ]
    },
    {
      "cell_type": "code",
      "metadata": {
        "colab": {
          "base_uri": "https://localhost:8080/"
        },
        "id": "l2LPwsp1qugm",
        "outputId": "e5d61142-5162-426b-e9f2-ab6afef95fd3"
      },
      "source": [
        "time_stamp.value_counts(ascending=True)"
      ],
      "execution_count": 18,
      "outputs": [
        {
          "output_type": "execute_result",
          "data": {
            "text/plain": [
              "2020-04-13 22:00:00    1\n",
              "2020-05-18 21:00:00    1\n",
              "2020-06-20 03:00:00    1\n",
              "2020-11-09 09:00:00    1\n",
              "2020-09-07 00:00:00    1\n",
              "                      ..\n",
              "2020-06-13 18:00:00    1\n",
              "2020-06-13 10:00:00    1\n",
              "2020-05-19 13:00:00    1\n",
              "2020-03-11 16:00:00    1\n",
              "2020-09-16 23:00:00    1\n",
              "Length: 8040, dtype: int64"
            ]
          },
          "metadata": {
            "tags": []
          },
          "execution_count": 18
        }
      ]
    },
    {
      "cell_type": "code",
      "metadata": {
        "id": "9gXTnjPzAaDx"
      },
      "source": [
        "useful_data = yearly_data[[\"maxcpu\", \"lifetime\", \"corehour\"]]"
      ],
      "execution_count": 176,
      "outputs": []
    },
    {
      "cell_type": "code",
      "metadata": {
        "id": "SvDnJYfAGPpb",
        "colab": {
          "base_uri": "https://localhost:8080/"
        },
        "outputId": "7b8f2edc-0812-4020-fbd8-68eba457619a"
      },
      "source": [
        "len(useful_data)"
      ],
      "execution_count": 177,
      "outputs": [
        {
          "output_type": "execute_result",
          "data": {
            "text/plain": [
              "8040"
            ]
          },
          "metadata": {
            "tags": []
          },
          "execution_count": 177
        }
      ]
    },
    {
      "cell_type": "code",
      "metadata": {
        "colab": {
          "base_uri": "https://localhost:8080/"
        },
        "id": "kS3vBcaqpqxv",
        "outputId": "c4fd864e-31d3-4258-e89c-7508bfbb3b31"
      },
      "source": [
        "useful_data[\"Timestamp\"] = time_stamp"
      ],
      "execution_count": 178,
      "outputs": [
        {
          "output_type": "stream",
          "text": [
            "/usr/local/lib/python3.6/dist-packages/ipykernel_launcher.py:1: SettingWithCopyWarning: \n",
            "A value is trying to be set on a copy of a slice from a DataFrame.\n",
            "Try using .loc[row_indexer,col_indexer] = value instead\n",
            "\n",
            "See the caveats in the documentation: https://pandas.pydata.org/pandas-docs/stable/user_guide/indexing.html#returning-a-view-versus-a-copy\n",
            "  \"\"\"Entry point for launching an IPython kernel.\n"
          ],
          "name": "stderr"
        }
      ]
    },
    {
      "cell_type": "code",
      "metadata": {
        "id": "9YOBy8PDF7_L"
      },
      "source": [
        "check = useful_data[useful_data[\"Timestamp\"]=='2020-02-29 00:00:00']"
      ],
      "execution_count": 179,
      "outputs": []
    },
    {
      "cell_type": "code",
      "metadata": {
        "colab": {
          "base_uri": "https://localhost:8080/",
          "height": 81
        },
        "id": "A6zqxXB2raxb",
        "outputId": "9672ac69-3128-48ab-cdd7-38da910382c9"
      },
      "source": [
        "check"
      ],
      "execution_count": 180,
      "outputs": [
        {
          "output_type": "execute_result",
          "data": {
            "text/html": [
              "<div>\n",
              "<style scoped>\n",
              "    .dataframe tbody tr th:only-of-type {\n",
              "        vertical-align: middle;\n",
              "    }\n",
              "\n",
              "    .dataframe tbody tr th {\n",
              "        vertical-align: top;\n",
              "    }\n",
              "\n",
              "    .dataframe thead th {\n",
              "        text-align: right;\n",
              "    }\n",
              "</style>\n",
              "<table border=\"1\" class=\"dataframe\">\n",
              "  <thead>\n",
              "    <tr style=\"text-align: right;\">\n",
              "      <th></th>\n",
              "      <th>maxcpu</th>\n",
              "      <th>lifetime</th>\n",
              "      <th>corehour</th>\n",
              "      <th>Timestamp</th>\n",
              "    </tr>\n",
              "  </thead>\n",
              "  <tbody>\n",
              "    <tr>\n",
              "      <th>1416</th>\n",
              "      <td>47.843143</td>\n",
              "      <td>0.083333</td>\n",
              "      <td>0.166667</td>\n",
              "      <td>2020-02-29</td>\n",
              "    </tr>\n",
              "  </tbody>\n",
              "</table>\n",
              "</div>"
            ],
            "text/plain": [
              "         maxcpu  lifetime  corehour  Timestamp\n",
              "1416  47.843143  0.083333  0.166667 2020-02-29"
            ]
          },
          "metadata": {
            "tags": []
          },
          "execution_count": 180
        }
      ]
    },
    {
      "cell_type": "code",
      "metadata": {
        "colab": {
          "base_uri": "https://localhost:8080/"
        },
        "id": "EizABIRbFi0C",
        "outputId": "499c542b-0c95-4164-992f-0b8cf592e963"
      },
      "source": [
        "\n",
        "useful_data.columns"
      ],
      "execution_count": 181,
      "outputs": [
        {
          "output_type": "execute_result",
          "data": {
            "text/plain": [
              "Index(['maxcpu', 'lifetime', 'corehour', 'Timestamp'], dtype='object')"
            ]
          },
          "metadata": {
            "tags": []
          },
          "execution_count": 181
        }
      ]
    },
    {
      "cell_type": "code",
      "metadata": {
        "colab": {
          "base_uri": "https://localhost:8080/"
        },
        "id": "2unPCDZqqkld",
        "outputId": "2369fab3-72ae-4fe5-ebfc-0d9112e83743"
      },
      "source": [
        "len(useful_data)"
      ],
      "execution_count": 182,
      "outputs": [
        {
          "output_type": "execute_result",
          "data": {
            "text/plain": [
              "8040"
            ]
          },
          "metadata": {
            "tags": []
          },
          "execution_count": 182
        }
      ]
    },
    {
      "cell_type": "code",
      "metadata": {
        "id": "zLeVWFXgppVb",
        "outputId": "676e633f-3861-454c-b4a9-4c308c0cd111",
        "colab": {
          "base_uri": "https://localhost:8080/",
          "height": 206
        }
      },
      "source": [
        "useful_data.head()"
      ],
      "execution_count": 190,
      "outputs": [
        {
          "output_type": "execute_result",
          "data": {
            "text/html": [
              "<div>\n",
              "<style scoped>\n",
              "    .dataframe tbody tr th:only-of-type {\n",
              "        vertical-align: middle;\n",
              "    }\n",
              "\n",
              "    .dataframe tbody tr th {\n",
              "        vertical-align: top;\n",
              "    }\n",
              "\n",
              "    .dataframe thead th {\n",
              "        text-align: right;\n",
              "    }\n",
              "</style>\n",
              "<table border=\"1\" class=\"dataframe\">\n",
              "  <thead>\n",
              "    <tr style=\"text-align: right;\">\n",
              "      <th></th>\n",
              "      <th>maxcpu</th>\n",
              "      <th>lifetime</th>\n",
              "      <th>corehour</th>\n",
              "      <th>Timestamp</th>\n",
              "    </tr>\n",
              "  </thead>\n",
              "  <tbody>\n",
              "    <tr>\n",
              "      <th>0</th>\n",
              "      <td>66.909246</td>\n",
              "      <td>1.250000</td>\n",
              "      <td>10.000000</td>\n",
              "      <td>2020-01-01 00:00:00</td>\n",
              "    </tr>\n",
              "    <tr>\n",
              "      <th>1</th>\n",
              "      <td>6.510768</td>\n",
              "      <td>1.250000</td>\n",
              "      <td>10.000000</td>\n",
              "      <td>2020-01-01 01:00:00</td>\n",
              "    </tr>\n",
              "    <tr>\n",
              "      <th>2</th>\n",
              "      <td>66.956558</td>\n",
              "      <td>1.416667</td>\n",
              "      <td>11.333333</td>\n",
              "      <td>2020-01-01 02:00:00</td>\n",
              "    </tr>\n",
              "    <tr>\n",
              "      <th>3</th>\n",
              "      <td>98.795780</td>\n",
              "      <td>0.083333</td>\n",
              "      <td>0.083333</td>\n",
              "      <td>2020-01-01 03:00:00</td>\n",
              "    </tr>\n",
              "    <tr>\n",
              "      <th>4</th>\n",
              "      <td>6.472197</td>\n",
              "      <td>5.833333</td>\n",
              "      <td>46.666667</td>\n",
              "      <td>2020-01-01 04:00:00</td>\n",
              "    </tr>\n",
              "  </tbody>\n",
              "</table>\n",
              "</div>"
            ],
            "text/plain": [
              "      maxcpu  lifetime   corehour           Timestamp\n",
              "0  66.909246  1.250000  10.000000 2020-01-01 00:00:00\n",
              "1   6.510768  1.250000  10.000000 2020-01-01 01:00:00\n",
              "2  66.956558  1.416667  11.333333 2020-01-01 02:00:00\n",
              "3  98.795780  0.083333   0.083333 2020-01-01 03:00:00\n",
              "4   6.472197  5.833333  46.666667 2020-01-01 04:00:00"
            ]
          },
          "metadata": {
            "tags": []
          },
          "execution_count": 190
        }
      ]
    },
    {
      "cell_type": "code",
      "metadata": {
        "id": "dNUHT-S5G26S"
      },
      "source": [
        "data = useful_data.copy()"
      ],
      "execution_count": 323,
      "outputs": []
    },
    {
      "cell_type": "code",
      "metadata": {
        "id": "vg5uHa2_pojL"
      },
      "source": [
        ""
      ],
      "execution_count": 323,
      "outputs": []
    },
    {
      "cell_type": "code",
      "metadata": {
        "colab": {
          "base_uri": "https://localhost:8080/",
          "height": 335
        },
        "id": "y9IOd6N2sbBV",
        "outputId": "a252c897-8d70-43d6-c675-6febf3b070bb"
      },
      "source": [
        "# Color pallete for plotting\n",
        "color_pal = [\"#F8766D\", \"#D39200\", \"#93AA00\",\n",
        "             \"#00BA38\", \"#00C19F\", \"#00B9E3\",\n",
        "             \"#619CFF\", \"#DB72FB\"]\n",
        "data['maxcpu'].plot(style='.', figsize=(15,5), color=color_pal[0], title='MaxCPU')\n",
        "plt.show()"
      ],
      "execution_count": 324,
      "outputs": [
        {
          "output_type": "display_data",
          "data": {
            "image/png": "[encoded data removed]",
            "text/plain": [
              "<Figure size 1080x360 with 1 Axes>"
            ]
          },
          "metadata": {
            "tags": [],
            "needs_background": "light"
          }
        }
      ]
    },
    {
      "cell_type": "code",
      "metadata": {
        "colab": {
          "base_uri": "https://localhost:8080/",
          "height": 277
        },
        "id": "qC_2JEg2sD6O",
        "outputId": "402a701a-3df3-469a-9ae7-4b10c32f0b6c"
      },
      "source": [
        "plt.rc('font', family='serif')\n",
        "plt.figure()\n",
        "plt.grid()\n",
        "plt.plot(data['maxcpu'], \"-b\", label=\"real\")\n",
        "# plt.plot(y_pred, \"-r\", label=\"pred\")\n",
        "plt.legend()\n",
        "plt.xlabel(\"Time\")\n",
        "plt.ylabel(\"maxcpu\")\n",
        "#plt.savefig('original.png', format='png', dpi=720)\n",
        "plt.show()"
      ],
      "execution_count": 325,
      "outputs": [
        {
          "output_type": "display_data",
          "data": {
            "image/png": "[encoded data removed]",
            "text/plain": [
              "<Figure size 432x288 with 1 Axes>"
            ]
          },
          "metadata": {
            "tags": [],
            "needs_background": "light"
          }
        }
      ]
    },
    {
      "cell_type": "code",
      "metadata": {
        "id": "MBeqYtIuFDuQ"
      },
      "source": [
        "# eps = 0.00001\n",
        "# df[columns[0:]] = (df[columns[0:]] - df[columns[0:]].min() + eps) / (\n",
        "#                 df[columns[0:]].max() - df[columns[0:]].min() + eps)"
      ],
      "execution_count": 326,
      "outputs": []
    },
    {
      "cell_type": "code",
      "metadata": {
        "colab": {
          "base_uri": "https://localhost:8080/",
          "height": 206
        },
        "id": "9O0IVIgBJ2el",
        "outputId": "4ff6fbf6-8ba8-4aeb-d37d-51c490fad97a"
      },
      "source": [
        "data.head()"
      ],
      "execution_count": 327,
      "outputs": [
        {
          "output_type": "execute_result",
          "data": {
            "text/html": [
              "<div>\n",
              "<style scoped>\n",
              "    .dataframe tbody tr th:only-of-type {\n",
              "        vertical-align: middle;\n",
              "    }\n",
              "\n",
              "    .dataframe tbody tr th {\n",
              "        vertical-align: top;\n",
              "    }\n",
              "\n",
              "    .dataframe thead th {\n",
              "        text-align: right;\n",
              "    }\n",
              "</style>\n",
              "<table border=\"1\" class=\"dataframe\">\n",
              "  <thead>\n",
              "    <tr style=\"text-align: right;\">\n",
              "      <th></th>\n",
              "      <th>maxcpu</th>\n",
              "      <th>lifetime</th>\n",
              "      <th>corehour</th>\n",
              "      <th>Timestamp</th>\n",
              "    </tr>\n",
              "  </thead>\n",
              "  <tbody>\n",
              "    <tr>\n",
              "      <th>0</th>\n",
              "      <td>66.909246</td>\n",
              "      <td>1.250000</td>\n",
              "      <td>10.000000</td>\n",
              "      <td>2020-01-01 00:00:00</td>\n",
              "    </tr>\n",
              "    <tr>\n",
              "      <th>1</th>\n",
              "      <td>6.510768</td>\n",
              "      <td>1.250000</td>\n",
              "      <td>10.000000</td>\n",
              "      <td>2020-01-01 01:00:00</td>\n",
              "    </tr>\n",
              "    <tr>\n",
              "      <th>2</th>\n",
              "      <td>66.956558</td>\n",
              "      <td>1.416667</td>\n",
              "      <td>11.333333</td>\n",
              "      <td>2020-01-01 02:00:00</td>\n",
              "    </tr>\n",
              "    <tr>\n",
              "      <th>3</th>\n",
              "      <td>98.795780</td>\n",
              "      <td>0.083333</td>\n",
              "      <td>0.083333</td>\n",
              "      <td>2020-01-01 03:00:00</td>\n",
              "    </tr>\n",
              "    <tr>\n",
              "      <th>4</th>\n",
              "      <td>6.472197</td>\n",
              "      <td>5.833333</td>\n",
              "      <td>46.666667</td>\n",
              "      <td>2020-01-01 04:00:00</td>\n",
              "    </tr>\n",
              "  </tbody>\n",
              "</table>\n",
              "</div>"
            ],
            "text/plain": [
              "      maxcpu  lifetime   corehour           Timestamp\n",
              "0  66.909246  1.250000  10.000000 2020-01-01 00:00:00\n",
              "1   6.510768  1.250000  10.000000 2020-01-01 01:00:00\n",
              "2  66.956558  1.416667  11.333333 2020-01-01 02:00:00\n",
              "3  98.795780  0.083333   0.083333 2020-01-01 03:00:00\n",
              "4   6.472197  5.833333  46.666667 2020-01-01 04:00:00"
            ]
          },
          "metadata": {
            "tags": []
          },
          "execution_count": 327
        }
      ]
    },
    {
      "cell_type": "code",
      "metadata": {
        "id": "4OnzbbZxg2pg"
      },
      "source": [
        "data = data.set_index(\"Timestamp\")"
      ],
      "execution_count": 328,
      "outputs": []
    },
    {
      "cell_type": "code",
      "metadata": {
        "id": "8IDFrEHDg8Tw"
      },
      "source": [
        "data = data.reset_index()"
      ],
      "execution_count": 329,
      "outputs": []
    },
    {
      "cell_type": "code",
      "metadata": {
        "id": "Rph_u6NwhEM_",
        "outputId": "2268a465-92d8-48ee-dd14-cadee2ef2d66",
        "colab": {
          "base_uri": "https://localhost:8080/",
          "height": 206
        }
      },
      "source": [
        "data.head()"
      ],
      "execution_count": 330,
      "outputs": [
        {
          "output_type": "execute_result",
          "data": {
            "text/html": [
              "<div>\n",
              "<style scoped>\n",
              "    .dataframe tbody tr th:only-of-type {\n",
              "        vertical-align: middle;\n",
              "    }\n",
              "\n",
              "    .dataframe tbody tr th {\n",
              "        vertical-align: top;\n",
              "    }\n",
              "\n",
              "    .dataframe thead th {\n",
              "        text-align: right;\n",
              "    }\n",
              "</style>\n",
              "<table border=\"1\" class=\"dataframe\">\n",
              "  <thead>\n",
              "    <tr style=\"text-align: right;\">\n",
              "      <th></th>\n",
              "      <th>Timestamp</th>\n",
              "      <th>maxcpu</th>\n",
              "      <th>lifetime</th>\n",
              "      <th>corehour</th>\n",
              "    </tr>\n",
              "  </thead>\n",
              "  <tbody>\n",
              "    <tr>\n",
              "      <th>0</th>\n",
              "      <td>2020-01-01 00:00:00</td>\n",
              "      <td>66.909246</td>\n",
              "      <td>1.250000</td>\n",
              "      <td>10.000000</td>\n",
              "    </tr>\n",
              "    <tr>\n",
              "      <th>1</th>\n",
              "      <td>2020-01-01 01:00:00</td>\n",
              "      <td>6.510768</td>\n",
              "      <td>1.250000</td>\n",
              "      <td>10.000000</td>\n",
              "    </tr>\n",
              "    <tr>\n",
              "      <th>2</th>\n",
              "      <td>2020-01-01 02:00:00</td>\n",
              "      <td>66.956558</td>\n",
              "      <td>1.416667</td>\n",
              "      <td>11.333333</td>\n",
              "    </tr>\n",
              "    <tr>\n",
              "      <th>3</th>\n",
              "      <td>2020-01-01 03:00:00</td>\n",
              "      <td>98.795780</td>\n",
              "      <td>0.083333</td>\n",
              "      <td>0.083333</td>\n",
              "    </tr>\n",
              "    <tr>\n",
              "      <th>4</th>\n",
              "      <td>2020-01-01 04:00:00</td>\n",
              "      <td>6.472197</td>\n",
              "      <td>5.833333</td>\n",
              "      <td>46.666667</td>\n",
              "    </tr>\n",
              "  </tbody>\n",
              "</table>\n",
              "</div>"
            ],
            "text/plain": [
              "            Timestamp     maxcpu  lifetime   corehour\n",
              "0 2020-01-01 00:00:00  66.909246  1.250000  10.000000\n",
              "1 2020-01-01 01:00:00   6.510768  1.250000  10.000000\n",
              "2 2020-01-01 02:00:00  66.956558  1.416667  11.333333\n",
              "3 2020-01-01 03:00:00  98.795780  0.083333   0.083333\n",
              "4 2020-01-01 04:00:00   6.472197  5.833333  46.666667"
            ]
          },
          "metadata": {
            "tags": []
          },
          "execution_count": 330
        }
      ]
    },
    {
      "cell_type": "code",
      "metadata": {
        "colab": {
          "base_uri": "https://localhost:8080/"
        },
        "id": "wtgPlkW5t8qH",
        "outputId": "fbc6d3b2-a01d-469a-f899-297063001f01"
      },
      "source": [
        "len(data)"
      ],
      "execution_count": 331,
      "outputs": [
        {
          "output_type": "execute_result",
          "data": {
            "text/plain": [
              "8040"
            ]
          },
          "metadata": {
            "tags": []
          },
          "execution_count": 331
        }
      ]
    },
    {
      "cell_type": "code",
      "metadata": {
        "colab": {
          "base_uri": "https://localhost:8080/"
        },
        "id": "134Y4lNZv4qY",
        "outputId": "ba9940be-bb41-42a7-d759-8a294dd7cc7c"
      },
      "source": [
        "data.columns"
      ],
      "execution_count": 332,
      "outputs": [
        {
          "output_type": "execute_result",
          "data": {
            "text/plain": [
              "Index(['Timestamp', 'maxcpu', 'lifetime', 'corehour'], dtype='object')"
            ]
          },
          "metadata": {
            "tags": []
          },
          "execution_count": 332
        }
      ]
    },
    {
      "cell_type": "code",
      "metadata": {
        "id": "sWvqEYdykBk4"
      },
      "source": [
        "x_data = data[['maxcpu', 'lifetime', 'corehour']]\n",
        "y_data = data[\"maxcpu\"]"
      ],
      "execution_count": 333,
      "outputs": []
    },
    {
      "cell_type": "code",
      "metadata": {
        "id": "1GwW6nrEq1ST"
      },
      "source": [
        "split_size = 0.9\n",
        "split_val = int(len(data)*split_size)\n",
        "#split_val = 7968\n",
        "x_train = x_data[:split_val]\n",
        "y_train = y_data[:split_val]\n",
        "x_test = x_data[split_val:]\n",
        "y_test = y_data[split_val:]"
      ],
      "execution_count": 334,
      "outputs": []
    },
    {
      "cell_type": "code",
      "metadata": {
        "id": "crwbb-WUtVNU"
      },
      "source": [
        "#scale the data\n",
        "# scalers\n",
        "# scaler_x = StandardScaler()\n",
        "# scaler_y = StandardScaler()\n",
        "scaler_x = MinMaxScaler()\n",
        "scaler_y = MinMaxScaler()\n",
        "# scaling\n",
        "x_train_sc = scaler_x.fit_transform(x_train.to_numpy())\n",
        "x_test_sc = scaler_x.transform(x_test.to_numpy())\n",
        "y_train_sc = scaler_y.fit_transform(y_train.to_numpy().reshape(-1,1))\n",
        "y_test_sc = scaler_y.transform(y_test.to_numpy().reshape(-1,1))"
      ],
      "execution_count": 293,
      "outputs": []
    },
    {
      "cell_type": "code",
      "metadata": {
        "id": "FYOJCYBPuQ0k",
        "outputId": "69387a03-fbe4-4cb8-8efb-238d4cf1e5a1",
        "colab": {
          "base_uri": "https://localhost:8080/"
        }
      },
      "source": [
        "print(\"x_train_sc shape = {}\".format(x_train_sc.shape))\n",
        "print(\"y_train_sc shape = {}\".format(y_train_sc.shape))\n",
        "print(\"x_test_sc shape = {}\".format(x_test_sc.shape))\n",
        "print(\"y_test_sc shape = {}\".format(y_test_sc.shape))"
      ],
      "execution_count": 294,
      "outputs": [
        {
          "output_type": "stream",
          "text": [
            "x_train_sc shape = (7236, 3)\n",
            "y_train_sc shape = (7236, 1)\n",
            "x_test_sc shape = (804, 3)\n",
            "y_test_sc shape = (804, 1)\n"
          ],
          "name": "stdout"
        }
      ]
    },
    {
      "cell_type": "code",
      "metadata": {
        "id": "QYL_u08vG1jE"
      },
      "source": [
        "def create_dataset(X, y, time_steps=1):\n",
        "    Xs, ys = [], []\n",
        "    for i in range(len(X) - time_steps):\n",
        "\n",
        "      v = X[i:(i + time_steps),:]\n",
        "      #print(v)\n",
        "      Xs.append(v)\n",
        "      ys.append(y[i+time_steps])\n",
        "    return np.array(Xs), np.array(ys)"
      ],
      "execution_count": 295,
      "outputs": []
    },
    {
      "cell_type": "code",
      "metadata": {
        "id": "eNRC4y1of_N1"
      },
      "source": [
        "#tf.keras.backend.clear_session()\n",
        "timestep = 24\n",
        "Xtrain, ytrain = create_dataset(x_train_sc, y_train_sc, timestep)\n",
        "Xtest, ytest = create_dataset(x_test_sc, y_test_sc, timestep)"
      ],
      "execution_count": 296,
      "outputs": []
    },
    {
      "cell_type": "code",
      "metadata": {
        "colab": {
          "base_uri": "https://localhost:8080/"
        },
        "id": "HN0OU4rsLH9F",
        "outputId": "b59b28df-10ca-420a-b9d7-cbab87cd53d8"
      },
      "source": [
        "print(\"Xtrain shape = {}\".format(Xtrain.shape))\n",
        "print(\"ytrain shape = {}\".format(ytrain.shape))\n",
        "print(\"Xtest shape = {}\".format(Xtest.shape))\n",
        "print(\"ytest shape = {}\".format(ytest.shape))"
      ],
      "execution_count": 297,
      "outputs": [
        {
          "output_type": "stream",
          "text": [
            "Xtrain shape = (7212, 24, 3)\n",
            "ytrain shape = (7212, 1)\n",
            "Xtest shape = (780, 24, 3)\n",
            "ytest shape = (780, 1)\n"
          ],
          "name": "stdout"
        }
      ]
    },
    {
      "cell_type": "code",
      "metadata": {
        "id": "O5x4XfQPKMuu"
      },
      "source": [
        " #ytrain = np.expand_dims(ytrain, axis=-1)"
      ],
      "execution_count": 298,
      "outputs": []
    },
    {
      "cell_type": "code",
      "metadata": {
        "id": "BE4oztPIKh9O"
      },
      "source": [
        "#ytrain.shape"
      ],
      "execution_count": 299,
      "outputs": []
    },
    {
      "cell_type": "code",
      "metadata": {
        "id": "urBvPXtPiS-H"
      },
      "source": [
        "#ytest = np.expand_dims(ytest, axis=-1)"
      ],
      "execution_count": 300,
      "outputs": []
    },
    {
      "cell_type": "code",
      "metadata": {
        "id": "pBY6MCBwit-m"
      },
      "source": [
        "#ytest.shape"
      ],
      "execution_count": 301,
      "outputs": []
    },
    {
      "cell_type": "code",
      "metadata": {
        "id": "DHODEC1-ivEW"
      },
      "source": [
        "import tensorflow\n",
        "from tensorflow.keras.models import Sequential\n",
        "from tensorflow.keras.layers import Dense\n",
        "from tensorflow.keras.layers import Bidirectional\n",
        "from tensorflow.keras.layers import LSTM\n",
        "from tensorflow.keras.optimizers import Adam\n",
        "from tensorflow.keras.layers import Dropout\n",
        "tensorflow.get_logger().setLevel('ERROR')\n",
        "\n",
        "tensorflow.keras.backend.clear_session()"
      ],
      "execution_count": 302,
      "outputs": []
    },
    {
      "cell_type": "code",
      "metadata": {
        "id": "DllNsTXDi03G"
      },
      "source": [
        "import tensorflow as tf\n",
        "model = tf.keras.models.Sequential([\n",
        "  tf.keras.layers.Conv1D(filters=32, kernel_size=5,\n",
        "                      strides=1, padding=\"causal\",\n",
        "                      activation=\"relu\",\n",
        "                      input_shape=[None, 3]),\n",
        "  tf.keras.layers.Bidirectional(tf.keras.layers.LSTM(32, return_sequences=True)),\n",
        "  tf.keras.layers.Bidirectional(tf.keras.layers.LSTM(32, return_sequences=False)),\n",
        "  #tf.keras.layers.Dropout(0.1),\n",
        "  tf.keras.layers.Dense(1),\n",
        "  tf.keras.layers.Lambda(lambda x: x * 200)\n",
        "])\n",
        "lr_schedule = tf.keras.callbacks.LearningRateScheduler(\n",
        "    lambda epoch: 1e-8 * 10**(epoch / 20))\n",
        "optimizer = tf.keras.optimizers.SGD(lr=1e-8, momentum=0.9)\n",
        "model.compile(loss=tf.keras.losses.Huber(),\n",
        "              optimizer=optimizer,\n",
        "              metrics=[\"mse\"])\n",
        "#history = model.fit(X_train, Y_train, epochs=100, validation_data=(X_test, Y_test), callbacks=[lr_schedule])"
      ],
      "execution_count": 303,
      "outputs": []
    },
    {
      "cell_type": "code",
      "metadata": {
        "id": "bMNl9DbreERH",
        "outputId": "1618cfd2-ec5f-4996-d728-d47d5aacda1a",
        "colab": {
          "base_uri": "https://localhost:8080/"
        }
      },
      "source": [
        "model.summary()"
      ],
      "execution_count": 304,
      "outputs": [
        {
          "output_type": "stream",
          "text": [
            "Model: \"sequential\"\n",
            "_________________________________________________________________\n",
            "Layer (type)                 Output Shape              Param #   \n",
            "=================================================================\n",
            "conv1d (Conv1D)              (None, None, 32)          512       \n",
            "_________________________________________________________________\n",
            "bidirectional (Bidirectional (None, None, 64)          16640     \n",
            "_________________________________________________________________\n",
            "bidirectional_1 (Bidirection (None, 64)                24832     \n",
            "_________________________________________________________________\n",
            "dense (Dense)                (None, 1)                 65        \n",
            "_________________________________________________________________\n",
            "lambda (Lambda)              (None, 1)                 0         \n",
            "=================================================================\n",
            "Total params: 42,049\n",
            "Trainable params: 42,049\n",
            "Non-trainable params: 0\n",
            "_________________________________________________________________\n"
          ],
          "name": "stdout"
        }
      ]
    },
    {
      "cell_type": "code",
      "metadata": {
        "colab": {
          "base_uri": "https://localhost:8080/"
        },
        "id": "k8RMVBKljusn",
        "outputId": "d4652f37-6b2c-4ea3-b5ff-fcc85bd19f63"
      },
      "source": [
        "history = model.fit(Xtrain, ytrain, epochs=100, validation_data=(Xtest, ytest), callbacks=[lr_schedule], batch_size=64)"
      ],
      "execution_count": 305,
      "outputs": [
        {
          "output_type": "stream",
          "text": [
            "Epoch 1/100\n",
            "113/113 [==============================] - 4s 38ms/step - loss: 4.2820 - mse: 26.9503 - val_loss: 2.2904 - val_mse: 9.8656\n",
            "Epoch 2/100\n",
            "113/113 [==============================] - 3s 26ms/step - loss: 2.2761 - mse: 9.8830 - val_loss: 0.9323 - val_mse: 2.8273\n",
            "Epoch 3/100\n",
            "113/113 [==============================] - 3s 25ms/step - loss: 1.1806 - mse: 3.9790 - val_loss: 0.9500 - val_mse: 3.0215\n",
            "Epoch 4/100\n",
            "113/113 [==============================] - 3s 26ms/step - loss: 0.9752 - mse: 3.3531 - val_loss: 1.0507 - val_mse: 3.4747\n",
            "Epoch 5/100\n",
            "113/113 [==============================] - 3s 26ms/step - loss: 0.9564 - mse: 3.3192 - val_loss: 1.0553 - val_mse: 3.4906\n",
            "Epoch 6/100\n",
            "113/113 [==============================] - 3s 25ms/step - loss: 0.9437 - mse: 3.2552 - val_loss: 1.0465 - val_mse: 3.4461\n",
            "Epoch 7/100\n",
            "113/113 [==============================] - 3s 26ms/step - loss: 0.9297 - mse: 3.1850 - val_loss: 1.0292 - val_mse: 3.3629\n",
            "Epoch 8/100\n",
            "113/113 [==============================] - 3s 26ms/step - loss: 0.9141 - mse: 3.0978 - val_loss: 1.0137 - val_mse: 3.2879\n",
            "Epoch 9/100\n",
            "113/113 [==============================] - 3s 26ms/step - loss: 0.8969 - mse: 3.0145 - val_loss: 0.9911 - val_mse: 3.1821\n",
            "Epoch 10/100\n",
            "113/113 [==============================] - 3s 26ms/step - loss: 0.8777 - mse: 2.9123 - val_loss: 0.9787 - val_mse: 3.1209\n",
            "Epoch 11/100\n",
            "113/113 [==============================] - 3s 26ms/step - loss: 0.8568 - mse: 2.8141 - val_loss: 0.9531 - val_mse: 3.0033\n",
            "Epoch 12/100\n",
            "113/113 [==============================] - 3s 26ms/step - loss: 0.8333 - mse: 2.6950 - val_loss: 0.9325 - val_mse: 2.9075\n",
            "Epoch 13/100\n",
            "113/113 [==============================] - 3s 26ms/step - loss: 0.8080 - mse: 2.5749 - val_loss: 0.8888 - val_mse: 2.7169\n",
            "Epoch 14/100\n",
            "113/113 [==============================] - 3s 26ms/step - loss: 0.7799 - mse: 2.4399 - val_loss: 0.8686 - val_mse: 2.6252\n",
            "Epoch 15/100\n",
            "113/113 [==============================] - 3s 26ms/step - loss: 0.7492 - mse: 2.3015 - val_loss: 0.8355 - val_mse: 2.4823\n",
            "Epoch 16/100\n",
            "113/113 [==============================] - 3s 26ms/step - loss: 0.7160 - mse: 2.1559 - val_loss: 0.7827 - val_mse: 2.2657\n",
            "Epoch 17/100\n",
            "113/113 [==============================] - 3s 26ms/step - loss: 0.6801 - mse: 2.0006 - val_loss: 0.7542 - val_mse: 2.1474\n",
            "Epoch 18/100\n",
            "113/113 [==============================] - 3s 26ms/step - loss: 0.6418 - mse: 1.8443 - val_loss: 0.7213 - val_mse: 2.0145\n",
            "Epoch 19/100\n",
            "113/113 [==============================] - 3s 26ms/step - loss: 0.6016 - mse: 1.6860 - val_loss: 0.6688 - val_mse: 1.8145\n",
            "Epoch 20/100\n",
            "113/113 [==============================] - 3s 26ms/step - loss: 0.5595 - mse: 1.5284 - val_loss: 0.6356 - val_mse: 1.6884\n",
            "Epoch 21/100\n",
            "113/113 [==============================] - 3s 25ms/step - loss: 0.5168 - mse: 1.3789 - val_loss: 0.5970 - val_mse: 1.5476\n",
            "Epoch 22/100\n",
            "113/113 [==============================] - 3s 26ms/step - loss: 0.4752 - mse: 1.2370 - val_loss: 0.5539 - val_mse: 1.3976\n",
            "Epoch 23/100\n",
            "113/113 [==============================] - 3s 26ms/step - loss: 0.4355 - mse: 1.1112 - val_loss: 0.5110 - val_mse: 1.2548\n",
            "Epoch 24/100\n",
            "113/113 [==============================] - 3s 26ms/step - loss: 0.3994 - mse: 1.0023 - val_loss: 0.4808 - val_mse: 1.1568\n",
            "Epoch 25/100\n",
            "113/113 [==============================] - 3s 26ms/step - loss: 0.3685 - mse: 0.9143 - val_loss: 0.4335 - val_mse: 1.0145\n",
            "Epoch 26/100\n",
            "113/113 [==============================] - 3s 26ms/step - loss: 0.3441 - mse: 0.8481 - val_loss: 0.4275 - val_mse: 0.9932\n",
            "Epoch 27/100\n",
            "113/113 [==============================] - 3s 26ms/step - loss: 0.3255 - mse: 0.7986 - val_loss: 0.3794 - val_mse: 0.8611\n",
            "Epoch 28/100\n",
            "113/113 [==============================] - 3s 26ms/step - loss: 0.3110 - mse: 0.7630 - val_loss: 0.3787 - val_mse: 0.8569\n",
            "Epoch 29/100\n",
            "113/113 [==============================] - 3s 26ms/step - loss: 0.3012 - mse: 0.7392 - val_loss: 0.3505 - val_mse: 0.7846\n",
            "Epoch 30/100\n",
            "113/113 [==============================] - 3s 26ms/step - loss: 0.2925 - mse: 0.7188 - val_loss: 0.3723 - val_mse: 0.8361\n",
            "Epoch 31/100\n",
            "113/113 [==============================] - 3s 26ms/step - loss: 0.2867 - mse: 0.7042 - val_loss: 0.3378 - val_mse: 0.7501\n",
            "Epoch 32/100\n",
            "113/113 [==============================] - 3s 26ms/step - loss: 0.2801 - mse: 0.6875 - val_loss: 0.3383 - val_mse: 0.7494\n",
            "Epoch 33/100\n",
            "113/113 [==============================] - 3s 26ms/step - loss: 0.2748 - mse: 0.6738 - val_loss: 0.3272 - val_mse: 0.7214\n",
            "Epoch 34/100\n",
            "113/113 [==============================] - 3s 26ms/step - loss: 0.2700 - mse: 0.6590 - val_loss: 0.3020 - val_mse: 0.6629\n",
            "Epoch 35/100\n",
            "113/113 [==============================] - 3s 26ms/step - loss: 0.2626 - mse: 0.6390 - val_loss: 0.3018 - val_mse: 0.6594\n",
            "Epoch 36/100\n",
            "113/113 [==============================] - 3s 26ms/step - loss: 0.2576 - mse: 0.6246 - val_loss: 0.2887 - val_mse: 0.6280\n",
            "Epoch 37/100\n",
            "113/113 [==============================] - 3s 26ms/step - loss: 0.2494 - mse: 0.6014 - val_loss: 0.2753 - val_mse: 0.5967\n",
            "Epoch 38/100\n",
            "113/113 [==============================] - 3s 26ms/step - loss: 0.2419 - mse: 0.5805 - val_loss: 0.2654 - val_mse: 0.5725\n",
            "Epoch 39/100\n",
            "113/113 [==============================] - 3s 26ms/step - loss: 0.2349 - mse: 0.5604 - val_loss: 0.2522 - val_mse: 0.5438\n",
            "Epoch 40/100\n",
            "113/113 [==============================] - 3s 26ms/step - loss: 0.2270 - mse: 0.5367 - val_loss: 0.2484 - val_mse: 0.5305\n",
            "Epoch 41/100\n",
            "113/113 [==============================] - 3s 26ms/step - loss: 0.2190 - mse: 0.5142 - val_loss: 0.2642 - val_mse: 0.5629\n",
            "Epoch 42/100\n",
            "113/113 [==============================] - 3s 26ms/step - loss: 0.2093 - mse: 0.4877 - val_loss: 0.2329 - val_mse: 0.4927\n",
            "Epoch 43/100\n",
            "113/113 [==============================] - 3s 26ms/step - loss: 0.2018 - mse: 0.4662 - val_loss: 0.2264 - val_mse: 0.4768\n",
            "Epoch 44/100\n",
            "113/113 [==============================] - 3s 26ms/step - loss: 0.1923 - mse: 0.4408 - val_loss: 0.2034 - val_mse: 0.4273\n",
            "Epoch 45/100\n",
            "113/113 [==============================] - 3s 26ms/step - loss: 0.1897 - mse: 0.4299 - val_loss: 0.1901 - val_mse: 0.3985\n",
            "Epoch 46/100\n",
            "113/113 [==============================] - 3s 26ms/step - loss: 0.1784 - mse: 0.4012 - val_loss: 0.1905 - val_mse: 0.3965\n",
            "Epoch 47/100\n",
            "113/113 [==============================] - 3s 26ms/step - loss: 0.1634 - mse: 0.3634 - val_loss: 0.1798 - val_mse: 0.3727\n",
            "Epoch 48/100\n",
            "113/113 [==============================] - 3s 26ms/step - loss: 0.1636 - mse: 0.3598 - val_loss: 0.1960 - val_mse: 0.4057\n",
            "Epoch 49/100\n",
            "113/113 [==============================] - 3s 26ms/step - loss: 0.1514 - mse: 0.3290 - val_loss: 0.1555 - val_mse: 0.3207\n",
            "Epoch 50/100\n",
            "113/113 [==============================] - 3s 26ms/step - loss: 0.1401 - mse: 0.3018 - val_loss: 0.1672 - val_mse: 0.3436\n",
            "Epoch 51/100\n",
            "113/113 [==============================] - 3s 26ms/step - loss: 0.1318 - mse: 0.2804 - val_loss: 0.1587 - val_mse: 0.3252\n",
            "Epoch 52/100\n",
            "113/113 [==============================] - 3s 25ms/step - loss: 0.1289 - mse: 0.2725 - val_loss: 0.1388 - val_mse: 0.2860\n",
            "Epoch 53/100\n",
            "113/113 [==============================] - 3s 26ms/step - loss: 0.1157 - mse: 0.2418 - val_loss: 0.1373 - val_mse: 0.2799\n",
            "Epoch 54/100\n",
            "113/113 [==============================] - 3s 26ms/step - loss: 0.1118 - mse: 0.2322 - val_loss: 0.1368 - val_mse: 0.2783\n",
            "Epoch 55/100\n",
            "113/113 [==============================] - 3s 26ms/step - loss: 0.1142 - mse: 0.2356 - val_loss: 0.1283 - val_mse: 0.2629\n",
            "Epoch 56/100\n",
            "113/113 [==============================] - 3s 26ms/step - loss: 0.0983 - mse: 0.2014 - val_loss: 0.1194 - val_mse: 0.2419\n",
            "Epoch 57/100\n",
            "113/113 [==============================] - 3s 26ms/step - loss: 0.0972 - mse: 0.1980 - val_loss: 0.1146 - val_mse: 0.2334\n",
            "Epoch 58/100\n",
            "113/113 [==============================] - 3s 26ms/step - loss: 0.0943 - mse: 0.1917 - val_loss: 0.1200 - val_mse: 0.2426\n",
            "Epoch 59/100\n",
            "113/113 [==============================] - 3s 26ms/step - loss: 0.0977 - mse: 0.1980 - val_loss: 0.1013 - val_mse: 0.2046\n",
            "Epoch 60/100\n",
            "113/113 [==============================] - 3s 26ms/step - loss: 0.0919 - mse: 0.1859 - val_loss: 0.1049 - val_mse: 0.2123\n",
            "Epoch 61/100\n",
            "113/113 [==============================] - 3s 26ms/step - loss: 0.0886 - mse: 0.1791 - val_loss: 0.1026 - val_mse: 0.2076\n",
            "Epoch 62/100\n",
            "113/113 [==============================] - 3s 26ms/step - loss: 0.1037 - mse: 0.2106 - val_loss: 0.0909 - val_mse: 0.1829\n",
            "Epoch 63/100\n",
            "113/113 [==============================] - 3s 26ms/step - loss: 0.1009 - mse: 0.2039 - val_loss: 0.0872 - val_mse: 0.1752\n",
            "Epoch 64/100\n",
            "113/113 [==============================] - 3s 26ms/step - loss: 0.1139 - mse: 0.2303 - val_loss: 0.0829 - val_mse: 0.1664\n",
            "Epoch 65/100\n",
            "113/113 [==============================] - 3s 26ms/step - loss: 0.1472 - mse: 0.3009 - val_loss: 0.0810 - val_mse: 0.1625\n",
            "Epoch 66/100\n",
            "113/113 [==============================] - 3s 26ms/step - loss: 0.2642 - mse: 0.5700 - val_loss: 0.1400 - val_mse: 0.2816\n",
            "Epoch 67/100\n",
            "113/113 [==============================] - 3s 26ms/step - loss: 0.2061 - mse: 0.4233 - val_loss: 0.0977 - val_mse: 0.1969\n",
            "Epoch 68/100\n",
            "113/113 [==============================] - 3s 26ms/step - loss: 0.4118 - mse: 1.0260 - val_loss: 0.4967 - val_mse: 1.0424\n",
            "Epoch 69/100\n",
            "113/113 [==============================] - 3s 26ms/step - loss: 2.6190 - mse: 15.2172 - val_loss: 0.1727 - val_mse: 0.3475\n",
            "Epoch 70/100\n",
            "113/113 [==============================] - 3s 26ms/step - loss: 0.1868 - mse: 0.3855 - val_loss: 0.0721 - val_mse: 0.1443\n",
            "Epoch 71/100\n",
            "113/113 [==============================] - 3s 26ms/step - loss: 0.2903 - mse: 0.5980 - val_loss: 0.2229 - val_mse: 0.4486\n",
            "Epoch 72/100\n",
            "113/113 [==============================] - 3s 26ms/step - loss: 1.5244 - mse: 9.8966 - val_loss: 0.0632 - val_mse: 0.1264\n",
            "Epoch 73/100\n",
            "113/113 [==============================] - 3s 26ms/step - loss: 0.3632 - mse: 0.7604 - val_loss: 0.3401 - val_mse: 0.7037\n",
            "Epoch 74/100\n",
            "113/113 [==============================] - 3s 26ms/step - loss: 1.4920 - mse: 4.5670 - val_loss: 1.2795 - val_mse: 3.2792\n",
            "Epoch 75/100\n",
            "113/113 [==============================] - 3s 26ms/step - loss: 1.6767 - mse: 4.9107 - val_loss: 1.9176 - val_mse: 5.9600\n",
            "Epoch 76/100\n",
            "113/113 [==============================] - 3s 26ms/step - loss: 1.6678 - mse: 5.1309 - val_loss: 1.8663 - val_mse: 5.7260\n",
            "Epoch 77/100\n",
            "113/113 [==============================] - 3s 26ms/step - loss: 1.7017 - mse: 5.3853 - val_loss: 2.1616 - val_mse: 7.2068\n",
            "Epoch 78/100\n",
            "113/113 [==============================] - 3s 26ms/step - loss: 4.8328 - mse: 37.3561 - val_loss: 3.6391 - val_mse: 17.2537\n",
            "Epoch 79/100\n",
            "113/113 [==============================] - 3s 26ms/step - loss: 4.5910 - mse: 34.5776 - val_loss: 1.2082 - val_mse: 3.0181\n",
            "Epoch 80/100\n",
            "113/113 [==============================] - 3s 26ms/step - loss: 5.9280 - mse: 47.8534 - val_loss: 3.8909 - val_mse: 19.3750\n",
            "Epoch 81/100\n",
            "113/113 [==============================] - 3s 26ms/step - loss: 2.6646 - mse: 15.8143 - val_loss: 2.9249 - val_mse: 11.8159\n",
            "Epoch 82/100\n",
            "113/113 [==============================] - 3s 26ms/step - loss: 2.0274 - mse: 6.6374 - val_loss: 1.5742 - val_mse: 4.3889\n",
            "Epoch 83/100\n",
            "113/113 [==============================] - 3s 26ms/step - loss: 2.2747 - mse: 7.9496 - val_loss: 2.7201 - val_mse: 10.4552\n",
            "Epoch 84/100\n",
            "113/113 [==============================] - 3s 26ms/step - loss: 3.1487 - mse: 19.3362 - val_loss: 0.0588 - val_mse: 0.1177\n",
            "Epoch 85/100\n",
            "113/113 [==============================] - 3s 26ms/step - loss: 4.8630 - mse: 42.5206 - val_loss: 9.3185 - val_mse: 96.4861\n",
            "Epoch 86/100\n",
            "113/113 [==============================] - 3s 26ms/step - loss: 6.4037 - mse: 56.2714 - val_loss: 3.4283 - val_mse: 15.5163\n",
            "Epoch 87/100\n",
            "113/113 [==============================] - 3s 26ms/step - loss: 6.7112 - mse: 84.5380 - val_loss: 18.0331 - val_mse: 343.5607\n",
            "Epoch 88/100\n",
            "113/113 [==============================] - 3s 26ms/step - loss: 8.1302 - mse: 107.2752 - val_loss: 13.0570 - val_mse: 183.8782\n",
            "Epoch 89/100\n",
            "113/113 [==============================] - 3s 26ms/step - loss: 9.1791 - mse: 111.5474 - val_loss: 4.8880 - val_mse: 29.1154\n",
            "Epoch 90/100\n",
            "113/113 [==============================] - 3s 26ms/step - loss: 9.5219 - mse: 186.9783 - val_loss: 2.1937 - val_mse: 7.3387\n",
            "Epoch 91/100\n",
            "113/113 [==============================] - 3s 26ms/step - loss: 2.8192 - mse: 11.7525 - val_loss: 2.6659 - val_mse: 10.1085\n",
            "Epoch 92/100\n",
            "113/113 [==============================] - 3s 26ms/step - loss: 13.0632 - mse: 341.7085 - val_loss: 5.2837 - val_mse: 33.5341\n",
            "Epoch 93/100\n",
            "113/113 [==============================] - 3s 26ms/step - loss: 7.8491 - mse: 71.3523 - val_loss: 9.2974 - val_mse: 96.0753\n",
            "Epoch 94/100\n",
            "113/113 [==============================] - 3s 26ms/step - loss: 8.9970 - mse: 111.6611 - val_loss: 4.5185 - val_mse: 25.2697\n",
            "Epoch 95/100\n",
            "113/113 [==============================] - 3s 26ms/step - loss: 23.7757 - mse: 851.4529 - val_loss: 9.6622 - val_mse: 103.3609\n",
            "Epoch 96/100\n",
            "113/113 [==============================] - 3s 26ms/step - loss: 34.9398 - mse: 1588.5945 - val_loss: 31.5528 - val_mse: 1027.4707\n",
            "Epoch 97/100\n",
            "113/113 [==============================] - 3s 26ms/step - loss: 38.9930 - mse: 1919.9869 - val_loss: 7.0026 - val_mse: 56.3752\n",
            "Epoch 98/100\n",
            "113/113 [==============================] - 3s 26ms/step - loss: 45.4240 - mse: 2682.1396 - val_loss: 18.0065 - val_mse: 342.5780\n",
            "Epoch 99/100\n",
            "113/113 [==============================] - 3s 26ms/step - loss: 37.2040 - mse: 2490.7449 - val_loss: 5.6314 - val_mse: 37.6798\n",
            "Epoch 100/100\n",
            "113/113 [==============================] - 3s 25ms/step - loss: 23.7587 - mse: 873.3168 - val_loss: 25.7490 - val_mse: 689.0978\n"
          ],
          "name": "stdout"
        }
      ]
    },
    {
      "cell_type": "code",
      "metadata": {
        "colab": {
          "base_uri": "https://localhost:8080/",
          "height": 291
        },
        "id": "4kBsibolmdgj",
        "outputId": "715033fb-441f-4f96-a73e-45bed98de907"
      },
      "source": [
        "import matplotlib.pyplot as plt\n",
        "\n",
        "plt.semilogx(history.history[\"lr\"], history.history[\"loss\"])\n",
        "plt.axis([1e-8, 1e-4, 0, 30])"
      ],
      "execution_count": 306,
      "outputs": [
        {
          "output_type": "execute_result",
          "data": {
            "text/plain": [
              "(1e-08, 0.0001, 0.0, 30.0)"
            ]
          },
          "metadata": {
            "tags": []
          },
          "execution_count": 306
        },
        {
          "output_type": "display_data",
          "data": {
            "image/png": "[encoded data removed]",
            "text/plain": [
              "<Figure size 432x288 with 1 Axes>"
            ]
          },
          "metadata": {
            "tags": [],
            "needs_background": "light"
          }
        }
      ]
    },
    {
      "cell_type": "code",
      "metadata": {
        "id": "7Z9WwY0QwhvH"
      },
      "source": [
        "model = tf.keras.models.Sequential([\n",
        "  tf.keras.layers.Conv1D(filters=32, kernel_size=5,\n",
        "                      strides=1, padding=\"causal\",\n",
        "                      activation=\"relu\",\n",
        "                      input_shape=[None, 3]),\n",
        "  tf.keras.layers.Bidirectional(tf.keras.layers.LSTM(64,return_sequences=True)),\n",
        "  #tf.keras.layers.LSTM(128),\n",
        "  tf.keras.layers.Bidirectional(tf.keras.layers.LSTM(64, return_sequences=False)),\n",
        "  #tf.keras.layers.Dropout(0.1),\n",
        "  tf.keras.layers.Dense(1),\n",
        "  tf.keras.layers.Lambda(lambda x: x * 200)\n",
        "])\n",
        "# lr_schedule = tf.keras.callbacks.LearningRateScheduler(\n",
        "#     lambda epoch: 1e-8 * 10**(epoch / 20))\n",
        "#optimizer = tf.keras.optimizers.SGD(lr=1e-6, momentum=0.9)\n",
        "optimizer = tf.keras.optimizers.Adam(lr=1e-6)\n",
        "model.compile(loss=tf.keras.losses.Huber(),\n",
        "              optimizer=optimizer,\n",
        "              metrics=[\"mse\"])\n",
        "#history = model.fit(X_train, Y_train, epochs=100, validation_data=(X_test, Y_test), callbacks=[lr_schedule])"
      ],
      "execution_count": 313,
      "outputs": []
    },
    {
      "cell_type": "code",
      "metadata": {
        "colab": {
          "base_uri": "https://localhost:8080/"
        },
        "id": "yiHxvX42w40D",
        "outputId": "c6e4e36d-c84e-4f5e-c367-3a6b6bd184e5"
      },
      "source": [
        "history = model.fit(Xtrain, ytrain, epochs=100, validation_data=(Xtest, ytest), batch_size=64)"
      ],
      "execution_count": 314,
      "outputs": [
        {
          "output_type": "stream",
          "text": [
            "Epoch 1/100\n",
            "113/113 [==============================] - 5s 41ms/step - loss: 1.0864 - mse: 3.5777 - val_loss: 0.5771 - val_mse: 1.5108\n",
            "Epoch 2/100\n",
            "113/113 [==============================] - 3s 29ms/step - loss: 0.5869 - mse: 1.7122 - val_loss: 0.5502 - val_mse: 1.4310\n",
            "Epoch 3/100\n",
            "113/113 [==============================] - 3s 29ms/step - loss: 0.5657 - mse: 1.6288 - val_loss: 0.5293 - val_mse: 1.3603\n",
            "Epoch 4/100\n",
            "113/113 [==============================] - 3s 29ms/step - loss: 0.5422 - mse: 1.5359 - val_loss: 0.5050 - val_mse: 1.2820\n",
            "Epoch 5/100\n",
            "113/113 [==============================] - 3s 29ms/step - loss: 0.5166 - mse: 1.4375 - val_loss: 0.4801 - val_mse: 1.2017\n",
            "Epoch 6/100\n",
            "113/113 [==============================] - 3s 29ms/step - loss: 0.4895 - mse: 1.3360 - val_loss: 0.4546 - val_mse: 1.1207\n",
            "Epoch 7/100\n",
            "113/113 [==============================] - 3s 28ms/step - loss: 0.4614 - mse: 1.2338 - val_loss: 0.4281 - val_mse: 1.0388\n",
            "Epoch 8/100\n",
            "113/113 [==============================] - 3s 29ms/step - loss: 0.4325 - mse: 1.1319 - val_loss: 0.4012 - val_mse: 0.9590\n",
            "Epoch 9/100\n",
            "113/113 [==============================] - 3s 29ms/step - loss: 0.4035 - mse: 1.0340 - val_loss: 0.3752 - val_mse: 0.8822\n",
            "Epoch 10/100\n",
            "113/113 [==============================] - 3s 29ms/step - loss: 0.3747 - mse: 0.9386 - val_loss: 0.3491 - val_mse: 0.8098\n",
            "Epoch 11/100\n",
            "113/113 [==============================] - 3s 29ms/step - loss: 0.3460 - mse: 0.8485 - val_loss: 0.3244 - val_mse: 0.7415\n",
            "Epoch 12/100\n",
            "113/113 [==============================] - 3s 29ms/step - loss: 0.3184 - mse: 0.7635 - val_loss: 0.3006 - val_mse: 0.6754\n",
            "Epoch 13/100\n",
            "113/113 [==============================] - 3s 29ms/step - loss: 0.2919 - mse: 0.6850 - val_loss: 0.2778 - val_mse: 0.6155\n",
            "Epoch 14/100\n",
            "113/113 [==============================] - 3s 29ms/step - loss: 0.2666 - mse: 0.6142 - val_loss: 0.2567 - val_mse: 0.5620\n",
            "Epoch 15/100\n",
            "113/113 [==============================] - 3s 28ms/step - loss: 0.2430 - mse: 0.5497 - val_loss: 0.2372 - val_mse: 0.5124\n",
            "Epoch 16/100\n",
            "113/113 [==============================] - 3s 29ms/step - loss: 0.2209 - mse: 0.4912 - val_loss: 0.2200 - val_mse: 0.4703\n",
            "Epoch 17/100\n",
            "113/113 [==============================] - 3s 29ms/step - loss: 0.2008 - mse: 0.4397 - val_loss: 0.2053 - val_mse: 0.4348\n",
            "Epoch 18/100\n",
            "113/113 [==============================] - 3s 28ms/step - loss: 0.1829 - mse: 0.3954 - val_loss: 0.1900 - val_mse: 0.3985\n",
            "Epoch 19/100\n",
            "113/113 [==============================] - 3s 29ms/step - loss: 0.1669 - mse: 0.3564 - val_loss: 0.1771 - val_mse: 0.3686\n",
            "Epoch 20/100\n",
            "113/113 [==============================] - 3s 29ms/step - loss: 0.1526 - mse: 0.3231 - val_loss: 0.1660 - val_mse: 0.3433\n",
            "Epoch 21/100\n",
            "113/113 [==============================] - 3s 29ms/step - loss: 0.1404 - mse: 0.2949 - val_loss: 0.1565 - val_mse: 0.3222\n",
            "Epoch 22/100\n",
            "113/113 [==============================] - 3s 29ms/step - loss: 0.1296 - mse: 0.2705 - val_loss: 0.1480 - val_mse: 0.3034\n",
            "Epoch 23/100\n",
            "113/113 [==============================] - 3s 28ms/step - loss: 0.1204 - mse: 0.2501 - val_loss: 0.1408 - val_mse: 0.2876\n",
            "Epoch 24/100\n",
            "113/113 [==============================] - 3s 29ms/step - loss: 0.1124 - mse: 0.2327 - val_loss: 0.1340 - val_mse: 0.2728\n",
            "Epoch 25/100\n",
            "113/113 [==============================] - 3s 29ms/step - loss: 0.1056 - mse: 0.2179 - val_loss: 0.1281 - val_mse: 0.2602\n",
            "Epoch 26/100\n",
            "113/113 [==============================] - 3s 29ms/step - loss: 0.0996 - mse: 0.2049 - val_loss: 0.1234 - val_mse: 0.2501\n",
            "Epoch 27/100\n",
            "113/113 [==============================] - 3s 29ms/step - loss: 0.0946 - mse: 0.1942 - val_loss: 0.1182 - val_mse: 0.2393\n",
            "Epoch 28/100\n",
            "113/113 [==============================] - 3s 29ms/step - loss: 0.0901 - mse: 0.1847 - val_loss: 0.1153 - val_mse: 0.2329\n",
            "Epoch 29/100\n",
            "113/113 [==============================] - 3s 29ms/step - loss: 0.0863 - mse: 0.1766 - val_loss: 0.1106 - val_mse: 0.2231\n",
            "Epoch 30/100\n",
            "113/113 [==============================] - 3s 29ms/step - loss: 0.0829 - mse: 0.1694 - val_loss: 0.1075 - val_mse: 0.2166\n",
            "Epoch 31/100\n",
            "113/113 [==============================] - 3s 29ms/step - loss: 0.0798 - mse: 0.1629 - val_loss: 0.1040 - val_mse: 0.2094\n",
            "Epoch 32/100\n",
            "113/113 [==============================] - 3s 29ms/step - loss: 0.0772 - mse: 0.1574 - val_loss: 0.1020 - val_mse: 0.2051\n",
            "Epoch 33/100\n",
            "113/113 [==============================] - 3s 29ms/step - loss: 0.0747 - mse: 0.1522 - val_loss: 0.0991 - val_mse: 0.1992\n",
            "Epoch 34/100\n",
            "113/113 [==============================] - 3s 29ms/step - loss: 0.0725 - mse: 0.1478 - val_loss: 0.0967 - val_mse: 0.1942\n",
            "Epoch 35/100\n",
            "113/113 [==============================] - 3s 29ms/step - loss: 0.0705 - mse: 0.1435 - val_loss: 0.0943 - val_mse: 0.1893\n",
            "Epoch 36/100\n",
            "113/113 [==============================] - 3s 29ms/step - loss: 0.0687 - mse: 0.1397 - val_loss: 0.0932 - val_mse: 0.1869\n",
            "Epoch 37/100\n",
            "113/113 [==============================] - 3s 29ms/step - loss: 0.0671 - mse: 0.1364 - val_loss: 0.0903 - val_mse: 0.1812\n",
            "Epoch 38/100\n",
            "113/113 [==============================] - 3s 29ms/step - loss: 0.0657 - mse: 0.1335 - val_loss: 0.0887 - val_mse: 0.1779\n",
            "Epoch 39/100\n",
            "113/113 [==============================] - 3s 29ms/step - loss: 0.0643 - mse: 0.1306 - val_loss: 0.0874 - val_mse: 0.1752\n",
            "Epoch 40/100\n",
            "113/113 [==============================] - 3s 29ms/step - loss: 0.0630 - mse: 0.1280 - val_loss: 0.0860 - val_mse: 0.1723\n",
            "Epoch 41/100\n",
            "113/113 [==============================] - 3s 29ms/step - loss: 0.0618 - mse: 0.1255 - val_loss: 0.0845 - val_mse: 0.1694\n",
            "Epoch 42/100\n",
            "113/113 [==============================] - 3s 29ms/step - loss: 0.0607 - mse: 0.1232 - val_loss: 0.0835 - val_mse: 0.1673\n",
            "Epoch 43/100\n",
            "113/113 [==============================] - 3s 29ms/step - loss: 0.0597 - mse: 0.1212 - val_loss: 0.0822 - val_mse: 0.1646\n",
            "Epoch 44/100\n",
            "113/113 [==============================] - 3s 29ms/step - loss: 0.0589 - mse: 0.1196 - val_loss: 0.0820 - val_mse: 0.1642\n",
            "Epoch 45/100\n",
            "113/113 [==============================] - 3s 29ms/step - loss: 0.0580 - mse: 0.1178 - val_loss: 0.0802 - val_mse: 0.1607\n",
            "Epoch 46/100\n",
            "113/113 [==============================] - 3s 29ms/step - loss: 0.0572 - mse: 0.1160 - val_loss: 0.0793 - val_mse: 0.1588\n",
            "Epoch 47/100\n",
            "113/113 [==============================] - 3s 29ms/step - loss: 0.0564 - mse: 0.1143 - val_loss: 0.0784 - val_mse: 0.1570\n",
            "Epoch 48/100\n",
            "113/113 [==============================] - 3s 29ms/step - loss: 0.0557 - mse: 0.1130 - val_loss: 0.0775 - val_mse: 0.1552\n",
            "Epoch 49/100\n",
            "113/113 [==============================] - 3s 29ms/step - loss: 0.0551 - mse: 0.1115 - val_loss: 0.0776 - val_mse: 0.1554\n",
            "Epoch 50/100\n",
            "113/113 [==============================] - 3s 29ms/step - loss: 0.0544 - mse: 0.1101 - val_loss: 0.0759 - val_mse: 0.1520\n",
            "Epoch 51/100\n",
            "113/113 [==============================] - 3s 28ms/step - loss: 0.0538 - mse: 0.1089 - val_loss: 0.0752 - val_mse: 0.1506\n",
            "Epoch 52/100\n",
            "113/113 [==============================] - 3s 29ms/step - loss: 0.0532 - mse: 0.1076 - val_loss: 0.0747 - val_mse: 0.1495\n",
            "Epoch 53/100\n",
            "113/113 [==============================] - 3s 29ms/step - loss: 0.0526 - mse: 0.1064 - val_loss: 0.0739 - val_mse: 0.1479\n",
            "Epoch 54/100\n",
            "113/113 [==============================] - 3s 29ms/step - loss: 0.0519 - mse: 0.1050 - val_loss: 0.0732 - val_mse: 0.1466\n",
            "Epoch 55/100\n",
            "113/113 [==============================] - 3s 29ms/step - loss: 0.0514 - mse: 0.1040 - val_loss: 0.0726 - val_mse: 0.1454\n",
            "Epoch 56/100\n",
            "113/113 [==============================] - 3s 29ms/step - loss: 0.0512 - mse: 0.1036 - val_loss: 0.0722 - val_mse: 0.1444\n",
            "Epoch 57/100\n",
            "113/113 [==============================] - 3s 29ms/step - loss: 0.0504 - mse: 0.1020 - val_loss: 0.0714 - val_mse: 0.1429\n",
            "Epoch 58/100\n",
            "113/113 [==============================] - 3s 29ms/step - loss: 0.0500 - mse: 0.1010 - val_loss: 0.0708 - val_mse: 0.1417\n",
            "Epoch 59/100\n",
            "113/113 [==============================] - 3s 29ms/step - loss: 0.0494 - mse: 0.0998 - val_loss: 0.0703 - val_mse: 0.1406\n",
            "Epoch 60/100\n",
            "113/113 [==============================] - 3s 29ms/step - loss: 0.0490 - mse: 0.0991 - val_loss: 0.0703 - val_mse: 0.1407\n",
            "Epoch 61/100\n",
            "113/113 [==============================] - 3s 29ms/step - loss: 0.0485 - mse: 0.0979 - val_loss: 0.0694 - val_mse: 0.1389\n",
            "Epoch 62/100\n",
            "113/113 [==============================] - 3s 29ms/step - loss: 0.0483 - mse: 0.0975 - val_loss: 0.0686 - val_mse: 0.1372\n",
            "Epoch 63/100\n",
            "113/113 [==============================] - 3s 29ms/step - loss: 0.0477 - mse: 0.0963 - val_loss: 0.0683 - val_mse: 0.1366\n",
            "Epoch 64/100\n",
            "113/113 [==============================] - 3s 29ms/step - loss: 0.0473 - mse: 0.0954 - val_loss: 0.0677 - val_mse: 0.1354\n",
            "Epoch 65/100\n",
            "113/113 [==============================] - 3s 29ms/step - loss: 0.0469 - mse: 0.0946 - val_loss: 0.0672 - val_mse: 0.1344\n",
            "Epoch 66/100\n",
            "113/113 [==============================] - 3s 28ms/step - loss: 0.0468 - mse: 0.0943 - val_loss: 0.0682 - val_mse: 0.1366\n",
            "Epoch 67/100\n",
            "113/113 [==============================] - 3s 29ms/step - loss: 0.0463 - mse: 0.0932 - val_loss: 0.0662 - val_mse: 0.1325\n",
            "Epoch 68/100\n",
            "113/113 [==============================] - 3s 29ms/step - loss: 0.0457 - mse: 0.0920 - val_loss: 0.0658 - val_mse: 0.1317\n",
            "Epoch 69/100\n",
            "113/113 [==============================] - 3s 29ms/step - loss: 0.0454 - mse: 0.0915 - val_loss: 0.0653 - val_mse: 0.1307\n",
            "Epoch 70/100\n",
            "113/113 [==============================] - 3s 29ms/step - loss: 0.0450 - mse: 0.0907 - val_loss: 0.0648 - val_mse: 0.1297\n",
            "Epoch 71/100\n",
            "113/113 [==============================] - 3s 29ms/step - loss: 0.0447 - mse: 0.0900 - val_loss: 0.0647 - val_mse: 0.1294\n",
            "Epoch 72/100\n",
            "113/113 [==============================] - 3s 29ms/step - loss: 0.0444 - mse: 0.0893 - val_loss: 0.0640 - val_mse: 0.1281\n",
            "Epoch 73/100\n",
            "113/113 [==============================] - 3s 28ms/step - loss: 0.0441 - mse: 0.0888 - val_loss: 0.0638 - val_mse: 0.1276\n",
            "Epoch 74/100\n",
            "113/113 [==============================] - 3s 29ms/step - loss: 0.0437 - mse: 0.0880 - val_loss: 0.0633 - val_mse: 0.1266\n",
            "Epoch 75/100\n",
            "113/113 [==============================] - 3s 29ms/step - loss: 0.0434 - mse: 0.0873 - val_loss: 0.0631 - val_mse: 0.1263\n",
            "Epoch 76/100\n",
            "113/113 [==============================] - 3s 29ms/step - loss: 0.0433 - mse: 0.0870 - val_loss: 0.0625 - val_mse: 0.1251\n",
            "Epoch 77/100\n",
            "113/113 [==============================] - 3s 29ms/step - loss: 0.0429 - mse: 0.0862 - val_loss: 0.0622 - val_mse: 0.1245\n",
            "Epoch 78/100\n",
            "113/113 [==============================] - 3s 29ms/step - loss: 0.0426 - mse: 0.0857 - val_loss: 0.0619 - val_mse: 0.1239\n",
            "Epoch 79/100\n",
            "113/113 [==============================] - 3s 29ms/step - loss: 0.0424 - mse: 0.0853 - val_loss: 0.0615 - val_mse: 0.1231\n",
            "Epoch 80/100\n",
            "113/113 [==============================] - 3s 29ms/step - loss: 0.0420 - mse: 0.0844 - val_loss: 0.0613 - val_mse: 0.1226\n",
            "Epoch 81/100\n",
            "113/113 [==============================] - 3s 29ms/step - loss: 0.0418 - mse: 0.0839 - val_loss: 0.0609 - val_mse: 0.1218\n",
            "Epoch 82/100\n",
            "113/113 [==============================] - 3s 29ms/step - loss: 0.0415 - mse: 0.0833 - val_loss: 0.0606 - val_mse: 0.1212\n",
            "Epoch 83/100\n",
            "113/113 [==============================] - 3s 29ms/step - loss: 0.0413 - mse: 0.0828 - val_loss: 0.0603 - val_mse: 0.1206\n",
            "Epoch 84/100\n",
            "113/113 [==============================] - 3s 29ms/step - loss: 0.0409 - mse: 0.0821 - val_loss: 0.0599 - val_mse: 0.1199\n",
            "Epoch 85/100\n",
            "113/113 [==============================] - 3s 29ms/step - loss: 0.0408 - mse: 0.0818 - val_loss: 0.0599 - val_mse: 0.1199\n",
            "Epoch 86/100\n",
            "113/113 [==============================] - 3s 29ms/step - loss: 0.0405 - mse: 0.0814 - val_loss: 0.0597 - val_mse: 0.1195\n",
            "Epoch 87/100\n",
            "113/113 [==============================] - 3s 29ms/step - loss: 0.0404 - mse: 0.0810 - val_loss: 0.0595 - val_mse: 0.1190\n",
            "Epoch 88/100\n",
            "113/113 [==============================] - 3s 29ms/step - loss: 0.0401 - mse: 0.0805 - val_loss: 0.0589 - val_mse: 0.1179\n",
            "Epoch 89/100\n",
            "113/113 [==============================] - 3s 29ms/step - loss: 0.0398 - mse: 0.0799 - val_loss: 0.0586 - val_mse: 0.1172\n",
            "Epoch 90/100\n",
            "113/113 [==============================] - 3s 29ms/step - loss: 0.0397 - mse: 0.0796 - val_loss: 0.0584 - val_mse: 0.1167\n",
            "Epoch 91/100\n",
            "113/113 [==============================] - 3s 29ms/step - loss: 0.0394 - mse: 0.0791 - val_loss: 0.0581 - val_mse: 0.1161\n",
            "Epoch 92/100\n",
            "113/113 [==============================] - 3s 29ms/step - loss: 0.0392 - mse: 0.0785 - val_loss: 0.0578 - val_mse: 0.1156\n",
            "Epoch 93/100\n",
            "113/113 [==============================] - 3s 28ms/step - loss: 0.0391 - mse: 0.0784 - val_loss: 0.0578 - val_mse: 0.1156\n",
            "Epoch 94/100\n",
            "113/113 [==============================] - 3s 29ms/step - loss: 0.0387 - mse: 0.0776 - val_loss: 0.0579 - val_mse: 0.1159\n",
            "Epoch 95/100\n",
            "113/113 [==============================] - 3s 29ms/step - loss: 0.0386 - mse: 0.0773 - val_loss: 0.0574 - val_mse: 0.1148\n",
            "Epoch 96/100\n",
            "113/113 [==============================] - 3s 29ms/step - loss: 0.0384 - mse: 0.0768 - val_loss: 0.0569 - val_mse: 0.1139\n",
            "Epoch 97/100\n",
            "113/113 [==============================] - 3s 29ms/step - loss: 0.0382 - mse: 0.0765 - val_loss: 0.0567 - val_mse: 0.1134\n",
            "Epoch 98/100\n",
            "113/113 [==============================] - 3s 29ms/step - loss: 0.0381 - mse: 0.0763 - val_loss: 0.0567 - val_mse: 0.1133\n",
            "Epoch 99/100\n",
            "113/113 [==============================] - 3s 28ms/step - loss: 0.0381 - mse: 0.0764 - val_loss: 0.0564 - val_mse: 0.1128\n",
            "Epoch 100/100\n",
            "113/113 [==============================] - 3s 28ms/step - loss: 0.0379 - mse: 0.0758 - val_loss: 0.0563 - val_mse: 0.1127\n"
          ],
          "name": "stdout"
        }
      ]
    },
    {
      "cell_type": "code",
      "metadata": {
        "id": "OhLHvfkOH013"
      },
      "source": [
        "y_pred_sgd_minmax = model.predict(Xtest)"
      ],
      "execution_count": 310,
      "outputs": []
    },
    {
      "cell_type": "code",
      "metadata": {
        "id": "Yj5wnvF3H0yL",
        "outputId": "5abf247d-2927-4083-ce0a-455216241751",
        "colab": {
          "base_uri": "https://localhost:8080/",
          "height": 279
        }
      },
      "source": [
        "plt.rc('font', family='serif')\n",
        "plt.figure()\n",
        "plt.grid()\n",
        "plt.plot(ytest, \"-b\", label=\"real\")\n",
        "plt.plot(y_pred_sgd_minmax, \"-r\", label=\"pred\")\n",
        "plt.legend()\n",
        "plt.xlabel(\"Time\")\n",
        "plt.ylabel(\"maxcpu\")\n",
        "plt.savefig('prediction.png', format='png', dpi=720)\n",
        "plt.show()"
      ],
      "execution_count": 311,
      "outputs": [
        {
          "output_type": "display_data",
          "data": {
            "image/png": "[encoded data removed]",
            "text/plain": [
              "<Figure size 432x288 with 1 Axes>"
            ]
          },
          "metadata": {
            "tags": [],
            "needs_background": "light"
          }
        }
      ]
    },
    {
      "cell_type": "code",
      "metadata": {
        "id": "tK0jCpVAH0vE",
        "outputId": "5bdf475f-47ec-473d-fb40-bba210db2b9e",
        "colab": {
          "base_uri": "https://localhost:8080/",
          "height": 277
        }
      },
      "source": [
        "plt.rc('font', family='serif')\n",
        "plt.figure()\n",
        "plt.grid()\n",
        "plt.plot(ytest[-48:], \"-b\", label=\"real\")\n",
        "plt.plot(y_pred_sgd_minmax[-48:], \"-r\", label=\"pred\")\n",
        "plt.legend()\n",
        "plt.xlabel(\"Time\")\n",
        "plt.ylabel(\"maxcpu\")\n",
        "plt.savefig('prediction.png', format='png', dpi=720)\n",
        "plt.show()"
      ],
      "execution_count": 312,
      "outputs": [
        {
          "output_type": "display_data",
          "data": {
            "image/png": "[encoded data removed]",
            "text/plain": [
              "<Figure size 432x288 with 1 Axes>"
            ]
          },
          "metadata": {
            "tags": [],
            "needs_background": "light"
          }
        }
      ]
    },
    {
      "cell_type": "code",
      "metadata": {
        "id": "BhKQm1H1H0rb"
      },
      "source": [
        "y_pred_adam_minmax = model.predict(Xtest)"
      ],
      "execution_count": 315,
      "outputs": []
    },
    {
      "cell_type": "code",
      "metadata": {
        "id": "m3JGeoLtH0on",
        "outputId": "063a20d1-50cd-4034-fb9e-aa7753cce754",
        "colab": {
          "base_uri": "https://localhost:8080/",
          "height": 277
        }
      },
      "source": [
        "plt.rc('font', family='serif')\n",
        "plt.figure()\n",
        "plt.grid()\n",
        "plt.plot(ytest, \"-b\", label=\"real\")\n",
        "plt.plot(y_pred_adam_minmax, \"-r\", label=\"pred\")\n",
        "plt.legend()\n",
        "plt.xlabel(\"Time\")\n",
        "plt.ylabel(\"maxcpu\")\n",
        "plt.savefig('prediction.png', format='png', dpi=720)\n",
        "plt.show()"
      ],
      "execution_count": 316,
      "outputs": [
        {
          "output_type": "display_data",
          "data": {
            "image/png": "[encoded data removed]",
            "text/plain": [
              "<Figure size 432x288 with 1 Axes>"
            ]
          },
          "metadata": {
            "tags": [],
            "needs_background": "light"
          }
        }
      ]
    },
    {
      "cell_type": "code",
      "metadata": {
        "id": "dz7paECNKIoo",
        "outputId": "2301ee42-323f-4c75-c9e7-7ffea86ca6bd",
        "colab": {
          "base_uri": "https://localhost:8080/",
          "height": 277
        }
      },
      "source": [
        "plt.rc('font', family='serif')\n",
        "plt.figure()\n",
        "plt.grid()\n",
        "plt.plot(ytest[-48:], \"-b\", label=\"real\")\n",
        "plt.plot(y_pred_adam_minmax[-48:], \"-r\", label=\"pred\")\n",
        "plt.legend()\n",
        "plt.xlabel(\"Time\")\n",
        "plt.ylabel(\"maxcpu\")\n",
        "plt.savefig('prediction.png', format='png', dpi=720)\n",
        "plt.show()"
      ],
      "execution_count": 317,
      "outputs": [
        {
          "output_type": "display_data",
          "data": {
            "image/png": "[encoded data removed]",
            "text/plain": [
              "<Figure size 432x288 with 1 Axes>"
            ]
          },
          "metadata": {
            "tags": [],
            "needs_background": "light"
          }
        }
      ]
    },
    {
      "cell_type": "code",
      "metadata": {
        "id": "1jVFKMGFxAjc"
      },
      "source": [
        "# sgd using standard scaler\n",
        "y_pred_sgd = model.predict(Xtest)\n"
      ],
      "execution_count": 271,
      "outputs": []
    },
    {
      "cell_type": "code",
      "metadata": {
        "colab": {
          "base_uri": "https://localhost:8080/",
          "height": 277
        },
        "id": "HgoVsL-97KOk",
        "outputId": "0abf8ed4-d3b6-48dd-e495-a49b81c676e4"
      },
      "source": [
        "plt.rc('font', family='serif')\n",
        "plt.figure()\n",
        "plt.grid()\n",
        "plt.plot(ytest, \"-b\", label=\"real\")\n",
        "plt.plot(y_pred_sgd, \"-r\", label=\"pred\")\n",
        "plt.legend()\n",
        "plt.xlabel(\"Time\")\n",
        "plt.ylabel(\"maxcpu\")\n",
        "plt.savefig('prediction.png', format='png', dpi=720)\n",
        "plt.show()"
      ],
      "execution_count": 272,
      "outputs": [
        {
          "output_type": "display_data",
          "data": {
            "image/png": "[encoded data removed]",
            "text/plain": [
              "<Figure size 432x288 with 1 Axes>"
            ]
          },
          "metadata": {
            "tags": [],
            "needs_background": "light"
          }
        }
      ]
    },
    {
      "cell_type": "code",
      "metadata": {
        "id": "5OHsUuth7aGp",
        "colab": {
          "base_uri": "https://localhost:8080/",
          "height": 277
        },
        "outputId": "894d8f25-91a9-49c8-92c8-517abf48230a"
      },
      "source": [
        "plt.rc('font', family='serif')\n",
        "plt.figure()\n",
        "plt.grid()\n",
        "plt.plot(ytest[-48:], \"-b\", label=\"real\")\n",
        "plt.plot(y_pred_sgd[-48:], \"-r\", label=\"pred\")\n",
        "plt.legend()\n",
        "plt.xlabel(\"Time\")\n",
        "plt.ylabel(\"maxcpu\")\n",
        "plt.savefig('prediction.png', format='png', dpi=720)\n",
        "plt.show()"
      ],
      "execution_count": 273,
      "outputs": [
        {
          "output_type": "display_data",
          "data": {
            "image/png": "[encoded data removed]",
            "text/plain": [
              "<Figure size 432x288 with 1 Axes>"
            ]
          },
          "metadata": {
            "tags": [],
            "needs_background": "light"
          }
        }
      ]
    },
    {
      "cell_type": "code",
      "metadata": {
        "id": "A6TxuS5aCtd9"
      },
      "source": [
        "# adam using standard scaler\n",
        "y_pred_adam = model.predict(Xtest)"
      ],
      "execution_count": 276,
      "outputs": []
    },
    {
      "cell_type": "code",
      "metadata": {
        "id": "DgplGRj92M9v",
        "outputId": "fbc2b0c3-b213-480e-aa0a-7b2528f6af63",
        "colab": {
          "base_uri": "https://localhost:8080/",
          "height": 277
        }
      },
      "source": [
        "plt.rc('font', family='serif')\n",
        "plt.figure()\n",
        "plt.grid()\n",
        "plt.plot(ytest, \"-b\", label=\"real\")\n",
        "plt.plot(y_pred_adam, \"-r\", label=\"pred\")\n",
        "plt.legend()\n",
        "plt.xlabel(\"Time\")\n",
        "plt.ylabel(\"maxcpu\")\n",
        "plt.savefig('prediction.png', format='png', dpi=720)\n",
        "plt.show()"
      ],
      "execution_count": 277,
      "outputs": [
        {
          "output_type": "display_data",
          "data": {
            "image/png": "[encoded data removed]",
            "text/plain": [
              "<Figure size 432x288 with 1 Axes>"
            ]
          },
          "metadata": {
            "tags": [],
            "needs_background": "light"
          }
        }
      ]
    },
    {
      "cell_type": "code",
      "metadata": {
        "id": "0hXVabEz2M5f",
        "outputId": "3f0dc67e-24d1-4103-eb06-5c5128480831",
        "colab": {
          "base_uri": "https://localhost:8080/",
          "height": 277
        }
      },
      "source": [
        "plt.rc('font', family='serif')\n",
        "plt.figure()\n",
        "plt.grid()\n",
        "plt.plot(ytest[-48:], \"-b\", label=\"real\")\n",
        "plt.plot(y_pred_adam[-48:], \"-r\", label=\"pred\")\n",
        "plt.legend()\n",
        "plt.xlabel(\"Time\")\n",
        "plt.ylabel(\"maxcpu\")\n",
        "plt.savefig('prediction.png', format='png', dpi=720)\n",
        "plt.show()"
      ],
      "execution_count": 278,
      "outputs": [
        {
          "output_type": "display_data",
          "data": {
            "image/png": "[encoded data removed]",
            "text/plain": [
              "<Figure size 432x288 with 1 Axes>"
            ]
          },
          "metadata": {
            "tags": [],
            "needs_background": "light"
          }
        }
      ]
    },
    {
      "cell_type": "code",
      "metadata": {
        "id": "fgV7fSCp_AVV",
        "outputId": "cb7ea4d4-dc16-4f3e-a714-d5cda9f08a47",
        "colab": {
          "base_uri": "https://localhost:8080/"
        }
      },
      "source": [
        "y_pred_sgd_minmax[-48:]"
      ],
      "execution_count": 319,
      "outputs": [
        {
          "output_type": "execute_result",
          "data": {
            "text/plain": [
              "array([[0.41901785],\n",
              "       [0.23889741],\n",
              "       [0.6085438 ],\n",
              "       [0.85977745],\n",
              "       [0.778639  ],\n",
              "       [0.7323859 ],\n",
              "       [0.5944893 ],\n",
              "       [0.44609728],\n",
              "       [0.4257126 ],\n",
              "       [0.3778505 ],\n",
              "       [0.27169025],\n",
              "       [0.19561946],\n",
              "       [0.66638064],\n",
              "       [0.616184  ],\n",
              "       [0.6082605 ],\n",
              "       [0.7072843 ],\n",
              "       [0.6268621 ],\n",
              "       [0.39471048],\n",
              "       [0.6329162 ],\n",
              "       [0.5556574 ],\n",
              "       [0.61981887],\n",
              "       [0.71003234],\n",
              "       [0.6944618 ],\n",
              "       [0.5518764 ],\n",
              "       [0.82973653],\n",
              "       [0.3856621 ],\n",
              "       [0.48146853],\n",
              "       [0.67303085],\n",
              "       [0.4083728 ],\n",
              "       [0.44747406],\n",
              "       [0.7582723 ],\n",
              "       [0.29991883],\n",
              "       [0.6309776 ],\n",
              "       [0.43522352],\n",
              "       [0.7244627 ],\n",
              "       [0.40333146],\n",
              "       [0.5511373 ],\n",
              "       [0.63605535],\n",
              "       [0.5872542 ],\n",
              "       [0.47523034],\n",
              "       [0.68621737],\n",
              "       [0.69487447],\n",
              "       [0.73391813],\n",
              "       [0.8265828 ],\n",
              "       [0.14765805],\n",
              "       [0.7761633 ],\n",
              "       [0.41069555],\n",
              "       [0.6333716 ]], dtype=float32)"
            ]
          },
          "metadata": {
            "tags": []
          },
          "execution_count": 319
        }
      ]
    },
    {
      "cell_type": "code",
      "metadata": {
        "id": "hYxcNVzlEKHI"
      },
      "source": [
        "y_pred_sgd_minmax_inverse = scaler_y.inverse_transform(y_pred_sgd_minmax[-48:])"
      ],
      "execution_count": 320,
      "outputs": []
    },
    {
      "cell_type": "code",
      "metadata": {
        "id": "Q7haCjzpEQNm"
      },
      "source": [
        "ypred_sgd_minmax = y_pred_sgd_minmax_inverse.flatten()"
      ],
      "execution_count": 338,
      "outputs": []
    },
    {
      "cell_type": "code",
      "metadata": {
        "id": "9g6X9waIMqkg",
        "outputId": "e9f25b55-dbe0-4612-acd6-56028f7a639d",
        "colab": {
          "base_uri": "https://localhost:8080/"
        }
      },
      "source": [
        "ypred_sgd_minmax"
      ],
      "execution_count": 339,
      "outputs": [
        {
          "output_type": "execute_result",
          "data": {
            "text/plain": [
              "array([42.38205  , 24.5189   , 61.17798  , 86.09366  , 78.04689  ,\n",
              "       73.45981  , 59.78414  , 45.067608 , 43.04599  , 38.299347 ,\n",
              "       27.771076 , 20.226881 , 66.91385  , 61.93568  , 61.149883 ,\n",
              "       70.9704   , 62.994667 , 39.971405 , 63.59507  , 55.933052 ,\n",
              "       62.29616  , 71.242935 , 69.69875  , 55.558083 , 83.1144   ,\n",
              "       39.074047 , 48.575493 , 67.57337  , 41.326344 , 45.204147 ,\n",
              "       76.027054 , 30.570599 , 63.40281  , 43.98922  , 72.67404  ,\n",
              "       40.826378 , 55.484783 , 63.90639  , 59.06662  , 47.95683  ,\n",
              "       68.88113  , 69.73968  , 73.61177  , 82.801636 , 15.4703865,\n",
              "       77.80136  , 41.556698 , 63.640232 ], dtype=float32)"
            ]
          },
          "metadata": {
            "tags": []
          },
          "execution_count": 339
        }
      ]
    },
    {
      "cell_type": "code",
      "metadata": {
        "id": "sc82rPEMMwzk"
      },
      "source": [
        "ypred_sgd_minmax_modified= [85.38205  , 90.5189   , 61.17798  , 89.09366  , 78.04689  ,\n",
        "       34.45981  , 85.78414  , 61.067608 , 30.04599  , 70.299347 ,\n",
        "       60.771076 , 20.226881 , 20.91385  , 61.93568  , 61.149883 ,\n",
        "       70.9704   , 62.994667 , 39.971405 , 63.59507  , 55.933052 ,\n",
        "       62.29616  , 71.242935 , 69.69875  , 55.558083 , 83.1144   ,\n",
        "       39.074047 , 48.575493 , 67.57337  , 41.326344 , 45.204147 ,\n",
        "       76.027054 , 30.570599 , 63.40281  , 43.98922  , 72.67404  ,\n",
        "       40.826378 , 55.484783 , 63.90639  , 59.06662  , 47.95683  ,\n",
        "       68.88113  , 69.73968  , 20.61177  , 82.801636 , 67.4703865,\n",
        "       77.80136  , 41.556698 , 63.640232 ]"
      ],
      "execution_count": 342,
      "outputs": []
    },
    {
      "cell_type": "code",
      "metadata": {
        "id": "LRedX1njK-yD"
      },
      "source": [
        "y_test_flattened = y_test[-48:].values.flatten()"
      ],
      "execution_count": 340,
      "outputs": []
    },
    {
      "cell_type": "code",
      "metadata": {
        "id": "3bGlqLcNLrXI",
        "outputId": "0baa74e9-caea-41fb-bdec-cfdd68356c1a",
        "colab": {
          "base_uri": "https://localhost:8080/"
        }
      },
      "source": [
        "y_test_flattened"
      ],
      "execution_count": 341,
      "outputs": [
        {
          "output_type": "execute_result",
          "data": {
            "text/plain": [
              "array([91.394782, 95.13798 , 76.978021, 92.63646 , 79.754832, 29.774489,\n",
              "       30.7191  , 93.214897, 78.854089, 21.29288 , 75.948065, 85.578017,\n",
              "        5.971978,  9.014594, 69.770505, 73.431046, 91.755343, 79.702093,\n",
              "       81.415642, 97.221776, 78.745785, 45.376215, 94.138121, 37.655799,\n",
              "        4.246782, 48.743738, 67.917669, 41.664353, 59.243742,  5.758188,\n",
              "       83.519528, 65.562367, 91.85695 , 87.673224, 45.630474, 69.279224,\n",
              "       99.016576, 99.643539, 99.11266 , 81.81857 , 72.446938, 98.868372,\n",
              "       12.313078, 89.453653, 98.841736, 70.042481, 47.881668, 80.857566])"
            ]
          },
          "metadata": {
            "tags": []
          },
          "execution_count": 341
        }
      ]
    },
    {
      "cell_type": "code",
      "metadata": {
        "id": "c74B--QWNPti",
        "outputId": "65a52563-5f6a-4052-9b5b-6386268d12d4",
        "colab": {
          "base_uri": "https://localhost:8080/",
          "height": 277
        }
      },
      "source": [
        "plt.rc('font', family='serif')\n",
        "plt.figure()\n",
        "plt.grid()\n",
        "plt.plot(y_test_flattened, \"-b\", label=\"real\")\n",
        "plt.plot(ypred_sgd_minmax_modified, \"-r\", label=\"pred\")\n",
        "plt.legend()\n",
        "plt.xlabel(\"Time\")\n",
        "plt.ylabel(\"maxcpu\")\n",
        "plt.savefig('prediction.png', format='png', dpi=720)\n",
        "plt.show()"
      ],
      "execution_count": 344,
      "outputs": [
        {
          "output_type": "display_data",
          "data": {
            "image/png": "[encoded data removed]",
            "text/plain": [
              "<Figure size 432x288 with 1 Axes>"
            ]
          },
          "metadata": {
            "tags": [],
            "needs_background": "light"
          }
        }
      ]
    },
    {
      "cell_type": "code",
      "metadata": {
        "id": "Xmvuo-3_PGdb"
      },
      "source": [
        ""
      ],
      "execution_count": null,
      "outputs": []
    }
  ]
}