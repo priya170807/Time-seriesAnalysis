{
 "cells": [
  {
   "cell_type": "code",
   "execution_count": 109,
   "metadata": {},
   "outputs": [],
   "source": [
    "# -*- coding: utf-8 -*-\n",
    "\"\"\"\n",
    "Created on Mon Sep 21 14:26:17 2020\n",
    "\n",
    "@author: shvpr\n",
    "\"\"\"\n",
    "\n",
    "from io import StringIO\n",
    "from datetime import date\n",
    "from datetime import datetime\n",
    "import time\n",
    "import pandas as pd\n",
    "from util import notebook_utils\n",
    "from util import fcst_utils\n",
    "import dateutil.parser\n",
    "today=date.today()\n",
    "status_indicator = notebook_utils.StatusIndicator()\n",
    "\n",
    "# AWS libraries\n",
    "import boto3\n",
    "\n",
    "\n",
    "#def main():\n",
    "    \n",
    "\n",
    "# AWS credentials through named profile.\n",
    "boto3.setup_default_session(profile_name='HCL_USER_1')\n",
    "\n",
    "# Bucket to store the cleaned data for amazon forecast\n",
    "bucket_name=\"test-forecast-example\"\n",
    "prefix=\"capplan_data/\"\n",
    "key=prefix+\"amazon_forecast_input.csv\"\n",
    "relatedKey=prefix+\"related_timeseries_amazon_forecast.csv\"\n",
    "role_name=\"ForecastAccessS3Role\"\n",
    "role_arn=\"arn:aws:iam::311461407286:role/ForecastAccessS3Role\"\n",
    "project = 'capacity_plan_forecast_deepAR'\n",
    "predictorName= project+'_deepAR_algo'\n",
    "algorithmArn = 'arn:aws:forecast:::algorithm/Deep_AR_Plus'\n",
    "forecastName= project+'_deepAR_algo_forecast'\n",
    "forecastHorizon = 24\n",
    "\n",
    "# Bucket containing the input data\n",
    "# mybucket = \"capacityplanning\"\n",
    "# myprefix=\"cloudwatch_metricdata/\"\n",
    "\n",
    "# Bucket to store the predictions in the form of csv files\n",
    "new_bucket=\"capacityplanning-predictions-bucket\"\n",
    "s3_output_path = \"predictions/\"\n",
    "Deep_key = s3_output_path+\"deepAR.csv\"\n",
    "#Deep_Ops_key = s3_output_path+\"DEEPAR_WRITEOPS\"+str(today)+\".csv\"\n",
    "Deep_RMSE_key = s3_output_path+\"rmse_deepAR.txt\"\n",
    "\n",
    "#DeepAR_key = s3_output_path+\"PREDICTIONS_FUTURE_DEEPAR\"+str(today)+\".csv\"\n",
    "\n",
    "# Setting up clients for S3, forecast, forecastquery.\n",
    "client = boto3.client('s3')\n",
    "forecast=boto3.client('forecast')\n",
    "forecastquery=boto3.client('forecastquery')"
   ]
  },
  {
   "cell_type": "code",
   "execution_count": 110,
   "metadata": {},
   "outputs": [],
   "source": [
    "# Preparing data for the forecast\n",
    "# creating the target time series dataset\n",
    "#def initialize_data_forecast():\n",
    "DATASET_FREQUENCY = \"H\" \n",
    "TIMESTAMP_FORMAT = \"yyyy-MM-dd HH:mm:ss\"\n",
    "ts_datasetName= project+'_tsds'\n",
    "dataset_arns = []\n",
    "datasetGroupName= project +'_dsg'\n",
    "s3DataPath = \"s3://\"+bucket_name+\"/\"+key\n",
    "s3DataPathRelated = \"s3://\"+bucket_name+\"/\"+relatedKey\n",
    "\n",
    "create_dataset_group_response = forecast.create_dataset_group(Domain=\"CUSTOM\",\n",
    "                                                        DatasetGroupName=datasetGroupName\n",
    "                                                        #DatasetArns=dataset_arns\n",
    "                                                         )\n",
    "# print(f'Creating dataset group {datasetGroupName}')\n",
    "# datasetGroupArn = create_dataset_group_response['DatasetGroupArn']\n",
    "# forecast.describe_dataset_group(DatasetGroupArn=datasetGroupArn)\n",
    "   \n",
    "\n",
    "#return datasetGroupArn, datasetArn, datasetName, project, s3DataPath, DATASET_FREQUENCY, TIMESTAMP_FORMAT"
   ]
  },
  {
   "cell_type": "code",
   "execution_count": 111,
   "metadata": {},
   "outputs": [
    {
     "name": "stdout",
     "output_type": "stream",
     "text": [
      "Creating dataset group capacity_plan_forecast_deepAR_dsg\n"
     ]
    }
   ],
   "source": [
    "print(f'Creating dataset group {datasetGroupName}')"
   ]
  },
  {
   "cell_type": "code",
   "execution_count": 112,
   "metadata": {},
   "outputs": [
    {
     "data": {
      "text/plain": [
       "{'DatasetGroupName': 'capacity_plan_forecast_deepAR_dsg',\n",
       " 'DatasetGroupArn': 'arn:aws:forecast:us-east-1:311461407286:dataset-group/capacity_plan_forecast_deepAR_dsg',\n",
       " 'DatasetArns': [],\n",
       " 'Domain': 'CUSTOM',\n",
       " 'Status': 'ACTIVE',\n",
       " 'CreationTime': datetime.datetime(2020, 12, 4, 18, 40, 57, 522000, tzinfo=tzlocal()),\n",
       " 'LastModificationTime': datetime.datetime(2020, 12, 4, 18, 40, 57, 522000, tzinfo=tzlocal()),\n",
       " 'ResponseMetadata': {'RequestId': '0173e99a-739a-48eb-95f8-4727ba8d8ab3',\n",
       "  'HTTPStatusCode': 200,\n",
       "  'HTTPHeaders': {'content-type': 'application/x-amz-json-1.1',\n",
       "   'date': 'Sat, 05 Dec 2020 02:41:04 GMT',\n",
       "   'x-amzn-requestid': '0173e99a-739a-48eb-95f8-4727ba8d8ab3',\n",
       "   'content-length': '289',\n",
       "   'connection': 'keep-alive'},\n",
       "  'RetryAttempts': 0}}"
      ]
     },
     "execution_count": 112,
     "metadata": {},
     "output_type": "execute_result"
    }
   ],
   "source": [
    "datasetGroupArn = create_dataset_group_response['DatasetGroupArn']\n",
    "forecast.describe_dataset_group(DatasetGroupArn=datasetGroupArn)\n",
    "   "
   ]
  },
  {
   "cell_type": "code",
   "execution_count": 113,
   "metadata": {},
   "outputs": [
    {
     "name": "stdout",
     "output_type": "stream",
     "text": [
      "the dataset name capacity_plan_forecast_deepAR_tsds\n"
     ]
    }
   ],
   "source": [
    "print(f'the dataset name {ts_datasetName}')"
   ]
  },
  {
   "cell_type": "code",
   "execution_count": 114,
   "metadata": {},
   "outputs": [],
   "source": [
    " ts_schema ={\n",
    "   \"Attributes\":[\n",
    "      {\n",
    "         \"AttributeName\":\"timestamp\",\n",
    "         \"AttributeType\":\"timestamp\"\n",
    "      },\n",
    "      {\n",
    "         \"AttributeName\":\"item_id\",\n",
    "         \"AttributeType\":\"string\"\n",
    "      },\n",
    "      {\n",
    "         \"AttributeName\":\"target_value\",\n",
    "         \"AttributeType\":\"float\"\n",
    "      }\n",
    "   ]\n",
    "}\n",
    "    \n",
    "# print(f'Creating target dataset {ts_datasetName}')\n",
    "# response=forecast.create_dataset(\n",
    "#                 Domain=\"CUSTOM\",\n",
    "#                 DatasetType='TARGET_TIME_SERIES',\n",
    "#                 DatasetName=ts_datasetName,\n",
    "#                 DataFrequency=DATASET_FREQUENCY, \n",
    "#                 Schema = ts_schema)\n",
    "# ts_datasetArn=response['DatasetArn']\n",
    "# #forecast.update_dataset_group(DatasetGroupArn=datasetGroupArn, DatasetArns=[datasetArn])\n",
    "# forecast.describe_dataset(DatasetArn=ts_datasetArn)"
   ]
  },
  {
   "cell_type": "code",
   "execution_count": 115,
   "metadata": {},
   "outputs": [
    {
     "name": "stdout",
     "output_type": "stream",
     "text": [
      "Creating target dataset capacity_plan_forecast_deepAR_tsds\n"
     ]
    }
   ],
   "source": [
    "print(f'Creating target dataset {ts_datasetName}')"
   ]
  },
  {
   "cell_type": "code",
   "execution_count": 116,
   "metadata": {},
   "outputs": [],
   "source": [
    "response=forecast.create_dataset(\n",
    "                Domain=\"CUSTOM\",\n",
    "                DatasetType='TARGET_TIME_SERIES',\n",
    "                DatasetName=ts_datasetName,\n",
    "                DataFrequency=DATASET_FREQUENCY, \n",
    "                Schema = ts_schema)"
   ]
  },
  {
   "cell_type": "code",
   "execution_count": 117,
   "metadata": {},
   "outputs": [],
   "source": [
    "ts_datasetArn=response['DatasetArn']"
   ]
  },
  {
   "cell_type": "code",
   "execution_count": 118,
   "metadata": {},
   "outputs": [
    {
     "data": {
      "text/plain": [
       "{'DatasetArn': 'arn:aws:forecast:us-east-1:311461407286:dataset/capacity_plan_forecast_deepAR_tsds',\n",
       " 'DatasetName': 'capacity_plan_forecast_deepAR_tsds',\n",
       " 'Domain': 'CUSTOM',\n",
       " 'DatasetType': 'TARGET_TIME_SERIES',\n",
       " 'DataFrequency': 'H',\n",
       " 'Schema': {'Attributes': [{'AttributeName': 'timestamp',\n",
       "    'AttributeType': 'timestamp'},\n",
       "   {'AttributeName': 'item_id', 'AttributeType': 'string'},\n",
       "   {'AttributeName': 'target_value', 'AttributeType': 'float'}]},\n",
       " 'EncryptionConfig': {},\n",
       " 'Status': 'ACTIVE',\n",
       " 'CreationTime': datetime.datetime(2020, 12, 4, 18, 41, 15, 882000, tzinfo=tzlocal()),\n",
       " 'LastModificationTime': datetime.datetime(2020, 12, 4, 18, 41, 15, 882000, tzinfo=tzlocal()),\n",
       " 'ResponseMetadata': {'RequestId': '8e990796-e8f8-4b7e-8929-0357e472d6e0',\n",
       "  'HTTPStatusCode': 200,\n",
       "  'HTTPHeaders': {'content-type': 'application/x-amz-json-1.1',\n",
       "   'date': 'Sat, 05 Dec 2020 02:41:17 GMT',\n",
       "   'x-amzn-requestid': '8e990796-e8f8-4b7e-8929-0357e472d6e0',\n",
       "   'content-length': '529',\n",
       "   'connection': 'keep-alive'},\n",
       "  'RetryAttempts': 0}}"
      ]
     },
     "execution_count": 118,
     "metadata": {},
     "output_type": "execute_result"
    }
   ],
   "source": [
    "forecast.describe_dataset(DatasetArn=ts_datasetArn)"
   ]
  },
  {
   "cell_type": "code",
   "execution_count": 119,
   "metadata": {},
   "outputs": [
    {
     "name": "stdout",
     "output_type": "stream",
     "text": [
      "capacity_plan_forecast_deepAR_related_ds\n"
     ]
    }
   ],
   "source": [
    "#Creating the related time series dataset.\n",
    "related_datasetName = f\"{project}_related_ds\"\n",
    "print(related_datasetName)"
   ]
  },
  {
   "cell_type": "code",
   "execution_count": 120,
   "metadata": {},
   "outputs": [],
   "source": [
    "# specify the schema for the related time series dataset.\n",
    "related_schema ={\n",
    "\"Attributes\":[\n",
    "  {\n",
    "     \"AttributeName\":\"timestamp\",\n",
    "     \"AttributeType\":\"timestamp\"\n",
    "  },\n",
    "  {\n",
    "     \"AttributeName\":\"item_id\",\n",
    "     \"AttributeType\":\"string\"\n",
    "  },\n",
    "  {\n",
    "     \"AttributeName\":\"lifetime\",\n",
    "     \"AttributeType\":\"float\"\n",
    "  },\n",
    "  {\n",
    "     \"AttributeName\":\"corehour\",\n",
    "     \"AttributeType\":\"float\"\n",
    "  }\n",
    "]\n",
    "}"
   ]
  },
  {
   "cell_type": "code",
   "execution_count": 121,
   "metadata": {},
   "outputs": [
    {
     "name": "stdout",
     "output_type": "stream",
     "text": [
      "Creating related dataset {'Attributes': [{'AttributeName': 'timestamp', 'AttributeType': 'timestamp'}, {'AttributeName': 'item_id', 'AttributeType': 'string'}, {'AttributeName': 'lifetime', 'AttributeType': 'float'}, {'AttributeName': 'corehour', 'AttributeType': 'float'}]}\n"
     ]
    }
   ],
   "source": [
    "print(f'Creating related dataset {related_schema}')"
   ]
  },
  {
   "cell_type": "code",
   "execution_count": 122,
   "metadata": {},
   "outputs": [],
   "source": [
    "response = forecast.create_dataset(Domain=\"CUSTOM\",\n",
    "                               DatasetType='RELATED_TIME_SERIES',\n",
    "                               DatasetName=related_datasetName,\n",
    "                               DataFrequency=DATASET_FREQUENCY,\n",
    "                               Schema=related_schema\n",
    "                              )"
   ]
  },
  {
   "cell_type": "code",
   "execution_count": 123,
   "metadata": {},
   "outputs": [],
   "source": [
    "related_datasetArn = response['DatasetArn']"
   ]
  },
  {
   "cell_type": "code",
   "execution_count": 124,
   "metadata": {},
   "outputs": [
    {
     "data": {
      "text/plain": [
       "{'DatasetArn': 'arn:aws:forecast:us-east-1:311461407286:dataset/capacity_plan_forecast_deepAR_related_ds',\n",
       " 'DatasetName': 'capacity_plan_forecast_deepAR_related_ds',\n",
       " 'Domain': 'CUSTOM',\n",
       " 'DatasetType': 'RELATED_TIME_SERIES',\n",
       " 'DataFrequency': 'H',\n",
       " 'Schema': {'Attributes': [{'AttributeName': 'timestamp',\n",
       "    'AttributeType': 'timestamp'},\n",
       "   {'AttributeName': 'item_id', 'AttributeType': 'string'},\n",
       "   {'AttributeName': 'lifetime', 'AttributeType': 'float'},\n",
       "   {'AttributeName': 'corehour', 'AttributeType': 'float'}]},\n",
       " 'EncryptionConfig': {},\n",
       " 'Status': 'ACTIVE',\n",
       " 'CreationTime': datetime.datetime(2020, 12, 4, 18, 41, 27, 12000, tzinfo=tzlocal()),\n",
       " 'LastModificationTime': datetime.datetime(2020, 12, 4, 18, 41, 27, 12000, tzinfo=tzlocal()),\n",
       " 'ResponseMetadata': {'RequestId': 'f36a0478-e264-4dff-adbd-3f4127a917c9',\n",
       "  'HTTPStatusCode': 200,\n",
       "  'HTTPHeaders': {'content-type': 'application/x-amz-json-1.1',\n",
       "   'date': 'Sat, 05 Dec 2020 02:41:28 GMT',\n",
       "   'x-amzn-requestid': 'f36a0478-e264-4dff-adbd-3f4127a917c9',\n",
       "   'content-length': '591',\n",
       "   'connection': 'keep-alive'},\n",
       "  'RetryAttempts': 0}}"
      ]
     },
     "execution_count": 124,
     "metadata": {},
     "output_type": "execute_result"
    }
   ],
   "source": [
    "forecast.describe_dataset(DatasetArn=related_datasetArn)"
   ]
  },
  {
   "cell_type": "code",
   "execution_count": 125,
   "metadata": {},
   "outputs": [
    {
     "data": {
      "text/plain": [
       "{'ResponseMetadata': {'RequestId': '47e514e5-7a7c-4ed5-8380-fda362ccfccd',\n",
       "  'HTTPStatusCode': 200,\n",
       "  'HTTPHeaders': {'content-type': 'application/x-amz-json-1.1',\n",
       "   'date': 'Sat, 05 Dec 2020 02:41:33 GMT',\n",
       "   'x-amzn-requestid': '47e514e5-7a7c-4ed5-8380-fda362ccfccd',\n",
       "   'content-length': '2',\n",
       "   'connection': 'keep-alive'},\n",
       "  'RetryAttempts': 0}}"
      ]
     },
     "execution_count": 125,
     "metadata": {},
     "output_type": "execute_result"
    }
   ],
   "source": [
    "#updating the dataset group with the datasets that we have created.\n",
    "dataset_arns = []\n",
    "dataset_arns.append(ts_datasetArn)\n",
    "dataset_arns.append(related_datasetArn)\n",
    "forecast.update_dataset_group(DatasetGroupArn=datasetGroupArn, DatasetArns=dataset_arns)"
   ]
  },
  {
   "cell_type": "code",
   "execution_count": 126,
   "metadata": {},
   "outputs": [
    {
     "data": {
      "text/plain": [
       "{'DatasetGroupName': 'capacity_plan_forecast_deepAR_dsg',\n",
       " 'DatasetGroupArn': 'arn:aws:forecast:us-east-1:311461407286:dataset-group/capacity_plan_forecast_deepAR_dsg',\n",
       " 'DatasetArns': ['arn:aws:forecast:us-east-1:311461407286:dataset/capacity_plan_forecast_deepAR_tsds',\n",
       "  'arn:aws:forecast:us-east-1:311461407286:dataset/capacity_plan_forecast_deepAR_related_ds'],\n",
       " 'Domain': 'CUSTOM',\n",
       " 'Status': 'ACTIVE',\n",
       " 'CreationTime': datetime.datetime(2020, 12, 4, 18, 40, 57, 522000, tzinfo=tzlocal()),\n",
       " 'LastModificationTime': datetime.datetime(2020, 12, 4, 18, 41, 33, 947000, tzinfo=tzlocal()),\n",
       " 'ResponseMetadata': {'RequestId': 'ac58bab1-7c04-47aa-ae0e-6924493880a5',\n",
       "  'HTTPStatusCode': 200,\n",
       "  'HTTPHeaders': {'content-type': 'application/x-amz-json-1.1',\n",
       "   'date': 'Sat, 05 Dec 2020 02:41:35 GMT',\n",
       "   'x-amzn-requestid': 'ac58bab1-7c04-47aa-ae0e-6924493880a5',\n",
       "   'content-length': '464',\n",
       "   'connection': 'keep-alive'},\n",
       "  'RetryAttempts': 0}}"
      ]
     },
     "execution_count": 126,
     "metadata": {},
     "output_type": "execute_result"
    }
   ],
   "source": [
    "forecast.describe_dataset_group(DatasetGroupArn=datasetGroupArn)"
   ]
  },
  {
   "cell_type": "code",
   "execution_count": null,
   "metadata": {},
   "outputs": [],
   "source": []
  },
  {
   "cell_type": "code",
   "execution_count": null,
   "metadata": {},
   "outputs": [],
   "source": [
    "#Creating a Target Time Series Dataset Import Job"
   ]
  },
  {
   "cell_type": "code",
   "execution_count": 127,
   "metadata": {},
   "outputs": [],
   "source": [
    "\n",
    "# Creating data import jobs\n",
    "\n",
    "# role_name=\"ForecastAccessS3Role\"\n",
    "# role_arn=\"arn:aws:iam::311461407286:role/ForecastAccessS3Role\"\n",
    "#def create_data_imports(forecastHorizon, predictorName, algorithmArn, datasetGroupArn, datasetArn):\n",
    "datasetImportJobName = 'EP_DSIMPORT_JOB_TARGET'\n",
    "ts_dataset_import_job_response=forecast.create_dataset_import_job(DatasetImportJobName=datasetImportJobName,\n",
    "                                                      DatasetArn=ts_datasetArn,\n",
    "                                                      DataSource= {\n",
    "                                                          \"S3Config\" : {\n",
    "                                                             \"Path\":s3DataPath,\n",
    "                                                             \"RoleArn\": role_arn\n",
    "                                                          } \n",
    "                                                      },\n",
    "                                                      TimestampFormat=TIMESTAMP_FORMAT\n",
    "                                                     )\n",
    "ts_dataset_import_job_arn=ts_dataset_import_job_response['DatasetImportJobArn']\n",
    "# status_indicator=notebook_utils.StatusIndicator()\n",
    "# while True:\n",
    "#     status1 = forecast.describe_dataset_import_job(DatasetImportJobArn=ds_import_job_arn)['Status']\n",
    "#     status_indicator.update(status1)\n",
    "#     if status1 in ('ACTIVE', 'CREATE_FAILED'): break\n",
    "#     time.sleep(15)\n",
    "# status_indicator.end()\n",
    "# assert status1 == 'ACTIVE', (\"The status is not active, it is failed\")\n",
    "# return status1, ds_import_job_arn\n"
   ]
  },
  {
   "cell_type": "code",
   "execution_count": 128,
   "metadata": {},
   "outputs": [
    {
     "name": "stdout",
     "output_type": "stream",
     "text": [
      "CREATE_PENDING \n",
      "CREATE_IN_PROGRESS .............................\n",
      "ACTIVE \n"
     ]
    }
   ],
   "source": [
    "# status = util.wait(lambda: forecast.describe_dataset_import_job(DatasetImportJobArn=ts_dataset_import_job_arn))\n",
    "# assert status\n",
    "status_indicator=notebook_utils.StatusIndicator()\n",
    "while True:\n",
    "    status1 = forecast.describe_dataset_import_job(DatasetImportJobArn=ts_dataset_import_job_arn)['Status']\n",
    "    status_indicator.update(status1)\n",
    "    if status1 in ('ACTIVE', 'CREATE_FAILED'): break\n",
    "    time.sleep(15)\n",
    "status_indicator.end()\n",
    "assert status1 == 'ACTIVE', (\"The status is not active, it is failed\")"
   ]
  },
  {
   "cell_type": "code",
   "execution_count": 129,
   "metadata": {},
   "outputs": [],
   "source": [
    "#Creating a related Time Series Dataset Import Job\n",
    "datasetImportJobName = 'EP_RELATED_DSIMPORT_JOB_TARGET'\n",
    "related_dataset_import_job_response=forecast.create_dataset_import_job(DatasetImportJobName=datasetImportJobName,\n",
    "                                                      DatasetArn=related_datasetArn,\n",
    "                                                      DataSource= {\n",
    "                                                          \"S3Config\" : {\n",
    "                                                             \"Path\":s3DataPathRelated,\n",
    "                                                             \"RoleArn\": role_arn\n",
    "                                                          } \n",
    "                                                      },\n",
    "                                                      TimestampFormat=TIMESTAMP_FORMAT\n",
    "                                                     )\n",
    "related_dataset_import_job_arn=related_dataset_import_job_response['DatasetImportJobArn']"
   ]
  },
  {
   "cell_type": "code",
   "execution_count": 130,
   "metadata": {},
   "outputs": [
    {
     "name": "stdout",
     "output_type": "stream",
     "text": [
      "CREATE_PENDING \n",
      "CREATE_IN_PROGRESS ......\n",
      "ACTIVE \n"
     ]
    }
   ],
   "source": [
    "# status = util.wait(lambda: forecast.describe_dataset_import_job(DatasetImportJobArn=related_dataset_import_job_arn))\n",
    "# assert status\n",
    "status_indicator=notebook_utils.StatusIndicator()\n",
    "while True:\n",
    "    status2 = forecast.describe_dataset_import_job(DatasetImportJobArn=related_dataset_import_job_arn)['Status']\n",
    "    status_indicator.update(status2)\n",
    "    if status2 in ('ACTIVE', 'CREATE_FAILED'): break\n",
    "    time.sleep(15)\n",
    "status_indicator.end()\n",
    "assert status2 == 'ACTIVE', (\"The status is not active, it is failed\")"
   ]
  },
  {
   "cell_type": "code",
   "execution_count": null,
   "metadata": {},
   "outputs": [],
   "source": []
  },
  {
   "cell_type": "code",
   "execution_count": null,
   "metadata": {},
   "outputs": [],
   "source": []
  },
  {
   "cell_type": "code",
   "execution_count": null,
   "metadata": {},
   "outputs": [],
   "source": []
  },
  {
   "cell_type": "code",
   "execution_count": 131,
   "metadata": {},
   "outputs": [],
   "source": [
    "\n",
    "#def create_predictor(predictorName, algorithmArn, forecastHorizon, datasetGroupArn):\n",
    "create_predictor_response=forecast.create_predictor(PredictorName=predictorName, \n",
    "                                              AlgorithmArn=algorithmArn,\n",
    "                                              ForecastHorizon=forecastHorizon,\n",
    "                                              PerformAutoML= False,\n",
    "                                              PerformHPO=True,\n",
    "                                              EvaluationParameters= {\"NumberOfBacktestWindows\": 1, \n",
    "                                                                     \"BackTestWindowOffset\": 24}, \n",
    "                                              HPOConfig={\n",
    "                                                  'ParameterRanges':{\n",
    "                                                  'ContinuousParameterRanges':[\n",
    "                                                        {\n",
    "                                                          'Name':'learning_rate',\n",
    "                                                          'MaxValue':0.1,\n",
    "                                                          'MinValue':0.0001,\n",
    "                                                          'ScalingType':'Linear'\n",
    "                                                          }\n",
    "                                                       ],\n",
    "                                                  'IntegerParameterRanges':[\n",
    "                                                      {\n",
    "                                                          'Name':'context_length',\n",
    "                                                          'MaxValue':168,\n",
    "                                                          'MinValue':24,\n",
    "                                                          'ScalingType':'Linear'\n",
    "                                                      }\n",
    "                                                      ]\n",
    "                                                     }\n",
    "                                                },\n",
    "                                              InputDataConfig= {\"DatasetGroupArn\": datasetGroupArn},\n",
    "                                              FeaturizationConfig= {\"ForecastFrequency\": \"H\", \n",
    "                                                                    \"Featurizations\": \n",
    "                                                                    [\n",
    "                                                                      {\"AttributeName\": \"target_value\", \n",
    "                                                                       \"FeaturizationPipeline\": \n",
    "                                                                        [\n",
    "                                                                          {\"FeaturizationMethodName\": \"filling\", \n",
    "                                                                           \"FeaturizationMethodParameters\": \n",
    "                                                                            {\"frontfill\": \"none\", \n",
    "                                                                             \"middlefill\": \"zero\", \n",
    "                                                                             \"backfill\": \"zero\"}\n",
    "                                                                          }\n",
    "                                                                        ]\n",
    "                                                                      }\n",
    "                                                                    ]\n",
    "                                                                   }\n",
    "                                             )\n",
    "predictor_arn=create_predictor_response['PredictorArn']\n",
    "#forecast.get_accuracy_metrics(PredictorArn=predictor_arn)\n",
    "\n",
    "#return status2, predictor_arn\n"
   ]
  },
  {
   "cell_type": "code",
   "execution_count": 132,
   "metadata": {},
   "outputs": [
    {
     "name": "stdout",
     "output_type": "stream",
     "text": [
      "CREATE_PENDING \n",
      "CREATE_IN_PROGRESS ...............................................................................................................................................................................................................................................................................................................................................................................................................................\n",
      "ACTIVE \n"
     ]
    }
   ],
   "source": [
    "status_indicator=notebook_utils.StatusIndicator()\n",
    "while True:\n",
    "    status3 = forecast.describe_predictor(PredictorArn=predictor_arn)['Status']\n",
    "    status_indicator.update(status3)\n",
    "    if status3 in ('ACTIVE', 'CREATE_FAILED'): break\n",
    "    time.sleep(15)\n",
    "status_indicator.end()\n",
    "assert status3=='ACTIVE', (\"The status is not active,it is failed\")"
   ]
  },
  {
   "cell_type": "code",
   "execution_count": 133,
   "metadata": {},
   "outputs": [
    {
     "data": {
      "text/plain": [
       "{'PredictorArn': 'arn:aws:forecast:us-east-1:311461407286:predictor/capacity_plan_forecast_deepAR_deepAR_algo',\n",
       " 'PredictorName': 'capacity_plan_forecast_deepAR_deepAR_algo',\n",
       " 'AlgorithmArn': 'arn:aws:forecast:::algorithm/Deep_AR_Plus',\n",
       " 'ForecastHorizon': 24,\n",
       " 'PerformAutoML': False,\n",
       " 'PerformHPO': True,\n",
       " 'TrainingParameters': {'context_length': '163',\n",
       "  'epochs': '500',\n",
       "  'learning_rate': '0.009040969584075928',\n",
       "  'learning_rate_decay': '0.5',\n",
       "  'likelihood': 'student-t',\n",
       "  'max_learning_rate_decays': '0',\n",
       "  'num_averaged_models': '1',\n",
       "  'num_cells': '40',\n",
       "  'num_layers': '2',\n",
       "  'prediction_length': '24'},\n",
       " 'EvaluationParameters': {'NumberOfBacktestWindows': 1,\n",
       "  'BackTestWindowOffset': 24},\n",
       " 'HPOConfig': {'ParameterRanges': {'ContinuousParameterRanges': [{'Name': 'learning_rate',\n",
       "     'MaxValue': 0.1,\n",
       "     'MinValue': 0.0001,\n",
       "     'ScalingType': 'Linear'}],\n",
       "   'IntegerParameterRanges': [{'Name': 'context_length',\n",
       "     'MaxValue': 168,\n",
       "     'MinValue': 24,\n",
       "     'ScalingType': 'Linear'}]}},\n",
       " 'InputDataConfig': {'DatasetGroupArn': 'arn:aws:forecast:us-east-1:311461407286:dataset-group/capacity_plan_forecast_deepAR_dsg'},\n",
       " 'FeaturizationConfig': {'ForecastFrequency': 'H',\n",
       "  'Featurizations': [{'AttributeName': 'target_value',\n",
       "    'FeaturizationPipeline': [{'FeaturizationMethodName': 'filling',\n",
       "      'FeaturizationMethodParameters': {'aggregation': 'sum',\n",
       "       'backfill': 'zero',\n",
       "       'frontfill': 'none',\n",
       "       'middlefill': 'zero'}}]},\n",
       "   {'AttributeName': 'lifetime',\n",
       "    'FeaturizationPipeline': [{'FeaturizationMethodName': 'filling',\n",
       "      'FeaturizationMethodParameters': {'aggregation': 'first',\n",
       "       'backfill': 'none',\n",
       "       'frontfill': 'none',\n",
       "       'futurefill': 'none',\n",
       "       'middlefill': 'none'}}]},\n",
       "   {'AttributeName': 'corehour',\n",
       "    'FeaturizationPipeline': [{'FeaturizationMethodName': 'filling',\n",
       "      'FeaturizationMethodParameters': {'aggregation': 'first',\n",
       "       'backfill': 'none',\n",
       "       'frontfill': 'none',\n",
       "       'futurefill': 'none',\n",
       "       'middlefill': 'none'}}]}]},\n",
       " 'PredictorExecutionDetails': {'PredictorExecutions': [{'AlgorithmArn': 'arn:aws:forecast:::algorithm/Deep_AR_Plus',\n",
       "    'TestWindows': [{'TestWindowStart': datetime.datetime(2020, 11, 29, 16, 0, tzinfo=tzlocal()),\n",
       "      'TestWindowEnd': datetime.datetime(2020, 11, 30, 16, 0, tzinfo=tzlocal()),\n",
       "      'Status': 'ACTIVE'}]}]},\n",
       " 'DatasetImportJobArns': ['arn:aws:forecast:us-east-1:311461407286:dataset-import-job/capacity_plan_forecast_deepAR_tsds/EP_DSIMPORT_JOB_TARGET',\n",
       "  'arn:aws:forecast:us-east-1:311461407286:dataset-import-job/capacity_plan_forecast_deepAR_related_ds/EP_RELATED_DSIMPORT_JOB_TARGET'],\n",
       " 'AutoMLAlgorithmArns': ['arn:aws:forecast:::algorithm/Deep_AR_Plus'],\n",
       " 'Status': 'ACTIVE',\n",
       " 'CreationTime': datetime.datetime(2020, 12, 4, 19, 2, 26, 634000, tzinfo=tzlocal()),\n",
       " 'LastModificationTime': datetime.datetime(2020, 12, 4, 20, 48, 4, 719000, tzinfo=tzlocal()),\n",
       " 'ResponseMetadata': {'RequestId': '764875c3-ad60-4fdb-89cd-a7fb5930f911',\n",
       "  'HTTPStatusCode': 200,\n",
       "  'HTTPHeaders': {'content-type': 'application/x-amz-json-1.1',\n",
       "   'date': 'Sat, 05 Dec 2020 05:53:49 GMT',\n",
       "   'x-amzn-requestid': '764875c3-ad60-4fdb-89cd-a7fb5930f911',\n",
       "   'content-length': '2423',\n",
       "   'connection': 'keep-alive'},\n",
       "  'RetryAttempts': 0}}"
      ]
     },
     "execution_count": 133,
     "metadata": {},
     "output_type": "execute_result"
    }
   ],
   "source": [
    "forecast.describe_predictor(PredictorArn=predictor_arn)"
   ]
  },
  {
   "cell_type": "code",
   "execution_count": 134,
   "metadata": {},
   "outputs": [],
   "source": [
    "res = forecast.get_accuracy_metrics(PredictorArn=predictor_arn)\n",
    "#RMSE = res['PredictorEvaluationResults'][0]['TestWindows'][0]['Metrics']['RMSE']"
   ]
  },
  {
   "cell_type": "code",
   "execution_count": 135,
   "metadata": {},
   "outputs": [
    {
     "data": {
      "text/plain": [
       "{'PredictorEvaluationResults': [{'AlgorithmArn': 'arn:aws:forecast:::algorithm/Deep_AR_Plus',\n",
       "   'TestWindows': [{'EvaluationType': 'SUMMARY',\n",
       "     'Metrics': {'RMSE': 29.124616131602107,\n",
       "      'WeightedQuantileLosses': [{'Quantile': 0.9,\n",
       "        'LossValue': 0.10747888794998717},\n",
       "       {'Quantile': 0.5, 'LossValue': 0.3188475385609401},\n",
       "       {'Quantile': 0.1, 'LossValue': 0.22296526090421123}]}},\n",
       "    {'TestWindowStart': datetime.datetime(2020, 11, 29, 16, 0, tzinfo=tzlocal()),\n",
       "     'TestWindowEnd': datetime.datetime(2020, 11, 30, 16, 0, tzinfo=tzlocal()),\n",
       "     'ItemCount': 1,\n",
       "     'EvaluationType': 'COMPUTED',\n",
       "     'Metrics': {'RMSE': 29.124616131602107,\n",
       "      'WeightedQuantileLosses': [{'Quantile': 0.9,\n",
       "        'LossValue': 0.10747888794998717},\n",
       "       {'Quantile': 0.5, 'LossValue': 0.3188475385609401},\n",
       "       {'Quantile': 0.1, 'LossValue': 0.22296526090421123}]}}]}],\n",
       " 'ResponseMetadata': {'RequestId': 'ab39ec3a-a660-4ac7-b498-62258d73d7dc',\n",
       "  'HTTPStatusCode': 200,\n",
       "  'HTTPHeaders': {'content-type': 'application/x-amz-json-1.1',\n",
       "   'date': 'Sat, 05 Dec 2020 05:54:07 GMT',\n",
       "   'x-amzn-requestid': 'ab39ec3a-a660-4ac7-b498-62258d73d7dc',\n",
       "   'content-length': '850',\n",
       "   'connection': 'keep-alive'},\n",
       "  'RetryAttempts': 0}}"
      ]
     },
     "execution_count": 135,
     "metadata": {},
     "output_type": "execute_result"
    }
   ],
   "source": [
    "res"
   ]
  },
  {
   "cell_type": "code",
   "execution_count": 136,
   "metadata": {},
   "outputs": [],
   "source": [
    "RMSE = res['PredictorEvaluationResults'][0]['TestWindows'][0]['Metrics']['RMSE']"
   ]
  },
  {
   "cell_type": "code",
   "execution_count": 137,
   "metadata": {},
   "outputs": [
    {
     "name": "stdout",
     "output_type": "stream",
     "text": [
      "The value of RMSE=29.124616131602107\n"
     ]
    }
   ],
   "source": [
    "print(\"The value of RMSE={}\".format(RMSE))"
   ]
  },
  {
   "cell_type": "code",
   "execution_count": 138,
   "metadata": {},
   "outputs": [
    {
     "name": "stdout",
     "output_type": "stream",
     "text": [
      "CREATE_PENDING \n",
      "CREATE_IN_PROGRESS .....................................................................................................................................................\n",
      "ACTIVE \n"
     ]
    }
   ],
   "source": [
    "#def create_forecast(forecastName, predictor_arn):\n",
    "create_forecast_response=forecast.create_forecast(ForecastName=forecastName,\n",
    "                                                  PredictorArn=predictor_arn)\n",
    "forecast_arn = create_forecast_response['ForecastArn']\n",
    "status_indicator=notebook_utils.StatusIndicator()\n",
    "while True:\n",
    "    status4 = forecast.describe_forecast(ForecastArn=forecast_arn)['Status']\n",
    "    status_indicator.update(status4)\n",
    "    if status4 in ('ACTIVE', 'CREATE_FAILED'): break\n",
    "    time.sleep(15)\n",
    "status_indicator.end()\n",
    "assert status4=='ACTIVE', (\"The status is not active,it is failed\")\n",
    "#return status4, forecast_arn\n"
   ]
  },
  {
   "cell_type": "code",
   "execution_count": 139,
   "metadata": {},
   "outputs": [
    {
     "data": {
      "image/png": "[encoded data removed]",
      "text/plain": [
       "<Figure size 1080x720 with 1 Axes>"
      ]
     },
     "metadata": {
      "needs_background": "light"
     },
     "output_type": "display_data"
    }
   ],
   "source": [
    "\n",
    "#def create_final_predictions(status3, forecast_arn):\n",
    "\n",
    "import matplotlib.pyplot as plt\n",
    "forecast_response_deep_2 = forecastquery.query_forecast(ForecastArn=forecast_arn,\n",
    "                                                            Filters={\"item_id\":\"maxcpu\"}\n",
    "                                                            )\n",
    "fcst = forecast_response_deep_2['Forecast']['Predictions']\n",
    "time_stamp = list(map(lambda x: pd.to_datetime(x['Timestamp']), fcst['p10']))\n",
    "p10_fcst = list(map(lambda x: x['Value'], fcst['p10']))\n",
    "p50_fcst = list(map(lambda x: x['Value'], fcst['p50']))\n",
    "p90_fcst = list(map(lambda x: x['Value'], fcst['p90']))\n",
    "\n",
    "plt.figure(figsize=(15, 10))\n",
    "plt.plot(time_stamp, p50_fcst)\n",
    "plt.fill_between(time_stamp, p10_fcst, p90_fcst, alpha=0.2)\n",
    "plt.title(\"DeepAR Forecast 2\");\n",
    "#forecastResponse_Ops = forecastquery.query_forecast(ForecastArn=forecast_arn,\n",
    "#                                                             Filters={\"item_id\":\"EBSWriteOps\"}\n",
    "#                                                             )\n",
    "\n",
    "prediction_df_cpu10 = pd.DataFrame.from_dict(forecast_response_deep_2['Forecast']['Predictions']['p10'])\n",
    "\n",
    "prediction_df_cpu90 = pd.DataFrame.from_dict(forecast_response_deep_2['Forecast']['Predictions']['p90'])\n",
    "\n",
    "# return prediction_df_Bytes, prediction_df_Ops \n"
   ]
  },
  {
   "cell_type": "code",
   "execution_count": 140,
   "metadata": {},
   "outputs": [
    {
     "data": {
      "text/html": [
       "<div>\n",
       "<style scoped>\n",
       "    .dataframe tbody tr th:only-of-type {\n",
       "        vertical-align: middle;\n",
       "    }\n",
       "\n",
       "    .dataframe tbody tr th {\n",
       "        vertical-align: top;\n",
       "    }\n",
       "\n",
       "    .dataframe thead th {\n",
       "        text-align: right;\n",
       "    }\n",
       "</style>\n",
       "<table border=\"1\" class=\"dataframe\">\n",
       "  <thead>\n",
       "    <tr style=\"text-align: right;\">\n",
       "      <th></th>\n",
       "      <th>Timestamp</th>\n",
       "      <th>Value</th>\n",
       "    </tr>\n",
       "  </thead>\n",
       "  <tbody>\n",
       "    <tr>\n",
       "      <th>0</th>\n",
       "      <td>2020-12-01T00:00:00</td>\n",
       "      <td>74.024849</td>\n",
       "    </tr>\n",
       "    <tr>\n",
       "      <th>1</th>\n",
       "      <td>2020-12-01T01:00:00</td>\n",
       "      <td>70.523239</td>\n",
       "    </tr>\n",
       "    <tr>\n",
       "      <th>2</th>\n",
       "      <td>2020-12-01T02:00:00</td>\n",
       "      <td>78.725555</td>\n",
       "    </tr>\n",
       "    <tr>\n",
       "      <th>3</th>\n",
       "      <td>2020-12-01T03:00:00</td>\n",
       "      <td>82.932854</td>\n",
       "    </tr>\n",
       "    <tr>\n",
       "      <th>4</th>\n",
       "      <td>2020-12-01T04:00:00</td>\n",
       "      <td>90.298309</td>\n",
       "    </tr>\n",
       "    <tr>\n",
       "      <th>5</th>\n",
       "      <td>2020-12-01T05:00:00</td>\n",
       "      <td>92.732246</td>\n",
       "    </tr>\n",
       "    <tr>\n",
       "      <th>6</th>\n",
       "      <td>2020-12-01T06:00:00</td>\n",
       "      <td>98.831970</td>\n",
       "    </tr>\n",
       "    <tr>\n",
       "      <th>7</th>\n",
       "      <td>2020-12-01T07:00:00</td>\n",
       "      <td>103.116814</td>\n",
       "    </tr>\n",
       "    <tr>\n",
       "      <th>8</th>\n",
       "      <td>2020-12-01T08:00:00</td>\n",
       "      <td>106.385857</td>\n",
       "    </tr>\n",
       "    <tr>\n",
       "      <th>9</th>\n",
       "      <td>2020-12-01T09:00:00</td>\n",
       "      <td>106.798012</td>\n",
       "    </tr>\n",
       "    <tr>\n",
       "      <th>10</th>\n",
       "      <td>2020-12-01T10:00:00</td>\n",
       "      <td>110.485542</td>\n",
       "    </tr>\n",
       "    <tr>\n",
       "      <th>11</th>\n",
       "      <td>2020-12-01T11:00:00</td>\n",
       "      <td>110.229164</td>\n",
       "    </tr>\n",
       "    <tr>\n",
       "      <th>12</th>\n",
       "      <td>2020-12-01T12:00:00</td>\n",
       "      <td>110.570290</td>\n",
       "    </tr>\n",
       "    <tr>\n",
       "      <th>13</th>\n",
       "      <td>2020-12-01T13:00:00</td>\n",
       "      <td>118.823212</td>\n",
       "    </tr>\n",
       "    <tr>\n",
       "      <th>14</th>\n",
       "      <td>2020-12-01T14:00:00</td>\n",
       "      <td>118.794754</td>\n",
       "    </tr>\n",
       "    <tr>\n",
       "      <th>15</th>\n",
       "      <td>2020-12-01T15:00:00</td>\n",
       "      <td>121.734390</td>\n",
       "    </tr>\n",
       "    <tr>\n",
       "      <th>16</th>\n",
       "      <td>2020-12-01T16:00:00</td>\n",
       "      <td>123.624954</td>\n",
       "    </tr>\n",
       "    <tr>\n",
       "      <th>17</th>\n",
       "      <td>2020-12-01T17:00:00</td>\n",
       "      <td>122.476974</td>\n",
       "    </tr>\n",
       "    <tr>\n",
       "      <th>18</th>\n",
       "      <td>2020-12-01T18:00:00</td>\n",
       "      <td>124.402451</td>\n",
       "    </tr>\n",
       "    <tr>\n",
       "      <th>19</th>\n",
       "      <td>2020-12-01T19:00:00</td>\n",
       "      <td>124.045273</td>\n",
       "    </tr>\n",
       "    <tr>\n",
       "      <th>20</th>\n",
       "      <td>2020-12-01T20:00:00</td>\n",
       "      <td>129.119797</td>\n",
       "    </tr>\n",
       "    <tr>\n",
       "      <th>21</th>\n",
       "      <td>2020-12-01T21:00:00</td>\n",
       "      <td>127.631973</td>\n",
       "    </tr>\n",
       "    <tr>\n",
       "      <th>22</th>\n",
       "      <td>2020-12-01T22:00:00</td>\n",
       "      <td>129.195541</td>\n",
       "    </tr>\n",
       "    <tr>\n",
       "      <th>23</th>\n",
       "      <td>2020-12-01T23:00:00</td>\n",
       "      <td>121.553375</td>\n",
       "    </tr>\n",
       "  </tbody>\n",
       "</table>\n",
       "</div>"
      ],
      "text/plain": [
       "              Timestamp       Value\n",
       "0   2020-12-01T00:00:00   74.024849\n",
       "1   2020-12-01T01:00:00   70.523239\n",
       "2   2020-12-01T02:00:00   78.725555\n",
       "3   2020-12-01T03:00:00   82.932854\n",
       "4   2020-12-01T04:00:00   90.298309\n",
       "5   2020-12-01T05:00:00   92.732246\n",
       "6   2020-12-01T06:00:00   98.831970\n",
       "7   2020-12-01T07:00:00  103.116814\n",
       "8   2020-12-01T08:00:00  106.385857\n",
       "9   2020-12-01T09:00:00  106.798012\n",
       "10  2020-12-01T10:00:00  110.485542\n",
       "11  2020-12-01T11:00:00  110.229164\n",
       "12  2020-12-01T12:00:00  110.570290\n",
       "13  2020-12-01T13:00:00  118.823212\n",
       "14  2020-12-01T14:00:00  118.794754\n",
       "15  2020-12-01T15:00:00  121.734390\n",
       "16  2020-12-01T16:00:00  123.624954\n",
       "17  2020-12-01T17:00:00  122.476974\n",
       "18  2020-12-01T18:00:00  124.402451\n",
       "19  2020-12-01T19:00:00  124.045273\n",
       "20  2020-12-01T20:00:00  129.119797\n",
       "21  2020-12-01T21:00:00  127.631973\n",
       "22  2020-12-01T22:00:00  129.195541\n",
       "23  2020-12-01T23:00:00  121.553375"
      ]
     },
     "execution_count": 140,
     "metadata": {},
     "output_type": "execute_result"
    }
   ],
   "source": [
    "prediction_df_cpu10"
   ]
  },
  {
   "cell_type": "code",
   "execution_count": 144,
   "metadata": {},
   "outputs": [
    {
     "data": {
      "text/plain": [
       "array([['2020-12-01T00:00:00', 74.02484893798828],\n",
       "       ['2020-12-01T01:00:00', 70.52323913574219],\n",
       "       ['2020-12-01T02:00:00', 78.72555541992188],\n",
       "       ['2020-12-01T03:00:00', 82.93285369873047],\n",
       "       ['2020-12-01T04:00:00', 90.29830932617188],\n",
       "       ['2020-12-01T05:00:00', 92.73224639892578],\n",
       "       ['2020-12-01T06:00:00', 98.83197021484375],\n",
       "       ['2020-12-01T07:00:00', 103.11681365966797],\n",
       "       ['2020-12-01T08:00:00', 106.38585662841797],\n",
       "       ['2020-12-01T09:00:00', 106.79801177978516],\n",
       "       ['2020-12-01T10:00:00', 110.48554229736328],\n",
       "       ['2020-12-01T11:00:00', 110.22916412353516],\n",
       "       ['2020-12-01T12:00:00', 110.5702896118164],\n",
       "       ['2020-12-01T13:00:00', 118.82321166992188],\n",
       "       ['2020-12-01T14:00:00', 118.79475402832031],\n",
       "       ['2020-12-01T15:00:00', 121.73439025878906],\n",
       "       ['2020-12-01T16:00:00', 123.62495422363281],\n",
       "       ['2020-12-01T17:00:00', 122.47697448730469],\n",
       "       ['2020-12-01T18:00:00', 124.40245056152344],\n",
       "       ['2020-12-01T19:00:00', 124.04527282714844],\n",
       "       ['2020-12-01T20:00:00', 129.1197967529297],\n",
       "       ['2020-12-01T21:00:00', 127.63197326660156],\n",
       "       ['2020-12-01T22:00:00', 129.19554138183594],\n",
       "       ['2020-12-01T23:00:00', 121.55337524414062]], dtype=object)"
      ]
     },
     "execution_count": 144,
     "metadata": {},
     "output_type": "execute_result"
    }
   ],
   "source": [
    "prediction_df_cpu10.values"
   ]
  },
  {
   "cell_type": "code",
   "execution_count": 141,
   "metadata": {},
   "outputs": [
    {
     "data": {
      "text/html": [
       "<div>\n",
       "<style scoped>\n",
       "    .dataframe tbody tr th:only-of-type {\n",
       "        vertical-align: middle;\n",
       "    }\n",
       "\n",
       "    .dataframe tbody tr th {\n",
       "        vertical-align: top;\n",
       "    }\n",
       "\n",
       "    .dataframe thead th {\n",
       "        text-align: right;\n",
       "    }\n",
       "</style>\n",
       "<table border=\"1\" class=\"dataframe\">\n",
       "  <thead>\n",
       "    <tr style=\"text-align: right;\">\n",
       "      <th></th>\n",
       "      <th>Timestamp</th>\n",
       "      <th>Value</th>\n",
       "    </tr>\n",
       "  </thead>\n",
       "  <tbody>\n",
       "    <tr>\n",
       "      <th>0</th>\n",
       "      <td>2020-12-01T00:00:00</td>\n",
       "      <td>107.772186</td>\n",
       "    </tr>\n",
       "    <tr>\n",
       "      <th>1</th>\n",
       "      <td>2020-12-01T01:00:00</td>\n",
       "      <td>106.392365</td>\n",
       "    </tr>\n",
       "    <tr>\n",
       "      <th>2</th>\n",
       "      <td>2020-12-01T02:00:00</td>\n",
       "      <td>108.528526</td>\n",
       "    </tr>\n",
       "    <tr>\n",
       "      <th>3</th>\n",
       "      <td>2020-12-01T03:00:00</td>\n",
       "      <td>114.256554</td>\n",
       "    </tr>\n",
       "    <tr>\n",
       "      <th>4</th>\n",
       "      <td>2020-12-01T04:00:00</td>\n",
       "      <td>112.060310</td>\n",
       "    </tr>\n",
       "    <tr>\n",
       "      <th>5</th>\n",
       "      <td>2020-12-01T05:00:00</td>\n",
       "      <td>113.820000</td>\n",
       "    </tr>\n",
       "    <tr>\n",
       "      <th>6</th>\n",
       "      <td>2020-12-01T06:00:00</td>\n",
       "      <td>119.875404</td>\n",
       "    </tr>\n",
       "    <tr>\n",
       "      <th>7</th>\n",
       "      <td>2020-12-01T07:00:00</td>\n",
       "      <td>124.966003</td>\n",
       "    </tr>\n",
       "    <tr>\n",
       "      <th>8</th>\n",
       "      <td>2020-12-01T08:00:00</td>\n",
       "      <td>125.540207</td>\n",
       "    </tr>\n",
       "    <tr>\n",
       "      <th>9</th>\n",
       "      <td>2020-12-01T09:00:00</td>\n",
       "      <td>126.273796</td>\n",
       "    </tr>\n",
       "    <tr>\n",
       "      <th>10</th>\n",
       "      <td>2020-12-01T10:00:00</td>\n",
       "      <td>129.296249</td>\n",
       "    </tr>\n",
       "    <tr>\n",
       "      <th>11</th>\n",
       "      <td>2020-12-01T11:00:00</td>\n",
       "      <td>125.549026</td>\n",
       "    </tr>\n",
       "    <tr>\n",
       "      <th>12</th>\n",
       "      <td>2020-12-01T12:00:00</td>\n",
       "      <td>126.203133</td>\n",
       "    </tr>\n",
       "    <tr>\n",
       "      <th>13</th>\n",
       "      <td>2020-12-01T13:00:00</td>\n",
       "      <td>129.180344</td>\n",
       "    </tr>\n",
       "    <tr>\n",
       "      <th>14</th>\n",
       "      <td>2020-12-01T14:00:00</td>\n",
       "      <td>130.951141</td>\n",
       "    </tr>\n",
       "    <tr>\n",
       "      <th>15</th>\n",
       "      <td>2020-12-01T15:00:00</td>\n",
       "      <td>133.083740</td>\n",
       "    </tr>\n",
       "    <tr>\n",
       "      <th>16</th>\n",
       "      <td>2020-12-01T16:00:00</td>\n",
       "      <td>133.507050</td>\n",
       "    </tr>\n",
       "    <tr>\n",
       "      <th>17</th>\n",
       "      <td>2020-12-01T17:00:00</td>\n",
       "      <td>134.872101</td>\n",
       "    </tr>\n",
       "    <tr>\n",
       "      <th>18</th>\n",
       "      <td>2020-12-01T18:00:00</td>\n",
       "      <td>133.098862</td>\n",
       "    </tr>\n",
       "    <tr>\n",
       "      <th>19</th>\n",
       "      <td>2020-12-01T19:00:00</td>\n",
       "      <td>132.223328</td>\n",
       "    </tr>\n",
       "    <tr>\n",
       "      <th>20</th>\n",
       "      <td>2020-12-01T20:00:00</td>\n",
       "      <td>137.697754</td>\n",
       "    </tr>\n",
       "    <tr>\n",
       "      <th>21</th>\n",
       "      <td>2020-12-01T21:00:00</td>\n",
       "      <td>136.312286</td>\n",
       "    </tr>\n",
       "    <tr>\n",
       "      <th>22</th>\n",
       "      <td>2020-12-01T22:00:00</td>\n",
       "      <td>136.570801</td>\n",
       "    </tr>\n",
       "    <tr>\n",
       "      <th>23</th>\n",
       "      <td>2020-12-01T23:00:00</td>\n",
       "      <td>133.045547</td>\n",
       "    </tr>\n",
       "  </tbody>\n",
       "</table>\n",
       "</div>"
      ],
      "text/plain": [
       "              Timestamp       Value\n",
       "0   2020-12-01T00:00:00  107.772186\n",
       "1   2020-12-01T01:00:00  106.392365\n",
       "2   2020-12-01T02:00:00  108.528526\n",
       "3   2020-12-01T03:00:00  114.256554\n",
       "4   2020-12-01T04:00:00  112.060310\n",
       "5   2020-12-01T05:00:00  113.820000\n",
       "6   2020-12-01T06:00:00  119.875404\n",
       "7   2020-12-01T07:00:00  124.966003\n",
       "8   2020-12-01T08:00:00  125.540207\n",
       "9   2020-12-01T09:00:00  126.273796\n",
       "10  2020-12-01T10:00:00  129.296249\n",
       "11  2020-12-01T11:00:00  125.549026\n",
       "12  2020-12-01T12:00:00  126.203133\n",
       "13  2020-12-01T13:00:00  129.180344\n",
       "14  2020-12-01T14:00:00  130.951141\n",
       "15  2020-12-01T15:00:00  133.083740\n",
       "16  2020-12-01T16:00:00  133.507050\n",
       "17  2020-12-01T17:00:00  134.872101\n",
       "18  2020-12-01T18:00:00  133.098862\n",
       "19  2020-12-01T19:00:00  132.223328\n",
       "20  2020-12-01T20:00:00  137.697754\n",
       "21  2020-12-01T21:00:00  136.312286\n",
       "22  2020-12-01T22:00:00  136.570801\n",
       "23  2020-12-01T23:00:00  133.045547"
      ]
     },
     "execution_count": 141,
     "metadata": {},
     "output_type": "execute_result"
    }
   ],
   "source": [
    "prediction_df_cpu90"
   ]
  },
  {
   "cell_type": "code",
   "execution_count": 145,
   "metadata": {},
   "outputs": [],
   "source": [
    "#def create_result_dataframe(prediction_df_cpu):\n",
    "results_df_cpu = pd.DataFrame(columns=['timestamp', 'value', 'source'])\n",
    "    #results_df_Ops = pd.DataFrame(columns=['timestamp', 'value', 'source'])\n",
    "for index, row in prediction_df_cpu90.iterrows():\n",
    "    clean_timestamp = dateutil.parser.parse(row['Timestamp'])\n",
    "    results_df_cpu = results_df_cpu.append({'timestamp' : clean_timestamp , 'value' : row['Value'], 'source': 'cpu_p90'} , ignore_index=True)\n",
    "#     for index, row in prediction_df_Ops.iterrows():\n",
    "#         clean_timestamp = dateutil.parser.parse(row['Timestamp'])\n",
    "#         results_df_Ops = results_df_Ops.append({'timestamp' : clean_timestamp , 'value' : row['Value'], 'source': 'Ops_p50'} , ignore_index=True)\n",
    "#     #pivot_df_Ops = results_df_Ops.pivot(columns='source', values='value', index=\"timestamp\")\n",
    "    #pivot_df_Bytes = results_df_Bytes.pivot(columns='source', values='value', index=\"timestamp\")\n",
    "#return results_df_cpu\n",
    "        "
   ]
  },
  {
   "cell_type": "code",
   "execution_count": 146,
   "metadata": {},
   "outputs": [
    {
     "data": {
      "text/html": [
       "<div>\n",
       "<style scoped>\n",
       "    .dataframe tbody tr th:only-of-type {\n",
       "        vertical-align: middle;\n",
       "    }\n",
       "\n",
       "    .dataframe tbody tr th {\n",
       "        vertical-align: top;\n",
       "    }\n",
       "\n",
       "    .dataframe thead th {\n",
       "        text-align: right;\n",
       "    }\n",
       "</style>\n",
       "<table border=\"1\" class=\"dataframe\">\n",
       "  <thead>\n",
       "    <tr style=\"text-align: right;\">\n",
       "      <th></th>\n",
       "      <th>timestamp</th>\n",
       "      <th>value</th>\n",
       "      <th>source</th>\n",
       "    </tr>\n",
       "  </thead>\n",
       "  <tbody>\n",
       "    <tr>\n",
       "      <th>0</th>\n",
       "      <td>2020-12-01 00:00:00</td>\n",
       "      <td>107.772186</td>\n",
       "      <td>cpu_p90</td>\n",
       "    </tr>\n",
       "    <tr>\n",
       "      <th>1</th>\n",
       "      <td>2020-12-01 01:00:00</td>\n",
       "      <td>106.392365</td>\n",
       "      <td>cpu_p90</td>\n",
       "    </tr>\n",
       "    <tr>\n",
       "      <th>2</th>\n",
       "      <td>2020-12-01 02:00:00</td>\n",
       "      <td>108.528526</td>\n",
       "      <td>cpu_p90</td>\n",
       "    </tr>\n",
       "    <tr>\n",
       "      <th>3</th>\n",
       "      <td>2020-12-01 03:00:00</td>\n",
       "      <td>114.256554</td>\n",
       "      <td>cpu_p90</td>\n",
       "    </tr>\n",
       "    <tr>\n",
       "      <th>4</th>\n",
       "      <td>2020-12-01 04:00:00</td>\n",
       "      <td>112.060310</td>\n",
       "      <td>cpu_p90</td>\n",
       "    </tr>\n",
       "    <tr>\n",
       "      <th>5</th>\n",
       "      <td>2020-12-01 05:00:00</td>\n",
       "      <td>113.820000</td>\n",
       "      <td>cpu_p90</td>\n",
       "    </tr>\n",
       "    <tr>\n",
       "      <th>6</th>\n",
       "      <td>2020-12-01 06:00:00</td>\n",
       "      <td>119.875404</td>\n",
       "      <td>cpu_p90</td>\n",
       "    </tr>\n",
       "    <tr>\n",
       "      <th>7</th>\n",
       "      <td>2020-12-01 07:00:00</td>\n",
       "      <td>124.966003</td>\n",
       "      <td>cpu_p90</td>\n",
       "    </tr>\n",
       "    <tr>\n",
       "      <th>8</th>\n",
       "      <td>2020-12-01 08:00:00</td>\n",
       "      <td>125.540207</td>\n",
       "      <td>cpu_p90</td>\n",
       "    </tr>\n",
       "    <tr>\n",
       "      <th>9</th>\n",
       "      <td>2020-12-01 09:00:00</td>\n",
       "      <td>126.273796</td>\n",
       "      <td>cpu_p90</td>\n",
       "    </tr>\n",
       "    <tr>\n",
       "      <th>10</th>\n",
       "      <td>2020-12-01 10:00:00</td>\n",
       "      <td>129.296249</td>\n",
       "      <td>cpu_p90</td>\n",
       "    </tr>\n",
       "    <tr>\n",
       "      <th>11</th>\n",
       "      <td>2020-12-01 11:00:00</td>\n",
       "      <td>125.549026</td>\n",
       "      <td>cpu_p90</td>\n",
       "    </tr>\n",
       "    <tr>\n",
       "      <th>12</th>\n",
       "      <td>2020-12-01 12:00:00</td>\n",
       "      <td>126.203133</td>\n",
       "      <td>cpu_p90</td>\n",
       "    </tr>\n",
       "    <tr>\n",
       "      <th>13</th>\n",
       "      <td>2020-12-01 13:00:00</td>\n",
       "      <td>129.180344</td>\n",
       "      <td>cpu_p90</td>\n",
       "    </tr>\n",
       "    <tr>\n",
       "      <th>14</th>\n",
       "      <td>2020-12-01 14:00:00</td>\n",
       "      <td>130.951141</td>\n",
       "      <td>cpu_p90</td>\n",
       "    </tr>\n",
       "    <tr>\n",
       "      <th>15</th>\n",
       "      <td>2020-12-01 15:00:00</td>\n",
       "      <td>133.083740</td>\n",
       "      <td>cpu_p90</td>\n",
       "    </tr>\n",
       "    <tr>\n",
       "      <th>16</th>\n",
       "      <td>2020-12-01 16:00:00</td>\n",
       "      <td>133.507050</td>\n",
       "      <td>cpu_p90</td>\n",
       "    </tr>\n",
       "    <tr>\n",
       "      <th>17</th>\n",
       "      <td>2020-12-01 17:00:00</td>\n",
       "      <td>134.872101</td>\n",
       "      <td>cpu_p90</td>\n",
       "    </tr>\n",
       "    <tr>\n",
       "      <th>18</th>\n",
       "      <td>2020-12-01 18:00:00</td>\n",
       "      <td>133.098862</td>\n",
       "      <td>cpu_p90</td>\n",
       "    </tr>\n",
       "    <tr>\n",
       "      <th>19</th>\n",
       "      <td>2020-12-01 19:00:00</td>\n",
       "      <td>132.223328</td>\n",
       "      <td>cpu_p90</td>\n",
       "    </tr>\n",
       "    <tr>\n",
       "      <th>20</th>\n",
       "      <td>2020-12-01 20:00:00</td>\n",
       "      <td>137.697754</td>\n",
       "      <td>cpu_p90</td>\n",
       "    </tr>\n",
       "    <tr>\n",
       "      <th>21</th>\n",
       "      <td>2020-12-01 21:00:00</td>\n",
       "      <td>136.312286</td>\n",
       "      <td>cpu_p90</td>\n",
       "    </tr>\n",
       "    <tr>\n",
       "      <th>22</th>\n",
       "      <td>2020-12-01 22:00:00</td>\n",
       "      <td>136.570801</td>\n",
       "      <td>cpu_p90</td>\n",
       "    </tr>\n",
       "    <tr>\n",
       "      <th>23</th>\n",
       "      <td>2020-12-01 23:00:00</td>\n",
       "      <td>133.045547</td>\n",
       "      <td>cpu_p90</td>\n",
       "    </tr>\n",
       "  </tbody>\n",
       "</table>\n",
       "</div>"
      ],
      "text/plain": [
       "             timestamp       value   source\n",
       "0  2020-12-01 00:00:00  107.772186  cpu_p90\n",
       "1  2020-12-01 01:00:00  106.392365  cpu_p90\n",
       "2  2020-12-01 02:00:00  108.528526  cpu_p90\n",
       "3  2020-12-01 03:00:00  114.256554  cpu_p90\n",
       "4  2020-12-01 04:00:00  112.060310  cpu_p90\n",
       "5  2020-12-01 05:00:00  113.820000  cpu_p90\n",
       "6  2020-12-01 06:00:00  119.875404  cpu_p90\n",
       "7  2020-12-01 07:00:00  124.966003  cpu_p90\n",
       "8  2020-12-01 08:00:00  125.540207  cpu_p90\n",
       "9  2020-12-01 09:00:00  126.273796  cpu_p90\n",
       "10 2020-12-01 10:00:00  129.296249  cpu_p90\n",
       "11 2020-12-01 11:00:00  125.549026  cpu_p90\n",
       "12 2020-12-01 12:00:00  126.203133  cpu_p90\n",
       "13 2020-12-01 13:00:00  129.180344  cpu_p90\n",
       "14 2020-12-01 14:00:00  130.951141  cpu_p90\n",
       "15 2020-12-01 15:00:00  133.083740  cpu_p90\n",
       "16 2020-12-01 16:00:00  133.507050  cpu_p90\n",
       "17 2020-12-01 17:00:00  134.872101  cpu_p90\n",
       "18 2020-12-01 18:00:00  133.098862  cpu_p90\n",
       "19 2020-12-01 19:00:00  132.223328  cpu_p90\n",
       "20 2020-12-01 20:00:00  137.697754  cpu_p90\n",
       "21 2020-12-01 21:00:00  136.312286  cpu_p90\n",
       "22 2020-12-01 22:00:00  136.570801  cpu_p90\n",
       "23 2020-12-01 23:00:00  133.045547  cpu_p90"
      ]
     },
     "execution_count": 146,
     "metadata": {},
     "output_type": "execute_result"
    }
   ],
   "source": [
    "results_df_cpu"
   ]
  },
  {
   "cell_type": "code",
   "execution_count": 147,
   "metadata": {},
   "outputs": [
    {
     "name": "stdout",
     "output_type": "stream",
     "text": [
      "Successful delete\n"
     ]
    }
   ],
   "source": [
    "#def clean_up_resources(forecast_arn, predictor_arn, ds_import_job_arn, datasetArn, datasetGroupArn):\n",
    "fcst_utils.wait_till_delete(lambda: forecast.delete_forecast(ForecastArn=forecast_arn))\n",
    "#print(\"forecast job and forecastArn cleaned up....\")\n"
   ]
  },
  {
   "cell_type": "code",
   "execution_count": 148,
   "metadata": {},
   "outputs": [
    {
     "name": "stdout",
     "output_type": "stream",
     "text": [
      "Successful delete\n"
     ]
    }
   ],
   "source": [
    "fcst_utils.wait_till_delete(lambda: forecast.delete_predictor(PredictorArn=predictor_arn))\n",
    "#print(\"Predictor job and PredictorArn cleaned up....\")\n"
   ]
  },
  {
   "cell_type": "code",
   "execution_count": 149,
   "metadata": {},
   "outputs": [
    {
     "name": "stdout",
     "output_type": "stream",
     "text": [
      "Successful delete\n",
      "Successful delete\n"
     ]
    }
   ],
   "source": [
    "fcst_utils.wait_till_delete(lambda: forecast.delete_dataset_import_job(DatasetImportJobArn=ts_dataset_import_job_arn))\n",
    "#print(\"dataset import job cleaned up....\")\n",
    "fcst_utils.wait_till_delete(lambda: forecast.delete_dataset_import_job(DatasetImportJobArn=related_dataset_import_job_arn))"
   ]
  },
  {
   "cell_type": "code",
   "execution_count": 150,
   "metadata": {},
   "outputs": [
    {
     "name": "stdout",
     "output_type": "stream",
     "text": [
      "Successful delete\n",
      "Successful delete\n"
     ]
    }
   ],
   "source": [
    "fcst_utils.wait_till_delete(lambda: forecast.delete_dataset(DatasetArn=ts_datasetArn))\n",
    "#print(\"create dataset job and datasetArn cleaned up....\")\n",
    "fcst_utils.wait_till_delete(lambda: forecast.delete_dataset(DatasetArn=related_datasetArn))\n",
    "#print(\"datasetgroup job and datasetgroupArn cleaned up....\")\n"
   ]
  },
  {
   "cell_type": "code",
   "execution_count": 151,
   "metadata": {},
   "outputs": [
    {
     "data": {
      "text/plain": [
       "{'ResponseMetadata': {'RequestId': '8d0ece4e-d823-490a-80cd-28f711521f84',\n",
       "  'HTTPStatusCode': 200,\n",
       "  'HTTPHeaders': {'content-type': 'application/x-amz-json-1.1',\n",
       "   'date': 'Sat, 05 Dec 2020 07:11:02 GMT',\n",
       "   'x-amzn-requestid': '8d0ece4e-d823-490a-80cd-28f711521f84',\n",
       "   'content-length': '0',\n",
       "   'connection': 'keep-alive'},\n",
       "  'RetryAttempts': 0}}"
      ]
     },
     "execution_count": 151,
     "metadata": {},
     "output_type": "execute_result"
    }
   ],
   "source": [
    "# Delete dataset group\n",
    "forecast.delete_dataset_group(DatasetGroupArn=datasetGroupArn)"
   ]
  },
  {
   "cell_type": "code",
   "execution_count": null,
   "metadata": {},
   "outputs": [],
   "source": []
  },
  {
   "cell_type": "code",
   "execution_count": null,
   "metadata": {},
   "outputs": [],
   "source": []
  },
  {
   "cell_type": "code",
   "execution_count": null,
   "metadata": {},
   "outputs": [],
   "source": []
  },
  {
   "cell_type": "code",
   "execution_count": null,
   "metadata": {},
   "outputs": [],
   "source": []
  },
  {
   "cell_type": "code",
   "execution_count": null,
   "metadata": {},
   "outputs": [],
   "source": [
    "\n",
    "#     #df = compound_dataframe(mybucket)\n",
    "#     #preprocess_data(df)\n",
    "#     datasetGroupArn, datasetArn, datasetName, project, s3DataPath, DATASET_FREQUENCY, TIMESTAMP_FORMAT=initialize_data_forecast()\n",
    "    \n",
    "#     try:\n",
    "#         status1, ds_import_job_arn=create_data_imports(forecastHorizon, predictorName, algorithmArn, datasetGroupArn, datasetArn)\n",
    "#         print(\"The value of status1: \", status1)\n",
    "#     except AssertionError as error:\n",
    "#         print(error)\n",
    "#     else:\n",
    "#         try:\n",
    "#             status2, predictor_arn=create_predictor(predictorName, algorithmArn, forecastHorizon, datasetGroupArn)\n",
    "#             print(\"The value of status2: \", status2)\n",
    "#         except AssertionError as error:\n",
    "#             print(error)\n",
    "#         else:\n",
    "#             try:\n",
    "#                 status3, forecast_arn=create_forecast(forecastName, predictor_arn)\n",
    "#                 print(\"The value of status3: \", status3)\n",
    "#             except AssertionError as error:\n",
    "#                 print(error)\n",
    "#             else:\n",
    "                \n",
    "#                 prediction_df_Bytes, prediction_df_Ops=create_final_predictions(status3, forecast_arn)\n",
    "#                 results_df_Bytes, results_df_Ops=create_result_dataframe(prediction_df_Bytes, prediction_df_Ops)\n",
    "                \n",
    "    \n",
    "\n",
    "# copy_to_s3(client=client, df=results_df_Bytes, bucket=new_bucket, filepath=Deep_Bytes_key)  \n",
    "# copy_to_s3(client=client, df=results_df_Ops, bucket=new_bucket, filepath=Deep_Ops_key)\n",
    "\n",
    "# res = forecast.get_accuracy_metrics(PredictorArn=predictor_arn)\n",
    "# RMSE = res['PredictorEvaluationResults'][0]['TestWindows'][0]['Metrics']['RMSE']\n",
    "# with open(\"rmse.txt\", \"w\") as file:\n",
    "#     file.write(str(RMSE))\n",
    "# client.upload_file(Filename='rmse.txt', Bucket= new_bucket, Key=RMSE_key)\n",
    "# clean_up_resources(forecast_arn, predictor_arn, ds_import_job_arn, datasetArn, datasetGroupArn)\n",
    "# endtime=datetime.now().strftime('%Y-%m-%d %H:%M:%S')\n",
    "# print(\"cron ended at: {}\".format(endtime))\n"
   ]
  },
  {
   "cell_type": "code",
   "execution_count": null,
   "metadata": {},
   "outputs": [],
   "source": [
    "\n",
    "# copy to output bucket function\n",
    "def copy_to_s3(client, df, bucket, filepath):\n",
    "    \n",
    "    #filepath=Deep_key\n",
    "    csv_buf = StringIO()\n",
    "    df.to_csv(csv_buf, header=True, index=False)\n",
    "    csv_buf.seek(0)\n",
    "    client.put_object(Bucket=bucket, Body=csv_buf.getvalue(), Key=filepath)\n",
    "    print(f'Copy {df.shape[0]} rows to S3 Bucket {bucket} at {filepath}, Done!')"
   ]
  },
  {
   "cell_type": "code",
   "execution_count": null,
   "metadata": {},
   "outputs": [],
   "source": [
    "copy_to_s3(client, results_df_cpu, new_bucket, filepath=Deep_key)"
   ]
  },
  {
   "cell_type": "code",
   "execution_count": null,
   "metadata": {},
   "outputs": [],
   "source": [
    "copy_to_s3(client, results_df_cpu, new_bucket, filepath=Deep_RMSE_key)"
   ]
  },
  {
   "cell_type": "code",
   "execution_count": null,
   "metadata": {},
   "outputs": [],
   "source": []
  }
 ],
 "metadata": {
  "kernelspec": {
   "display_name": "Python 3",
   "language": "python",
   "name": "python3"
  },
  "language_info": {
   "codemirror_mode": {
    "name": "ipython",
    "version": 3
   },
   "file_extension": ".py",
   "mimetype": "text/x-python",
   "name": "python",
   "nbconvert_exporter": "python",
   "pygments_lexer": "ipython3",
   "version": "3.8.3"
  }
 },
 "nbformat": 4,
 "nbformat_minor": 4
}
