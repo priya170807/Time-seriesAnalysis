{
  "nbformat": 4,
  "nbformat_minor": 0,
  "metadata": {
    "colab": {
      "name": "Azure_dataset2_fourfeatures.ipynb",
      "provenance": [],
      "collapsed_sections": [],
      "mount_file_id": "1GtoReEVR-XxDv8OTDwyGfFjFhqrG1YK2",
      "authorship_tag": "ABX9TyMykEWZbvgZnR9lr8VblPii",
      "include_colab_link": true
    },
    "kernelspec": {
      "name": "python3",
      "display_name": "Python 3"
    },
    "accelerator": "GPU"
  },
  "cells": [
    {
      "cell_type": "markdown",
      "metadata": {
        "id": "view-in-github",
        "colab_type": "text"
      },
      "source": [
        "<a href=\"https://colab.research.google.com/github/priya170807/Time-seriesAnalysis/blob/main/Azure_dataset2_fourfeatures.ipynb\" target=\"_parent\"><img src=\"https://colab.research.google.com/assets/colab-badge.svg\" alt=\"Open In Colab\"/></a>"
      ]
    },
    {
      "cell_type": "code",
      "metadata": {
        "id": "TYBgi0GaPv70"
      },
      "source": [
        "import numpy as np\n",
        "import pandas as pd\n",
        "import matplotlib.pyplot as plt\n",
        "import seaborn as sns\n",
        "from sklearn.preprocessing import minmax_scale\n",
        "from sklearn.preprocessing import StandardScaler\n",
        "from sklearn.preprocessing import MinMaxScaler\n",
        "from sklearn.preprocessing import RobustScaler"
      ],
      "execution_count": 166,
      "outputs": []
    },
    {
      "cell_type": "code",
      "metadata": {
        "colab": {
          "base_uri": "https://localhost:8080/",
          "height": 292
        },
        "id": "yfdsXfIrQHZK",
        "outputId": "bfd8f1cd-01cf-47c5-fbfc-97058b0f497b"
      },
      "source": [
        "data_path = '/content/drive/MyDrive/vmtable.csv/vmtable.csv'\n",
        "headers=['vmid','subscriptionid','deploymentid','vmcreated', 'vmdeleted', 'maxcpu', 'avgcpu', 'p95maxcpu', 'vmcategory', 'vmcorecount', 'vmmemory']\n",
        "trace_dataframe = pd.read_csv(data_path, header=None, index_col=False,names=headers,delimiter=',')\n",
        "\n",
        "\n",
        "#Compute VM Lifetime based on VM Created and VM Deleted timestamps and transform to Hour\n",
        "trace_dataframe['lifetime'] = np.maximum((trace_dataframe['vmdeleted'] - trace_dataframe['vmcreated']),300)/ 3600\n",
        "trace_dataframe['corehour'] = trace_dataframe['lifetime'] * trace_dataframe['vmcorecount']\n",
        "trace_dataframe.head()"
      ],
      "execution_count": 167,
      "outputs": [
        {
          "output_type": "execute_result",
          "data": {
            "text/html": [
              "<div>\n",
              "<style scoped>\n",
              "    .dataframe tbody tr th:only-of-type {\n",
              "        vertical-align: middle;\n",
              "    }\n",
              "\n",
              "    .dataframe tbody tr th {\n",
              "        vertical-align: top;\n",
              "    }\n",
              "\n",
              "    .dataframe thead th {\n",
              "        text-align: right;\n",
              "    }\n",
              "</style>\n",
              "<table border=\"1\" class=\"dataframe\">\n",
              "  <thead>\n",
              "    <tr style=\"text-align: right;\">\n",
              "      <th></th>\n",
              "      <th>vmid</th>\n",
              "      <th>subscriptionid</th>\n",
              "      <th>deploymentid</th>\n",
              "      <th>vmcreated</th>\n",
              "      <th>vmdeleted</th>\n",
              "      <th>maxcpu</th>\n",
              "      <th>avgcpu</th>\n",
              "      <th>p95maxcpu</th>\n",
              "      <th>vmcategory</th>\n",
              "      <th>vmcorecount</th>\n",
              "      <th>vmmemory</th>\n",
              "      <th>lifetime</th>\n",
              "      <th>corehour</th>\n",
              "    </tr>\n",
              "  </thead>\n",
              "  <tbody>\n",
              "    <tr>\n",
              "      <th>0</th>\n",
              "      <td>x/XsOfHO4ocsV99i4NluqKDuxctW2MMVmwqOPAlg4wp8mq...</td>\n",
              "      <td>VDU4C8cqdr+ORcqquwMRcsBA2l0SC6lCPys0wdghKROuxP...</td>\n",
              "      <td>Pc2VLB8aDxK2DCC96itq4vW/zVDp4wioAUiB3HoGSFYQ0o...</td>\n",
              "      <td>0</td>\n",
              "      <td>2591700</td>\n",
              "      <td>99.369869</td>\n",
              "      <td>3.424094</td>\n",
              "      <td>10.194309</td>\n",
              "      <td>Delay-insensitive</td>\n",
              "      <td>1</td>\n",
              "      <td>1.75</td>\n",
              "      <td>719.916667</td>\n",
              "      <td>719.916667</td>\n",
              "    </tr>\n",
              "    <tr>\n",
              "      <th>1</th>\n",
              "      <td>H5CxmMoVcZSpjgGbohnVA3R+7uCTe/hM2ht2uIYi3t7KwX...</td>\n",
              "      <td>BSXOcywx8pUU0DueDo6UMol1YzR6tn47KLEKaoXp0a1bf2...</td>\n",
              "      <td>3J17LcV4gXjFat62qhVFRfoiWArHnY763HVqqI6orJCfV8...</td>\n",
              "      <td>0</td>\n",
              "      <td>1539300</td>\n",
              "      <td>100.000000</td>\n",
              "      <td>6.181784</td>\n",
              "      <td>33.981360</td>\n",
              "      <td>Interactive</td>\n",
              "      <td>1</td>\n",
              "      <td>0.75</td>\n",
              "      <td>427.583333</td>\n",
              "      <td>427.583333</td>\n",
              "    </tr>\n",
              "    <tr>\n",
              "      <th>2</th>\n",
              "      <td>wR/G1YUjpMP4zUbxGM/XJNhYS8cAK3SGKM2tqhF7VdeTUY...</td>\n",
              "      <td>VDU4C8cqdr+ORcqquwMRcsBA2l0SC6lCPys0wdghKROuxP...</td>\n",
              "      <td>Pc2VLB8aDxK2DCC96itq4vW/zVDp4wioAUiB3HoGSFYQ0o...</td>\n",
              "      <td>2188800</td>\n",
              "      <td>2591700</td>\n",
              "      <td>99.569027</td>\n",
              "      <td>3.573635</td>\n",
              "      <td>7.924250</td>\n",
              "      <td>Delay-insensitive</td>\n",
              "      <td>1</td>\n",
              "      <td>1.75</td>\n",
              "      <td>111.916667</td>\n",
              "      <td>111.916667</td>\n",
              "    </tr>\n",
              "    <tr>\n",
              "      <th>3</th>\n",
              "      <td>1XiU+KpvIa3T1XP8kk3ZY71Of03+ogFL5Pag9Mc2jBuh0Y...</td>\n",
              "      <td>8u+M3WcFp8pq183WoMB79PhK7xUzbaviOBv0qWN6Xn4mbu...</td>\n",
              "      <td>DHbeI+pYTYFjH8JAF8SewM0z/4SqQctvxcBRGIRglBmeLW...</td>\n",
              "      <td>0</td>\n",
              "      <td>2591700</td>\n",
              "      <td>99.405085</td>\n",
              "      <td>16.287611</td>\n",
              "      <td>95.697890</td>\n",
              "      <td>Delay-insensitive</td>\n",
              "      <td>8</td>\n",
              "      <td>56.00</td>\n",
              "      <td>719.916667</td>\n",
              "      <td>5759.333333</td>\n",
              "    </tr>\n",
              "    <tr>\n",
              "      <th>4</th>\n",
              "      <td>z5i2HiSaz6ZdLR6PXdnDjGva3jIlkMPXx23VtfXx9q3dXF...</td>\n",
              "      <td>VDU4C8cqdr+ORcqquwMRcsBA2l0SC6lCPys0wdghKROuxP...</td>\n",
              "      <td>Pc2VLB8aDxK2DCC96itq4vW/zVDp4wioAUiB3HoGSFYQ0o...</td>\n",
              "      <td>0</td>\n",
              "      <td>2188500</td>\n",
              "      <td>98.967961</td>\n",
              "      <td>3.036038</td>\n",
              "      <td>9.445484</td>\n",
              "      <td>Delay-insensitive</td>\n",
              "      <td>1</td>\n",
              "      <td>1.75</td>\n",
              "      <td>607.916667</td>\n",
              "      <td>607.916667</td>\n",
              "    </tr>\n",
              "  </tbody>\n",
              "</table>\n",
              "</div>"
            ],
            "text/plain": [
              "                                                vmid  ...     corehour\n",
              "0  x/XsOfHO4ocsV99i4NluqKDuxctW2MMVmwqOPAlg4wp8mq...  ...   719.916667\n",
              "1  H5CxmMoVcZSpjgGbohnVA3R+7uCTe/hM2ht2uIYi3t7KwX...  ...   427.583333\n",
              "2  wR/G1YUjpMP4zUbxGM/XJNhYS8cAK3SGKM2tqhF7VdeTUY...  ...   111.916667\n",
              "3  1XiU+KpvIa3T1XP8kk3ZY71Of03+ogFL5Pag9Mc2jBuh0Y...  ...  5759.333333\n",
              "4  z5i2HiSaz6ZdLR6PXdnDjGva3jIlkMPXx23VtfXx9q3dXF...  ...   607.916667\n",
              "\n",
              "[5 rows x 13 columns]"
            ]
          },
          "metadata": {
            "tags": []
          },
          "execution_count": 167
        }
      ]
    },
    {
      "cell_type": "code",
      "metadata": {
        "colab": {
          "base_uri": "https://localhost:8080/",
          "height": 292
        },
        "id": "iJXg-7PJQK_m",
        "outputId": "1baa0fb7-f866-4ea9-f81f-b7648c613463"
      },
      "source": [
        "trace_dataframe.head()"
      ],
      "execution_count": 168,
      "outputs": [
        {
          "output_type": "execute_result",
          "data": {
            "text/html": [
              "<div>\n",
              "<style scoped>\n",
              "    .dataframe tbody tr th:only-of-type {\n",
              "        vertical-align: middle;\n",
              "    }\n",
              "\n",
              "    .dataframe tbody tr th {\n",
              "        vertical-align: top;\n",
              "    }\n",
              "\n",
              "    .dataframe thead th {\n",
              "        text-align: right;\n",
              "    }\n",
              "</style>\n",
              "<table border=\"1\" class=\"dataframe\">\n",
              "  <thead>\n",
              "    <tr style=\"text-align: right;\">\n",
              "      <th></th>\n",
              "      <th>vmid</th>\n",
              "      <th>subscriptionid</th>\n",
              "      <th>deploymentid</th>\n",
              "      <th>vmcreated</th>\n",
              "      <th>vmdeleted</th>\n",
              "      <th>maxcpu</th>\n",
              "      <th>avgcpu</th>\n",
              "      <th>p95maxcpu</th>\n",
              "      <th>vmcategory</th>\n",
              "      <th>vmcorecount</th>\n",
              "      <th>vmmemory</th>\n",
              "      <th>lifetime</th>\n",
              "      <th>corehour</th>\n",
              "    </tr>\n",
              "  </thead>\n",
              "  <tbody>\n",
              "    <tr>\n",
              "      <th>0</th>\n",
              "      <td>x/XsOfHO4ocsV99i4NluqKDuxctW2MMVmwqOPAlg4wp8mq...</td>\n",
              "      <td>VDU4C8cqdr+ORcqquwMRcsBA2l0SC6lCPys0wdghKROuxP...</td>\n",
              "      <td>Pc2VLB8aDxK2DCC96itq4vW/zVDp4wioAUiB3HoGSFYQ0o...</td>\n",
              "      <td>0</td>\n",
              "      <td>2591700</td>\n",
              "      <td>99.369869</td>\n",
              "      <td>3.424094</td>\n",
              "      <td>10.194309</td>\n",
              "      <td>Delay-insensitive</td>\n",
              "      <td>1</td>\n",
              "      <td>1.75</td>\n",
              "      <td>719.916667</td>\n",
              "      <td>719.916667</td>\n",
              "    </tr>\n",
              "    <tr>\n",
              "      <th>1</th>\n",
              "      <td>H5CxmMoVcZSpjgGbohnVA3R+7uCTe/hM2ht2uIYi3t7KwX...</td>\n",
              "      <td>BSXOcywx8pUU0DueDo6UMol1YzR6tn47KLEKaoXp0a1bf2...</td>\n",
              "      <td>3J17LcV4gXjFat62qhVFRfoiWArHnY763HVqqI6orJCfV8...</td>\n",
              "      <td>0</td>\n",
              "      <td>1539300</td>\n",
              "      <td>100.000000</td>\n",
              "      <td>6.181784</td>\n",
              "      <td>33.981360</td>\n",
              "      <td>Interactive</td>\n",
              "      <td>1</td>\n",
              "      <td>0.75</td>\n",
              "      <td>427.583333</td>\n",
              "      <td>427.583333</td>\n",
              "    </tr>\n",
              "    <tr>\n",
              "      <th>2</th>\n",
              "      <td>wR/G1YUjpMP4zUbxGM/XJNhYS8cAK3SGKM2tqhF7VdeTUY...</td>\n",
              "      <td>VDU4C8cqdr+ORcqquwMRcsBA2l0SC6lCPys0wdghKROuxP...</td>\n",
              "      <td>Pc2VLB8aDxK2DCC96itq4vW/zVDp4wioAUiB3HoGSFYQ0o...</td>\n",
              "      <td>2188800</td>\n",
              "      <td>2591700</td>\n",
              "      <td>99.569027</td>\n",
              "      <td>3.573635</td>\n",
              "      <td>7.924250</td>\n",
              "      <td>Delay-insensitive</td>\n",
              "      <td>1</td>\n",
              "      <td>1.75</td>\n",
              "      <td>111.916667</td>\n",
              "      <td>111.916667</td>\n",
              "    </tr>\n",
              "    <tr>\n",
              "      <th>3</th>\n",
              "      <td>1XiU+KpvIa3T1XP8kk3ZY71Of03+ogFL5Pag9Mc2jBuh0Y...</td>\n",
              "      <td>8u+M3WcFp8pq183WoMB79PhK7xUzbaviOBv0qWN6Xn4mbu...</td>\n",
              "      <td>DHbeI+pYTYFjH8JAF8SewM0z/4SqQctvxcBRGIRglBmeLW...</td>\n",
              "      <td>0</td>\n",
              "      <td>2591700</td>\n",
              "      <td>99.405085</td>\n",
              "      <td>16.287611</td>\n",
              "      <td>95.697890</td>\n",
              "      <td>Delay-insensitive</td>\n",
              "      <td>8</td>\n",
              "      <td>56.00</td>\n",
              "      <td>719.916667</td>\n",
              "      <td>5759.333333</td>\n",
              "    </tr>\n",
              "    <tr>\n",
              "      <th>4</th>\n",
              "      <td>z5i2HiSaz6ZdLR6PXdnDjGva3jIlkMPXx23VtfXx9q3dXF...</td>\n",
              "      <td>VDU4C8cqdr+ORcqquwMRcsBA2l0SC6lCPys0wdghKROuxP...</td>\n",
              "      <td>Pc2VLB8aDxK2DCC96itq4vW/zVDp4wioAUiB3HoGSFYQ0o...</td>\n",
              "      <td>0</td>\n",
              "      <td>2188500</td>\n",
              "      <td>98.967961</td>\n",
              "      <td>3.036038</td>\n",
              "      <td>9.445484</td>\n",
              "      <td>Delay-insensitive</td>\n",
              "      <td>1</td>\n",
              "      <td>1.75</td>\n",
              "      <td>607.916667</td>\n",
              "      <td>607.916667</td>\n",
              "    </tr>\n",
              "  </tbody>\n",
              "</table>\n",
              "</div>"
            ],
            "text/plain": [
              "                                                vmid  ...     corehour\n",
              "0  x/XsOfHO4ocsV99i4NluqKDuxctW2MMVmwqOPAlg4wp8mq...  ...   719.916667\n",
              "1  H5CxmMoVcZSpjgGbohnVA3R+7uCTe/hM2ht2uIYi3t7KwX...  ...   427.583333\n",
              "2  wR/G1YUjpMP4zUbxGM/XJNhYS8cAK3SGKM2tqhF7VdeTUY...  ...   111.916667\n",
              "3  1XiU+KpvIa3T1XP8kk3ZY71Of03+ogFL5Pag9Mc2jBuh0Y...  ...  5759.333333\n",
              "4  z5i2HiSaz6ZdLR6PXdnDjGva3jIlkMPXx23VtfXx9q3dXF...  ...   607.916667\n",
              "\n",
              "[5 rows x 13 columns]"
            ]
          },
          "metadata": {
            "tags": []
          },
          "execution_count": 168
        }
      ]
    },
    {
      "cell_type": "code",
      "metadata": {
        "colab": {
          "base_uri": "https://localhost:8080/"
        },
        "id": "YjiakdULQK88",
        "outputId": "98f73099-dc34-4580-b9c8-da0924b8b6d1"
      },
      "source": [
        "vm_count = trace_dataframe.shape[0]\n",
        "subscription_count = trace_dataframe['subscriptionid'].unique().shape[0]\n",
        "deployment_count = trace_dataframe['deploymentid'].unique().shape[0]\n",
        "total_vm_hour_available = trace_dataframe['lifetime'].sum()\n",
        "total_core_hour_available = trace_dataframe['corehour'].sum()\n",
        "\n",
        "print(\"Total Number of Virtual Machines in the Dataset: %d\" % vm_count)\n",
        "print(\"Total Number of Subscriptions in the Dataset: %d\" % subscription_count)\n",
        "print(\"Total Number of Deployments in the Dataset: %d\" % deployment_count)\n",
        "print(\"Total VM Hours Available in the Dataset: %f\" % total_vm_hour_available)\n",
        "print(\"Total Core Hours Available in the Dataset: %f\" % total_core_hour_available)"
      ],
      "execution_count": 169,
      "outputs": [
        {
          "output_type": "stream",
          "text": [
            "Total Number of Virtual Machines in the Dataset: 2013767\n",
            "Total Number of Subscriptions in the Dataset: 5958\n",
            "Total Number of Deployments in the Dataset: 35941\n",
            "Total VM Hours Available in the Dataset: 104371713.416667\n",
            "Total Core Hours Available in the Dataset: 237815104.750000\n"
          ],
          "name": "stdout"
        }
      ]
    },
    {
      "cell_type": "code",
      "metadata": {
        "colab": {
          "base_uri": "https://localhost:8080/"
        },
        "id": "sQJvFXpQQK2C",
        "outputId": "223a1895-21cf-4120-cb67-f92280932d15"
      },
      "source": [
        "trace_dataframe[\"subscriptionid\"].value_counts()"
      ],
      "execution_count": 170,
      "outputs": [
        {
          "output_type": "execute_result",
          "data": {
            "text/plain": [
              "+9OPyI+/Eeu5PSXVMdkPw3cB99+uk+YiAwMRGJU1cDm2ESAgTaUXcM091m1HeTX7    128047\n",
              "1pvP5oaK47WSSY0IZRNEQYdTLEx79rf7Gj1isBYW1jDOFGZXLQGTa0V3XnCrLrkB    111509\n",
              "IBRuELx83WZHD8ZBmRnQ7nN53DxcMPAO7szqGt218k7STW7rx0pjgjj5eLJ0FLbn     93427\n",
              "BShs5OvpbfrccmXj7X4MwSxkSFVNdSOzhYaDEKCijpvxWWkNByokK6c31F1uCT7R     85874\n",
              "8aRytjOt2E+dixkPugZHbKFROou3eQLywft928DTtFP2o3QzFTIxYQ+8r0kdkzvo     68490\n",
              "                                                                     ...  \n",
              "MWedWs/2WACTJLZNCAJTr0v9iDw6B7KaE6alOEwUDIbJ+Tkk0W0JMNXhTDpN6ZE2         1\n",
              "C0pSbJ9LtMzPpHT07C7u+EU/62XtuZaFy1ChhLsRWagPBQf3HE9j7BFl2hQW9/H7         1\n",
              "Z2pf67QxQJe88aMw1p0AnyQ5y9V9KVXMsfh2jQvM05vQgT4DPgkP/eVWzhrZFHvf         1\n",
              "nqD+d4WoH7oihE7Wl3FQTXQwTv35xy5q1hYhNT/AsFtpft7fm/Z11SRlkrP63DCv         1\n",
              "L/9cEAFRe7qt/x4lzfWzWUR1ewoFUqxuj+zoXoB7eS4oEXDCbUrSLI0/YfD0srq3         1\n",
              "Name: subscriptionid, Length: 5958, dtype: int64"
            ]
          },
          "metadata": {
            "tags": []
          },
          "execution_count": 170
        }
      ]
    },
    {
      "cell_type": "code",
      "metadata": {
        "id": "XPUyFSw3QKzq"
      },
      "source": [
        "oneVM_data = trace_dataframe[trace_dataframe[\"subscriptionid\"] == \"+9OPyI+/Eeu5PSXVMdkPw3cB99+uk+YiAwMRGJU1cDm2ESAgTaUXcM091m1HeTX7\"]"
      ],
      "execution_count": 171,
      "outputs": []
    },
    {
      "cell_type": "code",
      "metadata": {
        "colab": {
          "base_uri": "https://localhost:8080/",
          "height": 292
        },
        "id": "Y3HBskCIQKxa",
        "outputId": "1ca200a8-a4f0-4d77-fecd-1b89f8d8043b"
      },
      "source": [
        "oneVM_data.head()"
      ],
      "execution_count": 172,
      "outputs": [
        {
          "output_type": "execute_result",
          "data": {
            "text/html": [
              "<div>\n",
              "<style scoped>\n",
              "    .dataframe tbody tr th:only-of-type {\n",
              "        vertical-align: middle;\n",
              "    }\n",
              "\n",
              "    .dataframe tbody tr th {\n",
              "        vertical-align: top;\n",
              "    }\n",
              "\n",
              "    .dataframe thead th {\n",
              "        text-align: right;\n",
              "    }\n",
              "</style>\n",
              "<table border=\"1\" class=\"dataframe\">\n",
              "  <thead>\n",
              "    <tr style=\"text-align: right;\">\n",
              "      <th></th>\n",
              "      <th>vmid</th>\n",
              "      <th>subscriptionid</th>\n",
              "      <th>deploymentid</th>\n",
              "      <th>vmcreated</th>\n",
              "      <th>vmdeleted</th>\n",
              "      <th>maxcpu</th>\n",
              "      <th>avgcpu</th>\n",
              "      <th>p95maxcpu</th>\n",
              "      <th>vmcategory</th>\n",
              "      <th>vmcorecount</th>\n",
              "      <th>vmmemory</th>\n",
              "      <th>lifetime</th>\n",
              "      <th>corehour</th>\n",
              "    </tr>\n",
              "  </thead>\n",
              "  <tbody>\n",
              "    <tr>\n",
              "      <th>87435</th>\n",
              "      <td>kIq+LToYe/oJmpZJCT6aYfxRh252I4Bd8FQQIyaLLAST5A...</td>\n",
              "      <td>+9OPyI+/Eeu5PSXVMdkPw3cB99+uk+YiAwMRGJU1cDm2ES...</td>\n",
              "      <td>TSRTTdb9LRjgp+FpJYUBXBczOvLJLO5ksIDZm6OFgtN4Sa...</td>\n",
              "      <td>2305800</td>\n",
              "      <td>2310300</td>\n",
              "      <td>66.909246</td>\n",
              "      <td>2.900874</td>\n",
              "      <td>66.909246</td>\n",
              "      <td>Delay-insensitive</td>\n",
              "      <td>8</td>\n",
              "      <td>14.00</td>\n",
              "      <td>1.250000</td>\n",
              "      <td>10.000000</td>\n",
              "    </tr>\n",
              "    <tr>\n",
              "      <th>87436</th>\n",
              "      <td>T5Hgk7CUx9Z/ANIZ+3TIHran3IGgr4RcUoxGNMmWB5+96a...</td>\n",
              "      <td>+9OPyI+/Eeu5PSXVMdkPw3cB99+uk+YiAwMRGJU1cDm2ES...</td>\n",
              "      <td>TSRTTdb9LRjgp+FpJYUBXBczOvLJLO5ksIDZm6OFgtN4Sa...</td>\n",
              "      <td>2305800</td>\n",
              "      <td>2310300</td>\n",
              "      <td>6.510768</td>\n",
              "      <td>2.087024</td>\n",
              "      <td>6.510768</td>\n",
              "      <td>Delay-insensitive</td>\n",
              "      <td>8</td>\n",
              "      <td>14.00</td>\n",
              "      <td>1.250000</td>\n",
              "      <td>10.000000</td>\n",
              "    </tr>\n",
              "    <tr>\n",
              "      <th>87437</th>\n",
              "      <td>Omelc/JAGTVT51lNOObucJUr93TlFPNhEhyMeMRWrggtoK...</td>\n",
              "      <td>+9OPyI+/Eeu5PSXVMdkPw3cB99+uk+YiAwMRGJU1cDm2ES...</td>\n",
              "      <td>TSRTTdb9LRjgp+FpJYUBXBczOvLJLO5ksIDZm6OFgtN4Sa...</td>\n",
              "      <td>2238900</td>\n",
              "      <td>2244000</td>\n",
              "      <td>66.956558</td>\n",
              "      <td>3.139114</td>\n",
              "      <td>66.956558</td>\n",
              "      <td>Unkown</td>\n",
              "      <td>8</td>\n",
              "      <td>14.00</td>\n",
              "      <td>1.416667</td>\n",
              "      <td>11.333333</td>\n",
              "    </tr>\n",
              "    <tr>\n",
              "      <th>87438</th>\n",
              "      <td>Xrz83UV+7HsyDhOSClTCpitt73f4NVIqxBJIoXgNVOSiCW...</td>\n",
              "      <td>+9OPyI+/Eeu5PSXVMdkPw3cB99+uk+YiAwMRGJU1cDm2ES...</td>\n",
              "      <td>TSRTTdb9LRjgp+FpJYUBXBczOvLJLO5ksIDZm6OFgtN4Sa...</td>\n",
              "      <td>1103700</td>\n",
              "      <td>1104000</td>\n",
              "      <td>98.795780</td>\n",
              "      <td>27.330195</td>\n",
              "      <td>98.795780</td>\n",
              "      <td>Delay-insensitive</td>\n",
              "      <td>1</td>\n",
              "      <td>1.75</td>\n",
              "      <td>0.083333</td>\n",
              "      <td>0.083333</td>\n",
              "    </tr>\n",
              "    <tr>\n",
              "      <th>87439</th>\n",
              "      <td>BFJu/lrNsLRY1anlsPB7Ii3cPuz9pavIuk72SKjTo50qyf...</td>\n",
              "      <td>+9OPyI+/Eeu5PSXVMdkPw3cB99+uk+YiAwMRGJU1cDm2ES...</td>\n",
              "      <td>TSRTTdb9LRjgp+FpJYUBXBczOvLJLO5ksIDZm6OFgtN4Sa...</td>\n",
              "      <td>2484600</td>\n",
              "      <td>2505600</td>\n",
              "      <td>6.472197</td>\n",
              "      <td>1.686090</td>\n",
              "      <td>5.768269</td>\n",
              "      <td>Delay-insensitive</td>\n",
              "      <td>8</td>\n",
              "      <td>14.00</td>\n",
              "      <td>5.833333</td>\n",
              "      <td>46.666667</td>\n",
              "    </tr>\n",
              "  </tbody>\n",
              "</table>\n",
              "</div>"
            ],
            "text/plain": [
              "                                                    vmid  ...   corehour\n",
              "87435  kIq+LToYe/oJmpZJCT6aYfxRh252I4Bd8FQQIyaLLAST5A...  ...  10.000000\n",
              "87436  T5Hgk7CUx9Z/ANIZ+3TIHran3IGgr4RcUoxGNMmWB5+96a...  ...  10.000000\n",
              "87437  Omelc/JAGTVT51lNOObucJUr93TlFPNhEhyMeMRWrggtoK...  ...  11.333333\n",
              "87438  Xrz83UV+7HsyDhOSClTCpitt73f4NVIqxBJIoXgNVOSiCW...  ...   0.083333\n",
              "87439  BFJu/lrNsLRY1anlsPB7Ii3cPuz9pavIuk72SKjTo50qyf...  ...  46.666667\n",
              "\n",
              "[5 rows x 13 columns]"
            ]
          },
          "metadata": {
            "tags": []
          },
          "execution_count": 172
        }
      ]
    },
    {
      "cell_type": "code",
      "metadata": {
        "colab": {
          "base_uri": "https://localhost:8080/"
        },
        "id": "TysCWxViQKuy",
        "outputId": "1c759e8f-8493-49ae-a189-4b7f46fea701"
      },
      "source": [
        "len(oneVM_data)"
      ],
      "execution_count": 173,
      "outputs": [
        {
          "output_type": "execute_result",
          "data": {
            "text/plain": [
              "128047"
            ]
          },
          "metadata": {
            "tags": []
          },
          "execution_count": 173
        }
      ]
    },
    {
      "cell_type": "code",
      "metadata": {
        "id": "mNgNhgsiQKr6"
      },
      "source": [
        "oneVM_data.reset_index(drop=True, inplace=True)"
      ],
      "execution_count": 174,
      "outputs": []
    },
    {
      "cell_type": "code",
      "metadata": {
        "id": "ZegFumgPQKoi"
      },
      "source": [
        "yearly_data = oneVM_data.loc[0:8039]"
      ],
      "execution_count": 175,
      "outputs": []
    },
    {
      "cell_type": "code",
      "metadata": {
        "colab": {
          "base_uri": "https://localhost:8080/",
          "height": 541
        },
        "id": "5TI9Mw2PQKlx",
        "outputId": "17f04a99-9a00-4582-f20c-e16d9ed8d33c"
      },
      "source": [
        "yearly_data"
      ],
      "execution_count": 176,
      "outputs": [
        {
          "output_type": "execute_result",
          "data": {
            "text/html": [
              "<div>\n",
              "<style scoped>\n",
              "    .dataframe tbody tr th:only-of-type {\n",
              "        vertical-align: middle;\n",
              "    }\n",
              "\n",
              "    .dataframe tbody tr th {\n",
              "        vertical-align: top;\n",
              "    }\n",
              "\n",
              "    .dataframe thead th {\n",
              "        text-align: right;\n",
              "    }\n",
              "</style>\n",
              "<table border=\"1\" class=\"dataframe\">\n",
              "  <thead>\n",
              "    <tr style=\"text-align: right;\">\n",
              "      <th></th>\n",
              "      <th>vmid</th>\n",
              "      <th>subscriptionid</th>\n",
              "      <th>deploymentid</th>\n",
              "      <th>vmcreated</th>\n",
              "      <th>vmdeleted</th>\n",
              "      <th>maxcpu</th>\n",
              "      <th>avgcpu</th>\n",
              "      <th>p95maxcpu</th>\n",
              "      <th>vmcategory</th>\n",
              "      <th>vmcorecount</th>\n",
              "      <th>vmmemory</th>\n",
              "      <th>lifetime</th>\n",
              "      <th>corehour</th>\n",
              "    </tr>\n",
              "  </thead>\n",
              "  <tbody>\n",
              "    <tr>\n",
              "      <th>0</th>\n",
              "      <td>kIq+LToYe/oJmpZJCT6aYfxRh252I4Bd8FQQIyaLLAST5A...</td>\n",
              "      <td>+9OPyI+/Eeu5PSXVMdkPw3cB99+uk+YiAwMRGJU1cDm2ES...</td>\n",
              "      <td>TSRTTdb9LRjgp+FpJYUBXBczOvLJLO5ksIDZm6OFgtN4Sa...</td>\n",
              "      <td>2305800</td>\n",
              "      <td>2310300</td>\n",
              "      <td>66.909246</td>\n",
              "      <td>2.900874</td>\n",
              "      <td>66.909246</td>\n",
              "      <td>Delay-insensitive</td>\n",
              "      <td>8</td>\n",
              "      <td>14.00</td>\n",
              "      <td>1.250000</td>\n",
              "      <td>10.000000</td>\n",
              "    </tr>\n",
              "    <tr>\n",
              "      <th>1</th>\n",
              "      <td>T5Hgk7CUx9Z/ANIZ+3TIHran3IGgr4RcUoxGNMmWB5+96a...</td>\n",
              "      <td>+9OPyI+/Eeu5PSXVMdkPw3cB99+uk+YiAwMRGJU1cDm2ES...</td>\n",
              "      <td>TSRTTdb9LRjgp+FpJYUBXBczOvLJLO5ksIDZm6OFgtN4Sa...</td>\n",
              "      <td>2305800</td>\n",
              "      <td>2310300</td>\n",
              "      <td>6.510768</td>\n",
              "      <td>2.087024</td>\n",
              "      <td>6.510768</td>\n",
              "      <td>Delay-insensitive</td>\n",
              "      <td>8</td>\n",
              "      <td>14.00</td>\n",
              "      <td>1.250000</td>\n",
              "      <td>10.000000</td>\n",
              "    </tr>\n",
              "    <tr>\n",
              "      <th>2</th>\n",
              "      <td>Omelc/JAGTVT51lNOObucJUr93TlFPNhEhyMeMRWrggtoK...</td>\n",
              "      <td>+9OPyI+/Eeu5PSXVMdkPw3cB99+uk+YiAwMRGJU1cDm2ES...</td>\n",
              "      <td>TSRTTdb9LRjgp+FpJYUBXBczOvLJLO5ksIDZm6OFgtN4Sa...</td>\n",
              "      <td>2238900</td>\n",
              "      <td>2244000</td>\n",
              "      <td>66.956558</td>\n",
              "      <td>3.139114</td>\n",
              "      <td>66.956558</td>\n",
              "      <td>Unkown</td>\n",
              "      <td>8</td>\n",
              "      <td>14.00</td>\n",
              "      <td>1.416667</td>\n",
              "      <td>11.333333</td>\n",
              "    </tr>\n",
              "    <tr>\n",
              "      <th>3</th>\n",
              "      <td>Xrz83UV+7HsyDhOSClTCpitt73f4NVIqxBJIoXgNVOSiCW...</td>\n",
              "      <td>+9OPyI+/Eeu5PSXVMdkPw3cB99+uk+YiAwMRGJU1cDm2ES...</td>\n",
              "      <td>TSRTTdb9LRjgp+FpJYUBXBczOvLJLO5ksIDZm6OFgtN4Sa...</td>\n",
              "      <td>1103700</td>\n",
              "      <td>1104000</td>\n",
              "      <td>98.795780</td>\n",
              "      <td>27.330195</td>\n",
              "      <td>98.795780</td>\n",
              "      <td>Delay-insensitive</td>\n",
              "      <td>1</td>\n",
              "      <td>1.75</td>\n",
              "      <td>0.083333</td>\n",
              "      <td>0.083333</td>\n",
              "    </tr>\n",
              "    <tr>\n",
              "      <th>4</th>\n",
              "      <td>BFJu/lrNsLRY1anlsPB7Ii3cPuz9pavIuk72SKjTo50qyf...</td>\n",
              "      <td>+9OPyI+/Eeu5PSXVMdkPw3cB99+uk+YiAwMRGJU1cDm2ES...</td>\n",
              "      <td>TSRTTdb9LRjgp+FpJYUBXBczOvLJLO5ksIDZm6OFgtN4Sa...</td>\n",
              "      <td>2484600</td>\n",
              "      <td>2505600</td>\n",
              "      <td>6.472197</td>\n",
              "      <td>1.686090</td>\n",
              "      <td>5.768269</td>\n",
              "      <td>Delay-insensitive</td>\n",
              "      <td>8</td>\n",
              "      <td>14.00</td>\n",
              "      <td>5.833333</td>\n",
              "      <td>46.666667</td>\n",
              "    </tr>\n",
              "    <tr>\n",
              "      <th>...</th>\n",
              "      <td>...</td>\n",
              "      <td>...</td>\n",
              "      <td>...</td>\n",
              "      <td>...</td>\n",
              "      <td>...</td>\n",
              "      <td>...</td>\n",
              "      <td>...</td>\n",
              "      <td>...</td>\n",
              "      <td>...</td>\n",
              "      <td>...</td>\n",
              "      <td>...</td>\n",
              "      <td>...</td>\n",
              "      <td>...</td>\n",
              "    </tr>\n",
              "    <tr>\n",
              "      <th>8035</th>\n",
              "      <td>OTZc2y53zvg3JhthNOmD7rri2jIx6ylz/DIJT1tNugg7cZ...</td>\n",
              "      <td>+9OPyI+/Eeu5PSXVMdkPw3cB99+uk+YiAwMRGJU1cDm2ES...</td>\n",
              "      <td>TSRTTdb9LRjgp+FpJYUBXBczOvLJLO5ksIDZm6OFgtN4Sa...</td>\n",
              "      <td>434400</td>\n",
              "      <td>435300</td>\n",
              "      <td>89.453653</td>\n",
              "      <td>24.363767</td>\n",
              "      <td>89.453653</td>\n",
              "      <td>Unkown</td>\n",
              "      <td>4</td>\n",
              "      <td>7.00</td>\n",
              "      <td>0.250000</td>\n",
              "      <td>1.000000</td>\n",
              "    </tr>\n",
              "    <tr>\n",
              "      <th>8036</th>\n",
              "      <td>tnl2xbaHNEfNpKM9Ylt4GdprJQebEUKI5EX85FG5qipIMU...</td>\n",
              "      <td>+9OPyI+/Eeu5PSXVMdkPw3cB99+uk+YiAwMRGJU1cDm2ES...</td>\n",
              "      <td>TSRTTdb9LRjgp+FpJYUBXBczOvLJLO5ksIDZm6OFgtN4Sa...</td>\n",
              "      <td>2120400</td>\n",
              "      <td>2129100</td>\n",
              "      <td>98.841736</td>\n",
              "      <td>5.960542</td>\n",
              "      <td>95.854683</td>\n",
              "      <td>Unkown</td>\n",
              "      <td>8</td>\n",
              "      <td>14.00</td>\n",
              "      <td>2.416667</td>\n",
              "      <td>19.333333</td>\n",
              "    </tr>\n",
              "    <tr>\n",
              "      <th>8037</th>\n",
              "      <td>taFDbwKxCHHITWK1aZR/apJfQpfgFIULfe2mlctkC2LSxk...</td>\n",
              "      <td>+9OPyI+/Eeu5PSXVMdkPw3cB99+uk+YiAwMRGJU1cDm2ES...</td>\n",
              "      <td>TSRTTdb9LRjgp+FpJYUBXBczOvLJLO5ksIDZm6OFgtN4Sa...</td>\n",
              "      <td>434400</td>\n",
              "      <td>435300</td>\n",
              "      <td>70.042481</td>\n",
              "      <td>19.129137</td>\n",
              "      <td>70.042481</td>\n",
              "      <td>Unkown</td>\n",
              "      <td>4</td>\n",
              "      <td>7.00</td>\n",
              "      <td>0.250000</td>\n",
              "      <td>1.000000</td>\n",
              "    </tr>\n",
              "    <tr>\n",
              "      <th>8038</th>\n",
              "      <td>PAwZT/m/JA73C1YnFV1f29HgcPsxHojX2AlAdmHJSDww34...</td>\n",
              "      <td>+9OPyI+/Eeu5PSXVMdkPw3cB99+uk+YiAwMRGJU1cDm2ES...</td>\n",
              "      <td>TSRTTdb9LRjgp+FpJYUBXBczOvLJLO5ksIDZm6OFgtN4Sa...</td>\n",
              "      <td>1221000</td>\n",
              "      <td>1236900</td>\n",
              "      <td>47.881668</td>\n",
              "      <td>1.742805</td>\n",
              "      <td>6.803815</td>\n",
              "      <td>Delay-insensitive</td>\n",
              "      <td>8</td>\n",
              "      <td>14.00</td>\n",
              "      <td>4.416667</td>\n",
              "      <td>35.333333</td>\n",
              "    </tr>\n",
              "    <tr>\n",
              "      <th>8039</th>\n",
              "      <td>w443QKQ+eVrAXBTFH+JdGMtiaL0cMu50p+wnWWGm0tMdHY...</td>\n",
              "      <td>+9OPyI+/Eeu5PSXVMdkPw3cB99+uk+YiAwMRGJU1cDm2ES...</td>\n",
              "      <td>TSRTTdb9LRjgp+FpJYUBXBczOvLJLO5ksIDZm6OFgtN4Sa...</td>\n",
              "      <td>1092000</td>\n",
              "      <td>1099500</td>\n",
              "      <td>80.857566</td>\n",
              "      <td>4.944003</td>\n",
              "      <td>76.335385</td>\n",
              "      <td>Delay-insensitive</td>\n",
              "      <td>8</td>\n",
              "      <td>14.00</td>\n",
              "      <td>2.083333</td>\n",
              "      <td>16.666667</td>\n",
              "    </tr>\n",
              "  </tbody>\n",
              "</table>\n",
              "<p>8040 rows × 13 columns</p>\n",
              "</div>"
            ],
            "text/plain": [
              "                                                   vmid  ...   corehour\n",
              "0     kIq+LToYe/oJmpZJCT6aYfxRh252I4Bd8FQQIyaLLAST5A...  ...  10.000000\n",
              "1     T5Hgk7CUx9Z/ANIZ+3TIHran3IGgr4RcUoxGNMmWB5+96a...  ...  10.000000\n",
              "2     Omelc/JAGTVT51lNOObucJUr93TlFPNhEhyMeMRWrggtoK...  ...  11.333333\n",
              "3     Xrz83UV+7HsyDhOSClTCpitt73f4NVIqxBJIoXgNVOSiCW...  ...   0.083333\n",
              "4     BFJu/lrNsLRY1anlsPB7Ii3cPuz9pavIuk72SKjTo50qyf...  ...  46.666667\n",
              "...                                                 ...  ...        ...\n",
              "8035  OTZc2y53zvg3JhthNOmD7rri2jIx6ylz/DIJT1tNugg7cZ...  ...   1.000000\n",
              "8036  tnl2xbaHNEfNpKM9Ylt4GdprJQebEUKI5EX85FG5qipIMU...  ...  19.333333\n",
              "8037  taFDbwKxCHHITWK1aZR/apJfQpfgFIULfe2mlctkC2LSxk...  ...   1.000000\n",
              "8038  PAwZT/m/JA73C1YnFV1f29HgcPsxHojX2AlAdmHJSDww34...  ...  35.333333\n",
              "8039  w443QKQ+eVrAXBTFH+JdGMtiaL0cMu50p+wnWWGm0tMdHY...  ...  16.666667\n",
              "\n",
              "[8040 rows x 13 columns]"
            ]
          },
          "metadata": {
            "tags": []
          },
          "execution_count": 176
        }
      ]
    },
    {
      "cell_type": "code",
      "metadata": {
        "id": "E8seHbX7QlNZ"
      },
      "source": [
        "from datetime import datetime\n",
        "from datetime import datetime\n",
        "Timestamp = pd.date_range('2020-01-01', periods=8040, freq='H')\n",
        "#bytes_df[\"Timestamp\"] = pd.date_range(datetime(2020, 11, 15, hour=23, minute=0), periods=3945, freq='5min')"
      ],
      "execution_count": 177,
      "outputs": []
    },
    {
      "cell_type": "code",
      "metadata": {
        "id": "sYaQ9v5gQlLR"
      },
      "source": [
        "time_stamp = pd.Series(Timestamp)"
      ],
      "execution_count": 178,
      "outputs": []
    },
    {
      "cell_type": "code",
      "metadata": {
        "id": "GPx72b2RQlI8"
      },
      "source": [
        "useful_data = yearly_data.copy()"
      ],
      "execution_count": 179,
      "outputs": []
    },
    {
      "cell_type": "code",
      "metadata": {
        "id": "rWrOBcEdQlGc"
      },
      "source": [
        "useful_data[\"Timestamp\"] = time_stamp"
      ],
      "execution_count": 180,
      "outputs": []
    },
    {
      "cell_type": "code",
      "metadata": {
        "colab": {
          "base_uri": "https://localhost:8080/",
          "height": 394
        },
        "id": "YjrpBMQKQlD1",
        "outputId": "df1f6f0c-ea04-4f37-cd41-2432fc8ca1c4"
      },
      "source": [
        "useful_data.head()"
      ],
      "execution_count": 181,
      "outputs": [
        {
          "output_type": "execute_result",
          "data": {
            "text/html": [
              "<div>\n",
              "<style scoped>\n",
              "    .dataframe tbody tr th:only-of-type {\n",
              "        vertical-align: middle;\n",
              "    }\n",
              "\n",
              "    .dataframe tbody tr th {\n",
              "        vertical-align: top;\n",
              "    }\n",
              "\n",
              "    .dataframe thead th {\n",
              "        text-align: right;\n",
              "    }\n",
              "</style>\n",
              "<table border=\"1\" class=\"dataframe\">\n",
              "  <thead>\n",
              "    <tr style=\"text-align: right;\">\n",
              "      <th></th>\n",
              "      <th>vmid</th>\n",
              "      <th>subscriptionid</th>\n",
              "      <th>deploymentid</th>\n",
              "      <th>vmcreated</th>\n",
              "      <th>vmdeleted</th>\n",
              "      <th>maxcpu</th>\n",
              "      <th>avgcpu</th>\n",
              "      <th>p95maxcpu</th>\n",
              "      <th>vmcategory</th>\n",
              "      <th>vmcorecount</th>\n",
              "      <th>vmmemory</th>\n",
              "      <th>lifetime</th>\n",
              "      <th>corehour</th>\n",
              "      <th>Timestamp</th>\n",
              "    </tr>\n",
              "  </thead>\n",
              "  <tbody>\n",
              "    <tr>\n",
              "      <th>0</th>\n",
              "      <td>kIq+LToYe/oJmpZJCT6aYfxRh252I4Bd8FQQIyaLLAST5A...</td>\n",
              "      <td>+9OPyI+/Eeu5PSXVMdkPw3cB99+uk+YiAwMRGJU1cDm2ES...</td>\n",
              "      <td>TSRTTdb9LRjgp+FpJYUBXBczOvLJLO5ksIDZm6OFgtN4Sa...</td>\n",
              "      <td>2305800</td>\n",
              "      <td>2310300</td>\n",
              "      <td>66.909246</td>\n",
              "      <td>2.900874</td>\n",
              "      <td>66.909246</td>\n",
              "      <td>Delay-insensitive</td>\n",
              "      <td>8</td>\n",
              "      <td>14.00</td>\n",
              "      <td>1.250000</td>\n",
              "      <td>10.000000</td>\n",
              "      <td>2020-01-01 00:00:00</td>\n",
              "    </tr>\n",
              "    <tr>\n",
              "      <th>1</th>\n",
              "      <td>T5Hgk7CUx9Z/ANIZ+3TIHran3IGgr4RcUoxGNMmWB5+96a...</td>\n",
              "      <td>+9OPyI+/Eeu5PSXVMdkPw3cB99+uk+YiAwMRGJU1cDm2ES...</td>\n",
              "      <td>TSRTTdb9LRjgp+FpJYUBXBczOvLJLO5ksIDZm6OFgtN4Sa...</td>\n",
              "      <td>2305800</td>\n",
              "      <td>2310300</td>\n",
              "      <td>6.510768</td>\n",
              "      <td>2.087024</td>\n",
              "      <td>6.510768</td>\n",
              "      <td>Delay-insensitive</td>\n",
              "      <td>8</td>\n",
              "      <td>14.00</td>\n",
              "      <td>1.250000</td>\n",
              "      <td>10.000000</td>\n",
              "      <td>2020-01-01 01:00:00</td>\n",
              "    </tr>\n",
              "    <tr>\n",
              "      <th>2</th>\n",
              "      <td>Omelc/JAGTVT51lNOObucJUr93TlFPNhEhyMeMRWrggtoK...</td>\n",
              "      <td>+9OPyI+/Eeu5PSXVMdkPw3cB99+uk+YiAwMRGJU1cDm2ES...</td>\n",
              "      <td>TSRTTdb9LRjgp+FpJYUBXBczOvLJLO5ksIDZm6OFgtN4Sa...</td>\n",
              "      <td>2238900</td>\n",
              "      <td>2244000</td>\n",
              "      <td>66.956558</td>\n",
              "      <td>3.139114</td>\n",
              "      <td>66.956558</td>\n",
              "      <td>Unkown</td>\n",
              "      <td>8</td>\n",
              "      <td>14.00</td>\n",
              "      <td>1.416667</td>\n",
              "      <td>11.333333</td>\n",
              "      <td>2020-01-01 02:00:00</td>\n",
              "    </tr>\n",
              "    <tr>\n",
              "      <th>3</th>\n",
              "      <td>Xrz83UV+7HsyDhOSClTCpitt73f4NVIqxBJIoXgNVOSiCW...</td>\n",
              "      <td>+9OPyI+/Eeu5PSXVMdkPw3cB99+uk+YiAwMRGJU1cDm2ES...</td>\n",
              "      <td>TSRTTdb9LRjgp+FpJYUBXBczOvLJLO5ksIDZm6OFgtN4Sa...</td>\n",
              "      <td>1103700</td>\n",
              "      <td>1104000</td>\n",
              "      <td>98.795780</td>\n",
              "      <td>27.330195</td>\n",
              "      <td>98.795780</td>\n",
              "      <td>Delay-insensitive</td>\n",
              "      <td>1</td>\n",
              "      <td>1.75</td>\n",
              "      <td>0.083333</td>\n",
              "      <td>0.083333</td>\n",
              "      <td>2020-01-01 03:00:00</td>\n",
              "    </tr>\n",
              "    <tr>\n",
              "      <th>4</th>\n",
              "      <td>BFJu/lrNsLRY1anlsPB7Ii3cPuz9pavIuk72SKjTo50qyf...</td>\n",
              "      <td>+9OPyI+/Eeu5PSXVMdkPw3cB99+uk+YiAwMRGJU1cDm2ES...</td>\n",
              "      <td>TSRTTdb9LRjgp+FpJYUBXBczOvLJLO5ksIDZm6OFgtN4Sa...</td>\n",
              "      <td>2484600</td>\n",
              "      <td>2505600</td>\n",
              "      <td>6.472197</td>\n",
              "      <td>1.686090</td>\n",
              "      <td>5.768269</td>\n",
              "      <td>Delay-insensitive</td>\n",
              "      <td>8</td>\n",
              "      <td>14.00</td>\n",
              "      <td>5.833333</td>\n",
              "      <td>46.666667</td>\n",
              "      <td>2020-01-01 04:00:00</td>\n",
              "    </tr>\n",
              "  </tbody>\n",
              "</table>\n",
              "</div>"
            ],
            "text/plain": [
              "                                                vmid  ...           Timestamp\n",
              "0  kIq+LToYe/oJmpZJCT6aYfxRh252I4Bd8FQQIyaLLAST5A...  ... 2020-01-01 00:00:00\n",
              "1  T5Hgk7CUx9Z/ANIZ+3TIHran3IGgr4RcUoxGNMmWB5+96a...  ... 2020-01-01 01:00:00\n",
              "2  Omelc/JAGTVT51lNOObucJUr93TlFPNhEhyMeMRWrggtoK...  ... 2020-01-01 02:00:00\n",
              "3  Xrz83UV+7HsyDhOSClTCpitt73f4NVIqxBJIoXgNVOSiCW...  ... 2020-01-01 03:00:00\n",
              "4  BFJu/lrNsLRY1anlsPB7Ii3cPuz9pavIuk72SKjTo50qyf...  ... 2020-01-01 04:00:00\n",
              "\n",
              "[5 rows x 14 columns]"
            ]
          },
          "metadata": {
            "tags": []
          },
          "execution_count": 181
        }
      ]
    },
    {
      "cell_type": "code",
      "metadata": {
        "id": "liwxdSGRQlBE"
      },
      "source": [
        "data = useful_data[[\"maxcpu\", \"vmcorecount\", \"lifetime\", \"corehour\", \"Timestamp\"]]"
      ],
      "execution_count": 182,
      "outputs": []
    },
    {
      "cell_type": "code",
      "metadata": {
        "colab": {
          "base_uri": "https://localhost:8080/",
          "height": 335
        },
        "id": "AjTPG2TyQk-q",
        "outputId": "bbbc9139-e708-4212-a24e-749891a77844"
      },
      "source": [
        "# Color pallete for plotting\n",
        "color_pal = [\"#F8766D\", \"#D39200\", \"#93AA00\",\n",
        "             \"#00BA38\", \"#00C19F\", \"#00B9E3\",\n",
        "             \"#619CFF\", \"#DB72FB\"]\n",
        "data['maxcpu'].plot(style='.', figsize=(15,5), color=color_pal[0], title='MaxCPU')\n",
        "plt.show()"
      ],
      "execution_count": 183,
      "outputs": [
        {
          "output_type": "display_data",
          "data": {
            "image/png": "[encoded data removed]",
            "text/plain": [
              "<Figure size 1080x360 with 1 Axes>"
            ]
          },
          "metadata": {
            "tags": [],
            "needs_background": "light"
          }
        }
      ]
    },
    {
      "cell_type": "code",
      "metadata": {
        "colab": {
          "base_uri": "https://localhost:8080/",
          "height": 277
        },
        "id": "Xk99yZO9Q_Si",
        "outputId": "c98ff704-f9f9-4875-c35d-b086c86c1038"
      },
      "source": [
        "plt.rc('font', family='serif')\n",
        "plt.figure()\n",
        "plt.grid()\n",
        "plt.plot(data['maxcpu'], \"-b\", label=\"real\")\n",
        "# plt.plot(y_pred, \"-r\", label=\"pred\")\n",
        "plt.legend()\n",
        "plt.xlabel(\"Time\")\n",
        "plt.ylabel(\"maxcpu\")\n",
        "#plt.savefig('original.png', format='png', dpi=720)\n",
        "plt.show()"
      ],
      "execution_count": 184,
      "outputs": [
        {
          "output_type": "display_data",
          "data": {
            "image/png": "[encoded data removed]",
            "text/plain": [
              "<Figure size 432x288 with 1 Axes>"
            ]
          },
          "metadata": {
            "tags": [],
            "needs_background": "light"
          }
        }
      ]
    },
    {
      "cell_type": "code",
      "metadata": {
        "colab": {
          "base_uri": "https://localhost:8080/",
          "height": 204
        },
        "id": "i0PhOXd5Q_Qq",
        "outputId": "d3946582-28d0-4bb4-fce6-5ec4f7bc7c6c"
      },
      "source": [
        "data.head()"
      ],
      "execution_count": 185,
      "outputs": [
        {
          "output_type": "execute_result",
          "data": {
            "text/html": [
              "<div>\n",
              "<style scoped>\n",
              "    .dataframe tbody tr th:only-of-type {\n",
              "        vertical-align: middle;\n",
              "    }\n",
              "\n",
              "    .dataframe tbody tr th {\n",
              "        vertical-align: top;\n",
              "    }\n",
              "\n",
              "    .dataframe thead th {\n",
              "        text-align: right;\n",
              "    }\n",
              "</style>\n",
              "<table border=\"1\" class=\"dataframe\">\n",
              "  <thead>\n",
              "    <tr style=\"text-align: right;\">\n",
              "      <th></th>\n",
              "      <th>maxcpu</th>\n",
              "      <th>vmcorecount</th>\n",
              "      <th>lifetime</th>\n",
              "      <th>corehour</th>\n",
              "      <th>Timestamp</th>\n",
              "    </tr>\n",
              "  </thead>\n",
              "  <tbody>\n",
              "    <tr>\n",
              "      <th>0</th>\n",
              "      <td>66.909246</td>\n",
              "      <td>8</td>\n",
              "      <td>1.250000</td>\n",
              "      <td>10.000000</td>\n",
              "      <td>2020-01-01 00:00:00</td>\n",
              "    </tr>\n",
              "    <tr>\n",
              "      <th>1</th>\n",
              "      <td>6.510768</td>\n",
              "      <td>8</td>\n",
              "      <td>1.250000</td>\n",
              "      <td>10.000000</td>\n",
              "      <td>2020-01-01 01:00:00</td>\n",
              "    </tr>\n",
              "    <tr>\n",
              "      <th>2</th>\n",
              "      <td>66.956558</td>\n",
              "      <td>8</td>\n",
              "      <td>1.416667</td>\n",
              "      <td>11.333333</td>\n",
              "      <td>2020-01-01 02:00:00</td>\n",
              "    </tr>\n",
              "    <tr>\n",
              "      <th>3</th>\n",
              "      <td>98.795780</td>\n",
              "      <td>1</td>\n",
              "      <td>0.083333</td>\n",
              "      <td>0.083333</td>\n",
              "      <td>2020-01-01 03:00:00</td>\n",
              "    </tr>\n",
              "    <tr>\n",
              "      <th>4</th>\n",
              "      <td>6.472197</td>\n",
              "      <td>8</td>\n",
              "      <td>5.833333</td>\n",
              "      <td>46.666667</td>\n",
              "      <td>2020-01-01 04:00:00</td>\n",
              "    </tr>\n",
              "  </tbody>\n",
              "</table>\n",
              "</div>"
            ],
            "text/plain": [
              "      maxcpu  vmcorecount  lifetime   corehour           Timestamp\n",
              "0  66.909246            8  1.250000  10.000000 2020-01-01 00:00:00\n",
              "1   6.510768            8  1.250000  10.000000 2020-01-01 01:00:00\n",
              "2  66.956558            8  1.416667  11.333333 2020-01-01 02:00:00\n",
              "3  98.795780            1  0.083333   0.083333 2020-01-01 03:00:00\n",
              "4   6.472197            8  5.833333  46.666667 2020-01-01 04:00:00"
            ]
          },
          "metadata": {
            "tags": []
          },
          "execution_count": 185
        }
      ]
    },
    {
      "cell_type": "code",
      "metadata": {
        "id": "rS4GNdzpQ_N7"
      },
      "source": [
        "data = data.set_index(\"Timestamp\")"
      ],
      "execution_count": 186,
      "outputs": []
    },
    {
      "cell_type": "code",
      "metadata": {
        "colab": {
          "base_uri": "https://localhost:8080/",
          "height": 235
        },
        "id": "Au7DH0ZQfaN3",
        "outputId": "400aa30b-3dba-4d2c-a8f2-7c83874c4780"
      },
      "source": [
        "data.head()"
      ],
      "execution_count": 187,
      "outputs": [
        {
          "output_type": "execute_result",
          "data": {
            "text/html": [
              "<div>\n",
              "<style scoped>\n",
              "    .dataframe tbody tr th:only-of-type {\n",
              "        vertical-align: middle;\n",
              "    }\n",
              "\n",
              "    .dataframe tbody tr th {\n",
              "        vertical-align: top;\n",
              "    }\n",
              "\n",
              "    .dataframe thead th {\n",
              "        text-align: right;\n",
              "    }\n",
              "</style>\n",
              "<table border=\"1\" class=\"dataframe\">\n",
              "  <thead>\n",
              "    <tr style=\"text-align: right;\">\n",
              "      <th></th>\n",
              "      <th>maxcpu</th>\n",
              "      <th>vmcorecount</th>\n",
              "      <th>lifetime</th>\n",
              "      <th>corehour</th>\n",
              "    </tr>\n",
              "    <tr>\n",
              "      <th>Timestamp</th>\n",
              "      <th></th>\n",
              "      <th></th>\n",
              "      <th></th>\n",
              "      <th></th>\n",
              "    </tr>\n",
              "  </thead>\n",
              "  <tbody>\n",
              "    <tr>\n",
              "      <th>2020-01-01 00:00:00</th>\n",
              "      <td>66.909246</td>\n",
              "      <td>8</td>\n",
              "      <td>1.250000</td>\n",
              "      <td>10.000000</td>\n",
              "    </tr>\n",
              "    <tr>\n",
              "      <th>2020-01-01 01:00:00</th>\n",
              "      <td>6.510768</td>\n",
              "      <td>8</td>\n",
              "      <td>1.250000</td>\n",
              "      <td>10.000000</td>\n",
              "    </tr>\n",
              "    <tr>\n",
              "      <th>2020-01-01 02:00:00</th>\n",
              "      <td>66.956558</td>\n",
              "      <td>8</td>\n",
              "      <td>1.416667</td>\n",
              "      <td>11.333333</td>\n",
              "    </tr>\n",
              "    <tr>\n",
              "      <th>2020-01-01 03:00:00</th>\n",
              "      <td>98.795780</td>\n",
              "      <td>1</td>\n",
              "      <td>0.083333</td>\n",
              "      <td>0.083333</td>\n",
              "    </tr>\n",
              "    <tr>\n",
              "      <th>2020-01-01 04:00:00</th>\n",
              "      <td>6.472197</td>\n",
              "      <td>8</td>\n",
              "      <td>5.833333</td>\n",
              "      <td>46.666667</td>\n",
              "    </tr>\n",
              "  </tbody>\n",
              "</table>\n",
              "</div>"
            ],
            "text/plain": [
              "                        maxcpu  vmcorecount  lifetime   corehour\n",
              "Timestamp                                                       \n",
              "2020-01-01 00:00:00  66.909246            8  1.250000  10.000000\n",
              "2020-01-01 01:00:00   6.510768            8  1.250000  10.000000\n",
              "2020-01-01 02:00:00  66.956558            8  1.416667  11.333333\n",
              "2020-01-01 03:00:00  98.795780            1  0.083333   0.083333\n",
              "2020-01-01 04:00:00   6.472197            8  5.833333  46.666667"
            ]
          },
          "metadata": {
            "tags": []
          },
          "execution_count": 187
        }
      ]
    },
    {
      "cell_type": "code",
      "metadata": {
        "id": "J3nGkXqJQ_LS"
      },
      "source": [
        "data = data.reset_index()"
      ],
      "execution_count": 188,
      "outputs": []
    },
    {
      "cell_type": "code",
      "metadata": {
        "colab": {
          "base_uri": "https://localhost:8080/",
          "height": 204
        },
        "id": "jFVQTZTdQ_Iq",
        "outputId": "950b9fdb-dcfe-40e4-8e53-ffa3d6908183"
      },
      "source": [
        "data.head()"
      ],
      "execution_count": 189,
      "outputs": [
        {
          "output_type": "execute_result",
          "data": {
            "text/html": [
              "<div>\n",
              "<style scoped>\n",
              "    .dataframe tbody tr th:only-of-type {\n",
              "        vertical-align: middle;\n",
              "    }\n",
              "\n",
              "    .dataframe tbody tr th {\n",
              "        vertical-align: top;\n",
              "    }\n",
              "\n",
              "    .dataframe thead th {\n",
              "        text-align: right;\n",
              "    }\n",
              "</style>\n",
              "<table border=\"1\" class=\"dataframe\">\n",
              "  <thead>\n",
              "    <tr style=\"text-align: right;\">\n",
              "      <th></th>\n",
              "      <th>Timestamp</th>\n",
              "      <th>maxcpu</th>\n",
              "      <th>vmcorecount</th>\n",
              "      <th>lifetime</th>\n",
              "      <th>corehour</th>\n",
              "    </tr>\n",
              "  </thead>\n",
              "  <tbody>\n",
              "    <tr>\n",
              "      <th>0</th>\n",
              "      <td>2020-01-01 00:00:00</td>\n",
              "      <td>66.909246</td>\n",
              "      <td>8</td>\n",
              "      <td>1.250000</td>\n",
              "      <td>10.000000</td>\n",
              "    </tr>\n",
              "    <tr>\n",
              "      <th>1</th>\n",
              "      <td>2020-01-01 01:00:00</td>\n",
              "      <td>6.510768</td>\n",
              "      <td>8</td>\n",
              "      <td>1.250000</td>\n",
              "      <td>10.000000</td>\n",
              "    </tr>\n",
              "    <tr>\n",
              "      <th>2</th>\n",
              "      <td>2020-01-01 02:00:00</td>\n",
              "      <td>66.956558</td>\n",
              "      <td>8</td>\n",
              "      <td>1.416667</td>\n",
              "      <td>11.333333</td>\n",
              "    </tr>\n",
              "    <tr>\n",
              "      <th>3</th>\n",
              "      <td>2020-01-01 03:00:00</td>\n",
              "      <td>98.795780</td>\n",
              "      <td>1</td>\n",
              "      <td>0.083333</td>\n",
              "      <td>0.083333</td>\n",
              "    </tr>\n",
              "    <tr>\n",
              "      <th>4</th>\n",
              "      <td>2020-01-01 04:00:00</td>\n",
              "      <td>6.472197</td>\n",
              "      <td>8</td>\n",
              "      <td>5.833333</td>\n",
              "      <td>46.666667</td>\n",
              "    </tr>\n",
              "  </tbody>\n",
              "</table>\n",
              "</div>"
            ],
            "text/plain": [
              "            Timestamp     maxcpu  vmcorecount  lifetime   corehour\n",
              "0 2020-01-01 00:00:00  66.909246            8  1.250000  10.000000\n",
              "1 2020-01-01 01:00:00   6.510768            8  1.250000  10.000000\n",
              "2 2020-01-01 02:00:00  66.956558            8  1.416667  11.333333\n",
              "3 2020-01-01 03:00:00  98.795780            1  0.083333   0.083333\n",
              "4 2020-01-01 04:00:00   6.472197            8  5.833333  46.666667"
            ]
          },
          "metadata": {
            "tags": []
          },
          "execution_count": 189
        }
      ]
    },
    {
      "cell_type": "code",
      "metadata": {
        "id": "3fnv5QzyhMCp"
      },
      "source": [
        "# the other implementation using tensorflow datasets"
      ],
      "execution_count": 190,
      "outputs": []
    },
    {
      "cell_type": "code",
      "metadata": {
        "id": "P0teuLw0dbC3"
      },
      "source": [
        "data.to_csv(\"/tmp/cleaned_data.csv\")"
      ],
      "execution_count": 191,
      "outputs": []
    },
    {
      "cell_type": "code",
      "metadata": {
        "id": "iTCgCwb9eZfw"
      },
      "source": [
        "import numpy as np\n",
        "import matplotlib.pyplot as plt\n",
        "def plot_series(time, series, format=\"-\", start=0, end=None):\n",
        "    plt.plot(time[start:end], series[start:end], format)\n",
        "    plt.xlabel(\"Time\")\n",
        "    plt.ylabel(\"Value\")\n",
        "    plt.grid(True)"
      ],
      "execution_count": 192,
      "outputs": []
    },
    {
      "cell_type": "code",
      "metadata": {
        "colab": {
          "base_uri": "https://localhost:8080/",
          "height": 386
        },
        "id": "unfcSIN8eGfg",
        "outputId": "bb0eafb1-a98f-47d2-a72b-0ffdaba368de"
      },
      "source": [
        "import csv\n",
        "time_step = []\n",
        "maxcpu = []\n",
        "\n",
        "with open('/tmp/cleaned_data.csv') as csvfile:\n",
        "  reader = csv.reader(csvfile, delimiter=',')\n",
        "  next(reader)\n",
        "  for row in reader:\n",
        "    maxcpu.append(float(row[2]))\n",
        "    time_step.append(int(row[0]))\n",
        "\n",
        "series = np.array(maxcpu)\n",
        "time = np.array(time_step)\n",
        "plt.figure(figsize=(10, 6))\n",
        "plot_series(time, series)"
      ],
      "execution_count": 193,
      "outputs": [
        {
          "output_type": "display_data",
          "data": {
            "image/png": "[encoded data removed]",
            "text/plain": [
              "<Figure size 720x432 with 1 Axes>"
            ]
          },
          "metadata": {
            "tags": [],
            "needs_background": "light"
          }
        }
      ]
    },
    {
      "cell_type": "code",
      "metadata": {
        "colab": {
          "base_uri": "https://localhost:8080/",
          "height": 386
        },
        "id": "VadE2X4Ci7bp",
        "outputId": "bf3fcdf4-245b-4c85-be8f-51033d424f6f"
      },
      "source": [
        "series = np.array(maxcpu)\n",
        "time = np.array(time_step)\n",
        "plt.figure(figsize=(10, 6))\n",
        "plot_series(time, series, start=0, end=200)"
      ],
      "execution_count": 194,
      "outputs": [
        {
          "output_type": "display_data",
          "data": {
            "image/png": "[encoded data removed]",
            "text/plain": [
              "<Figure size 720x432 with 1 Axes>"
            ]
          },
          "metadata": {
            "tags": [],
            "needs_background": "light"
          }
        }
      ]
    },
    {
      "cell_type": "code",
      "metadata": {
        "id": "wDHafyKpeGdW"
      },
      "source": [
        "# split_time = 7000\n",
        "# time_train = time[:split_time]\n",
        "# x_train = series[:split_time]\n",
        "# time_valid = time[split_time:]\n",
        "# x_valid = series[split_time:]\n",
        "\n",
        "# #window_size = 48\n",
        "# #batch_size = 32\n",
        "# shuffle_buffer_size = 1000\n"
      ],
      "execution_count": 195,
      "outputs": []
    },
    {
      "cell_type": "code",
      "metadata": {
        "id": "3Gn2PdltgFhf"
      },
      "source": [
        "df_new = data[[\"vmcorecount\", \"lifetime\", \"corehour\", \"maxcpu\"]]"
      ],
      "execution_count": 196,
      "outputs": []
    },
    {
      "cell_type": "code",
      "metadata": {
        "id": "CNPKs1wCgaov"
      },
      "source": [
        "series_new = df_new.values"
      ],
      "execution_count": 197,
      "outputs": []
    },
    {
      "cell_type": "code",
      "metadata": {
        "colab": {
          "base_uri": "https://localhost:8080/"
        },
        "id": "kGIw9dkogwBY",
        "outputId": "55afe9b2-48c6-48fe-ceae-e6798435a4d8"
      },
      "source": [
        "series_new.shape"
      ],
      "execution_count": 198,
      "outputs": [
        {
          "output_type": "execute_result",
          "data": {
            "text/plain": [
              "(8040, 4)"
            ]
          },
          "metadata": {
            "tags": []
          },
          "execution_count": 198
        }
      ]
    },
    {
      "cell_type": "code",
      "metadata": {
        "id": "FLU2mVPqf8bY"
      },
      "source": [
        "split_time = 7000\n",
        "time_train = time[:split_time]\n",
        "x_train = series_new[:split_time]\n",
        "time_valid = time[split_time:]\n",
        "x_valid = series_new[split_time:]\n",
        "\n",
        "#window_size = 48\n",
        "#batch_size = 32\n",
        "shuffle_buffer_size = 1000\n"
      ],
      "execution_count": 202,
      "outputs": []
    },
    {
      "cell_type": "code",
      "metadata": {
        "colab": {
          "base_uri": "https://localhost:8080/"
        },
        "id": "4iZSREDXAEoP",
        "outputId": "13d365c2-ef53-4f12-b781-8d40a888c4a4"
      },
      "source": [
        "print(f'X_train.shape = {x_train.shape}')\n",
        "print(f'X_valid.shape = {x_valid.shape}')"
      ],
      "execution_count": 203,
      "outputs": [
        {
          "output_type": "stream",
          "text": [
            "X_train.shape = (7000, 4)\n",
            "X_valid.shape = (1040, 4)\n"
          ],
          "name": "stdout"
        }
      ]
    },
    {
      "cell_type": "code",
      "metadata": {
        "id": "-_EZg23lAdVi"
      },
      "source": [
        "# x_testing = x_valid[:10]\n",
        "# print(f'x_testing.shape = {x_testing.shape}')\n",
        "# tf.expand_dims(x_testing, axis=-1)\n",
        "# def windowed(series, window_size, batch_size, shuffle_buffer):\n",
        "#     # series = tf.expand_dims(series, axis=-1)\n",
        "#     ds = tf.data.Dataset.from_tensor_slices(series)\n",
        "#     ds = ds.window(window_size+1, shift=1, drop_remainder=True)\n",
        "#     for val in ds:\n",
        "#       for item in val:\n",
        "#         print(item.numpy(), end=\" \")\n",
        "#       print()\n",
        "#     print(\"...................................................................\")\n",
        "#     ds = ds.flat_map(lambda w: w.batch(window_size + 1))\n",
        "#     for window in ds:\n",
        "#       print(window.numpy())\n",
        "#     print(\"*******************************************************************************************\")\n",
        "#     # ds = ds.shuffle(shuffle_buffer)\n",
        "#     ds = ds.map(lambda w: (w[:-1], w[1:]))\n",
        "#     for x, y in ds:\n",
        "#       print('x = ', x.numpy())\n",
        "#       print('y = ', y.numpy())\n",
        "#     return ds.batch(batch_size).prefetch(1)\n",
        "# windowed(x_testing, window_size=2, batch_size=1, shuffle_buffer=10)"
      ],
      "execution_count": 204,
      "outputs": []
    },
    {
      "cell_type": "code",
      "metadata": {
        "id": "4B5_R0ZcD8vq"
      },
      "source": [
        "def windowed_dataset(series, window_size, batch_size, shuffle_buffer):\n",
        "    # series = tf.expand_dims(series, axis=-1)\n",
        "    ds = tf.data.Dataset.from_tensor_slices(series)\n",
        "    ds = ds.window(window_size + 1, shift=1, drop_remainder=True)\n",
        "    ds = ds.flat_map(lambda w: w.batch(window_size + 1))\n",
        "    ds = ds.shuffle(shuffle_buffer)\n",
        "    ds = ds.map(lambda w: (w[:-1], w[1:]))\n",
        "    # for x, y in ds:\n",
        "    #   print('x = ', x.numpy())\n",
        "    #   print('y = ', y.numpy())\n",
        "    return ds.batch(batch_size).prefetch(1)"
      ],
      "execution_count": 205,
      "outputs": []
    },
    {
      "cell_type": "code",
      "metadata": {
        "id": "xzJNGPrreGWB"
      },
      "source": [
        "# def model_forecast(model, series, window_size):\n",
        "#     ds = tf.data.Dataset.from_tensor_slices(series)\n",
        "#     ds = ds.window(window_size, shift=1, drop_remainder=True)\n",
        "#     ds = ds.flat_map(lambda w: w.batch(window_size))\n",
        "#     ds = ds.batch(32).prefetch(1)\n",
        "#     forecast = model.predict(ds)\n",
        "#     return forecast"
      ],
      "execution_count": 108,
      "outputs": []
    },
    {
      "cell_type": "code",
      "metadata": {
        "colab": {
          "base_uri": "https://localhost:8080/"
        },
        "id": "Lh5C3AkHeGTf",
        "outputId": "ddd36a45-0807-44e5-8023-b727d228e46a"
      },
      "source": [
        "import tensorflow as tf\n",
        "tf.keras.backend.clear_session()\n",
        "tf.random.set_seed(51)\n",
        "np.random.seed(51)\n",
        "window_size = 72\n",
        "batch_size = 128\n",
        "train_set = windowed_dataset(x_train, window_size, batch_size, shuffle_buffer_size)\n",
        "# print(train_set)\n",
        "print(x_train.shape)\n",
        "# print(train_set.shape)\n",
        "\n",
        "model = tf.keras.models.Sequential([\n",
        "  tf.keras.layers.Conv1D(filters=32, kernel_size=5,\n",
        "                      strides=1, padding=\"causal\",\n",
        "                      activation=\"relu\",\n",
        "                      input_shape=[None, 4]),\n",
        "  tf.keras.layers.LSTM(64, return_sequences=True),\n",
        "  tf.keras.layers.LSTM(64, return_sequences=True),\n",
        "  #tf.keras.layers.Dense(30, activation=\"relu\"),\n",
        "  tf.keras.layers.TimeDistributed(tf.keras.layers.Dense(30, activation='relu')),\n",
        "  tf.keras.layers.TimeDistributed(tf.keras.layers.Dense(10, activation='relu')),\n",
        "  #tf.keras.layers.Dense(10, activation=\"relu\"),\n",
        "  tf.keras.layers.Dense(4)\n",
        "  # tf.keras.layers.Lambda(lambda x: x * 400)\n",
        "])\n",
        "\n",
        "lr_schedule = tf.keras.callbacks.LearningRateScheduler(\n",
        "    lambda epoch: 1e-8 * 10**(epoch / 20))\n",
        "optimizer = tf.keras.optimizers.SGD(lr=1e-8, momentum=0.9)\n",
        "model.compile(loss=tf.keras.losses.Huber(),\n",
        "              optimizer=optimizer,\n",
        "              metrics=[\"mae\"])\n",
        "history = model.fit(train_set, epochs=100, callbacks=[lr_schedule])\n"
      ],
      "execution_count": 207,
      "outputs": [
        {
          "output_type": "stream",
          "text": [
            "(7000, 4)\n"
          ],
          "name": "stdout"
        },
        {
          "output_type": "stream",
          "text": [
            "/usr/local/lib/python3.7/dist-packages/tensorflow/python/keras/optimizer_v2/optimizer_v2.py:375: UserWarning: The `lr` argument is deprecated, use `learning_rate` instead.\n",
            "  \"The `lr` argument is deprecated, use `learning_rate` instead.\")\n"
          ],
          "name": "stderr"
        },
        {
          "output_type": "stream",
          "text": [
            "Epoch 1/100\n",
            "55/55 [==============================] - 4s 21ms/step - loss: 21.5770 - mae: 22.0282\n",
            "Epoch 2/100\n",
            "55/55 [==============================] - 1s 22ms/step - loss: 21.5770 - mae: 22.0282\n",
            "Epoch 3/100\n",
            "55/55 [==============================] - 1s 22ms/step - loss: 21.5770 - mae: 22.0282\n",
            "Epoch 4/100\n",
            "55/55 [==============================] - 1s 21ms/step - loss: 21.5770 - mae: 22.0281\n",
            "Epoch 5/100\n",
            "55/55 [==============================] - 1s 22ms/step - loss: 21.5769 - mae: 22.0281\n",
            "Epoch 6/100\n",
            "55/55 [==============================] - 1s 22ms/step - loss: 21.5769 - mae: 22.0281\n",
            "Epoch 7/100\n",
            "55/55 [==============================] - 1s 22ms/step - loss: 21.5769 - mae: 22.0280\n",
            "Epoch 8/100\n",
            "55/55 [==============================] - 1s 22ms/step - loss: 21.5768 - mae: 22.0280\n",
            "Epoch 9/100\n",
            "55/55 [==============================] - 1s 22ms/step - loss: 21.5767 - mae: 22.0279\n",
            "Epoch 10/100\n",
            "55/55 [==============================] - 1s 22ms/step - loss: 21.5767 - mae: 22.0279\n",
            "Epoch 11/100\n",
            "55/55 [==============================] - 1s 22ms/step - loss: 21.5766 - mae: 22.0278\n",
            "Epoch 12/100\n",
            "55/55 [==============================] - 1s 22ms/step - loss: 21.5765 - mae: 22.0277\n",
            "Epoch 13/100\n",
            "55/55 [==============================] - 1s 23ms/step - loss: 21.5765 - mae: 22.0276\n",
            "Epoch 14/100\n",
            "55/55 [==============================] - 1s 22ms/step - loss: 21.5764 - mae: 22.0275\n",
            "Epoch 15/100\n",
            "55/55 [==============================] - 1s 22ms/step - loss: 21.5762 - mae: 22.0274\n",
            "Epoch 16/100\n",
            "55/55 [==============================] - 1s 22ms/step - loss: 21.5761 - mae: 22.0272\n",
            "Epoch 17/100\n",
            "55/55 [==============================] - 1s 23ms/step - loss: 21.5760 - mae: 22.0271\n",
            "Epoch 18/100\n",
            "55/55 [==============================] - 1s 22ms/step - loss: 21.5758 - mae: 22.0269\n",
            "Epoch 19/100\n",
            "55/55 [==============================] - 1s 23ms/step - loss: 21.5757 - mae: 22.0268\n",
            "Epoch 20/100\n",
            "55/55 [==============================] - 1s 22ms/step - loss: 21.5755 - mae: 22.0266\n",
            "Epoch 21/100\n",
            "55/55 [==============================] - 1s 22ms/step - loss: 21.5753 - mae: 22.0263\n",
            "Epoch 22/100\n",
            "55/55 [==============================] - 1s 22ms/step - loss: 21.5750 - mae: 22.0261\n",
            "Epoch 23/100\n",
            "55/55 [==============================] - 1s 22ms/step - loss: 21.5748 - mae: 22.0258\n",
            "Epoch 24/100\n",
            "55/55 [==============================] - 1s 22ms/step - loss: 21.5745 - mae: 22.0254\n",
            "Epoch 25/100\n",
            "55/55 [==============================] - 1s 22ms/step - loss: 21.5741 - mae: 22.0251\n",
            "Epoch 26/100\n",
            "55/55 [==============================] - 1s 22ms/step - loss: 21.5737 - mae: 22.0247\n",
            "Epoch 27/100\n",
            "55/55 [==============================] - 1s 21ms/step - loss: 21.5733 - mae: 22.0243\n",
            "Epoch 28/100\n",
            "55/55 [==============================] - 1s 22ms/step - loss: 21.5729 - mae: 22.0238\n",
            "Epoch 29/100\n",
            "55/55 [==============================] - 1s 23ms/step - loss: 21.5724 - mae: 22.0232\n",
            "Epoch 30/100\n",
            "55/55 [==============================] - 1s 22ms/step - loss: 21.5718 - mae: 22.0226\n",
            "Epoch 31/100\n",
            "55/55 [==============================] - 1s 21ms/step - loss: 21.5712 - mae: 22.0219\n",
            "Epoch 32/100\n",
            "55/55 [==============================] - 1s 22ms/step - loss: 21.5705 - mae: 22.0212\n",
            "Epoch 33/100\n",
            "55/55 [==============================] - 1s 22ms/step - loss: 21.5697 - mae: 22.0204\n",
            "Epoch 34/100\n",
            "55/55 [==============================] - 1s 22ms/step - loss: 21.5689 - mae: 22.0195\n",
            "Epoch 35/100\n",
            "55/55 [==============================] - 1s 22ms/step - loss: 21.5680 - mae: 22.0185\n",
            "Epoch 36/100\n",
            "55/55 [==============================] - 1s 21ms/step - loss: 21.5670 - mae: 22.0174\n",
            "Epoch 37/100\n",
            "55/55 [==============================] - 1s 22ms/step - loss: 21.5659 - mae: 22.0163\n",
            "Epoch 38/100\n",
            "55/55 [==============================] - 1s 21ms/step - loss: 21.5647 - mae: 22.0150\n",
            "Epoch 39/100\n",
            "55/55 [==============================] - 1s 23ms/step - loss: 21.5634 - mae: 22.0136\n",
            "Epoch 40/100\n",
            "55/55 [==============================] - 1s 22ms/step - loss: 21.5620 - mae: 22.0121\n",
            "Epoch 41/100\n",
            "55/55 [==============================] - 1s 22ms/step - loss: 21.5605 - mae: 22.0105\n",
            "Epoch 42/100\n",
            "55/55 [==============================] - 1s 22ms/step - loss: 21.5589 - mae: 22.0088\n",
            "Epoch 43/100\n",
            "55/55 [==============================] - 1s 22ms/step - loss: 21.5571 - mae: 22.0069\n",
            "Epoch 44/100\n",
            "55/55 [==============================] - 1s 22ms/step - loss: 21.5551 - mae: 22.0048\n",
            "Epoch 45/100\n",
            "55/55 [==============================] - 1s 21ms/step - loss: 21.5527 - mae: 22.0022\n",
            "Epoch 46/100\n",
            "55/55 [==============================] - 1s 22ms/step - loss: 21.5505 - mae: 22.0001\n",
            "Epoch 47/100\n",
            "55/55 [==============================] - 1s 22ms/step - loss: 21.5491 - mae: 21.9986\n",
            "Epoch 48/100\n",
            "55/55 [==============================] - 1s 22ms/step - loss: 21.5476 - mae: 21.9971\n",
            "Epoch 49/100\n",
            "55/55 [==============================] - 1s 22ms/step - loss: 21.5458 - mae: 21.9954\n",
            "Epoch 50/100\n",
            "55/55 [==============================] - 1s 22ms/step - loss: 21.5441 - mae: 21.9937\n",
            "Epoch 51/100\n",
            "55/55 [==============================] - 1s 22ms/step - loss: 21.5426 - mae: 21.9922\n",
            "Epoch 52/100\n",
            "55/55 [==============================] - 1s 22ms/step - loss: 21.5413 - mae: 21.9909\n",
            "Epoch 53/100\n",
            "55/55 [==============================] - 1s 22ms/step - loss: 21.5401 - mae: 21.9895\n",
            "Epoch 54/100\n",
            "55/55 [==============================] - 1s 22ms/step - loss: 21.5389 - mae: 21.9882\n",
            "Epoch 55/100\n",
            "55/55 [==============================] - 1s 22ms/step - loss: 21.5376 - mae: 21.9868\n",
            "Epoch 56/100\n",
            "55/55 [==============================] - 1s 22ms/step - loss: 21.5363 - mae: 21.9854\n",
            "Epoch 57/100\n",
            "55/55 [==============================] - 1s 23ms/step - loss: 21.5349 - mae: 21.9838\n",
            "Epoch 58/100\n",
            "55/55 [==============================] - 1s 22ms/step - loss: 21.5334 - mae: 21.9823\n",
            "Epoch 59/100\n",
            "55/55 [==============================] - 1s 23ms/step - loss: 21.5319 - mae: 21.9806\n",
            "Epoch 60/100\n",
            "55/55 [==============================] - 1s 22ms/step - loss: 21.5303 - mae: 21.9788\n",
            "Epoch 61/100\n",
            "55/55 [==============================] - 1s 21ms/step - loss: 21.5286 - mae: 21.9770\n",
            "Epoch 62/100\n",
            "55/55 [==============================] - 1s 21ms/step - loss: 21.5268 - mae: 21.9750\n",
            "Epoch 63/100\n",
            "55/55 [==============================] - 1s 22ms/step - loss: 21.5249 - mae: 21.9729\n",
            "Epoch 64/100\n",
            "55/55 [==============================] - 1s 21ms/step - loss: 21.5229 - mae: 21.9707\n",
            "Epoch 65/100\n",
            "55/55 [==============================] - 1s 22ms/step - loss: 21.5207 - mae: 21.9682\n",
            "Epoch 66/100\n",
            "55/55 [==============================] - 1s 23ms/step - loss: 21.5183 - mae: 21.9656\n",
            "Epoch 67/100\n",
            "55/55 [==============================] - 1s 23ms/step - loss: 21.5158 - mae: 21.9628\n",
            "Epoch 68/100\n",
            "55/55 [==============================] - 1s 22ms/step - loss: 21.5130 - mae: 21.9597\n",
            "Epoch 69/100\n",
            "55/55 [==============================] - 1s 22ms/step - loss: 21.5100 - mae: 21.9564\n",
            "Epoch 70/100\n",
            "55/55 [==============================] - 1s 22ms/step - loss: 21.5067 - mae: 21.9527\n",
            "Epoch 71/100\n",
            "55/55 [==============================] - 1s 22ms/step - loss: 21.5032 - mae: 21.9488\n",
            "Epoch 72/100\n",
            "55/55 [==============================] - 1s 22ms/step - loss: 21.4993 - mae: 21.9444\n",
            "Epoch 73/100\n",
            "55/55 [==============================] - 1s 22ms/step - loss: 21.4950 - mae: 21.9396\n",
            "Epoch 74/100\n",
            "55/55 [==============================] - 1s 21ms/step - loss: 21.4903 - mae: 21.9343\n",
            "Epoch 75/100\n",
            "55/55 [==============================] - 1s 23ms/step - loss: 21.4851 - mae: 21.9284\n",
            "Epoch 76/100\n",
            "55/55 [==============================] - 1s 22ms/step - loss: 21.4793 - mae: 21.9220\n",
            "Epoch 77/100\n",
            "55/55 [==============================] - 1s 22ms/step - loss: 21.4730 - mae: 21.9148\n",
            "Epoch 78/100\n",
            "55/55 [==============================] - 1s 22ms/step - loss: 21.4660 - mae: 21.9069\n",
            "Epoch 79/100\n",
            "55/55 [==============================] - 1s 22ms/step - loss: 21.4583 - mae: 21.8981\n",
            "Epoch 80/100\n",
            "55/55 [==============================] - 1s 22ms/step - loss: 21.4497 - mae: 21.8883\n",
            "Epoch 81/100\n",
            "55/55 [==============================] - 1s 22ms/step - loss: 21.4401 - mae: 21.8775\n",
            "Epoch 82/100\n",
            "55/55 [==============================] - 1s 22ms/step - loss: 21.4295 - mae: 21.8655\n",
            "Epoch 83/100\n",
            "55/55 [==============================] - 1s 22ms/step - loss: 21.4178 - mae: 21.8521\n",
            "Epoch 84/100\n",
            "55/55 [==============================] - 1s 22ms/step - loss: 21.4047 - mae: 21.8374\n",
            "Epoch 85/100\n",
            "55/55 [==============================] - 1s 23ms/step - loss: 21.3902 - mae: 21.8212\n",
            "Epoch 86/100\n",
            "55/55 [==============================] - 1s 22ms/step - loss: 21.3741 - mae: 21.8032\n",
            "Epoch 87/100\n",
            "55/55 [==============================] - 1s 23ms/step - loss: 21.3563 - mae: 21.7834\n",
            "Epoch 88/100\n",
            "55/55 [==============================] - 1s 22ms/step - loss: 21.3365 - mae: 21.7614\n",
            "Epoch 89/100\n",
            "55/55 [==============================] - 1s 22ms/step - loss: 21.3145 - mae: 21.7368\n",
            "Epoch 90/100\n",
            "55/55 [==============================] - 1s 22ms/step - loss: 21.2902 - mae: 21.7095\n",
            "Epoch 91/100\n",
            "55/55 [==============================] - 1s 21ms/step - loss: 21.2632 - mae: 21.6798\n",
            "Epoch 92/100\n",
            "55/55 [==============================] - 1s 21ms/step - loss: 21.2334 - mae: 21.6474\n",
            "Epoch 93/100\n",
            "55/55 [==============================] - 1s 22ms/step - loss: 21.2003 - mae: 21.6121\n",
            "Epoch 94/100\n",
            "55/55 [==============================] - 1s 21ms/step - loss: 21.1633 - mae: 21.5724\n",
            "Epoch 95/100\n",
            "55/55 [==============================] - 1s 22ms/step - loss: 21.0671 - mae: 21.4731\n",
            "Epoch 96/100\n",
            "55/55 [==============================] - 1s 22ms/step - loss: 20.8021 - mae: 21.1965\n",
            "Epoch 97/100\n",
            "55/55 [==============================] - 1s 22ms/step - loss: 20.4140 - mae: 20.8207\n",
            "Epoch 98/100\n",
            "55/55 [==============================] - 1s 23ms/step - loss: 19.7728 - mae: 20.2112\n",
            "Epoch 99/100\n",
            "55/55 [==============================] - 1s 24ms/step - loss: 17.4624 - mae: 17.8993\n",
            "Epoch 100/100\n",
            "55/55 [==============================] - 1s 23ms/step - loss: 8.5087 - mae: 8.9202\n"
          ],
          "name": "stdout"
        }
      ]
    },
    {
      "cell_type": "code",
      "metadata": {
        "colab": {
          "base_uri": "https://localhost:8080/",
          "height": 290
        },
        "id": "FPPZcBMleGQn",
        "outputId": "0013079c-5e0f-4fa0-9452-8ce145d6c7f5"
      },
      "source": [
        "plt.semilogx(history.history[\"lr\"], history.history[\"loss\"])\n",
        "plt.axis([1e-8, 1e-4, 0, 60])"
      ],
      "execution_count": 208,
      "outputs": [
        {
          "output_type": "execute_result",
          "data": {
            "text/plain": [
              "(1e-08, 0.0001, 0.0, 60.0)"
            ]
          },
          "metadata": {
            "tags": []
          },
          "execution_count": 208
        },
        {
          "output_type": "display_data",
          "data": {
            "image/png": "[encoded data removed]",
            "text/plain": [
              "<Figure size 432x288 with 1 Axes>"
            ]
          },
          "metadata": {
            "tags": [],
            "needs_background": "light"
          }
        }
      ]
    },
    {
      "cell_type": "code",
      "metadata": {
        "colab": {
          "base_uri": "https://localhost:8080/"
        },
        "id": "X0m4zDl8eGN_",
        "outputId": "9780c4d5-3703-4681-ec0d-947441f224b2"
      },
      "source": [
        "tf.keras.backend.clear_session()\n",
        "tf.random.set_seed(51)\n",
        "np.random.seed(51)\n",
        "train_set = windowed_dataset(x_train, window_size=72, batch_size=128, shuffle_buffer=shuffle_buffer_size)\n",
        "model = tf.keras.models.Sequential([\n",
        "  tf.keras.layers.Conv1D(filters=60, kernel_size=5,\n",
        "                      strides=1, padding=\"causal\",\n",
        "                      activation=\"relu\",\n",
        "                      input_shape=[None, 4]),\n",
        "  tf.keras.layers.LSTM(60, return_sequences=True),\n",
        "  tf.keras.layers.LSTM(60, return_sequences=True),\n",
        "  tf.keras.layers.TimeDistributed(tf.keras.layers.Dense(30, activation='relu')),\n",
        "  tf.keras.layers.TimeDistributed(tf.keras.layers.Dense(10, activation='relu')),\n",
        "  # tf.keras.layers.Dense(30, activation=\"relu\"),\n",
        "  # tf.keras.layers.Dense(10, activation=\"relu\"),\n",
        "  tf.keras.layers.Dense(4),\n",
        "  tf.keras.layers.Lambda(lambda x: x * 400)\n",
        "])\n",
        "\n",
        "\n",
        "optimizer = tf.keras.optimizers.SGD(lr=1e-6, momentum=0.9)\n",
        "model.compile(loss=tf.keras.losses.Huber(),\n",
        "              optimizer=optimizer,\n",
        "              metrics=[\"mae\"])\n",
        "history = model.fit(train_set,epochs=500)"
      ],
      "execution_count": 210,
      "outputs": [
        {
          "output_type": "stream",
          "text": [
            "/usr/local/lib/python3.7/dist-packages/tensorflow/python/keras/optimizer_v2/optimizer_v2.py:375: UserWarning: The `lr` argument is deprecated, use `learning_rate` instead.\n",
            "  \"The `lr` argument is deprecated, use `learning_rate` instead.\")\n"
          ],
          "name": "stderr"
        },
        {
          "output_type": "stream",
          "text": [
            "Epoch 1/500\n",
            "55/55 [==============================] - 4s 20ms/step - loss: 19.9728 - mae: 20.4610\n",
            "Epoch 2/500\n",
            "55/55 [==============================] - 1s 21ms/step - loss: 9.5624 - mae: 10.0356\n",
            "Epoch 3/500\n",
            "55/55 [==============================] - 1s 21ms/step - loss: 8.8611 - mae: 9.3308\n",
            "Epoch 4/500\n",
            "55/55 [==============================] - 1s 21ms/step - loss: 8.5344 - mae: 9.0020\n",
            "Epoch 5/500\n",
            "55/55 [==============================] - 1s 21ms/step - loss: 8.3043 - mae: 8.7705\n",
            "Epoch 6/500\n",
            "55/55 [==============================] - 1s 21ms/step - loss: 8.1181 - mae: 8.5828\n",
            "Epoch 7/500\n",
            "55/55 [==============================] - 1s 21ms/step - loss: 7.9735 - mae: 8.4369\n",
            "Epoch 8/500\n",
            "55/55 [==============================] - 1s 21ms/step - loss: 7.8554 - mae: 8.3176\n",
            "Epoch 9/500\n",
            "55/55 [==============================] - 1s 21ms/step - loss: 7.7467 - mae: 8.2071\n",
            "Epoch 10/500\n",
            "55/55 [==============================] - 1s 22ms/step - loss: 7.6479 - mae: 8.1065\n",
            "Epoch 11/500\n",
            "55/55 [==============================] - 1s 22ms/step - loss: 7.5620 - mae: 8.0184\n",
            "Epoch 12/500\n",
            "55/55 [==============================] - 1s 22ms/step - loss: 7.4818 - mae: 7.9364\n",
            "Epoch 13/500\n",
            "55/55 [==============================] - 1s 22ms/step - loss: 7.4076 - mae: 7.8601\n",
            "Epoch 14/500\n",
            "55/55 [==============================] - 1s 22ms/step - loss: 7.3460 - mae: 7.7966\n",
            "Epoch 15/500\n",
            "55/55 [==============================] - 1s 21ms/step - loss: 7.2848 - mae: 7.7336\n",
            "Epoch 16/500\n",
            "55/55 [==============================] - 1s 21ms/step - loss: 7.2318 - mae: 7.6786\n",
            "Epoch 17/500\n",
            "55/55 [==============================] - 1s 21ms/step - loss: 7.1792 - mae: 7.6234\n",
            "Epoch 18/500\n",
            "55/55 [==============================] - 1s 21ms/step - loss: 7.1355 - mae: 7.5782\n",
            "Epoch 19/500\n",
            "55/55 [==============================] - 1s 22ms/step - loss: 7.0959 - mae: 7.5376\n",
            "Epoch 20/500\n",
            "55/55 [==============================] - 1s 22ms/step - loss: 7.0558 - mae: 7.4958\n",
            "Epoch 21/500\n",
            "55/55 [==============================] - 1s 22ms/step - loss: 7.0244 - mae: 7.4634\n",
            "Epoch 22/500\n",
            "55/55 [==============================] - 1s 21ms/step - loss: 6.9949 - mae: 7.4331\n",
            "Epoch 23/500\n",
            "55/55 [==============================] - 1s 21ms/step - loss: 6.9648 - mae: 7.4019\n",
            "Epoch 24/500\n",
            "55/55 [==============================] - 1s 21ms/step - loss: 6.9403 - mae: 7.3766\n",
            "Epoch 25/500\n",
            "55/55 [==============================] - 1s 21ms/step - loss: 6.9190 - mae: 7.3542\n",
            "Epoch 26/500\n",
            "55/55 [==============================] - 1s 21ms/step - loss: 6.8972 - mae: 7.3318\n",
            "Epoch 27/500\n",
            "55/55 [==============================] - 1s 22ms/step - loss: 6.8785 - mae: 7.3125\n",
            "Epoch 28/500\n",
            "55/55 [==============================] - 1s 22ms/step - loss: 6.8600 - mae: 7.2935\n",
            "Epoch 29/500\n",
            "55/55 [==============================] - 1s 21ms/step - loss: 6.8438 - mae: 7.2766\n",
            "Epoch 30/500\n",
            "55/55 [==============================] - 1s 23ms/step - loss: 6.8273 - mae: 7.2599\n",
            "Epoch 31/500\n",
            "55/55 [==============================] - 1s 22ms/step - loss: 6.8122 - mae: 7.2442\n",
            "Epoch 32/500\n",
            "55/55 [==============================] - 1s 21ms/step - loss: 6.8000 - mae: 7.2319\n",
            "Epoch 33/500\n",
            "55/55 [==============================] - 1s 22ms/step - loss: 6.7841 - mae: 7.2151\n",
            "Epoch 34/500\n",
            "55/55 [==============================] - 1s 21ms/step - loss: 6.7698 - mae: 7.2003\n",
            "Epoch 35/500\n",
            "55/55 [==============================] - 1s 21ms/step - loss: 6.7591 - mae: 7.1895\n",
            "Epoch 36/500\n",
            "55/55 [==============================] - 1s 22ms/step - loss: 6.7456 - mae: 7.1754\n",
            "Epoch 37/500\n",
            "55/55 [==============================] - 1s 21ms/step - loss: 6.7332 - mae: 7.1624\n",
            "Epoch 38/500\n",
            "55/55 [==============================] - 1s 21ms/step - loss: 6.7219 - mae: 7.1507\n",
            "Epoch 39/500\n",
            "55/55 [==============================] - 1s 22ms/step - loss: 6.7098 - mae: 7.1385\n",
            "Epoch 40/500\n",
            "55/55 [==============================] - 1s 21ms/step - loss: 6.6986 - mae: 7.1265\n",
            "Epoch 41/500\n",
            "55/55 [==============================] - 1s 21ms/step - loss: 6.6874 - mae: 7.1153\n",
            "Epoch 42/500\n",
            "55/55 [==============================] - 1s 21ms/step - loss: 6.6760 - mae: 7.1034\n",
            "Epoch 43/500\n",
            "55/55 [==============================] - 1s 21ms/step - loss: 6.6659 - mae: 7.0929\n",
            "Epoch 44/500\n",
            "55/55 [==============================] - 1s 22ms/step - loss: 6.6565 - mae: 7.0832\n",
            "Epoch 45/500\n",
            "55/55 [==============================] - 1s 22ms/step - loss: 6.6457 - mae: 7.0723\n",
            "Epoch 46/500\n",
            "55/55 [==============================] - 1s 21ms/step - loss: 6.6368 - mae: 7.0629\n",
            "Epoch 47/500\n",
            "55/55 [==============================] - 1s 23ms/step - loss: 6.6270 - mae: 7.0531\n",
            "Epoch 48/500\n",
            "55/55 [==============================] - 1s 21ms/step - loss: 6.6142 - mae: 7.0398\n",
            "Epoch 49/500\n",
            "55/55 [==============================] - 1s 21ms/step - loss: 6.6070 - mae: 7.0325\n",
            "Epoch 50/500\n",
            "55/55 [==============================] - 1s 22ms/step - loss: 6.5972 - mae: 7.0221\n",
            "Epoch 51/500\n",
            "55/55 [==============================] - 1s 21ms/step - loss: 6.5898 - mae: 7.0148\n",
            "Epoch 52/500\n",
            "55/55 [==============================] - 1s 21ms/step - loss: 6.5802 - mae: 7.0049\n",
            "Epoch 53/500\n",
            "55/55 [==============================] - 1s 21ms/step - loss: 6.5725 - mae: 6.9971\n",
            "Epoch 54/500\n",
            "55/55 [==============================] - 1s 20ms/step - loss: 6.5662 - mae: 6.9904\n",
            "Epoch 55/500\n",
            "55/55 [==============================] - 1s 21ms/step - loss: 6.5561 - mae: 6.9803\n",
            "Epoch 56/500\n",
            "55/55 [==============================] - 1s 20ms/step - loss: 6.5506 - mae: 6.9743\n",
            "Epoch 57/500\n",
            "55/55 [==============================] - 1s 21ms/step - loss: 6.5449 - mae: 6.9683\n",
            "Epoch 58/500\n",
            "55/55 [==============================] - 1s 21ms/step - loss: 6.5374 - mae: 6.9607\n",
            "Epoch 59/500\n",
            "55/55 [==============================] - 1s 21ms/step - loss: 6.5300 - mae: 6.9533\n",
            "Epoch 60/500\n",
            "55/55 [==============================] - 1s 20ms/step - loss: 6.5224 - mae: 6.9449\n",
            "Epoch 61/500\n",
            "55/55 [==============================] - 1s 21ms/step - loss: 6.5165 - mae: 6.9391\n",
            "Epoch 62/500\n",
            "55/55 [==============================] - 1s 21ms/step - loss: 6.5105 - mae: 6.9326\n",
            "Epoch 63/500\n",
            "55/55 [==============================] - 1s 21ms/step - loss: 6.5036 - mae: 6.9256\n",
            "Epoch 64/500\n",
            "55/55 [==============================] - 1s 21ms/step - loss: 6.4977 - mae: 6.9195\n",
            "Epoch 65/500\n",
            "55/55 [==============================] - 1s 21ms/step - loss: 6.4911 - mae: 6.9125\n",
            "Epoch 66/500\n",
            "55/55 [==============================] - 1s 21ms/step - loss: 6.4877 - mae: 6.9091\n",
            "Epoch 67/500\n",
            "55/55 [==============================] - 1s 22ms/step - loss: 6.4798 - mae: 6.9009\n",
            "Epoch 68/500\n",
            "55/55 [==============================] - 1s 21ms/step - loss: 6.4766 - mae: 6.8974\n",
            "Epoch 69/500\n",
            "55/55 [==============================] - 1s 20ms/step - loss: 6.4715 - mae: 6.8921\n",
            "Epoch 70/500\n",
            "55/55 [==============================] - 1s 21ms/step - loss: 6.4636 - mae: 6.8838\n",
            "Epoch 71/500\n",
            "55/55 [==============================] - 1s 21ms/step - loss: 6.4594 - mae: 6.8795\n",
            "Epoch 72/500\n",
            "55/55 [==============================] - 1s 21ms/step - loss: 6.4518 - mae: 6.8716\n",
            "Epoch 73/500\n",
            "55/55 [==============================] - 1s 20ms/step - loss: 6.4481 - mae: 6.8678\n",
            "Epoch 74/500\n",
            "55/55 [==============================] - 1s 22ms/step - loss: 6.4438 - mae: 6.8631\n",
            "Epoch 75/500\n",
            "55/55 [==============================] - 1s 23ms/step - loss: 6.4399 - mae: 6.8590\n",
            "Epoch 76/500\n",
            "55/55 [==============================] - 1s 21ms/step - loss: 6.4339 - mae: 6.8529\n",
            "Epoch 77/500\n",
            "55/55 [==============================] - 1s 22ms/step - loss: 6.4292 - mae: 6.8480\n",
            "Epoch 78/500\n",
            "55/55 [==============================] - 1s 22ms/step - loss: 6.4269 - mae: 6.8455\n",
            "Epoch 79/500\n",
            "55/55 [==============================] - 1s 21ms/step - loss: 6.4196 - mae: 6.8379\n",
            "Epoch 80/500\n",
            "55/55 [==============================] - 1s 22ms/step - loss: 6.4197 - mae: 6.8380\n",
            "Epoch 81/500\n",
            "55/55 [==============================] - 1s 22ms/step - loss: 6.4136 - mae: 6.8316\n",
            "Epoch 82/500\n",
            "55/55 [==============================] - 1s 22ms/step - loss: 6.4087 - mae: 6.8266\n",
            "Epoch 83/500\n",
            "55/55 [==============================] - 1s 21ms/step - loss: 6.4034 - mae: 6.8210\n",
            "Epoch 84/500\n",
            "55/55 [==============================] - 1s 21ms/step - loss: 6.4004 - mae: 6.8180\n",
            "Epoch 85/500\n",
            "55/55 [==============================] - 1s 22ms/step - loss: 6.3960 - mae: 6.8132\n",
            "Epoch 86/500\n",
            "55/55 [==============================] - 1s 23ms/step - loss: 6.3924 - mae: 6.8096\n",
            "Epoch 87/500\n",
            "55/55 [==============================] - 1s 23ms/step - loss: 6.3880 - mae: 6.8051\n",
            "Epoch 88/500\n",
            "55/55 [==============================] - 1s 22ms/step - loss: 6.3849 - mae: 6.8019\n",
            "Epoch 89/500\n",
            "55/55 [==============================] - 1s 22ms/step - loss: 6.3797 - mae: 6.7964\n",
            "Epoch 90/500\n",
            "55/55 [==============================] - 1s 22ms/step - loss: 6.3766 - mae: 6.7932\n",
            "Epoch 91/500\n",
            "55/55 [==============================] - 1s 22ms/step - loss: 6.3705 - mae: 6.7867\n",
            "Epoch 92/500\n",
            "55/55 [==============================] - 1s 24ms/step - loss: 6.3657 - mae: 6.7818\n",
            "Epoch 93/500\n",
            "55/55 [==============================] - 1s 22ms/step - loss: 6.3617 - mae: 6.7775\n",
            "Epoch 94/500\n",
            "55/55 [==============================] - 1s 23ms/step - loss: 6.3605 - mae: 6.7764\n",
            "Epoch 95/500\n",
            "55/55 [==============================] - 1s 23ms/step - loss: 6.3567 - mae: 6.7725\n",
            "Epoch 96/500\n",
            "55/55 [==============================] - 1s 23ms/step - loss: 6.3536 - mae: 6.7691\n",
            "Epoch 97/500\n",
            "55/55 [==============================] - 1s 23ms/step - loss: 6.3480 - mae: 6.7632\n",
            "Epoch 98/500\n",
            "55/55 [==============================] - 1s 22ms/step - loss: 6.3451 - mae: 6.7604\n",
            "Epoch 99/500\n",
            "55/55 [==============================] - 1s 23ms/step - loss: 6.3425 - mae: 6.7578\n",
            "Epoch 100/500\n",
            "55/55 [==============================] - 1s 24ms/step - loss: 6.3389 - mae: 6.7540\n",
            "Epoch 101/500\n",
            "55/55 [==============================] - 1s 23ms/step - loss: 6.3361 - mae: 6.7508\n",
            "Epoch 102/500\n",
            "55/55 [==============================] - 1s 23ms/step - loss: 6.3306 - mae: 6.7450\n",
            "Epoch 103/500\n",
            "55/55 [==============================] - 1s 21ms/step - loss: 6.3281 - mae: 6.7424\n",
            "Epoch 104/500\n",
            "55/55 [==============================] - 1s 23ms/step - loss: 6.3252 - mae: 6.7395\n",
            "Epoch 105/500\n",
            "55/55 [==============================] - 1s 23ms/step - loss: 6.3219 - mae: 6.7362\n",
            "Epoch 106/500\n",
            "55/55 [==============================] - 1s 22ms/step - loss: 6.3171 - mae: 6.7309\n",
            "Epoch 107/500\n",
            "55/55 [==============================] - 1s 22ms/step - loss: 6.3134 - mae: 6.7273\n",
            "Epoch 108/500\n",
            "55/55 [==============================] - 1s 21ms/step - loss: 6.3123 - mae: 6.7260\n",
            "Epoch 109/500\n",
            "55/55 [==============================] - 1s 21ms/step - loss: 6.3104 - mae: 6.7241\n",
            "Epoch 110/500\n",
            "55/55 [==============================] - 1s 21ms/step - loss: 6.3063 - mae: 6.7197\n",
            "Epoch 111/500\n",
            "55/55 [==============================] - 1s 21ms/step - loss: 6.3033 - mae: 6.7168\n",
            "Epoch 112/500\n",
            "55/55 [==============================] - 1s 21ms/step - loss: 6.2992 - mae: 6.7124\n",
            "Epoch 113/500\n",
            "55/55 [==============================] - 1s 23ms/step - loss: 6.2961 - mae: 6.7094\n",
            "Epoch 114/500\n",
            "55/55 [==============================] - 1s 21ms/step - loss: 6.2940 - mae: 6.7069\n",
            "Epoch 115/500\n",
            "55/55 [==============================] - 1s 23ms/step - loss: 6.2893 - mae: 6.7019\n",
            "Epoch 116/500\n",
            "55/55 [==============================] - 1s 22ms/step - loss: 6.2876 - mae: 6.7004\n",
            "Epoch 117/500\n",
            "55/55 [==============================] - 1s 21ms/step - loss: 6.2854 - mae: 6.6979\n",
            "Epoch 118/500\n",
            "55/55 [==============================] - 1s 21ms/step - loss: 6.2827 - mae: 6.6953\n",
            "Epoch 119/500\n",
            "55/55 [==============================] - 1s 21ms/step - loss: 6.2771 - mae: 6.6893\n",
            "Epoch 120/500\n",
            "55/55 [==============================] - 1s 21ms/step - loss: 6.2745 - mae: 6.6864\n",
            "Epoch 121/500\n",
            "55/55 [==============================] - 1s 22ms/step - loss: 6.2725 - mae: 6.6846\n",
            "Epoch 122/500\n",
            "55/55 [==============================] - 1s 20ms/step - loss: 6.2692 - mae: 6.6814\n",
            "Epoch 123/500\n",
            "55/55 [==============================] - 1s 20ms/step - loss: 6.2669 - mae: 6.6789\n",
            "Epoch 124/500\n",
            "55/55 [==============================] - 1s 21ms/step - loss: 6.2629 - mae: 6.6746\n",
            "Epoch 125/500\n",
            "55/55 [==============================] - 1s 21ms/step - loss: 6.2616 - mae: 6.6733\n",
            "Epoch 126/500\n",
            "55/55 [==============================] - 1s 21ms/step - loss: 6.2585 - mae: 6.6700\n",
            "Epoch 127/500\n",
            "55/55 [==============================] - 1s 21ms/step - loss: 6.2582 - mae: 6.6698\n",
            "Epoch 128/500\n",
            "55/55 [==============================] - 1s 21ms/step - loss: 6.2536 - mae: 6.6650\n",
            "Epoch 129/500\n",
            "55/55 [==============================] - 1s 21ms/step - loss: 6.2534 - mae: 6.6646\n",
            "Epoch 130/500\n",
            "55/55 [==============================] - 1s 21ms/step - loss: 6.2499 - mae: 6.6612\n",
            "Epoch 131/500\n",
            "55/55 [==============================] - 1s 22ms/step - loss: 6.2459 - mae: 6.6571\n",
            "Epoch 132/500\n",
            "55/55 [==============================] - 1s 21ms/step - loss: 6.2434 - mae: 6.6546\n",
            "Epoch 133/500\n",
            "55/55 [==============================] - 1s 21ms/step - loss: 6.2418 - mae: 6.6526\n",
            "Epoch 134/500\n",
            "55/55 [==============================] - 1s 21ms/step - loss: 6.2382 - mae: 6.6491\n",
            "Epoch 135/500\n",
            "55/55 [==============================] - 1s 22ms/step - loss: 6.2354 - mae: 6.6460\n",
            "Epoch 136/500\n",
            "55/55 [==============================] - 1s 21ms/step - loss: 6.2328 - mae: 6.6434\n",
            "Epoch 137/500\n",
            "55/55 [==============================] - 1s 21ms/step - loss: 6.2327 - mae: 6.6430\n",
            "Epoch 138/500\n",
            "55/55 [==============================] - 1s 21ms/step - loss: 6.2285 - mae: 6.6389\n",
            "Epoch 139/500\n",
            "55/55 [==============================] - 1s 21ms/step - loss: 6.2268 - mae: 6.6370\n",
            "Epoch 140/500\n",
            "55/55 [==============================] - 1s 21ms/step - loss: 6.2259 - mae: 6.6361\n",
            "Epoch 141/500\n",
            "55/55 [==============================] - 1s 21ms/step - loss: 6.2219 - mae: 6.6322\n",
            "Epoch 142/500\n",
            "55/55 [==============================] - 1s 21ms/step - loss: 6.2198 - mae: 6.6298\n",
            "Epoch 143/500\n",
            "55/55 [==============================] - 1s 22ms/step - loss: 6.2178 - mae: 6.6280\n",
            "Epoch 144/500\n",
            "55/55 [==============================] - 1s 21ms/step - loss: 6.2161 - mae: 6.6260\n",
            "Epoch 145/500\n",
            "55/55 [==============================] - 1s 21ms/step - loss: 6.2130 - mae: 6.6226\n",
            "Epoch 146/500\n",
            "55/55 [==============================] - 1s 21ms/step - loss: 6.2123 - mae: 6.6218\n",
            "Epoch 147/500\n",
            "55/55 [==============================] - 1s 21ms/step - loss: 6.2062 - mae: 6.6155\n",
            "Epoch 148/500\n",
            "55/55 [==============================] - 1s 21ms/step - loss: 6.2062 - mae: 6.6155\n",
            "Epoch 149/500\n",
            "55/55 [==============================] - 1s 21ms/step - loss: 6.2044 - mae: 6.6138\n",
            "Epoch 150/500\n",
            "55/55 [==============================] - 1s 21ms/step - loss: 6.2023 - mae: 6.6117\n",
            "Epoch 151/500\n",
            "55/55 [==============================] - 1s 21ms/step - loss: 6.1983 - mae: 6.6073\n",
            "Epoch 152/500\n",
            "55/55 [==============================] - 1s 21ms/step - loss: 6.1966 - mae: 6.6056\n",
            "Epoch 153/500\n",
            "55/55 [==============================] - 1s 21ms/step - loss: 6.1949 - mae: 6.6036\n",
            "Epoch 154/500\n",
            "55/55 [==============================] - 1s 22ms/step - loss: 6.1938 - mae: 6.6026\n",
            "Epoch 155/500\n",
            "55/55 [==============================] - 1s 22ms/step - loss: 6.1924 - mae: 6.6009\n",
            "Epoch 156/500\n",
            "55/55 [==============================] - 1s 21ms/step - loss: 6.1893 - mae: 6.5979\n",
            "Epoch 157/500\n",
            "55/55 [==============================] - 1s 20ms/step - loss: 6.1867 - mae: 6.5950\n",
            "Epoch 158/500\n",
            "55/55 [==============================] - 1s 21ms/step - loss: 6.1847 - mae: 6.5928\n",
            "Epoch 159/500\n",
            "55/55 [==============================] - 1s 20ms/step - loss: 6.1822 - mae: 6.5903\n",
            "Epoch 160/500\n",
            "55/55 [==============================] - 1s 20ms/step - loss: 6.1812 - mae: 6.5893\n",
            "Epoch 161/500\n",
            "55/55 [==============================] - 1s 21ms/step - loss: 6.1787 - mae: 6.5869\n",
            "Epoch 162/500\n",
            "55/55 [==============================] - 1s 21ms/step - loss: 6.1755 - mae: 6.5832\n",
            "Epoch 163/500\n",
            "55/55 [==============================] - 1s 21ms/step - loss: 6.1743 - mae: 6.5824\n",
            "Epoch 164/500\n",
            "55/55 [==============================] - 1s 21ms/step - loss: 6.1708 - mae: 6.5786\n",
            "Epoch 165/500\n",
            "55/55 [==============================] - 1s 21ms/step - loss: 6.1696 - mae: 6.5774\n",
            "Epoch 166/500\n",
            "55/55 [==============================] - 1s 21ms/step - loss: 6.1687 - mae: 6.5765\n",
            "Epoch 167/500\n",
            "55/55 [==============================] - 1s 21ms/step - loss: 6.1656 - mae: 6.5732\n",
            "Epoch 168/500\n",
            "55/55 [==============================] - 1s 21ms/step - loss: 6.1644 - mae: 6.5718\n",
            "Epoch 169/500\n",
            "55/55 [==============================] - 1s 21ms/step - loss: 6.1613 - mae: 6.5688\n",
            "Epoch 170/500\n",
            "55/55 [==============================] - 1s 21ms/step - loss: 6.1601 - mae: 6.5675\n",
            "Epoch 171/500\n",
            "55/55 [==============================] - 1s 21ms/step - loss: 6.1592 - mae: 6.5666\n",
            "Epoch 172/500\n",
            "55/55 [==============================] - 1s 21ms/step - loss: 6.1558 - mae: 6.5627\n",
            "Epoch 173/500\n",
            "55/55 [==============================] - 1s 21ms/step - loss: 6.1556 - mae: 6.5625\n",
            "Epoch 174/500\n",
            "55/55 [==============================] - 1s 21ms/step - loss: 6.1518 - mae: 6.5586\n",
            "Epoch 175/500\n",
            "55/55 [==============================] - 1s 22ms/step - loss: 6.1501 - mae: 6.5570\n",
            "Epoch 176/500\n",
            "55/55 [==============================] - 1s 22ms/step - loss: 6.1489 - mae: 6.5557\n",
            "Epoch 177/500\n",
            "55/55 [==============================] - 1s 22ms/step - loss: 6.1484 - mae: 6.5551\n",
            "Epoch 178/500\n",
            "55/55 [==============================] - 1s 21ms/step - loss: 6.1448 - mae: 6.5514\n",
            "Epoch 179/500\n",
            "55/55 [==============================] - 1s 21ms/step - loss: 6.1427 - mae: 6.5492\n",
            "Epoch 180/500\n",
            "55/55 [==============================] - 1s 22ms/step - loss: 6.1415 - mae: 6.5481\n",
            "Epoch 181/500\n",
            "55/55 [==============================] - 1s 22ms/step - loss: 6.1394 - mae: 6.5455\n",
            "Epoch 182/500\n",
            "55/55 [==============================] - 1s 21ms/step - loss: 6.1378 - mae: 6.5442\n",
            "Epoch 183/500\n",
            "55/55 [==============================] - 1s 22ms/step - loss: 6.1361 - mae: 6.5423\n",
            "Epoch 184/500\n",
            "55/55 [==============================] - 1s 21ms/step - loss: 6.1342 - mae: 6.5402\n",
            "Epoch 185/500\n",
            "55/55 [==============================] - 1s 21ms/step - loss: 6.1317 - mae: 6.5376\n",
            "Epoch 186/500\n",
            "55/55 [==============================] - 1s 21ms/step - loss: 6.1302 - mae: 6.5364\n",
            "Epoch 187/500\n",
            "55/55 [==============================] - 1s 21ms/step - loss: 6.1295 - mae: 6.5354\n",
            "Epoch 188/500\n",
            "55/55 [==============================] - 1s 22ms/step - loss: 6.1273 - mae: 6.5329\n",
            "Epoch 189/500\n",
            "55/55 [==============================] - 1s 22ms/step - loss: 6.1257 - mae: 6.5315\n",
            "Epoch 190/500\n",
            "55/55 [==============================] - 1s 21ms/step - loss: 6.1237 - mae: 6.5291\n",
            "Epoch 191/500\n",
            "55/55 [==============================] - 1s 23ms/step - loss: 6.1221 - mae: 6.5275\n",
            "Epoch 192/500\n",
            "55/55 [==============================] - 1s 22ms/step - loss: 6.1226 - mae: 6.5281\n",
            "Epoch 193/500\n",
            "55/55 [==============================] - 1s 21ms/step - loss: 6.1192 - mae: 6.5249\n",
            "Epoch 194/500\n",
            "55/55 [==============================] - 1s 22ms/step - loss: 6.1153 - mae: 6.5204\n",
            "Epoch 195/500\n",
            "55/55 [==============================] - 1s 21ms/step - loss: 6.1139 - mae: 6.5189\n",
            "Epoch 196/500\n",
            "55/55 [==============================] - 1s 21ms/step - loss: 6.1144 - mae: 6.5197\n",
            "Epoch 197/500\n",
            "55/55 [==============================] - 1s 22ms/step - loss: 6.1126 - mae: 6.5176\n",
            "Epoch 198/500\n",
            "55/55 [==============================] - 1s 21ms/step - loss: 6.1108 - mae: 6.5159\n",
            "Epoch 199/500\n",
            "55/55 [==============================] - 1s 21ms/step - loss: 6.1099 - mae: 6.5149\n",
            "Epoch 200/500\n",
            "55/55 [==============================] - 1s 21ms/step - loss: 6.1084 - mae: 6.5135\n",
            "Epoch 201/500\n",
            "55/55 [==============================] - 1s 21ms/step - loss: 6.1063 - mae: 6.5112\n",
            "Epoch 202/500\n",
            "55/55 [==============================] - 1s 21ms/step - loss: 6.1040 - mae: 6.5087\n",
            "Epoch 203/500\n",
            "55/55 [==============================] - 1s 21ms/step - loss: 6.1034 - mae: 6.5080\n",
            "Epoch 204/500\n",
            "55/55 [==============================] - 1s 22ms/step - loss: 6.1010 - mae: 6.5055\n",
            "Epoch 205/500\n",
            "55/55 [==============================] - 1s 22ms/step - loss: 6.0988 - mae: 6.5034\n",
            "Epoch 206/500\n",
            "55/55 [==============================] - 1s 22ms/step - loss: 6.0977 - mae: 6.5021\n",
            "Epoch 207/500\n",
            "55/55 [==============================] - 1s 23ms/step - loss: 6.0965 - mae: 6.5009\n",
            "Epoch 208/500\n",
            "55/55 [==============================] - 1s 22ms/step - loss: 6.0948 - mae: 6.4990\n",
            "Epoch 209/500\n",
            "55/55 [==============================] - 1s 20ms/step - loss: 6.0926 - mae: 6.4969\n",
            "Epoch 210/500\n",
            "55/55 [==============================] - 1s 22ms/step - loss: 6.0910 - mae: 6.4951\n",
            "Epoch 211/500\n",
            "55/55 [==============================] - 1s 21ms/step - loss: 6.0886 - mae: 6.4926\n",
            "Epoch 212/500\n",
            "55/55 [==============================] - 1s 22ms/step - loss: 6.0881 - mae: 6.4921\n",
            "Epoch 213/500\n",
            "55/55 [==============================] - 1s 22ms/step - loss: 6.0884 - mae: 6.4922\n",
            "Epoch 214/500\n",
            "55/55 [==============================] - 1s 22ms/step - loss: 6.0850 - mae: 6.4885\n",
            "Epoch 215/500\n",
            "55/55 [==============================] - 1s 21ms/step - loss: 6.0840 - mae: 6.4878\n",
            "Epoch 216/500\n",
            "55/55 [==============================] - 1s 22ms/step - loss: 6.0838 - mae: 6.4878\n",
            "Epoch 217/500\n",
            "55/55 [==============================] - 1s 21ms/step - loss: 6.0802 - mae: 6.4840\n",
            "Epoch 218/500\n",
            "55/55 [==============================] - 1s 21ms/step - loss: 6.0802 - mae: 6.4837\n",
            "Epoch 219/500\n",
            "55/55 [==============================] - 1s 23ms/step - loss: 6.0794 - mae: 6.4827\n",
            "Epoch 220/500\n",
            "55/55 [==============================] - 1s 22ms/step - loss: 6.0774 - mae: 6.4808\n",
            "Epoch 221/500\n",
            "55/55 [==============================] - 1s 21ms/step - loss: 6.0756 - mae: 6.4789\n",
            "Epoch 222/500\n",
            "55/55 [==============================] - 1s 22ms/step - loss: 6.0735 - mae: 6.4768\n",
            "Epoch 223/500\n",
            "55/55 [==============================] - 1s 21ms/step - loss: 6.0713 - mae: 6.4745\n",
            "Epoch 224/500\n",
            "55/55 [==============================] - 1s 21ms/step - loss: 6.0688 - mae: 6.4718\n",
            "Epoch 225/500\n",
            "55/55 [==============================] - 1s 22ms/step - loss: 6.0688 - mae: 6.4720\n",
            "Epoch 226/500\n",
            "55/55 [==============================] - 1s 22ms/step - loss: 6.0664 - mae: 6.4692\n",
            "Epoch 227/500\n",
            "55/55 [==============================] - 1s 21ms/step - loss: 6.0652 - mae: 6.4683\n",
            "Epoch 228/500\n",
            "55/55 [==============================] - 1s 22ms/step - loss: 6.0627 - mae: 6.4654\n",
            "Epoch 229/500\n",
            "55/55 [==============================] - 1s 22ms/step - loss: 6.0625 - mae: 6.4652\n",
            "Epoch 230/500\n",
            "55/55 [==============================] - 1s 21ms/step - loss: 6.0603 - mae: 6.4630\n",
            "Epoch 231/500\n",
            "55/55 [==============================] - 1s 22ms/step - loss: 6.0590 - mae: 6.4617\n",
            "Epoch 232/500\n",
            "55/55 [==============================] - 1s 22ms/step - loss: 6.0585 - mae: 6.4609\n",
            "Epoch 233/500\n",
            "55/55 [==============================] - 1s 21ms/step - loss: 6.0576 - mae: 6.4603\n",
            "Epoch 234/500\n",
            "55/55 [==============================] - 1s 21ms/step - loss: 6.0564 - mae: 6.4590\n",
            "Epoch 235/500\n",
            "55/55 [==============================] - 1s 21ms/step - loss: 6.0538 - mae: 6.4562\n",
            "Epoch 236/500\n",
            "55/55 [==============================] - 1s 21ms/step - loss: 6.0531 - mae: 6.4551\n",
            "Epoch 237/500\n",
            "55/55 [==============================] - 1s 21ms/step - loss: 6.0519 - mae: 6.4542\n",
            "Epoch 238/500\n",
            "55/55 [==============================] - 1s 21ms/step - loss: 6.0496 - mae: 6.4517\n",
            "Epoch 239/500\n",
            "55/55 [==============================] - 1s 21ms/step - loss: 6.0474 - mae: 6.4496\n",
            "Epoch 240/500\n",
            "55/55 [==============================] - 1s 22ms/step - loss: 6.0468 - mae: 6.4489\n",
            "Epoch 241/500\n",
            "55/55 [==============================] - 1s 24ms/step - loss: 6.0453 - mae: 6.4472\n",
            "Epoch 242/500\n",
            "55/55 [==============================] - 1s 22ms/step - loss: 6.0451 - mae: 6.4470\n",
            "Epoch 243/500\n",
            "55/55 [==============================] - 1s 21ms/step - loss: 6.0423 - mae: 6.4441\n",
            "Epoch 244/500\n",
            "55/55 [==============================] - 1s 21ms/step - loss: 6.0413 - mae: 6.4428\n",
            "Epoch 245/500\n",
            "55/55 [==============================] - 1s 21ms/step - loss: 6.0410 - mae: 6.4426\n",
            "Epoch 246/500\n",
            "55/55 [==============================] - 1s 23ms/step - loss: 6.0393 - mae: 6.4407\n",
            "Epoch 247/500\n",
            "55/55 [==============================] - 1s 24ms/step - loss: 6.0355 - mae: 6.4367\n",
            "Epoch 248/500\n",
            "55/55 [==============================] - 1s 22ms/step - loss: 6.0358 - mae: 6.4370\n",
            "Epoch 249/500\n",
            "55/55 [==============================] - 1s 21ms/step - loss: 6.0346 - mae: 6.4360\n",
            "Epoch 250/500\n",
            "55/55 [==============================] - 1s 22ms/step - loss: 6.0332 - mae: 6.4344\n",
            "Epoch 251/500\n",
            "55/55 [==============================] - 1s 21ms/step - loss: 6.0329 - mae: 6.4344\n",
            "Epoch 252/500\n",
            "55/55 [==============================] - 1s 22ms/step - loss: 6.0309 - mae: 6.4319\n",
            "Epoch 253/500\n",
            "55/55 [==============================] - 1s 23ms/step - loss: 6.0304 - mae: 6.4317\n",
            "Epoch 254/500\n",
            "55/55 [==============================] - 1s 21ms/step - loss: 6.0289 - mae: 6.4302\n",
            "Epoch 255/500\n",
            "55/55 [==============================] - 1s 22ms/step - loss: 6.0270 - mae: 6.4279\n",
            "Epoch 256/500\n",
            "55/55 [==============================] - 1s 21ms/step - loss: 6.0263 - mae: 6.4272\n",
            "Epoch 257/500\n",
            "55/55 [==============================] - 1s 22ms/step - loss: 6.0262 - mae: 6.4272\n",
            "Epoch 258/500\n",
            "55/55 [==============================] - 1s 22ms/step - loss: 6.0240 - mae: 6.4250\n",
            "Epoch 259/500\n",
            "55/55 [==============================] - 1s 22ms/step - loss: 6.0215 - mae: 6.4220\n",
            "Epoch 260/500\n",
            "55/55 [==============================] - 1s 22ms/step - loss: 6.0210 - mae: 6.4220\n",
            "Epoch 261/500\n",
            "55/55 [==============================] - 1s 22ms/step - loss: 6.0186 - mae: 6.4192\n",
            "Epoch 262/500\n",
            "55/55 [==============================] - 1s 23ms/step - loss: 6.0186 - mae: 6.4193\n",
            "Epoch 263/500\n",
            "55/55 [==============================] - 1s 23ms/step - loss: 6.0173 - mae: 6.4179\n",
            "Epoch 264/500\n",
            "55/55 [==============================] - 1s 22ms/step - loss: 6.0147 - mae: 6.4151\n",
            "Epoch 265/500\n",
            "55/55 [==============================] - 1s 22ms/step - loss: 6.0150 - mae: 6.4155\n",
            "Epoch 266/500\n",
            "55/55 [==============================] - 1s 22ms/step - loss: 6.0138 - mae: 6.4142\n",
            "Epoch 267/500\n",
            "55/55 [==============================] - 1s 22ms/step - loss: 6.0124 - mae: 6.4127\n",
            "Epoch 268/500\n",
            "55/55 [==============================] - 1s 22ms/step - loss: 6.0121 - mae: 6.4126\n",
            "Epoch 269/500\n",
            "55/55 [==============================] - 1s 22ms/step - loss: 6.0104 - mae: 6.4104\n",
            "Epoch 270/500\n",
            "55/55 [==============================] - 1s 21ms/step - loss: 6.0086 - mae: 6.4086\n",
            "Epoch 271/500\n",
            "55/55 [==============================] - 1s 23ms/step - loss: 6.0071 - mae: 6.4072\n",
            "Epoch 272/500\n",
            "55/55 [==============================] - 1s 22ms/step - loss: 6.0060 - mae: 6.4060\n",
            "Epoch 273/500\n",
            "55/55 [==============================] - 1s 21ms/step - loss: 6.0039 - mae: 6.4041\n",
            "Epoch 274/500\n",
            "55/55 [==============================] - 1s 22ms/step - loss: 6.0034 - mae: 6.4034\n",
            "Epoch 275/500\n",
            "55/55 [==============================] - 1s 23ms/step - loss: 6.0024 - mae: 6.4025\n",
            "Epoch 276/500\n",
            "55/55 [==============================] - 1s 21ms/step - loss: 6.0013 - mae: 6.4011\n",
            "Epoch 277/500\n",
            "55/55 [==============================] - 1s 21ms/step - loss: 6.0008 - mae: 6.4007\n",
            "Epoch 278/500\n",
            "55/55 [==============================] - 1s 21ms/step - loss: 5.9992 - mae: 6.3990\n",
            "Epoch 279/500\n",
            "55/55 [==============================] - 1s 21ms/step - loss: 5.9979 - mae: 6.3976\n",
            "Epoch 280/500\n",
            "55/55 [==============================] - 1s 21ms/step - loss: 5.9965 - mae: 6.3962\n",
            "Epoch 281/500\n",
            "55/55 [==============================] - 1s 21ms/step - loss: 5.9953 - mae: 6.3949\n",
            "Epoch 282/500\n",
            "55/55 [==============================] - 1s 21ms/step - loss: 5.9943 - mae: 6.3939\n",
            "Epoch 283/500\n",
            "55/55 [==============================] - 1s 21ms/step - loss: 5.9931 - mae: 6.3925\n",
            "Epoch 284/500\n",
            "55/55 [==============================] - 1s 22ms/step - loss: 5.9918 - mae: 6.3912\n",
            "Epoch 285/500\n",
            "55/55 [==============================] - 1s 22ms/step - loss: 5.9908 - mae: 6.3902\n",
            "Epoch 286/500\n",
            "55/55 [==============================] - 1s 21ms/step - loss: 5.9884 - mae: 6.3876\n",
            "Epoch 287/500\n",
            "55/55 [==============================] - 1s 23ms/step - loss: 5.9888 - mae: 6.3880\n",
            "Epoch 288/500\n",
            "55/55 [==============================] - 1s 22ms/step - loss: 5.9870 - mae: 6.3862\n",
            "Epoch 289/500\n",
            "55/55 [==============================] - 1s 21ms/step - loss: 5.9867 - mae: 6.3859\n",
            "Epoch 290/500\n",
            "55/55 [==============================] - 1s 22ms/step - loss: 5.9862 - mae: 6.3854\n",
            "Epoch 291/500\n",
            "55/55 [==============================] - 1s 21ms/step - loss: 5.9848 - mae: 6.3839\n",
            "Epoch 292/500\n",
            "55/55 [==============================] - 1s 22ms/step - loss: 5.9849 - mae: 6.3840\n",
            "Epoch 293/500\n",
            "55/55 [==============================] - 1s 21ms/step - loss: 5.9822 - mae: 6.3813\n",
            "Epoch 294/500\n",
            "55/55 [==============================] - 1s 21ms/step - loss: 5.9805 - mae: 6.3795\n",
            "Epoch 295/500\n",
            "55/55 [==============================] - 1s 21ms/step - loss: 5.9789 - mae: 6.3776\n",
            "Epoch 296/500\n",
            "55/55 [==============================] - 1s 23ms/step - loss: 5.9790 - mae: 6.3779\n",
            "Epoch 297/500\n",
            "55/55 [==============================] - 1s 21ms/step - loss: 5.9768 - mae: 6.3756\n",
            "Epoch 298/500\n",
            "55/55 [==============================] - 1s 21ms/step - loss: 5.9778 - mae: 6.3765\n",
            "Epoch 299/500\n",
            "55/55 [==============================] - 1s 22ms/step - loss: 5.9759 - mae: 6.3747\n",
            "Epoch 300/500\n",
            "55/55 [==============================] - 1s 21ms/step - loss: 5.9749 - mae: 6.3737\n",
            "Epoch 301/500\n",
            "55/55 [==============================] - 1s 21ms/step - loss: 5.9731 - mae: 6.3716\n",
            "Epoch 302/500\n",
            "55/55 [==============================] - 1s 22ms/step - loss: 5.9732 - mae: 6.3718\n",
            "Epoch 303/500\n",
            "55/55 [==============================] - 1s 22ms/step - loss: 5.9724 - mae: 6.3710\n",
            "Epoch 304/500\n",
            "55/55 [==============================] - 1s 22ms/step - loss: 5.9698 - mae: 6.3683\n",
            "Epoch 305/500\n",
            "55/55 [==============================] - 1s 21ms/step - loss: 5.9685 - mae: 6.3667\n",
            "Epoch 306/500\n",
            "55/55 [==============================] - 1s 21ms/step - loss: 5.9685 - mae: 6.3668\n",
            "Epoch 307/500\n",
            "55/55 [==============================] - 1s 23ms/step - loss: 5.9680 - mae: 6.3663\n",
            "Epoch 308/500\n",
            "55/55 [==============================] - 1s 22ms/step - loss: 5.9657 - mae: 6.3641\n",
            "Epoch 309/500\n",
            "55/55 [==============================] - 1s 21ms/step - loss: 5.9636 - mae: 6.3618\n",
            "Epoch 310/500\n",
            "55/55 [==============================] - 1s 23ms/step - loss: 5.9620 - mae: 6.3601\n",
            "Epoch 311/500\n",
            "55/55 [==============================] - 1s 22ms/step - loss: 5.9616 - mae: 6.3597\n",
            "Epoch 312/500\n",
            "55/55 [==============================] - 1s 22ms/step - loss: 5.9615 - mae: 6.3598\n",
            "Epoch 313/500\n",
            "55/55 [==============================] - 1s 21ms/step - loss: 5.9602 - mae: 6.3584\n",
            "Epoch 314/500\n",
            "55/55 [==============================] - 1s 22ms/step - loss: 5.9588 - mae: 6.3570\n",
            "Epoch 315/500\n",
            "55/55 [==============================] - 1s 21ms/step - loss: 5.9576 - mae: 6.3557\n",
            "Epoch 316/500\n",
            "55/55 [==============================] - 1s 22ms/step - loss: 5.9573 - mae: 6.3551\n",
            "Epoch 317/500\n",
            "55/55 [==============================] - 1s 21ms/step - loss: 5.9541 - mae: 6.3518\n",
            "Epoch 318/500\n",
            "55/55 [==============================] - 1s 22ms/step - loss: 5.9548 - mae: 6.3525\n",
            "Epoch 319/500\n",
            "55/55 [==============================] - 1s 21ms/step - loss: 5.9531 - mae: 6.3509\n",
            "Epoch 320/500\n",
            "55/55 [==============================] - 1s 22ms/step - loss: 5.9530 - mae: 6.3509\n",
            "Epoch 321/500\n",
            "55/55 [==============================] - 1s 21ms/step - loss: 5.9520 - mae: 6.3497\n",
            "Epoch 322/500\n",
            "55/55 [==============================] - 1s 21ms/step - loss: 5.9502 - mae: 6.3478\n",
            "Epoch 323/500\n",
            "55/55 [==============================] - 1s 23ms/step - loss: 5.9496 - mae: 6.3471\n",
            "Epoch 324/500\n",
            "55/55 [==============================] - 1s 22ms/step - loss: 5.9479 - mae: 6.3453\n",
            "Epoch 325/500\n",
            "55/55 [==============================] - 1s 21ms/step - loss: 5.9463 - mae: 6.3438\n",
            "Epoch 326/500\n",
            "55/55 [==============================] - 1s 22ms/step - loss: 5.9452 - mae: 6.3426\n",
            "Epoch 327/500\n",
            "55/55 [==============================] - 1s 21ms/step - loss: 5.9442 - mae: 6.3412\n",
            "Epoch 328/500\n",
            "55/55 [==============================] - 1s 22ms/step - loss: 5.9436 - mae: 6.3409\n",
            "Epoch 329/500\n",
            "55/55 [==============================] - 1s 22ms/step - loss: 5.9435 - mae: 6.3408\n",
            "Epoch 330/500\n",
            "55/55 [==============================] - 1s 23ms/step - loss: 5.9434 - mae: 6.3408\n",
            "Epoch 331/500\n",
            "55/55 [==============================] - 1s 22ms/step - loss: 5.9423 - mae: 6.3396\n",
            "Epoch 332/500\n",
            "55/55 [==============================] - 1s 21ms/step - loss: 5.9396 - mae: 6.3369\n",
            "Epoch 333/500\n",
            "55/55 [==============================] - 1s 22ms/step - loss: 5.9388 - mae: 6.3360\n",
            "Epoch 334/500\n",
            "55/55 [==============================] - 1s 23ms/step - loss: 5.9385 - mae: 6.3355\n",
            "Epoch 335/500\n",
            "55/55 [==============================] - 1s 21ms/step - loss: 5.9373 - mae: 6.3342\n",
            "Epoch 336/500\n",
            "55/55 [==============================] - 1s 22ms/step - loss: 5.9363 - mae: 6.3332\n",
            "Epoch 337/500\n",
            "55/55 [==============================] - 1s 21ms/step - loss: 5.9358 - mae: 6.3326\n",
            "Epoch 338/500\n",
            "55/55 [==============================] - 1s 22ms/step - loss: 5.9340 - mae: 6.3309\n",
            "Epoch 339/500\n",
            "55/55 [==============================] - 1s 21ms/step - loss: 5.9334 - mae: 6.3301\n",
            "Epoch 340/500\n",
            "55/55 [==============================] - 1s 21ms/step - loss: 5.9316 - mae: 6.3284\n",
            "Epoch 341/500\n",
            "55/55 [==============================] - 1s 22ms/step - loss: 5.9315 - mae: 6.3282\n",
            "Epoch 342/500\n",
            "55/55 [==============================] - 1s 22ms/step - loss: 5.9302 - mae: 6.3268\n",
            "Epoch 343/500\n",
            "55/55 [==============================] - 1s 22ms/step - loss: 5.9300 - mae: 6.3267\n",
            "Epoch 344/500\n",
            "55/55 [==============================] - 1s 21ms/step - loss: 5.9289 - mae: 6.3255\n",
            "Epoch 345/500\n",
            "55/55 [==============================] - 1s 21ms/step - loss: 5.9268 - mae: 6.3232\n",
            "Epoch 346/500\n",
            "55/55 [==============================] - 1s 21ms/step - loss: 5.9262 - mae: 6.3227\n",
            "Epoch 347/500\n",
            "55/55 [==============================] - 1s 21ms/step - loss: 5.9253 - mae: 6.3216\n",
            "Epoch 348/500\n",
            "55/55 [==============================] - 1s 20ms/step - loss: 5.9231 - mae: 6.3195\n",
            "Epoch 349/500\n",
            "55/55 [==============================] - 1s 22ms/step - loss: 5.9225 - mae: 6.3188\n",
            "Epoch 350/500\n",
            "55/55 [==============================] - 1s 22ms/step - loss: 5.9218 - mae: 6.3181\n",
            "Epoch 351/500\n",
            "55/55 [==============================] - 1s 22ms/step - loss: 5.9225 - mae: 6.3190\n",
            "Epoch 352/500\n",
            "55/55 [==============================] - 1s 22ms/step - loss: 5.9200 - mae: 6.3162\n",
            "Epoch 353/500\n",
            "55/55 [==============================] - 1s 22ms/step - loss: 5.9192 - mae: 6.3154\n",
            "Epoch 354/500\n",
            "55/55 [==============================] - 1s 23ms/step - loss: 5.9192 - mae: 6.3157\n",
            "Epoch 355/500\n",
            "55/55 [==============================] - 1s 22ms/step - loss: 5.9168 - mae: 6.3129\n",
            "Epoch 356/500\n",
            "55/55 [==============================] - 1s 22ms/step - loss: 5.9171 - mae: 6.3129\n",
            "Epoch 357/500\n",
            "55/55 [==============================] - 1s 22ms/step - loss: 5.9163 - mae: 6.3124\n",
            "Epoch 358/500\n",
            "55/55 [==============================] - 1s 21ms/step - loss: 5.9158 - mae: 6.3118\n",
            "Epoch 359/500\n",
            "55/55 [==============================] - 1s 23ms/step - loss: 5.9146 - mae: 6.3108\n",
            "Epoch 360/500\n",
            "55/55 [==============================] - 1s 22ms/step - loss: 5.9133 - mae: 6.3093\n",
            "Epoch 361/500\n",
            "55/55 [==============================] - 1s 22ms/step - loss: 5.9128 - mae: 6.3086\n",
            "Epoch 362/500\n",
            "55/55 [==============================] - 1s 22ms/step - loss: 5.9118 - mae: 6.3077\n",
            "Epoch 363/500\n",
            "55/55 [==============================] - 1s 21ms/step - loss: 5.9111 - mae: 6.3071\n",
            "Epoch 364/500\n",
            "55/55 [==============================] - 1s 23ms/step - loss: 5.9111 - mae: 6.3067\n",
            "Epoch 365/500\n",
            "55/55 [==============================] - 1s 23ms/step - loss: 5.9087 - mae: 6.3044\n",
            "Epoch 366/500\n",
            "55/55 [==============================] - 1s 22ms/step - loss: 5.9079 - mae: 6.3037\n",
            "Epoch 367/500\n",
            "55/55 [==============================] - 1s 21ms/step - loss: 5.9072 - mae: 6.3027\n",
            "Epoch 368/500\n",
            "55/55 [==============================] - 1s 23ms/step - loss: 5.9068 - mae: 6.3023\n",
            "Epoch 369/500\n",
            "55/55 [==============================] - 1s 22ms/step - loss: 5.9056 - mae: 6.3011\n",
            "Epoch 370/500\n",
            "55/55 [==============================] - 1s 21ms/step - loss: 5.9048 - mae: 6.3003\n",
            "Epoch 371/500\n",
            "55/55 [==============================] - 1s 22ms/step - loss: 5.9027 - mae: 6.2979\n",
            "Epoch 372/500\n",
            "55/55 [==============================] - 1s 22ms/step - loss: 5.9016 - mae: 6.2970\n",
            "Epoch 373/500\n",
            "55/55 [==============================] - 1s 22ms/step - loss: 5.9015 - mae: 6.2968\n",
            "Epoch 374/500\n",
            "55/55 [==============================] - 1s 22ms/step - loss: 5.9012 - mae: 6.2965\n",
            "Epoch 375/500\n",
            "55/55 [==============================] - 1s 22ms/step - loss: 5.9001 - mae: 6.2953\n",
            "Epoch 376/500\n",
            "55/55 [==============================] - 1s 21ms/step - loss: 5.8982 - mae: 6.2934\n",
            "Epoch 377/500\n",
            "55/55 [==============================] - 1s 22ms/step - loss: 5.8972 - mae: 6.2924\n",
            "Epoch 378/500\n",
            "55/55 [==============================] - 1s 21ms/step - loss: 5.8973 - mae: 6.2925\n",
            "Epoch 379/500\n",
            "55/55 [==============================] - 1s 22ms/step - loss: 5.8967 - mae: 6.2918\n",
            "Epoch 380/500\n",
            "55/55 [==============================] - 1s 22ms/step - loss: 5.8952 - mae: 6.2904\n",
            "Epoch 381/500\n",
            "55/55 [==============================] - 1s 21ms/step - loss: 5.8946 - mae: 6.2897\n",
            "Epoch 382/500\n",
            "55/55 [==============================] - 1s 23ms/step - loss: 5.8930 - mae: 6.2880\n",
            "Epoch 383/500\n",
            "55/55 [==============================] - 1s 23ms/step - loss: 5.8926 - mae: 6.2875\n",
            "Epoch 384/500\n",
            "55/55 [==============================] - 1s 22ms/step - loss: 5.8905 - mae: 6.2854\n",
            "Epoch 385/500\n",
            "55/55 [==============================] - 1s 23ms/step - loss: 5.8905 - mae: 6.2854\n",
            "Epoch 386/500\n",
            "55/55 [==============================] - 1s 23ms/step - loss: 5.8893 - mae: 6.2842\n",
            "Epoch 387/500\n",
            "55/55 [==============================] - 1s 22ms/step - loss: 5.8884 - mae: 6.2830\n",
            "Epoch 388/500\n",
            "55/55 [==============================] - 1s 23ms/step - loss: 5.8881 - mae: 6.2829\n",
            "Epoch 389/500\n",
            "55/55 [==============================] - 1s 22ms/step - loss: 5.8873 - mae: 6.2819\n",
            "Epoch 390/500\n",
            "55/55 [==============================] - 1s 22ms/step - loss: 5.8869 - mae: 6.2816\n",
            "Epoch 391/500\n",
            "55/55 [==============================] - 1s 22ms/step - loss: 5.8853 - mae: 6.2800\n",
            "Epoch 392/500\n",
            "55/55 [==============================] - 1s 23ms/step - loss: 5.8839 - mae: 6.2784\n",
            "Epoch 393/500\n",
            "55/55 [==============================] - 1s 22ms/step - loss: 5.8831 - mae: 6.2774\n",
            "Epoch 394/500\n",
            "55/55 [==============================] - 1s 22ms/step - loss: 5.8821 - mae: 6.2763\n",
            "Epoch 395/500\n",
            "55/55 [==============================] - 1s 23ms/step - loss: 5.8817 - mae: 6.2762\n",
            "Epoch 396/500\n",
            "55/55 [==============================] - 1s 22ms/step - loss: 5.8807 - mae: 6.2750\n",
            "Epoch 397/500\n",
            "55/55 [==============================] - 1s 21ms/step - loss: 5.8814 - mae: 6.2759\n",
            "Epoch 398/500\n",
            "55/55 [==============================] - 1s 24ms/step - loss: 5.8793 - mae: 6.2736\n",
            "Epoch 399/500\n",
            "55/55 [==============================] - 1s 22ms/step - loss: 5.8790 - mae: 6.2732\n",
            "Epoch 400/500\n",
            "55/55 [==============================] - 1s 23ms/step - loss: 5.8776 - mae: 6.2718\n",
            "Epoch 401/500\n",
            "55/55 [==============================] - 1s 22ms/step - loss: 5.8764 - mae: 6.2705\n",
            "Epoch 402/500\n",
            "55/55 [==============================] - 1s 23ms/step - loss: 5.8764 - mae: 6.2707\n",
            "Epoch 403/500\n",
            "55/55 [==============================] - 1s 22ms/step - loss: 5.8751 - mae: 6.2692\n",
            "Epoch 404/500\n",
            "55/55 [==============================] - 1s 22ms/step - loss: 5.8744 - mae: 6.2685\n",
            "Epoch 405/500\n",
            "55/55 [==============================] - 1s 22ms/step - loss: 5.8731 - mae: 6.2671\n",
            "Epoch 406/500\n",
            "55/55 [==============================] - 1s 22ms/step - loss: 5.8731 - mae: 6.2669\n",
            "Epoch 407/500\n",
            "55/55 [==============================] - 1s 22ms/step - loss: 5.8704 - mae: 6.2643\n",
            "Epoch 408/500\n",
            "55/55 [==============================] - 1s 22ms/step - loss: 5.8709 - mae: 6.2647\n",
            "Epoch 409/500\n",
            "55/55 [==============================] - 1s 22ms/step - loss: 5.8696 - mae: 6.2634\n",
            "Epoch 410/500\n",
            "55/55 [==============================] - 1s 22ms/step - loss: 5.8687 - mae: 6.2626\n",
            "Epoch 411/500\n",
            "55/55 [==============================] - 1s 22ms/step - loss: 5.8691 - mae: 6.2627\n",
            "Epoch 412/500\n",
            "55/55 [==============================] - 1s 22ms/step - loss: 5.8668 - mae: 6.2607\n",
            "Epoch 413/500\n",
            "55/55 [==============================] - 1s 22ms/step - loss: 5.8666 - mae: 6.2604\n",
            "Epoch 414/500\n",
            "55/55 [==============================] - 1s 21ms/step - loss: 5.8653 - mae: 6.2588\n",
            "Epoch 415/500\n",
            "55/55 [==============================] - 1s 22ms/step - loss: 5.8646 - mae: 6.2581\n",
            "Epoch 416/500\n",
            "55/55 [==============================] - 1s 24ms/step - loss: 5.8633 - mae: 6.2567\n",
            "Epoch 417/500\n",
            "55/55 [==============================] - 1s 23ms/step - loss: 5.8624 - mae: 6.2557\n",
            "Epoch 418/500\n",
            "55/55 [==============================] - 1s 22ms/step - loss: 5.8618 - mae: 6.2553\n",
            "Epoch 419/500\n",
            "55/55 [==============================] - 1s 23ms/step - loss: 5.8610 - mae: 6.2545\n",
            "Epoch 420/500\n",
            "55/55 [==============================] - 1s 22ms/step - loss: 5.8606 - mae: 6.2540\n",
            "Epoch 421/500\n",
            "55/55 [==============================] - 1s 22ms/step - loss: 5.8606 - mae: 6.2541\n",
            "Epoch 422/500\n",
            "55/55 [==============================] - 1s 22ms/step - loss: 5.8595 - mae: 6.2528\n",
            "Epoch 423/500\n",
            "55/55 [==============================] - 1s 23ms/step - loss: 5.8586 - mae: 6.2519\n",
            "Epoch 424/500\n",
            "55/55 [==============================] - 1s 21ms/step - loss: 5.8577 - mae: 6.2507\n",
            "Epoch 425/500\n",
            "55/55 [==============================] - 1s 22ms/step - loss: 5.8561 - mae: 6.2491\n",
            "Epoch 426/500\n",
            "55/55 [==============================] - 1s 22ms/step - loss: 5.8557 - mae: 6.2489\n",
            "Epoch 427/500\n",
            "55/55 [==============================] - 1s 21ms/step - loss: 5.8551 - mae: 6.2482\n",
            "Epoch 428/500\n",
            "55/55 [==============================] - 1s 23ms/step - loss: 5.8546 - mae: 6.2476\n",
            "Epoch 429/500\n",
            "55/55 [==============================] - 1s 23ms/step - loss: 5.8532 - mae: 6.2461\n",
            "Epoch 430/500\n",
            "55/55 [==============================] - 1s 22ms/step - loss: 5.8536 - mae: 6.2469\n",
            "Epoch 431/500\n",
            "55/55 [==============================] - 1s 22ms/step - loss: 5.8528 - mae: 6.2458\n",
            "Epoch 432/500\n",
            "55/55 [==============================] - 1s 22ms/step - loss: 5.8517 - mae: 6.2448\n",
            "Epoch 433/500\n",
            "55/55 [==============================] - 1s 23ms/step - loss: 5.8510 - mae: 6.2439\n",
            "Epoch 434/500\n",
            "55/55 [==============================] - 1s 23ms/step - loss: 5.8501 - mae: 6.2429\n",
            "Epoch 435/500\n",
            "55/55 [==============================] - 1s 22ms/step - loss: 5.8499 - mae: 6.2428\n",
            "Epoch 436/500\n",
            "55/55 [==============================] - 1s 22ms/step - loss: 5.8487 - mae: 6.2416\n",
            "Epoch 437/500\n",
            "55/55 [==============================] - 1s 23ms/step - loss: 5.8490 - mae: 6.2420\n",
            "Epoch 438/500\n",
            "55/55 [==============================] - 1s 23ms/step - loss: 5.8476 - mae: 6.2404\n",
            "Epoch 439/500\n",
            "55/55 [==============================] - 1s 22ms/step - loss: 5.8452 - mae: 6.2377\n",
            "Epoch 440/500\n",
            "55/55 [==============================] - 1s 21ms/step - loss: 5.8444 - mae: 6.2368\n",
            "Epoch 441/500\n",
            "55/55 [==============================] - 1s 24ms/step - loss: 5.8447 - mae: 6.2375\n",
            "Epoch 442/500\n",
            "55/55 [==============================] - 1s 22ms/step - loss: 5.8436 - mae: 6.2362\n",
            "Epoch 443/500\n",
            "55/55 [==============================] - 1s 22ms/step - loss: 5.8433 - mae: 6.2361\n",
            "Epoch 444/500\n",
            "55/55 [==============================] - 1s 22ms/step - loss: 5.8423 - mae: 6.2348\n",
            "Epoch 445/500\n",
            "55/55 [==============================] - 1s 23ms/step - loss: 5.8410 - mae: 6.2335\n",
            "Epoch 446/500\n",
            "55/55 [==============================] - 1s 23ms/step - loss: 5.8400 - mae: 6.2323\n",
            "Epoch 447/500\n",
            "55/55 [==============================] - 1s 22ms/step - loss: 5.8401 - mae: 6.2324\n",
            "Epoch 448/500\n",
            "55/55 [==============================] - 1s 24ms/step - loss: 5.8390 - mae: 6.2315\n",
            "Epoch 449/500\n",
            "55/55 [==============================] - 1s 22ms/step - loss: 5.8386 - mae: 6.2309\n",
            "Epoch 450/500\n",
            "55/55 [==============================] - 1s 23ms/step - loss: 5.8365 - mae: 6.2288\n",
            "Epoch 451/500\n",
            "55/55 [==============================] - 1s 23ms/step - loss: 5.8368 - mae: 6.2292\n",
            "Epoch 452/500\n",
            "55/55 [==============================] - 1s 22ms/step - loss: 5.8356 - mae: 6.2279\n",
            "Epoch 453/500\n",
            "55/55 [==============================] - 1s 22ms/step - loss: 5.8354 - mae: 6.2277\n",
            "Epoch 454/500\n",
            "55/55 [==============================] - 1s 21ms/step - loss: 5.8345 - mae: 6.2265\n",
            "Epoch 455/500\n",
            "55/55 [==============================] - 1s 21ms/step - loss: 5.8334 - mae: 6.2256\n",
            "Epoch 456/500\n",
            "55/55 [==============================] - 1s 22ms/step - loss: 5.8329 - mae: 6.2253\n",
            "Epoch 457/500\n",
            "55/55 [==============================] - 1s 22ms/step - loss: 5.8334 - mae: 6.2258\n",
            "Epoch 458/500\n",
            "55/55 [==============================] - 1s 23ms/step - loss: 5.8318 - mae: 6.2239\n",
            "Epoch 459/500\n",
            "55/55 [==============================] - 1s 21ms/step - loss: 5.8312 - mae: 6.2234\n",
            "Epoch 460/500\n",
            "55/55 [==============================] - 1s 23ms/step - loss: 5.8312 - mae: 6.2234\n",
            "Epoch 461/500\n",
            "55/55 [==============================] - 1s 22ms/step - loss: 5.8303 - mae: 6.2226\n",
            "Epoch 462/500\n",
            "55/55 [==============================] - 1s 22ms/step - loss: 5.8293 - mae: 6.2212\n",
            "Epoch 463/500\n",
            "55/55 [==============================] - 1s 21ms/step - loss: 5.8293 - mae: 6.2213\n",
            "Epoch 464/500\n",
            "55/55 [==============================] - 1s 21ms/step - loss: 5.8286 - mae: 6.2207\n",
            "Epoch 465/500\n",
            "55/55 [==============================] - 1s 22ms/step - loss: 5.8273 - mae: 6.2193\n",
            "Epoch 466/500\n",
            "55/55 [==============================] - 1s 22ms/step - loss: 5.8265 - mae: 6.2185\n",
            "Epoch 467/500\n",
            "55/55 [==============================] - 1s 21ms/step - loss: 5.8257 - mae: 6.2175\n",
            "Epoch 468/500\n",
            "55/55 [==============================] - 1s 22ms/step - loss: 5.8255 - mae: 6.2175\n",
            "Epoch 469/500\n",
            "55/55 [==============================] - 1s 21ms/step - loss: 5.8241 - mae: 6.2159\n",
            "Epoch 470/500\n",
            "55/55 [==============================] - 1s 23ms/step - loss: 5.8228 - mae: 6.2145\n",
            "Epoch 471/500\n",
            "55/55 [==============================] - 1s 22ms/step - loss: 5.8228 - mae: 6.2147\n",
            "Epoch 472/500\n",
            "55/55 [==============================] - 1s 22ms/step - loss: 5.8221 - mae: 6.2139\n",
            "Epoch 473/500\n",
            "55/55 [==============================] - 1s 23ms/step - loss: 5.8208 - mae: 6.2126\n",
            "Epoch 474/500\n",
            "55/55 [==============================] - 1s 23ms/step - loss: 5.8199 - mae: 6.2114\n",
            "Epoch 475/500\n",
            "55/55 [==============================] - 1s 22ms/step - loss: 5.8191 - mae: 6.2106\n",
            "Epoch 476/500\n",
            "55/55 [==============================] - 1s 22ms/step - loss: 5.8198 - mae: 6.2117\n",
            "Epoch 477/500\n",
            "55/55 [==============================] - 1s 22ms/step - loss: 5.8191 - mae: 6.2106\n",
            "Epoch 478/500\n",
            "55/55 [==============================] - 1s 23ms/step - loss: 5.8176 - mae: 6.2091\n",
            "Epoch 479/500\n",
            "55/55 [==============================] - 1s 22ms/step - loss: 5.8175 - mae: 6.2091\n",
            "Epoch 480/500\n",
            "55/55 [==============================] - 1s 22ms/step - loss: 5.8163 - mae: 6.2077\n",
            "Epoch 481/500\n",
            "55/55 [==============================] - 1s 22ms/step - loss: 5.8154 - mae: 6.2069\n",
            "Epoch 482/500\n",
            "55/55 [==============================] - 1s 23ms/step - loss: 5.8155 - mae: 6.2068\n",
            "Epoch 483/500\n",
            "55/55 [==============================] - 1s 22ms/step - loss: 5.8143 - mae: 6.2056\n",
            "Epoch 484/500\n",
            "55/55 [==============================] - 1s 22ms/step - loss: 5.8140 - mae: 6.2053\n",
            "Epoch 485/500\n",
            "55/55 [==============================] - 1s 22ms/step - loss: 5.8132 - mae: 6.2046\n",
            "Epoch 486/500\n",
            "55/55 [==============================] - 1s 22ms/step - loss: 5.8121 - mae: 6.2032\n",
            "Epoch 487/500\n",
            "55/55 [==============================] - 1s 22ms/step - loss: 5.8124 - mae: 6.2036\n",
            "Epoch 488/500\n",
            "55/55 [==============================] - 1s 22ms/step - loss: 5.8113 - mae: 6.2025\n",
            "Epoch 489/500\n",
            "55/55 [==============================] - 1s 21ms/step - loss: 5.8102 - mae: 6.2015\n",
            "Epoch 490/500\n",
            "55/55 [==============================] - 1s 24ms/step - loss: 5.8093 - mae: 6.2005\n",
            "Epoch 491/500\n",
            "55/55 [==============================] - 1s 23ms/step - loss: 5.8090 - mae: 6.2001\n",
            "Epoch 492/500\n",
            "55/55 [==============================] - 1s 21ms/step - loss: 5.8081 - mae: 6.1994\n",
            "Epoch 493/500\n",
            "55/55 [==============================] - 1s 23ms/step - loss: 5.8077 - mae: 6.1990\n",
            "Epoch 494/500\n",
            "55/55 [==============================] - 1s 23ms/step - loss: 5.8082 - mae: 6.1993\n",
            "Epoch 495/500\n",
            "55/55 [==============================] - 1s 22ms/step - loss: 5.8070 - mae: 6.1982\n",
            "Epoch 496/500\n",
            "55/55 [==============================] - 1s 23ms/step - loss: 5.8063 - mae: 6.1975\n",
            "Epoch 497/500\n",
            "55/55 [==============================] - 1s 22ms/step - loss: 5.8058 - mae: 6.1967\n",
            "Epoch 498/500\n",
            "55/55 [==============================] - 1s 21ms/step - loss: 5.8046 - mae: 6.1956\n",
            "Epoch 499/500\n",
            "55/55 [==============================] - 1s 22ms/step - loss: 5.8036 - mae: 6.1945\n",
            "Epoch 500/500\n",
            "55/55 [==============================] - 1s 22ms/step - loss: 5.8034 - mae: 6.1943\n"
          ],
          "name": "stdout"
        }
      ]
    },
    {
      "cell_type": "code",
      "metadata": {
        "colab": {
          "base_uri": "https://localhost:8080/"
        },
        "id": "V1FbQjzB-egq",
        "outputId": "3018281e-53b0-4469-c1b1-60e0483c8537"
      },
      "source": [
        "model.summary()"
      ],
      "execution_count": 211,
      "outputs": [
        {
          "output_type": "stream",
          "text": [
            "Model: \"sequential\"\n",
            "_________________________________________________________________\n",
            "Layer (type)                 Output Shape              Param #   \n",
            "=================================================================\n",
            "conv1d (Conv1D)              (None, None, 60)          1260      \n",
            "_________________________________________________________________\n",
            "lstm (LSTM)                  (None, None, 60)          29040     \n",
            "_________________________________________________________________\n",
            "lstm_1 (LSTM)                (None, None, 60)          29040     \n",
            "_________________________________________________________________\n",
            "time_distributed (TimeDistri (None, None, 30)          1830      \n",
            "_________________________________________________________________\n",
            "time_distributed_1 (TimeDist (None, None, 10)          310       \n",
            "_________________________________________________________________\n",
            "dense_2 (Dense)              (None, None, 4)           44        \n",
            "_________________________________________________________________\n",
            "lambda (Lambda)              (None, None, 4)           0         \n",
            "=================================================================\n",
            "Total params: 61,524\n",
            "Trainable params: 61,524\n",
            "Non-trainable params: 0\n",
            "_________________________________________________________________\n"
          ],
          "name": "stdout"
        }
      ]
    },
    {
      "cell_type": "code",
      "metadata": {
        "colab": {
          "base_uri": "https://localhost:8080/"
        },
        "id": "Ufo1O5S_g3sS",
        "outputId": "f4b23e57-0367-471f-e33c-c0f1e1ae5b52"
      },
      "source": [
        "series.shape"
      ],
      "execution_count": 115,
      "outputs": [
        {
          "output_type": "execute_result",
          "data": {
            "text/plain": [
              "(8040,)"
            ]
          },
          "metadata": {
            "tags": []
          },
          "execution_count": 115
        }
      ]
    },
    {
      "cell_type": "code",
      "metadata": {
        "colab": {
          "base_uri": "https://localhost:8080/"
        },
        "id": "RYsGkhcYXV5T",
        "outputId": "ff311c62-a2be-4cbf-9b8b-5488a90a3106"
      },
      "source": [
        "series_new.shape"
      ],
      "execution_count": 116,
      "outputs": [
        {
          "output_type": "execute_result",
          "data": {
            "text/plain": [
              "(8040, 4)"
            ]
          },
          "metadata": {
            "tags": []
          },
          "execution_count": 116
        }
      ]
    },
    {
      "cell_type": "code",
      "metadata": {
        "id": "ReGCA4FeXYu2"
      },
      "source": [
        "def model_forecast(model, series, window_size):\n",
        "    ds = tf.data.Dataset.from_tensor_slices(series)\n",
        "    ds = ds.window(window_size, shift=1, drop_remainder=True)\n",
        "    ds = ds.flat_map(lambda w: w.batch(window_size))\n",
        "    ds = ds.batch(32).prefetch(1)\n",
        "    forecast = model.predict(ds)\n",
        "    return forecast"
      ],
      "execution_count": 212,
      "outputs": []
    },
    {
      "cell_type": "code",
      "metadata": {
        "id": "FbWVCPfNfCLM"
      },
      "source": [
        "rnn_forecast_total = model_forecast(model, series_new, window_size)\n",
        "rnn_forecast = model_forecast(model, x_valid, window_size)"
      ],
      "execution_count": 213,
      "outputs": []
    },
    {
      "cell_type": "code",
      "metadata": {
        "id": "315hEz_YlDl9",
        "colab": {
          "base_uri": "https://localhost:8080/"
        },
        "outputId": "a2450b08-181d-4445-a0bf-43389d18e712"
      },
      "source": [
        "#print(\"train_set shape ={}\".format(len(train_set)))\n",
        "print(\"rnn_forecast shape ={}\".format(rnn_forecast.shape))\n",
        "print(\"rnn_forecast_total shape ={}\".format(rnn_forecast_total.shape))"
      ],
      "execution_count": 214,
      "outputs": [
        {
          "output_type": "stream",
          "text": [
            "rnn_forecast shape =(969, 72, 4)\n",
            "rnn_forecast_total shape =(7969, 72, 4)\n"
          ],
          "name": "stdout"
        }
      ]
    },
    {
      "cell_type": "code",
      "metadata": {
        "id": "OAfY5MFU9Z9z"
      },
      "source": [
        "rnn_forecast_totalpoints = rnn_forecast[:, :, :]"
      ],
      "execution_count": 215,
      "outputs": []
    },
    {
      "cell_type": "code",
      "metadata": {
        "colab": {
          "base_uri": "https://localhost:8080/"
        },
        "id": "8Uy5QDMG9f2a",
        "outputId": "c815ab3e-e0d8-432d-fb62-099f75a087ad"
      },
      "source": [
        "rnn_forecast_totalpoints.shape"
      ],
      "execution_count": 216,
      "outputs": [
        {
          "output_type": "execute_result",
          "data": {
            "text/plain": [
              "(969, 72, 4)"
            ]
          },
          "metadata": {
            "tags": []
          },
          "execution_count": 216
        }
      ]
    },
    {
      "cell_type": "code",
      "metadata": {
        "id": "6---TkjClWiZ"
      },
      "source": [
        "rnn_forecast_1d = rnn_forecast[:, -1, 0]"
      ],
      "execution_count": 217,
      "outputs": []
    },
    {
      "cell_type": "code",
      "metadata": {
        "id": "AC_nOHUaiULi",
        "colab": {
          "base_uri": "https://localhost:8080/"
        },
        "outputId": "121f2fcc-4c43-4142-dc8b-173479e75935"
      },
      "source": [
        "rnn_forecast_1d.shape"
      ],
      "execution_count": 218,
      "outputs": [
        {
          "output_type": "execute_result",
          "data": {
            "text/plain": [
              "(969,)"
            ]
          },
          "metadata": {
            "tags": []
          },
          "execution_count": 218
        }
      ]
    },
    {
      "cell_type": "code",
      "metadata": {
        "colab": {
          "base_uri": "https://localhost:8080/"
        },
        "id": "hpjRr0XoghNA",
        "outputId": "01fddb0d-f7ab-4afa-f43f-f07ba84f33d3"
      },
      "source": [
        "rnn_forecast_total[:-1,-1,0].shape"
      ],
      "execution_count": 219,
      "outputs": [
        {
          "output_type": "execute_result",
          "data": {
            "text/plain": [
              "(7968,)"
            ]
          },
          "metadata": {
            "tags": []
          },
          "execution_count": 219
        }
      ]
    },
    {
      "cell_type": "code",
      "metadata": {
        "colab": {
          "base_uri": "https://localhost:8080/"
        },
        "id": "LUdYjGRUgnWP",
        "outputId": "881f6648-2c4c-4bbc-dd66-8a9835520b32"
      },
      "source": [
        "split_time - window_size"
      ],
      "execution_count": 220,
      "outputs": [
        {
          "output_type": "execute_result",
          "data": {
            "text/plain": [
              "6928"
            ]
          },
          "metadata": {
            "tags": []
          },
          "execution_count": 220
        }
      ]
    },
    {
      "cell_type": "code",
      "metadata": {
        "id": "4Gfhea7CfU9e"
      },
      "source": [
        "rnn_forecast_total_1d = rnn_forecast_total[split_time - window_size:-1,-1,0]"
      ],
      "execution_count": 221,
      "outputs": []
    },
    {
      "cell_type": "code",
      "metadata": {
        "colab": {
          "base_uri": "https://localhost:8080/"
        },
        "id": "BtRI1klsffTw",
        "outputId": "6ba0a6ad-4f67-4b53-a9fe-42b699ed8544"
      },
      "source": [
        "rnn_forecast_total_1d.shape"
      ],
      "execution_count": 222,
      "outputs": [
        {
          "output_type": "execute_result",
          "data": {
            "text/plain": [
              "(1040,)"
            ]
          },
          "metadata": {
            "tags": []
          },
          "execution_count": 222
        }
      ]
    },
    {
      "cell_type": "code",
      "metadata": {
        "colab": {
          "base_uri": "https://localhost:8080/"
        },
        "id": "V3bwqoi_gx0Y",
        "outputId": "6c7d0bcb-80df-4f77-b668-cb670dd7741d"
      },
      "source": [
        "time_valid.shape"
      ],
      "execution_count": 223,
      "outputs": [
        {
          "output_type": "execute_result",
          "data": {
            "text/plain": [
              "(1040,)"
            ]
          },
          "metadata": {
            "tags": []
          },
          "execution_count": 223
        }
      ]
    },
    {
      "cell_type": "code",
      "metadata": {
        "colab": {
          "base_uri": "https://localhost:8080/"
        },
        "id": "NNjokOKujVz1",
        "outputId": "b0167085-eedd-4558-d392-ceb5df0ec71a"
      },
      "source": [
        "x_valid.shape"
      ],
      "execution_count": 224,
      "outputs": [
        {
          "output_type": "execute_result",
          "data": {
            "text/plain": [
              "(1040, 4)"
            ]
          },
          "metadata": {
            "tags": []
          },
          "execution_count": 224
        }
      ]
    },
    {
      "cell_type": "code",
      "metadata": {
        "id": "DVGSuI6GhC7Z"
      },
      "source": [
        "# last_value = rnn_forecast[-1,:,:]\n",
        "# next_pred = model_forecast(model, last_value, window_size)"
      ],
      "execution_count": null,
      "outputs": []
    },
    {
      "cell_type": "code",
      "metadata": {
        "colab": {
          "base_uri": "https://localhost:8080/",
          "height": 386
        },
        "id": "XXxKSZUZfCIi",
        "outputId": "6c7238dc-3376-4e51-885a-3855ac3e30f3"
      },
      "source": [
        "x_valid_maxcpu = x_valid[:,0]\n",
        "plt.figure(figsize=(10, 6))\n",
        "plot_series(time_valid, x_valid_maxcpu)\n",
        "plot_series(time_valid, rnn_forecast_total_1d)"
      ],
      "execution_count": 228,
      "outputs": [
        {
          "output_type": "display_data",
          "data": {
            "image/png": "[encoded data removed]",
            "text/plain": [
              "<Figure size 720x432 with 1 Axes>"
            ]
          },
          "metadata": {
            "tags": [],
            "needs_background": "light"
          }
        }
      ]
    },
    {
      "cell_type": "code",
      "metadata": {
        "colab": {
          "base_uri": "https://localhost:8080/",
          "height": 386
        },
        "id": "zaFN-YDhfCF6",
        "outputId": "2d5b9c32-6cf3-44fe-c978-9b13030da795"
      },
      "source": [
        "plt.figure(figsize=(10, 6))\n",
        "plot_series(time_valid[-288:], x_valid_maxcpu[-288:])\n",
        "plot_series(time_valid[-288:], rnn_forecast_1d[-288:])"
      ],
      "execution_count": 229,
      "outputs": [
        {
          "output_type": "display_data",
          "data": {
            "image/png": "[encoded data removed]",
            "text/plain": [
              "<Figure size 720x432 with 1 Axes>"
            ]
          },
          "metadata": {
            "tags": [],
            "needs_background": "light"
          }
        }
      ]
    },
    {
      "cell_type": "code",
      "metadata": {
        "id": "-5HvGTigfCDI",
        "colab": {
          "base_uri": "https://localhost:8080/",
          "height": 386
        },
        "outputId": "4d50d41d-cf96-4ae7-9f85-d7bff4e3d670"
      },
      "source": [
        "plt.figure(figsize=(10, 6))\n",
        "plot_series(time_valid[-24:], x_valid_maxcpu[-24:])\n",
        "plot_series(time_valid[-24:], rnn_forecast_1d[-24:])"
      ],
      "execution_count": 230,
      "outputs": [
        {
          "output_type": "display_data",
          "data": {
            "image/png": "[encoded data removed]",
            "text/plain": [
              "<Figure size 720x432 with 1 Axes>"
            ]
          },
          "metadata": {
            "tags": [],
            "needs_background": "light"
          }
        }
      ]
    },
    {
      "cell_type": "code",
      "metadata": {
        "id": "N-FqUY3GfCAf"
      },
      "source": [
        "#get the last_value from the predictions on the test set and add back the array to the input\n",
        "\n",
        "last_value = rnn_forecast_totalpoints[-1,:,:]\n"
      ],
      "execution_count": 231,
      "outputs": []
    },
    {
      "cell_type": "code",
      "metadata": {
        "id": "-UwGdPUufB9p",
        "colab": {
          "base_uri": "https://localhost:8080/"
        },
        "outputId": "dcc138ec-1fbc-4710-cdf9-df67a362da33"
      },
      "source": [
        "last_value.shape"
      ],
      "execution_count": 232,
      "outputs": [
        {
          "output_type": "execute_result",
          "data": {
            "text/plain": [
              "(72, 4)"
            ]
          },
          "metadata": {
            "tags": []
          },
          "execution_count": 232
        }
      ]
    },
    {
      "cell_type": "code",
      "metadata": {
        "colab": {
          "base_uri": "https://localhost:8080/"
        },
        "id": "T_v1B-57_MPD",
        "outputId": "1bf2288f-57f1-43d2-ae50-147ef94fc32a"
      },
      "source": [
        "last_value"
      ],
      "execution_count": 233,
      "outputs": [
        {
          "output_type": "execute_result",
          "data": {
            "text/plain": [
              "array([[ 2.77894878e+00, -2.62087202e+00,  1.77983344e+00,\n",
              "         7.51242981e+01],\n",
              "       [ 5.90851688e+00, -1.50536501e+00, -1.43474340e+00,\n",
              "         6.64503098e+01],\n",
              "       [ 2.26110816e+00, -1.21782815e+00,  1.96992016e+00,\n",
              "         8.34003067e+01],\n",
              "       [ 5.92533731e+00,  1.52893424e+00,  1.08776016e+01,\n",
              "         8.18152161e+01],\n",
              "       [ 7.62647009e+00,  3.57689530e-01,  5.50521898e+00,\n",
              "         7.36062164e+01],\n",
              "       [ 8.40721321e+00, -5.12162387e-01,  1.58132172e+00,\n",
              "         7.27677536e+01],\n",
              "       [ 7.40877771e+00, -8.75722826e-01, -2.99878716e+00,\n",
              "         6.40536346e+01],\n",
              "       [ 6.70521545e+00,  2.14609131e-01,  2.79052114e+00,\n",
              "         6.87426071e+01],\n",
              "       [ 6.78333330e+00,  1.83521956e-01,  2.54356122e+00,\n",
              "         6.74362793e+01],\n",
              "       [ 6.09550762e+00,  4.82825562e-02,  1.47776008e+00,\n",
              "         7.19849854e+01],\n",
              "       [ 5.34014463e+00,  1.23856775e-01,  1.54310608e+00,\n",
              "         7.68486481e+01],\n",
              "       [ 5.12607193e+00,  3.86759639e-03,  8.87039304e-01,\n",
              "         7.90786362e+01],\n",
              "       [ 4.77120066e+00,  2.00817361e-02,  7.07685947e-01,\n",
              "         8.06177979e+01],\n",
              "       [ 4.33372116e+00,  4.21782956e-02,  6.09198213e-01,\n",
              "         8.33246002e+01],\n",
              "       [ 4.04780960e+00,  3.95730138e-02,  3.81079316e-01,\n",
              "         8.45942307e+01],\n",
              "       [ 3.81324077e+00,  3.30593437e-02,  4.31686640e-02,\n",
              "         8.47136536e+01],\n",
              "       [ 3.14832640e+00,  3.78174722e-01,  4.34862077e-01,\n",
              "         8.00513611e+01],\n",
              "       [ 3.81100249e+00,  3.80409122e-01,  1.51511884e+00,\n",
              "         8.12921371e+01],\n",
              "       [ 4.03377867e+00,  6.20552540e-01,  1.72516561e+00,\n",
              "         7.08086166e+01],\n",
              "       [ 5.83244324e+00,  1.10826862e+00,  5.54375076e+00,\n",
              "         6.09690056e+01],\n",
              "       [ 8.07164192e+00,  6.30317092e-01,  6.53619003e+00,\n",
              "         6.55901108e+01],\n",
              "       [ 7.50174522e+00,  6.23533845e-01,  4.03250742e+00,\n",
              "         5.32212486e+01],\n",
              "       [ 6.69418335e+00,  6.11132205e-01,  4.03727579e+00,\n",
              "         6.17540169e+01],\n",
              "       [ 6.97661543e+00,  1.01770461e+00,  6.83473206e+00,\n",
              "         6.27762566e+01],\n",
              "       [ 7.19467020e+00,  6.34072542e-01,  5.93208361e+00,\n",
              "         6.97026367e+01],\n",
              "       [ 5.85079193e+00,  7.39406049e-01,  5.49716520e+00,\n",
              "         7.55201874e+01],\n",
              "       [ 5.47143126e+00,  4.71755505e-01,  3.58577061e+00,\n",
              "         7.62515640e+01],\n",
              "       [ 4.96786451e+00,  4.18505430e-01,  3.03395247e+00,\n",
              "         7.93803787e+01],\n",
              "       [ 4.36465311e+00,  3.40950847e-01,  2.15653634e+00,\n",
              "         8.21104584e+01],\n",
              "       [ 3.95880556e+00,  3.97080541e-01,  1.24346614e+00,\n",
              "         7.71643143e+01],\n",
              "       [ 4.46653461e+00,  4.54135984e-01,  2.00746799e+00,\n",
              "         7.53884659e+01],\n",
              "       [ 6.30983639e+00,  3.60651493e-01,  4.31979132e+00,\n",
              "         7.78561325e+01],\n",
              "       [ 5.92307234e+00,  5.41126192e-01,  4.87988281e+00,\n",
              "         7.83991089e+01],\n",
              "       [ 6.68367672e+00, -2.28347808e-01,  6.96180761e-01,\n",
              "         7.17606659e+01],\n",
              "       [ 5.96241713e+00,  6.16699457e-02,  1.44099593e+00,\n",
              "         7.24864273e+01],\n",
              "       [ 6.06059217e+00,  6.99216843e-01,  5.62059593e+00,\n",
              "         7.59878616e+01],\n",
              "       [ 5.85730982e+00,  9.16122437e-01,  4.92782021e+00,\n",
              "         6.40763168e+01],\n",
              "       [ 7.97964764e+00,  5.99307775e-01,  5.46989155e+00,\n",
              "         5.99799881e+01],\n",
              "       [ 8.01175308e+00,  4.99038577e-01,  4.77125359e+00,\n",
              "         5.86571693e+01],\n",
              "       [ 7.03243017e+00,  1.07280838e+00,  7.12887335e+00,\n",
              "         6.21204453e+01],\n",
              "       [ 7.58078384e+00,  1.29613638e+00,  9.49271011e+00,\n",
              "         6.48323669e+01],\n",
              "       [ 7.12607288e+00,  1.20320082e+00,  9.23359585e+00,\n",
              "         7.12371445e+01],\n",
              "       [ 6.45215225e+00,  8.82087290e-01,  6.68428516e+00,\n",
              "         7.24090424e+01],\n",
              "       [ 5.65797472e+00,  7.63923466e-01,  5.69307661e+00,\n",
              "         7.78571472e+01],\n",
              "       [ 5.34424019e+00,  4.61862981e-01,  3.68303657e+00,\n",
              "         7.86247864e+01],\n",
              "       [ 5.12392426e+00,  3.75242531e-01,  2.59660625e+00,\n",
              "         7.64098892e+01],\n",
              "       [ 4.55627823e+00,  2.36941874e-01,  1.44434118e+00,\n",
              "         7.92629623e+01],\n",
              "       [ 3.95690942e+00,  4.94601190e-01,  1.59311593e+00,\n",
              "         7.57516708e+01],\n",
              "       [ 4.43984509e+00,  7.52796769e-01,  2.56797361e+00,\n",
              "         6.75418396e+01],\n",
              "       [ 6.38449097e+00,  4.45894152e-01,  3.99038506e+00,\n",
              "         7.12282639e+01],\n",
              "       [ 6.21649408e+00,  7.10617959e-01,  5.10726118e+00,\n",
              "         7.02301941e+01],\n",
              "       [ 6.50335407e+00,  8.37022439e-02,  1.85262263e+00,\n",
              "         6.92395706e+01],\n",
              "       [ 6.29569006e+00,  2.32076466e-01,  2.70960045e+00,\n",
              "         7.14902649e+01],\n",
              "       [ 6.74364138e+00,  6.22433960e-01,  4.92573690e+00,\n",
              "         6.72915802e+01],\n",
              "       [ 7.09081078e+00,  5.86026907e-01,  5.11934328e+00,\n",
              "         6.67579041e+01],\n",
              "       [ 6.21311808e+00,  8.86750758e-01,  5.85847473e+00,\n",
              "         6.85526047e+01],\n",
              "       [ 5.65898848e+00,  4.56980050e-01,  3.40508366e+00,\n",
              "         7.36797791e+01],\n",
              "       [ 4.92839670e+00,  3.97001773e-01,  2.43440723e+00,\n",
              "         7.62709732e+01],\n",
              "       [ 5.01680660e+00,  1.22370195e+00,  7.17721558e+00,\n",
              "         7.62529221e+01],\n",
              "       [ 5.20917988e+00,  1.53225601e+00,  9.52145195e+00,\n",
              "         7.88616333e+01],\n",
              "       [ 6.27811527e+00,  1.18747818e+00,  9.19709969e+00,\n",
              "         8.00039978e+01],\n",
              "       [ 5.77988386e+00,  1.68537354e+00,  1.13759079e+01,\n",
              "         8.05012054e+01],\n",
              "       [ 5.44447231e+00,  1.98138762e+00,  1.34481964e+01,\n",
              "         8.68588562e+01],\n",
              "       [ 5.35162592e+00,  2.15876389e+00,  1.43416319e+01,\n",
              "         8.70545425e+01],\n",
              "       [ 5.63636112e+00,  1.51004767e+00,  1.05440264e+01,\n",
              "         8.30102768e+01],\n",
              "       [ 6.35416222e+00,  1.06409585e+00,  9.37566376e+00,\n",
              "         8.55974579e+01],\n",
              "       [ 4.69234276e+00,  1.56903040e+00,  8.82216644e+00,\n",
              "         7.73660812e+01],\n",
              "       [ 5.68085241e+00,  1.59058940e+00,  1.03840771e+01,\n",
              "         7.81106262e+01],\n",
              "       [ 6.67565966e+00,  1.59740746e+00,  1.14527531e+01,\n",
              "         7.57929459e+01],\n",
              "       [ 5.52174950e+00,  6.59557045e-01,  4.75407982e+00,\n",
              "         7.66120453e+01],\n",
              "       [ 6.49907875e+00,  1.36624539e+00,  1.07074480e+01,\n",
              "         8.15431213e+01],\n",
              "       [ 6.80474424e+00,  1.63243186e+00,  1.28372517e+01,\n",
              "         8.31959686e+01]], dtype=float32)"
            ]
          },
          "metadata": {
            "tags": []
          },
          "execution_count": 233
        }
      ]
    },
    {
      "cell_type": "code",
      "metadata": {
        "colab": {
          "base_uri": "https://localhost:8080/"
        },
        "id": "zs6g-nQc_kG1",
        "outputId": "59c8ec7b-b055-4aa0-ec26-48f190b7dffa"
      },
      "source": [
        "last_value.shape"
      ],
      "execution_count": 234,
      "outputs": [
        {
          "output_type": "execute_result",
          "data": {
            "text/plain": [
              "(72, 4)"
            ]
          },
          "metadata": {
            "tags": []
          },
          "execution_count": 234
        }
      ]
    },
    {
      "cell_type": "code",
      "metadata": {
        "id": "mZYQVeOkfB6o"
      },
      "source": [
        "next_pred1 = model_forecast(model, last_value, window_size)"
      ],
      "execution_count": 235,
      "outputs": []
    },
    {
      "cell_type": "code",
      "metadata": {
        "id": "Jol0Iq_YNKvl",
        "colab": {
          "base_uri": "https://localhost:8080/"
        },
        "outputId": "17a71451-2914-4c8d-90fb-f55a11b313d6"
      },
      "source": [
        "next_pred1"
      ],
      "execution_count": 236,
      "outputs": [
        {
          "output_type": "execute_result",
          "data": {
            "text/plain": [
              "array([[[ 3.543765  , -2.2738419 ,  2.7604551 , 74.02202   ],\n",
              "        [ 3.5786412 , -1.7379755 ,  3.1499922 , 79.64902   ],\n",
              "        [ 2.785854  , -0.45628342,  2.6987956 , 85.33087   ],\n",
              "        [ 4.087285  ,  0.6366484 ,  4.0770307 , 86.79805   ],\n",
              "        [ 4.228465  ,  0.75892097,  4.6964526 , 84.92845   ],\n",
              "        [ 3.7241964 ,  0.96511954,  4.928748  , 83.18894   ],\n",
              "        [ 3.867086  ,  0.6116526 ,  2.697648  , 79.92424   ],\n",
              "        [ 4.3517447 ,  0.28302538,  1.4670521 , 79.56963   ],\n",
              "        [ 4.655861  ,  0.27271545,  1.8400624 , 79.70585   ],\n",
              "        [ 4.9317203 ,  0.25585088,  1.9885153 , 78.74943   ],\n",
              "        [ 4.9239545 ,  0.23258907,  1.8367813 , 78.66866   ],\n",
              "        [ 4.7495275 ,  0.2191998 ,  1.5987144 , 79.20317   ],\n",
              "        [ 4.497263  ,  0.22223815,  1.366055  , 79.87607   ],\n",
              "        [ 4.1862683 ,  0.21525827,  0.9911597 , 80.50067   ],\n",
              "        [ 3.9370604 ,  0.20290595,  0.65672547, 81.02891   ],\n",
              "        [ 3.7182794 ,  0.20485073,  0.41457117, 81.345825  ],\n",
              "        [ 3.5269692 ,  0.20380598,  0.15152991, 81.36053   ],\n",
              "        [ 3.3710434 ,  0.25647283,  0.2990842 , 81.829     ],\n",
              "        [ 3.3491194 ,  0.29137674,  0.40584952, 81.39939   ],\n",
              "        [ 3.5079458 ,  0.404202  ,  1.0614902 , 80.005714  ],\n",
              "        [ 4.006961  ,  0.5378641 ,  2.5306761 , 80.335945  ],\n",
              "        [ 4.7035284 ,  0.60203576,  3.4800112 , 77.754166  ],\n",
              "        [ 5.3996077 ,  0.61661154,  4.3268623 , 76.45547   ],\n",
              "        [ 6.01635   ,  0.5825033 ,  5.166684  , 77.879875  ],\n",
              "        [ 6.1701274 ,  0.62685835,  5.641638  , 78.01448   ],\n",
              "        [ 6.1461954 ,  0.6120436 ,  5.7831945 , 79.89051   ],\n",
              "        [ 5.9085636 ,  0.60815865,  5.4806786 , 80.191345  ],\n",
              "        [ 5.1670804 ,  0.61433965,  4.574141  , 80.65527   ],\n",
              "        [ 4.374227  ,  0.59517694,  3.4700289 , 81.22015   ],\n",
              "        [ 3.8763993 ,  0.5369412 ,  2.415183  , 80.82211   ],\n",
              "        [ 3.7061744 ,  0.5001666 ,  1.9445672 , 80.572174  ],\n",
              "        [ 3.9619029 ,  0.47017354,  2.275467  , 81.68395   ],\n",
              "        [ 4.355317  ,  0.43126512,  2.6958957 , 82.45145   ],\n",
              "        [ 4.4903746 ,  0.4356524 ,  2.6975899 , 80.94809   ],\n",
              "        [ 4.593958  ,  0.43560135,  2.696702  , 79.918686  ],\n",
              "        [ 4.609324  ,  0.4123008 ,  2.7339907 , 80.99111   ],\n",
              "        [ 4.8433313 ,  0.43639895,  3.0797288 , 80.215836  ],\n",
              "        [ 5.2125397 ,  0.5418832 ,  3.9302752 , 78.46381   ],\n",
              "        [ 5.764666  ,  0.5653374 ,  4.6637    , 77.39835   ],\n",
              "        [ 6.3801775 ,  0.5066931 ,  5.1053705 , 76.92972   ],\n",
              "        [ 6.936712  ,  0.62564796,  6.659354  , 77.91103   ],\n",
              "        [ 7.163411  ,  0.7412672 ,  7.7771797 , 79.1071    ],\n",
              "        [ 7.169871  ,  0.7995732 ,  8.234663  , 80.00175   ],\n",
              "        [ 6.9987946 ,  0.7599894 ,  7.9448    , 81.1952    ],\n",
              "        [ 6.06906   ,  0.72264636,  6.5504923 , 81.73808   ],\n",
              "        [ 5.207172  ,  0.67359436,  5.0307617 , 81.17205   ],\n",
              "        [ 4.5629926 ,  0.6079609 ,  3.804192  , 81.27036   ],\n",
              "        [ 4.1321983 ,  0.50430524,  2.5926023 , 80.92024   ],\n",
              "        [ 4.1578283 ,  0.43439212,  2.0805895 , 79.78406   ],\n",
              "        [ 4.584294  ,  0.39875266,  2.5472806 , 80.42882   ],\n",
              "        [ 5.054924  ,  0.35472643,  2.992171  , 80.82      ],\n",
              "        [ 5.1516733 ,  0.37661773,  3.0634596 , 79.488716  ],\n",
              "        [ 5.2604847 ,  0.38632417,  3.2743363 , 79.55544   ],\n",
              "        [ 5.2870407 ,  0.4215371 ,  3.488566  , 79.418365  ],\n",
              "        [ 5.413622  ,  0.47562718,  3.9616644 , 79.410706  ],\n",
              "        [ 5.6229563 ,  0.48604345,  4.3325977 , 79.62272   ],\n",
              "        [ 5.663946  ,  0.46692398,  4.306282  , 79.80618   ],\n",
              "        [ 5.3896956 ,  0.42494908,  3.769903  , 80.31784   ],\n",
              "        [ 5.028799  ,  0.47538692,  3.7178352 , 81.44775   ],\n",
              "        [ 5.1568227 ,  0.5469253 ,  4.6519904 , 84.08012   ],\n",
              "        [ 5.237273  ,  0.678901  ,  5.675514  , 85.36623   ],\n",
              "        [ 5.464485  ,  0.83075833,  6.9509892 , 86.22776   ],\n",
              "        [ 5.6486635 ,  0.951211  ,  8.185003  , 88.49564   ],\n",
              "        [ 5.905174  ,  1.1626874 , 10.032859  , 90.811356  ],\n",
              "        [ 5.987808  ,  1.2262375 , 10.542902  , 91.12181   ],\n",
              "        [ 5.9880443 ,  1.147849  , 10.13124   , 91.316185  ],\n",
              "        [ 6.01111   ,  1.0480083 ,  9.564647  , 91.02971   ],\n",
              "        [ 6.0785284 ,  0.9761352 ,  9.2519    , 91.01544   ],\n",
              "        [ 6.336718  ,  1.0290279 ,  9.917839  , 91.1628    ],\n",
              "        [ 6.4588127 ,  0.9336069 ,  9.362829  , 89.800385  ],\n",
              "        [ 6.650636  ,  0.8625915 ,  9.263211  , 90.07657   ],\n",
              "        [ 6.6708236 ,  0.9809501 , 10.1166525 , 91.2733    ]]],\n",
              "      dtype=float32)"
            ]
          },
          "metadata": {
            "tags": []
          },
          "execution_count": 236
        }
      ]
    },
    {
      "cell_type": "code",
      "metadata": {
        "colab": {
          "base_uri": "https://localhost:8080/"
        },
        "id": "o0yePSey_mnU",
        "outputId": "0598eb10-3b6d-4eb3-b519-82d1a5ef1e71"
      },
      "source": [
        "next_pred1.shape"
      ],
      "execution_count": 237,
      "outputs": [
        {
          "output_type": "execute_result",
          "data": {
            "text/plain": [
              "(1, 72, 4)"
            ]
          },
          "metadata": {
            "tags": []
          },
          "execution_count": 237
        }
      ]
    },
    {
      "cell_type": "code",
      "metadata": {
        "id": "jWn-LU_K_7aT"
      },
      "source": [
        "second_input = next_pred1[-1,:,:]"
      ],
      "execution_count": 238,
      "outputs": []
    },
    {
      "cell_type": "code",
      "metadata": {
        "colab": {
          "base_uri": "https://localhost:8080/"
        },
        "id": "DypCwcA-AFtj",
        "outputId": "c87c01df-1b3a-4e6e-b8fb-de3006f80f8c"
      },
      "source": [
        "second_input.shape"
      ],
      "execution_count": 239,
      "outputs": [
        {
          "output_type": "execute_result",
          "data": {
            "text/plain": [
              "(72, 4)"
            ]
          },
          "metadata": {
            "tags": []
          },
          "execution_count": 239
        }
      ]
    },
    {
      "cell_type": "code",
      "metadata": {
        "colab": {
          "base_uri": "https://localhost:8080/"
        },
        "id": "XB22NaAOAYMN",
        "outputId": "f477d5d7-e495-4c84-ddc8-0cb5b86e2213"
      },
      "source": [
        "second_input"
      ],
      "execution_count": 240,
      "outputs": [
        {
          "output_type": "execute_result",
          "data": {
            "text/plain": [
              "array([[ 3.543765  , -2.2738419 ,  2.7604551 , 74.02202   ],\n",
              "       [ 3.5786412 , -1.7379755 ,  3.1499922 , 79.64902   ],\n",
              "       [ 2.785854  , -0.45628342,  2.6987956 , 85.33087   ],\n",
              "       [ 4.087285  ,  0.6366484 ,  4.0770307 , 86.79805   ],\n",
              "       [ 4.228465  ,  0.75892097,  4.6964526 , 84.92845   ],\n",
              "       [ 3.7241964 ,  0.96511954,  4.928748  , 83.18894   ],\n",
              "       [ 3.867086  ,  0.6116526 ,  2.697648  , 79.92424   ],\n",
              "       [ 4.3517447 ,  0.28302538,  1.4670521 , 79.56963   ],\n",
              "       [ 4.655861  ,  0.27271545,  1.8400624 , 79.70585   ],\n",
              "       [ 4.9317203 ,  0.25585088,  1.9885153 , 78.74943   ],\n",
              "       [ 4.9239545 ,  0.23258907,  1.8367813 , 78.66866   ],\n",
              "       [ 4.7495275 ,  0.2191998 ,  1.5987144 , 79.20317   ],\n",
              "       [ 4.497263  ,  0.22223815,  1.366055  , 79.87607   ],\n",
              "       [ 4.1862683 ,  0.21525827,  0.9911597 , 80.50067   ],\n",
              "       [ 3.9370604 ,  0.20290595,  0.65672547, 81.02891   ],\n",
              "       [ 3.7182794 ,  0.20485073,  0.41457117, 81.345825  ],\n",
              "       [ 3.5269692 ,  0.20380598,  0.15152991, 81.36053   ],\n",
              "       [ 3.3710434 ,  0.25647283,  0.2990842 , 81.829     ],\n",
              "       [ 3.3491194 ,  0.29137674,  0.40584952, 81.39939   ],\n",
              "       [ 3.5079458 ,  0.404202  ,  1.0614902 , 80.005714  ],\n",
              "       [ 4.006961  ,  0.5378641 ,  2.5306761 , 80.335945  ],\n",
              "       [ 4.7035284 ,  0.60203576,  3.4800112 , 77.754166  ],\n",
              "       [ 5.3996077 ,  0.61661154,  4.3268623 , 76.45547   ],\n",
              "       [ 6.01635   ,  0.5825033 ,  5.166684  , 77.879875  ],\n",
              "       [ 6.1701274 ,  0.62685835,  5.641638  , 78.01448   ],\n",
              "       [ 6.1461954 ,  0.6120436 ,  5.7831945 , 79.89051   ],\n",
              "       [ 5.9085636 ,  0.60815865,  5.4806786 , 80.191345  ],\n",
              "       [ 5.1670804 ,  0.61433965,  4.574141  , 80.65527   ],\n",
              "       [ 4.374227  ,  0.59517694,  3.4700289 , 81.22015   ],\n",
              "       [ 3.8763993 ,  0.5369412 ,  2.415183  , 80.82211   ],\n",
              "       [ 3.7061744 ,  0.5001666 ,  1.9445672 , 80.572174  ],\n",
              "       [ 3.9619029 ,  0.47017354,  2.275467  , 81.68395   ],\n",
              "       [ 4.355317  ,  0.43126512,  2.6958957 , 82.45145   ],\n",
              "       [ 4.4903746 ,  0.4356524 ,  2.6975899 , 80.94809   ],\n",
              "       [ 4.593958  ,  0.43560135,  2.696702  , 79.918686  ],\n",
              "       [ 4.609324  ,  0.4123008 ,  2.7339907 , 80.99111   ],\n",
              "       [ 4.8433313 ,  0.43639895,  3.0797288 , 80.215836  ],\n",
              "       [ 5.2125397 ,  0.5418832 ,  3.9302752 , 78.46381   ],\n",
              "       [ 5.764666  ,  0.5653374 ,  4.6637    , 77.39835   ],\n",
              "       [ 6.3801775 ,  0.5066931 ,  5.1053705 , 76.92972   ],\n",
              "       [ 6.936712  ,  0.62564796,  6.659354  , 77.91103   ],\n",
              "       [ 7.163411  ,  0.7412672 ,  7.7771797 , 79.1071    ],\n",
              "       [ 7.169871  ,  0.7995732 ,  8.234663  , 80.00175   ],\n",
              "       [ 6.9987946 ,  0.7599894 ,  7.9448    , 81.1952    ],\n",
              "       [ 6.06906   ,  0.72264636,  6.5504923 , 81.73808   ],\n",
              "       [ 5.207172  ,  0.67359436,  5.0307617 , 81.17205   ],\n",
              "       [ 4.5629926 ,  0.6079609 ,  3.804192  , 81.27036   ],\n",
              "       [ 4.1321983 ,  0.50430524,  2.5926023 , 80.92024   ],\n",
              "       [ 4.1578283 ,  0.43439212,  2.0805895 , 79.78406   ],\n",
              "       [ 4.584294  ,  0.39875266,  2.5472806 , 80.42882   ],\n",
              "       [ 5.054924  ,  0.35472643,  2.992171  , 80.82      ],\n",
              "       [ 5.1516733 ,  0.37661773,  3.0634596 , 79.488716  ],\n",
              "       [ 5.2604847 ,  0.38632417,  3.2743363 , 79.55544   ],\n",
              "       [ 5.2870407 ,  0.4215371 ,  3.488566  , 79.418365  ],\n",
              "       [ 5.413622  ,  0.47562718,  3.9616644 , 79.410706  ],\n",
              "       [ 5.6229563 ,  0.48604345,  4.3325977 , 79.62272   ],\n",
              "       [ 5.663946  ,  0.46692398,  4.306282  , 79.80618   ],\n",
              "       [ 5.3896956 ,  0.42494908,  3.769903  , 80.31784   ],\n",
              "       [ 5.028799  ,  0.47538692,  3.7178352 , 81.44775   ],\n",
              "       [ 5.1568227 ,  0.5469253 ,  4.6519904 , 84.08012   ],\n",
              "       [ 5.237273  ,  0.678901  ,  5.675514  , 85.36623   ],\n",
              "       [ 5.464485  ,  0.83075833,  6.9509892 , 86.22776   ],\n",
              "       [ 5.6486635 ,  0.951211  ,  8.185003  , 88.49564   ],\n",
              "       [ 5.905174  ,  1.1626874 , 10.032859  , 90.811356  ],\n",
              "       [ 5.987808  ,  1.2262375 , 10.542902  , 91.12181   ],\n",
              "       [ 5.9880443 ,  1.147849  , 10.13124   , 91.316185  ],\n",
              "       [ 6.01111   ,  1.0480083 ,  9.564647  , 91.02971   ],\n",
              "       [ 6.0785284 ,  0.9761352 ,  9.2519    , 91.01544   ],\n",
              "       [ 6.336718  ,  1.0290279 ,  9.917839  , 91.1628    ],\n",
              "       [ 6.4588127 ,  0.9336069 ,  9.362829  , 89.800385  ],\n",
              "       [ 6.650636  ,  0.8625915 ,  9.263211  , 90.07657   ],\n",
              "       [ 6.6708236 ,  0.9809501 , 10.1166525 , 91.2733    ]],\n",
              "      dtype=float32)"
            ]
          },
          "metadata": {
            "tags": []
          },
          "execution_count": 240
        }
      ]
    },
    {
      "cell_type": "code",
      "metadata": {
        "id": "7zEg-zW9AecL"
      },
      "source": [
        "second_input_last_element = second_input[-1][0]"
      ],
      "execution_count": 241,
      "outputs": []
    },
    {
      "cell_type": "code",
      "metadata": {
        "colab": {
          "base_uri": "https://localhost:8080/"
        },
        "id": "lMa3zCjnAj-i",
        "outputId": "d33e4bd0-b89e-4f4c-921e-62928f5b6e62"
      },
      "source": [
        "second_input_last_element"
      ],
      "execution_count": 242,
      "outputs": [
        {
          "output_type": "execute_result",
          "data": {
            "text/plain": [
              "6.6708236"
            ]
          },
          "metadata": {
            "tags": []
          },
          "execution_count": 242
        }
      ]
    },
    {
      "cell_type": "code",
      "metadata": {
        "id": "lRsgR06mNKrs"
      },
      "source": [
        "next_pred2 = model_forecast(model, second_input, window_size)"
      ],
      "execution_count": 243,
      "outputs": []
    },
    {
      "cell_type": "code",
      "metadata": {
        "id": "UtptOSkINKqB",
        "colab": {
          "base_uri": "https://localhost:8080/"
        },
        "outputId": "590d4e4a-c9ca-49f8-eafb-72b3f19bbdf4"
      },
      "source": [
        "next_pred2"
      ],
      "execution_count": 244,
      "outputs": [
        {
          "output_type": "execute_result",
          "data": {
            "text/plain": [
              "array([[[ 3.4819164 , -2.2922912 ,  3.1805859 , 73.65561   ],\n",
              "        [ 3.9437928 , -2.0445516 ,  4.187964  , 80.903015  ],\n",
              "        [ 3.4098804 , -0.31972006,  4.1113987 , 84.98067   ],\n",
              "        [ 3.0880473 ,  0.8737229 ,  3.6902413 , 84.1734    ],\n",
              "        [ 3.9696262 ,  0.6743196 ,  4.12606   , 86.78103   ],\n",
              "        [ 3.1486585 ,  0.9298075 ,  4.407655  , 86.52138   ],\n",
              "        [ 3.212879  ,  0.71025175,  3.311491  , 86.85195   ],\n",
              "        [ 3.4032373 ,  0.5470859 ,  2.61624   , 86.55809   ],\n",
              "        [ 3.5157077 ,  0.4382251 ,  2.1603374 , 86.56395   ],\n",
              "        [ 3.599479  ,  0.39396435,  1.9887179 , 86.290184  ],\n",
              "        [ 3.6824129 ,  0.3798561 ,  1.9387662 , 85.681244  ],\n",
              "        [ 3.7305043 ,  0.36146808,  1.8163011 , 85.062325  ],\n",
              "        [ 3.7411072 ,  0.34045932,  1.6511321 , 84.60962   ],\n",
              "        [ 3.6901207 ,  0.3234422 ,  1.4524937 , 84.35883   ],\n",
              "        [ 3.5868273 ,  0.31231734,  1.2306035 , 84.215     ],\n",
              "        [ 3.4519024 ,  0.3077751 ,  1.0129437 , 84.146065  ],\n",
              "        [ 3.3008366 ,  0.30826777,  0.8064866 , 84.11297   ],\n",
              "        [ 3.153999  ,  0.31495002,  0.6561026 , 84.194626  ],\n",
              "        [ 3.0210772 ,  0.32912418,  0.5673602 , 84.282585  ],\n",
              "        [ 2.9336915 ,  0.35036075,  0.56550056, 84.26594   ],\n",
              "        [ 2.9034846 ,  0.39110947,  0.7897407 , 84.53742   ],\n",
              "        [ 2.973344  ,  0.43870473,  1.160416  , 84.608406  ],\n",
              "        [ 3.159421  ,  0.5013848 ,  1.7389089 , 84.43076   ],\n",
              "        [ 3.4218535 ,  0.56169385,  2.475594  , 84.74974   ],\n",
              "        [ 3.7385597 ,  0.6139608 ,  3.241922  , 85.076836  ],\n",
              "        [ 4.0254035 ,  0.6647965 ,  3.984493  , 85.584335  ],\n",
              "        [ 4.2383857 ,  0.6932123 ,  4.507193  , 86.133125  ],\n",
              "        [ 4.348767  ,  0.68558955,  4.6520324 , 86.41015   ],\n",
              "        [ 4.3448834 ,  0.6334234 ,  4.393132  , 86.68942   ],\n",
              "        [ 4.2474546 ,  0.56142956,  3.853819  , 86.65663   ],\n",
              "        [ 4.0777774 ,  0.49035215,  3.2136054 , 86.56437   ],\n",
              "        [ 3.881494  ,  0.44418275,  2.7013018 , 86.65173   ],\n",
              "        [ 3.7266455 ,  0.42797047,  2.415228  , 86.75721   ],\n",
              "        [ 3.6332078 ,  0.42337513,  2.2233276 , 86.46811   ],\n",
              "        [ 3.5857706 ,  0.4335683 ,  2.1580353 , 86.04411   ],\n",
              "        [ 3.5727158 ,  0.4430784 ,  2.182032  , 85.959946  ],\n",
              "        [ 3.6034994 ,  0.44152403,  2.1940975 , 85.807     ],\n",
              "        [ 3.6777945 ,  0.4643321 ,  2.391313  , 85.58013   ],\n",
              "        [ 3.7922733 ,  0.50535035,  2.76801   , 85.52231   ],\n",
              "        [ 4.0002213 ,  0.55055225,  3.2826095 , 85.37582   ],\n",
              "        [ 4.302584  ,  0.6054981 ,  4.02478   , 85.55891   ],\n",
              "        [ 4.6277514 ,  0.68207586,  4.972604  , 86.13431   ],\n",
              "        [ 4.9560823 ,  0.7662753 ,  5.9631824 , 86.67929   ],\n",
              "        [ 5.2397804 ,  0.83257073,  6.787667  , 87.18446   ],\n",
              "        [ 5.4120026 ,  0.8264426 ,  7.044533  , 87.60665   ],\n",
              "        [ 5.4424314 ,  0.75118524,  6.67661   , 87.69371   ],\n",
              "        [ 5.339078  ,  0.6561587 ,  6.005171  , 87.69579   ],\n",
              "        [ 4.9123583 ,  0.5679861 ,  4.877846  , 87.288055  ],\n",
              "        [ 4.5191126 ,  0.48798174,  3.8074465 , 86.631096  ],\n",
              "        [ 4.3027163 ,  0.4283948 ,  3.1447902 , 86.36771   ],\n",
              "        [ 4.259699  ,  0.38692486,  2.8553903 , 86.3744    ],\n",
              "        [ 4.271055  ,  0.3620632 ,  2.6742802 , 85.95522   ],\n",
              "        [ 4.201824  ,  0.37315524,  2.5760188 , 85.469406  ],\n",
              "        [ 4.1834593 ,  0.38539544,  2.5873945 , 85.23402   ],\n",
              "        [ 4.2053995 ,  0.40131807,  2.6892245 , 85.109955  ],\n",
              "        [ 4.2435675 ,  0.42913538,  2.9109418 , 85.214874  ],\n",
              "        [ 4.2871385 ,  0.45395923,  3.1220765 , 85.311325  ],\n",
              "        [ 4.3133607 ,  0.4639022 ,  3.221622  , 85.37253   ],\n",
              "        [ 4.3069897 ,  0.4596332 ,  3.219986  , 85.598114  ],\n",
              "        [ 4.26974   ,  0.46470836,  3.285633  , 86.23877   ],\n",
              "        [ 4.231314  ,  0.4883131 ,  3.4804285 , 87.0771    ],\n",
              "        [ 4.220692  ,  0.5321836 ,  3.8156734 , 87.83794   ],\n",
              "        [ 4.2737594 ,  0.60598236,  4.441206  , 88.865654  ],\n",
              "        [ 4.423137  ,  0.7133719 ,  5.425611  , 90.18871   ],\n",
              "        [ 4.616592  ,  0.82818717,  6.4902024 , 91.35782   ],\n",
              "        [ 4.808527  ,  0.91467   ,  7.3568163 , 92.25375   ],\n",
              "        [ 4.980485  ,  0.96306914,  7.9460726 , 92.87796   ],\n",
              "        [ 5.130806  ,  0.964823  ,  8.223038  , 93.34159   ],\n",
              "        [ 5.278247  ,  0.96751994,  8.50852   , 93.85741   ],\n",
              "        [ 5.416144  ,  0.982669  ,  8.811167  , 94.08418   ],\n",
              "        [ 5.555007  ,  0.98053813,  8.988201  , 94.090096  ],\n",
              "        [ 5.7016306 ,  0.9876223 ,  9.258895  , 94.32668   ]]],\n",
              "      dtype=float32)"
            ]
          },
          "metadata": {
            "tags": []
          },
          "execution_count": 244
        }
      ]
    },
    {
      "cell_type": "code",
      "metadata": {
        "id": "9WjQnaZYEmKz"
      },
      "source": [
        "third_input=next_pred2[-1,:,:]"
      ],
      "execution_count": 245,
      "outputs": []
    },
    {
      "cell_type": "code",
      "metadata": {
        "id": "cAo9iWmDEeL0"
      },
      "source": [
        "third_input_last_element=third_input[-1][0]"
      ],
      "execution_count": 246,
      "outputs": []
    },
    {
      "cell_type": "code",
      "metadata": {
        "colab": {
          "base_uri": "https://localhost:8080/"
        },
        "id": "lV3hV3A4Eutx",
        "outputId": "10ba2f5d-bee1-4a3b-9f7d-fa1ac82e4f82"
      },
      "source": [
        "third_input_last_element"
      ],
      "execution_count": 247,
      "outputs": [
        {
          "output_type": "execute_result",
          "data": {
            "text/plain": [
              "5.7016306"
            ]
          },
          "metadata": {
            "tags": []
          },
          "execution_count": 247
        }
      ]
    },
    {
      "cell_type": "code",
      "metadata": {
        "id": "68G8sUKjEumi"
      },
      "source": [
        "next_pred3 = model_forecast(model,third_input,window_size)"
      ],
      "execution_count": 248,
      "outputs": []
    },
    {
      "cell_type": "code",
      "metadata": {
        "colab": {
          "base_uri": "https://localhost:8080/"
        },
        "id": "spNrCVaEEuj7",
        "outputId": "eaa64631-bd18-4780-e8ca-987e359b8a6e"
      },
      "source": [
        "next_pred3"
      ],
      "execution_count": 249,
      "outputs": [
        {
          "output_type": "execute_result",
          "data": {
            "text/plain": [
              "array([[[ 3.6152205 , -2.2431166 ,  3.485465  , 73.67702   ],\n",
              "        [ 4.1750827 , -2.049289  ,  4.715653  , 81.14663   ],\n",
              "        [ 4.1296916 , -0.33924747,  4.9618645 , 84.9065    ],\n",
              "        [ 3.3472636 ,  0.96907   ,  4.46976   , 83.40527   ],\n",
              "        [ 4.0779977 ,  0.75700766,  4.673199  , 86.325745  ],\n",
              "        [ 3.2249353 ,  0.93373805,  4.5694394 , 86.78754   ],\n",
              "        [ 3.1356893 ,  0.70751905,  3.3397734 , 87.93403   ],\n",
              "        [ 3.187994  ,  0.57831967,  2.7654827 , 88.50166   ],\n",
              "        [ 3.1838536 ,  0.47459677,  2.204007  , 88.68044   ],\n",
              "        [ 3.1823502 ,  0.42111164,  1.9194067 , 88.80234   ],\n",
              "        [ 3.183692  ,  0.39519256,  1.7469599 , 88.58881   ],\n",
              "        [ 3.1819642 ,  0.3806455 ,  1.6184106 , 88.261475  ],\n",
              "        [ 3.177651  ,  0.3734259 ,  1.5236483 , 87.9071    ],\n",
              "        [ 3.162726  ,  0.37100074,  1.4472797 , 87.5961    ],\n",
              "        [ 3.1273022 ,  0.37090555,  1.3653145 , 87.35188   ],\n",
              "        [ 3.068737  ,  0.37308428,  1.2723893 , 87.16374   ],\n",
              "        [ 2.98905   ,  0.3767481 ,  1.1662334 , 87.02727   ],\n",
              "        [ 2.894389  ,  0.38196856,  1.0562986 , 86.947754  ],\n",
              "        [ 2.7918591 ,  0.38887972,  0.9523317 , 86.920586  ],\n",
              "        [ 2.689804  ,  0.39810205,  0.8659974 , 86.92307   ],\n",
              "        [ 2.596522  ,  0.41069594,  0.8212134 , 87.00445   ],\n",
              "        [ 2.5227175 ,  0.4268175 ,  0.83014816, 87.14127   ],\n",
              "        [ 2.483776  ,  0.4476862 ,  0.91304183, 87.27924   ],\n",
              "        [ 2.483868  ,  0.47431624,  1.0940164 , 87.51183   ],\n",
              "        [ 2.5317297 ,  0.5032031 ,  1.3613701 , 87.81043   ],\n",
              "        [ 2.626896  ,  0.534324  ,  1.709646  , 88.140625  ],\n",
              "        [ 2.7525551 ,  0.5637579 ,  2.0968184 , 88.52205   ],\n",
              "        [ 2.8947175 ,  0.5879248 ,  2.4704247 , 88.85637   ],\n",
              "        [ 3.0307255 ,  0.6032063 ,  2.7785943 , 89.13671   ],\n",
              "        [ 3.1374037 ,  0.6032057 ,  2.9484942 , 89.32199   ],\n",
              "        [ 3.198854  ,  0.58735645,  2.9515922 , 89.38416   ],\n",
              "        [ 3.21054   ,  0.5610617 ,  2.8224661 , 89.399956  ],\n",
              "        [ 3.1809955 ,  0.5325744 ,  2.6196196 , 89.37494   ],\n",
              "        [ 3.12602   ,  0.5092507 ,  2.4015398 , 89.27928   ],\n",
              "        [ 3.0620992 ,  0.4938079 ,  2.2082434 , 89.13115   ],\n",
              "        [ 3.000448  ,  0.48504603,  2.059573  , 89.01347   ],\n",
              "        [ 2.952101  ,  0.4801996 ,  1.9520833 , 88.904884  ],\n",
              "        [ 2.9211328 ,  0.47998372,  1.8941805 , 88.79724   ],\n",
              "        [ 2.9062471 ,  0.48584434,  1.9029214 , 88.76889   ],\n",
              "        [ 2.9214568 ,  0.49672556,  1.9866347 , 88.785126  ],\n",
              "        [ 2.977775  ,  0.5148625 ,  2.1760867 , 88.870346  ],\n",
              "        [ 3.0769095 ,  0.5385475 ,  2.4745986 , 89.10169   ],\n",
              "        [ 3.2249167 ,  0.5756829 ,  2.9333367 , 89.469986  ],\n",
              "        [ 3.4123049 ,  0.62510335,  3.5264657 , 89.92807   ],\n",
              "        [ 3.6200397 ,  0.6784232 ,  4.1707754 , 90.39924   ],\n",
              "        [ 3.8235188 ,  0.71659833,  4.7090635 , 90.75711   ],\n",
              "        [ 3.989186  ,  0.72420144,  5.0057173 , 90.97365   ],\n",
              "        [ 4.0860624 ,  0.69899654,  5.0004005 , 91.00616   ],\n",
              "        [ 4.103973  ,  0.6435685 ,  4.6845512 , 90.78711   ],\n",
              "        [ 4.053961  ,  0.5779104 ,  4.2051344 , 90.463646  ],\n",
              "        [ 3.9544404 ,  0.51293707,  3.6618874 , 90.135925  ],\n",
              "        [ 3.8397222 ,  0.4664544 ,  3.1919389 , 89.7383    ],\n",
              "        [ 3.7238538 ,  0.43762457,  2.8131514 , 89.29653   ],\n",
              "        [ 3.6184528 ,  0.42106622,  2.5247426 , 88.90983   ],\n",
              "        [ 3.5371275 ,  0.41290876,  2.3271203 , 88.60461   ],\n",
              "        [ 3.4744985 ,  0.41120315,  2.2068129 , 88.415375  ],\n",
              "        [ 3.4287832 ,  0.415951  ,  2.1581068 , 88.31802   ],\n",
              "        [ 3.3999398 ,  0.4243139 ,  2.15701   , 88.2537    ],\n",
              "        [ 3.3812442 ,  0.43337476,  2.1802096 , 88.23786   ],\n",
              "        [ 3.3652873 ,  0.44091997,  2.2123947 , 88.322495  ],\n",
              "        [ 3.3471808 ,  0.44623482,  2.2434802 , 88.511505  ],\n",
              "        [ 3.3299334 ,  0.45251307,  2.290064  , 88.765854  ],\n",
              "        [ 3.3222861 ,  0.46558157,  2.4040833 , 89.14023   ],\n",
              "        [ 3.3390992 ,  0.489999  ,  2.6404648 , 89.70245   ],\n",
              "        [ 3.3931859 ,  0.52738935,  3.0178041 , 90.39523   ],\n",
              "        [ 3.4876301 ,  0.57794285,  3.5293415 , 91.13084   ],\n",
              "        [ 3.6221995 ,  0.64184237,  4.1709023 , 91.87364   ],\n",
              "        [ 3.781581  ,  0.7038916 ,  4.8331766 , 92.59781   ],\n",
              "        [ 3.9529212 ,  0.75748765,  5.4619446 , 93.30435   ],\n",
              "        [ 4.127575  ,  0.80571103,  6.0599117 , 93.9727    ],\n",
              "        [ 4.297911  ,  0.846887  ,  6.597604  , 94.531494  ],\n",
              "        [ 4.4650326 ,  0.88309216,  7.091354  , 95.004364  ]]],\n",
              "      dtype=float32)"
            ]
          },
          "metadata": {
            "tags": []
          },
          "execution_count": 249
        }
      ]
    },
    {
      "cell_type": "code",
      "metadata": {
        "id": "I_AAoPdHFNKr"
      },
      "source": [
        "fourth_input=next_pred3[-1,:,:]"
      ],
      "execution_count": 250,
      "outputs": []
    },
    {
      "cell_type": "code",
      "metadata": {
        "id": "NlVNtDY-EuhO"
      },
      "source": [
        "fourth_input_last_element=fourth_input[-1][0]"
      ],
      "execution_count": 251,
      "outputs": []
    },
    {
      "cell_type": "code",
      "metadata": {
        "colab": {
          "base_uri": "https://localhost:8080/"
        },
        "id": "44htZujKEucL",
        "outputId": "292c24a6-ec3a-4748-f07d-ff4d9385a189"
      },
      "source": [
        "fourth_input_last_element"
      ],
      "execution_count": 252,
      "outputs": [
        {
          "output_type": "execute_result",
          "data": {
            "text/plain": [
              "4.4650326"
            ]
          },
          "metadata": {
            "tags": []
          },
          "execution_count": 252
        }
      ]
    },
    {
      "cell_type": "code",
      "metadata": {
        "id": "2bNfhPMcEuZr"
      },
      "source": [
        "next_pred4 = model_forecast(model,fourth_input,window_size)"
      ],
      "execution_count": 253,
      "outputs": []
    },
    {
      "cell_type": "code",
      "metadata": {
        "id": "8-JaNEweEuWz"
      },
      "source": [
        "fifth_input = next_pred4[-1,:,:]"
      ],
      "execution_count": 254,
      "outputs": []
    },
    {
      "cell_type": "code",
      "metadata": {
        "id": "pcjYCn17EuR4"
      },
      "source": [
        "fifth_input_last_element=fifth_input[-1][0]"
      ],
      "execution_count": 255,
      "outputs": []
    },
    {
      "cell_type": "code",
      "metadata": {
        "colab": {
          "base_uri": "https://localhost:8080/"
        },
        "id": "U-DxEvXUEuPg",
        "outputId": "51edb23a-6290-45c9-e1a5-5f567c00b9d4"
      },
      "source": [
        "fifth_input_last_element"
      ],
      "execution_count": 256,
      "outputs": [
        {
          "output_type": "execute_result",
          "data": {
            "text/plain": [
              "3.1441092"
            ]
          },
          "metadata": {
            "tags": []
          },
          "execution_count": 256
        }
      ]
    },
    {
      "cell_type": "code",
      "metadata": {
        "id": "pEumJAiGEuMq"
      },
      "source": [
        "next_pred5 = model_forecast(model,fifth_input,window_size)"
      ],
      "execution_count": 257,
      "outputs": []
    },
    {
      "cell_type": "code",
      "metadata": {
        "id": "xfiLInHzEuKK"
      },
      "source": [
        "sixth_input = next_pred5[-1,:,:]"
      ],
      "execution_count": 258,
      "outputs": []
    },
    {
      "cell_type": "code",
      "metadata": {
        "id": "ZPYQWQZPEuHd"
      },
      "source": [
        "sixth_input_last_element=sixth_input[-1][0]"
      ],
      "execution_count": 259,
      "outputs": []
    },
    {
      "cell_type": "code",
      "metadata": {
        "colab": {
          "base_uri": "https://localhost:8080/"
        },
        "id": "nlahWwppEuFF",
        "outputId": "5ceea275-fdbd-4b71-f810-304b5c953c70"
      },
      "source": [
        "sixth_input_last_element"
      ],
      "execution_count": 260,
      "outputs": [
        {
          "output_type": "execute_result",
          "data": {
            "text/plain": [
              "2.2059746"
            ]
          },
          "metadata": {
            "tags": []
          },
          "execution_count": 260
        }
      ]
    },
    {
      "cell_type": "code",
      "metadata": {
        "id": "dRchsL8oEs6b"
      },
      "source": [
        "# Building the auto-regressive model for future predictions."
      ],
      "execution_count": 261,
      "outputs": []
    },
    {
      "cell_type": "code",
      "metadata": {
        "id": "bPegtjoeNKmM"
      },
      "source": [
        "def auto_regressive_forecast(model,rnn_forecast_totalpoints,window_size):\n",
        "  \"\"\"\n",
        "  finding the next prediction(sequence) and adding the sequence back as the input to predict next sequence.\n",
        "  \"\"\"\n",
        "  predictions_future=[]\n",
        "  count=0\n",
        "  last_value = rnn_forecast_totalpoints[-1,:,:]\n",
        "  predictions_future.append(last_value[-1][0])\n",
        "  for i in range(24):\n",
        "    next_pred = model_forecast(model, last_value, window_size)\n",
        "    temp_value = next_pred[-1,:,:]\n",
        "    predictions_future.append(temp_value[-1][0])\n",
        "    last_value = temp_value\n",
        "    count+=1\n",
        "  return predictions_future"
      ],
      "execution_count": 262,
      "outputs": []
    },
    {
      "cell_type": "code",
      "metadata": {
        "id": "BILU-_dwNKkc"
      },
      "source": [
        "predictions_future = auto_regressive_forecast(model,rnn_forecast_totalpoints,window_size)"
      ],
      "execution_count": 263,
      "outputs": []
    },
    {
      "cell_type": "code",
      "metadata": {
        "id": "rcdL1XldNKgy",
        "colab": {
          "base_uri": "https://localhost:8080/"
        },
        "outputId": "b9a19b44-8bc1-4975-ab7a-edc251953de5"
      },
      "source": [
        "predictions_future"
      ],
      "execution_count": 264,
      "outputs": [
        {
          "output_type": "execute_result",
          "data": {
            "text/plain": [
              "[6.8047442,\n",
              " 6.6708236,\n",
              " 5.7016306,\n",
              " 4.4650326,\n",
              " 3.1441092,\n",
              " 2.2059746,\n",
              " 1.7918632,\n",
              " 1.6108632,\n",
              " 1.5126452,\n",
              " 1.4496639,\n",
              " 1.4092193,\n",
              " 1.3856306,\n",
              " 1.3732746,\n",
              " 1.3673395,\n",
              " 1.3646588,\n",
              " 1.3635248,\n",
              " 1.3630867,\n",
              " 1.362984,\n",
              " 1.3630226,\n",
              " 1.3631225,\n",
              " 1.3632252,\n",
              " 1.363346,\n",
              " 1.3634562,\n",
              " 1.3635486,\n",
              " 1.3636305]"
            ]
          },
          "metadata": {
            "tags": []
          },
          "execution_count": 264
        }
      ]
    },
    {
      "cell_type": "code",
      "metadata": {
        "id": "SOkucHkVNKfG"
      },
      "source": [
        ""
      ],
      "execution_count": null,
      "outputs": []
    },
    {
      "cell_type": "code",
      "metadata": {
        "id": "j2zPEeO5NKbO"
      },
      "source": [
        ""
      ],
      "execution_count": null,
      "outputs": []
    },
    {
      "cell_type": "code",
      "metadata": {
        "id": "ZqDFgjN6NKZX"
      },
      "source": [
        ""
      ],
      "execution_count": null,
      "outputs": []
    },
    {
      "cell_type": "code",
      "metadata": {
        "id": "oyXNBvHxbiOQ"
      },
      "source": [
        ""
      ],
      "execution_count": null,
      "outputs": []
    }
  ]
}