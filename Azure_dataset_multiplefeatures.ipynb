{
  "nbformat": 4,
  "nbformat_minor": 0,
  "metadata": {
    "colab": {
      "name": "Azure_dataset_multiplefeatures.ipynb",
      "provenance": [],
      "collapsed_sections": [],
      "mount_file_id": "1Xf1lk_ntRw1Hfa_EK7MWmZ3bTYQ1tTH5",
      "authorship_tag": "ABX9TyM0YdY9klEKWzxNv0VkIgeP",
      "include_colab_link": true
    },
    "kernelspec": {
      "name": "python3",
      "display_name": "Python 3"
    },
    "accelerator": "GPU"
  },
  "cells": [
    {
      "cell_type": "markdown",
      "metadata": {
        "id": "view-in-github",
        "colab_type": "text"
      },
      "source": [
        "<a href=\"https://colab.research.google.com/github/priya170807/Time-seriesAnalysis/blob/main/Azure_dataset_multiplefeatures.ipynb\" target=\"_parent\"><img src=\"https://colab.research.google.com/assets/colab-badge.svg\" alt=\"Open In Colab\"/></a>"
      ]
    },
    {
      "cell_type": "code",
      "metadata": {
        "id": "PhZgi3ay2-KM"
      },
      "source": [
        "import numpy as np\n",
        "import pandas as pd\n",
        "import matplotlib.pyplot as plt\n",
        "import seaborn as sns\n",
        "from sklearn.preprocessing import minmax_scale\n",
        "from sklearn.preprocessing import StandardScaler\n",
        "from sklearn.preprocessing import MinMaxScaler\n"
      ],
      "execution_count": null,
      "outputs": []
    },
    {
      "cell_type": "code",
      "metadata": {
        "colab": {
          "base_uri": "https://localhost:8080/",
          "height": 296
        },
        "id": "5oiUIxCo9SCI",
        "outputId": "3b31a4ae-0912-4345-bf85-1fc64d36ee8b"
      },
      "source": [
        "data_path = '/content/drive/MyDrive/vmtable.csv/vmtable.csv'\n",
        "headers=['vmid','subscriptionid','deploymentid','vmcreated', 'vmdeleted', 'maxcpu', 'avgcpu', 'p95maxcpu', 'vmcategory', 'vmcorecount', 'vmmemory']\n",
        "trace_dataframe = pd.read_csv(data_path, header=None, index_col=False,names=headers,delimiter=',')\n",
        "\n",
        "\n",
        "#Compute VM Lifetime based on VM Created and VM Deleted timestamps and transform to Hour\n",
        "trace_dataframe['lifetime'] = np.maximum((trace_dataframe['vmdeleted'] - trace_dataframe['vmcreated']),300)/ 3600\n",
        "trace_dataframe['corehour'] = trace_dataframe['lifetime'] * trace_dataframe['vmcorecount']\n",
        "trace_dataframe.head()"
      ],
      "execution_count": null,
      "outputs": [
        {
          "output_type": "execute_result",
          "data": {
            "text/html": [
              "<div>\n",
              "<style scoped>\n",
              "    .dataframe tbody tr th:only-of-type {\n",
              "        vertical-align: middle;\n",
              "    }\n",
              "\n",
              "    .dataframe tbody tr th {\n",
              "        vertical-align: top;\n",
              "    }\n",
              "\n",
              "    .dataframe thead th {\n",
              "        text-align: right;\n",
              "    }\n",
              "</style>\n",
              "<table border=\"1\" class=\"dataframe\">\n",
              "  <thead>\n",
              "    <tr style=\"text-align: right;\">\n",
              "      <th></th>\n",
              "      <th>vmid</th>\n",
              "      <th>subscriptionid</th>\n",
              "      <th>deploymentid</th>\n",
              "      <th>vmcreated</th>\n",
              "      <th>vmdeleted</th>\n",
              "      <th>maxcpu</th>\n",
              "      <th>avgcpu</th>\n",
              "      <th>p95maxcpu</th>\n",
              "      <th>vmcategory</th>\n",
              "      <th>vmcorecount</th>\n",
              "      <th>vmmemory</th>\n",
              "      <th>lifetime</th>\n",
              "      <th>corehour</th>\n",
              "    </tr>\n",
              "  </thead>\n",
              "  <tbody>\n",
              "    <tr>\n",
              "      <th>0</th>\n",
              "      <td>x/XsOfHO4ocsV99i4NluqKDuxctW2MMVmwqOPAlg4wp8mq...</td>\n",
              "      <td>VDU4C8cqdr+ORcqquwMRcsBA2l0SC6lCPys0wdghKROuxP...</td>\n",
              "      <td>Pc2VLB8aDxK2DCC96itq4vW/zVDp4wioAUiB3HoGSFYQ0o...</td>\n",
              "      <td>0</td>\n",
              "      <td>2591700</td>\n",
              "      <td>99.369869</td>\n",
              "      <td>3.424094</td>\n",
              "      <td>10.194309</td>\n",
              "      <td>Delay-insensitive</td>\n",
              "      <td>1</td>\n",
              "      <td>1.75</td>\n",
              "      <td>719.916667</td>\n",
              "      <td>719.916667</td>\n",
              "    </tr>\n",
              "    <tr>\n",
              "      <th>1</th>\n",
              "      <td>H5CxmMoVcZSpjgGbohnVA3R+7uCTe/hM2ht2uIYi3t7KwX...</td>\n",
              "      <td>BSXOcywx8pUU0DueDo6UMol1YzR6tn47KLEKaoXp0a1bf2...</td>\n",
              "      <td>3J17LcV4gXjFat62qhVFRfoiWArHnY763HVqqI6orJCfV8...</td>\n",
              "      <td>0</td>\n",
              "      <td>1539300</td>\n",
              "      <td>100.000000</td>\n",
              "      <td>6.181784</td>\n",
              "      <td>33.981360</td>\n",
              "      <td>Interactive</td>\n",
              "      <td>1</td>\n",
              "      <td>0.75</td>\n",
              "      <td>427.583333</td>\n",
              "      <td>427.583333</td>\n",
              "    </tr>\n",
              "    <tr>\n",
              "      <th>2</th>\n",
              "      <td>wR/G1YUjpMP4zUbxGM/XJNhYS8cAK3SGKM2tqhF7VdeTUY...</td>\n",
              "      <td>VDU4C8cqdr+ORcqquwMRcsBA2l0SC6lCPys0wdghKROuxP...</td>\n",
              "      <td>Pc2VLB8aDxK2DCC96itq4vW/zVDp4wioAUiB3HoGSFYQ0o...</td>\n",
              "      <td>2188800</td>\n",
              "      <td>2591700</td>\n",
              "      <td>99.569027</td>\n",
              "      <td>3.573635</td>\n",
              "      <td>7.924250</td>\n",
              "      <td>Delay-insensitive</td>\n",
              "      <td>1</td>\n",
              "      <td>1.75</td>\n",
              "      <td>111.916667</td>\n",
              "      <td>111.916667</td>\n",
              "    </tr>\n",
              "    <tr>\n",
              "      <th>3</th>\n",
              "      <td>1XiU+KpvIa3T1XP8kk3ZY71Of03+ogFL5Pag9Mc2jBuh0Y...</td>\n",
              "      <td>8u+M3WcFp8pq183WoMB79PhK7xUzbaviOBv0qWN6Xn4mbu...</td>\n",
              "      <td>DHbeI+pYTYFjH8JAF8SewM0z/4SqQctvxcBRGIRglBmeLW...</td>\n",
              "      <td>0</td>\n",
              "      <td>2591700</td>\n",
              "      <td>99.405085</td>\n",
              "      <td>16.287611</td>\n",
              "      <td>95.697890</td>\n",
              "      <td>Delay-insensitive</td>\n",
              "      <td>8</td>\n",
              "      <td>56.00</td>\n",
              "      <td>719.916667</td>\n",
              "      <td>5759.333333</td>\n",
              "    </tr>\n",
              "    <tr>\n",
              "      <th>4</th>\n",
              "      <td>z5i2HiSaz6ZdLR6PXdnDjGva3jIlkMPXx23VtfXx9q3dXF...</td>\n",
              "      <td>VDU4C8cqdr+ORcqquwMRcsBA2l0SC6lCPys0wdghKROuxP...</td>\n",
              "      <td>Pc2VLB8aDxK2DCC96itq4vW/zVDp4wioAUiB3HoGSFYQ0o...</td>\n",
              "      <td>0</td>\n",
              "      <td>2188500</td>\n",
              "      <td>98.967961</td>\n",
              "      <td>3.036038</td>\n",
              "      <td>9.445484</td>\n",
              "      <td>Delay-insensitive</td>\n",
              "      <td>1</td>\n",
              "      <td>1.75</td>\n",
              "      <td>607.916667</td>\n",
              "      <td>607.916667</td>\n",
              "    </tr>\n",
              "  </tbody>\n",
              "</table>\n",
              "</div>"
            ],
            "text/plain": [
              "                                                vmid  ...     corehour\n",
              "0  x/XsOfHO4ocsV99i4NluqKDuxctW2MMVmwqOPAlg4wp8mq...  ...   719.916667\n",
              "1  H5CxmMoVcZSpjgGbohnVA3R+7uCTe/hM2ht2uIYi3t7KwX...  ...   427.583333\n",
              "2  wR/G1YUjpMP4zUbxGM/XJNhYS8cAK3SGKM2tqhF7VdeTUY...  ...   111.916667\n",
              "3  1XiU+KpvIa3T1XP8kk3ZY71Of03+ogFL5Pag9Mc2jBuh0Y...  ...  5759.333333\n",
              "4  z5i2HiSaz6ZdLR6PXdnDjGva3jIlkMPXx23VtfXx9q3dXF...  ...   607.916667\n",
              "\n",
              "[5 rows x 13 columns]"
            ]
          },
          "metadata": {
            "tags": []
          },
          "execution_count": 42
        }
      ]
    },
    {
      "cell_type": "code",
      "metadata": {
        "colab": {
          "base_uri": "https://localhost:8080/",
          "height": 296
        },
        "id": "Rm9AmT-2_OiN",
        "outputId": "26607ca1-3029-4455-d3ed-70b931fe7167"
      },
      "source": [
        "trace_dataframe.head()"
      ],
      "execution_count": null,
      "outputs": [
        {
          "output_type": "execute_result",
          "data": {
            "text/html": [
              "<div>\n",
              "<style scoped>\n",
              "    .dataframe tbody tr th:only-of-type {\n",
              "        vertical-align: middle;\n",
              "    }\n",
              "\n",
              "    .dataframe tbody tr th {\n",
              "        vertical-align: top;\n",
              "    }\n",
              "\n",
              "    .dataframe thead th {\n",
              "        text-align: right;\n",
              "    }\n",
              "</style>\n",
              "<table border=\"1\" class=\"dataframe\">\n",
              "  <thead>\n",
              "    <tr style=\"text-align: right;\">\n",
              "      <th></th>\n",
              "      <th>vmid</th>\n",
              "      <th>subscriptionid</th>\n",
              "      <th>deploymentid</th>\n",
              "      <th>vmcreated</th>\n",
              "      <th>vmdeleted</th>\n",
              "      <th>maxcpu</th>\n",
              "      <th>avgcpu</th>\n",
              "      <th>p95maxcpu</th>\n",
              "      <th>vmcategory</th>\n",
              "      <th>vmcorecount</th>\n",
              "      <th>vmmemory</th>\n",
              "      <th>lifetime</th>\n",
              "      <th>corehour</th>\n",
              "    </tr>\n",
              "  </thead>\n",
              "  <tbody>\n",
              "    <tr>\n",
              "      <th>0</th>\n",
              "      <td>x/XsOfHO4ocsV99i4NluqKDuxctW2MMVmwqOPAlg4wp8mq...</td>\n",
              "      <td>VDU4C8cqdr+ORcqquwMRcsBA2l0SC6lCPys0wdghKROuxP...</td>\n",
              "      <td>Pc2VLB8aDxK2DCC96itq4vW/zVDp4wioAUiB3HoGSFYQ0o...</td>\n",
              "      <td>0</td>\n",
              "      <td>2591700</td>\n",
              "      <td>99.369869</td>\n",
              "      <td>3.424094</td>\n",
              "      <td>10.194309</td>\n",
              "      <td>Delay-insensitive</td>\n",
              "      <td>1</td>\n",
              "      <td>1.75</td>\n",
              "      <td>719.916667</td>\n",
              "      <td>719.916667</td>\n",
              "    </tr>\n",
              "    <tr>\n",
              "      <th>1</th>\n",
              "      <td>H5CxmMoVcZSpjgGbohnVA3R+7uCTe/hM2ht2uIYi3t7KwX...</td>\n",
              "      <td>BSXOcywx8pUU0DueDo6UMol1YzR6tn47KLEKaoXp0a1bf2...</td>\n",
              "      <td>3J17LcV4gXjFat62qhVFRfoiWArHnY763HVqqI6orJCfV8...</td>\n",
              "      <td>0</td>\n",
              "      <td>1539300</td>\n",
              "      <td>100.000000</td>\n",
              "      <td>6.181784</td>\n",
              "      <td>33.981360</td>\n",
              "      <td>Interactive</td>\n",
              "      <td>1</td>\n",
              "      <td>0.75</td>\n",
              "      <td>427.583333</td>\n",
              "      <td>427.583333</td>\n",
              "    </tr>\n",
              "    <tr>\n",
              "      <th>2</th>\n",
              "      <td>wR/G1YUjpMP4zUbxGM/XJNhYS8cAK3SGKM2tqhF7VdeTUY...</td>\n",
              "      <td>VDU4C8cqdr+ORcqquwMRcsBA2l0SC6lCPys0wdghKROuxP...</td>\n",
              "      <td>Pc2VLB8aDxK2DCC96itq4vW/zVDp4wioAUiB3HoGSFYQ0o...</td>\n",
              "      <td>2188800</td>\n",
              "      <td>2591700</td>\n",
              "      <td>99.569027</td>\n",
              "      <td>3.573635</td>\n",
              "      <td>7.924250</td>\n",
              "      <td>Delay-insensitive</td>\n",
              "      <td>1</td>\n",
              "      <td>1.75</td>\n",
              "      <td>111.916667</td>\n",
              "      <td>111.916667</td>\n",
              "    </tr>\n",
              "    <tr>\n",
              "      <th>3</th>\n",
              "      <td>1XiU+KpvIa3T1XP8kk3ZY71Of03+ogFL5Pag9Mc2jBuh0Y...</td>\n",
              "      <td>8u+M3WcFp8pq183WoMB79PhK7xUzbaviOBv0qWN6Xn4mbu...</td>\n",
              "      <td>DHbeI+pYTYFjH8JAF8SewM0z/4SqQctvxcBRGIRglBmeLW...</td>\n",
              "      <td>0</td>\n",
              "      <td>2591700</td>\n",
              "      <td>99.405085</td>\n",
              "      <td>16.287611</td>\n",
              "      <td>95.697890</td>\n",
              "      <td>Delay-insensitive</td>\n",
              "      <td>8</td>\n",
              "      <td>56.00</td>\n",
              "      <td>719.916667</td>\n",
              "      <td>5759.333333</td>\n",
              "    </tr>\n",
              "    <tr>\n",
              "      <th>4</th>\n",
              "      <td>z5i2HiSaz6ZdLR6PXdnDjGva3jIlkMPXx23VtfXx9q3dXF...</td>\n",
              "      <td>VDU4C8cqdr+ORcqquwMRcsBA2l0SC6lCPys0wdghKROuxP...</td>\n",
              "      <td>Pc2VLB8aDxK2DCC96itq4vW/zVDp4wioAUiB3HoGSFYQ0o...</td>\n",
              "      <td>0</td>\n",
              "      <td>2188500</td>\n",
              "      <td>98.967961</td>\n",
              "      <td>3.036038</td>\n",
              "      <td>9.445484</td>\n",
              "      <td>Delay-insensitive</td>\n",
              "      <td>1</td>\n",
              "      <td>1.75</td>\n",
              "      <td>607.916667</td>\n",
              "      <td>607.916667</td>\n",
              "    </tr>\n",
              "  </tbody>\n",
              "</table>\n",
              "</div>"
            ],
            "text/plain": [
              "                                                vmid  ...     corehour\n",
              "0  x/XsOfHO4ocsV99i4NluqKDuxctW2MMVmwqOPAlg4wp8mq...  ...   719.916667\n",
              "1  H5CxmMoVcZSpjgGbohnVA3R+7uCTe/hM2ht2uIYi3t7KwX...  ...   427.583333\n",
              "2  wR/G1YUjpMP4zUbxGM/XJNhYS8cAK3SGKM2tqhF7VdeTUY...  ...   111.916667\n",
              "3  1XiU+KpvIa3T1XP8kk3ZY71Of03+ogFL5Pag9Mc2jBuh0Y...  ...  5759.333333\n",
              "4  z5i2HiSaz6ZdLR6PXdnDjGva3jIlkMPXx23VtfXx9q3dXF...  ...   607.916667\n",
              "\n",
              "[5 rows x 13 columns]"
            ]
          },
          "metadata": {
            "tags": []
          },
          "execution_count": 43
        }
      ]
    },
    {
      "cell_type": "code",
      "metadata": {
        "colab": {
          "base_uri": "https://localhost:8080/"
        },
        "id": "kE_cqc6B_XNx",
        "outputId": "d15deaae-75c0-4b8b-fc07-d0d38f84d0f8"
      },
      "source": [
        "vm_count = trace_dataframe.shape[0]\n",
        "subscription_count = trace_dataframe['subscriptionid'].unique().shape[0]\n",
        "deployment_count = trace_dataframe['deploymentid'].unique().shape[0]\n",
        "total_vm_hour_available = trace_dataframe['lifetime'].sum()\n",
        "total_core_hour_available = trace_dataframe['corehour'].sum()\n",
        "\n",
        "print(\"Total Number of Virtual Machines in the Dataset: %d\" % vm_count)\n",
        "print(\"Total Number of Subscriptions in the Dataset: %d\" % subscription_count)\n",
        "print(\"Total Number of Deployments in the Dataset: %d\" % deployment_count)\n",
        "print(\"Total VM Hours Available in the Dataset: %f\" % total_vm_hour_available)\n",
        "print(\"Total Core Hours Available in the Dataset: %f\" % total_core_hour_available)"
      ],
      "execution_count": null,
      "outputs": [
        {
          "output_type": "stream",
          "text": [
            "Total Number of Virtual Machines in the Dataset: 2013767\n",
            "Total Number of Subscriptions in the Dataset: 5958\n",
            "Total Number of Deployments in the Dataset: 35941\n",
            "Total VM Hours Available in the Dataset: 104371713.416667\n",
            "Total Core Hours Available in the Dataset: 237815104.750000\n"
          ],
          "name": "stdout"
        }
      ]
    },
    {
      "cell_type": "code",
      "metadata": {
        "colab": {
          "base_uri": "https://localhost:8080/"
        },
        "id": "ok_Np5YG_ijw",
        "outputId": "8d02e84a-701b-414c-d429-1d971788d2b7"
      },
      "source": [
        "trace_dataframe[\"subscriptionid\"].value_counts()"
      ],
      "execution_count": null,
      "outputs": [
        {
          "output_type": "execute_result",
          "data": {
            "text/plain": [
              "+9OPyI+/Eeu5PSXVMdkPw3cB99+uk+YiAwMRGJU1cDm2ESAgTaUXcM091m1HeTX7    128047\n",
              "1pvP5oaK47WSSY0IZRNEQYdTLEx79rf7Gj1isBYW1jDOFGZXLQGTa0V3XnCrLrkB    111509\n",
              "IBRuELx83WZHD8ZBmRnQ7nN53DxcMPAO7szqGt218k7STW7rx0pjgjj5eLJ0FLbn     93427\n",
              "BShs5OvpbfrccmXj7X4MwSxkSFVNdSOzhYaDEKCijpvxWWkNByokK6c31F1uCT7R     85874\n",
              "8aRytjOt2E+dixkPugZHbKFROou3eQLywft928DTtFP2o3QzFTIxYQ+8r0kdkzvo     68490\n",
              "                                                                     ...  \n",
              "0y2lONYDMM5NmL54AUh5knoBSIFTvwxGmZ0SsgyT2N+pvcCchRq11zxhHyk8V4u0         1\n",
              "+w0UpkijZjYmxKoIbgsHur2tZGYVfYCvBZfxgQA3fS6AewB7fjZeP/GZ8PHqdlip         1\n",
              "im8yg44Wk38XgVG8sNM/NM8kr9RAgoaG/HVi6NQ/TtsyVZ0gPa6bTeCcxFTNuSOB         1\n",
              "do/4/JUwDTSoj5jVwMf4Y6fnPVlwPHMlt2wClBKScFNU6IUjYjfeoJ+TQ0jlBiXo         1\n",
              "j0KcokTGYNWm3AgkSbvdp4oGsZteb/XioDN+SPe+6Af3a9HD920cU9it9yhL/m1X         1\n",
              "Name: subscriptionid, Length: 5958, dtype: int64"
            ]
          },
          "metadata": {
            "tags": []
          },
          "execution_count": 45
        }
      ]
    },
    {
      "cell_type": "code",
      "metadata": {
        "id": "qzPoNCr2AHfx"
      },
      "source": [
        "oneVM_data = trace_dataframe[trace_dataframe[\"subscriptionid\"] == \"+9OPyI+/Eeu5PSXVMdkPw3cB99+uk+YiAwMRGJU1cDm2ESAgTaUXcM091m1HeTX7\"]"
      ],
      "execution_count": null,
      "outputs": []
    },
    {
      "cell_type": "code",
      "metadata": {
        "colab": {
          "base_uri": "https://localhost:8080/",
          "height": 296
        },
        "id": "ZH3flW1WAYyB",
        "outputId": "fd1ce2dc-889c-40e0-8623-8ffe6ec23acb"
      },
      "source": [
        "oneVM_data.head()"
      ],
      "execution_count": null,
      "outputs": [
        {
          "output_type": "execute_result",
          "data": {
            "text/html": [
              "<div>\n",
              "<style scoped>\n",
              "    .dataframe tbody tr th:only-of-type {\n",
              "        vertical-align: middle;\n",
              "    }\n",
              "\n",
              "    .dataframe tbody tr th {\n",
              "        vertical-align: top;\n",
              "    }\n",
              "\n",
              "    .dataframe thead th {\n",
              "        text-align: right;\n",
              "    }\n",
              "</style>\n",
              "<table border=\"1\" class=\"dataframe\">\n",
              "  <thead>\n",
              "    <tr style=\"text-align: right;\">\n",
              "      <th></th>\n",
              "      <th>vmid</th>\n",
              "      <th>subscriptionid</th>\n",
              "      <th>deploymentid</th>\n",
              "      <th>vmcreated</th>\n",
              "      <th>vmdeleted</th>\n",
              "      <th>maxcpu</th>\n",
              "      <th>avgcpu</th>\n",
              "      <th>p95maxcpu</th>\n",
              "      <th>vmcategory</th>\n",
              "      <th>vmcorecount</th>\n",
              "      <th>vmmemory</th>\n",
              "      <th>lifetime</th>\n",
              "      <th>corehour</th>\n",
              "    </tr>\n",
              "  </thead>\n",
              "  <tbody>\n",
              "    <tr>\n",
              "      <th>87435</th>\n",
              "      <td>kIq+LToYe/oJmpZJCT6aYfxRh252I4Bd8FQQIyaLLAST5A...</td>\n",
              "      <td>+9OPyI+/Eeu5PSXVMdkPw3cB99+uk+YiAwMRGJU1cDm2ES...</td>\n",
              "      <td>TSRTTdb9LRjgp+FpJYUBXBczOvLJLO5ksIDZm6OFgtN4Sa...</td>\n",
              "      <td>2305800</td>\n",
              "      <td>2310300</td>\n",
              "      <td>66.909246</td>\n",
              "      <td>2.900874</td>\n",
              "      <td>66.909246</td>\n",
              "      <td>Delay-insensitive</td>\n",
              "      <td>8</td>\n",
              "      <td>14.00</td>\n",
              "      <td>1.250000</td>\n",
              "      <td>10.000000</td>\n",
              "    </tr>\n",
              "    <tr>\n",
              "      <th>87436</th>\n",
              "      <td>T5Hgk7CUx9Z/ANIZ+3TIHran3IGgr4RcUoxGNMmWB5+96a...</td>\n",
              "      <td>+9OPyI+/Eeu5PSXVMdkPw3cB99+uk+YiAwMRGJU1cDm2ES...</td>\n",
              "      <td>TSRTTdb9LRjgp+FpJYUBXBczOvLJLO5ksIDZm6OFgtN4Sa...</td>\n",
              "      <td>2305800</td>\n",
              "      <td>2310300</td>\n",
              "      <td>6.510768</td>\n",
              "      <td>2.087024</td>\n",
              "      <td>6.510768</td>\n",
              "      <td>Delay-insensitive</td>\n",
              "      <td>8</td>\n",
              "      <td>14.00</td>\n",
              "      <td>1.250000</td>\n",
              "      <td>10.000000</td>\n",
              "    </tr>\n",
              "    <tr>\n",
              "      <th>87437</th>\n",
              "      <td>Omelc/JAGTVT51lNOObucJUr93TlFPNhEhyMeMRWrggtoK...</td>\n",
              "      <td>+9OPyI+/Eeu5PSXVMdkPw3cB99+uk+YiAwMRGJU1cDm2ES...</td>\n",
              "      <td>TSRTTdb9LRjgp+FpJYUBXBczOvLJLO5ksIDZm6OFgtN4Sa...</td>\n",
              "      <td>2238900</td>\n",
              "      <td>2244000</td>\n",
              "      <td>66.956558</td>\n",
              "      <td>3.139114</td>\n",
              "      <td>66.956558</td>\n",
              "      <td>Unkown</td>\n",
              "      <td>8</td>\n",
              "      <td>14.00</td>\n",
              "      <td>1.416667</td>\n",
              "      <td>11.333333</td>\n",
              "    </tr>\n",
              "    <tr>\n",
              "      <th>87438</th>\n",
              "      <td>Xrz83UV+7HsyDhOSClTCpitt73f4NVIqxBJIoXgNVOSiCW...</td>\n",
              "      <td>+9OPyI+/Eeu5PSXVMdkPw3cB99+uk+YiAwMRGJU1cDm2ES...</td>\n",
              "      <td>TSRTTdb9LRjgp+FpJYUBXBczOvLJLO5ksIDZm6OFgtN4Sa...</td>\n",
              "      <td>1103700</td>\n",
              "      <td>1104000</td>\n",
              "      <td>98.795780</td>\n",
              "      <td>27.330195</td>\n",
              "      <td>98.795780</td>\n",
              "      <td>Delay-insensitive</td>\n",
              "      <td>1</td>\n",
              "      <td>1.75</td>\n",
              "      <td>0.083333</td>\n",
              "      <td>0.083333</td>\n",
              "    </tr>\n",
              "    <tr>\n",
              "      <th>87439</th>\n",
              "      <td>BFJu/lrNsLRY1anlsPB7Ii3cPuz9pavIuk72SKjTo50qyf...</td>\n",
              "      <td>+9OPyI+/Eeu5PSXVMdkPw3cB99+uk+YiAwMRGJU1cDm2ES...</td>\n",
              "      <td>TSRTTdb9LRjgp+FpJYUBXBczOvLJLO5ksIDZm6OFgtN4Sa...</td>\n",
              "      <td>2484600</td>\n",
              "      <td>2505600</td>\n",
              "      <td>6.472197</td>\n",
              "      <td>1.686090</td>\n",
              "      <td>5.768269</td>\n",
              "      <td>Delay-insensitive</td>\n",
              "      <td>8</td>\n",
              "      <td>14.00</td>\n",
              "      <td>5.833333</td>\n",
              "      <td>46.666667</td>\n",
              "    </tr>\n",
              "  </tbody>\n",
              "</table>\n",
              "</div>"
            ],
            "text/plain": [
              "                                                    vmid  ...   corehour\n",
              "87435  kIq+LToYe/oJmpZJCT6aYfxRh252I4Bd8FQQIyaLLAST5A...  ...  10.000000\n",
              "87436  T5Hgk7CUx9Z/ANIZ+3TIHran3IGgr4RcUoxGNMmWB5+96a...  ...  10.000000\n",
              "87437  Omelc/JAGTVT51lNOObucJUr93TlFPNhEhyMeMRWrggtoK...  ...  11.333333\n",
              "87438  Xrz83UV+7HsyDhOSClTCpitt73f4NVIqxBJIoXgNVOSiCW...  ...   0.083333\n",
              "87439  BFJu/lrNsLRY1anlsPB7Ii3cPuz9pavIuk72SKjTo50qyf...  ...  46.666667\n",
              "\n",
              "[5 rows x 13 columns]"
            ]
          },
          "metadata": {
            "tags": []
          },
          "execution_count": 47
        }
      ]
    },
    {
      "cell_type": "code",
      "metadata": {
        "colab": {
          "base_uri": "https://localhost:8080/"
        },
        "id": "LsFL3NMVgQvE",
        "outputId": "e229386d-4afa-40d5-f4f4-b15d9f557532"
      },
      "source": [
        "len(oneVM_data)"
      ],
      "execution_count": null,
      "outputs": [
        {
          "output_type": "execute_result",
          "data": {
            "text/plain": [
              "128047"
            ]
          },
          "metadata": {
            "tags": []
          },
          "execution_count": 48
        }
      ]
    },
    {
      "cell_type": "code",
      "metadata": {
        "colab": {
          "base_uri": "https://localhost:8080/",
          "height": 548
        },
        "id": "y9a1BwpLmypU",
        "outputId": "4e41c343-1afe-4d96-bc27-d601380d998b"
      },
      "source": [
        "oneVM_data"
      ],
      "execution_count": null,
      "outputs": [
        {
          "output_type": "execute_result",
          "data": {
            "text/html": [
              "<div>\n",
              "<style scoped>\n",
              "    .dataframe tbody tr th:only-of-type {\n",
              "        vertical-align: middle;\n",
              "    }\n",
              "\n",
              "    .dataframe tbody tr th {\n",
              "        vertical-align: top;\n",
              "    }\n",
              "\n",
              "    .dataframe thead th {\n",
              "        text-align: right;\n",
              "    }\n",
              "</style>\n",
              "<table border=\"1\" class=\"dataframe\">\n",
              "  <thead>\n",
              "    <tr style=\"text-align: right;\">\n",
              "      <th></th>\n",
              "      <th>vmid</th>\n",
              "      <th>subscriptionid</th>\n",
              "      <th>deploymentid</th>\n",
              "      <th>vmcreated</th>\n",
              "      <th>vmdeleted</th>\n",
              "      <th>maxcpu</th>\n",
              "      <th>avgcpu</th>\n",
              "      <th>p95maxcpu</th>\n",
              "      <th>vmcategory</th>\n",
              "      <th>vmcorecount</th>\n",
              "      <th>vmmemory</th>\n",
              "      <th>lifetime</th>\n",
              "      <th>corehour</th>\n",
              "    </tr>\n",
              "  </thead>\n",
              "  <tbody>\n",
              "    <tr>\n",
              "      <th>87435</th>\n",
              "      <td>kIq+LToYe/oJmpZJCT6aYfxRh252I4Bd8FQQIyaLLAST5A...</td>\n",
              "      <td>+9OPyI+/Eeu5PSXVMdkPw3cB99+uk+YiAwMRGJU1cDm2ES...</td>\n",
              "      <td>TSRTTdb9LRjgp+FpJYUBXBczOvLJLO5ksIDZm6OFgtN4Sa...</td>\n",
              "      <td>2305800</td>\n",
              "      <td>2310300</td>\n",
              "      <td>66.909246</td>\n",
              "      <td>2.900874</td>\n",
              "      <td>66.909246</td>\n",
              "      <td>Delay-insensitive</td>\n",
              "      <td>8</td>\n",
              "      <td>14.00</td>\n",
              "      <td>1.250000</td>\n",
              "      <td>10.000000</td>\n",
              "    </tr>\n",
              "    <tr>\n",
              "      <th>87436</th>\n",
              "      <td>T5Hgk7CUx9Z/ANIZ+3TIHran3IGgr4RcUoxGNMmWB5+96a...</td>\n",
              "      <td>+9OPyI+/Eeu5PSXVMdkPw3cB99+uk+YiAwMRGJU1cDm2ES...</td>\n",
              "      <td>TSRTTdb9LRjgp+FpJYUBXBczOvLJLO5ksIDZm6OFgtN4Sa...</td>\n",
              "      <td>2305800</td>\n",
              "      <td>2310300</td>\n",
              "      <td>6.510768</td>\n",
              "      <td>2.087024</td>\n",
              "      <td>6.510768</td>\n",
              "      <td>Delay-insensitive</td>\n",
              "      <td>8</td>\n",
              "      <td>14.00</td>\n",
              "      <td>1.250000</td>\n",
              "      <td>10.000000</td>\n",
              "    </tr>\n",
              "    <tr>\n",
              "      <th>87437</th>\n",
              "      <td>Omelc/JAGTVT51lNOObucJUr93TlFPNhEhyMeMRWrggtoK...</td>\n",
              "      <td>+9OPyI+/Eeu5PSXVMdkPw3cB99+uk+YiAwMRGJU1cDm2ES...</td>\n",
              "      <td>TSRTTdb9LRjgp+FpJYUBXBczOvLJLO5ksIDZm6OFgtN4Sa...</td>\n",
              "      <td>2238900</td>\n",
              "      <td>2244000</td>\n",
              "      <td>66.956558</td>\n",
              "      <td>3.139114</td>\n",
              "      <td>66.956558</td>\n",
              "      <td>Unkown</td>\n",
              "      <td>8</td>\n",
              "      <td>14.00</td>\n",
              "      <td>1.416667</td>\n",
              "      <td>11.333333</td>\n",
              "    </tr>\n",
              "    <tr>\n",
              "      <th>87438</th>\n",
              "      <td>Xrz83UV+7HsyDhOSClTCpitt73f4NVIqxBJIoXgNVOSiCW...</td>\n",
              "      <td>+9OPyI+/Eeu5PSXVMdkPw3cB99+uk+YiAwMRGJU1cDm2ES...</td>\n",
              "      <td>TSRTTdb9LRjgp+FpJYUBXBczOvLJLO5ksIDZm6OFgtN4Sa...</td>\n",
              "      <td>1103700</td>\n",
              "      <td>1104000</td>\n",
              "      <td>98.795780</td>\n",
              "      <td>27.330195</td>\n",
              "      <td>98.795780</td>\n",
              "      <td>Delay-insensitive</td>\n",
              "      <td>1</td>\n",
              "      <td>1.75</td>\n",
              "      <td>0.083333</td>\n",
              "      <td>0.083333</td>\n",
              "    </tr>\n",
              "    <tr>\n",
              "      <th>87439</th>\n",
              "      <td>BFJu/lrNsLRY1anlsPB7Ii3cPuz9pavIuk72SKjTo50qyf...</td>\n",
              "      <td>+9OPyI+/Eeu5PSXVMdkPw3cB99+uk+YiAwMRGJU1cDm2ES...</td>\n",
              "      <td>TSRTTdb9LRjgp+FpJYUBXBczOvLJLO5ksIDZm6OFgtN4Sa...</td>\n",
              "      <td>2484600</td>\n",
              "      <td>2505600</td>\n",
              "      <td>6.472197</td>\n",
              "      <td>1.686090</td>\n",
              "      <td>5.768269</td>\n",
              "      <td>Delay-insensitive</td>\n",
              "      <td>8</td>\n",
              "      <td>14.00</td>\n",
              "      <td>5.833333</td>\n",
              "      <td>46.666667</td>\n",
              "    </tr>\n",
              "    <tr>\n",
              "      <th>...</th>\n",
              "      <td>...</td>\n",
              "      <td>...</td>\n",
              "      <td>...</td>\n",
              "      <td>...</td>\n",
              "      <td>...</td>\n",
              "      <td>...</td>\n",
              "      <td>...</td>\n",
              "      <td>...</td>\n",
              "      <td>...</td>\n",
              "      <td>...</td>\n",
              "      <td>...</td>\n",
              "      <td>...</td>\n",
              "      <td>...</td>\n",
              "    </tr>\n",
              "    <tr>\n",
              "      <th>215477</th>\n",
              "      <td>Rj0MEc2eJCMnY1lQLsCr3KlaSqZBlB8jnMRQtntC6x90TT...</td>\n",
              "      <td>+9OPyI+/Eeu5PSXVMdkPw3cB99+uk+YiAwMRGJU1cDm2ES...</td>\n",
              "      <td>TSRTTdb9LRjgp+FpJYUBXBczOvLJLO5ksIDZm6OFgtN4Sa...</td>\n",
              "      <td>348600</td>\n",
              "      <td>349200</td>\n",
              "      <td>78.671207</td>\n",
              "      <td>16.454956</td>\n",
              "      <td>78.671207</td>\n",
              "      <td>Unkown</td>\n",
              "      <td>4</td>\n",
              "      <td>7.00</td>\n",
              "      <td>0.166667</td>\n",
              "      <td>0.666667</td>\n",
              "    </tr>\n",
              "    <tr>\n",
              "      <th>215478</th>\n",
              "      <td>zGixyP8hrPksr7LjouSurrsuvm5qyIvimPZLY1RDSXSvAC...</td>\n",
              "      <td>+9OPyI+/Eeu5PSXVMdkPw3cB99+uk+YiAwMRGJU1cDm2ES...</td>\n",
              "      <td>TSRTTdb9LRjgp+FpJYUBXBczOvLJLO5ksIDZm6OFgtN4Sa...</td>\n",
              "      <td>1511100</td>\n",
              "      <td>1511400</td>\n",
              "      <td>2.396378</td>\n",
              "      <td>1.030316</td>\n",
              "      <td>2.396378</td>\n",
              "      <td>Delay-insensitive</td>\n",
              "      <td>8</td>\n",
              "      <td>14.00</td>\n",
              "      <td>0.083333</td>\n",
              "      <td>0.666667</td>\n",
              "    </tr>\n",
              "    <tr>\n",
              "      <th>215479</th>\n",
              "      <td>3vZ244xrWVCF2MD2dCRSYknxm/sKSKaF416OewRZZOXBY3...</td>\n",
              "      <td>+9OPyI+/Eeu5PSXVMdkPw3cB99+uk+YiAwMRGJU1cDm2ES...</td>\n",
              "      <td>TSRTTdb9LRjgp+FpJYUBXBczOvLJLO5ksIDZm6OFgtN4Sa...</td>\n",
              "      <td>1511100</td>\n",
              "      <td>1511400</td>\n",
              "      <td>13.906270</td>\n",
              "      <td>2.627541</td>\n",
              "      <td>13.906270</td>\n",
              "      <td>Unkown</td>\n",
              "      <td>8</td>\n",
              "      <td>14.00</td>\n",
              "      <td>0.083333</td>\n",
              "      <td>0.666667</td>\n",
              "    </tr>\n",
              "    <tr>\n",
              "      <th>215480</th>\n",
              "      <td>2BpPWqTJVkBhifZ5pd2N4iV03VHHA7weOUpuGR8fNKAnu4...</td>\n",
              "      <td>+9OPyI+/Eeu5PSXVMdkPw3cB99+uk+YiAwMRGJU1cDm2ES...</td>\n",
              "      <td>TSRTTdb9LRjgp+FpJYUBXBczOvLJLO5ksIDZm6OFgtN4Sa...</td>\n",
              "      <td>348600</td>\n",
              "      <td>349200</td>\n",
              "      <td>75.087022</td>\n",
              "      <td>12.464659</td>\n",
              "      <td>75.087022</td>\n",
              "      <td>Unkown</td>\n",
              "      <td>4</td>\n",
              "      <td>7.00</td>\n",
              "      <td>0.166667</td>\n",
              "      <td>0.666667</td>\n",
              "    </tr>\n",
              "    <tr>\n",
              "      <th>215481</th>\n",
              "      <td>OMcoVvrKcmsYj/j+s9Wzvde2Quzz1G+Un/74PfKJShKSyz...</td>\n",
              "      <td>+9OPyI+/Eeu5PSXVMdkPw3cB99+uk+YiAwMRGJU1cDm2ES...</td>\n",
              "      <td>TSRTTdb9LRjgp+FpJYUBXBczOvLJLO5ksIDZm6OFgtN4Sa...</td>\n",
              "      <td>1113900</td>\n",
              "      <td>1113900</td>\n",
              "      <td>41.445622</td>\n",
              "      <td>12.958304</td>\n",
              "      <td>41.445622</td>\n",
              "      <td>Delay-insensitive</td>\n",
              "      <td>1</td>\n",
              "      <td>1.75</td>\n",
              "      <td>0.083333</td>\n",
              "      <td>0.083333</td>\n",
              "    </tr>\n",
              "  </tbody>\n",
              "</table>\n",
              "<p>128047 rows × 13 columns</p>\n",
              "</div>"
            ],
            "text/plain": [
              "                                                     vmid  ...   corehour\n",
              "87435   kIq+LToYe/oJmpZJCT6aYfxRh252I4Bd8FQQIyaLLAST5A...  ...  10.000000\n",
              "87436   T5Hgk7CUx9Z/ANIZ+3TIHran3IGgr4RcUoxGNMmWB5+96a...  ...  10.000000\n",
              "87437   Omelc/JAGTVT51lNOObucJUr93TlFPNhEhyMeMRWrggtoK...  ...  11.333333\n",
              "87438   Xrz83UV+7HsyDhOSClTCpitt73f4NVIqxBJIoXgNVOSiCW...  ...   0.083333\n",
              "87439   BFJu/lrNsLRY1anlsPB7Ii3cPuz9pavIuk72SKjTo50qyf...  ...  46.666667\n",
              "...                                                   ...  ...        ...\n",
              "215477  Rj0MEc2eJCMnY1lQLsCr3KlaSqZBlB8jnMRQtntC6x90TT...  ...   0.666667\n",
              "215478  zGixyP8hrPksr7LjouSurrsuvm5qyIvimPZLY1RDSXSvAC...  ...   0.666667\n",
              "215479  3vZ244xrWVCF2MD2dCRSYknxm/sKSKaF416OewRZZOXBY3...  ...   0.666667\n",
              "215480  2BpPWqTJVkBhifZ5pd2N4iV03VHHA7weOUpuGR8fNKAnu4...  ...   0.666667\n",
              "215481  OMcoVvrKcmsYj/j+s9Wzvde2Quzz1G+Un/74PfKJShKSyz...  ...   0.083333\n",
              "\n",
              "[128047 rows x 13 columns]"
            ]
          },
          "metadata": {
            "tags": []
          },
          "execution_count": 49
        }
      ]
    },
    {
      "cell_type": "code",
      "metadata": {
        "id": "CrytfktPlmua"
      },
      "source": [
        "oneVM_data.reset_index(drop=True, inplace=True)"
      ],
      "execution_count": null,
      "outputs": []
    },
    {
      "cell_type": "code",
      "metadata": {
        "colab": {
          "base_uri": "https://localhost:8080/",
          "height": 548
        },
        "id": "5MaCdXlql6bj",
        "outputId": "f64b040e-74e7-461e-a3de-127bd3953f26"
      },
      "source": [
        "oneVM_data"
      ],
      "execution_count": null,
      "outputs": [
        {
          "output_type": "execute_result",
          "data": {
            "text/html": [
              "<div>\n",
              "<style scoped>\n",
              "    .dataframe tbody tr th:only-of-type {\n",
              "        vertical-align: middle;\n",
              "    }\n",
              "\n",
              "    .dataframe tbody tr th {\n",
              "        vertical-align: top;\n",
              "    }\n",
              "\n",
              "    .dataframe thead th {\n",
              "        text-align: right;\n",
              "    }\n",
              "</style>\n",
              "<table border=\"1\" class=\"dataframe\">\n",
              "  <thead>\n",
              "    <tr style=\"text-align: right;\">\n",
              "      <th></th>\n",
              "      <th>vmid</th>\n",
              "      <th>subscriptionid</th>\n",
              "      <th>deploymentid</th>\n",
              "      <th>vmcreated</th>\n",
              "      <th>vmdeleted</th>\n",
              "      <th>maxcpu</th>\n",
              "      <th>avgcpu</th>\n",
              "      <th>p95maxcpu</th>\n",
              "      <th>vmcategory</th>\n",
              "      <th>vmcorecount</th>\n",
              "      <th>vmmemory</th>\n",
              "      <th>lifetime</th>\n",
              "      <th>corehour</th>\n",
              "    </tr>\n",
              "  </thead>\n",
              "  <tbody>\n",
              "    <tr>\n",
              "      <th>0</th>\n",
              "      <td>kIq+LToYe/oJmpZJCT6aYfxRh252I4Bd8FQQIyaLLAST5A...</td>\n",
              "      <td>+9OPyI+/Eeu5PSXVMdkPw3cB99+uk+YiAwMRGJU1cDm2ES...</td>\n",
              "      <td>TSRTTdb9LRjgp+FpJYUBXBczOvLJLO5ksIDZm6OFgtN4Sa...</td>\n",
              "      <td>2305800</td>\n",
              "      <td>2310300</td>\n",
              "      <td>66.909246</td>\n",
              "      <td>2.900874</td>\n",
              "      <td>66.909246</td>\n",
              "      <td>Delay-insensitive</td>\n",
              "      <td>8</td>\n",
              "      <td>14.00</td>\n",
              "      <td>1.250000</td>\n",
              "      <td>10.000000</td>\n",
              "    </tr>\n",
              "    <tr>\n",
              "      <th>1</th>\n",
              "      <td>T5Hgk7CUx9Z/ANIZ+3TIHran3IGgr4RcUoxGNMmWB5+96a...</td>\n",
              "      <td>+9OPyI+/Eeu5PSXVMdkPw3cB99+uk+YiAwMRGJU1cDm2ES...</td>\n",
              "      <td>TSRTTdb9LRjgp+FpJYUBXBczOvLJLO5ksIDZm6OFgtN4Sa...</td>\n",
              "      <td>2305800</td>\n",
              "      <td>2310300</td>\n",
              "      <td>6.510768</td>\n",
              "      <td>2.087024</td>\n",
              "      <td>6.510768</td>\n",
              "      <td>Delay-insensitive</td>\n",
              "      <td>8</td>\n",
              "      <td>14.00</td>\n",
              "      <td>1.250000</td>\n",
              "      <td>10.000000</td>\n",
              "    </tr>\n",
              "    <tr>\n",
              "      <th>2</th>\n",
              "      <td>Omelc/JAGTVT51lNOObucJUr93TlFPNhEhyMeMRWrggtoK...</td>\n",
              "      <td>+9OPyI+/Eeu5PSXVMdkPw3cB99+uk+YiAwMRGJU1cDm2ES...</td>\n",
              "      <td>TSRTTdb9LRjgp+FpJYUBXBczOvLJLO5ksIDZm6OFgtN4Sa...</td>\n",
              "      <td>2238900</td>\n",
              "      <td>2244000</td>\n",
              "      <td>66.956558</td>\n",
              "      <td>3.139114</td>\n",
              "      <td>66.956558</td>\n",
              "      <td>Unkown</td>\n",
              "      <td>8</td>\n",
              "      <td>14.00</td>\n",
              "      <td>1.416667</td>\n",
              "      <td>11.333333</td>\n",
              "    </tr>\n",
              "    <tr>\n",
              "      <th>3</th>\n",
              "      <td>Xrz83UV+7HsyDhOSClTCpitt73f4NVIqxBJIoXgNVOSiCW...</td>\n",
              "      <td>+9OPyI+/Eeu5PSXVMdkPw3cB99+uk+YiAwMRGJU1cDm2ES...</td>\n",
              "      <td>TSRTTdb9LRjgp+FpJYUBXBczOvLJLO5ksIDZm6OFgtN4Sa...</td>\n",
              "      <td>1103700</td>\n",
              "      <td>1104000</td>\n",
              "      <td>98.795780</td>\n",
              "      <td>27.330195</td>\n",
              "      <td>98.795780</td>\n",
              "      <td>Delay-insensitive</td>\n",
              "      <td>1</td>\n",
              "      <td>1.75</td>\n",
              "      <td>0.083333</td>\n",
              "      <td>0.083333</td>\n",
              "    </tr>\n",
              "    <tr>\n",
              "      <th>4</th>\n",
              "      <td>BFJu/lrNsLRY1anlsPB7Ii3cPuz9pavIuk72SKjTo50qyf...</td>\n",
              "      <td>+9OPyI+/Eeu5PSXVMdkPw3cB99+uk+YiAwMRGJU1cDm2ES...</td>\n",
              "      <td>TSRTTdb9LRjgp+FpJYUBXBczOvLJLO5ksIDZm6OFgtN4Sa...</td>\n",
              "      <td>2484600</td>\n",
              "      <td>2505600</td>\n",
              "      <td>6.472197</td>\n",
              "      <td>1.686090</td>\n",
              "      <td>5.768269</td>\n",
              "      <td>Delay-insensitive</td>\n",
              "      <td>8</td>\n",
              "      <td>14.00</td>\n",
              "      <td>5.833333</td>\n",
              "      <td>46.666667</td>\n",
              "    </tr>\n",
              "    <tr>\n",
              "      <th>...</th>\n",
              "      <td>...</td>\n",
              "      <td>...</td>\n",
              "      <td>...</td>\n",
              "      <td>...</td>\n",
              "      <td>...</td>\n",
              "      <td>...</td>\n",
              "      <td>...</td>\n",
              "      <td>...</td>\n",
              "      <td>...</td>\n",
              "      <td>...</td>\n",
              "      <td>...</td>\n",
              "      <td>...</td>\n",
              "      <td>...</td>\n",
              "    </tr>\n",
              "    <tr>\n",
              "      <th>128042</th>\n",
              "      <td>Rj0MEc2eJCMnY1lQLsCr3KlaSqZBlB8jnMRQtntC6x90TT...</td>\n",
              "      <td>+9OPyI+/Eeu5PSXVMdkPw3cB99+uk+YiAwMRGJU1cDm2ES...</td>\n",
              "      <td>TSRTTdb9LRjgp+FpJYUBXBczOvLJLO5ksIDZm6OFgtN4Sa...</td>\n",
              "      <td>348600</td>\n",
              "      <td>349200</td>\n",
              "      <td>78.671207</td>\n",
              "      <td>16.454956</td>\n",
              "      <td>78.671207</td>\n",
              "      <td>Unkown</td>\n",
              "      <td>4</td>\n",
              "      <td>7.00</td>\n",
              "      <td>0.166667</td>\n",
              "      <td>0.666667</td>\n",
              "    </tr>\n",
              "    <tr>\n",
              "      <th>128043</th>\n",
              "      <td>zGixyP8hrPksr7LjouSurrsuvm5qyIvimPZLY1RDSXSvAC...</td>\n",
              "      <td>+9OPyI+/Eeu5PSXVMdkPw3cB99+uk+YiAwMRGJU1cDm2ES...</td>\n",
              "      <td>TSRTTdb9LRjgp+FpJYUBXBczOvLJLO5ksIDZm6OFgtN4Sa...</td>\n",
              "      <td>1511100</td>\n",
              "      <td>1511400</td>\n",
              "      <td>2.396378</td>\n",
              "      <td>1.030316</td>\n",
              "      <td>2.396378</td>\n",
              "      <td>Delay-insensitive</td>\n",
              "      <td>8</td>\n",
              "      <td>14.00</td>\n",
              "      <td>0.083333</td>\n",
              "      <td>0.666667</td>\n",
              "    </tr>\n",
              "    <tr>\n",
              "      <th>128044</th>\n",
              "      <td>3vZ244xrWVCF2MD2dCRSYknxm/sKSKaF416OewRZZOXBY3...</td>\n",
              "      <td>+9OPyI+/Eeu5PSXVMdkPw3cB99+uk+YiAwMRGJU1cDm2ES...</td>\n",
              "      <td>TSRTTdb9LRjgp+FpJYUBXBczOvLJLO5ksIDZm6OFgtN4Sa...</td>\n",
              "      <td>1511100</td>\n",
              "      <td>1511400</td>\n",
              "      <td>13.906270</td>\n",
              "      <td>2.627541</td>\n",
              "      <td>13.906270</td>\n",
              "      <td>Unkown</td>\n",
              "      <td>8</td>\n",
              "      <td>14.00</td>\n",
              "      <td>0.083333</td>\n",
              "      <td>0.666667</td>\n",
              "    </tr>\n",
              "    <tr>\n",
              "      <th>128045</th>\n",
              "      <td>2BpPWqTJVkBhifZ5pd2N4iV03VHHA7weOUpuGR8fNKAnu4...</td>\n",
              "      <td>+9OPyI+/Eeu5PSXVMdkPw3cB99+uk+YiAwMRGJU1cDm2ES...</td>\n",
              "      <td>TSRTTdb9LRjgp+FpJYUBXBczOvLJLO5ksIDZm6OFgtN4Sa...</td>\n",
              "      <td>348600</td>\n",
              "      <td>349200</td>\n",
              "      <td>75.087022</td>\n",
              "      <td>12.464659</td>\n",
              "      <td>75.087022</td>\n",
              "      <td>Unkown</td>\n",
              "      <td>4</td>\n",
              "      <td>7.00</td>\n",
              "      <td>0.166667</td>\n",
              "      <td>0.666667</td>\n",
              "    </tr>\n",
              "    <tr>\n",
              "      <th>128046</th>\n",
              "      <td>OMcoVvrKcmsYj/j+s9Wzvde2Quzz1G+Un/74PfKJShKSyz...</td>\n",
              "      <td>+9OPyI+/Eeu5PSXVMdkPw3cB99+uk+YiAwMRGJU1cDm2ES...</td>\n",
              "      <td>TSRTTdb9LRjgp+FpJYUBXBczOvLJLO5ksIDZm6OFgtN4Sa...</td>\n",
              "      <td>1113900</td>\n",
              "      <td>1113900</td>\n",
              "      <td>41.445622</td>\n",
              "      <td>12.958304</td>\n",
              "      <td>41.445622</td>\n",
              "      <td>Delay-insensitive</td>\n",
              "      <td>1</td>\n",
              "      <td>1.75</td>\n",
              "      <td>0.083333</td>\n",
              "      <td>0.083333</td>\n",
              "    </tr>\n",
              "  </tbody>\n",
              "</table>\n",
              "<p>128047 rows × 13 columns</p>\n",
              "</div>"
            ],
            "text/plain": [
              "                                                     vmid  ...   corehour\n",
              "0       kIq+LToYe/oJmpZJCT6aYfxRh252I4Bd8FQQIyaLLAST5A...  ...  10.000000\n",
              "1       T5Hgk7CUx9Z/ANIZ+3TIHran3IGgr4RcUoxGNMmWB5+96a...  ...  10.000000\n",
              "2       Omelc/JAGTVT51lNOObucJUr93TlFPNhEhyMeMRWrggtoK...  ...  11.333333\n",
              "3       Xrz83UV+7HsyDhOSClTCpitt73f4NVIqxBJIoXgNVOSiCW...  ...   0.083333\n",
              "4       BFJu/lrNsLRY1anlsPB7Ii3cPuz9pavIuk72SKjTo50qyf...  ...  46.666667\n",
              "...                                                   ...  ...        ...\n",
              "128042  Rj0MEc2eJCMnY1lQLsCr3KlaSqZBlB8jnMRQtntC6x90TT...  ...   0.666667\n",
              "128043  zGixyP8hrPksr7LjouSurrsuvm5qyIvimPZLY1RDSXSvAC...  ...   0.666667\n",
              "128044  3vZ244xrWVCF2MD2dCRSYknxm/sKSKaF416OewRZZOXBY3...  ...   0.666667\n",
              "128045  2BpPWqTJVkBhifZ5pd2N4iV03VHHA7weOUpuGR8fNKAnu4...  ...   0.666667\n",
              "128046  OMcoVvrKcmsYj/j+s9Wzvde2Quzz1G+Un/74PfKJShKSyz...  ...   0.083333\n",
              "\n",
              "[128047 rows x 13 columns]"
            ]
          },
          "metadata": {
            "tags": []
          },
          "execution_count": 51
        }
      ]
    },
    {
      "cell_type": "code",
      "metadata": {
        "id": "wmtpZwzklbCb"
      },
      "source": [
        "yearly_data = oneVM_data.loc[0:8039]"
      ],
      "execution_count": null,
      "outputs": []
    },
    {
      "cell_type": "code",
      "metadata": {
        "colab": {
          "base_uri": "https://localhost:8080/",
          "height": 548
        },
        "id": "C1QcrstbnG6V",
        "outputId": "e1db158e-2dd5-42c4-e2fe-ec967dae0afb"
      },
      "source": [
        "yearly_data"
      ],
      "execution_count": null,
      "outputs": [
        {
          "output_type": "execute_result",
          "data": {
            "text/html": [
              "<div>\n",
              "<style scoped>\n",
              "    .dataframe tbody tr th:only-of-type {\n",
              "        vertical-align: middle;\n",
              "    }\n",
              "\n",
              "    .dataframe tbody tr th {\n",
              "        vertical-align: top;\n",
              "    }\n",
              "\n",
              "    .dataframe thead th {\n",
              "        text-align: right;\n",
              "    }\n",
              "</style>\n",
              "<table border=\"1\" class=\"dataframe\">\n",
              "  <thead>\n",
              "    <tr style=\"text-align: right;\">\n",
              "      <th></th>\n",
              "      <th>vmid</th>\n",
              "      <th>subscriptionid</th>\n",
              "      <th>deploymentid</th>\n",
              "      <th>vmcreated</th>\n",
              "      <th>vmdeleted</th>\n",
              "      <th>maxcpu</th>\n",
              "      <th>avgcpu</th>\n",
              "      <th>p95maxcpu</th>\n",
              "      <th>vmcategory</th>\n",
              "      <th>vmcorecount</th>\n",
              "      <th>vmmemory</th>\n",
              "      <th>lifetime</th>\n",
              "      <th>corehour</th>\n",
              "    </tr>\n",
              "  </thead>\n",
              "  <tbody>\n",
              "    <tr>\n",
              "      <th>0</th>\n",
              "      <td>kIq+LToYe/oJmpZJCT6aYfxRh252I4Bd8FQQIyaLLAST5A...</td>\n",
              "      <td>+9OPyI+/Eeu5PSXVMdkPw3cB99+uk+YiAwMRGJU1cDm2ES...</td>\n",
              "      <td>TSRTTdb9LRjgp+FpJYUBXBczOvLJLO5ksIDZm6OFgtN4Sa...</td>\n",
              "      <td>2305800</td>\n",
              "      <td>2310300</td>\n",
              "      <td>66.909246</td>\n",
              "      <td>2.900874</td>\n",
              "      <td>66.909246</td>\n",
              "      <td>Delay-insensitive</td>\n",
              "      <td>8</td>\n",
              "      <td>14.00</td>\n",
              "      <td>1.250000</td>\n",
              "      <td>10.000000</td>\n",
              "    </tr>\n",
              "    <tr>\n",
              "      <th>1</th>\n",
              "      <td>T5Hgk7CUx9Z/ANIZ+3TIHran3IGgr4RcUoxGNMmWB5+96a...</td>\n",
              "      <td>+9OPyI+/Eeu5PSXVMdkPw3cB99+uk+YiAwMRGJU1cDm2ES...</td>\n",
              "      <td>TSRTTdb9LRjgp+FpJYUBXBczOvLJLO5ksIDZm6OFgtN4Sa...</td>\n",
              "      <td>2305800</td>\n",
              "      <td>2310300</td>\n",
              "      <td>6.510768</td>\n",
              "      <td>2.087024</td>\n",
              "      <td>6.510768</td>\n",
              "      <td>Delay-insensitive</td>\n",
              "      <td>8</td>\n",
              "      <td>14.00</td>\n",
              "      <td>1.250000</td>\n",
              "      <td>10.000000</td>\n",
              "    </tr>\n",
              "    <tr>\n",
              "      <th>2</th>\n",
              "      <td>Omelc/JAGTVT51lNOObucJUr93TlFPNhEhyMeMRWrggtoK...</td>\n",
              "      <td>+9OPyI+/Eeu5PSXVMdkPw3cB99+uk+YiAwMRGJU1cDm2ES...</td>\n",
              "      <td>TSRTTdb9LRjgp+FpJYUBXBczOvLJLO5ksIDZm6OFgtN4Sa...</td>\n",
              "      <td>2238900</td>\n",
              "      <td>2244000</td>\n",
              "      <td>66.956558</td>\n",
              "      <td>3.139114</td>\n",
              "      <td>66.956558</td>\n",
              "      <td>Unkown</td>\n",
              "      <td>8</td>\n",
              "      <td>14.00</td>\n",
              "      <td>1.416667</td>\n",
              "      <td>11.333333</td>\n",
              "    </tr>\n",
              "    <tr>\n",
              "      <th>3</th>\n",
              "      <td>Xrz83UV+7HsyDhOSClTCpitt73f4NVIqxBJIoXgNVOSiCW...</td>\n",
              "      <td>+9OPyI+/Eeu5PSXVMdkPw3cB99+uk+YiAwMRGJU1cDm2ES...</td>\n",
              "      <td>TSRTTdb9LRjgp+FpJYUBXBczOvLJLO5ksIDZm6OFgtN4Sa...</td>\n",
              "      <td>1103700</td>\n",
              "      <td>1104000</td>\n",
              "      <td>98.795780</td>\n",
              "      <td>27.330195</td>\n",
              "      <td>98.795780</td>\n",
              "      <td>Delay-insensitive</td>\n",
              "      <td>1</td>\n",
              "      <td>1.75</td>\n",
              "      <td>0.083333</td>\n",
              "      <td>0.083333</td>\n",
              "    </tr>\n",
              "    <tr>\n",
              "      <th>4</th>\n",
              "      <td>BFJu/lrNsLRY1anlsPB7Ii3cPuz9pavIuk72SKjTo50qyf...</td>\n",
              "      <td>+9OPyI+/Eeu5PSXVMdkPw3cB99+uk+YiAwMRGJU1cDm2ES...</td>\n",
              "      <td>TSRTTdb9LRjgp+FpJYUBXBczOvLJLO5ksIDZm6OFgtN4Sa...</td>\n",
              "      <td>2484600</td>\n",
              "      <td>2505600</td>\n",
              "      <td>6.472197</td>\n",
              "      <td>1.686090</td>\n",
              "      <td>5.768269</td>\n",
              "      <td>Delay-insensitive</td>\n",
              "      <td>8</td>\n",
              "      <td>14.00</td>\n",
              "      <td>5.833333</td>\n",
              "      <td>46.666667</td>\n",
              "    </tr>\n",
              "    <tr>\n",
              "      <th>...</th>\n",
              "      <td>...</td>\n",
              "      <td>...</td>\n",
              "      <td>...</td>\n",
              "      <td>...</td>\n",
              "      <td>...</td>\n",
              "      <td>...</td>\n",
              "      <td>...</td>\n",
              "      <td>...</td>\n",
              "      <td>...</td>\n",
              "      <td>...</td>\n",
              "      <td>...</td>\n",
              "      <td>...</td>\n",
              "      <td>...</td>\n",
              "    </tr>\n",
              "    <tr>\n",
              "      <th>8035</th>\n",
              "      <td>OTZc2y53zvg3JhthNOmD7rri2jIx6ylz/DIJT1tNugg7cZ...</td>\n",
              "      <td>+9OPyI+/Eeu5PSXVMdkPw3cB99+uk+YiAwMRGJU1cDm2ES...</td>\n",
              "      <td>TSRTTdb9LRjgp+FpJYUBXBczOvLJLO5ksIDZm6OFgtN4Sa...</td>\n",
              "      <td>434400</td>\n",
              "      <td>435300</td>\n",
              "      <td>89.453653</td>\n",
              "      <td>24.363767</td>\n",
              "      <td>89.453653</td>\n",
              "      <td>Unkown</td>\n",
              "      <td>4</td>\n",
              "      <td>7.00</td>\n",
              "      <td>0.250000</td>\n",
              "      <td>1.000000</td>\n",
              "    </tr>\n",
              "    <tr>\n",
              "      <th>8036</th>\n",
              "      <td>tnl2xbaHNEfNpKM9Ylt4GdprJQebEUKI5EX85FG5qipIMU...</td>\n",
              "      <td>+9OPyI+/Eeu5PSXVMdkPw3cB99+uk+YiAwMRGJU1cDm2ES...</td>\n",
              "      <td>TSRTTdb9LRjgp+FpJYUBXBczOvLJLO5ksIDZm6OFgtN4Sa...</td>\n",
              "      <td>2120400</td>\n",
              "      <td>2129100</td>\n",
              "      <td>98.841736</td>\n",
              "      <td>5.960542</td>\n",
              "      <td>95.854683</td>\n",
              "      <td>Unkown</td>\n",
              "      <td>8</td>\n",
              "      <td>14.00</td>\n",
              "      <td>2.416667</td>\n",
              "      <td>19.333333</td>\n",
              "    </tr>\n",
              "    <tr>\n",
              "      <th>8037</th>\n",
              "      <td>taFDbwKxCHHITWK1aZR/apJfQpfgFIULfe2mlctkC2LSxk...</td>\n",
              "      <td>+9OPyI+/Eeu5PSXVMdkPw3cB99+uk+YiAwMRGJU1cDm2ES...</td>\n",
              "      <td>TSRTTdb9LRjgp+FpJYUBXBczOvLJLO5ksIDZm6OFgtN4Sa...</td>\n",
              "      <td>434400</td>\n",
              "      <td>435300</td>\n",
              "      <td>70.042481</td>\n",
              "      <td>19.129137</td>\n",
              "      <td>70.042481</td>\n",
              "      <td>Unkown</td>\n",
              "      <td>4</td>\n",
              "      <td>7.00</td>\n",
              "      <td>0.250000</td>\n",
              "      <td>1.000000</td>\n",
              "    </tr>\n",
              "    <tr>\n",
              "      <th>8038</th>\n",
              "      <td>PAwZT/m/JA73C1YnFV1f29HgcPsxHojX2AlAdmHJSDww34...</td>\n",
              "      <td>+9OPyI+/Eeu5PSXVMdkPw3cB99+uk+YiAwMRGJU1cDm2ES...</td>\n",
              "      <td>TSRTTdb9LRjgp+FpJYUBXBczOvLJLO5ksIDZm6OFgtN4Sa...</td>\n",
              "      <td>1221000</td>\n",
              "      <td>1236900</td>\n",
              "      <td>47.881668</td>\n",
              "      <td>1.742805</td>\n",
              "      <td>6.803815</td>\n",
              "      <td>Delay-insensitive</td>\n",
              "      <td>8</td>\n",
              "      <td>14.00</td>\n",
              "      <td>4.416667</td>\n",
              "      <td>35.333333</td>\n",
              "    </tr>\n",
              "    <tr>\n",
              "      <th>8039</th>\n",
              "      <td>w443QKQ+eVrAXBTFH+JdGMtiaL0cMu50p+wnWWGm0tMdHY...</td>\n",
              "      <td>+9OPyI+/Eeu5PSXVMdkPw3cB99+uk+YiAwMRGJU1cDm2ES...</td>\n",
              "      <td>TSRTTdb9LRjgp+FpJYUBXBczOvLJLO5ksIDZm6OFgtN4Sa...</td>\n",
              "      <td>1092000</td>\n",
              "      <td>1099500</td>\n",
              "      <td>80.857566</td>\n",
              "      <td>4.944003</td>\n",
              "      <td>76.335385</td>\n",
              "      <td>Delay-insensitive</td>\n",
              "      <td>8</td>\n",
              "      <td>14.00</td>\n",
              "      <td>2.083333</td>\n",
              "      <td>16.666667</td>\n",
              "    </tr>\n",
              "  </tbody>\n",
              "</table>\n",
              "<p>8040 rows × 13 columns</p>\n",
              "</div>"
            ],
            "text/plain": [
              "                                                   vmid  ...   corehour\n",
              "0     kIq+LToYe/oJmpZJCT6aYfxRh252I4Bd8FQQIyaLLAST5A...  ...  10.000000\n",
              "1     T5Hgk7CUx9Z/ANIZ+3TIHran3IGgr4RcUoxGNMmWB5+96a...  ...  10.000000\n",
              "2     Omelc/JAGTVT51lNOObucJUr93TlFPNhEhyMeMRWrggtoK...  ...  11.333333\n",
              "3     Xrz83UV+7HsyDhOSClTCpitt73f4NVIqxBJIoXgNVOSiCW...  ...   0.083333\n",
              "4     BFJu/lrNsLRY1anlsPB7Ii3cPuz9pavIuk72SKjTo50qyf...  ...  46.666667\n",
              "...                                                 ...  ...        ...\n",
              "8035  OTZc2y53zvg3JhthNOmD7rri2jIx6ylz/DIJT1tNugg7cZ...  ...   1.000000\n",
              "8036  tnl2xbaHNEfNpKM9Ylt4GdprJQebEUKI5EX85FG5qipIMU...  ...  19.333333\n",
              "8037  taFDbwKxCHHITWK1aZR/apJfQpfgFIULfe2mlctkC2LSxk...  ...   1.000000\n",
              "8038  PAwZT/m/JA73C1YnFV1f29HgcPsxHojX2AlAdmHJSDww34...  ...  35.333333\n",
              "8039  w443QKQ+eVrAXBTFH+JdGMtiaL0cMu50p+wnWWGm0tMdHY...  ...  16.666667\n",
              "\n",
              "[8040 rows x 13 columns]"
            ]
          },
          "metadata": {
            "tags": []
          },
          "execution_count": 53
        }
      ]
    },
    {
      "cell_type": "code",
      "metadata": {
        "id": "cOu4hFmwggHp"
      },
      "source": [
        "from datetime import datetime\n",
        "from datetime import datetime\n",
        "Timestamp = pd.date_range('2020-01-01', periods=8040, freq='H')\n",
        "#bytes_df[\"Timestamp\"] = pd.date_range(datetime(2020, 11, 15, hour=23, minute=0), periods=3945, freq='5min')"
      ],
      "execution_count": null,
      "outputs": []
    },
    {
      "cell_type": "code",
      "metadata": {
        "id": "YHgYafJLp5z9"
      },
      "source": [
        "time_stamp = pd.Series(Timestamp)"
      ],
      "execution_count": null,
      "outputs": []
    },
    {
      "cell_type": "code",
      "metadata": {
        "colab": {
          "base_uri": "https://localhost:8080/"
        },
        "id": "v8r6k6cLqB4k",
        "outputId": "2ceaa3c0-6560-4fd4-c4a4-a3d75b613c05"
      },
      "source": [
        "time_stamp"
      ],
      "execution_count": null,
      "outputs": [
        {
          "output_type": "execute_result",
          "data": {
            "text/plain": [
              "0      2020-01-01 00:00:00\n",
              "1      2020-01-01 01:00:00\n",
              "2      2020-01-01 02:00:00\n",
              "3      2020-01-01 03:00:00\n",
              "4      2020-01-01 04:00:00\n",
              "               ...        \n",
              "8035   2020-11-30 19:00:00\n",
              "8036   2020-11-30 20:00:00\n",
              "8037   2020-11-30 21:00:00\n",
              "8038   2020-11-30 22:00:00\n",
              "8039   2020-11-30 23:00:00\n",
              "Length: 8040, dtype: datetime64[ns]"
            ]
          },
          "metadata": {
            "tags": []
          },
          "execution_count": 56
        }
      ]
    },
    {
      "cell_type": "code",
      "metadata": {
        "colab": {
          "base_uri": "https://localhost:8080/"
        },
        "id": "VSWTZPQBpyJN",
        "outputId": "02bc9683-a266-4cc4-c046-88e1b0dd10e3"
      },
      "source": [
        "type(time_stamp)"
      ],
      "execution_count": null,
      "outputs": [
        {
          "output_type": "execute_result",
          "data": {
            "text/plain": [
              "pandas.core.series.Series"
            ]
          },
          "metadata": {
            "tags": []
          },
          "execution_count": 57
        }
      ]
    },
    {
      "cell_type": "code",
      "metadata": {
        "colab": {
          "base_uri": "https://localhost:8080/"
        },
        "id": "l2LPwsp1qugm",
        "outputId": "2eb11c11-618f-4d35-cc3d-212d312c0999"
      },
      "source": [
        "time_stamp.value_counts(ascending=True)"
      ],
      "execution_count": null,
      "outputs": [
        {
          "output_type": "execute_result",
          "data": {
            "text/plain": [
              "2020-04-13 22:00:00    1\n",
              "2020-05-18 21:00:00    1\n",
              "2020-06-20 03:00:00    1\n",
              "2020-11-09 09:00:00    1\n",
              "2020-09-07 00:00:00    1\n",
              "                      ..\n",
              "2020-06-13 18:00:00    1\n",
              "2020-06-13 10:00:00    1\n",
              "2020-05-19 13:00:00    1\n",
              "2020-03-11 16:00:00    1\n",
              "2020-09-16 23:00:00    1\n",
              "Length: 8040, dtype: int64"
            ]
          },
          "metadata": {
            "tags": []
          },
          "execution_count": 58
        }
      ]
    },
    {
      "cell_type": "code",
      "metadata": {
        "id": "9gXTnjPzAaDx"
      },
      "source": [
        "useful_data = yearly_data[[\"maxcpu\", \"corehour\", \"lifetime\"]]"
      ],
      "execution_count": null,
      "outputs": []
    },
    {
      "cell_type": "code",
      "metadata": {
        "id": "SvDnJYfAGPpb",
        "colab": {
          "base_uri": "https://localhost:8080/"
        },
        "outputId": "99a64349-b63a-4e94-8d23-463049f03b64"
      },
      "source": [
        "len(useful_data)"
      ],
      "execution_count": null,
      "outputs": [
        {
          "output_type": "execute_result",
          "data": {
            "text/plain": [
              "8040"
            ]
          },
          "metadata": {
            "tags": []
          },
          "execution_count": 60
        }
      ]
    },
    {
      "cell_type": "code",
      "metadata": {
        "colab": {
          "base_uri": "https://localhost:8080/"
        },
        "id": "kS3vBcaqpqxv",
        "outputId": "41587dc0-5a9f-41d2-cf51-5fef90a2b0d3"
      },
      "source": [
        "useful_data[\"Timestamp\"] = time_stamp"
      ],
      "execution_count": null,
      "outputs": [
        {
          "output_type": "stream",
          "text": [
            "/usr/local/lib/python3.6/dist-packages/ipykernel_launcher.py:1: SettingWithCopyWarning: \n",
            "A value is trying to be set on a copy of a slice from a DataFrame.\n",
            "Try using .loc[row_indexer,col_indexer] = value instead\n",
            "\n",
            "See the caveats in the documentation: https://pandas.pydata.org/pandas-docs/stable/user_guide/indexing.html#returning-a-view-versus-a-copy\n",
            "  \"\"\"Entry point for launching an IPython kernel.\n"
          ],
          "name": "stderr"
        }
      ]
    },
    {
      "cell_type": "code",
      "metadata": {
        "id": "9YOBy8PDF7_L"
      },
      "source": [
        "check = useful_data[useful_data[\"Timestamp\"]=='2020-02-29 00:00:00']"
      ],
      "execution_count": null,
      "outputs": []
    },
    {
      "cell_type": "code",
      "metadata": {
        "colab": {
          "base_uri": "https://localhost:8080/",
          "height": 81
        },
        "id": "A6zqxXB2raxb",
        "outputId": "44282bab-cbb2-49a9-888b-f2b9371a6cf9"
      },
      "source": [
        "check"
      ],
      "execution_count": null,
      "outputs": [
        {
          "output_type": "execute_result",
          "data": {
            "text/html": [
              "<div>\n",
              "<style scoped>\n",
              "    .dataframe tbody tr th:only-of-type {\n",
              "        vertical-align: middle;\n",
              "    }\n",
              "\n",
              "    .dataframe tbody tr th {\n",
              "        vertical-align: top;\n",
              "    }\n",
              "\n",
              "    .dataframe thead th {\n",
              "        text-align: right;\n",
              "    }\n",
              "</style>\n",
              "<table border=\"1\" class=\"dataframe\">\n",
              "  <thead>\n",
              "    <tr style=\"text-align: right;\">\n",
              "      <th></th>\n",
              "      <th>maxcpu</th>\n",
              "      <th>corehour</th>\n",
              "      <th>lifetime</th>\n",
              "      <th>Timestamp</th>\n",
              "    </tr>\n",
              "  </thead>\n",
              "  <tbody>\n",
              "    <tr>\n",
              "      <th>1416</th>\n",
              "      <td>47.843143</td>\n",
              "      <td>0.166667</td>\n",
              "      <td>0.083333</td>\n",
              "      <td>2020-02-29</td>\n",
              "    </tr>\n",
              "  </tbody>\n",
              "</table>\n",
              "</div>"
            ],
            "text/plain": [
              "         maxcpu  corehour  lifetime  Timestamp\n",
              "1416  47.843143  0.166667  0.083333 2020-02-29"
            ]
          },
          "metadata": {
            "tags": []
          },
          "execution_count": 63
        }
      ]
    },
    {
      "cell_type": "code",
      "metadata": {
        "colab": {
          "base_uri": "https://localhost:8080/"
        },
        "id": "EizABIRbFi0C",
        "outputId": "d34a52f0-2dae-4ed1-bf1c-af8c81ebbe6c"
      },
      "source": [
        "useful_data.columns"
      ],
      "execution_count": null,
      "outputs": [
        {
          "output_type": "execute_result",
          "data": {
            "text/plain": [
              "Index(['maxcpu', 'corehour', 'lifetime', 'Timestamp'], dtype='object')"
            ]
          },
          "metadata": {
            "tags": []
          },
          "execution_count": 64
        }
      ]
    },
    {
      "cell_type": "code",
      "metadata": {
        "colab": {
          "base_uri": "https://localhost:8080/"
        },
        "id": "2unPCDZqqkld",
        "outputId": "d4c38c19-f4df-43e1-d041-bd7f025f4e07"
      },
      "source": [
        "len(useful_data)"
      ],
      "execution_count": null,
      "outputs": [
        {
          "output_type": "execute_result",
          "data": {
            "text/plain": [
              "8040"
            ]
          },
          "metadata": {
            "tags": []
          },
          "execution_count": 65
        }
      ]
    },
    {
      "cell_type": "code",
      "metadata": {
        "id": "dNUHT-S5G26S"
      },
      "source": [
        "df = useful_data.copy()"
      ],
      "execution_count": null,
      "outputs": []
    },
    {
      "cell_type": "code",
      "metadata": {
        "colab": {
          "base_uri": "https://localhost:8080/",
          "height": 335
        },
        "id": "y9IOd6N2sbBV",
        "outputId": "f6bf52c5-4974-4019-ecf2-47075fc584c1"
      },
      "source": [
        "# Color pallete for plotting\n",
        "color_pal = [\"#F8766D\", \"#D39200\", \"#93AA00\",\n",
        "             \"#00BA38\", \"#00C19F\", \"#00B9E3\",\n",
        "             \"#619CFF\", \"#DB72FB\"]\n",
        "df['maxcpu'].plot(style='.', figsize=(15,5), color=color_pal[0], title='PJM East')\n",
        "plt.show()"
      ],
      "execution_count": null,
      "outputs": [
        {
          "output_type": "display_data",
          "data": {
            "image/png": "[encoded data removed]",
            "text/plain": [
              "<Figure size 1080x360 with 1 Axes>"
            ]
          },
          "metadata": {
            "tags": [],
            "needs_background": "light"
          }
        }
      ]
    },
    {
      "cell_type": "code",
      "metadata": {
        "colab": {
          "base_uri": "https://localhost:8080/",
          "height": 277
        },
        "id": "qC_2JEg2sD6O",
        "outputId": "735b6240-e660-4fb9-9e9d-01b7639c5d35"
      },
      "source": [
        "plt.rc('font', family='serif')\n",
        "plt.figure()\n",
        "plt.grid()\n",
        "plt.plot(df['maxcpu'], \"-b\", label=\"real\")\n",
        "# plt.plot(y_pred, \"-r\", label=\"pred\")\n",
        "plt.legend()\n",
        "plt.xlabel(\"Time\")\n",
        "plt.ylabel(\"maxcpu\")\n",
        "#plt.savefig('original.png', format='png', dpi=720)\n",
        "plt.show()"
      ],
      "execution_count": null,
      "outputs": [
        {
          "output_type": "display_data",
          "data": {
            "image/png": "[encoded data removed]",
            "text/plain": [
              "<Figure size 432x288 with 1 Axes>"
            ]
          },
          "metadata": {
            "tags": [],
            "needs_background": "light"
          }
        }
      ]
    },
    {
      "cell_type": "code",
      "metadata": {
        "id": "MBeqYtIuFDuQ"
      },
      "source": [
        "# eps = 0.00001\n",
        "# df[columns[0:]] = (df[columns[0:]] - df[columns[0:]].min() + eps) / (\n",
        "#                 df[columns[0:]].max() - df[columns[0:]].min() + eps)"
      ],
      "execution_count": null,
      "outputs": []
    },
    {
      "cell_type": "code",
      "metadata": {
        "colab": {
          "base_uri": "https://localhost:8080/",
          "height": 206
        },
        "id": "9O0IVIgBJ2el",
        "outputId": "80440422-2c9b-4eda-90c0-c0bb6cbb4947"
      },
      "source": [
        "df.head()"
      ],
      "execution_count": null,
      "outputs": [
        {
          "output_type": "execute_result",
          "data": {
            "text/html": [
              "<div>\n",
              "<style scoped>\n",
              "    .dataframe tbody tr th:only-of-type {\n",
              "        vertical-align: middle;\n",
              "    }\n",
              "\n",
              "    .dataframe tbody tr th {\n",
              "        vertical-align: top;\n",
              "    }\n",
              "\n",
              "    .dataframe thead th {\n",
              "        text-align: right;\n",
              "    }\n",
              "</style>\n",
              "<table border=\"1\" class=\"dataframe\">\n",
              "  <thead>\n",
              "    <tr style=\"text-align: right;\">\n",
              "      <th></th>\n",
              "      <th>maxcpu</th>\n",
              "      <th>corehour</th>\n",
              "      <th>lifetime</th>\n",
              "      <th>Timestamp</th>\n",
              "    </tr>\n",
              "  </thead>\n",
              "  <tbody>\n",
              "    <tr>\n",
              "      <th>0</th>\n",
              "      <td>66.909246</td>\n",
              "      <td>10.000000</td>\n",
              "      <td>1.250000</td>\n",
              "      <td>2020-01-01 00:00:00</td>\n",
              "    </tr>\n",
              "    <tr>\n",
              "      <th>1</th>\n",
              "      <td>6.510768</td>\n",
              "      <td>10.000000</td>\n",
              "      <td>1.250000</td>\n",
              "      <td>2020-01-01 01:00:00</td>\n",
              "    </tr>\n",
              "    <tr>\n",
              "      <th>2</th>\n",
              "      <td>66.956558</td>\n",
              "      <td>11.333333</td>\n",
              "      <td>1.416667</td>\n",
              "      <td>2020-01-01 02:00:00</td>\n",
              "    </tr>\n",
              "    <tr>\n",
              "      <th>3</th>\n",
              "      <td>98.795780</td>\n",
              "      <td>0.083333</td>\n",
              "      <td>0.083333</td>\n",
              "      <td>2020-01-01 03:00:00</td>\n",
              "    </tr>\n",
              "    <tr>\n",
              "      <th>4</th>\n",
              "      <td>6.472197</td>\n",
              "      <td>46.666667</td>\n",
              "      <td>5.833333</td>\n",
              "      <td>2020-01-01 04:00:00</td>\n",
              "    </tr>\n",
              "  </tbody>\n",
              "</table>\n",
              "</div>"
            ],
            "text/plain": [
              "      maxcpu   corehour  lifetime           Timestamp\n",
              "0  66.909246  10.000000  1.250000 2020-01-01 00:00:00\n",
              "1   6.510768  10.000000  1.250000 2020-01-01 01:00:00\n",
              "2  66.956558  11.333333  1.416667 2020-01-01 02:00:00\n",
              "3  98.795780   0.083333  0.083333 2020-01-01 03:00:00\n",
              "4   6.472197  46.666667  5.833333 2020-01-01 04:00:00"
            ]
          },
          "metadata": {
            "tags": []
          },
          "execution_count": 70
        }
      ]
    },
    {
      "cell_type": "code",
      "metadata": {
        "colab": {
          "base_uri": "https://localhost:8080/"
        },
        "id": "wtgPlkW5t8qH",
        "outputId": "34d2b308-4daa-4e47-e7f8-21dccdd19313"
      },
      "source": [
        "len(df)"
      ],
      "execution_count": null,
      "outputs": [
        {
          "output_type": "execute_result",
          "data": {
            "text/plain": [
              "8040"
            ]
          },
          "metadata": {
            "tags": []
          },
          "execution_count": 71
        }
      ]
    },
    {
      "cell_type": "code",
      "metadata": {
        "colab": {
          "base_uri": "https://localhost:8080/"
        },
        "id": "134Y4lNZv4qY",
        "outputId": "c91274c8-31f6-4d28-f7d0-515daa5c9bf4"
      },
      "source": [
        "df.columns"
      ],
      "execution_count": null,
      "outputs": [
        {
          "output_type": "execute_result",
          "data": {
            "text/plain": [
              "Index(['maxcpu', 'corehour', 'lifetime', 'Timestamp'], dtype='object')"
            ]
          },
          "metadata": {
            "tags": []
          },
          "execution_count": 72
        }
      ]
    },
    {
      "cell_type": "code",
      "metadata": {
        "id": "DeHRUg0_JkeU"
      },
      "source": [
        "# splitting the data into train and test\n",
        "split_size = 0.8\n",
        "split_val = int(df.shape[0] * split_size)\n",
        "#x_data = df[['maxcpu', 'corehour', 'lifetime']]\n",
        "x_data = df[['maxcpu','corehour', 'lifetime']]\n",
        "y_data = df[['maxcpu','corehour', 'lifetime']]\n",
        "x_train = x_data[:split_val]\n",
        "y_train = y_data[:split_val]\n",
        "x_test = x_data[split_val:]\n",
        "y_test = y_data[split_val:]\n"
      ],
      "execution_count": null,
      "outputs": []
    },
    {
      "cell_type": "code",
      "metadata": {
        "colab": {
          "base_uri": "https://localhost:8080/"
        },
        "id": "onx-QbttcjPN",
        "outputId": "d8f660f7-fa9c-4ab3-817e-1e305d4ce312"
      },
      "source": [
        "print(\"x_train shape = {}\".format(x_train.shape))\n",
        "print(\"Y_train shape = {}\".format(y_train.shape))\n",
        "print(\"X_test shape = {}\".format(x_test.shape))\n",
        "print(\"Y_test shape = {}\".format(y_test.shape))"
      ],
      "execution_count": null,
      "outputs": [
        {
          "output_type": "stream",
          "text": [
            "x_train shape = (6432, 3)\n",
            "Y_train shape = (6432, 3)\n",
            "X_test shape = (1608, 3)\n",
            "Y_test shape = (1608, 3)\n"
          ],
          "name": "stdout"
        }
      ]
    },
    {
      "cell_type": "code",
      "metadata": {
        "colab": {
          "base_uri": "https://localhost:8080/"
        },
        "id": "7SHHbqIrweK3",
        "outputId": "c23a124a-7cc4-4388-936d-5b1d617ce659"
      },
      "source": [
        "y_test.values.reshape(-1,1)"
      ],
      "execution_count": null,
      "outputs": [
        {
          "output_type": "execute_result",
          "data": {
            "text/plain": [
              "array([[96.760962  ],\n",
              "       [14.66666667],\n",
              "       [ 7.33333333],\n",
              "       ...,\n",
              "       [80.857566  ],\n",
              "       [16.66666667],\n",
              "       [ 2.08333333]])"
            ]
          },
          "metadata": {
            "tags": []
          },
          "execution_count": 75
        }
      ]
    },
    {
      "cell_type": "code",
      "metadata": {
        "id": "R3xVu03fw4m7"
      },
      "source": [
        "# scalers\n",
        "# scaler_x = StandardScaler()\n",
        "# scaler_y = StandardScaler()\n",
        "scaler_x = MinMaxScaler()\n",
        "scaler_y = MinMaxScaler()\n",
        "x_train_sc = scaler_x.fit_transform(x_train.values)\n",
        "x_test_sc = scaler_x.transform(x_test.values)\n",
        "y_train_sc = scaler_y.fit_transform(y_train.values)\n",
        "y_test_sc = scaler_y.transform(y_test.values)\n"
      ],
      "execution_count": null,
      "outputs": []
    },
    {
      "cell_type": "code",
      "metadata": {
        "colab": {
          "base_uri": "https://localhost:8080/"
        },
        "id": "WZuAsW_YflKs",
        "outputId": "f84b9869-d811-4ffd-e907-eb80165cd6dc"
      },
      "source": [
        "print(\"x_train_sc shape = {}\".format(x_train_sc.shape))\n",
        "print(\"y_train_sc shape = {}\".format(y_train_sc.shape))\n",
        "print(\"x_test_sc shape = {}\".format(x_test_sc.shape))\n",
        "print(\"y_test_sc shape = {}\".format(y_test_sc.shape))"
      ],
      "execution_count": null,
      "outputs": [
        {
          "output_type": "stream",
          "text": [
            "x_train_sc shape = (6432, 3)\n",
            "y_train_sc shape = (6432, 3)\n",
            "x_test_sc shape = (1608, 3)\n",
            "y_test_sc shape = (1608, 3)\n"
          ],
          "name": "stdout"
        }
      ]
    },
    {
      "cell_type": "code",
      "metadata": {
        "id": "QYL_u08vG1jE"
      },
      "source": [
        "def create_dataset(X, y, time_steps=1):\n",
        "    Xs, ys = [], []\n",
        "    for i in range(len(X) - time_steps):\n",
        "\n",
        "      v = X[i:(i + time_steps),:]\n",
        "      #print(v)\n",
        "      Xs.append(v)\n",
        "      ys.append(y[i+time_steps])\n",
        "    return np.array(Xs), np.array(ys)"
      ],
      "execution_count": null,
      "outputs": []
    },
    {
      "cell_type": "code",
      "metadata": {
        "id": "eNRC4y1of_N1"
      },
      "source": [
        "#tf.keras.backend.clear_session()\n",
        "timestep = 24\n",
        "Xtrain, ytrain = create_dataset(x_train_sc, y_train_sc, timestep)\n",
        "Xtest, ytest = create_dataset(x_test_sc, y_test_sc, timestep)"
      ],
      "execution_count": null,
      "outputs": []
    },
    {
      "cell_type": "code",
      "metadata": {
        "colab": {
          "base_uri": "https://localhost:8080/"
        },
        "id": "HN0OU4rsLH9F",
        "outputId": "5bcddc26-ae27-458a-cec4-07e211662832"
      },
      "source": [
        "print(\"Xtrain shape = {}\".format(Xtrain.shape))\n",
        "print(\"ytrain shape = {}\".format(ytrain.shape))\n",
        "print(\"Xtest shape = {}\".format(Xtest.shape))\n",
        "print(\"ytest shape = {}\".format(ytest.shape))"
      ],
      "execution_count": null,
      "outputs": [
        {
          "output_type": "stream",
          "text": [
            "Xtrain shape = (6408, 24, 3)\n",
            "ytrain shape = (6408, 3)\n",
            "Xtest shape = (1584, 24, 3)\n",
            "ytest shape = (1584, 3)\n"
          ],
          "name": "stdout"
        }
      ]
    },
    {
      "cell_type": "code",
      "metadata": {
        "id": "O5x4XfQPKMuu"
      },
      "source": [
        " #ytrain = np.expand_dims(ytrain, axis=-1)"
      ],
      "execution_count": null,
      "outputs": []
    },
    {
      "cell_type": "code",
      "metadata": {
        "id": "BE4oztPIKh9O"
      },
      "source": [
        "#ytrain.shape"
      ],
      "execution_count": null,
      "outputs": []
    },
    {
      "cell_type": "code",
      "metadata": {
        "id": "urBvPXtPiS-H"
      },
      "source": [
        "#ytest = np.expand_dims(ytest, axis=-1)"
      ],
      "execution_count": null,
      "outputs": []
    },
    {
      "cell_type": "code",
      "metadata": {
        "id": "pBY6MCBwit-m"
      },
      "source": [
        "#ytest.shape"
      ],
      "execution_count": null,
      "outputs": []
    },
    {
      "cell_type": "code",
      "metadata": {
        "id": "DHODEC1-ivEW"
      },
      "source": [
        "import tensorflow\n",
        "from tensorflow.keras.models import Sequential\n",
        "from tensorflow.keras.layers import Dense\n",
        "from tensorflow.keras.layers import Bidirectional\n",
        "from tensorflow.keras.layers import LSTM\n",
        "from tensorflow.keras.optimizers import Adam\n",
        "from tensorflow.keras.layers import Dropout\n",
        "tensorflow.get_logger().setLevel('ERROR')\n",
        "\n",
        "tensorflow.keras.backend.clear_session()"
      ],
      "execution_count": null,
      "outputs": []
    },
    {
      "cell_type": "code",
      "metadata": {
        "id": "DllNsTXDi03G"
      },
      "source": [
        "import tensorflow as tf\n",
        "outsteps=24\n",
        "model = tf.keras.models.Sequential([\n",
        "  tf.keras.layers.Conv1D(filters=32, kernel_size=3,\n",
        "                      strides=1, padding=\"causal\",\n",
        "                      activation=\"relu\",\n",
        "                      input_shape=[None, 3]),\n",
        "  tf.keras.layers.Bidirectional(tf.keras.layers.LSTM(32, return_sequences=True)),\n",
        "  #tf.keras.layers.LSTM(128),\n",
        "  tf.keras.layers.Bidirectional(tf.keras.layers.LSTM(32, return_sequences=False)),\n",
        "  #tf.keras.layers.Dropout(0.1),\n",
        "  #tf.keras.layers.Dense(1),\n",
        "  tf.keras.layers.Dense(3,kernel_initializer=tf.initializers.zeros),\n",
        "  tf.keras.layers.Lambda(lambda x: x * 200),\n",
        "  #tf.keras.layers.Reshape([24, 3])\n",
        "])\n",
        "lr_schedule = tf.keras.callbacks.LearningRateScheduler(\n",
        "    lambda epoch: 1e-8 * 10**(epoch / 20))\n",
        "optimizer = tf.keras.optimizers.SGD(lr=1e-8, momentum=0.9)\n",
        "model.compile(loss=tf.keras.losses.Huber(),\n",
        "              optimizer=optimizer,\n",
        "              metrics=[\"mse\"])\n",
        "#history = model.fit(X_train, Y_train, epochs=100, validation_data=(X_test, Y_test), callbacks=[lr_schedule])"
      ],
      "execution_count": null,
      "outputs": []
    },
    {
      "cell_type": "code",
      "metadata": {
        "id": "OH9c2tATSF5U"
      },
      "source": [
        "# import tensorflow as tf\n",
        "# model = tf.keras.models.Sequential([\n",
        "  \n",
        "#   tf.keras.layers.Bidirectional(tf.keras.layers.LSTM(128, return_sequences=False)),\n",
        "#   #tf.keras.layers.LSTM(128),\n",
        "#   #tf.keras.layers.Bidirectional(tf.keras.layers.LSTM(64, return_sequences=False)),\n",
        "#   tf.keras.layers.Dropout(0.2),\n",
        "#   tf.keras.layers.Dense(1),\n",
        "#   tf.keras.layers.Lambda(lambda x: x * 200)\n",
        "# ])\n",
        "# lr_schedule = tf.keras.callbacks.LearningRateScheduler(\n",
        "#     lambda epoch: 1e-8 * 10**(epoch / 20))\n",
        "# optimizer = tf.keras.optimizers.Adam(lr=1e-8)\n",
        "# model.compile(loss=tf.keras.losses.Huber(),\n",
        "#               optimizer=optimizer,\n",
        "#               metrics=[\"mse\"])"
      ],
      "execution_count": null,
      "outputs": []
    },
    {
      "cell_type": "code",
      "metadata": {
        "colab": {
          "base_uri": "https://localhost:8080/"
        },
        "id": "bHsgxFISjqsu",
        "outputId": "527357b9-95b0-46da-aa19-2619a41d50e7"
      },
      "source": [
        "model.summary()"
      ],
      "execution_count": null,
      "outputs": [
        {
          "output_type": "stream",
          "text": [
            "Model: \"sequential_3\"\n",
            "_________________________________________________________________\n",
            "Layer (type)                 Output Shape              Param #   \n",
            "=================================================================\n",
            "conv1d_3 (Conv1D)            (None, None, 32)          320       \n",
            "_________________________________________________________________\n",
            "bidirectional_6 (Bidirection (None, None, 64)          16640     \n",
            "_________________________________________________________________\n",
            "bidirectional_7 (Bidirection (None, 64)                24832     \n",
            "_________________________________________________________________\n",
            "dense_3 (Dense)              (None, 3)                 195       \n",
            "_________________________________________________________________\n",
            "lambda_3 (Lambda)            (None, 3)                 0         \n",
            "=================================================================\n",
            "Total params: 41,987\n",
            "Trainable params: 41,987\n",
            "Non-trainable params: 0\n",
            "_________________________________________________________________\n"
          ],
          "name": "stdout"
        }
      ]
    },
    {
      "cell_type": "code",
      "metadata": {
        "colab": {
          "base_uri": "https://localhost:8080/"
        },
        "id": "k8RMVBKljusn",
        "outputId": "b03d8a04-0c9f-4988-c2b5-257ff762e4df"
      },
      "source": [
        "history = model.fit(Xtrain, ytrain, epochs=100, validation_data=(Xtest, ytest), callbacks=[lr_schedule])"
      ],
      "execution_count": null,
      "outputs": [
        {
          "output_type": "stream",
          "text": [
            "Epoch 1/100\n",
            "201/201 [==============================] - 3s 17ms/step - loss: 0.0818 - mse: 0.1635 - val_loss: 0.0613 - val_mse: 0.1227\n",
            "Epoch 2/100\n",
            "201/201 [==============================] - 2s 11ms/step - loss: 0.0487 - mse: 0.0973 - val_loss: 0.0366 - val_mse: 0.0732\n",
            "Epoch 3/100\n",
            "201/201 [==============================] - 2s 11ms/step - loss: 0.0296 - mse: 0.0592 - val_loss: 0.0232 - val_mse: 0.0463\n",
            "Epoch 4/100\n",
            "201/201 [==============================] - 2s 12ms/step - loss: 0.0196 - mse: 0.0392 - val_loss: 0.0165 - val_mse: 0.0331\n",
            "Epoch 5/100\n",
            "201/201 [==============================] - 2s 11ms/step - loss: 0.0148 - mse: 0.0296 - val_loss: 0.0136 - val_mse: 0.0272\n",
            "Epoch 6/100\n",
            "201/201 [==============================] - 2s 12ms/step - loss: 0.0127 - mse: 0.0255 - val_loss: 0.0124 - val_mse: 0.0249\n",
            "Epoch 7/100\n",
            "201/201 [==============================] - 2s 11ms/step - loss: 0.0119 - mse: 0.0239 - val_loss: 0.0121 - val_mse: 0.0241\n",
            "Epoch 8/100\n",
            "201/201 [==============================] - 2s 12ms/step - loss: 0.0117 - mse: 0.0233 - val_loss: 0.0120 - val_mse: 0.0239\n",
            "Epoch 9/100\n",
            "201/201 [==============================] - 2s 12ms/step - loss: 0.0116 - mse: 0.0231 - val_loss: 0.0120 - val_mse: 0.0239\n",
            "Epoch 10/100\n",
            "201/201 [==============================] - 2s 11ms/step - loss: 0.0115 - mse: 0.0231 - val_loss: 0.0120 - val_mse: 0.0239\n",
            "Epoch 11/100\n",
            "201/201 [==============================] - 2s 12ms/step - loss: 0.0115 - mse: 0.0231 - val_loss: 0.0120 - val_mse: 0.0239\n",
            "Epoch 12/100\n",
            "201/201 [==============================] - 2s 12ms/step - loss: 0.0115 - mse: 0.0230 - val_loss: 0.0119 - val_mse: 0.0239\n",
            "Epoch 13/100\n",
            "201/201 [==============================] - 2s 11ms/step - loss: 0.0115 - mse: 0.0230 - val_loss: 0.0119 - val_mse: 0.0239\n",
            "Epoch 14/100\n",
            "201/201 [==============================] - 2s 11ms/step - loss: 0.0115 - mse: 0.0230 - val_loss: 0.0119 - val_mse: 0.0239\n",
            "Epoch 15/100\n",
            "201/201 [==============================] - 2s 12ms/step - loss: 0.0115 - mse: 0.0230 - val_loss: 0.0119 - val_mse: 0.0239\n",
            "Epoch 16/100\n",
            "201/201 [==============================] - 2s 11ms/step - loss: 0.0115 - mse: 0.0229 - val_loss: 0.0119 - val_mse: 0.0239\n",
            "Epoch 17/100\n",
            "201/201 [==============================] - 2s 11ms/step - loss: 0.0115 - mse: 0.0229 - val_loss: 0.0119 - val_mse: 0.0238\n",
            "Epoch 18/100\n",
            "201/201 [==============================] - 2s 12ms/step - loss: 0.0114 - mse: 0.0229 - val_loss: 0.0119 - val_mse: 0.0238\n",
            "Epoch 19/100\n",
            "201/201 [==============================] - 2s 12ms/step - loss: 0.0114 - mse: 0.0228 - val_loss: 0.0119 - val_mse: 0.0238\n",
            "Epoch 20/100\n",
            "201/201 [==============================] - 2s 12ms/step - loss: 0.0114 - mse: 0.0228 - val_loss: 0.0119 - val_mse: 0.0238\n",
            "Epoch 21/100\n",
            "201/201 [==============================] - 2s 11ms/step - loss: 0.0114 - mse: 0.0227 - val_loss: 0.0119 - val_mse: 0.0237\n",
            "Epoch 22/100\n",
            "201/201 [==============================] - 2s 11ms/step - loss: 0.0113 - mse: 0.0227 - val_loss: 0.0119 - val_mse: 0.0237\n",
            "Epoch 23/100\n",
            "201/201 [==============================] - 2s 11ms/step - loss: 0.0113 - mse: 0.0226 - val_loss: 0.0118 - val_mse: 0.0237\n",
            "Epoch 24/100\n",
            "201/201 [==============================] - 2s 11ms/step - loss: 0.0113 - mse: 0.0225 - val_loss: 0.0118 - val_mse: 0.0236\n",
            "Epoch 25/100\n",
            "201/201 [==============================] - 2s 11ms/step - loss: 0.0112 - mse: 0.0225 - val_loss: 0.0118 - val_mse: 0.0236\n",
            "Epoch 26/100\n",
            "201/201 [==============================] - 2s 11ms/step - loss: 0.0112 - mse: 0.0224 - val_loss: 0.0118 - val_mse: 0.0236\n",
            "Epoch 27/100\n",
            "201/201 [==============================] - 2s 11ms/step - loss: 0.0112 - mse: 0.0223 - val_loss: 0.0118 - val_mse: 0.0236\n",
            "Epoch 28/100\n",
            "201/201 [==============================] - 2s 12ms/step - loss: 0.0111 - mse: 0.0222 - val_loss: 0.0118 - val_mse: 0.0235\n",
            "Epoch 29/100\n",
            "201/201 [==============================] - 2s 12ms/step - loss: 0.0111 - mse: 0.0221 - val_loss: 0.0117 - val_mse: 0.0234\n",
            "Epoch 30/100\n",
            "201/201 [==============================] - 2s 12ms/step - loss: 0.0110 - mse: 0.0220 - val_loss: 0.0117 - val_mse: 0.0235\n",
            "Epoch 31/100\n",
            "201/201 [==============================] - 2s 11ms/step - loss: 0.0109 - mse: 0.0219 - val_loss: 0.0117 - val_mse: 0.0233\n",
            "Epoch 32/100\n",
            "201/201 [==============================] - 2s 12ms/step - loss: 0.0109 - mse: 0.0217 - val_loss: 0.0117 - val_mse: 0.0233\n",
            "Epoch 33/100\n",
            "201/201 [==============================] - 2s 12ms/step - loss: 0.0108 - mse: 0.0216 - val_loss: 0.0116 - val_mse: 0.0232\n",
            "Epoch 34/100\n",
            "201/201 [==============================] - 2s 12ms/step - loss: 0.0107 - mse: 0.0215 - val_loss: 0.0116 - val_mse: 0.0231\n",
            "Epoch 35/100\n",
            "201/201 [==============================] - 2s 12ms/step - loss: 0.0107 - mse: 0.0213 - val_loss: 0.0115 - val_mse: 0.0231\n",
            "Epoch 36/100\n",
            "201/201 [==============================] - 2s 12ms/step - loss: 0.0106 - mse: 0.0212 - val_loss: 0.0115 - val_mse: 0.0230\n",
            "Epoch 37/100\n",
            "201/201 [==============================] - 2s 11ms/step - loss: 0.0105 - mse: 0.0210 - val_loss: 0.0115 - val_mse: 0.0229\n",
            "Epoch 38/100\n",
            "201/201 [==============================] - 2s 12ms/step - loss: 0.0104 - mse: 0.0209 - val_loss: 0.0114 - val_mse: 0.0229\n",
            "Epoch 39/100\n",
            "201/201 [==============================] - 2s 11ms/step - loss: 0.0104 - mse: 0.0207 - val_loss: 0.0114 - val_mse: 0.0228\n",
            "Epoch 40/100\n",
            "201/201 [==============================] - 2s 11ms/step - loss: 0.0103 - mse: 0.0206 - val_loss: 0.0114 - val_mse: 0.0227\n",
            "Epoch 41/100\n",
            "201/201 [==============================] - 2s 12ms/step - loss: 0.0102 - mse: 0.0204 - val_loss: 0.0114 - val_mse: 0.0228\n",
            "Epoch 42/100\n",
            "201/201 [==============================] - 2s 11ms/step - loss: 0.0101 - mse: 0.0203 - val_loss: 0.0113 - val_mse: 0.0227\n",
            "Epoch 43/100\n",
            "201/201 [==============================] - 2s 11ms/step - loss: 0.0101 - mse: 0.0202 - val_loss: 0.0113 - val_mse: 0.0226\n",
            "Epoch 44/100\n",
            "201/201 [==============================] - 2s 12ms/step - loss: 0.0100 - mse: 0.0200 - val_loss: 0.0113 - val_mse: 0.0227\n",
            "Epoch 45/100\n",
            "201/201 [==============================] - 2s 12ms/step - loss: 0.0099 - mse: 0.0199 - val_loss: 0.0113 - val_mse: 0.0226\n",
            "Epoch 46/100\n",
            "201/201 [==============================] - 2s 12ms/step - loss: 0.0099 - mse: 0.0198 - val_loss: 0.0113 - val_mse: 0.0227\n",
            "Epoch 47/100\n",
            "201/201 [==============================] - 2s 12ms/step - loss: 0.0098 - mse: 0.0197 - val_loss: 0.0113 - val_mse: 0.0225\n",
            "Epoch 48/100\n",
            "201/201 [==============================] - 2s 11ms/step - loss: 0.0098 - mse: 0.0197 - val_loss: 0.0113 - val_mse: 0.0225\n",
            "Epoch 49/100\n",
            "201/201 [==============================] - 2s 11ms/step - loss: 0.0098 - mse: 0.0196 - val_loss: 0.0113 - val_mse: 0.0225\n",
            "Epoch 50/100\n",
            "201/201 [==============================] - 2s 11ms/step - loss: 0.0098 - mse: 0.0196 - val_loss: 0.0113 - val_mse: 0.0226\n",
            "Epoch 51/100\n",
            "201/201 [==============================] - 2s 11ms/step - loss: 0.0097 - mse: 0.0195 - val_loss: 0.0113 - val_mse: 0.0227\n",
            "Epoch 52/100\n",
            "201/201 [==============================] - 2s 12ms/step - loss: 0.0098 - mse: 0.0195 - val_loss: 0.0114 - val_mse: 0.0229\n",
            "Epoch 53/100\n",
            "201/201 [==============================] - 2s 11ms/step - loss: 0.0098 - mse: 0.0195 - val_loss: 0.0114 - val_mse: 0.0228\n",
            "Epoch 54/100\n",
            "201/201 [==============================] - 3s 13ms/step - loss: 0.0097 - mse: 0.0194 - val_loss: 0.0113 - val_mse: 0.0226\n",
            "Epoch 55/100\n",
            "201/201 [==============================] - 2s 12ms/step - loss: 0.0097 - mse: 0.0195 - val_loss: 0.0114 - val_mse: 0.0227\n",
            "Epoch 56/100\n",
            "201/201 [==============================] - 2s 11ms/step - loss: 0.0097 - mse: 0.0194 - val_loss: 0.0114 - val_mse: 0.0228\n",
            "Epoch 57/100\n",
            "201/201 [==============================] - 2s 12ms/step - loss: 0.0097 - mse: 0.0195 - val_loss: 0.0116 - val_mse: 0.0233\n",
            "Epoch 58/100\n",
            "201/201 [==============================] - 2s 11ms/step - loss: 0.0098 - mse: 0.0196 - val_loss: 0.0113 - val_mse: 0.0225\n",
            "Epoch 59/100\n",
            "201/201 [==============================] - 2s 12ms/step - loss: 0.0098 - mse: 0.0196 - val_loss: 0.0115 - val_mse: 0.0230\n",
            "Epoch 60/100\n",
            "201/201 [==============================] - 2s 11ms/step - loss: 0.0097 - mse: 0.0194 - val_loss: 0.0113 - val_mse: 0.0226\n",
            "Epoch 61/100\n",
            "201/201 [==============================] - 2s 12ms/step - loss: 0.0097 - mse: 0.0195 - val_loss: 0.0121 - val_mse: 0.0242\n",
            "Epoch 62/100\n",
            "201/201 [==============================] - 2s 12ms/step - loss: 0.0098 - mse: 0.0197 - val_loss: 0.0115 - val_mse: 0.0229\n",
            "Epoch 63/100\n",
            "201/201 [==============================] - 2s 12ms/step - loss: 0.0099 - mse: 0.0197 - val_loss: 0.0119 - val_mse: 0.0237\n",
            "Epoch 64/100\n",
            "201/201 [==============================] - 2s 12ms/step - loss: 0.0099 - mse: 0.0198 - val_loss: 0.0115 - val_mse: 0.0229\n",
            "Epoch 65/100\n",
            "201/201 [==============================] - 2s 12ms/step - loss: 0.0097 - mse: 0.0195 - val_loss: 0.0121 - val_mse: 0.0241\n",
            "Epoch 66/100\n",
            "201/201 [==============================] - 2s 12ms/step - loss: 0.0097 - mse: 0.0195 - val_loss: 0.0113 - val_mse: 0.0226\n",
            "Epoch 67/100\n",
            "201/201 [==============================] - 2s 11ms/step - loss: 0.0100 - mse: 0.0200 - val_loss: 0.0120 - val_mse: 0.0239\n",
            "Epoch 68/100\n",
            "201/201 [==============================] - 2s 11ms/step - loss: 0.0098 - mse: 0.0196 - val_loss: 0.0116 - val_mse: 0.0232\n",
            "Epoch 69/100\n",
            "201/201 [==============================] - 2s 12ms/step - loss: 0.0101 - mse: 0.0202 - val_loss: 0.0113 - val_mse: 0.0226\n",
            "Epoch 70/100\n",
            "201/201 [==============================] - 2s 12ms/step - loss: 0.0104 - mse: 0.0208 - val_loss: 0.0139 - val_mse: 0.0278\n",
            "Epoch 71/100\n",
            "201/201 [==============================] - 2s 11ms/step - loss: 0.0102 - mse: 0.0205 - val_loss: 0.0114 - val_mse: 0.0229\n",
            "Epoch 72/100\n",
            "201/201 [==============================] - 2s 12ms/step - loss: 0.0107 - mse: 0.0214 - val_loss: 0.0113 - val_mse: 0.0226\n",
            "Epoch 73/100\n",
            "201/201 [==============================] - 2s 11ms/step - loss: 0.0105 - mse: 0.0210 - val_loss: 0.0118 - val_mse: 0.0236\n",
            "Epoch 74/100\n",
            "201/201 [==============================] - 2s 11ms/step - loss: 0.0107 - mse: 0.0214 - val_loss: 0.0155 - val_mse: 0.0310\n",
            "Epoch 75/100\n",
            "201/201 [==============================] - 2s 11ms/step - loss: 0.0104 - mse: 0.0208 - val_loss: 0.0145 - val_mse: 0.0290\n",
            "Epoch 76/100\n",
            "201/201 [==============================] - 2s 12ms/step - loss: 0.0108 - mse: 0.0216 - val_loss: 0.0132 - val_mse: 0.0263\n",
            "Epoch 77/100\n",
            "201/201 [==============================] - 2s 11ms/step - loss: 0.0114 - mse: 0.0229 - val_loss: 0.0119 - val_mse: 0.0237\n",
            "Epoch 78/100\n",
            "201/201 [==============================] - 2s 12ms/step - loss: 0.0112 - mse: 0.0224 - val_loss: 0.0124 - val_mse: 0.0248\n",
            "Epoch 79/100\n",
            "201/201 [==============================] - 2s 11ms/step - loss: 0.0127 - mse: 0.0254 - val_loss: 0.0158 - val_mse: 0.0317\n",
            "Epoch 80/100\n",
            "201/201 [==============================] - 2s 11ms/step - loss: 0.0126 - mse: 0.0253 - val_loss: 0.0124 - val_mse: 0.0249\n",
            "Epoch 81/100\n",
            "201/201 [==============================] - 2s 12ms/step - loss: 0.0140 - mse: 0.0281 - val_loss: 0.0188 - val_mse: 0.0376\n",
            "Epoch 82/100\n",
            "201/201 [==============================] - 2s 12ms/step - loss: 0.0127 - mse: 0.0254 - val_loss: 0.0148 - val_mse: 0.0295\n",
            "Epoch 83/100\n",
            "201/201 [==============================] - 3s 12ms/step - loss: 0.0139 - mse: 0.0278 - val_loss: 0.0251 - val_mse: 0.0502\n",
            "Epoch 84/100\n",
            "201/201 [==============================] - 2s 11ms/step - loss: 0.0132 - mse: 0.0264 - val_loss: 0.0113 - val_mse: 0.0226\n",
            "Epoch 85/100\n",
            "201/201 [==============================] - 2s 11ms/step - loss: 0.0149 - mse: 0.0298 - val_loss: 0.0121 - val_mse: 0.0241\n",
            "Epoch 86/100\n",
            "201/201 [==============================] - 2s 12ms/step - loss: 0.0219 - mse: 0.0438 - val_loss: 0.0504 - val_mse: 0.1012\n",
            "Epoch 87/100\n",
            "201/201 [==============================] - 2s 12ms/step - loss: 0.0319 - mse: 0.0640 - val_loss: 0.0153 - val_mse: 0.0306\n",
            "Epoch 88/100\n",
            "201/201 [==============================] - 2s 12ms/step - loss: 0.0285 - mse: 0.0572 - val_loss: 0.0132 - val_mse: 0.0264\n",
            "Epoch 89/100\n",
            "201/201 [==============================] - 2s 12ms/step - loss: 0.0595 - mse: 0.1210 - val_loss: 0.0804 - val_mse: 0.1608\n",
            "Epoch 90/100\n",
            "201/201 [==============================] - 2s 11ms/step - loss: 0.2174 - mse: 0.4606 - val_loss: 0.3319 - val_mse: 0.6759\n",
            "Epoch 91/100\n",
            "201/201 [==============================] - 2s 12ms/step - loss: 2.2390 - mse: 11.3096 - val_loss: 1.9668 - val_mse: 6.2165\n",
            "Epoch 92/100\n",
            "201/201 [==============================] - 3s 13ms/step - loss: 2.3625 - mse: 10.8921 - val_loss: 1.8095 - val_mse: 5.4160\n",
            "Epoch 93/100\n",
            "201/201 [==============================] - 3s 13ms/step - loss: 3.2282 - mse: 17.9156 - val_loss: 3.8825 - val_mse: 23.5137\n",
            "Epoch 94/100\n",
            "201/201 [==============================] - 2s 11ms/step - loss: 3.4829 - mse: 20.2167 - val_loss: 4.8195 - val_mse: 39.5660\n",
            "Epoch 95/100\n",
            "201/201 [==============================] - 2s 11ms/step - loss: 4.3840 - mse: 32.9871 - val_loss: 5.0747 - val_mse: 43.9461\n",
            "Epoch 96/100\n",
            "201/201 [==============================] - 2s 12ms/step - loss: 7.3438 - mse: 88.8110 - val_loss: 8.6920 - val_mse: 105.9030\n",
            "Epoch 97/100\n",
            "201/201 [==============================] - 2s 12ms/step - loss: 7.6642 - mse: 84.9768 - val_loss: 9.6625 - val_mse: 125.8066\n",
            "Epoch 98/100\n",
            "201/201 [==============================] - 2s 12ms/step - loss: 8.5307 - mse: 94.7593 - val_loss: 10.5831 - val_mse: 152.6173\n",
            "Epoch 99/100\n",
            "201/201 [==============================] - 2s 11ms/step - loss: 9.6334 - mse: 119.0996 - val_loss: 12.2748 - val_mse: 198.7869\n",
            "Epoch 100/100\n",
            "201/201 [==============================] - 2s 11ms/step - loss: 10.8710 - mse: 150.0331 - val_loss: 13.4957 - val_mse: 242.7110\n"
          ],
          "name": "stdout"
        }
      ]
    },
    {
      "cell_type": "code",
      "metadata": {
        "colab": {
          "base_uri": "https://localhost:8080/",
          "height": 291
        },
        "id": "4kBsibolmdgj",
        "outputId": "4775e23a-a464-484e-b325-978115d91e27"
      },
      "source": [
        "import matplotlib.pyplot as plt\n",
        "\n",
        "plt.semilogx(history.history[\"lr\"], history.history[\"loss\"])\n",
        "plt.axis([1e-8, 1e-4, 0, 30])"
      ],
      "execution_count": null,
      "outputs": [
        {
          "output_type": "execute_result",
          "data": {
            "text/plain": [
              "(1e-08, 0.0001, 0.0, 30.0)"
            ]
          },
          "metadata": {
            "tags": []
          },
          "execution_count": 97
        },
        {
          "output_type": "display_data",
          "data": {
            "image/png": "[encoded data removed]",
            "text/plain": [
              "<Figure size 432x288 with 1 Axes>"
            ]
          },
          "metadata": {
            "tags": [],
            "needs_background": "light"
          }
        }
      ]
    },
    {
      "cell_type": "code",
      "metadata": {
        "id": "7Z9WwY0QwhvH"
      },
      "source": [
        "model = tf.keras.models.Sequential([\n",
        "  tf.keras.layers.Conv1D(filters=32, kernel_size=5,\n",
        "                      strides=1, padding=\"causal\",\n",
        "                      activation=\"relu\",\n",
        "                      input_shape=[None, 3]),\n",
        "  tf.keras.layers.Bidirectional(tf.keras.layers.LSTM(32,return_sequences=True)),\n",
        "  #tf.keras.layers.LSTM(128),\n",
        "  tf.keras.layers.Bidirectional(tf.keras.layers.LSTM(32, return_sequences=False)),\n",
        "  #tf.keras.layers.Dropout(0.1),\n",
        "  tf.keras.layers.Dense(3),\n",
        "  tf.keras.layers.Lambda(lambda x: x * 200)\n",
        "])\n",
        "# lr_schedule = tf.keras.callbacks.LearningRateScheduler(\n",
        "#     lambda epoch: 1e-8 * 10**(epoch / 20))\n",
        "optimizer = tf.keras.optimizers.SGD(lr=1e-6, momentum=0.9)\n",
        "#optimizer = tf.keras.optimizers.Adam(lr=1e-5)\n",
        "model.compile(loss=tf.keras.losses.Huber(),\n",
        "              optimizer=optimizer,\n",
        "              metrics=[\"mse\"])\n",
        "#history = model.fit(X_train, Y_train, epochs=100, validation_data=(X_test, Y_test), callbacks=[lr_schedule])"
      ],
      "execution_count": null,
      "outputs": []
    },
    {
      "cell_type": "code",
      "metadata": {
        "colab": {
          "base_uri": "https://localhost:8080/"
        },
        "id": "yiHxvX42w40D",
        "outputId": "58bc11e7-bb71-4205-87d9-4e0615ee4440"
      },
      "source": [
        "history = model.fit(Xtrain, ytrain, epochs=100, validation_data=(Xtest, ytest))"
      ],
      "execution_count": null,
      "outputs": [
        {
          "output_type": "stream",
          "text": [
            "Epoch 1/100\n",
            "201/201 [==============================] - 3s 16ms/step - loss: 2.4710 - mse: 36.7455 - val_loss: 0.7549 - val_mse: 2.7229\n",
            "Epoch 2/100\n",
            "201/201 [==============================] - 2s 11ms/step - loss: 0.8292 - mse: 3.3901 - val_loss: 0.6038 - val_mse: 1.9552\n",
            "Epoch 3/100\n",
            "201/201 [==============================] - 3s 13ms/step - loss: 0.6556 - mse: 2.4424 - val_loss: 0.5287 - val_mse: 1.5964\n",
            "Epoch 4/100\n",
            "201/201 [==============================] - 2s 11ms/step - loss: 0.5601 - mse: 2.0002 - val_loss: 0.4866 - val_mse: 1.4447\n",
            "Epoch 5/100\n",
            "201/201 [==============================] - 2s 11ms/step - loss: 0.5063 - mse: 1.7861 - val_loss: 0.4633 - val_mse: 1.3610\n",
            "Epoch 6/100\n",
            "201/201 [==============================] - 2s 11ms/step - loss: 0.4754 - mse: 1.6648 - val_loss: 0.4461 - val_mse: 1.2957\n",
            "Epoch 7/100\n",
            "201/201 [==============================] - 2s 11ms/step - loss: 0.4508 - mse: 1.5667 - val_loss: 0.4271 - val_mse: 1.2272\n",
            "Epoch 8/100\n",
            "201/201 [==============================] - 3s 13ms/step - loss: 0.4308 - mse: 1.4828 - val_loss: 0.4096 - val_mse: 1.1658\n",
            "Epoch 9/100\n",
            "201/201 [==============================] - 2s 12ms/step - loss: 0.4143 - mse: 1.4147 - val_loss: 0.3924 - val_mse: 1.1023\n",
            "Epoch 10/100\n",
            "201/201 [==============================] - 2s 11ms/step - loss: 0.3964 - mse: 1.3363 - val_loss: 0.3760 - val_mse: 1.0413\n",
            "Epoch 11/100\n",
            "201/201 [==============================] - 2s 11ms/step - loss: 0.3811 - mse: 1.2718 - val_loss: 0.3677 - val_mse: 1.0120\n",
            "Epoch 12/100\n",
            "201/201 [==============================] - 2s 12ms/step - loss: 0.3680 - mse: 1.2169 - val_loss: 0.3489 - val_mse: 0.9430\n",
            "Epoch 13/100\n",
            "201/201 [==============================] - 2s 11ms/step - loss: 0.3540 - mse: 1.1574 - val_loss: 0.3394 - val_mse: 0.9047\n",
            "Epoch 14/100\n",
            "201/201 [==============================] - 2s 11ms/step - loss: 0.3424 - mse: 1.1063 - val_loss: 0.3277 - val_mse: 0.8572\n",
            "Epoch 15/100\n",
            "201/201 [==============================] - 2s 11ms/step - loss: 0.3288 - mse: 1.0546 - val_loss: 0.3138 - val_mse: 0.8193\n",
            "Epoch 16/100\n",
            "201/201 [==============================] - 2s 12ms/step - loss: 0.3174 - mse: 1.0078 - val_loss: 0.2988 - val_mse: 0.7660\n",
            "Epoch 17/100\n",
            "201/201 [==============================] - 2s 11ms/step - loss: 0.3064 - mse: 0.9637 - val_loss: 0.2894 - val_mse: 0.7373\n",
            "Epoch 18/100\n",
            "201/201 [==============================] - 2s 12ms/step - loss: 0.2957 - mse: 0.9216 - val_loss: 0.2769 - val_mse: 0.6947\n",
            "Epoch 19/100\n",
            "201/201 [==============================] - 2s 11ms/step - loss: 0.2852 - mse: 0.8815 - val_loss: 0.2669 - val_mse: 0.6609\n",
            "Epoch 20/100\n",
            "201/201 [==============================] - 2s 11ms/step - loss: 0.2757 - mse: 0.8451 - val_loss: 0.2586 - val_mse: 0.6337\n",
            "Epoch 21/100\n",
            "201/201 [==============================] - 2s 12ms/step - loss: 0.2660 - mse: 0.8076 - val_loss: 0.2480 - val_mse: 0.6019\n",
            "Epoch 22/100\n",
            "201/201 [==============================] - 2s 12ms/step - loss: 0.2587 - mse: 0.7801 - val_loss: 0.2425 - val_mse: 0.5872\n",
            "Epoch 23/100\n",
            "201/201 [==============================] - 2s 11ms/step - loss: 0.2505 - mse: 0.7482 - val_loss: 0.2369 - val_mse: 0.5636\n",
            "Epoch 24/100\n",
            "201/201 [==============================] - 2s 11ms/step - loss: 0.2408 - mse: 0.7144 - val_loss: 0.2263 - val_mse: 0.5366\n",
            "Epoch 25/100\n",
            "201/201 [==============================] - 2s 11ms/step - loss: 0.2346 - mse: 0.6914 - val_loss: 0.2176 - val_mse: 0.5072\n",
            "Epoch 26/100\n",
            "201/201 [==============================] - 2s 11ms/step - loss: 0.2265 - mse: 0.6625 - val_loss: 0.2088 - val_mse: 0.4848\n",
            "Epoch 27/100\n",
            "201/201 [==============================] - 2s 11ms/step - loss: 0.2205 - mse: 0.6413 - val_loss: 0.2072 - val_mse: 0.4765\n",
            "Epoch 28/100\n",
            "201/201 [==============================] - 2s 12ms/step - loss: 0.2125 - mse: 0.6132 - val_loss: 0.1951 - val_mse: 0.4469\n",
            "Epoch 29/100\n",
            "201/201 [==============================] - 2s 12ms/step - loss: 0.2054 - mse: 0.5894 - val_loss: 0.1915 - val_mse: 0.4316\n",
            "Epoch 30/100\n",
            "201/201 [==============================] - 2s 11ms/step - loss: 0.1998 - mse: 0.5691 - val_loss: 0.1817 - val_mse: 0.4081\n",
            "Epoch 31/100\n",
            "201/201 [==============================] - 2s 11ms/step - loss: 0.1922 - mse: 0.5446 - val_loss: 0.1822 - val_mse: 0.4048\n",
            "Epoch 32/100\n",
            "201/201 [==============================] - 2s 12ms/step - loss: 0.1870 - mse: 0.5260 - val_loss: 0.1702 - val_mse: 0.3777\n",
            "Epoch 33/100\n",
            "201/201 [==============================] - 2s 11ms/step - loss: 0.1813 - mse: 0.5082 - val_loss: 0.1648 - val_mse: 0.3638\n",
            "Epoch 34/100\n",
            "201/201 [==============================] - 2s 11ms/step - loss: 0.1763 - mse: 0.4900 - val_loss: 0.1590 - val_mse: 0.3484\n",
            "Epoch 35/100\n",
            "201/201 [==============================] - 2s 11ms/step - loss: 0.1706 - mse: 0.4724 - val_loss: 0.1547 - val_mse: 0.3359\n",
            "Epoch 36/100\n",
            "201/201 [==============================] - 2s 11ms/step - loss: 0.1658 - mse: 0.4567 - val_loss: 0.1523 - val_mse: 0.3323\n",
            "Epoch 37/100\n",
            "201/201 [==============================] - 2s 12ms/step - loss: 0.1604 - mse: 0.4395 - val_loss: 0.1478 - val_mse: 0.3206\n",
            "Epoch 38/100\n",
            "201/201 [==============================] - 2s 12ms/step - loss: 0.1562 - mse: 0.4254 - val_loss: 0.1421 - val_mse: 0.3055\n",
            "Epoch 39/100\n",
            "201/201 [==============================] - 2s 11ms/step - loss: 0.1511 - mse: 0.4100 - val_loss: 0.1366 - val_mse: 0.2922\n",
            "Epoch 40/100\n",
            "201/201 [==============================] - 2s 12ms/step - loss: 0.1477 - mse: 0.3988 - val_loss: 0.1349 - val_mse: 0.2862\n",
            "Epoch 41/100\n",
            "201/201 [==============================] - 2s 12ms/step - loss: 0.1433 - mse: 0.3846 - val_loss: 0.1286 - val_mse: 0.2725\n",
            "Epoch 42/100\n",
            "201/201 [==============================] - 2s 11ms/step - loss: 0.1400 - mse: 0.3748 - val_loss: 0.1256 - val_mse: 0.2644\n",
            "Epoch 43/100\n",
            "201/201 [==============================] - 2s 12ms/step - loss: 0.1357 - mse: 0.3614 - val_loss: 0.1262 - val_mse: 0.2658\n",
            "Epoch 44/100\n",
            "201/201 [==============================] - 2s 11ms/step - loss: 0.1325 - mse: 0.3507 - val_loss: 0.1195 - val_mse: 0.2510\n",
            "Epoch 45/100\n",
            "201/201 [==============================] - 2s 11ms/step - loss: 0.1296 - mse: 0.3415 - val_loss: 0.1170 - val_mse: 0.2447\n",
            "Epoch 46/100\n",
            "201/201 [==============================] - 2s 12ms/step - loss: 0.1257 - mse: 0.3309 - val_loss: 0.1143 - val_mse: 0.2379\n",
            "Epoch 47/100\n",
            "201/201 [==============================] - 2s 12ms/step - loss: 0.1228 - mse: 0.3216 - val_loss: 0.1129 - val_mse: 0.2363\n",
            "Epoch 48/100\n",
            "201/201 [==============================] - 2s 11ms/step - loss: 0.1201 - mse: 0.3136 - val_loss: 0.1134 - val_mse: 0.2344\n",
            "Epoch 49/100\n",
            "201/201 [==============================] - 2s 11ms/step - loss: 0.1175 - mse: 0.3059 - val_loss: 0.1053 - val_mse: 0.2177\n",
            "Epoch 50/100\n",
            "201/201 [==============================] - 2s 11ms/step - loss: 0.1145 - mse: 0.2965 - val_loss: 0.1052 - val_mse: 0.2183\n",
            "Epoch 51/100\n",
            "201/201 [==============================] - 2s 12ms/step - loss: 0.1125 - mse: 0.2905 - val_loss: 0.1061 - val_mse: 0.2191\n",
            "Epoch 52/100\n",
            "201/201 [==============================] - 2s 11ms/step - loss: 0.1101 - mse: 0.2836 - val_loss: 0.1006 - val_mse: 0.2075\n",
            "Epoch 53/100\n",
            "201/201 [==============================] - 2s 12ms/step - loss: 0.1075 - mse: 0.2760 - val_loss: 0.1005 - val_mse: 0.2069\n",
            "Epoch 54/100\n",
            "201/201 [==============================] - 2s 12ms/step - loss: 0.1055 - mse: 0.2695 - val_loss: 0.0969 - val_mse: 0.1983\n",
            "Epoch 55/100\n",
            "201/201 [==============================] - 2s 12ms/step - loss: 0.1034 - mse: 0.2635 - val_loss: 0.0942 - val_mse: 0.1935\n",
            "Epoch 56/100\n",
            "201/201 [==============================] - 2s 12ms/step - loss: 0.1015 - mse: 0.2579 - val_loss: 0.0923 - val_mse: 0.1888\n",
            "Epoch 57/100\n",
            "201/201 [==============================] - 2s 11ms/step - loss: 0.0995 - mse: 0.2523 - val_loss: 0.0920 - val_mse: 0.1884\n",
            "Epoch 58/100\n",
            "201/201 [==============================] - 2s 11ms/step - loss: 0.0978 - mse: 0.2472 - val_loss: 0.0902 - val_mse: 0.1849\n",
            "Epoch 59/100\n",
            "201/201 [==============================] - 2s 12ms/step - loss: 0.0959 - mse: 0.2415 - val_loss: 0.0880 - val_mse: 0.1795\n",
            "Epoch 60/100\n",
            "201/201 [==============================] - 2s 12ms/step - loss: 0.0944 - mse: 0.2369 - val_loss: 0.0890 - val_mse: 0.1825\n",
            "Epoch 61/100\n",
            "201/201 [==============================] - 2s 11ms/step - loss: 0.0929 - mse: 0.2324 - val_loss: 0.0847 - val_mse: 0.1727\n",
            "Epoch 62/100\n",
            "201/201 [==============================] - 2s 12ms/step - loss: 0.0915 - mse: 0.2281 - val_loss: 0.0844 - val_mse: 0.1718\n",
            "Epoch 63/100\n",
            "201/201 [==============================] - 2s 11ms/step - loss: 0.0897 - mse: 0.2235 - val_loss: 0.0841 - val_mse: 0.1713\n",
            "Epoch 64/100\n",
            "201/201 [==============================] - 2s 12ms/step - loss: 0.0884 - mse: 0.2192 - val_loss: 0.0830 - val_mse: 0.1695\n",
            "Epoch 65/100\n",
            "201/201 [==============================] - 2s 11ms/step - loss: 0.0872 - mse: 0.2157 - val_loss: 0.0812 - val_mse: 0.1656\n",
            "Epoch 66/100\n",
            "201/201 [==============================] - 2s 12ms/step - loss: 0.0860 - mse: 0.2123 - val_loss: 0.0811 - val_mse: 0.1650\n",
            "Epoch 67/100\n",
            "201/201 [==============================] - 2s 12ms/step - loss: 0.0846 - mse: 0.2081 - val_loss: 0.0784 - val_mse: 0.1592\n",
            "Epoch 68/100\n",
            "201/201 [==============================] - 2s 12ms/step - loss: 0.0832 - mse: 0.2046 - val_loss: 0.0783 - val_mse: 0.1593\n",
            "Epoch 69/100\n",
            "201/201 [==============================] - 2s 11ms/step - loss: 0.0819 - mse: 0.2012 - val_loss: 0.0780 - val_mse: 0.1588\n",
            "Epoch 70/100\n",
            "201/201 [==============================] - 2s 11ms/step - loss: 0.0809 - mse: 0.1978 - val_loss: 0.0749 - val_mse: 0.1520\n",
            "Epoch 71/100\n",
            "201/201 [==============================] - 2s 11ms/step - loss: 0.0797 - mse: 0.1947 - val_loss: 0.0751 - val_mse: 0.1527\n",
            "Epoch 72/100\n",
            "201/201 [==============================] - 2s 11ms/step - loss: 0.0787 - mse: 0.1919 - val_loss: 0.0735 - val_mse: 0.1493\n",
            "Epoch 73/100\n",
            "201/201 [==============================] - 2s 12ms/step - loss: 0.0777 - mse: 0.1890 - val_loss: 0.0727 - val_mse: 0.1473\n",
            "Epoch 74/100\n",
            "201/201 [==============================] - 2s 11ms/step - loss: 0.0769 - mse: 0.1865 - val_loss: 0.0716 - val_mse: 0.1450\n",
            "Epoch 75/100\n",
            "201/201 [==============================] - 2s 11ms/step - loss: 0.0757 - mse: 0.1830 - val_loss: 0.0724 - val_mse: 0.1472\n",
            "Epoch 76/100\n",
            "201/201 [==============================] - 2s 11ms/step - loss: 0.0750 - mse: 0.1814 - val_loss: 0.0701 - val_mse: 0.1421\n",
            "Epoch 77/100\n",
            "201/201 [==============================] - 2s 12ms/step - loss: 0.0738 - mse: 0.1780 - val_loss: 0.0702 - val_mse: 0.1425\n",
            "Epoch 78/100\n",
            "201/201 [==============================] - 2s 11ms/step - loss: 0.0730 - mse: 0.1759 - val_loss: 0.0696 - val_mse: 0.1408\n",
            "Epoch 79/100\n",
            "201/201 [==============================] - 2s 12ms/step - loss: 0.0722 - mse: 0.1736 - val_loss: 0.0688 - val_mse: 0.1394\n",
            "Epoch 80/100\n",
            "201/201 [==============================] - 2s 12ms/step - loss: 0.0716 - mse: 0.1718 - val_loss: 0.0720 - val_mse: 0.1466\n",
            "Epoch 81/100\n",
            "201/201 [==============================] - 2s 11ms/step - loss: 0.0709 - mse: 0.1697 - val_loss: 0.0687 - val_mse: 0.1392\n",
            "Epoch 82/100\n",
            "201/201 [==============================] - 2s 12ms/step - loss: 0.0700 - mse: 0.1675 - val_loss: 0.0672 - val_mse: 0.1362\n",
            "Epoch 83/100\n",
            "201/201 [==============================] - 2s 12ms/step - loss: 0.0690 - mse: 0.1648 - val_loss: 0.0680 - val_mse: 0.1378\n",
            "Epoch 84/100\n",
            "201/201 [==============================] - 2s 11ms/step - loss: 0.0685 - mse: 0.1632 - val_loss: 0.0654 - val_mse: 0.1324\n",
            "Epoch 85/100\n",
            "201/201 [==============================] - 2s 11ms/step - loss: 0.0676 - mse: 0.1610 - val_loss: 0.0649 - val_mse: 0.1313\n",
            "Epoch 86/100\n",
            "201/201 [==============================] - 2s 11ms/step - loss: 0.0672 - mse: 0.1595 - val_loss: 0.0658 - val_mse: 0.1335\n",
            "Epoch 87/100\n",
            "201/201 [==============================] - 2s 11ms/step - loss: 0.0664 - mse: 0.1577 - val_loss: 0.0650 - val_mse: 0.1318\n",
            "Epoch 88/100\n",
            "201/201 [==============================] - 2s 11ms/step - loss: 0.0659 - mse: 0.1562 - val_loss: 0.0670 - val_mse: 0.1361\n",
            "Epoch 89/100\n",
            "201/201 [==============================] - 2s 11ms/step - loss: 0.0655 - mse: 0.1552 - val_loss: 0.0629 - val_mse: 0.1272\n",
            "Epoch 90/100\n",
            "201/201 [==============================] - 2s 11ms/step - loss: 0.0648 - mse: 0.1531 - val_loss: 0.0629 - val_mse: 0.1273\n",
            "Epoch 91/100\n",
            "201/201 [==============================] - 2s 11ms/step - loss: 0.0643 - mse: 0.1519 - val_loss: 0.0616 - val_mse: 0.1244\n",
            "Epoch 92/100\n",
            "201/201 [==============================] - 2s 11ms/step - loss: 0.0634 - mse: 0.1495 - val_loss: 0.0613 - val_mse: 0.1238\n",
            "Epoch 93/100\n",
            "201/201 [==============================] - 2s 11ms/step - loss: 0.0629 - mse: 0.1480 - val_loss: 0.0617 - val_mse: 0.1250\n",
            "Epoch 94/100\n",
            "201/201 [==============================] - 3s 12ms/step - loss: 0.0625 - mse: 0.1469 - val_loss: 0.0614 - val_mse: 0.1243\n",
            "Epoch 95/100\n",
            "201/201 [==============================] - 2s 12ms/step - loss: 0.0620 - mse: 0.1457 - val_loss: 0.0602 - val_mse: 0.1216\n",
            "Epoch 96/100\n",
            "201/201 [==============================] - 3s 13ms/step - loss: 0.0614 - mse: 0.1441 - val_loss: 0.0605 - val_mse: 0.1222\n",
            "Epoch 97/100\n",
            "201/201 [==============================] - 2s 12ms/step - loss: 0.0611 - mse: 0.1433 - val_loss: 0.0617 - val_mse: 0.1250\n",
            "Epoch 98/100\n",
            "201/201 [==============================] - 3s 13ms/step - loss: 0.0605 - mse: 0.1415 - val_loss: 0.0590 - val_mse: 0.1193\n",
            "Epoch 99/100\n",
            "201/201 [==============================] - 2s 12ms/step - loss: 0.0602 - mse: 0.1404 - val_loss: 0.0589 - val_mse: 0.1190\n",
            "Epoch 100/100\n",
            "201/201 [==============================] - 2s 12ms/step - loss: 0.0594 - mse: 0.1389 - val_loss: 0.0589 - val_mse: 0.1190\n"
          ],
          "name": "stdout"
        }
      ]
    },
    {
      "cell_type": "code",
      "metadata": {
        "id": "1jVFKMGFxAjc"
      },
      "source": [
        "y_pred = model.predict(Xtest)\n"
      ],
      "execution_count": null,
      "outputs": []
    },
    {
      "cell_type": "code",
      "metadata": {
        "colab": {
          "base_uri": "https://localhost:8080/"
        },
        "id": "YS9ymqCWVLM4",
        "outputId": "5748df56-242a-47fc-c116-7753fcc6b887"
      },
      "source": [
        "y_pred.shape"
      ],
      "execution_count": null,
      "outputs": [
        {
          "output_type": "execute_result",
          "data": {
            "text/plain": [
              "(1584, 3)"
            ]
          },
          "metadata": {
            "tags": []
          },
          "execution_count": 101
        }
      ]
    },
    {
      "cell_type": "code",
      "metadata": {
        "colab": {
          "base_uri": "https://localhost:8080/",
          "height": 277
        },
        "id": "HgoVsL-97KOk",
        "outputId": "6baef54c-0524-4362-e0de-75d7caa897f4"
      },
      "source": [
        "plt.rc('font', family='serif')\n",
        "plt.figure()\n",
        "plt.grid()\n",
        "plt.plot(ytest[:,0], \"-b\", label=\"real\")\n",
        "plt.plot(y_pred[:,0], \"-r\", label=\"pred\")\n",
        "plt.legend()\n",
        "plt.xlabel(\"Time\")\n",
        "plt.ylabel(\"maxcpu\")\n",
        "plt.savefig('prediction.png', format='png', dpi=720)\n",
        "plt.show()"
      ],
      "execution_count": null,
      "outputs": [
        {
          "output_type": "display_data",
          "data": {
            "image/png": "[encoded data removed]",
            "text/plain": [
              "<Figure size 432x288 with 1 Axes>"
            ]
          },
          "metadata": {
            "tags": [],
            "needs_background": "light"
          }
        }
      ]
    },
    {
      "cell_type": "code",
      "metadata": {
        "id": "5OHsUuth7aGp",
        "colab": {
          "base_uri": "https://localhost:8080/",
          "height": 277
        },
        "outputId": "c477c2c7-7cfc-406f-eb41-655d5f3add53"
      },
      "source": [
        "plt.rc('font', family='serif')\n",
        "plt.figure()\n",
        "plt.grid()\n",
        "plt.plot(ytest[-48:,0], \"-b\", label=\"real\")\n",
        "plt.plot(y_pred[-48:,0], \"-r\", label=\"pred\")\n",
        "plt.legend()\n",
        "plt.xlabel(\"Time\")\n",
        "plt.ylabel(\"maxcpu\")\n",
        "plt.savefig('prediction.png', format='png', dpi=720)\n",
        "plt.show()"
      ],
      "execution_count": null,
      "outputs": [
        {
          "output_type": "display_data",
          "data": {
            "image/png": "[encoded data removed]",
            "text/plain": [
              "<Figure size 432x288 with 1 Axes>"
            ]
          },
          "metadata": {
            "tags": [],
            "needs_background": "light"
          }
        }
      ]
    },
    {
      "cell_type": "code",
      "metadata": {
        "id": "A6TxuS5aCtd9",
        "colab": {
          "base_uri": "https://localhost:8080/",
          "height": 277
        },
        "outputId": "abfd124c-8702-44d8-9c04-fd907300eb70"
      },
      "source": [
        "plt.rc('font', family='serif')\n",
        "plt.figure()\n",
        "plt.grid()\n",
        "plt.plot(ytest[:,1], \"-b\", label=\"real\")\n",
        "plt.plot(y_pred[:,1], \"-r\", label=\"pred\")\n",
        "plt.legend()\n",
        "plt.xlabel(\"Time\")\n",
        "plt.ylabel(\"corehour\")\n",
        "plt.savefig('prediction.png', format='png', dpi=720)\n",
        "plt.show()"
      ],
      "execution_count": null,
      "outputs": [
        {
          "output_type": "display_data",
          "data": {
            "image/png": "[encoded data removed]",
            "text/plain": [
              "<Figure size 432x288 with 1 Axes>"
            ]
          },
          "metadata": {
            "tags": [],
            "needs_background": "light"
          }
        }
      ]
    },
    {
      "cell_type": "code",
      "metadata": {
        "colab": {
          "base_uri": "https://localhost:8080/",
          "height": 277
        },
        "id": "Yyrxis9UV-cu",
        "outputId": "f40fa349-c622-415a-9cc4-9f5c32b699cd"
      },
      "source": [
        "plt.rc('font', family='serif')\n",
        "plt.figure()\n",
        "plt.grid()\n",
        "plt.plot(ytest[-48:,1], \"-b\", label=\"real\")\n",
        "plt.plot(y_pred[-48:,1], \"-r\", label=\"pred\")\n",
        "plt.legend()\n",
        "plt.xlabel(\"Time\")\n",
        "plt.ylabel(\"corehour\")\n",
        "plt.savefig('prediction.png', format='png', dpi=720)\n",
        "plt.show()"
      ],
      "execution_count": null,
      "outputs": [
        {
          "output_type": "display_data",
          "data": {
            "image/png": "[encoded data removed]",
            "text/plain": [
              "<Figure size 432x288 with 1 Axes>"
            ]
          },
          "metadata": {
            "tags": [],
            "needs_background": "light"
          }
        }
      ]
    },
    {
      "cell_type": "code",
      "metadata": {
        "colab": {
          "base_uri": "https://localhost:8080/",
          "height": 277
        },
        "id": "io7erssjWiR0",
        "outputId": "fa01c99c-a908-4757-ad3c-cc7ed753bac8"
      },
      "source": [
        "plt.rc('font', family='serif')\n",
        "plt.figure()\n",
        "plt.grid()\n",
        "plt.plot(ytest[:,2], \"-b\", label=\"real\")\n",
        "plt.plot(y_pred[:,2], \"-r\", label=\"pred\")\n",
        "plt.legend()\n",
        "plt.xlabel(\"Time\")\n",
        "plt.ylabel(\"lifetime\")\n",
        "plt.savefig('prediction.png', format='png', dpi=720)\n",
        "plt.show()"
      ],
      "execution_count": null,
      "outputs": [
        {
          "output_type": "display_data",
          "data": {
            "image/png": "[encoded data removed]",
            "text/plain": [
              "<Figure size 432x288 with 1 Axes>"
            ]
          },
          "metadata": {
            "tags": [],
            "needs_background": "light"
          }
        }
      ]
    },
    {
      "cell_type": "code",
      "metadata": {
        "colab": {
          "base_uri": "https://localhost:8080/",
          "height": 277
        },
        "id": "IoT9SScUWEP-",
        "outputId": "d747fd94-8eab-4209-962f-ae60578404c4"
      },
      "source": [
        "plt.rc('font', family='serif')\n",
        "plt.figure()\n",
        "plt.grid()\n",
        "plt.plot(ytest[-48:,2], \"-b\", label=\"real\")\n",
        "plt.plot(y_pred[-48:,2], \"-r\", label=\"pred\")\n",
        "plt.legend()\n",
        "plt.xlabel(\"Time\")\n",
        "plt.ylabel(\"lifetime\")\n",
        "plt.savefig('prediction.png', format='png', dpi=720)\n",
        "plt.show()"
      ],
      "execution_count": null,
      "outputs": [
        {
          "output_type": "display_data",
          "data": {
            "image/png": "[encoded data removed]",
            "text/plain": [
              "<Figure size 432x288 with 1 Axes>"
            ]
          },
          "metadata": {
            "tags": [],
            "needs_background": "light"
          }
        }
      ]
    },
    {
      "cell_type": "code",
      "metadata": {
        "id": "IQ1Tkv54W522"
      },
      "source": [
        ""
      ],
      "execution_count": null,
      "outputs": []
    }
  ]
}